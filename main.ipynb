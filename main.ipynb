{
 "cells": [
  {
   "cell_type": "code",
   "execution_count": 1,
   "metadata": {},
   "outputs": [],
   "source": [
    "import numpy as np\n",
    "import pandas as pd\n",
    "from sklearn.model_selection import train_test_split\n",
    "from sklearn.preprocessing import OneHotEncoder"
   ]
  },
  {
   "cell_type": "code",
   "execution_count": 2,
   "metadata": {},
   "outputs": [],
   "source": [
    "from IPython.core.interactiveshell import InteractiveShell\n",
    "InteractiveShell.ast_node_interactivity = \"all\""
   ]
  },
  {
   "attachments": {},
   "cell_type": "markdown",
   "metadata": {},
   "source": [
    "Read data and remove the missing feature too much"
   ]
  },
  {
   "cell_type": "code",
   "execution_count": 3,
   "metadata": {},
   "outputs": [],
   "source": [
    "path_data_train = 'D:\\house-prices-advanced-regression-techniques\\data/train.csv'\n",
    "data_train = pd.read_csv(path_data_train)\n",
    "data_train = data_train.drop(['Alley', 'PoolQC', 'Fence', 'MiscFeature'], axis=1)\n",
    "data_train = data_train.set_index('Id')"
   ]
  },
  {
   "cell_type": "code",
   "execution_count": 4,
   "metadata": {},
   "outputs": [],
   "source": [
    "path_data_test = 'D:\\house-prices-advanced-regression-techniques\\data/test.csv'\n",
    "data_test = pd.read_csv(path_data_test)\n",
    "data_test = data_test.drop(['Alley', 'PoolQC', 'Fence', 'MiscFeature'], axis=1)\n",
    "data_test = data_test.set_index('Id')"
   ]
  },
  {
   "cell_type": "code",
   "execution_count": 5,
   "metadata": {},
   "outputs": [],
   "source": [
    "x_train = data_train.loc[:, data_train.columns != 'SalePrice']\n",
    "y_train = data_train.loc[:, data_train.columns == 'SalePrice']\n",
    "x_test = data_test"
   ]
  },
  {
   "attachments": {},
   "cell_type": "markdown",
   "metadata": {},
   "source": [
    "Concat 2 dataset"
   ]
  },
  {
   "cell_type": "code",
   "execution_count": 6,
   "metadata": {},
   "outputs": [
    {
     "data": {
      "text/html": [
       "<div>\n",
       "<style scoped>\n",
       "    .dataframe tbody tr th:only-of-type {\n",
       "        vertical-align: middle;\n",
       "    }\n",
       "\n",
       "    .dataframe tbody tr th {\n",
       "        vertical-align: top;\n",
       "    }\n",
       "\n",
       "    .dataframe thead th {\n",
       "        text-align: right;\n",
       "    }\n",
       "</style>\n",
       "<table border=\"1\" class=\"dataframe\">\n",
       "  <thead>\n",
       "    <tr style=\"text-align: right;\">\n",
       "      <th></th>\n",
       "      <th>MSSubClass</th>\n",
       "      <th>MSZoning</th>\n",
       "      <th>LotFrontage</th>\n",
       "      <th>LotArea</th>\n",
       "      <th>Street</th>\n",
       "      <th>LotShape</th>\n",
       "      <th>LandContour</th>\n",
       "      <th>Utilities</th>\n",
       "      <th>LotConfig</th>\n",
       "      <th>LandSlope</th>\n",
       "      <th>...</th>\n",
       "      <th>OpenPorchSF</th>\n",
       "      <th>EnclosedPorch</th>\n",
       "      <th>3SsnPorch</th>\n",
       "      <th>ScreenPorch</th>\n",
       "      <th>PoolArea</th>\n",
       "      <th>MiscVal</th>\n",
       "      <th>MoSold</th>\n",
       "      <th>YrSold</th>\n",
       "      <th>SaleType</th>\n",
       "      <th>SaleCondition</th>\n",
       "    </tr>\n",
       "    <tr>\n",
       "      <th>Id</th>\n",
       "      <th></th>\n",
       "      <th></th>\n",
       "      <th></th>\n",
       "      <th></th>\n",
       "      <th></th>\n",
       "      <th></th>\n",
       "      <th></th>\n",
       "      <th></th>\n",
       "      <th></th>\n",
       "      <th></th>\n",
       "      <th></th>\n",
       "      <th></th>\n",
       "      <th></th>\n",
       "      <th></th>\n",
       "      <th></th>\n",
       "      <th></th>\n",
       "      <th></th>\n",
       "      <th></th>\n",
       "      <th></th>\n",
       "      <th></th>\n",
       "      <th></th>\n",
       "    </tr>\n",
       "  </thead>\n",
       "  <tbody>\n",
       "    <tr>\n",
       "      <th>1</th>\n",
       "      <td>60</td>\n",
       "      <td>RL</td>\n",
       "      <td>65.0</td>\n",
       "      <td>8450</td>\n",
       "      <td>Pave</td>\n",
       "      <td>Reg</td>\n",
       "      <td>Lvl</td>\n",
       "      <td>AllPub</td>\n",
       "      <td>Inside</td>\n",
       "      <td>Gtl</td>\n",
       "      <td>...</td>\n",
       "      <td>61</td>\n",
       "      <td>0</td>\n",
       "      <td>0</td>\n",
       "      <td>0</td>\n",
       "      <td>0</td>\n",
       "      <td>0</td>\n",
       "      <td>2</td>\n",
       "      <td>2008</td>\n",
       "      <td>WD</td>\n",
       "      <td>Normal</td>\n",
       "    </tr>\n",
       "    <tr>\n",
       "      <th>2</th>\n",
       "      <td>20</td>\n",
       "      <td>RL</td>\n",
       "      <td>80.0</td>\n",
       "      <td>9600</td>\n",
       "      <td>Pave</td>\n",
       "      <td>Reg</td>\n",
       "      <td>Lvl</td>\n",
       "      <td>AllPub</td>\n",
       "      <td>FR2</td>\n",
       "      <td>Gtl</td>\n",
       "      <td>...</td>\n",
       "      <td>0</td>\n",
       "      <td>0</td>\n",
       "      <td>0</td>\n",
       "      <td>0</td>\n",
       "      <td>0</td>\n",
       "      <td>0</td>\n",
       "      <td>5</td>\n",
       "      <td>2007</td>\n",
       "      <td>WD</td>\n",
       "      <td>Normal</td>\n",
       "    </tr>\n",
       "    <tr>\n",
       "      <th>3</th>\n",
       "      <td>60</td>\n",
       "      <td>RL</td>\n",
       "      <td>68.0</td>\n",
       "      <td>11250</td>\n",
       "      <td>Pave</td>\n",
       "      <td>IR1</td>\n",
       "      <td>Lvl</td>\n",
       "      <td>AllPub</td>\n",
       "      <td>Inside</td>\n",
       "      <td>Gtl</td>\n",
       "      <td>...</td>\n",
       "      <td>42</td>\n",
       "      <td>0</td>\n",
       "      <td>0</td>\n",
       "      <td>0</td>\n",
       "      <td>0</td>\n",
       "      <td>0</td>\n",
       "      <td>9</td>\n",
       "      <td>2008</td>\n",
       "      <td>WD</td>\n",
       "      <td>Normal</td>\n",
       "    </tr>\n",
       "    <tr>\n",
       "      <th>4</th>\n",
       "      <td>70</td>\n",
       "      <td>RL</td>\n",
       "      <td>60.0</td>\n",
       "      <td>9550</td>\n",
       "      <td>Pave</td>\n",
       "      <td>IR1</td>\n",
       "      <td>Lvl</td>\n",
       "      <td>AllPub</td>\n",
       "      <td>Corner</td>\n",
       "      <td>Gtl</td>\n",
       "      <td>...</td>\n",
       "      <td>35</td>\n",
       "      <td>272</td>\n",
       "      <td>0</td>\n",
       "      <td>0</td>\n",
       "      <td>0</td>\n",
       "      <td>0</td>\n",
       "      <td>2</td>\n",
       "      <td>2006</td>\n",
       "      <td>WD</td>\n",
       "      <td>Abnorml</td>\n",
       "    </tr>\n",
       "    <tr>\n",
       "      <th>5</th>\n",
       "      <td>60</td>\n",
       "      <td>RL</td>\n",
       "      <td>84.0</td>\n",
       "      <td>14260</td>\n",
       "      <td>Pave</td>\n",
       "      <td>IR1</td>\n",
       "      <td>Lvl</td>\n",
       "      <td>AllPub</td>\n",
       "      <td>FR2</td>\n",
       "      <td>Gtl</td>\n",
       "      <td>...</td>\n",
       "      <td>84</td>\n",
       "      <td>0</td>\n",
       "      <td>0</td>\n",
       "      <td>0</td>\n",
       "      <td>0</td>\n",
       "      <td>0</td>\n",
       "      <td>12</td>\n",
       "      <td>2008</td>\n",
       "      <td>WD</td>\n",
       "      <td>Normal</td>\n",
       "    </tr>\n",
       "  </tbody>\n",
       "</table>\n",
       "<p>5 rows × 75 columns</p>\n",
       "</div>"
      ],
      "text/plain": [
       "    MSSubClass MSZoning  LotFrontage  LotArea Street LotShape LandContour  \\\n",
       "Id                                                                          \n",
       "1           60       RL         65.0     8450   Pave      Reg         Lvl   \n",
       "2           20       RL         80.0     9600   Pave      Reg         Lvl   \n",
       "3           60       RL         68.0    11250   Pave      IR1         Lvl   \n",
       "4           70       RL         60.0     9550   Pave      IR1         Lvl   \n",
       "5           60       RL         84.0    14260   Pave      IR1         Lvl   \n",
       "\n",
       "   Utilities LotConfig LandSlope  ... OpenPorchSF EnclosedPorch 3SsnPorch  \\\n",
       "Id                                ...                                       \n",
       "1     AllPub    Inside       Gtl  ...          61             0         0   \n",
       "2     AllPub       FR2       Gtl  ...           0             0         0   \n",
       "3     AllPub    Inside       Gtl  ...          42             0         0   \n",
       "4     AllPub    Corner       Gtl  ...          35           272         0   \n",
       "5     AllPub       FR2       Gtl  ...          84             0         0   \n",
       "\n",
       "   ScreenPorch PoolArea  MiscVal  MoSold  YrSold  SaleType SaleCondition  \n",
       "Id                                                                        \n",
       "1            0        0        0       2    2008        WD        Normal  \n",
       "2            0        0        0       5    2007        WD        Normal  \n",
       "3            0        0        0       9    2008        WD        Normal  \n",
       "4            0        0        0       2    2006        WD       Abnorml  \n",
       "5            0        0        0      12    2008        WD        Normal  \n",
       "\n",
       "[5 rows x 75 columns]"
      ]
     },
     "execution_count": 6,
     "metadata": {},
     "output_type": "execute_result"
    }
   ],
   "source": [
    "data = pd.concat([x_train, x_test], axis=0)\n",
    "data.head()"
   ]
  },
  {
   "cell_type": "code",
   "execution_count": 7,
   "metadata": {},
   "outputs": [],
   "source": [
    "def check_missing(df):\n",
    "    for col in df:\n",
    "        num_missing = df[col].isnull().sum()\n",
    "        if num_missing > 0:\n",
    "            print('Col: {}| Count: {}'.format(col, num_missing))"
   ]
  },
  {
   "attachments": {},
   "cell_type": "markdown",
   "metadata": {},
   "source": [
    "Split number fetures and fill missing by interpolate"
   ]
  },
  {
   "cell_type": "code",
   "execution_count": 8,
   "metadata": {},
   "outputs": [],
   "source": [
    "data_num = data.select_dtypes(include='number')\n",
    "column_names = list(data_num.columns)"
   ]
  },
  {
   "cell_type": "code",
   "execution_count": 9,
   "metadata": {},
   "outputs": [
    {
     "data": {
      "text/plain": [
       "MinMaxScaler()"
      ]
     },
     "execution_count": 9,
     "metadata": {},
     "output_type": "execute_result"
    },
    {
     "data": {
      "text/html": [
       "<div>\n",
       "<style scoped>\n",
       "    .dataframe tbody tr th:only-of-type {\n",
       "        vertical-align: middle;\n",
       "    }\n",
       "\n",
       "    .dataframe tbody tr th {\n",
       "        vertical-align: top;\n",
       "    }\n",
       "\n",
       "    .dataframe thead th {\n",
       "        text-align: right;\n",
       "    }\n",
       "</style>\n",
       "<table border=\"1\" class=\"dataframe\">\n",
       "  <thead>\n",
       "    <tr style=\"text-align: right;\">\n",
       "      <th></th>\n",
       "      <th>MSSubClass</th>\n",
       "      <th>LotFrontage</th>\n",
       "      <th>LotArea</th>\n",
       "      <th>OverallQual</th>\n",
       "      <th>OverallCond</th>\n",
       "      <th>YearBuilt</th>\n",
       "      <th>YearRemodAdd</th>\n",
       "      <th>MasVnrArea</th>\n",
       "      <th>BsmtFinSF1</th>\n",
       "      <th>BsmtFinSF2</th>\n",
       "      <th>...</th>\n",
       "      <th>GarageArea</th>\n",
       "      <th>WoodDeckSF</th>\n",
       "      <th>OpenPorchSF</th>\n",
       "      <th>EnclosedPorch</th>\n",
       "      <th>3SsnPorch</th>\n",
       "      <th>ScreenPorch</th>\n",
       "      <th>PoolArea</th>\n",
       "      <th>MiscVal</th>\n",
       "      <th>MoSold</th>\n",
       "      <th>YrSold</th>\n",
       "    </tr>\n",
       "  </thead>\n",
       "  <tbody>\n",
       "    <tr>\n",
       "      <th>0</th>\n",
       "      <td>0.235294</td>\n",
       "      <td>0.150685</td>\n",
       "      <td>0.033420</td>\n",
       "      <td>0.666667</td>\n",
       "      <td>0.500</td>\n",
       "      <td>0.949275</td>\n",
       "      <td>0.883333</td>\n",
       "      <td>0.12250</td>\n",
       "      <td>0.125089</td>\n",
       "      <td>0.0</td>\n",
       "      <td>...</td>\n",
       "      <td>0.368280</td>\n",
       "      <td>0.000000</td>\n",
       "      <td>0.082210</td>\n",
       "      <td>0.000000</td>\n",
       "      <td>0.0</td>\n",
       "      <td>0.0</td>\n",
       "      <td>0.0</td>\n",
       "      <td>0.0</td>\n",
       "      <td>0.090909</td>\n",
       "      <td>0.50</td>\n",
       "    </tr>\n",
       "    <tr>\n",
       "      <th>1</th>\n",
       "      <td>0.000000</td>\n",
       "      <td>0.202055</td>\n",
       "      <td>0.038795</td>\n",
       "      <td>0.555556</td>\n",
       "      <td>0.875</td>\n",
       "      <td>0.753623</td>\n",
       "      <td>0.433333</td>\n",
       "      <td>0.00000</td>\n",
       "      <td>0.173281</td>\n",
       "      <td>0.0</td>\n",
       "      <td>...</td>\n",
       "      <td>0.309140</td>\n",
       "      <td>0.209270</td>\n",
       "      <td>0.000000</td>\n",
       "      <td>0.000000</td>\n",
       "      <td>0.0</td>\n",
       "      <td>0.0</td>\n",
       "      <td>0.0</td>\n",
       "      <td>0.0</td>\n",
       "      <td>0.363636</td>\n",
       "      <td>0.25</td>\n",
       "    </tr>\n",
       "    <tr>\n",
       "      <th>2</th>\n",
       "      <td>0.235294</td>\n",
       "      <td>0.160959</td>\n",
       "      <td>0.046507</td>\n",
       "      <td>0.666667</td>\n",
       "      <td>0.500</td>\n",
       "      <td>0.934783</td>\n",
       "      <td>0.866667</td>\n",
       "      <td>0.10125</td>\n",
       "      <td>0.086109</td>\n",
       "      <td>0.0</td>\n",
       "      <td>...</td>\n",
       "      <td>0.408602</td>\n",
       "      <td>0.000000</td>\n",
       "      <td>0.056604</td>\n",
       "      <td>0.000000</td>\n",
       "      <td>0.0</td>\n",
       "      <td>0.0</td>\n",
       "      <td>0.0</td>\n",
       "      <td>0.0</td>\n",
       "      <td>0.727273</td>\n",
       "      <td>0.50</td>\n",
       "    </tr>\n",
       "    <tr>\n",
       "      <th>3</th>\n",
       "      <td>0.294118</td>\n",
       "      <td>0.133562</td>\n",
       "      <td>0.038561</td>\n",
       "      <td>0.666667</td>\n",
       "      <td>0.500</td>\n",
       "      <td>0.311594</td>\n",
       "      <td>0.333333</td>\n",
       "      <td>0.00000</td>\n",
       "      <td>0.038271</td>\n",
       "      <td>0.0</td>\n",
       "      <td>...</td>\n",
       "      <td>0.431452</td>\n",
       "      <td>0.000000</td>\n",
       "      <td>0.047170</td>\n",
       "      <td>0.268775</td>\n",
       "      <td>0.0</td>\n",
       "      <td>0.0</td>\n",
       "      <td>0.0</td>\n",
       "      <td>0.0</td>\n",
       "      <td>0.090909</td>\n",
       "      <td>0.00</td>\n",
       "    </tr>\n",
       "    <tr>\n",
       "      <th>4</th>\n",
       "      <td>0.235294</td>\n",
       "      <td>0.215753</td>\n",
       "      <td>0.060576</td>\n",
       "      <td>0.777778</td>\n",
       "      <td>0.500</td>\n",
       "      <td>0.927536</td>\n",
       "      <td>0.833333</td>\n",
       "      <td>0.21875</td>\n",
       "      <td>0.116052</td>\n",
       "      <td>0.0</td>\n",
       "      <td>...</td>\n",
       "      <td>0.561828</td>\n",
       "      <td>0.134831</td>\n",
       "      <td>0.113208</td>\n",
       "      <td>0.000000</td>\n",
       "      <td>0.0</td>\n",
       "      <td>0.0</td>\n",
       "      <td>0.0</td>\n",
       "      <td>0.0</td>\n",
       "      <td>1.000000</td>\n",
       "      <td>0.50</td>\n",
       "    </tr>\n",
       "  </tbody>\n",
       "</table>\n",
       "<p>5 rows × 36 columns</p>\n",
       "</div>"
      ],
      "text/plain": [
       "   MSSubClass  LotFrontage   LotArea  OverallQual  OverallCond  YearBuilt  \\\n",
       "0    0.235294     0.150685  0.033420     0.666667        0.500   0.949275   \n",
       "1    0.000000     0.202055  0.038795     0.555556        0.875   0.753623   \n",
       "2    0.235294     0.160959  0.046507     0.666667        0.500   0.934783   \n",
       "3    0.294118     0.133562  0.038561     0.666667        0.500   0.311594   \n",
       "4    0.235294     0.215753  0.060576     0.777778        0.500   0.927536   \n",
       "\n",
       "   YearRemodAdd  MasVnrArea  BsmtFinSF1  BsmtFinSF2  ...  GarageArea  \\\n",
       "0      0.883333     0.12250    0.125089         0.0  ...    0.368280   \n",
       "1      0.433333     0.00000    0.173281         0.0  ...    0.309140   \n",
       "2      0.866667     0.10125    0.086109         0.0  ...    0.408602   \n",
       "3      0.333333     0.00000    0.038271         0.0  ...    0.431452   \n",
       "4      0.833333     0.21875    0.116052         0.0  ...    0.561828   \n",
       "\n",
       "   WoodDeckSF  OpenPorchSF  EnclosedPorch  3SsnPorch  ScreenPorch  PoolArea  \\\n",
       "0    0.000000     0.082210       0.000000        0.0          0.0       0.0   \n",
       "1    0.209270     0.000000       0.000000        0.0          0.0       0.0   \n",
       "2    0.000000     0.056604       0.000000        0.0          0.0       0.0   \n",
       "3    0.000000     0.047170       0.268775        0.0          0.0       0.0   \n",
       "4    0.134831     0.113208       0.000000        0.0          0.0       0.0   \n",
       "\n",
       "   MiscVal    MoSold  YrSold  \n",
       "0      0.0  0.090909    0.50  \n",
       "1      0.0  0.363636    0.25  \n",
       "2      0.0  0.727273    0.50  \n",
       "3      0.0  0.090909    0.00  \n",
       "4      0.0  1.000000    0.50  \n",
       "\n",
       "[5 rows x 36 columns]"
      ]
     },
     "execution_count": 9,
     "metadata": {},
     "output_type": "execute_result"
    }
   ],
   "source": [
    "from sklearn.preprocessing import MinMaxScaler\n",
    "mm_scale = MinMaxScaler()\n",
    "mm_scale.fit(data_num)\n",
    "data_num_sacle = mm_scale.transform(data_num)\n",
    "data_num_sacle = pd.DataFrame(data_num_sacle, columns=column_names)\n",
    "\n",
    "data_num_sacle.head()"
   ]
  },
  {
   "cell_type": "code",
   "execution_count": 10,
   "metadata": {},
   "outputs": [
    {
     "data": {
      "text/plain": [
       "KNNImputer()"
      ]
     },
     "execution_count": 10,
     "metadata": {},
     "output_type": "execute_result"
    },
    {
     "data": {
      "text/html": [
       "<div>\n",
       "<style scoped>\n",
       "    .dataframe tbody tr th:only-of-type {\n",
       "        vertical-align: middle;\n",
       "    }\n",
       "\n",
       "    .dataframe tbody tr th {\n",
       "        vertical-align: top;\n",
       "    }\n",
       "\n",
       "    .dataframe thead th {\n",
       "        text-align: right;\n",
       "    }\n",
       "</style>\n",
       "<table border=\"1\" class=\"dataframe\">\n",
       "  <thead>\n",
       "    <tr style=\"text-align: right;\">\n",
       "      <th></th>\n",
       "      <th>MSSubClass</th>\n",
       "      <th>LotFrontage</th>\n",
       "      <th>LotArea</th>\n",
       "      <th>OverallQual</th>\n",
       "      <th>OverallCond</th>\n",
       "      <th>YearBuilt</th>\n",
       "      <th>YearRemodAdd</th>\n",
       "      <th>MasVnrArea</th>\n",
       "      <th>BsmtFinSF1</th>\n",
       "      <th>BsmtFinSF2</th>\n",
       "      <th>...</th>\n",
       "      <th>GarageArea</th>\n",
       "      <th>WoodDeckSF</th>\n",
       "      <th>OpenPorchSF</th>\n",
       "      <th>EnclosedPorch</th>\n",
       "      <th>3SsnPorch</th>\n",
       "      <th>ScreenPorch</th>\n",
       "      <th>PoolArea</th>\n",
       "      <th>MiscVal</th>\n",
       "      <th>MoSold</th>\n",
       "      <th>YrSold</th>\n",
       "    </tr>\n",
       "  </thead>\n",
       "  <tbody>\n",
       "    <tr>\n",
       "      <th>0</th>\n",
       "      <td>0.235294</td>\n",
       "      <td>0.150685</td>\n",
       "      <td>0.033420</td>\n",
       "      <td>0.666667</td>\n",
       "      <td>0.500</td>\n",
       "      <td>0.949275</td>\n",
       "      <td>0.883333</td>\n",
       "      <td>0.12250</td>\n",
       "      <td>0.125089</td>\n",
       "      <td>0.0</td>\n",
       "      <td>...</td>\n",
       "      <td>0.368280</td>\n",
       "      <td>0.000000</td>\n",
       "      <td>0.082210</td>\n",
       "      <td>0.000000</td>\n",
       "      <td>0.0</td>\n",
       "      <td>0.0</td>\n",
       "      <td>0.0</td>\n",
       "      <td>0.000000</td>\n",
       "      <td>0.090909</td>\n",
       "      <td>0.50</td>\n",
       "    </tr>\n",
       "    <tr>\n",
       "      <th>1</th>\n",
       "      <td>0.000000</td>\n",
       "      <td>0.202055</td>\n",
       "      <td>0.038795</td>\n",
       "      <td>0.555556</td>\n",
       "      <td>0.875</td>\n",
       "      <td>0.753623</td>\n",
       "      <td>0.433333</td>\n",
       "      <td>0.00000</td>\n",
       "      <td>0.173281</td>\n",
       "      <td>0.0</td>\n",
       "      <td>...</td>\n",
       "      <td>0.309140</td>\n",
       "      <td>0.209270</td>\n",
       "      <td>0.000000</td>\n",
       "      <td>0.000000</td>\n",
       "      <td>0.0</td>\n",
       "      <td>0.0</td>\n",
       "      <td>0.0</td>\n",
       "      <td>0.000000</td>\n",
       "      <td>0.363636</td>\n",
       "      <td>0.25</td>\n",
       "    </tr>\n",
       "    <tr>\n",
       "      <th>2</th>\n",
       "      <td>0.235294</td>\n",
       "      <td>0.160959</td>\n",
       "      <td>0.046507</td>\n",
       "      <td>0.666667</td>\n",
       "      <td>0.500</td>\n",
       "      <td>0.934783</td>\n",
       "      <td>0.866667</td>\n",
       "      <td>0.10125</td>\n",
       "      <td>0.086109</td>\n",
       "      <td>0.0</td>\n",
       "      <td>...</td>\n",
       "      <td>0.408602</td>\n",
       "      <td>0.000000</td>\n",
       "      <td>0.056604</td>\n",
       "      <td>0.000000</td>\n",
       "      <td>0.0</td>\n",
       "      <td>0.0</td>\n",
       "      <td>0.0</td>\n",
       "      <td>0.000000</td>\n",
       "      <td>0.727273</td>\n",
       "      <td>0.50</td>\n",
       "    </tr>\n",
       "    <tr>\n",
       "      <th>3</th>\n",
       "      <td>0.294118</td>\n",
       "      <td>0.133562</td>\n",
       "      <td>0.038561</td>\n",
       "      <td>0.666667</td>\n",
       "      <td>0.500</td>\n",
       "      <td>0.311594</td>\n",
       "      <td>0.333333</td>\n",
       "      <td>0.00000</td>\n",
       "      <td>0.038271</td>\n",
       "      <td>0.0</td>\n",
       "      <td>...</td>\n",
       "      <td>0.431452</td>\n",
       "      <td>0.000000</td>\n",
       "      <td>0.047170</td>\n",
       "      <td>0.268775</td>\n",
       "      <td>0.0</td>\n",
       "      <td>0.0</td>\n",
       "      <td>0.0</td>\n",
       "      <td>0.000000</td>\n",
       "      <td>0.090909</td>\n",
       "      <td>0.00</td>\n",
       "    </tr>\n",
       "    <tr>\n",
       "      <th>4</th>\n",
       "      <td>0.235294</td>\n",
       "      <td>0.215753</td>\n",
       "      <td>0.060576</td>\n",
       "      <td>0.777778</td>\n",
       "      <td>0.500</td>\n",
       "      <td>0.927536</td>\n",
       "      <td>0.833333</td>\n",
       "      <td>0.21875</td>\n",
       "      <td>0.116052</td>\n",
       "      <td>0.0</td>\n",
       "      <td>...</td>\n",
       "      <td>0.561828</td>\n",
       "      <td>0.134831</td>\n",
       "      <td>0.113208</td>\n",
       "      <td>0.000000</td>\n",
       "      <td>0.0</td>\n",
       "      <td>0.0</td>\n",
       "      <td>0.0</td>\n",
       "      <td>0.000000</td>\n",
       "      <td>1.000000</td>\n",
       "      <td>0.50</td>\n",
       "    </tr>\n",
       "    <tr>\n",
       "      <th>...</th>\n",
       "      <td>...</td>\n",
       "      <td>...</td>\n",
       "      <td>...</td>\n",
       "      <td>...</td>\n",
       "      <td>...</td>\n",
       "      <td>...</td>\n",
       "      <td>...</td>\n",
       "      <td>...</td>\n",
       "      <td>...</td>\n",
       "      <td>...</td>\n",
       "      <td>...</td>\n",
       "      <td>...</td>\n",
       "      <td>...</td>\n",
       "      <td>...</td>\n",
       "      <td>...</td>\n",
       "      <td>...</td>\n",
       "      <td>...</td>\n",
       "      <td>...</td>\n",
       "      <td>...</td>\n",
       "      <td>...</td>\n",
       "      <td>...</td>\n",
       "    </tr>\n",
       "    <tr>\n",
       "      <th>2914</th>\n",
       "      <td>0.823529</td>\n",
       "      <td>0.000000</td>\n",
       "      <td>0.002973</td>\n",
       "      <td>0.333333</td>\n",
       "      <td>0.750</td>\n",
       "      <td>0.710145</td>\n",
       "      <td>0.333333</td>\n",
       "      <td>0.00000</td>\n",
       "      <td>0.000000</td>\n",
       "      <td>0.0</td>\n",
       "      <td>...</td>\n",
       "      <td>0.000000</td>\n",
       "      <td>0.000000</td>\n",
       "      <td>0.000000</td>\n",
       "      <td>0.000000</td>\n",
       "      <td>0.0</td>\n",
       "      <td>0.0</td>\n",
       "      <td>0.0</td>\n",
       "      <td>0.000000</td>\n",
       "      <td>0.454545</td>\n",
       "      <td>0.00</td>\n",
       "    </tr>\n",
       "    <tr>\n",
       "      <th>2915</th>\n",
       "      <td>0.823529</td>\n",
       "      <td>0.000000</td>\n",
       "      <td>0.002776</td>\n",
       "      <td>0.333333</td>\n",
       "      <td>0.500</td>\n",
       "      <td>0.710145</td>\n",
       "      <td>0.333333</td>\n",
       "      <td>0.00000</td>\n",
       "      <td>0.044649</td>\n",
       "      <td>0.0</td>\n",
       "      <td>...</td>\n",
       "      <td>0.192204</td>\n",
       "      <td>0.000000</td>\n",
       "      <td>0.032345</td>\n",
       "      <td>0.000000</td>\n",
       "      <td>0.0</td>\n",
       "      <td>0.0</td>\n",
       "      <td>0.0</td>\n",
       "      <td>0.000000</td>\n",
       "      <td>0.272727</td>\n",
       "      <td>0.00</td>\n",
       "    </tr>\n",
       "    <tr>\n",
       "      <th>2916</th>\n",
       "      <td>0.000000</td>\n",
       "      <td>0.476027</td>\n",
       "      <td>0.087406</td>\n",
       "      <td>0.444444</td>\n",
       "      <td>0.750</td>\n",
       "      <td>0.637681</td>\n",
       "      <td>0.766667</td>\n",
       "      <td>0.00000</td>\n",
       "      <td>0.216867</td>\n",
       "      <td>0.0</td>\n",
       "      <td>...</td>\n",
       "      <td>0.387097</td>\n",
       "      <td>0.332865</td>\n",
       "      <td>0.000000</td>\n",
       "      <td>0.000000</td>\n",
       "      <td>0.0</td>\n",
       "      <td>0.0</td>\n",
       "      <td>0.0</td>\n",
       "      <td>0.000000</td>\n",
       "      <td>0.727273</td>\n",
       "      <td>0.00</td>\n",
       "    </tr>\n",
       "    <tr>\n",
       "      <th>2917</th>\n",
       "      <td>0.382353</td>\n",
       "      <td>0.140411</td>\n",
       "      <td>0.042726</td>\n",
       "      <td>0.444444</td>\n",
       "      <td>0.500</td>\n",
       "      <td>0.869565</td>\n",
       "      <td>0.700000</td>\n",
       "      <td>0.00000</td>\n",
       "      <td>0.059709</td>\n",
       "      <td>0.0</td>\n",
       "      <td>...</td>\n",
       "      <td>0.000000</td>\n",
       "      <td>0.056180</td>\n",
       "      <td>0.043127</td>\n",
       "      <td>0.000000</td>\n",
       "      <td>0.0</td>\n",
       "      <td>0.0</td>\n",
       "      <td>0.0</td>\n",
       "      <td>0.041176</td>\n",
       "      <td>0.545455</td>\n",
       "      <td>0.00</td>\n",
       "    </tr>\n",
       "    <tr>\n",
       "      <th>2918</th>\n",
       "      <td>0.235294</td>\n",
       "      <td>0.181507</td>\n",
       "      <td>0.038921</td>\n",
       "      <td>0.666667</td>\n",
       "      <td>0.500</td>\n",
       "      <td>0.876812</td>\n",
       "      <td>0.733333</td>\n",
       "      <td>0.05875</td>\n",
       "      <td>0.134302</td>\n",
       "      <td>0.0</td>\n",
       "      <td>...</td>\n",
       "      <td>0.436828</td>\n",
       "      <td>0.133427</td>\n",
       "      <td>0.064690</td>\n",
       "      <td>0.000000</td>\n",
       "      <td>0.0</td>\n",
       "      <td>0.0</td>\n",
       "      <td>0.0</td>\n",
       "      <td>0.000000</td>\n",
       "      <td>0.909091</td>\n",
       "      <td>0.00</td>\n",
       "    </tr>\n",
       "  </tbody>\n",
       "</table>\n",
       "<p>2919 rows × 36 columns</p>\n",
       "</div>"
      ],
      "text/plain": [
       "      MSSubClass  LotFrontage   LotArea  OverallQual  OverallCond  YearBuilt  \\\n",
       "0       0.235294     0.150685  0.033420     0.666667        0.500   0.949275   \n",
       "1       0.000000     0.202055  0.038795     0.555556        0.875   0.753623   \n",
       "2       0.235294     0.160959  0.046507     0.666667        0.500   0.934783   \n",
       "3       0.294118     0.133562  0.038561     0.666667        0.500   0.311594   \n",
       "4       0.235294     0.215753  0.060576     0.777778        0.500   0.927536   \n",
       "...          ...          ...       ...          ...          ...        ...   \n",
       "2914    0.823529     0.000000  0.002973     0.333333        0.750   0.710145   \n",
       "2915    0.823529     0.000000  0.002776     0.333333        0.500   0.710145   \n",
       "2916    0.000000     0.476027  0.087406     0.444444        0.750   0.637681   \n",
       "2917    0.382353     0.140411  0.042726     0.444444        0.500   0.869565   \n",
       "2918    0.235294     0.181507  0.038921     0.666667        0.500   0.876812   \n",
       "\n",
       "      YearRemodAdd  MasVnrArea  BsmtFinSF1  BsmtFinSF2  ...  GarageArea  \\\n",
       "0         0.883333     0.12250    0.125089         0.0  ...    0.368280   \n",
       "1         0.433333     0.00000    0.173281         0.0  ...    0.309140   \n",
       "2         0.866667     0.10125    0.086109         0.0  ...    0.408602   \n",
       "3         0.333333     0.00000    0.038271         0.0  ...    0.431452   \n",
       "4         0.833333     0.21875    0.116052         0.0  ...    0.561828   \n",
       "...            ...         ...         ...         ...  ...         ...   \n",
       "2914      0.333333     0.00000    0.000000         0.0  ...    0.000000   \n",
       "2915      0.333333     0.00000    0.044649         0.0  ...    0.192204   \n",
       "2916      0.766667     0.00000    0.216867         0.0  ...    0.387097   \n",
       "2917      0.700000     0.00000    0.059709         0.0  ...    0.000000   \n",
       "2918      0.733333     0.05875    0.134302         0.0  ...    0.436828   \n",
       "\n",
       "      WoodDeckSF  OpenPorchSF  EnclosedPorch  3SsnPorch  ScreenPorch  \\\n",
       "0       0.000000     0.082210       0.000000        0.0          0.0   \n",
       "1       0.209270     0.000000       0.000000        0.0          0.0   \n",
       "2       0.000000     0.056604       0.000000        0.0          0.0   \n",
       "3       0.000000     0.047170       0.268775        0.0          0.0   \n",
       "4       0.134831     0.113208       0.000000        0.0          0.0   \n",
       "...          ...          ...            ...        ...          ...   \n",
       "2914    0.000000     0.000000       0.000000        0.0          0.0   \n",
       "2915    0.000000     0.032345       0.000000        0.0          0.0   \n",
       "2916    0.332865     0.000000       0.000000        0.0          0.0   \n",
       "2917    0.056180     0.043127       0.000000        0.0          0.0   \n",
       "2918    0.133427     0.064690       0.000000        0.0          0.0   \n",
       "\n",
       "      PoolArea   MiscVal    MoSold  YrSold  \n",
       "0          0.0  0.000000  0.090909    0.50  \n",
       "1          0.0  0.000000  0.363636    0.25  \n",
       "2          0.0  0.000000  0.727273    0.50  \n",
       "3          0.0  0.000000  0.090909    0.00  \n",
       "4          0.0  0.000000  1.000000    0.50  \n",
       "...        ...       ...       ...     ...  \n",
       "2914       0.0  0.000000  0.454545    0.00  \n",
       "2915       0.0  0.000000  0.272727    0.00  \n",
       "2916       0.0  0.000000  0.727273    0.00  \n",
       "2917       0.0  0.041176  0.545455    0.00  \n",
       "2918       0.0  0.000000  0.909091    0.00  \n",
       "\n",
       "[2919 rows x 36 columns]"
      ]
     },
     "execution_count": 10,
     "metadata": {},
     "output_type": "execute_result"
    }
   ],
   "source": [
    "from sklearn.impute import KNNImputer\n",
    "knn = KNNImputer(n_neighbors=5, add_indicator=False)\n",
    "knn.fit(data_num_sacle)\n",
    "data_num_inter = knn.transform(data_num_sacle)\n",
    "data_num_inter = pd.DataFrame(data_num_inter, columns=column_names)\n",
    "data_num_inter"
   ]
  },
  {
   "attachments": {},
   "cell_type": "markdown",
   "metadata": {},
   "source": [
    "Split categorical features and fill missing"
   ]
  },
  {
   "cell_type": "code",
   "execution_count": 11,
   "metadata": {},
   "outputs": [],
   "source": [
    "data_cate = data.select_dtypes(exclude='number')\n",
    "column_names = list(data_cate.columns)"
   ]
  },
  {
   "cell_type": "code",
   "execution_count": 12,
   "metadata": {},
   "outputs": [],
   "source": [
    "def process_missing_cate_data(data):\n",
    "    for col in data:\n",
    "        values = data[col].mode().values\n",
    "        data[col] = data[col].fillna(values[0])\n",
    "    check_missing(data)\n",
    "    return data\n",
    "    "
   ]
  },
  {
   "cell_type": "code",
   "execution_count": 13,
   "metadata": {},
   "outputs": [],
   "source": [
    "data_cate_missing =  process_missing_cate_data(data_cate)"
   ]
  },
  {
   "cell_type": "code",
   "execution_count": 14,
   "metadata": {},
   "outputs": [],
   "source": [
    "def create_onehot_encoder(df_cate):\n",
    "    onehot_encoder = OneHotEncoder()\n",
    "    for col in data_cate:\n",
    "        data_cate[col] = data_cate[col].astype('category')\n",
    "    onehot_encoder.fit(df_cate)\n",
    "    return onehot_encoder"
   ]
  },
  {
   "cell_type": "code",
   "execution_count": 15,
   "metadata": {},
   "outputs": [],
   "source": [
    "onehot_encoder = create_onehot_encoder(data_cate_missing)\n",
    "onehot_data = pd.DataFrame(onehot_encoder.transform(data_cate_missing).toarray())"
   ]
  },
  {
   "cell_type": "code",
   "execution_count": 16,
   "metadata": {},
   "outputs": [
    {
     "data": {
      "text/html": [
       "<div>\n",
       "<style scoped>\n",
       "    .dataframe tbody tr th:only-of-type {\n",
       "        vertical-align: middle;\n",
       "    }\n",
       "\n",
       "    .dataframe tbody tr th {\n",
       "        vertical-align: top;\n",
       "    }\n",
       "\n",
       "    .dataframe thead th {\n",
       "        text-align: right;\n",
       "    }\n",
       "</style>\n",
       "<table border=\"1\" class=\"dataframe\">\n",
       "  <thead>\n",
       "    <tr style=\"text-align: right;\">\n",
       "      <th></th>\n",
       "      <th>0</th>\n",
       "      <th>1</th>\n",
       "      <th>2</th>\n",
       "      <th>3</th>\n",
       "      <th>4</th>\n",
       "      <th>5</th>\n",
       "      <th>6</th>\n",
       "      <th>7</th>\n",
       "      <th>8</th>\n",
       "      <th>9</th>\n",
       "      <th>...</th>\n",
       "      <th>229</th>\n",
       "      <th>230</th>\n",
       "      <th>231</th>\n",
       "      <th>232</th>\n",
       "      <th>233</th>\n",
       "      <th>234</th>\n",
       "      <th>235</th>\n",
       "      <th>236</th>\n",
       "      <th>237</th>\n",
       "      <th>238</th>\n",
       "    </tr>\n",
       "  </thead>\n",
       "  <tbody>\n",
       "    <tr>\n",
       "      <th>0</th>\n",
       "      <td>0.0</td>\n",
       "      <td>0.0</td>\n",
       "      <td>0.0</td>\n",
       "      <td>1.0</td>\n",
       "      <td>0.0</td>\n",
       "      <td>0.0</td>\n",
       "      <td>1.0</td>\n",
       "      <td>0.0</td>\n",
       "      <td>0.0</td>\n",
       "      <td>0.0</td>\n",
       "      <td>...</td>\n",
       "      <td>0.0</td>\n",
       "      <td>0.0</td>\n",
       "      <td>0.0</td>\n",
       "      <td>1.0</td>\n",
       "      <td>0.0</td>\n",
       "      <td>0.0</td>\n",
       "      <td>0.0</td>\n",
       "      <td>0.0</td>\n",
       "      <td>1.0</td>\n",
       "      <td>0.0</td>\n",
       "    </tr>\n",
       "    <tr>\n",
       "      <th>1</th>\n",
       "      <td>0.0</td>\n",
       "      <td>0.0</td>\n",
       "      <td>0.0</td>\n",
       "      <td>1.0</td>\n",
       "      <td>0.0</td>\n",
       "      <td>0.0</td>\n",
       "      <td>1.0</td>\n",
       "      <td>0.0</td>\n",
       "      <td>0.0</td>\n",
       "      <td>0.0</td>\n",
       "      <td>...</td>\n",
       "      <td>0.0</td>\n",
       "      <td>0.0</td>\n",
       "      <td>0.0</td>\n",
       "      <td>1.0</td>\n",
       "      <td>0.0</td>\n",
       "      <td>0.0</td>\n",
       "      <td>0.0</td>\n",
       "      <td>0.0</td>\n",
       "      <td>1.0</td>\n",
       "      <td>0.0</td>\n",
       "    </tr>\n",
       "    <tr>\n",
       "      <th>2</th>\n",
       "      <td>0.0</td>\n",
       "      <td>0.0</td>\n",
       "      <td>0.0</td>\n",
       "      <td>1.0</td>\n",
       "      <td>0.0</td>\n",
       "      <td>0.0</td>\n",
       "      <td>1.0</td>\n",
       "      <td>1.0</td>\n",
       "      <td>0.0</td>\n",
       "      <td>0.0</td>\n",
       "      <td>...</td>\n",
       "      <td>0.0</td>\n",
       "      <td>0.0</td>\n",
       "      <td>0.0</td>\n",
       "      <td>1.0</td>\n",
       "      <td>0.0</td>\n",
       "      <td>0.0</td>\n",
       "      <td>0.0</td>\n",
       "      <td>0.0</td>\n",
       "      <td>1.0</td>\n",
       "      <td>0.0</td>\n",
       "    </tr>\n",
       "    <tr>\n",
       "      <th>3</th>\n",
       "      <td>0.0</td>\n",
       "      <td>0.0</td>\n",
       "      <td>0.0</td>\n",
       "      <td>1.0</td>\n",
       "      <td>0.0</td>\n",
       "      <td>0.0</td>\n",
       "      <td>1.0</td>\n",
       "      <td>1.0</td>\n",
       "      <td>0.0</td>\n",
       "      <td>0.0</td>\n",
       "      <td>...</td>\n",
       "      <td>0.0</td>\n",
       "      <td>0.0</td>\n",
       "      <td>0.0</td>\n",
       "      <td>1.0</td>\n",
       "      <td>1.0</td>\n",
       "      <td>0.0</td>\n",
       "      <td>0.0</td>\n",
       "      <td>0.0</td>\n",
       "      <td>0.0</td>\n",
       "      <td>0.0</td>\n",
       "    </tr>\n",
       "    <tr>\n",
       "      <th>4</th>\n",
       "      <td>0.0</td>\n",
       "      <td>0.0</td>\n",
       "      <td>0.0</td>\n",
       "      <td>1.0</td>\n",
       "      <td>0.0</td>\n",
       "      <td>0.0</td>\n",
       "      <td>1.0</td>\n",
       "      <td>1.0</td>\n",
       "      <td>0.0</td>\n",
       "      <td>0.0</td>\n",
       "      <td>...</td>\n",
       "      <td>0.0</td>\n",
       "      <td>0.0</td>\n",
       "      <td>0.0</td>\n",
       "      <td>1.0</td>\n",
       "      <td>0.0</td>\n",
       "      <td>0.0</td>\n",
       "      <td>0.0</td>\n",
       "      <td>0.0</td>\n",
       "      <td>1.0</td>\n",
       "      <td>0.0</td>\n",
       "    </tr>\n",
       "    <tr>\n",
       "      <th>...</th>\n",
       "      <td>...</td>\n",
       "      <td>...</td>\n",
       "      <td>...</td>\n",
       "      <td>...</td>\n",
       "      <td>...</td>\n",
       "      <td>...</td>\n",
       "      <td>...</td>\n",
       "      <td>...</td>\n",
       "      <td>...</td>\n",
       "      <td>...</td>\n",
       "      <td>...</td>\n",
       "      <td>...</td>\n",
       "      <td>...</td>\n",
       "      <td>...</td>\n",
       "      <td>...</td>\n",
       "      <td>...</td>\n",
       "      <td>...</td>\n",
       "      <td>...</td>\n",
       "      <td>...</td>\n",
       "      <td>...</td>\n",
       "      <td>...</td>\n",
       "    </tr>\n",
       "    <tr>\n",
       "      <th>2914</th>\n",
       "      <td>0.0</td>\n",
       "      <td>0.0</td>\n",
       "      <td>0.0</td>\n",
       "      <td>0.0</td>\n",
       "      <td>1.0</td>\n",
       "      <td>0.0</td>\n",
       "      <td>1.0</td>\n",
       "      <td>0.0</td>\n",
       "      <td>0.0</td>\n",
       "      <td>0.0</td>\n",
       "      <td>...</td>\n",
       "      <td>0.0</td>\n",
       "      <td>0.0</td>\n",
       "      <td>0.0</td>\n",
       "      <td>1.0</td>\n",
       "      <td>0.0</td>\n",
       "      <td>0.0</td>\n",
       "      <td>0.0</td>\n",
       "      <td>0.0</td>\n",
       "      <td>1.0</td>\n",
       "      <td>0.0</td>\n",
       "    </tr>\n",
       "    <tr>\n",
       "      <th>2915</th>\n",
       "      <td>0.0</td>\n",
       "      <td>0.0</td>\n",
       "      <td>0.0</td>\n",
       "      <td>0.0</td>\n",
       "      <td>1.0</td>\n",
       "      <td>0.0</td>\n",
       "      <td>1.0</td>\n",
       "      <td>0.0</td>\n",
       "      <td>0.0</td>\n",
       "      <td>0.0</td>\n",
       "      <td>...</td>\n",
       "      <td>0.0</td>\n",
       "      <td>0.0</td>\n",
       "      <td>0.0</td>\n",
       "      <td>1.0</td>\n",
       "      <td>1.0</td>\n",
       "      <td>0.0</td>\n",
       "      <td>0.0</td>\n",
       "      <td>0.0</td>\n",
       "      <td>0.0</td>\n",
       "      <td>0.0</td>\n",
       "    </tr>\n",
       "    <tr>\n",
       "      <th>2916</th>\n",
       "      <td>0.0</td>\n",
       "      <td>0.0</td>\n",
       "      <td>0.0</td>\n",
       "      <td>1.0</td>\n",
       "      <td>0.0</td>\n",
       "      <td>0.0</td>\n",
       "      <td>1.0</td>\n",
       "      <td>0.0</td>\n",
       "      <td>0.0</td>\n",
       "      <td>0.0</td>\n",
       "      <td>...</td>\n",
       "      <td>0.0</td>\n",
       "      <td>0.0</td>\n",
       "      <td>0.0</td>\n",
       "      <td>1.0</td>\n",
       "      <td>1.0</td>\n",
       "      <td>0.0</td>\n",
       "      <td>0.0</td>\n",
       "      <td>0.0</td>\n",
       "      <td>0.0</td>\n",
       "      <td>0.0</td>\n",
       "    </tr>\n",
       "    <tr>\n",
       "      <th>2917</th>\n",
       "      <td>0.0</td>\n",
       "      <td>0.0</td>\n",
       "      <td>0.0</td>\n",
       "      <td>1.0</td>\n",
       "      <td>0.0</td>\n",
       "      <td>0.0</td>\n",
       "      <td>1.0</td>\n",
       "      <td>0.0</td>\n",
       "      <td>0.0</td>\n",
       "      <td>0.0</td>\n",
       "      <td>...</td>\n",
       "      <td>0.0</td>\n",
       "      <td>0.0</td>\n",
       "      <td>0.0</td>\n",
       "      <td>1.0</td>\n",
       "      <td>0.0</td>\n",
       "      <td>0.0</td>\n",
       "      <td>0.0</td>\n",
       "      <td>0.0</td>\n",
       "      <td>1.0</td>\n",
       "      <td>0.0</td>\n",
       "    </tr>\n",
       "    <tr>\n",
       "      <th>2918</th>\n",
       "      <td>0.0</td>\n",
       "      <td>0.0</td>\n",
       "      <td>0.0</td>\n",
       "      <td>1.0</td>\n",
       "      <td>0.0</td>\n",
       "      <td>0.0</td>\n",
       "      <td>1.0</td>\n",
       "      <td>0.0</td>\n",
       "      <td>0.0</td>\n",
       "      <td>0.0</td>\n",
       "      <td>...</td>\n",
       "      <td>0.0</td>\n",
       "      <td>0.0</td>\n",
       "      <td>0.0</td>\n",
       "      <td>1.0</td>\n",
       "      <td>0.0</td>\n",
       "      <td>0.0</td>\n",
       "      <td>0.0</td>\n",
       "      <td>0.0</td>\n",
       "      <td>1.0</td>\n",
       "      <td>0.0</td>\n",
       "    </tr>\n",
       "  </tbody>\n",
       "</table>\n",
       "<p>2919 rows × 239 columns</p>\n",
       "</div>"
      ],
      "text/plain": [
       "      0    1    2    3    4    5    6    7    8    9    ...  229  230  231  \\\n",
       "0     0.0  0.0  0.0  1.0  0.0  0.0  1.0  0.0  0.0  0.0  ...  0.0  0.0  0.0   \n",
       "1     0.0  0.0  0.0  1.0  0.0  0.0  1.0  0.0  0.0  0.0  ...  0.0  0.0  0.0   \n",
       "2     0.0  0.0  0.0  1.0  0.0  0.0  1.0  1.0  0.0  0.0  ...  0.0  0.0  0.0   \n",
       "3     0.0  0.0  0.0  1.0  0.0  0.0  1.0  1.0  0.0  0.0  ...  0.0  0.0  0.0   \n",
       "4     0.0  0.0  0.0  1.0  0.0  0.0  1.0  1.0  0.0  0.0  ...  0.0  0.0  0.0   \n",
       "...   ...  ...  ...  ...  ...  ...  ...  ...  ...  ...  ...  ...  ...  ...   \n",
       "2914  0.0  0.0  0.0  0.0  1.0  0.0  1.0  0.0  0.0  0.0  ...  0.0  0.0  0.0   \n",
       "2915  0.0  0.0  0.0  0.0  1.0  0.0  1.0  0.0  0.0  0.0  ...  0.0  0.0  0.0   \n",
       "2916  0.0  0.0  0.0  1.0  0.0  0.0  1.0  0.0  0.0  0.0  ...  0.0  0.0  0.0   \n",
       "2917  0.0  0.0  0.0  1.0  0.0  0.0  1.0  0.0  0.0  0.0  ...  0.0  0.0  0.0   \n",
       "2918  0.0  0.0  0.0  1.0  0.0  0.0  1.0  0.0  0.0  0.0  ...  0.0  0.0  0.0   \n",
       "\n",
       "      232  233  234  235  236  237  238  \n",
       "0     1.0  0.0  0.0  0.0  0.0  1.0  0.0  \n",
       "1     1.0  0.0  0.0  0.0  0.0  1.0  0.0  \n",
       "2     1.0  0.0  0.0  0.0  0.0  1.0  0.0  \n",
       "3     1.0  1.0  0.0  0.0  0.0  0.0  0.0  \n",
       "4     1.0  0.0  0.0  0.0  0.0  1.0  0.0  \n",
       "...   ...  ...  ...  ...  ...  ...  ...  \n",
       "2914  1.0  0.0  0.0  0.0  0.0  1.0  0.0  \n",
       "2915  1.0  1.0  0.0  0.0  0.0  0.0  0.0  \n",
       "2916  1.0  1.0  0.0  0.0  0.0  0.0  0.0  \n",
       "2917  1.0  0.0  0.0  0.0  0.0  1.0  0.0  \n",
       "2918  1.0  0.0  0.0  0.0  0.0  1.0  0.0  \n",
       "\n",
       "[2919 rows x 239 columns]"
      ]
     },
     "execution_count": 16,
     "metadata": {},
     "output_type": "execute_result"
    },
    {
     "data": {
      "text/html": [
       "<div>\n",
       "<style scoped>\n",
       "    .dataframe tbody tr th:only-of-type {\n",
       "        vertical-align: middle;\n",
       "    }\n",
       "\n",
       "    .dataframe tbody tr th {\n",
       "        vertical-align: top;\n",
       "    }\n",
       "\n",
       "    .dataframe thead th {\n",
       "        text-align: right;\n",
       "    }\n",
       "</style>\n",
       "<table border=\"1\" class=\"dataframe\">\n",
       "  <thead>\n",
       "    <tr style=\"text-align: right;\">\n",
       "      <th></th>\n",
       "      <th>MSSubClass</th>\n",
       "      <th>LotFrontage</th>\n",
       "      <th>LotArea</th>\n",
       "      <th>OverallQual</th>\n",
       "      <th>OverallCond</th>\n",
       "      <th>YearBuilt</th>\n",
       "      <th>YearRemodAdd</th>\n",
       "      <th>MasVnrArea</th>\n",
       "      <th>BsmtFinSF1</th>\n",
       "      <th>BsmtFinSF2</th>\n",
       "      <th>...</th>\n",
       "      <th>GarageArea</th>\n",
       "      <th>WoodDeckSF</th>\n",
       "      <th>OpenPorchSF</th>\n",
       "      <th>EnclosedPorch</th>\n",
       "      <th>3SsnPorch</th>\n",
       "      <th>ScreenPorch</th>\n",
       "      <th>PoolArea</th>\n",
       "      <th>MiscVal</th>\n",
       "      <th>MoSold</th>\n",
       "      <th>YrSold</th>\n",
       "    </tr>\n",
       "  </thead>\n",
       "  <tbody>\n",
       "    <tr>\n",
       "      <th>0</th>\n",
       "      <td>0.235294</td>\n",
       "      <td>0.150685</td>\n",
       "      <td>0.033420</td>\n",
       "      <td>0.666667</td>\n",
       "      <td>0.500</td>\n",
       "      <td>0.949275</td>\n",
       "      <td>0.883333</td>\n",
       "      <td>0.12250</td>\n",
       "      <td>0.125089</td>\n",
       "      <td>0.0</td>\n",
       "      <td>...</td>\n",
       "      <td>0.368280</td>\n",
       "      <td>0.000000</td>\n",
       "      <td>0.082210</td>\n",
       "      <td>0.000000</td>\n",
       "      <td>0.0</td>\n",
       "      <td>0.0</td>\n",
       "      <td>0.0</td>\n",
       "      <td>0.000000</td>\n",
       "      <td>0.090909</td>\n",
       "      <td>0.50</td>\n",
       "    </tr>\n",
       "    <tr>\n",
       "      <th>1</th>\n",
       "      <td>0.000000</td>\n",
       "      <td>0.202055</td>\n",
       "      <td>0.038795</td>\n",
       "      <td>0.555556</td>\n",
       "      <td>0.875</td>\n",
       "      <td>0.753623</td>\n",
       "      <td>0.433333</td>\n",
       "      <td>0.00000</td>\n",
       "      <td>0.173281</td>\n",
       "      <td>0.0</td>\n",
       "      <td>...</td>\n",
       "      <td>0.309140</td>\n",
       "      <td>0.209270</td>\n",
       "      <td>0.000000</td>\n",
       "      <td>0.000000</td>\n",
       "      <td>0.0</td>\n",
       "      <td>0.0</td>\n",
       "      <td>0.0</td>\n",
       "      <td>0.000000</td>\n",
       "      <td>0.363636</td>\n",
       "      <td>0.25</td>\n",
       "    </tr>\n",
       "    <tr>\n",
       "      <th>2</th>\n",
       "      <td>0.235294</td>\n",
       "      <td>0.160959</td>\n",
       "      <td>0.046507</td>\n",
       "      <td>0.666667</td>\n",
       "      <td>0.500</td>\n",
       "      <td>0.934783</td>\n",
       "      <td>0.866667</td>\n",
       "      <td>0.10125</td>\n",
       "      <td>0.086109</td>\n",
       "      <td>0.0</td>\n",
       "      <td>...</td>\n",
       "      <td>0.408602</td>\n",
       "      <td>0.000000</td>\n",
       "      <td>0.056604</td>\n",
       "      <td>0.000000</td>\n",
       "      <td>0.0</td>\n",
       "      <td>0.0</td>\n",
       "      <td>0.0</td>\n",
       "      <td>0.000000</td>\n",
       "      <td>0.727273</td>\n",
       "      <td>0.50</td>\n",
       "    </tr>\n",
       "    <tr>\n",
       "      <th>3</th>\n",
       "      <td>0.294118</td>\n",
       "      <td>0.133562</td>\n",
       "      <td>0.038561</td>\n",
       "      <td>0.666667</td>\n",
       "      <td>0.500</td>\n",
       "      <td>0.311594</td>\n",
       "      <td>0.333333</td>\n",
       "      <td>0.00000</td>\n",
       "      <td>0.038271</td>\n",
       "      <td>0.0</td>\n",
       "      <td>...</td>\n",
       "      <td>0.431452</td>\n",
       "      <td>0.000000</td>\n",
       "      <td>0.047170</td>\n",
       "      <td>0.268775</td>\n",
       "      <td>0.0</td>\n",
       "      <td>0.0</td>\n",
       "      <td>0.0</td>\n",
       "      <td>0.000000</td>\n",
       "      <td>0.090909</td>\n",
       "      <td>0.00</td>\n",
       "    </tr>\n",
       "    <tr>\n",
       "      <th>4</th>\n",
       "      <td>0.235294</td>\n",
       "      <td>0.215753</td>\n",
       "      <td>0.060576</td>\n",
       "      <td>0.777778</td>\n",
       "      <td>0.500</td>\n",
       "      <td>0.927536</td>\n",
       "      <td>0.833333</td>\n",
       "      <td>0.21875</td>\n",
       "      <td>0.116052</td>\n",
       "      <td>0.0</td>\n",
       "      <td>...</td>\n",
       "      <td>0.561828</td>\n",
       "      <td>0.134831</td>\n",
       "      <td>0.113208</td>\n",
       "      <td>0.000000</td>\n",
       "      <td>0.0</td>\n",
       "      <td>0.0</td>\n",
       "      <td>0.0</td>\n",
       "      <td>0.000000</td>\n",
       "      <td>1.000000</td>\n",
       "      <td>0.50</td>\n",
       "    </tr>\n",
       "    <tr>\n",
       "      <th>...</th>\n",
       "      <td>...</td>\n",
       "      <td>...</td>\n",
       "      <td>...</td>\n",
       "      <td>...</td>\n",
       "      <td>...</td>\n",
       "      <td>...</td>\n",
       "      <td>...</td>\n",
       "      <td>...</td>\n",
       "      <td>...</td>\n",
       "      <td>...</td>\n",
       "      <td>...</td>\n",
       "      <td>...</td>\n",
       "      <td>...</td>\n",
       "      <td>...</td>\n",
       "      <td>...</td>\n",
       "      <td>...</td>\n",
       "      <td>...</td>\n",
       "      <td>...</td>\n",
       "      <td>...</td>\n",
       "      <td>...</td>\n",
       "      <td>...</td>\n",
       "    </tr>\n",
       "    <tr>\n",
       "      <th>2914</th>\n",
       "      <td>0.823529</td>\n",
       "      <td>0.000000</td>\n",
       "      <td>0.002973</td>\n",
       "      <td>0.333333</td>\n",
       "      <td>0.750</td>\n",
       "      <td>0.710145</td>\n",
       "      <td>0.333333</td>\n",
       "      <td>0.00000</td>\n",
       "      <td>0.000000</td>\n",
       "      <td>0.0</td>\n",
       "      <td>...</td>\n",
       "      <td>0.000000</td>\n",
       "      <td>0.000000</td>\n",
       "      <td>0.000000</td>\n",
       "      <td>0.000000</td>\n",
       "      <td>0.0</td>\n",
       "      <td>0.0</td>\n",
       "      <td>0.0</td>\n",
       "      <td>0.000000</td>\n",
       "      <td>0.454545</td>\n",
       "      <td>0.00</td>\n",
       "    </tr>\n",
       "    <tr>\n",
       "      <th>2915</th>\n",
       "      <td>0.823529</td>\n",
       "      <td>0.000000</td>\n",
       "      <td>0.002776</td>\n",
       "      <td>0.333333</td>\n",
       "      <td>0.500</td>\n",
       "      <td>0.710145</td>\n",
       "      <td>0.333333</td>\n",
       "      <td>0.00000</td>\n",
       "      <td>0.044649</td>\n",
       "      <td>0.0</td>\n",
       "      <td>...</td>\n",
       "      <td>0.192204</td>\n",
       "      <td>0.000000</td>\n",
       "      <td>0.032345</td>\n",
       "      <td>0.000000</td>\n",
       "      <td>0.0</td>\n",
       "      <td>0.0</td>\n",
       "      <td>0.0</td>\n",
       "      <td>0.000000</td>\n",
       "      <td>0.272727</td>\n",
       "      <td>0.00</td>\n",
       "    </tr>\n",
       "    <tr>\n",
       "      <th>2916</th>\n",
       "      <td>0.000000</td>\n",
       "      <td>0.476027</td>\n",
       "      <td>0.087406</td>\n",
       "      <td>0.444444</td>\n",
       "      <td>0.750</td>\n",
       "      <td>0.637681</td>\n",
       "      <td>0.766667</td>\n",
       "      <td>0.00000</td>\n",
       "      <td>0.216867</td>\n",
       "      <td>0.0</td>\n",
       "      <td>...</td>\n",
       "      <td>0.387097</td>\n",
       "      <td>0.332865</td>\n",
       "      <td>0.000000</td>\n",
       "      <td>0.000000</td>\n",
       "      <td>0.0</td>\n",
       "      <td>0.0</td>\n",
       "      <td>0.0</td>\n",
       "      <td>0.000000</td>\n",
       "      <td>0.727273</td>\n",
       "      <td>0.00</td>\n",
       "    </tr>\n",
       "    <tr>\n",
       "      <th>2917</th>\n",
       "      <td>0.382353</td>\n",
       "      <td>0.140411</td>\n",
       "      <td>0.042726</td>\n",
       "      <td>0.444444</td>\n",
       "      <td>0.500</td>\n",
       "      <td>0.869565</td>\n",
       "      <td>0.700000</td>\n",
       "      <td>0.00000</td>\n",
       "      <td>0.059709</td>\n",
       "      <td>0.0</td>\n",
       "      <td>...</td>\n",
       "      <td>0.000000</td>\n",
       "      <td>0.056180</td>\n",
       "      <td>0.043127</td>\n",
       "      <td>0.000000</td>\n",
       "      <td>0.0</td>\n",
       "      <td>0.0</td>\n",
       "      <td>0.0</td>\n",
       "      <td>0.041176</td>\n",
       "      <td>0.545455</td>\n",
       "      <td>0.00</td>\n",
       "    </tr>\n",
       "    <tr>\n",
       "      <th>2918</th>\n",
       "      <td>0.235294</td>\n",
       "      <td>0.181507</td>\n",
       "      <td>0.038921</td>\n",
       "      <td>0.666667</td>\n",
       "      <td>0.500</td>\n",
       "      <td>0.876812</td>\n",
       "      <td>0.733333</td>\n",
       "      <td>0.05875</td>\n",
       "      <td>0.134302</td>\n",
       "      <td>0.0</td>\n",
       "      <td>...</td>\n",
       "      <td>0.436828</td>\n",
       "      <td>0.133427</td>\n",
       "      <td>0.064690</td>\n",
       "      <td>0.000000</td>\n",
       "      <td>0.0</td>\n",
       "      <td>0.0</td>\n",
       "      <td>0.0</td>\n",
       "      <td>0.000000</td>\n",
       "      <td>0.909091</td>\n",
       "      <td>0.00</td>\n",
       "    </tr>\n",
       "  </tbody>\n",
       "</table>\n",
       "<p>2919 rows × 36 columns</p>\n",
       "</div>"
      ],
      "text/plain": [
       "      MSSubClass  LotFrontage   LotArea  OverallQual  OverallCond  YearBuilt  \\\n",
       "0       0.235294     0.150685  0.033420     0.666667        0.500   0.949275   \n",
       "1       0.000000     0.202055  0.038795     0.555556        0.875   0.753623   \n",
       "2       0.235294     0.160959  0.046507     0.666667        0.500   0.934783   \n",
       "3       0.294118     0.133562  0.038561     0.666667        0.500   0.311594   \n",
       "4       0.235294     0.215753  0.060576     0.777778        0.500   0.927536   \n",
       "...          ...          ...       ...          ...          ...        ...   \n",
       "2914    0.823529     0.000000  0.002973     0.333333        0.750   0.710145   \n",
       "2915    0.823529     0.000000  0.002776     0.333333        0.500   0.710145   \n",
       "2916    0.000000     0.476027  0.087406     0.444444        0.750   0.637681   \n",
       "2917    0.382353     0.140411  0.042726     0.444444        0.500   0.869565   \n",
       "2918    0.235294     0.181507  0.038921     0.666667        0.500   0.876812   \n",
       "\n",
       "      YearRemodAdd  MasVnrArea  BsmtFinSF1  BsmtFinSF2  ...  GarageArea  \\\n",
       "0         0.883333     0.12250    0.125089         0.0  ...    0.368280   \n",
       "1         0.433333     0.00000    0.173281         0.0  ...    0.309140   \n",
       "2         0.866667     0.10125    0.086109         0.0  ...    0.408602   \n",
       "3         0.333333     0.00000    0.038271         0.0  ...    0.431452   \n",
       "4         0.833333     0.21875    0.116052         0.0  ...    0.561828   \n",
       "...            ...         ...         ...         ...  ...         ...   \n",
       "2914      0.333333     0.00000    0.000000         0.0  ...    0.000000   \n",
       "2915      0.333333     0.00000    0.044649         0.0  ...    0.192204   \n",
       "2916      0.766667     0.00000    0.216867         0.0  ...    0.387097   \n",
       "2917      0.700000     0.00000    0.059709         0.0  ...    0.000000   \n",
       "2918      0.733333     0.05875    0.134302         0.0  ...    0.436828   \n",
       "\n",
       "      WoodDeckSF  OpenPorchSF  EnclosedPorch  3SsnPorch  ScreenPorch  \\\n",
       "0       0.000000     0.082210       0.000000        0.0          0.0   \n",
       "1       0.209270     0.000000       0.000000        0.0          0.0   \n",
       "2       0.000000     0.056604       0.000000        0.0          0.0   \n",
       "3       0.000000     0.047170       0.268775        0.0          0.0   \n",
       "4       0.134831     0.113208       0.000000        0.0          0.0   \n",
       "...          ...          ...            ...        ...          ...   \n",
       "2914    0.000000     0.000000       0.000000        0.0          0.0   \n",
       "2915    0.000000     0.032345       0.000000        0.0          0.0   \n",
       "2916    0.332865     0.000000       0.000000        0.0          0.0   \n",
       "2917    0.056180     0.043127       0.000000        0.0          0.0   \n",
       "2918    0.133427     0.064690       0.000000        0.0          0.0   \n",
       "\n",
       "      PoolArea   MiscVal    MoSold  YrSold  \n",
       "0          0.0  0.000000  0.090909    0.50  \n",
       "1          0.0  0.000000  0.363636    0.25  \n",
       "2          0.0  0.000000  0.727273    0.50  \n",
       "3          0.0  0.000000  0.090909    0.00  \n",
       "4          0.0  0.000000  1.000000    0.50  \n",
       "...        ...       ...       ...     ...  \n",
       "2914       0.0  0.000000  0.454545    0.00  \n",
       "2915       0.0  0.000000  0.272727    0.00  \n",
       "2916       0.0  0.000000  0.727273    0.00  \n",
       "2917       0.0  0.041176  0.545455    0.00  \n",
       "2918       0.0  0.000000  0.909091    0.00  \n",
       "\n",
       "[2919 rows x 36 columns]"
      ]
     },
     "execution_count": 16,
     "metadata": {},
     "output_type": "execute_result"
    }
   ],
   "source": [
    "onehot_data\n",
    "data_num_inter"
   ]
  },
  {
   "cell_type": "code",
   "execution_count": 17,
   "metadata": {},
   "outputs": [],
   "source": [
    "id_split = 1460"
   ]
  },
  {
   "cell_type": "code",
   "execution_count": 18,
   "metadata": {},
   "outputs": [],
   "source": [
    "x_train_num = data_num_inter.iloc[data_num_inter.index < id_split]\n",
    "x_test_num = data_num_inter.iloc[data_num_inter.index >= id_split]"
   ]
  },
  {
   "cell_type": "code",
   "execution_count": 19,
   "metadata": {},
   "outputs": [],
   "source": [
    "x_train_cate = onehot_data.iloc[data_num_inter.index < id_split]\n",
    "x_test_cate = onehot_data.iloc[data_num_inter.index >= id_split]"
   ]
  },
  {
   "cell_type": "code",
   "execution_count": 20,
   "metadata": {},
   "outputs": [
    {
     "data": {
      "text/html": [
       "<div>\n",
       "<style scoped>\n",
       "    .dataframe tbody tr th:only-of-type {\n",
       "        vertical-align: middle;\n",
       "    }\n",
       "\n",
       "    .dataframe tbody tr th {\n",
       "        vertical-align: top;\n",
       "    }\n",
       "\n",
       "    .dataframe thead th {\n",
       "        text-align: right;\n",
       "    }\n",
       "</style>\n",
       "<table border=\"1\" class=\"dataframe\">\n",
       "  <thead>\n",
       "    <tr style=\"text-align: right;\">\n",
       "      <th></th>\n",
       "      <th>MSSubClass</th>\n",
       "      <th>LotFrontage</th>\n",
       "      <th>LotArea</th>\n",
       "      <th>OverallQual</th>\n",
       "      <th>OverallCond</th>\n",
       "      <th>YearBuilt</th>\n",
       "      <th>YearRemodAdd</th>\n",
       "      <th>MasVnrArea</th>\n",
       "      <th>BsmtFinSF1</th>\n",
       "      <th>BsmtFinSF2</th>\n",
       "      <th>...</th>\n",
       "      <th>229</th>\n",
       "      <th>230</th>\n",
       "      <th>231</th>\n",
       "      <th>232</th>\n",
       "      <th>233</th>\n",
       "      <th>234</th>\n",
       "      <th>235</th>\n",
       "      <th>236</th>\n",
       "      <th>237</th>\n",
       "      <th>238</th>\n",
       "    </tr>\n",
       "  </thead>\n",
       "  <tbody>\n",
       "    <tr>\n",
       "      <th>1</th>\n",
       "      <td>0.235294</td>\n",
       "      <td>0.150685</td>\n",
       "      <td>0.033420</td>\n",
       "      <td>0.666667</td>\n",
       "      <td>0.500</td>\n",
       "      <td>0.949275</td>\n",
       "      <td>0.883333</td>\n",
       "      <td>0.122500</td>\n",
       "      <td>0.125089</td>\n",
       "      <td>0.000000</td>\n",
       "      <td>...</td>\n",
       "      <td>0.0</td>\n",
       "      <td>0.0</td>\n",
       "      <td>0.0</td>\n",
       "      <td>1.0</td>\n",
       "      <td>0.0</td>\n",
       "      <td>0.0</td>\n",
       "      <td>0.0</td>\n",
       "      <td>0.0</td>\n",
       "      <td>1.0</td>\n",
       "      <td>0.0</td>\n",
       "    </tr>\n",
       "    <tr>\n",
       "      <th>2</th>\n",
       "      <td>0.000000</td>\n",
       "      <td>0.202055</td>\n",
       "      <td>0.038795</td>\n",
       "      <td>0.555556</td>\n",
       "      <td>0.875</td>\n",
       "      <td>0.753623</td>\n",
       "      <td>0.433333</td>\n",
       "      <td>0.000000</td>\n",
       "      <td>0.173281</td>\n",
       "      <td>0.000000</td>\n",
       "      <td>...</td>\n",
       "      <td>0.0</td>\n",
       "      <td>0.0</td>\n",
       "      <td>0.0</td>\n",
       "      <td>1.0</td>\n",
       "      <td>0.0</td>\n",
       "      <td>0.0</td>\n",
       "      <td>0.0</td>\n",
       "      <td>0.0</td>\n",
       "      <td>1.0</td>\n",
       "      <td>0.0</td>\n",
       "    </tr>\n",
       "    <tr>\n",
       "      <th>3</th>\n",
       "      <td>0.235294</td>\n",
       "      <td>0.160959</td>\n",
       "      <td>0.046507</td>\n",
       "      <td>0.666667</td>\n",
       "      <td>0.500</td>\n",
       "      <td>0.934783</td>\n",
       "      <td>0.866667</td>\n",
       "      <td>0.101250</td>\n",
       "      <td>0.086109</td>\n",
       "      <td>0.000000</td>\n",
       "      <td>...</td>\n",
       "      <td>0.0</td>\n",
       "      <td>0.0</td>\n",
       "      <td>0.0</td>\n",
       "      <td>1.0</td>\n",
       "      <td>0.0</td>\n",
       "      <td>0.0</td>\n",
       "      <td>0.0</td>\n",
       "      <td>0.0</td>\n",
       "      <td>1.0</td>\n",
       "      <td>0.0</td>\n",
       "    </tr>\n",
       "    <tr>\n",
       "      <th>4</th>\n",
       "      <td>0.294118</td>\n",
       "      <td>0.133562</td>\n",
       "      <td>0.038561</td>\n",
       "      <td>0.666667</td>\n",
       "      <td>0.500</td>\n",
       "      <td>0.311594</td>\n",
       "      <td>0.333333</td>\n",
       "      <td>0.000000</td>\n",
       "      <td>0.038271</td>\n",
       "      <td>0.000000</td>\n",
       "      <td>...</td>\n",
       "      <td>0.0</td>\n",
       "      <td>0.0</td>\n",
       "      <td>0.0</td>\n",
       "      <td>1.0</td>\n",
       "      <td>1.0</td>\n",
       "      <td>0.0</td>\n",
       "      <td>0.0</td>\n",
       "      <td>0.0</td>\n",
       "      <td>0.0</td>\n",
       "      <td>0.0</td>\n",
       "    </tr>\n",
       "    <tr>\n",
       "      <th>5</th>\n",
       "      <td>0.235294</td>\n",
       "      <td>0.215753</td>\n",
       "      <td>0.060576</td>\n",
       "      <td>0.777778</td>\n",
       "      <td>0.500</td>\n",
       "      <td>0.927536</td>\n",
       "      <td>0.833333</td>\n",
       "      <td>0.218750</td>\n",
       "      <td>0.116052</td>\n",
       "      <td>0.000000</td>\n",
       "      <td>...</td>\n",
       "      <td>0.0</td>\n",
       "      <td>0.0</td>\n",
       "      <td>0.0</td>\n",
       "      <td>1.0</td>\n",
       "      <td>0.0</td>\n",
       "      <td>0.0</td>\n",
       "      <td>0.0</td>\n",
       "      <td>0.0</td>\n",
       "      <td>1.0</td>\n",
       "      <td>0.0</td>\n",
       "    </tr>\n",
       "    <tr>\n",
       "      <th>...</th>\n",
       "      <td>...</td>\n",
       "      <td>...</td>\n",
       "      <td>...</td>\n",
       "      <td>...</td>\n",
       "      <td>...</td>\n",
       "      <td>...</td>\n",
       "      <td>...</td>\n",
       "      <td>...</td>\n",
       "      <td>...</td>\n",
       "      <td>...</td>\n",
       "      <td>...</td>\n",
       "      <td>...</td>\n",
       "      <td>...</td>\n",
       "      <td>...</td>\n",
       "      <td>...</td>\n",
       "      <td>...</td>\n",
       "      <td>...</td>\n",
       "      <td>...</td>\n",
       "      <td>...</td>\n",
       "      <td>...</td>\n",
       "      <td>...</td>\n",
       "    </tr>\n",
       "    <tr>\n",
       "      <th>1456</th>\n",
       "      <td>0.235294</td>\n",
       "      <td>0.140411</td>\n",
       "      <td>0.030929</td>\n",
       "      <td>0.555556</td>\n",
       "      <td>0.500</td>\n",
       "      <td>0.920290</td>\n",
       "      <td>0.833333</td>\n",
       "      <td>0.000000</td>\n",
       "      <td>0.000000</td>\n",
       "      <td>0.000000</td>\n",
       "      <td>...</td>\n",
       "      <td>0.0</td>\n",
       "      <td>0.0</td>\n",
       "      <td>0.0</td>\n",
       "      <td>1.0</td>\n",
       "      <td>0.0</td>\n",
       "      <td>0.0</td>\n",
       "      <td>0.0</td>\n",
       "      <td>0.0</td>\n",
       "      <td>1.0</td>\n",
       "      <td>0.0</td>\n",
       "    </tr>\n",
       "    <tr>\n",
       "      <th>1457</th>\n",
       "      <td>0.000000</td>\n",
       "      <td>0.219178</td>\n",
       "      <td>0.055505</td>\n",
       "      <td>0.555556</td>\n",
       "      <td>0.625</td>\n",
       "      <td>0.768116</td>\n",
       "      <td>0.633333</td>\n",
       "      <td>0.074375</td>\n",
       "      <td>0.139972</td>\n",
       "      <td>0.106815</td>\n",
       "      <td>...</td>\n",
       "      <td>0.0</td>\n",
       "      <td>0.0</td>\n",
       "      <td>0.0</td>\n",
       "      <td>1.0</td>\n",
       "      <td>0.0</td>\n",
       "      <td>0.0</td>\n",
       "      <td>0.0</td>\n",
       "      <td>0.0</td>\n",
       "      <td>1.0</td>\n",
       "      <td>0.0</td>\n",
       "    </tr>\n",
       "    <tr>\n",
       "      <th>1458</th>\n",
       "      <td>0.294118</td>\n",
       "      <td>0.154110</td>\n",
       "      <td>0.036187</td>\n",
       "      <td>0.666667</td>\n",
       "      <td>1.000</td>\n",
       "      <td>0.500000</td>\n",
       "      <td>0.933333</td>\n",
       "      <td>0.000000</td>\n",
       "      <td>0.048724</td>\n",
       "      <td>0.000000</td>\n",
       "      <td>...</td>\n",
       "      <td>0.0</td>\n",
       "      <td>0.0</td>\n",
       "      <td>0.0</td>\n",
       "      <td>1.0</td>\n",
       "      <td>0.0</td>\n",
       "      <td>0.0</td>\n",
       "      <td>0.0</td>\n",
       "      <td>0.0</td>\n",
       "      <td>1.0</td>\n",
       "      <td>0.0</td>\n",
       "    </tr>\n",
       "    <tr>\n",
       "      <th>1459</th>\n",
       "      <td>0.000000</td>\n",
       "      <td>0.160959</td>\n",
       "      <td>0.039342</td>\n",
       "      <td>0.444444</td>\n",
       "      <td>0.625</td>\n",
       "      <td>0.565217</td>\n",
       "      <td>0.766667</td>\n",
       "      <td>0.000000</td>\n",
       "      <td>0.008682</td>\n",
       "      <td>0.674312</td>\n",
       "      <td>...</td>\n",
       "      <td>0.0</td>\n",
       "      <td>0.0</td>\n",
       "      <td>0.0</td>\n",
       "      <td>1.0</td>\n",
       "      <td>0.0</td>\n",
       "      <td>0.0</td>\n",
       "      <td>0.0</td>\n",
       "      <td>0.0</td>\n",
       "      <td>1.0</td>\n",
       "      <td>0.0</td>\n",
       "    </tr>\n",
       "    <tr>\n",
       "      <th>1460</th>\n",
       "      <td>0.000000</td>\n",
       "      <td>0.184932</td>\n",
       "      <td>0.040370</td>\n",
       "      <td>0.444444</td>\n",
       "      <td>0.625</td>\n",
       "      <td>0.673913</td>\n",
       "      <td>0.250000</td>\n",
       "      <td>0.000000</td>\n",
       "      <td>0.147059</td>\n",
       "      <td>0.190039</td>\n",
       "      <td>...</td>\n",
       "      <td>0.0</td>\n",
       "      <td>0.0</td>\n",
       "      <td>0.0</td>\n",
       "      <td>1.0</td>\n",
       "      <td>0.0</td>\n",
       "      <td>0.0</td>\n",
       "      <td>0.0</td>\n",
       "      <td>0.0</td>\n",
       "      <td>1.0</td>\n",
       "      <td>0.0</td>\n",
       "    </tr>\n",
       "  </tbody>\n",
       "</table>\n",
       "<p>1460 rows × 275 columns</p>\n",
       "</div>"
      ],
      "text/plain": [
       "      MSSubClass  LotFrontage   LotArea  OverallQual  OverallCond  YearBuilt  \\\n",
       "1       0.235294     0.150685  0.033420     0.666667        0.500   0.949275   \n",
       "2       0.000000     0.202055  0.038795     0.555556        0.875   0.753623   \n",
       "3       0.235294     0.160959  0.046507     0.666667        0.500   0.934783   \n",
       "4       0.294118     0.133562  0.038561     0.666667        0.500   0.311594   \n",
       "5       0.235294     0.215753  0.060576     0.777778        0.500   0.927536   \n",
       "...          ...          ...       ...          ...          ...        ...   \n",
       "1456    0.235294     0.140411  0.030929     0.555556        0.500   0.920290   \n",
       "1457    0.000000     0.219178  0.055505     0.555556        0.625   0.768116   \n",
       "1458    0.294118     0.154110  0.036187     0.666667        1.000   0.500000   \n",
       "1459    0.000000     0.160959  0.039342     0.444444        0.625   0.565217   \n",
       "1460    0.000000     0.184932  0.040370     0.444444        0.625   0.673913   \n",
       "\n",
       "      YearRemodAdd  MasVnrArea  BsmtFinSF1  BsmtFinSF2  ...  229  230  231  \\\n",
       "1         0.883333    0.122500    0.125089    0.000000  ...  0.0  0.0  0.0   \n",
       "2         0.433333    0.000000    0.173281    0.000000  ...  0.0  0.0  0.0   \n",
       "3         0.866667    0.101250    0.086109    0.000000  ...  0.0  0.0  0.0   \n",
       "4         0.333333    0.000000    0.038271    0.000000  ...  0.0  0.0  0.0   \n",
       "5         0.833333    0.218750    0.116052    0.000000  ...  0.0  0.0  0.0   \n",
       "...            ...         ...         ...         ...  ...  ...  ...  ...   \n",
       "1456      0.833333    0.000000    0.000000    0.000000  ...  0.0  0.0  0.0   \n",
       "1457      0.633333    0.074375    0.139972    0.106815  ...  0.0  0.0  0.0   \n",
       "1458      0.933333    0.000000    0.048724    0.000000  ...  0.0  0.0  0.0   \n",
       "1459      0.766667    0.000000    0.008682    0.674312  ...  0.0  0.0  0.0   \n",
       "1460      0.250000    0.000000    0.147059    0.190039  ...  0.0  0.0  0.0   \n",
       "\n",
       "      232  233  234  235  236  237  238  \n",
       "1     1.0  0.0  0.0  0.0  0.0  1.0  0.0  \n",
       "2     1.0  0.0  0.0  0.0  0.0  1.0  0.0  \n",
       "3     1.0  0.0  0.0  0.0  0.0  1.0  0.0  \n",
       "4     1.0  1.0  0.0  0.0  0.0  0.0  0.0  \n",
       "5     1.0  0.0  0.0  0.0  0.0  1.0  0.0  \n",
       "...   ...  ...  ...  ...  ...  ...  ...  \n",
       "1456  1.0  0.0  0.0  0.0  0.0  1.0  0.0  \n",
       "1457  1.0  0.0  0.0  0.0  0.0  1.0  0.0  \n",
       "1458  1.0  0.0  0.0  0.0  0.0  1.0  0.0  \n",
       "1459  1.0  0.0  0.0  0.0  0.0  1.0  0.0  \n",
       "1460  1.0  0.0  0.0  0.0  0.0  1.0  0.0  \n",
       "\n",
       "[1460 rows x 275 columns]"
      ]
     },
     "execution_count": 20,
     "metadata": {},
     "output_type": "execute_result"
    }
   ],
   "source": [
    "data_train_final = pd.concat([x_train_num, x_train_cate], axis=1)\n",
    "data_train_final.index +=1\n",
    "data_train_final"
   ]
  },
  {
   "cell_type": "code",
   "execution_count": 21,
   "metadata": {},
   "outputs": [
    {
     "data": {
      "text/html": [
       "<div>\n",
       "<style scoped>\n",
       "    .dataframe tbody tr th:only-of-type {\n",
       "        vertical-align: middle;\n",
       "    }\n",
       "\n",
       "    .dataframe tbody tr th {\n",
       "        vertical-align: top;\n",
       "    }\n",
       "\n",
       "    .dataframe thead th {\n",
       "        text-align: right;\n",
       "    }\n",
       "</style>\n",
       "<table border=\"1\" class=\"dataframe\">\n",
       "  <thead>\n",
       "    <tr style=\"text-align: right;\">\n",
       "      <th></th>\n",
       "      <th>MSSubClass</th>\n",
       "      <th>LotFrontage</th>\n",
       "      <th>LotArea</th>\n",
       "      <th>OverallQual</th>\n",
       "      <th>OverallCond</th>\n",
       "      <th>YearBuilt</th>\n",
       "      <th>YearRemodAdd</th>\n",
       "      <th>MasVnrArea</th>\n",
       "      <th>BsmtFinSF1</th>\n",
       "      <th>BsmtFinSF2</th>\n",
       "      <th>...</th>\n",
       "      <th>229</th>\n",
       "      <th>230</th>\n",
       "      <th>231</th>\n",
       "      <th>232</th>\n",
       "      <th>233</th>\n",
       "      <th>234</th>\n",
       "      <th>235</th>\n",
       "      <th>236</th>\n",
       "      <th>237</th>\n",
       "      <th>238</th>\n",
       "    </tr>\n",
       "  </thead>\n",
       "  <tbody>\n",
       "    <tr>\n",
       "      <th>1461</th>\n",
       "      <td>0.000000</td>\n",
       "      <td>0.202055</td>\n",
       "      <td>0.048246</td>\n",
       "      <td>0.444444</td>\n",
       "      <td>0.625</td>\n",
       "      <td>0.644928</td>\n",
       "      <td>0.183333</td>\n",
       "      <td>0.00000</td>\n",
       "      <td>0.082920</td>\n",
       "      <td>0.094364</td>\n",
       "      <td>...</td>\n",
       "      <td>0.0</td>\n",
       "      <td>0.0</td>\n",
       "      <td>0.0</td>\n",
       "      <td>1.0</td>\n",
       "      <td>0.0</td>\n",
       "      <td>0.0</td>\n",
       "      <td>0.0</td>\n",
       "      <td>0.0</td>\n",
       "      <td>1.0</td>\n",
       "      <td>0.0</td>\n",
       "    </tr>\n",
       "    <tr>\n",
       "      <th>1462</th>\n",
       "      <td>0.000000</td>\n",
       "      <td>0.205479</td>\n",
       "      <td>0.060609</td>\n",
       "      <td>0.555556</td>\n",
       "      <td>0.625</td>\n",
       "      <td>0.623188</td>\n",
       "      <td>0.133333</td>\n",
       "      <td>0.06750</td>\n",
       "      <td>0.163536</td>\n",
       "      <td>0.000000</td>\n",
       "      <td>...</td>\n",
       "      <td>0.0</td>\n",
       "      <td>0.0</td>\n",
       "      <td>0.0</td>\n",
       "      <td>1.0</td>\n",
       "      <td>0.0</td>\n",
       "      <td>0.0</td>\n",
       "      <td>0.0</td>\n",
       "      <td>0.0</td>\n",
       "      <td>1.0</td>\n",
       "      <td>0.0</td>\n",
       "    </tr>\n",
       "    <tr>\n",
       "      <th>1463</th>\n",
       "      <td>0.235294</td>\n",
       "      <td>0.181507</td>\n",
       "      <td>0.058566</td>\n",
       "      <td>0.444444</td>\n",
       "      <td>0.500</td>\n",
       "      <td>0.905797</td>\n",
       "      <td>0.800000</td>\n",
       "      <td>0.00000</td>\n",
       "      <td>0.140149</td>\n",
       "      <td>0.000000</td>\n",
       "      <td>...</td>\n",
       "      <td>0.0</td>\n",
       "      <td>0.0</td>\n",
       "      <td>0.0</td>\n",
       "      <td>1.0</td>\n",
       "      <td>0.0</td>\n",
       "      <td>0.0</td>\n",
       "      <td>0.0</td>\n",
       "      <td>0.0</td>\n",
       "      <td>1.0</td>\n",
       "      <td>0.0</td>\n",
       "    </tr>\n",
       "    <tr>\n",
       "      <th>1464</th>\n",
       "      <td>0.235294</td>\n",
       "      <td>0.195205</td>\n",
       "      <td>0.040562</td>\n",
       "      <td>0.555556</td>\n",
       "      <td>0.625</td>\n",
       "      <td>0.913043</td>\n",
       "      <td>0.800000</td>\n",
       "      <td>0.01250</td>\n",
       "      <td>0.106662</td>\n",
       "      <td>0.000000</td>\n",
       "      <td>...</td>\n",
       "      <td>0.0</td>\n",
       "      <td>0.0</td>\n",
       "      <td>0.0</td>\n",
       "      <td>1.0</td>\n",
       "      <td>0.0</td>\n",
       "      <td>0.0</td>\n",
       "      <td>0.0</td>\n",
       "      <td>0.0</td>\n",
       "      <td>1.0</td>\n",
       "      <td>0.0</td>\n",
       "    </tr>\n",
       "    <tr>\n",
       "      <th>1465</th>\n",
       "      <td>0.588235</td>\n",
       "      <td>0.075342</td>\n",
       "      <td>0.017318</td>\n",
       "      <td>0.777778</td>\n",
       "      <td>0.500</td>\n",
       "      <td>0.869565</td>\n",
       "      <td>0.700000</td>\n",
       "      <td>0.00000</td>\n",
       "      <td>0.046598</td>\n",
       "      <td>0.000000</td>\n",
       "      <td>...</td>\n",
       "      <td>0.0</td>\n",
       "      <td>0.0</td>\n",
       "      <td>0.0</td>\n",
       "      <td>1.0</td>\n",
       "      <td>0.0</td>\n",
       "      <td>0.0</td>\n",
       "      <td>0.0</td>\n",
       "      <td>0.0</td>\n",
       "      <td>1.0</td>\n",
       "      <td>0.0</td>\n",
       "    </tr>\n",
       "    <tr>\n",
       "      <th>...</th>\n",
       "      <td>...</td>\n",
       "      <td>...</td>\n",
       "      <td>...</td>\n",
       "      <td>...</td>\n",
       "      <td>...</td>\n",
       "      <td>...</td>\n",
       "      <td>...</td>\n",
       "      <td>...</td>\n",
       "      <td>...</td>\n",
       "      <td>...</td>\n",
       "      <td>...</td>\n",
       "      <td>...</td>\n",
       "      <td>...</td>\n",
       "      <td>...</td>\n",
       "      <td>...</td>\n",
       "      <td>...</td>\n",
       "      <td>...</td>\n",
       "      <td>...</td>\n",
       "      <td>...</td>\n",
       "      <td>...</td>\n",
       "      <td>...</td>\n",
       "    </tr>\n",
       "    <tr>\n",
       "      <th>2915</th>\n",
       "      <td>0.823529</td>\n",
       "      <td>0.000000</td>\n",
       "      <td>0.002973</td>\n",
       "      <td>0.333333</td>\n",
       "      <td>0.750</td>\n",
       "      <td>0.710145</td>\n",
       "      <td>0.333333</td>\n",
       "      <td>0.00000</td>\n",
       "      <td>0.000000</td>\n",
       "      <td>0.000000</td>\n",
       "      <td>...</td>\n",
       "      <td>0.0</td>\n",
       "      <td>0.0</td>\n",
       "      <td>0.0</td>\n",
       "      <td>1.0</td>\n",
       "      <td>0.0</td>\n",
       "      <td>0.0</td>\n",
       "      <td>0.0</td>\n",
       "      <td>0.0</td>\n",
       "      <td>1.0</td>\n",
       "      <td>0.0</td>\n",
       "    </tr>\n",
       "    <tr>\n",
       "      <th>2916</th>\n",
       "      <td>0.823529</td>\n",
       "      <td>0.000000</td>\n",
       "      <td>0.002776</td>\n",
       "      <td>0.333333</td>\n",
       "      <td>0.500</td>\n",
       "      <td>0.710145</td>\n",
       "      <td>0.333333</td>\n",
       "      <td>0.00000</td>\n",
       "      <td>0.044649</td>\n",
       "      <td>0.000000</td>\n",
       "      <td>...</td>\n",
       "      <td>0.0</td>\n",
       "      <td>0.0</td>\n",
       "      <td>0.0</td>\n",
       "      <td>1.0</td>\n",
       "      <td>1.0</td>\n",
       "      <td>0.0</td>\n",
       "      <td>0.0</td>\n",
       "      <td>0.0</td>\n",
       "      <td>0.0</td>\n",
       "      <td>0.0</td>\n",
       "    </tr>\n",
       "    <tr>\n",
       "      <th>2917</th>\n",
       "      <td>0.000000</td>\n",
       "      <td>0.476027</td>\n",
       "      <td>0.087406</td>\n",
       "      <td>0.444444</td>\n",
       "      <td>0.750</td>\n",
       "      <td>0.637681</td>\n",
       "      <td>0.766667</td>\n",
       "      <td>0.00000</td>\n",
       "      <td>0.216867</td>\n",
       "      <td>0.000000</td>\n",
       "      <td>...</td>\n",
       "      <td>0.0</td>\n",
       "      <td>0.0</td>\n",
       "      <td>0.0</td>\n",
       "      <td>1.0</td>\n",
       "      <td>1.0</td>\n",
       "      <td>0.0</td>\n",
       "      <td>0.0</td>\n",
       "      <td>0.0</td>\n",
       "      <td>0.0</td>\n",
       "      <td>0.0</td>\n",
       "    </tr>\n",
       "    <tr>\n",
       "      <th>2918</th>\n",
       "      <td>0.382353</td>\n",
       "      <td>0.140411</td>\n",
       "      <td>0.042726</td>\n",
       "      <td>0.444444</td>\n",
       "      <td>0.500</td>\n",
       "      <td>0.869565</td>\n",
       "      <td>0.700000</td>\n",
       "      <td>0.00000</td>\n",
       "      <td>0.059709</td>\n",
       "      <td>0.000000</td>\n",
       "      <td>...</td>\n",
       "      <td>0.0</td>\n",
       "      <td>0.0</td>\n",
       "      <td>0.0</td>\n",
       "      <td>1.0</td>\n",
       "      <td>0.0</td>\n",
       "      <td>0.0</td>\n",
       "      <td>0.0</td>\n",
       "      <td>0.0</td>\n",
       "      <td>1.0</td>\n",
       "      <td>0.0</td>\n",
       "    </tr>\n",
       "    <tr>\n",
       "      <th>2919</th>\n",
       "      <td>0.235294</td>\n",
       "      <td>0.181507</td>\n",
       "      <td>0.038921</td>\n",
       "      <td>0.666667</td>\n",
       "      <td>0.500</td>\n",
       "      <td>0.876812</td>\n",
       "      <td>0.733333</td>\n",
       "      <td>0.05875</td>\n",
       "      <td>0.134302</td>\n",
       "      <td>0.000000</td>\n",
       "      <td>...</td>\n",
       "      <td>0.0</td>\n",
       "      <td>0.0</td>\n",
       "      <td>0.0</td>\n",
       "      <td>1.0</td>\n",
       "      <td>0.0</td>\n",
       "      <td>0.0</td>\n",
       "      <td>0.0</td>\n",
       "      <td>0.0</td>\n",
       "      <td>1.0</td>\n",
       "      <td>0.0</td>\n",
       "    </tr>\n",
       "  </tbody>\n",
       "</table>\n",
       "<p>1459 rows × 275 columns</p>\n",
       "</div>"
      ],
      "text/plain": [
       "      MSSubClass  LotFrontage   LotArea  OverallQual  OverallCond  YearBuilt  \\\n",
       "1461    0.000000     0.202055  0.048246     0.444444        0.625   0.644928   \n",
       "1462    0.000000     0.205479  0.060609     0.555556        0.625   0.623188   \n",
       "1463    0.235294     0.181507  0.058566     0.444444        0.500   0.905797   \n",
       "1464    0.235294     0.195205  0.040562     0.555556        0.625   0.913043   \n",
       "1465    0.588235     0.075342  0.017318     0.777778        0.500   0.869565   \n",
       "...          ...          ...       ...          ...          ...        ...   \n",
       "2915    0.823529     0.000000  0.002973     0.333333        0.750   0.710145   \n",
       "2916    0.823529     0.000000  0.002776     0.333333        0.500   0.710145   \n",
       "2917    0.000000     0.476027  0.087406     0.444444        0.750   0.637681   \n",
       "2918    0.382353     0.140411  0.042726     0.444444        0.500   0.869565   \n",
       "2919    0.235294     0.181507  0.038921     0.666667        0.500   0.876812   \n",
       "\n",
       "      YearRemodAdd  MasVnrArea  BsmtFinSF1  BsmtFinSF2  ...  229  230  231  \\\n",
       "1461      0.183333     0.00000    0.082920    0.094364  ...  0.0  0.0  0.0   \n",
       "1462      0.133333     0.06750    0.163536    0.000000  ...  0.0  0.0  0.0   \n",
       "1463      0.800000     0.00000    0.140149    0.000000  ...  0.0  0.0  0.0   \n",
       "1464      0.800000     0.01250    0.106662    0.000000  ...  0.0  0.0  0.0   \n",
       "1465      0.700000     0.00000    0.046598    0.000000  ...  0.0  0.0  0.0   \n",
       "...            ...         ...         ...         ...  ...  ...  ...  ...   \n",
       "2915      0.333333     0.00000    0.000000    0.000000  ...  0.0  0.0  0.0   \n",
       "2916      0.333333     0.00000    0.044649    0.000000  ...  0.0  0.0  0.0   \n",
       "2917      0.766667     0.00000    0.216867    0.000000  ...  0.0  0.0  0.0   \n",
       "2918      0.700000     0.00000    0.059709    0.000000  ...  0.0  0.0  0.0   \n",
       "2919      0.733333     0.05875    0.134302    0.000000  ...  0.0  0.0  0.0   \n",
       "\n",
       "      232  233  234  235  236  237  238  \n",
       "1461  1.0  0.0  0.0  0.0  0.0  1.0  0.0  \n",
       "1462  1.0  0.0  0.0  0.0  0.0  1.0  0.0  \n",
       "1463  1.0  0.0  0.0  0.0  0.0  1.0  0.0  \n",
       "1464  1.0  0.0  0.0  0.0  0.0  1.0  0.0  \n",
       "1465  1.0  0.0  0.0  0.0  0.0  1.0  0.0  \n",
       "...   ...  ...  ...  ...  ...  ...  ...  \n",
       "2915  1.0  0.0  0.0  0.0  0.0  1.0  0.0  \n",
       "2916  1.0  1.0  0.0  0.0  0.0  0.0  0.0  \n",
       "2917  1.0  1.0  0.0  0.0  0.0  0.0  0.0  \n",
       "2918  1.0  0.0  0.0  0.0  0.0  1.0  0.0  \n",
       "2919  1.0  0.0  0.0  0.0  0.0  1.0  0.0  \n",
       "\n",
       "[1459 rows x 275 columns]"
      ]
     },
     "execution_count": 21,
     "metadata": {},
     "output_type": "execute_result"
    }
   ],
   "source": [
    "data_test_final = pd.concat([x_test_num, x_test_cate], axis=1)\n",
    "data_test_final.index+=1\n",
    "data_test_final"
   ]
  },
  {
   "cell_type": "code",
   "execution_count": 22,
   "metadata": {},
   "outputs": [],
   "source": [
    "# import numpy as np\n",
    "# import pandas as pd\n",
    "# from sklearn import preprocessing\n",
    "# import xgboost as xgb\n",
    "# from xgboost.sklearn import XGBRegressor\n",
    "# import datetime\n",
    "# from sklearn.model_selection import GridSearchCV\n",
    "# xgb1 = XGBRegressor()\n",
    "# parameters = {'nthread':[4], #when use hyperthread, xgboost may become slower\n",
    "#               'objective':['reg:linear'],\n",
    "#               'learning_rate': [.03, 0.05, .07], #so called `eta` value\n",
    "#               'max_depth': [3,4,5, 6],\n",
    "#               'min_child_weight': [3,4,5],\n",
    "#               'silent': [1],\n",
    "#               'subsample': [0.7],\n",
    "#               'colsample_bytree': [0.7],\n",
    "#               'n_estimators': [500]}\n",
    "\n",
    "# xgb_grid = GridSearchCV(xgb1,\n",
    "#                         parameters,\n",
    "#                         cv = 5,\n",
    "#                         n_jobs = 5,\n",
    "#                         verbose=True)\n",
    "\n",
    "# xgb_grid.fit(x_train_cate,y_train)\n",
    "# print(xgb_grid.best_score_)\n",
    "# print(xgb_grid.best_params_)"
   ]
  },
  {
   "cell_type": "code",
   "execution_count": 23,
   "metadata": {},
   "outputs": [],
   "source": [
    "# model =  xgb_grid.best_estimator_\n",
    "# y_predict_test = xgb_grid.best_estimator_.predict(x_test_cate)\n",
    "# print(y_predict_test.shape)"
   ]
  },
  {
   "cell_type": "code",
   "execution_count": 24,
   "metadata": {},
   "outputs": [],
   "source": [
    "# res = zip(list(np.arange(1461, 5000)), list(int(i) for i in y_predict_test))\n",
    "# df = pd.DataFrame(res, columns=['Id', 'SalePrice'])\n",
    "# df.to_csv('res.csv', index=None)"
   ]
  },
  {
   "cell_type": "code",
   "execution_count": 25,
   "metadata": {},
   "outputs": [
    {
     "data": {
      "text/plain": [
       "Sequential(\n",
       "  (0): Linear(in_features=275, out_features=128, bias=True)\n",
       "  (1): ReLU()\n",
       "  (2): Linear(in_features=128, out_features=64, bias=True)\n",
       "  (3): ReLU()\n",
       "  (4): Linear(in_features=64, out_features=32, bias=True)\n",
       "  (5): ReLU()\n",
       "  (6): Linear(in_features=32, out_features=16, bias=True)\n",
       "  (7): ReLU()\n",
       "  (8): Linear(in_features=16, out_features=8, bias=True)\n",
       "  (9): ReLU()\n",
       "  (10): Linear(in_features=8, out_features=4, bias=True)\n",
       "  (11): ReLU()\n",
       "  (12): Linear(in_features=4, out_features=1, bias=True)\n",
       ")"
      ]
     },
     "execution_count": 25,
     "metadata": {},
     "output_type": "execute_result"
    },
    {
     "data": {
      "text/plain": [
       "Sequential(\n",
       "  (0): Linear(in_features=275, out_features=128, bias=True)\n",
       "  (1): ReLU()\n",
       "  (2): Linear(in_features=128, out_features=64, bias=True)\n",
       "  (3): ReLU()\n",
       "  (4): Linear(in_features=64, out_features=32, bias=True)\n",
       "  (5): ReLU()\n",
       "  (6): Linear(in_features=32, out_features=16, bias=True)\n",
       "  (7): ReLU()\n",
       "  (8): Linear(in_features=16, out_features=8, bias=True)\n",
       "  (9): ReLU()\n",
       "  (10): Linear(in_features=8, out_features=4, bias=True)\n",
       "  (11): ReLU()\n",
       "  (12): Linear(in_features=4, out_features=1, bias=True)\n",
       ")"
      ]
     },
     "execution_count": 25,
     "metadata": {},
     "output_type": "execute_result"
    },
    {
     "data": {
      "text/plain": [
       "Sequential(\n",
       "  (0): Linear(in_features=275, out_features=128, bias=True)\n",
       "  (1): ReLU()\n",
       "  (2): Linear(in_features=128, out_features=64, bias=True)\n",
       "  (3): ReLU()\n",
       "  (4): Linear(in_features=64, out_features=32, bias=True)\n",
       "  (5): ReLU()\n",
       "  (6): Linear(in_features=32, out_features=16, bias=True)\n",
       "  (7): ReLU()\n",
       "  (8): Linear(in_features=16, out_features=8, bias=True)\n",
       "  (9): ReLU()\n",
       "  (10): Linear(in_features=8, out_features=4, bias=True)\n",
       "  (11): ReLU()\n",
       "  (12): Linear(in_features=4, out_features=1, bias=True)\n",
       ")"
      ]
     },
     "execution_count": 25,
     "metadata": {},
     "output_type": "execute_result"
    },
    {
     "data": {
      "text/plain": [
       "Sequential(\n",
       "  (0): Linear(in_features=275, out_features=128, bias=True)\n",
       "  (1): ReLU()\n",
       "  (2): Linear(in_features=128, out_features=64, bias=True)\n",
       "  (3): ReLU()\n",
       "  (4): Linear(in_features=64, out_features=32, bias=True)\n",
       "  (5): ReLU()\n",
       "  (6): Linear(in_features=32, out_features=16, bias=True)\n",
       "  (7): ReLU()\n",
       "  (8): Linear(in_features=16, out_features=8, bias=True)\n",
       "  (9): ReLU()\n",
       "  (10): Linear(in_features=8, out_features=4, bias=True)\n",
       "  (11): ReLU()\n",
       "  (12): Linear(in_features=4, out_features=1, bias=True)\n",
       ")"
      ]
     },
     "execution_count": 25,
     "metadata": {},
     "output_type": "execute_result"
    },
    {
     "data": {
      "text/plain": [
       "Sequential(\n",
       "  (0): Linear(in_features=275, out_features=128, bias=True)\n",
       "  (1): ReLU()\n",
       "  (2): Linear(in_features=128, out_features=64, bias=True)\n",
       "  (3): ReLU()\n",
       "  (4): Linear(in_features=64, out_features=32, bias=True)\n",
       "  (5): ReLU()\n",
       "  (6): Linear(in_features=32, out_features=16, bias=True)\n",
       "  (7): ReLU()\n",
       "  (8): Linear(in_features=16, out_features=8, bias=True)\n",
       "  (9): ReLU()\n",
       "  (10): Linear(in_features=8, out_features=4, bias=True)\n",
       "  (11): ReLU()\n",
       "  (12): Linear(in_features=4, out_features=1, bias=True)\n",
       ")"
      ]
     },
     "execution_count": 25,
     "metadata": {},
     "output_type": "execute_result"
    },
    {
     "data": {
      "text/plain": [
       "Sequential(\n",
       "  (0): Linear(in_features=275, out_features=128, bias=True)\n",
       "  (1): ReLU()\n",
       "  (2): Linear(in_features=128, out_features=64, bias=True)\n",
       "  (3): ReLU()\n",
       "  (4): Linear(in_features=64, out_features=32, bias=True)\n",
       "  (5): ReLU()\n",
       "  (6): Linear(in_features=32, out_features=16, bias=True)\n",
       "  (7): ReLU()\n",
       "  (8): Linear(in_features=16, out_features=8, bias=True)\n",
       "  (9): ReLU()\n",
       "  (10): Linear(in_features=8, out_features=4, bias=True)\n",
       "  (11): ReLU()\n",
       "  (12): Linear(in_features=4, out_features=1, bias=True)\n",
       ")"
      ]
     },
     "execution_count": 25,
     "metadata": {},
     "output_type": "execute_result"
    },
    {
     "data": {
      "text/plain": [
       "Sequential(\n",
       "  (0): Linear(in_features=275, out_features=128, bias=True)\n",
       "  (1): ReLU()\n",
       "  (2): Linear(in_features=128, out_features=64, bias=True)\n",
       "  (3): ReLU()\n",
       "  (4): Linear(in_features=64, out_features=32, bias=True)\n",
       "  (5): ReLU()\n",
       "  (6): Linear(in_features=32, out_features=16, bias=True)\n",
       "  (7): ReLU()\n",
       "  (8): Linear(in_features=16, out_features=8, bias=True)\n",
       "  (9): ReLU()\n",
       "  (10): Linear(in_features=8, out_features=4, bias=True)\n",
       "  (11): ReLU()\n",
       "  (12): Linear(in_features=4, out_features=1, bias=True)\n",
       ")"
      ]
     },
     "execution_count": 25,
     "metadata": {},
     "output_type": "execute_result"
    },
    {
     "data": {
      "text/plain": [
       "Sequential(\n",
       "  (0): Linear(in_features=275, out_features=128, bias=True)\n",
       "  (1): ReLU()\n",
       "  (2): Linear(in_features=128, out_features=64, bias=True)\n",
       "  (3): ReLU()\n",
       "  (4): Linear(in_features=64, out_features=32, bias=True)\n",
       "  (5): ReLU()\n",
       "  (6): Linear(in_features=32, out_features=16, bias=True)\n",
       "  (7): ReLU()\n",
       "  (8): Linear(in_features=16, out_features=8, bias=True)\n",
       "  (9): ReLU()\n",
       "  (10): Linear(in_features=8, out_features=4, bias=True)\n",
       "  (11): ReLU()\n",
       "  (12): Linear(in_features=4, out_features=1, bias=True)\n",
       ")"
      ]
     },
     "execution_count": 25,
     "metadata": {},
     "output_type": "execute_result"
    },
    {
     "data": {
      "text/plain": [
       "Sequential(\n",
       "  (0): Linear(in_features=275, out_features=128, bias=True)\n",
       "  (1): ReLU()\n",
       "  (2): Linear(in_features=128, out_features=64, bias=True)\n",
       "  (3): ReLU()\n",
       "  (4): Linear(in_features=64, out_features=32, bias=True)\n",
       "  (5): ReLU()\n",
       "  (6): Linear(in_features=32, out_features=16, bias=True)\n",
       "  (7): ReLU()\n",
       "  (8): Linear(in_features=16, out_features=8, bias=True)\n",
       "  (9): ReLU()\n",
       "  (10): Linear(in_features=8, out_features=4, bias=True)\n",
       "  (11): ReLU()\n",
       "  (12): Linear(in_features=4, out_features=1, bias=True)\n",
       ")"
      ]
     },
     "execution_count": 25,
     "metadata": {},
     "output_type": "execute_result"
    },
    {
     "data": {
      "text/plain": [
       "Sequential(\n",
       "  (0): Linear(in_features=275, out_features=128, bias=True)\n",
       "  (1): ReLU()\n",
       "  (2): Linear(in_features=128, out_features=64, bias=True)\n",
       "  (3): ReLU()\n",
       "  (4): Linear(in_features=64, out_features=32, bias=True)\n",
       "  (5): ReLU()\n",
       "  (6): Linear(in_features=32, out_features=16, bias=True)\n",
       "  (7): ReLU()\n",
       "  (8): Linear(in_features=16, out_features=8, bias=True)\n",
       "  (9): ReLU()\n",
       "  (10): Linear(in_features=8, out_features=4, bias=True)\n",
       "  (11): ReLU()\n",
       "  (12): Linear(in_features=4, out_features=1, bias=True)\n",
       ")"
      ]
     },
     "execution_count": 25,
     "metadata": {},
     "output_type": "execute_result"
    },
    {
     "data": {
      "text/plain": [
       "Sequential(\n",
       "  (0): Linear(in_features=275, out_features=128, bias=True)\n",
       "  (1): ReLU()\n",
       "  (2): Linear(in_features=128, out_features=64, bias=True)\n",
       "  (3): ReLU()\n",
       "  (4): Linear(in_features=64, out_features=32, bias=True)\n",
       "  (5): ReLU()\n",
       "  (6): Linear(in_features=32, out_features=16, bias=True)\n",
       "  (7): ReLU()\n",
       "  (8): Linear(in_features=16, out_features=8, bias=True)\n",
       "  (9): ReLU()\n",
       "  (10): Linear(in_features=8, out_features=4, bias=True)\n",
       "  (11): ReLU()\n",
       "  (12): Linear(in_features=4, out_features=1, bias=True)\n",
       ")"
      ]
     },
     "execution_count": 25,
     "metadata": {},
     "output_type": "execute_result"
    },
    {
     "data": {
      "text/plain": [
       "Sequential(\n",
       "  (0): Linear(in_features=275, out_features=128, bias=True)\n",
       "  (1): ReLU()\n",
       "  (2): Linear(in_features=128, out_features=64, bias=True)\n",
       "  (3): ReLU()\n",
       "  (4): Linear(in_features=64, out_features=32, bias=True)\n",
       "  (5): ReLU()\n",
       "  (6): Linear(in_features=32, out_features=16, bias=True)\n",
       "  (7): ReLU()\n",
       "  (8): Linear(in_features=16, out_features=8, bias=True)\n",
       "  (9): ReLU()\n",
       "  (10): Linear(in_features=8, out_features=4, bias=True)\n",
       "  (11): ReLU()\n",
       "  (12): Linear(in_features=4, out_features=1, bias=True)\n",
       ")"
      ]
     },
     "execution_count": 25,
     "metadata": {},
     "output_type": "execute_result"
    },
    {
     "data": {
      "text/plain": [
       "Sequential(\n",
       "  (0): Linear(in_features=275, out_features=128, bias=True)\n",
       "  (1): ReLU()\n",
       "  (2): Linear(in_features=128, out_features=64, bias=True)\n",
       "  (3): ReLU()\n",
       "  (4): Linear(in_features=64, out_features=32, bias=True)\n",
       "  (5): ReLU()\n",
       "  (6): Linear(in_features=32, out_features=16, bias=True)\n",
       "  (7): ReLU()\n",
       "  (8): Linear(in_features=16, out_features=8, bias=True)\n",
       "  (9): ReLU()\n",
       "  (10): Linear(in_features=8, out_features=4, bias=True)\n",
       "  (11): ReLU()\n",
       "  (12): Linear(in_features=4, out_features=1, bias=True)\n",
       ")"
      ]
     },
     "execution_count": 25,
     "metadata": {},
     "output_type": "execute_result"
    },
    {
     "data": {
      "text/plain": [
       "Sequential(\n",
       "  (0): Linear(in_features=275, out_features=128, bias=True)\n",
       "  (1): ReLU()\n",
       "  (2): Linear(in_features=128, out_features=64, bias=True)\n",
       "  (3): ReLU()\n",
       "  (4): Linear(in_features=64, out_features=32, bias=True)\n",
       "  (5): ReLU()\n",
       "  (6): Linear(in_features=32, out_features=16, bias=True)\n",
       "  (7): ReLU()\n",
       "  (8): Linear(in_features=16, out_features=8, bias=True)\n",
       "  (9): ReLU()\n",
       "  (10): Linear(in_features=8, out_features=4, bias=True)\n",
       "  (11): ReLU()\n",
       "  (12): Linear(in_features=4, out_features=1, bias=True)\n",
       ")"
      ]
     },
     "execution_count": 25,
     "metadata": {},
     "output_type": "execute_result"
    },
    {
     "data": {
      "text/plain": [
       "Sequential(\n",
       "  (0): Linear(in_features=275, out_features=128, bias=True)\n",
       "  (1): ReLU()\n",
       "  (2): Linear(in_features=128, out_features=64, bias=True)\n",
       "  (3): ReLU()\n",
       "  (4): Linear(in_features=64, out_features=32, bias=True)\n",
       "  (5): ReLU()\n",
       "  (6): Linear(in_features=32, out_features=16, bias=True)\n",
       "  (7): ReLU()\n",
       "  (8): Linear(in_features=16, out_features=8, bias=True)\n",
       "  (9): ReLU()\n",
       "  (10): Linear(in_features=8, out_features=4, bias=True)\n",
       "  (11): ReLU()\n",
       "  (12): Linear(in_features=4, out_features=1, bias=True)\n",
       ")"
      ]
     },
     "execution_count": 25,
     "metadata": {},
     "output_type": "execute_result"
    },
    {
     "data": {
      "text/plain": [
       "Sequential(\n",
       "  (0): Linear(in_features=275, out_features=128, bias=True)\n",
       "  (1): ReLU()\n",
       "  (2): Linear(in_features=128, out_features=64, bias=True)\n",
       "  (3): ReLU()\n",
       "  (4): Linear(in_features=64, out_features=32, bias=True)\n",
       "  (5): ReLU()\n",
       "  (6): Linear(in_features=32, out_features=16, bias=True)\n",
       "  (7): ReLU()\n",
       "  (8): Linear(in_features=16, out_features=8, bias=True)\n",
       "  (9): ReLU()\n",
       "  (10): Linear(in_features=8, out_features=4, bias=True)\n",
       "  (11): ReLU()\n",
       "  (12): Linear(in_features=4, out_features=1, bias=True)\n",
       ")"
      ]
     },
     "execution_count": 25,
     "metadata": {},
     "output_type": "execute_result"
    },
    {
     "data": {
      "text/plain": [
       "Sequential(\n",
       "  (0): Linear(in_features=275, out_features=128, bias=True)\n",
       "  (1): ReLU()\n",
       "  (2): Linear(in_features=128, out_features=64, bias=True)\n",
       "  (3): ReLU()\n",
       "  (4): Linear(in_features=64, out_features=32, bias=True)\n",
       "  (5): ReLU()\n",
       "  (6): Linear(in_features=32, out_features=16, bias=True)\n",
       "  (7): ReLU()\n",
       "  (8): Linear(in_features=16, out_features=8, bias=True)\n",
       "  (9): ReLU()\n",
       "  (10): Linear(in_features=8, out_features=4, bias=True)\n",
       "  (11): ReLU()\n",
       "  (12): Linear(in_features=4, out_features=1, bias=True)\n",
       ")"
      ]
     },
     "execution_count": 25,
     "metadata": {},
     "output_type": "execute_result"
    },
    {
     "data": {
      "text/plain": [
       "Sequential(\n",
       "  (0): Linear(in_features=275, out_features=128, bias=True)\n",
       "  (1): ReLU()\n",
       "  (2): Linear(in_features=128, out_features=64, bias=True)\n",
       "  (3): ReLU()\n",
       "  (4): Linear(in_features=64, out_features=32, bias=True)\n",
       "  (5): ReLU()\n",
       "  (6): Linear(in_features=32, out_features=16, bias=True)\n",
       "  (7): ReLU()\n",
       "  (8): Linear(in_features=16, out_features=8, bias=True)\n",
       "  (9): ReLU()\n",
       "  (10): Linear(in_features=8, out_features=4, bias=True)\n",
       "  (11): ReLU()\n",
       "  (12): Linear(in_features=4, out_features=1, bias=True)\n",
       ")"
      ]
     },
     "execution_count": 25,
     "metadata": {},
     "output_type": "execute_result"
    },
    {
     "data": {
      "text/plain": [
       "Sequential(\n",
       "  (0): Linear(in_features=275, out_features=128, bias=True)\n",
       "  (1): ReLU()\n",
       "  (2): Linear(in_features=128, out_features=64, bias=True)\n",
       "  (3): ReLU()\n",
       "  (4): Linear(in_features=64, out_features=32, bias=True)\n",
       "  (5): ReLU()\n",
       "  (6): Linear(in_features=32, out_features=16, bias=True)\n",
       "  (7): ReLU()\n",
       "  (8): Linear(in_features=16, out_features=8, bias=True)\n",
       "  (9): ReLU()\n",
       "  (10): Linear(in_features=8, out_features=4, bias=True)\n",
       "  (11): ReLU()\n",
       "  (12): Linear(in_features=4, out_features=1, bias=True)\n",
       ")"
      ]
     },
     "execution_count": 25,
     "metadata": {},
     "output_type": "execute_result"
    },
    {
     "data": {
      "text/plain": [
       "Sequential(\n",
       "  (0): Linear(in_features=275, out_features=128, bias=True)\n",
       "  (1): ReLU()\n",
       "  (2): Linear(in_features=128, out_features=64, bias=True)\n",
       "  (3): ReLU()\n",
       "  (4): Linear(in_features=64, out_features=32, bias=True)\n",
       "  (5): ReLU()\n",
       "  (6): Linear(in_features=32, out_features=16, bias=True)\n",
       "  (7): ReLU()\n",
       "  (8): Linear(in_features=16, out_features=8, bias=True)\n",
       "  (9): ReLU()\n",
       "  (10): Linear(in_features=8, out_features=4, bias=True)\n",
       "  (11): ReLU()\n",
       "  (12): Linear(in_features=4, out_features=1, bias=True)\n",
       ")"
      ]
     },
     "execution_count": 25,
     "metadata": {},
     "output_type": "execute_result"
    },
    {
     "data": {
      "text/plain": [
       "Sequential(\n",
       "  (0): Linear(in_features=275, out_features=128, bias=True)\n",
       "  (1): ReLU()\n",
       "  (2): Linear(in_features=128, out_features=64, bias=True)\n",
       "  (3): ReLU()\n",
       "  (4): Linear(in_features=64, out_features=32, bias=True)\n",
       "  (5): ReLU()\n",
       "  (6): Linear(in_features=32, out_features=16, bias=True)\n",
       "  (7): ReLU()\n",
       "  (8): Linear(in_features=16, out_features=8, bias=True)\n",
       "  (9): ReLU()\n",
       "  (10): Linear(in_features=8, out_features=4, bias=True)\n",
       "  (11): ReLU()\n",
       "  (12): Linear(in_features=4, out_features=1, bias=True)\n",
       ")"
      ]
     },
     "execution_count": 25,
     "metadata": {},
     "output_type": "execute_result"
    },
    {
     "data": {
      "text/plain": [
       "Sequential(\n",
       "  (0): Linear(in_features=275, out_features=128, bias=True)\n",
       "  (1): ReLU()\n",
       "  (2): Linear(in_features=128, out_features=64, bias=True)\n",
       "  (3): ReLU()\n",
       "  (4): Linear(in_features=64, out_features=32, bias=True)\n",
       "  (5): ReLU()\n",
       "  (6): Linear(in_features=32, out_features=16, bias=True)\n",
       "  (7): ReLU()\n",
       "  (8): Linear(in_features=16, out_features=8, bias=True)\n",
       "  (9): ReLU()\n",
       "  (10): Linear(in_features=8, out_features=4, bias=True)\n",
       "  (11): ReLU()\n",
       "  (12): Linear(in_features=4, out_features=1, bias=True)\n",
       ")"
      ]
     },
     "execution_count": 25,
     "metadata": {},
     "output_type": "execute_result"
    },
    {
     "data": {
      "text/plain": [
       "Sequential(\n",
       "  (0): Linear(in_features=275, out_features=128, bias=True)\n",
       "  (1): ReLU()\n",
       "  (2): Linear(in_features=128, out_features=64, bias=True)\n",
       "  (3): ReLU()\n",
       "  (4): Linear(in_features=64, out_features=32, bias=True)\n",
       "  (5): ReLU()\n",
       "  (6): Linear(in_features=32, out_features=16, bias=True)\n",
       "  (7): ReLU()\n",
       "  (8): Linear(in_features=16, out_features=8, bias=True)\n",
       "  (9): ReLU()\n",
       "  (10): Linear(in_features=8, out_features=4, bias=True)\n",
       "  (11): ReLU()\n",
       "  (12): Linear(in_features=4, out_features=1, bias=True)\n",
       ")"
      ]
     },
     "execution_count": 25,
     "metadata": {},
     "output_type": "execute_result"
    },
    {
     "data": {
      "text/plain": [
       "Sequential(\n",
       "  (0): Linear(in_features=275, out_features=128, bias=True)\n",
       "  (1): ReLU()\n",
       "  (2): Linear(in_features=128, out_features=64, bias=True)\n",
       "  (3): ReLU()\n",
       "  (4): Linear(in_features=64, out_features=32, bias=True)\n",
       "  (5): ReLU()\n",
       "  (6): Linear(in_features=32, out_features=16, bias=True)\n",
       "  (7): ReLU()\n",
       "  (8): Linear(in_features=16, out_features=8, bias=True)\n",
       "  (9): ReLU()\n",
       "  (10): Linear(in_features=8, out_features=4, bias=True)\n",
       "  (11): ReLU()\n",
       "  (12): Linear(in_features=4, out_features=1, bias=True)\n",
       ")"
      ]
     },
     "execution_count": 25,
     "metadata": {},
     "output_type": "execute_result"
    },
    {
     "data": {
      "text/plain": [
       "Sequential(\n",
       "  (0): Linear(in_features=275, out_features=128, bias=True)\n",
       "  (1): ReLU()\n",
       "  (2): Linear(in_features=128, out_features=64, bias=True)\n",
       "  (3): ReLU()\n",
       "  (4): Linear(in_features=64, out_features=32, bias=True)\n",
       "  (5): ReLU()\n",
       "  (6): Linear(in_features=32, out_features=16, bias=True)\n",
       "  (7): ReLU()\n",
       "  (8): Linear(in_features=16, out_features=8, bias=True)\n",
       "  (9): ReLU()\n",
       "  (10): Linear(in_features=8, out_features=4, bias=True)\n",
       "  (11): ReLU()\n",
       "  (12): Linear(in_features=4, out_features=1, bias=True)\n",
       ")"
      ]
     },
     "execution_count": 25,
     "metadata": {},
     "output_type": "execute_result"
    },
    {
     "data": {
      "text/plain": [
       "Sequential(\n",
       "  (0): Linear(in_features=275, out_features=128, bias=True)\n",
       "  (1): ReLU()\n",
       "  (2): Linear(in_features=128, out_features=64, bias=True)\n",
       "  (3): ReLU()\n",
       "  (4): Linear(in_features=64, out_features=32, bias=True)\n",
       "  (5): ReLU()\n",
       "  (6): Linear(in_features=32, out_features=16, bias=True)\n",
       "  (7): ReLU()\n",
       "  (8): Linear(in_features=16, out_features=8, bias=True)\n",
       "  (9): ReLU()\n",
       "  (10): Linear(in_features=8, out_features=4, bias=True)\n",
       "  (11): ReLU()\n",
       "  (12): Linear(in_features=4, out_features=1, bias=True)\n",
       ")"
      ]
     },
     "execution_count": 25,
     "metadata": {},
     "output_type": "execute_result"
    },
    {
     "data": {
      "text/plain": [
       "Sequential(\n",
       "  (0): Linear(in_features=275, out_features=128, bias=True)\n",
       "  (1): ReLU()\n",
       "  (2): Linear(in_features=128, out_features=64, bias=True)\n",
       "  (3): ReLU()\n",
       "  (4): Linear(in_features=64, out_features=32, bias=True)\n",
       "  (5): ReLU()\n",
       "  (6): Linear(in_features=32, out_features=16, bias=True)\n",
       "  (7): ReLU()\n",
       "  (8): Linear(in_features=16, out_features=8, bias=True)\n",
       "  (9): ReLU()\n",
       "  (10): Linear(in_features=8, out_features=4, bias=True)\n",
       "  (11): ReLU()\n",
       "  (12): Linear(in_features=4, out_features=1, bias=True)\n",
       ")"
      ]
     },
     "execution_count": 25,
     "metadata": {},
     "output_type": "execute_result"
    },
    {
     "data": {
      "text/plain": [
       "Sequential(\n",
       "  (0): Linear(in_features=275, out_features=128, bias=True)\n",
       "  (1): ReLU()\n",
       "  (2): Linear(in_features=128, out_features=64, bias=True)\n",
       "  (3): ReLU()\n",
       "  (4): Linear(in_features=64, out_features=32, bias=True)\n",
       "  (5): ReLU()\n",
       "  (6): Linear(in_features=32, out_features=16, bias=True)\n",
       "  (7): ReLU()\n",
       "  (8): Linear(in_features=16, out_features=8, bias=True)\n",
       "  (9): ReLU()\n",
       "  (10): Linear(in_features=8, out_features=4, bias=True)\n",
       "  (11): ReLU()\n",
       "  (12): Linear(in_features=4, out_features=1, bias=True)\n",
       ")"
      ]
     },
     "execution_count": 25,
     "metadata": {},
     "output_type": "execute_result"
    },
    {
     "data": {
      "text/plain": [
       "Sequential(\n",
       "  (0): Linear(in_features=275, out_features=128, bias=True)\n",
       "  (1): ReLU()\n",
       "  (2): Linear(in_features=128, out_features=64, bias=True)\n",
       "  (3): ReLU()\n",
       "  (4): Linear(in_features=64, out_features=32, bias=True)\n",
       "  (5): ReLU()\n",
       "  (6): Linear(in_features=32, out_features=16, bias=True)\n",
       "  (7): ReLU()\n",
       "  (8): Linear(in_features=16, out_features=8, bias=True)\n",
       "  (9): ReLU()\n",
       "  (10): Linear(in_features=8, out_features=4, bias=True)\n",
       "  (11): ReLU()\n",
       "  (12): Linear(in_features=4, out_features=1, bias=True)\n",
       ")"
      ]
     },
     "execution_count": 25,
     "metadata": {},
     "output_type": "execute_result"
    },
    {
     "data": {
      "text/plain": [
       "Sequential(\n",
       "  (0): Linear(in_features=275, out_features=128, bias=True)\n",
       "  (1): ReLU()\n",
       "  (2): Linear(in_features=128, out_features=64, bias=True)\n",
       "  (3): ReLU()\n",
       "  (4): Linear(in_features=64, out_features=32, bias=True)\n",
       "  (5): ReLU()\n",
       "  (6): Linear(in_features=32, out_features=16, bias=True)\n",
       "  (7): ReLU()\n",
       "  (8): Linear(in_features=16, out_features=8, bias=True)\n",
       "  (9): ReLU()\n",
       "  (10): Linear(in_features=8, out_features=4, bias=True)\n",
       "  (11): ReLU()\n",
       "  (12): Linear(in_features=4, out_features=1, bias=True)\n",
       ")"
      ]
     },
     "execution_count": 25,
     "metadata": {},
     "output_type": "execute_result"
    },
    {
     "data": {
      "text/plain": [
       "Sequential(\n",
       "  (0): Linear(in_features=275, out_features=128, bias=True)\n",
       "  (1): ReLU()\n",
       "  (2): Linear(in_features=128, out_features=64, bias=True)\n",
       "  (3): ReLU()\n",
       "  (4): Linear(in_features=64, out_features=32, bias=True)\n",
       "  (5): ReLU()\n",
       "  (6): Linear(in_features=32, out_features=16, bias=True)\n",
       "  (7): ReLU()\n",
       "  (8): Linear(in_features=16, out_features=8, bias=True)\n",
       "  (9): ReLU()\n",
       "  (10): Linear(in_features=8, out_features=4, bias=True)\n",
       "  (11): ReLU()\n",
       "  (12): Linear(in_features=4, out_features=1, bias=True)\n",
       ")"
      ]
     },
     "execution_count": 25,
     "metadata": {},
     "output_type": "execute_result"
    },
    {
     "data": {
      "text/plain": [
       "Sequential(\n",
       "  (0): Linear(in_features=275, out_features=128, bias=True)\n",
       "  (1): ReLU()\n",
       "  (2): Linear(in_features=128, out_features=64, bias=True)\n",
       "  (3): ReLU()\n",
       "  (4): Linear(in_features=64, out_features=32, bias=True)\n",
       "  (5): ReLU()\n",
       "  (6): Linear(in_features=32, out_features=16, bias=True)\n",
       "  (7): ReLU()\n",
       "  (8): Linear(in_features=16, out_features=8, bias=True)\n",
       "  (9): ReLU()\n",
       "  (10): Linear(in_features=8, out_features=4, bias=True)\n",
       "  (11): ReLU()\n",
       "  (12): Linear(in_features=4, out_features=1, bias=True)\n",
       ")"
      ]
     },
     "execution_count": 25,
     "metadata": {},
     "output_type": "execute_result"
    },
    {
     "data": {
      "text/plain": [
       "Sequential(\n",
       "  (0): Linear(in_features=275, out_features=128, bias=True)\n",
       "  (1): ReLU()\n",
       "  (2): Linear(in_features=128, out_features=64, bias=True)\n",
       "  (3): ReLU()\n",
       "  (4): Linear(in_features=64, out_features=32, bias=True)\n",
       "  (5): ReLU()\n",
       "  (6): Linear(in_features=32, out_features=16, bias=True)\n",
       "  (7): ReLU()\n",
       "  (8): Linear(in_features=16, out_features=8, bias=True)\n",
       "  (9): ReLU()\n",
       "  (10): Linear(in_features=8, out_features=4, bias=True)\n",
       "  (11): ReLU()\n",
       "  (12): Linear(in_features=4, out_features=1, bias=True)\n",
       ")"
      ]
     },
     "execution_count": 25,
     "metadata": {},
     "output_type": "execute_result"
    },
    {
     "data": {
      "text/plain": [
       "Sequential(\n",
       "  (0): Linear(in_features=275, out_features=128, bias=True)\n",
       "  (1): ReLU()\n",
       "  (2): Linear(in_features=128, out_features=64, bias=True)\n",
       "  (3): ReLU()\n",
       "  (4): Linear(in_features=64, out_features=32, bias=True)\n",
       "  (5): ReLU()\n",
       "  (6): Linear(in_features=32, out_features=16, bias=True)\n",
       "  (7): ReLU()\n",
       "  (8): Linear(in_features=16, out_features=8, bias=True)\n",
       "  (9): ReLU()\n",
       "  (10): Linear(in_features=8, out_features=4, bias=True)\n",
       "  (11): ReLU()\n",
       "  (12): Linear(in_features=4, out_features=1, bias=True)\n",
       ")"
      ]
     },
     "execution_count": 25,
     "metadata": {},
     "output_type": "execute_result"
    },
    {
     "data": {
      "text/plain": [
       "Sequential(\n",
       "  (0): Linear(in_features=275, out_features=128, bias=True)\n",
       "  (1): ReLU()\n",
       "  (2): Linear(in_features=128, out_features=64, bias=True)\n",
       "  (3): ReLU()\n",
       "  (4): Linear(in_features=64, out_features=32, bias=True)\n",
       "  (5): ReLU()\n",
       "  (6): Linear(in_features=32, out_features=16, bias=True)\n",
       "  (7): ReLU()\n",
       "  (8): Linear(in_features=16, out_features=8, bias=True)\n",
       "  (9): ReLU()\n",
       "  (10): Linear(in_features=8, out_features=4, bias=True)\n",
       "  (11): ReLU()\n",
       "  (12): Linear(in_features=4, out_features=1, bias=True)\n",
       ")"
      ]
     },
     "execution_count": 25,
     "metadata": {},
     "output_type": "execute_result"
    },
    {
     "data": {
      "text/plain": [
       "Sequential(\n",
       "  (0): Linear(in_features=275, out_features=128, bias=True)\n",
       "  (1): ReLU()\n",
       "  (2): Linear(in_features=128, out_features=64, bias=True)\n",
       "  (3): ReLU()\n",
       "  (4): Linear(in_features=64, out_features=32, bias=True)\n",
       "  (5): ReLU()\n",
       "  (6): Linear(in_features=32, out_features=16, bias=True)\n",
       "  (7): ReLU()\n",
       "  (8): Linear(in_features=16, out_features=8, bias=True)\n",
       "  (9): ReLU()\n",
       "  (10): Linear(in_features=8, out_features=4, bias=True)\n",
       "  (11): ReLU()\n",
       "  (12): Linear(in_features=4, out_features=1, bias=True)\n",
       ")"
      ]
     },
     "execution_count": 25,
     "metadata": {},
     "output_type": "execute_result"
    },
    {
     "data": {
      "text/plain": [
       "Sequential(\n",
       "  (0): Linear(in_features=275, out_features=128, bias=True)\n",
       "  (1): ReLU()\n",
       "  (2): Linear(in_features=128, out_features=64, bias=True)\n",
       "  (3): ReLU()\n",
       "  (4): Linear(in_features=64, out_features=32, bias=True)\n",
       "  (5): ReLU()\n",
       "  (6): Linear(in_features=32, out_features=16, bias=True)\n",
       "  (7): ReLU()\n",
       "  (8): Linear(in_features=16, out_features=8, bias=True)\n",
       "  (9): ReLU()\n",
       "  (10): Linear(in_features=8, out_features=4, bias=True)\n",
       "  (11): ReLU()\n",
       "  (12): Linear(in_features=4, out_features=1, bias=True)\n",
       ")"
      ]
     },
     "execution_count": 25,
     "metadata": {},
     "output_type": "execute_result"
    },
    {
     "data": {
      "text/plain": [
       "Sequential(\n",
       "  (0): Linear(in_features=275, out_features=128, bias=True)\n",
       "  (1): ReLU()\n",
       "  (2): Linear(in_features=128, out_features=64, bias=True)\n",
       "  (3): ReLU()\n",
       "  (4): Linear(in_features=64, out_features=32, bias=True)\n",
       "  (5): ReLU()\n",
       "  (6): Linear(in_features=32, out_features=16, bias=True)\n",
       "  (7): ReLU()\n",
       "  (8): Linear(in_features=16, out_features=8, bias=True)\n",
       "  (9): ReLU()\n",
       "  (10): Linear(in_features=8, out_features=4, bias=True)\n",
       "  (11): ReLU()\n",
       "  (12): Linear(in_features=4, out_features=1, bias=True)\n",
       ")"
      ]
     },
     "execution_count": 25,
     "metadata": {},
     "output_type": "execute_result"
    },
    {
     "data": {
      "text/plain": [
       "Sequential(\n",
       "  (0): Linear(in_features=275, out_features=128, bias=True)\n",
       "  (1): ReLU()\n",
       "  (2): Linear(in_features=128, out_features=64, bias=True)\n",
       "  (3): ReLU()\n",
       "  (4): Linear(in_features=64, out_features=32, bias=True)\n",
       "  (5): ReLU()\n",
       "  (6): Linear(in_features=32, out_features=16, bias=True)\n",
       "  (7): ReLU()\n",
       "  (8): Linear(in_features=16, out_features=8, bias=True)\n",
       "  (9): ReLU()\n",
       "  (10): Linear(in_features=8, out_features=4, bias=True)\n",
       "  (11): ReLU()\n",
       "  (12): Linear(in_features=4, out_features=1, bias=True)\n",
       ")"
      ]
     },
     "execution_count": 25,
     "metadata": {},
     "output_type": "execute_result"
    },
    {
     "data": {
      "text/plain": [
       "Sequential(\n",
       "  (0): Linear(in_features=275, out_features=128, bias=True)\n",
       "  (1): ReLU()\n",
       "  (2): Linear(in_features=128, out_features=64, bias=True)\n",
       "  (3): ReLU()\n",
       "  (4): Linear(in_features=64, out_features=32, bias=True)\n",
       "  (5): ReLU()\n",
       "  (6): Linear(in_features=32, out_features=16, bias=True)\n",
       "  (7): ReLU()\n",
       "  (8): Linear(in_features=16, out_features=8, bias=True)\n",
       "  (9): ReLU()\n",
       "  (10): Linear(in_features=8, out_features=4, bias=True)\n",
       "  (11): ReLU()\n",
       "  (12): Linear(in_features=4, out_features=1, bias=True)\n",
       ")"
      ]
     },
     "execution_count": 25,
     "metadata": {},
     "output_type": "execute_result"
    },
    {
     "data": {
      "text/plain": [
       "Sequential(\n",
       "  (0): Linear(in_features=275, out_features=128, bias=True)\n",
       "  (1): ReLU()\n",
       "  (2): Linear(in_features=128, out_features=64, bias=True)\n",
       "  (3): ReLU()\n",
       "  (4): Linear(in_features=64, out_features=32, bias=True)\n",
       "  (5): ReLU()\n",
       "  (6): Linear(in_features=32, out_features=16, bias=True)\n",
       "  (7): ReLU()\n",
       "  (8): Linear(in_features=16, out_features=8, bias=True)\n",
       "  (9): ReLU()\n",
       "  (10): Linear(in_features=8, out_features=4, bias=True)\n",
       "  (11): ReLU()\n",
       "  (12): Linear(in_features=4, out_features=1, bias=True)\n",
       ")"
      ]
     },
     "execution_count": 25,
     "metadata": {},
     "output_type": "execute_result"
    },
    {
     "data": {
      "text/plain": [
       "Sequential(\n",
       "  (0): Linear(in_features=275, out_features=128, bias=True)\n",
       "  (1): ReLU()\n",
       "  (2): Linear(in_features=128, out_features=64, bias=True)\n",
       "  (3): ReLU()\n",
       "  (4): Linear(in_features=64, out_features=32, bias=True)\n",
       "  (5): ReLU()\n",
       "  (6): Linear(in_features=32, out_features=16, bias=True)\n",
       "  (7): ReLU()\n",
       "  (8): Linear(in_features=16, out_features=8, bias=True)\n",
       "  (9): ReLU()\n",
       "  (10): Linear(in_features=8, out_features=4, bias=True)\n",
       "  (11): ReLU()\n",
       "  (12): Linear(in_features=4, out_features=1, bias=True)\n",
       ")"
      ]
     },
     "execution_count": 25,
     "metadata": {},
     "output_type": "execute_result"
    },
    {
     "data": {
      "text/plain": [
       "Sequential(\n",
       "  (0): Linear(in_features=275, out_features=128, bias=True)\n",
       "  (1): ReLU()\n",
       "  (2): Linear(in_features=128, out_features=64, bias=True)\n",
       "  (3): ReLU()\n",
       "  (4): Linear(in_features=64, out_features=32, bias=True)\n",
       "  (5): ReLU()\n",
       "  (6): Linear(in_features=32, out_features=16, bias=True)\n",
       "  (7): ReLU()\n",
       "  (8): Linear(in_features=16, out_features=8, bias=True)\n",
       "  (9): ReLU()\n",
       "  (10): Linear(in_features=8, out_features=4, bias=True)\n",
       "  (11): ReLU()\n",
       "  (12): Linear(in_features=4, out_features=1, bias=True)\n",
       ")"
      ]
     },
     "execution_count": 25,
     "metadata": {},
     "output_type": "execute_result"
    },
    {
     "data": {
      "text/plain": [
       "Sequential(\n",
       "  (0): Linear(in_features=275, out_features=128, bias=True)\n",
       "  (1): ReLU()\n",
       "  (2): Linear(in_features=128, out_features=64, bias=True)\n",
       "  (3): ReLU()\n",
       "  (4): Linear(in_features=64, out_features=32, bias=True)\n",
       "  (5): ReLU()\n",
       "  (6): Linear(in_features=32, out_features=16, bias=True)\n",
       "  (7): ReLU()\n",
       "  (8): Linear(in_features=16, out_features=8, bias=True)\n",
       "  (9): ReLU()\n",
       "  (10): Linear(in_features=8, out_features=4, bias=True)\n",
       "  (11): ReLU()\n",
       "  (12): Linear(in_features=4, out_features=1, bias=True)\n",
       ")"
      ]
     },
     "execution_count": 25,
     "metadata": {},
     "output_type": "execute_result"
    },
    {
     "data": {
      "text/plain": [
       "Sequential(\n",
       "  (0): Linear(in_features=275, out_features=128, bias=True)\n",
       "  (1): ReLU()\n",
       "  (2): Linear(in_features=128, out_features=64, bias=True)\n",
       "  (3): ReLU()\n",
       "  (4): Linear(in_features=64, out_features=32, bias=True)\n",
       "  (5): ReLU()\n",
       "  (6): Linear(in_features=32, out_features=16, bias=True)\n",
       "  (7): ReLU()\n",
       "  (8): Linear(in_features=16, out_features=8, bias=True)\n",
       "  (9): ReLU()\n",
       "  (10): Linear(in_features=8, out_features=4, bias=True)\n",
       "  (11): ReLU()\n",
       "  (12): Linear(in_features=4, out_features=1, bias=True)\n",
       ")"
      ]
     },
     "execution_count": 25,
     "metadata": {},
     "output_type": "execute_result"
    },
    {
     "data": {
      "text/plain": [
       "Sequential(\n",
       "  (0): Linear(in_features=275, out_features=128, bias=True)\n",
       "  (1): ReLU()\n",
       "  (2): Linear(in_features=128, out_features=64, bias=True)\n",
       "  (3): ReLU()\n",
       "  (4): Linear(in_features=64, out_features=32, bias=True)\n",
       "  (5): ReLU()\n",
       "  (6): Linear(in_features=32, out_features=16, bias=True)\n",
       "  (7): ReLU()\n",
       "  (8): Linear(in_features=16, out_features=8, bias=True)\n",
       "  (9): ReLU()\n",
       "  (10): Linear(in_features=8, out_features=4, bias=True)\n",
       "  (11): ReLU()\n",
       "  (12): Linear(in_features=4, out_features=1, bias=True)\n",
       ")"
      ]
     },
     "execution_count": 25,
     "metadata": {},
     "output_type": "execute_result"
    },
    {
     "data": {
      "text/plain": [
       "Sequential(\n",
       "  (0): Linear(in_features=275, out_features=128, bias=True)\n",
       "  (1): ReLU()\n",
       "  (2): Linear(in_features=128, out_features=64, bias=True)\n",
       "  (3): ReLU()\n",
       "  (4): Linear(in_features=64, out_features=32, bias=True)\n",
       "  (5): ReLU()\n",
       "  (6): Linear(in_features=32, out_features=16, bias=True)\n",
       "  (7): ReLU()\n",
       "  (8): Linear(in_features=16, out_features=8, bias=True)\n",
       "  (9): ReLU()\n",
       "  (10): Linear(in_features=8, out_features=4, bias=True)\n",
       "  (11): ReLU()\n",
       "  (12): Linear(in_features=4, out_features=1, bias=True)\n",
       ")"
      ]
     },
     "execution_count": 25,
     "metadata": {},
     "output_type": "execute_result"
    },
    {
     "data": {
      "text/plain": [
       "Sequential(\n",
       "  (0): Linear(in_features=275, out_features=128, bias=True)\n",
       "  (1): ReLU()\n",
       "  (2): Linear(in_features=128, out_features=64, bias=True)\n",
       "  (3): ReLU()\n",
       "  (4): Linear(in_features=64, out_features=32, bias=True)\n",
       "  (5): ReLU()\n",
       "  (6): Linear(in_features=32, out_features=16, bias=True)\n",
       "  (7): ReLU()\n",
       "  (8): Linear(in_features=16, out_features=8, bias=True)\n",
       "  (9): ReLU()\n",
       "  (10): Linear(in_features=8, out_features=4, bias=True)\n",
       "  (11): ReLU()\n",
       "  (12): Linear(in_features=4, out_features=1, bias=True)\n",
       ")"
      ]
     },
     "execution_count": 25,
     "metadata": {},
     "output_type": "execute_result"
    },
    {
     "data": {
      "text/plain": [
       "Sequential(\n",
       "  (0): Linear(in_features=275, out_features=128, bias=True)\n",
       "  (1): ReLU()\n",
       "  (2): Linear(in_features=128, out_features=64, bias=True)\n",
       "  (3): ReLU()\n",
       "  (4): Linear(in_features=64, out_features=32, bias=True)\n",
       "  (5): ReLU()\n",
       "  (6): Linear(in_features=32, out_features=16, bias=True)\n",
       "  (7): ReLU()\n",
       "  (8): Linear(in_features=16, out_features=8, bias=True)\n",
       "  (9): ReLU()\n",
       "  (10): Linear(in_features=8, out_features=4, bias=True)\n",
       "  (11): ReLU()\n",
       "  (12): Linear(in_features=4, out_features=1, bias=True)\n",
       ")"
      ]
     },
     "execution_count": 25,
     "metadata": {},
     "output_type": "execute_result"
    },
    {
     "data": {
      "text/plain": [
       "Sequential(\n",
       "  (0): Linear(in_features=275, out_features=128, bias=True)\n",
       "  (1): ReLU()\n",
       "  (2): Linear(in_features=128, out_features=64, bias=True)\n",
       "  (3): ReLU()\n",
       "  (4): Linear(in_features=64, out_features=32, bias=True)\n",
       "  (5): ReLU()\n",
       "  (6): Linear(in_features=32, out_features=16, bias=True)\n",
       "  (7): ReLU()\n",
       "  (8): Linear(in_features=16, out_features=8, bias=True)\n",
       "  (9): ReLU()\n",
       "  (10): Linear(in_features=8, out_features=4, bias=True)\n",
       "  (11): ReLU()\n",
       "  (12): Linear(in_features=4, out_features=1, bias=True)\n",
       ")"
      ]
     },
     "execution_count": 25,
     "metadata": {},
     "output_type": "execute_result"
    },
    {
     "data": {
      "text/plain": [
       "Sequential(\n",
       "  (0): Linear(in_features=275, out_features=128, bias=True)\n",
       "  (1): ReLU()\n",
       "  (2): Linear(in_features=128, out_features=64, bias=True)\n",
       "  (3): ReLU()\n",
       "  (4): Linear(in_features=64, out_features=32, bias=True)\n",
       "  (5): ReLU()\n",
       "  (6): Linear(in_features=32, out_features=16, bias=True)\n",
       "  (7): ReLU()\n",
       "  (8): Linear(in_features=16, out_features=8, bias=True)\n",
       "  (9): ReLU()\n",
       "  (10): Linear(in_features=8, out_features=4, bias=True)\n",
       "  (11): ReLU()\n",
       "  (12): Linear(in_features=4, out_features=1, bias=True)\n",
       ")"
      ]
     },
     "execution_count": 25,
     "metadata": {},
     "output_type": "execute_result"
    },
    {
     "data": {
      "text/plain": [
       "Sequential(\n",
       "  (0): Linear(in_features=275, out_features=128, bias=True)\n",
       "  (1): ReLU()\n",
       "  (2): Linear(in_features=128, out_features=64, bias=True)\n",
       "  (3): ReLU()\n",
       "  (4): Linear(in_features=64, out_features=32, bias=True)\n",
       "  (5): ReLU()\n",
       "  (6): Linear(in_features=32, out_features=16, bias=True)\n",
       "  (7): ReLU()\n",
       "  (8): Linear(in_features=16, out_features=8, bias=True)\n",
       "  (9): ReLU()\n",
       "  (10): Linear(in_features=8, out_features=4, bias=True)\n",
       "  (11): ReLU()\n",
       "  (12): Linear(in_features=4, out_features=1, bias=True)\n",
       ")"
      ]
     },
     "execution_count": 25,
     "metadata": {},
     "output_type": "execute_result"
    },
    {
     "data": {
      "text/plain": [
       "Sequential(\n",
       "  (0): Linear(in_features=275, out_features=128, bias=True)\n",
       "  (1): ReLU()\n",
       "  (2): Linear(in_features=128, out_features=64, bias=True)\n",
       "  (3): ReLU()\n",
       "  (4): Linear(in_features=64, out_features=32, bias=True)\n",
       "  (5): ReLU()\n",
       "  (6): Linear(in_features=32, out_features=16, bias=True)\n",
       "  (7): ReLU()\n",
       "  (8): Linear(in_features=16, out_features=8, bias=True)\n",
       "  (9): ReLU()\n",
       "  (10): Linear(in_features=8, out_features=4, bias=True)\n",
       "  (11): ReLU()\n",
       "  (12): Linear(in_features=4, out_features=1, bias=True)\n",
       ")"
      ]
     },
     "execution_count": 25,
     "metadata": {},
     "output_type": "execute_result"
    },
    {
     "data": {
      "text/plain": [
       "Sequential(\n",
       "  (0): Linear(in_features=275, out_features=128, bias=True)\n",
       "  (1): ReLU()\n",
       "  (2): Linear(in_features=128, out_features=64, bias=True)\n",
       "  (3): ReLU()\n",
       "  (4): Linear(in_features=64, out_features=32, bias=True)\n",
       "  (5): ReLU()\n",
       "  (6): Linear(in_features=32, out_features=16, bias=True)\n",
       "  (7): ReLU()\n",
       "  (8): Linear(in_features=16, out_features=8, bias=True)\n",
       "  (9): ReLU()\n",
       "  (10): Linear(in_features=8, out_features=4, bias=True)\n",
       "  (11): ReLU()\n",
       "  (12): Linear(in_features=4, out_features=1, bias=True)\n",
       ")"
      ]
     },
     "execution_count": 25,
     "metadata": {},
     "output_type": "execute_result"
    },
    {
     "data": {
      "text/plain": [
       "Sequential(\n",
       "  (0): Linear(in_features=275, out_features=128, bias=True)\n",
       "  (1): ReLU()\n",
       "  (2): Linear(in_features=128, out_features=64, bias=True)\n",
       "  (3): ReLU()\n",
       "  (4): Linear(in_features=64, out_features=32, bias=True)\n",
       "  (5): ReLU()\n",
       "  (6): Linear(in_features=32, out_features=16, bias=True)\n",
       "  (7): ReLU()\n",
       "  (8): Linear(in_features=16, out_features=8, bias=True)\n",
       "  (9): ReLU()\n",
       "  (10): Linear(in_features=8, out_features=4, bias=True)\n",
       "  (11): ReLU()\n",
       "  (12): Linear(in_features=4, out_features=1, bias=True)\n",
       ")"
      ]
     },
     "execution_count": 25,
     "metadata": {},
     "output_type": "execute_result"
    },
    {
     "data": {
      "text/plain": [
       "Sequential(\n",
       "  (0): Linear(in_features=275, out_features=128, bias=True)\n",
       "  (1): ReLU()\n",
       "  (2): Linear(in_features=128, out_features=64, bias=True)\n",
       "  (3): ReLU()\n",
       "  (4): Linear(in_features=64, out_features=32, bias=True)\n",
       "  (5): ReLU()\n",
       "  (6): Linear(in_features=32, out_features=16, bias=True)\n",
       "  (7): ReLU()\n",
       "  (8): Linear(in_features=16, out_features=8, bias=True)\n",
       "  (9): ReLU()\n",
       "  (10): Linear(in_features=8, out_features=4, bias=True)\n",
       "  (11): ReLU()\n",
       "  (12): Linear(in_features=4, out_features=1, bias=True)\n",
       ")"
      ]
     },
     "execution_count": 25,
     "metadata": {},
     "output_type": "execute_result"
    },
    {
     "data": {
      "text/plain": [
       "Sequential(\n",
       "  (0): Linear(in_features=275, out_features=128, bias=True)\n",
       "  (1): ReLU()\n",
       "  (2): Linear(in_features=128, out_features=64, bias=True)\n",
       "  (3): ReLU()\n",
       "  (4): Linear(in_features=64, out_features=32, bias=True)\n",
       "  (5): ReLU()\n",
       "  (6): Linear(in_features=32, out_features=16, bias=True)\n",
       "  (7): ReLU()\n",
       "  (8): Linear(in_features=16, out_features=8, bias=True)\n",
       "  (9): ReLU()\n",
       "  (10): Linear(in_features=8, out_features=4, bias=True)\n",
       "  (11): ReLU()\n",
       "  (12): Linear(in_features=4, out_features=1, bias=True)\n",
       ")"
      ]
     },
     "execution_count": 25,
     "metadata": {},
     "output_type": "execute_result"
    },
    {
     "data": {
      "text/plain": [
       "Sequential(\n",
       "  (0): Linear(in_features=275, out_features=128, bias=True)\n",
       "  (1): ReLU()\n",
       "  (2): Linear(in_features=128, out_features=64, bias=True)\n",
       "  (3): ReLU()\n",
       "  (4): Linear(in_features=64, out_features=32, bias=True)\n",
       "  (5): ReLU()\n",
       "  (6): Linear(in_features=32, out_features=16, bias=True)\n",
       "  (7): ReLU()\n",
       "  (8): Linear(in_features=16, out_features=8, bias=True)\n",
       "  (9): ReLU()\n",
       "  (10): Linear(in_features=8, out_features=4, bias=True)\n",
       "  (11): ReLU()\n",
       "  (12): Linear(in_features=4, out_features=1, bias=True)\n",
       ")"
      ]
     },
     "execution_count": 25,
     "metadata": {},
     "output_type": "execute_result"
    },
    {
     "data": {
      "text/plain": [
       "Sequential(\n",
       "  (0): Linear(in_features=275, out_features=128, bias=True)\n",
       "  (1): ReLU()\n",
       "  (2): Linear(in_features=128, out_features=64, bias=True)\n",
       "  (3): ReLU()\n",
       "  (4): Linear(in_features=64, out_features=32, bias=True)\n",
       "  (5): ReLU()\n",
       "  (6): Linear(in_features=32, out_features=16, bias=True)\n",
       "  (7): ReLU()\n",
       "  (8): Linear(in_features=16, out_features=8, bias=True)\n",
       "  (9): ReLU()\n",
       "  (10): Linear(in_features=8, out_features=4, bias=True)\n",
       "  (11): ReLU()\n",
       "  (12): Linear(in_features=4, out_features=1, bias=True)\n",
       ")"
      ]
     },
     "execution_count": 25,
     "metadata": {},
     "output_type": "execute_result"
    },
    {
     "data": {
      "text/plain": [
       "Sequential(\n",
       "  (0): Linear(in_features=275, out_features=128, bias=True)\n",
       "  (1): ReLU()\n",
       "  (2): Linear(in_features=128, out_features=64, bias=True)\n",
       "  (3): ReLU()\n",
       "  (4): Linear(in_features=64, out_features=32, bias=True)\n",
       "  (5): ReLU()\n",
       "  (6): Linear(in_features=32, out_features=16, bias=True)\n",
       "  (7): ReLU()\n",
       "  (8): Linear(in_features=16, out_features=8, bias=True)\n",
       "  (9): ReLU()\n",
       "  (10): Linear(in_features=8, out_features=4, bias=True)\n",
       "  (11): ReLU()\n",
       "  (12): Linear(in_features=4, out_features=1, bias=True)\n",
       ")"
      ]
     },
     "execution_count": 25,
     "metadata": {},
     "output_type": "execute_result"
    },
    {
     "data": {
      "text/plain": [
       "Sequential(\n",
       "  (0): Linear(in_features=275, out_features=128, bias=True)\n",
       "  (1): ReLU()\n",
       "  (2): Linear(in_features=128, out_features=64, bias=True)\n",
       "  (3): ReLU()\n",
       "  (4): Linear(in_features=64, out_features=32, bias=True)\n",
       "  (5): ReLU()\n",
       "  (6): Linear(in_features=32, out_features=16, bias=True)\n",
       "  (7): ReLU()\n",
       "  (8): Linear(in_features=16, out_features=8, bias=True)\n",
       "  (9): ReLU()\n",
       "  (10): Linear(in_features=8, out_features=4, bias=True)\n",
       "  (11): ReLU()\n",
       "  (12): Linear(in_features=4, out_features=1, bias=True)\n",
       ")"
      ]
     },
     "execution_count": 25,
     "metadata": {},
     "output_type": "execute_result"
    },
    {
     "data": {
      "text/plain": [
       "Sequential(\n",
       "  (0): Linear(in_features=275, out_features=128, bias=True)\n",
       "  (1): ReLU()\n",
       "  (2): Linear(in_features=128, out_features=64, bias=True)\n",
       "  (3): ReLU()\n",
       "  (4): Linear(in_features=64, out_features=32, bias=True)\n",
       "  (5): ReLU()\n",
       "  (6): Linear(in_features=32, out_features=16, bias=True)\n",
       "  (7): ReLU()\n",
       "  (8): Linear(in_features=16, out_features=8, bias=True)\n",
       "  (9): ReLU()\n",
       "  (10): Linear(in_features=8, out_features=4, bias=True)\n",
       "  (11): ReLU()\n",
       "  (12): Linear(in_features=4, out_features=1, bias=True)\n",
       ")"
      ]
     },
     "execution_count": 25,
     "metadata": {},
     "output_type": "execute_result"
    },
    {
     "data": {
      "text/plain": [
       "Sequential(\n",
       "  (0): Linear(in_features=275, out_features=128, bias=True)\n",
       "  (1): ReLU()\n",
       "  (2): Linear(in_features=128, out_features=64, bias=True)\n",
       "  (3): ReLU()\n",
       "  (4): Linear(in_features=64, out_features=32, bias=True)\n",
       "  (5): ReLU()\n",
       "  (6): Linear(in_features=32, out_features=16, bias=True)\n",
       "  (7): ReLU()\n",
       "  (8): Linear(in_features=16, out_features=8, bias=True)\n",
       "  (9): ReLU()\n",
       "  (10): Linear(in_features=8, out_features=4, bias=True)\n",
       "  (11): ReLU()\n",
       "  (12): Linear(in_features=4, out_features=1, bias=True)\n",
       ")"
      ]
     },
     "execution_count": 25,
     "metadata": {},
     "output_type": "execute_result"
    },
    {
     "data": {
      "text/plain": [
       "Sequential(\n",
       "  (0): Linear(in_features=275, out_features=128, bias=True)\n",
       "  (1): ReLU()\n",
       "  (2): Linear(in_features=128, out_features=64, bias=True)\n",
       "  (3): ReLU()\n",
       "  (4): Linear(in_features=64, out_features=32, bias=True)\n",
       "  (5): ReLU()\n",
       "  (6): Linear(in_features=32, out_features=16, bias=True)\n",
       "  (7): ReLU()\n",
       "  (8): Linear(in_features=16, out_features=8, bias=True)\n",
       "  (9): ReLU()\n",
       "  (10): Linear(in_features=8, out_features=4, bias=True)\n",
       "  (11): ReLU()\n",
       "  (12): Linear(in_features=4, out_features=1, bias=True)\n",
       ")"
      ]
     },
     "execution_count": 25,
     "metadata": {},
     "output_type": "execute_result"
    },
    {
     "data": {
      "text/plain": [
       "Sequential(\n",
       "  (0): Linear(in_features=275, out_features=128, bias=True)\n",
       "  (1): ReLU()\n",
       "  (2): Linear(in_features=128, out_features=64, bias=True)\n",
       "  (3): ReLU()\n",
       "  (4): Linear(in_features=64, out_features=32, bias=True)\n",
       "  (5): ReLU()\n",
       "  (6): Linear(in_features=32, out_features=16, bias=True)\n",
       "  (7): ReLU()\n",
       "  (8): Linear(in_features=16, out_features=8, bias=True)\n",
       "  (9): ReLU()\n",
       "  (10): Linear(in_features=8, out_features=4, bias=True)\n",
       "  (11): ReLU()\n",
       "  (12): Linear(in_features=4, out_features=1, bias=True)\n",
       ")"
      ]
     },
     "execution_count": 25,
     "metadata": {},
     "output_type": "execute_result"
    },
    {
     "data": {
      "text/plain": [
       "Sequential(\n",
       "  (0): Linear(in_features=275, out_features=128, bias=True)\n",
       "  (1): ReLU()\n",
       "  (2): Linear(in_features=128, out_features=64, bias=True)\n",
       "  (3): ReLU()\n",
       "  (4): Linear(in_features=64, out_features=32, bias=True)\n",
       "  (5): ReLU()\n",
       "  (6): Linear(in_features=32, out_features=16, bias=True)\n",
       "  (7): ReLU()\n",
       "  (8): Linear(in_features=16, out_features=8, bias=True)\n",
       "  (9): ReLU()\n",
       "  (10): Linear(in_features=8, out_features=4, bias=True)\n",
       "  (11): ReLU()\n",
       "  (12): Linear(in_features=4, out_features=1, bias=True)\n",
       ")"
      ]
     },
     "execution_count": 25,
     "metadata": {},
     "output_type": "execute_result"
    },
    {
     "data": {
      "text/plain": [
       "Sequential(\n",
       "  (0): Linear(in_features=275, out_features=128, bias=True)\n",
       "  (1): ReLU()\n",
       "  (2): Linear(in_features=128, out_features=64, bias=True)\n",
       "  (3): ReLU()\n",
       "  (4): Linear(in_features=64, out_features=32, bias=True)\n",
       "  (5): ReLU()\n",
       "  (6): Linear(in_features=32, out_features=16, bias=True)\n",
       "  (7): ReLU()\n",
       "  (8): Linear(in_features=16, out_features=8, bias=True)\n",
       "  (9): ReLU()\n",
       "  (10): Linear(in_features=8, out_features=4, bias=True)\n",
       "  (11): ReLU()\n",
       "  (12): Linear(in_features=4, out_features=1, bias=True)\n",
       ")"
      ]
     },
     "execution_count": 25,
     "metadata": {},
     "output_type": "execute_result"
    },
    {
     "data": {
      "text/plain": [
       "Sequential(\n",
       "  (0): Linear(in_features=275, out_features=128, bias=True)\n",
       "  (1): ReLU()\n",
       "  (2): Linear(in_features=128, out_features=64, bias=True)\n",
       "  (3): ReLU()\n",
       "  (4): Linear(in_features=64, out_features=32, bias=True)\n",
       "  (5): ReLU()\n",
       "  (6): Linear(in_features=32, out_features=16, bias=True)\n",
       "  (7): ReLU()\n",
       "  (8): Linear(in_features=16, out_features=8, bias=True)\n",
       "  (9): ReLU()\n",
       "  (10): Linear(in_features=8, out_features=4, bias=True)\n",
       "  (11): ReLU()\n",
       "  (12): Linear(in_features=4, out_features=1, bias=True)\n",
       ")"
      ]
     },
     "execution_count": 25,
     "metadata": {},
     "output_type": "execute_result"
    },
    {
     "data": {
      "text/plain": [
       "Sequential(\n",
       "  (0): Linear(in_features=275, out_features=128, bias=True)\n",
       "  (1): ReLU()\n",
       "  (2): Linear(in_features=128, out_features=64, bias=True)\n",
       "  (3): ReLU()\n",
       "  (4): Linear(in_features=64, out_features=32, bias=True)\n",
       "  (5): ReLU()\n",
       "  (6): Linear(in_features=32, out_features=16, bias=True)\n",
       "  (7): ReLU()\n",
       "  (8): Linear(in_features=16, out_features=8, bias=True)\n",
       "  (9): ReLU()\n",
       "  (10): Linear(in_features=8, out_features=4, bias=True)\n",
       "  (11): ReLU()\n",
       "  (12): Linear(in_features=4, out_features=1, bias=True)\n",
       ")"
      ]
     },
     "execution_count": 25,
     "metadata": {},
     "output_type": "execute_result"
    },
    {
     "data": {
      "text/plain": [
       "Sequential(\n",
       "  (0): Linear(in_features=275, out_features=128, bias=True)\n",
       "  (1): ReLU()\n",
       "  (2): Linear(in_features=128, out_features=64, bias=True)\n",
       "  (3): ReLU()\n",
       "  (4): Linear(in_features=64, out_features=32, bias=True)\n",
       "  (5): ReLU()\n",
       "  (6): Linear(in_features=32, out_features=16, bias=True)\n",
       "  (7): ReLU()\n",
       "  (8): Linear(in_features=16, out_features=8, bias=True)\n",
       "  (9): ReLU()\n",
       "  (10): Linear(in_features=8, out_features=4, bias=True)\n",
       "  (11): ReLU()\n",
       "  (12): Linear(in_features=4, out_features=1, bias=True)\n",
       ")"
      ]
     },
     "execution_count": 25,
     "metadata": {},
     "output_type": "execute_result"
    },
    {
     "data": {
      "text/plain": [
       "Sequential(\n",
       "  (0): Linear(in_features=275, out_features=128, bias=True)\n",
       "  (1): ReLU()\n",
       "  (2): Linear(in_features=128, out_features=64, bias=True)\n",
       "  (3): ReLU()\n",
       "  (4): Linear(in_features=64, out_features=32, bias=True)\n",
       "  (5): ReLU()\n",
       "  (6): Linear(in_features=32, out_features=16, bias=True)\n",
       "  (7): ReLU()\n",
       "  (8): Linear(in_features=16, out_features=8, bias=True)\n",
       "  (9): ReLU()\n",
       "  (10): Linear(in_features=8, out_features=4, bias=True)\n",
       "  (11): ReLU()\n",
       "  (12): Linear(in_features=4, out_features=1, bias=True)\n",
       ")"
      ]
     },
     "execution_count": 25,
     "metadata": {},
     "output_type": "execute_result"
    },
    {
     "data": {
      "text/plain": [
       "Sequential(\n",
       "  (0): Linear(in_features=275, out_features=128, bias=True)\n",
       "  (1): ReLU()\n",
       "  (2): Linear(in_features=128, out_features=64, bias=True)\n",
       "  (3): ReLU()\n",
       "  (4): Linear(in_features=64, out_features=32, bias=True)\n",
       "  (5): ReLU()\n",
       "  (6): Linear(in_features=32, out_features=16, bias=True)\n",
       "  (7): ReLU()\n",
       "  (8): Linear(in_features=16, out_features=8, bias=True)\n",
       "  (9): ReLU()\n",
       "  (10): Linear(in_features=8, out_features=4, bias=True)\n",
       "  (11): ReLU()\n",
       "  (12): Linear(in_features=4, out_features=1, bias=True)\n",
       ")"
      ]
     },
     "execution_count": 25,
     "metadata": {},
     "output_type": "execute_result"
    },
    {
     "data": {
      "text/plain": [
       "Sequential(\n",
       "  (0): Linear(in_features=275, out_features=128, bias=True)\n",
       "  (1): ReLU()\n",
       "  (2): Linear(in_features=128, out_features=64, bias=True)\n",
       "  (3): ReLU()\n",
       "  (4): Linear(in_features=64, out_features=32, bias=True)\n",
       "  (5): ReLU()\n",
       "  (6): Linear(in_features=32, out_features=16, bias=True)\n",
       "  (7): ReLU()\n",
       "  (8): Linear(in_features=16, out_features=8, bias=True)\n",
       "  (9): ReLU()\n",
       "  (10): Linear(in_features=8, out_features=4, bias=True)\n",
       "  (11): ReLU()\n",
       "  (12): Linear(in_features=4, out_features=1, bias=True)\n",
       ")"
      ]
     },
     "execution_count": 25,
     "metadata": {},
     "output_type": "execute_result"
    },
    {
     "data": {
      "text/plain": [
       "Sequential(\n",
       "  (0): Linear(in_features=275, out_features=128, bias=True)\n",
       "  (1): ReLU()\n",
       "  (2): Linear(in_features=128, out_features=64, bias=True)\n",
       "  (3): ReLU()\n",
       "  (4): Linear(in_features=64, out_features=32, bias=True)\n",
       "  (5): ReLU()\n",
       "  (6): Linear(in_features=32, out_features=16, bias=True)\n",
       "  (7): ReLU()\n",
       "  (8): Linear(in_features=16, out_features=8, bias=True)\n",
       "  (9): ReLU()\n",
       "  (10): Linear(in_features=8, out_features=4, bias=True)\n",
       "  (11): ReLU()\n",
       "  (12): Linear(in_features=4, out_features=1, bias=True)\n",
       ")"
      ]
     },
     "execution_count": 25,
     "metadata": {},
     "output_type": "execute_result"
    },
    {
     "data": {
      "text/plain": [
       "Sequential(\n",
       "  (0): Linear(in_features=275, out_features=128, bias=True)\n",
       "  (1): ReLU()\n",
       "  (2): Linear(in_features=128, out_features=64, bias=True)\n",
       "  (3): ReLU()\n",
       "  (4): Linear(in_features=64, out_features=32, bias=True)\n",
       "  (5): ReLU()\n",
       "  (6): Linear(in_features=32, out_features=16, bias=True)\n",
       "  (7): ReLU()\n",
       "  (8): Linear(in_features=16, out_features=8, bias=True)\n",
       "  (9): ReLU()\n",
       "  (10): Linear(in_features=8, out_features=4, bias=True)\n",
       "  (11): ReLU()\n",
       "  (12): Linear(in_features=4, out_features=1, bias=True)\n",
       ")"
      ]
     },
     "execution_count": 25,
     "metadata": {},
     "output_type": "execute_result"
    },
    {
     "data": {
      "text/plain": [
       "Sequential(\n",
       "  (0): Linear(in_features=275, out_features=128, bias=True)\n",
       "  (1): ReLU()\n",
       "  (2): Linear(in_features=128, out_features=64, bias=True)\n",
       "  (3): ReLU()\n",
       "  (4): Linear(in_features=64, out_features=32, bias=True)\n",
       "  (5): ReLU()\n",
       "  (6): Linear(in_features=32, out_features=16, bias=True)\n",
       "  (7): ReLU()\n",
       "  (8): Linear(in_features=16, out_features=8, bias=True)\n",
       "  (9): ReLU()\n",
       "  (10): Linear(in_features=8, out_features=4, bias=True)\n",
       "  (11): ReLU()\n",
       "  (12): Linear(in_features=4, out_features=1, bias=True)\n",
       ")"
      ]
     },
     "execution_count": 25,
     "metadata": {},
     "output_type": "execute_result"
    },
    {
     "data": {
      "text/plain": [
       "Sequential(\n",
       "  (0): Linear(in_features=275, out_features=128, bias=True)\n",
       "  (1): ReLU()\n",
       "  (2): Linear(in_features=128, out_features=64, bias=True)\n",
       "  (3): ReLU()\n",
       "  (4): Linear(in_features=64, out_features=32, bias=True)\n",
       "  (5): ReLU()\n",
       "  (6): Linear(in_features=32, out_features=16, bias=True)\n",
       "  (7): ReLU()\n",
       "  (8): Linear(in_features=16, out_features=8, bias=True)\n",
       "  (9): ReLU()\n",
       "  (10): Linear(in_features=8, out_features=4, bias=True)\n",
       "  (11): ReLU()\n",
       "  (12): Linear(in_features=4, out_features=1, bias=True)\n",
       ")"
      ]
     },
     "execution_count": 25,
     "metadata": {},
     "output_type": "execute_result"
    },
    {
     "data": {
      "text/plain": [
       "Sequential(\n",
       "  (0): Linear(in_features=275, out_features=128, bias=True)\n",
       "  (1): ReLU()\n",
       "  (2): Linear(in_features=128, out_features=64, bias=True)\n",
       "  (3): ReLU()\n",
       "  (4): Linear(in_features=64, out_features=32, bias=True)\n",
       "  (5): ReLU()\n",
       "  (6): Linear(in_features=32, out_features=16, bias=True)\n",
       "  (7): ReLU()\n",
       "  (8): Linear(in_features=16, out_features=8, bias=True)\n",
       "  (9): ReLU()\n",
       "  (10): Linear(in_features=8, out_features=4, bias=True)\n",
       "  (11): ReLU()\n",
       "  (12): Linear(in_features=4, out_features=1, bias=True)\n",
       ")"
      ]
     },
     "execution_count": 25,
     "metadata": {},
     "output_type": "execute_result"
    },
    {
     "data": {
      "text/plain": [
       "Sequential(\n",
       "  (0): Linear(in_features=275, out_features=128, bias=True)\n",
       "  (1): ReLU()\n",
       "  (2): Linear(in_features=128, out_features=64, bias=True)\n",
       "  (3): ReLU()\n",
       "  (4): Linear(in_features=64, out_features=32, bias=True)\n",
       "  (5): ReLU()\n",
       "  (6): Linear(in_features=32, out_features=16, bias=True)\n",
       "  (7): ReLU()\n",
       "  (8): Linear(in_features=16, out_features=8, bias=True)\n",
       "  (9): ReLU()\n",
       "  (10): Linear(in_features=8, out_features=4, bias=True)\n",
       "  (11): ReLU()\n",
       "  (12): Linear(in_features=4, out_features=1, bias=True)\n",
       ")"
      ]
     },
     "execution_count": 25,
     "metadata": {},
     "output_type": "execute_result"
    },
    {
     "data": {
      "text/plain": [
       "Sequential(\n",
       "  (0): Linear(in_features=275, out_features=128, bias=True)\n",
       "  (1): ReLU()\n",
       "  (2): Linear(in_features=128, out_features=64, bias=True)\n",
       "  (3): ReLU()\n",
       "  (4): Linear(in_features=64, out_features=32, bias=True)\n",
       "  (5): ReLU()\n",
       "  (6): Linear(in_features=32, out_features=16, bias=True)\n",
       "  (7): ReLU()\n",
       "  (8): Linear(in_features=16, out_features=8, bias=True)\n",
       "  (9): ReLU()\n",
       "  (10): Linear(in_features=8, out_features=4, bias=True)\n",
       "  (11): ReLU()\n",
       "  (12): Linear(in_features=4, out_features=1, bias=True)\n",
       ")"
      ]
     },
     "execution_count": 25,
     "metadata": {},
     "output_type": "execute_result"
    },
    {
     "data": {
      "text/plain": [
       "Sequential(\n",
       "  (0): Linear(in_features=275, out_features=128, bias=True)\n",
       "  (1): ReLU()\n",
       "  (2): Linear(in_features=128, out_features=64, bias=True)\n",
       "  (3): ReLU()\n",
       "  (4): Linear(in_features=64, out_features=32, bias=True)\n",
       "  (5): ReLU()\n",
       "  (6): Linear(in_features=32, out_features=16, bias=True)\n",
       "  (7): ReLU()\n",
       "  (8): Linear(in_features=16, out_features=8, bias=True)\n",
       "  (9): ReLU()\n",
       "  (10): Linear(in_features=8, out_features=4, bias=True)\n",
       "  (11): ReLU()\n",
       "  (12): Linear(in_features=4, out_features=1, bias=True)\n",
       ")"
      ]
     },
     "execution_count": 25,
     "metadata": {},
     "output_type": "execute_result"
    },
    {
     "data": {
      "text/plain": [
       "Sequential(\n",
       "  (0): Linear(in_features=275, out_features=128, bias=True)\n",
       "  (1): ReLU()\n",
       "  (2): Linear(in_features=128, out_features=64, bias=True)\n",
       "  (3): ReLU()\n",
       "  (4): Linear(in_features=64, out_features=32, bias=True)\n",
       "  (5): ReLU()\n",
       "  (6): Linear(in_features=32, out_features=16, bias=True)\n",
       "  (7): ReLU()\n",
       "  (8): Linear(in_features=16, out_features=8, bias=True)\n",
       "  (9): ReLU()\n",
       "  (10): Linear(in_features=8, out_features=4, bias=True)\n",
       "  (11): ReLU()\n",
       "  (12): Linear(in_features=4, out_features=1, bias=True)\n",
       ")"
      ]
     },
     "execution_count": 25,
     "metadata": {},
     "output_type": "execute_result"
    },
    {
     "data": {
      "text/plain": [
       "Sequential(\n",
       "  (0): Linear(in_features=275, out_features=128, bias=True)\n",
       "  (1): ReLU()\n",
       "  (2): Linear(in_features=128, out_features=64, bias=True)\n",
       "  (3): ReLU()\n",
       "  (4): Linear(in_features=64, out_features=32, bias=True)\n",
       "  (5): ReLU()\n",
       "  (6): Linear(in_features=32, out_features=16, bias=True)\n",
       "  (7): ReLU()\n",
       "  (8): Linear(in_features=16, out_features=8, bias=True)\n",
       "  (9): ReLU()\n",
       "  (10): Linear(in_features=8, out_features=4, bias=True)\n",
       "  (11): ReLU()\n",
       "  (12): Linear(in_features=4, out_features=1, bias=True)\n",
       ")"
      ]
     },
     "execution_count": 25,
     "metadata": {},
     "output_type": "execute_result"
    },
    {
     "data": {
      "text/plain": [
       "Sequential(\n",
       "  (0): Linear(in_features=275, out_features=128, bias=True)\n",
       "  (1): ReLU()\n",
       "  (2): Linear(in_features=128, out_features=64, bias=True)\n",
       "  (3): ReLU()\n",
       "  (4): Linear(in_features=64, out_features=32, bias=True)\n",
       "  (5): ReLU()\n",
       "  (6): Linear(in_features=32, out_features=16, bias=True)\n",
       "  (7): ReLU()\n",
       "  (8): Linear(in_features=16, out_features=8, bias=True)\n",
       "  (9): ReLU()\n",
       "  (10): Linear(in_features=8, out_features=4, bias=True)\n",
       "  (11): ReLU()\n",
       "  (12): Linear(in_features=4, out_features=1, bias=True)\n",
       ")"
      ]
     },
     "execution_count": 25,
     "metadata": {},
     "output_type": "execute_result"
    },
    {
     "data": {
      "text/plain": [
       "Sequential(\n",
       "  (0): Linear(in_features=275, out_features=128, bias=True)\n",
       "  (1): ReLU()\n",
       "  (2): Linear(in_features=128, out_features=64, bias=True)\n",
       "  (3): ReLU()\n",
       "  (4): Linear(in_features=64, out_features=32, bias=True)\n",
       "  (5): ReLU()\n",
       "  (6): Linear(in_features=32, out_features=16, bias=True)\n",
       "  (7): ReLU()\n",
       "  (8): Linear(in_features=16, out_features=8, bias=True)\n",
       "  (9): ReLU()\n",
       "  (10): Linear(in_features=8, out_features=4, bias=True)\n",
       "  (11): ReLU()\n",
       "  (12): Linear(in_features=4, out_features=1, bias=True)\n",
       ")"
      ]
     },
     "execution_count": 25,
     "metadata": {},
     "output_type": "execute_result"
    },
    {
     "data": {
      "text/plain": [
       "Sequential(\n",
       "  (0): Linear(in_features=275, out_features=128, bias=True)\n",
       "  (1): ReLU()\n",
       "  (2): Linear(in_features=128, out_features=64, bias=True)\n",
       "  (3): ReLU()\n",
       "  (4): Linear(in_features=64, out_features=32, bias=True)\n",
       "  (5): ReLU()\n",
       "  (6): Linear(in_features=32, out_features=16, bias=True)\n",
       "  (7): ReLU()\n",
       "  (8): Linear(in_features=16, out_features=8, bias=True)\n",
       "  (9): ReLU()\n",
       "  (10): Linear(in_features=8, out_features=4, bias=True)\n",
       "  (11): ReLU()\n",
       "  (12): Linear(in_features=4, out_features=1, bias=True)\n",
       ")"
      ]
     },
     "execution_count": 25,
     "metadata": {},
     "output_type": "execute_result"
    },
    {
     "data": {
      "text/plain": [
       "Sequential(\n",
       "  (0): Linear(in_features=275, out_features=128, bias=True)\n",
       "  (1): ReLU()\n",
       "  (2): Linear(in_features=128, out_features=64, bias=True)\n",
       "  (3): ReLU()\n",
       "  (4): Linear(in_features=64, out_features=32, bias=True)\n",
       "  (5): ReLU()\n",
       "  (6): Linear(in_features=32, out_features=16, bias=True)\n",
       "  (7): ReLU()\n",
       "  (8): Linear(in_features=16, out_features=8, bias=True)\n",
       "  (9): ReLU()\n",
       "  (10): Linear(in_features=8, out_features=4, bias=True)\n",
       "  (11): ReLU()\n",
       "  (12): Linear(in_features=4, out_features=1, bias=True)\n",
       ")"
      ]
     },
     "execution_count": 25,
     "metadata": {},
     "output_type": "execute_result"
    },
    {
     "data": {
      "text/plain": [
       "Sequential(\n",
       "  (0): Linear(in_features=275, out_features=128, bias=True)\n",
       "  (1): ReLU()\n",
       "  (2): Linear(in_features=128, out_features=64, bias=True)\n",
       "  (3): ReLU()\n",
       "  (4): Linear(in_features=64, out_features=32, bias=True)\n",
       "  (5): ReLU()\n",
       "  (6): Linear(in_features=32, out_features=16, bias=True)\n",
       "  (7): ReLU()\n",
       "  (8): Linear(in_features=16, out_features=8, bias=True)\n",
       "  (9): ReLU()\n",
       "  (10): Linear(in_features=8, out_features=4, bias=True)\n",
       "  (11): ReLU()\n",
       "  (12): Linear(in_features=4, out_features=1, bias=True)\n",
       ")"
      ]
     },
     "execution_count": 25,
     "metadata": {},
     "output_type": "execute_result"
    },
    {
     "data": {
      "text/plain": [
       "Sequential(\n",
       "  (0): Linear(in_features=275, out_features=128, bias=True)\n",
       "  (1): ReLU()\n",
       "  (2): Linear(in_features=128, out_features=64, bias=True)\n",
       "  (3): ReLU()\n",
       "  (4): Linear(in_features=64, out_features=32, bias=True)\n",
       "  (5): ReLU()\n",
       "  (6): Linear(in_features=32, out_features=16, bias=True)\n",
       "  (7): ReLU()\n",
       "  (8): Linear(in_features=16, out_features=8, bias=True)\n",
       "  (9): ReLU()\n",
       "  (10): Linear(in_features=8, out_features=4, bias=True)\n",
       "  (11): ReLU()\n",
       "  (12): Linear(in_features=4, out_features=1, bias=True)\n",
       ")"
      ]
     },
     "execution_count": 25,
     "metadata": {},
     "output_type": "execute_result"
    },
    {
     "data": {
      "text/plain": [
       "Sequential(\n",
       "  (0): Linear(in_features=275, out_features=128, bias=True)\n",
       "  (1): ReLU()\n",
       "  (2): Linear(in_features=128, out_features=64, bias=True)\n",
       "  (3): ReLU()\n",
       "  (4): Linear(in_features=64, out_features=32, bias=True)\n",
       "  (5): ReLU()\n",
       "  (6): Linear(in_features=32, out_features=16, bias=True)\n",
       "  (7): ReLU()\n",
       "  (8): Linear(in_features=16, out_features=8, bias=True)\n",
       "  (9): ReLU()\n",
       "  (10): Linear(in_features=8, out_features=4, bias=True)\n",
       "  (11): ReLU()\n",
       "  (12): Linear(in_features=4, out_features=1, bias=True)\n",
       ")"
      ]
     },
     "execution_count": 25,
     "metadata": {},
     "output_type": "execute_result"
    },
    {
     "data": {
      "text/plain": [
       "Sequential(\n",
       "  (0): Linear(in_features=275, out_features=128, bias=True)\n",
       "  (1): ReLU()\n",
       "  (2): Linear(in_features=128, out_features=64, bias=True)\n",
       "  (3): ReLU()\n",
       "  (4): Linear(in_features=64, out_features=32, bias=True)\n",
       "  (5): ReLU()\n",
       "  (6): Linear(in_features=32, out_features=16, bias=True)\n",
       "  (7): ReLU()\n",
       "  (8): Linear(in_features=16, out_features=8, bias=True)\n",
       "  (9): ReLU()\n",
       "  (10): Linear(in_features=8, out_features=4, bias=True)\n",
       "  (11): ReLU()\n",
       "  (12): Linear(in_features=4, out_features=1, bias=True)\n",
       ")"
      ]
     },
     "execution_count": 25,
     "metadata": {},
     "output_type": "execute_result"
    },
    {
     "data": {
      "text/plain": [
       "Sequential(\n",
       "  (0): Linear(in_features=275, out_features=128, bias=True)\n",
       "  (1): ReLU()\n",
       "  (2): Linear(in_features=128, out_features=64, bias=True)\n",
       "  (3): ReLU()\n",
       "  (4): Linear(in_features=64, out_features=32, bias=True)\n",
       "  (5): ReLU()\n",
       "  (6): Linear(in_features=32, out_features=16, bias=True)\n",
       "  (7): ReLU()\n",
       "  (8): Linear(in_features=16, out_features=8, bias=True)\n",
       "  (9): ReLU()\n",
       "  (10): Linear(in_features=8, out_features=4, bias=True)\n",
       "  (11): ReLU()\n",
       "  (12): Linear(in_features=4, out_features=1, bias=True)\n",
       ")"
      ]
     },
     "execution_count": 25,
     "metadata": {},
     "output_type": "execute_result"
    },
    {
     "data": {
      "text/plain": [
       "Sequential(\n",
       "  (0): Linear(in_features=275, out_features=128, bias=True)\n",
       "  (1): ReLU()\n",
       "  (2): Linear(in_features=128, out_features=64, bias=True)\n",
       "  (3): ReLU()\n",
       "  (4): Linear(in_features=64, out_features=32, bias=True)\n",
       "  (5): ReLU()\n",
       "  (6): Linear(in_features=32, out_features=16, bias=True)\n",
       "  (7): ReLU()\n",
       "  (8): Linear(in_features=16, out_features=8, bias=True)\n",
       "  (9): ReLU()\n",
       "  (10): Linear(in_features=8, out_features=4, bias=True)\n",
       "  (11): ReLU()\n",
       "  (12): Linear(in_features=4, out_features=1, bias=True)\n",
       ")"
      ]
     },
     "execution_count": 25,
     "metadata": {},
     "output_type": "execute_result"
    },
    {
     "data": {
      "text/plain": [
       "Sequential(\n",
       "  (0): Linear(in_features=275, out_features=128, bias=True)\n",
       "  (1): ReLU()\n",
       "  (2): Linear(in_features=128, out_features=64, bias=True)\n",
       "  (3): ReLU()\n",
       "  (4): Linear(in_features=64, out_features=32, bias=True)\n",
       "  (5): ReLU()\n",
       "  (6): Linear(in_features=32, out_features=16, bias=True)\n",
       "  (7): ReLU()\n",
       "  (8): Linear(in_features=16, out_features=8, bias=True)\n",
       "  (9): ReLU()\n",
       "  (10): Linear(in_features=8, out_features=4, bias=True)\n",
       "  (11): ReLU()\n",
       "  (12): Linear(in_features=4, out_features=1, bias=True)\n",
       ")"
      ]
     },
     "execution_count": 25,
     "metadata": {},
     "output_type": "execute_result"
    },
    {
     "data": {
      "text/plain": [
       "Sequential(\n",
       "  (0): Linear(in_features=275, out_features=128, bias=True)\n",
       "  (1): ReLU()\n",
       "  (2): Linear(in_features=128, out_features=64, bias=True)\n",
       "  (3): ReLU()\n",
       "  (4): Linear(in_features=64, out_features=32, bias=True)\n",
       "  (5): ReLU()\n",
       "  (6): Linear(in_features=32, out_features=16, bias=True)\n",
       "  (7): ReLU()\n",
       "  (8): Linear(in_features=16, out_features=8, bias=True)\n",
       "  (9): ReLU()\n",
       "  (10): Linear(in_features=8, out_features=4, bias=True)\n",
       "  (11): ReLU()\n",
       "  (12): Linear(in_features=4, out_features=1, bias=True)\n",
       ")"
      ]
     },
     "execution_count": 25,
     "metadata": {},
     "output_type": "execute_result"
    },
    {
     "data": {
      "text/plain": [
       "Sequential(\n",
       "  (0): Linear(in_features=275, out_features=128, bias=True)\n",
       "  (1): ReLU()\n",
       "  (2): Linear(in_features=128, out_features=64, bias=True)\n",
       "  (3): ReLU()\n",
       "  (4): Linear(in_features=64, out_features=32, bias=True)\n",
       "  (5): ReLU()\n",
       "  (6): Linear(in_features=32, out_features=16, bias=True)\n",
       "  (7): ReLU()\n",
       "  (8): Linear(in_features=16, out_features=8, bias=True)\n",
       "  (9): ReLU()\n",
       "  (10): Linear(in_features=8, out_features=4, bias=True)\n",
       "  (11): ReLU()\n",
       "  (12): Linear(in_features=4, out_features=1, bias=True)\n",
       ")"
      ]
     },
     "execution_count": 25,
     "metadata": {},
     "output_type": "execute_result"
    },
    {
     "data": {
      "text/plain": [
       "Sequential(\n",
       "  (0): Linear(in_features=275, out_features=128, bias=True)\n",
       "  (1): ReLU()\n",
       "  (2): Linear(in_features=128, out_features=64, bias=True)\n",
       "  (3): ReLU()\n",
       "  (4): Linear(in_features=64, out_features=32, bias=True)\n",
       "  (5): ReLU()\n",
       "  (6): Linear(in_features=32, out_features=16, bias=True)\n",
       "  (7): ReLU()\n",
       "  (8): Linear(in_features=16, out_features=8, bias=True)\n",
       "  (9): ReLU()\n",
       "  (10): Linear(in_features=8, out_features=4, bias=True)\n",
       "  (11): ReLU()\n",
       "  (12): Linear(in_features=4, out_features=1, bias=True)\n",
       ")"
      ]
     },
     "execution_count": 25,
     "metadata": {},
     "output_type": "execute_result"
    },
    {
     "data": {
      "text/plain": [
       "Sequential(\n",
       "  (0): Linear(in_features=275, out_features=128, bias=True)\n",
       "  (1): ReLU()\n",
       "  (2): Linear(in_features=128, out_features=64, bias=True)\n",
       "  (3): ReLU()\n",
       "  (4): Linear(in_features=64, out_features=32, bias=True)\n",
       "  (5): ReLU()\n",
       "  (6): Linear(in_features=32, out_features=16, bias=True)\n",
       "  (7): ReLU()\n",
       "  (8): Linear(in_features=16, out_features=8, bias=True)\n",
       "  (9): ReLU()\n",
       "  (10): Linear(in_features=8, out_features=4, bias=True)\n",
       "  (11): ReLU()\n",
       "  (12): Linear(in_features=4, out_features=1, bias=True)\n",
       ")"
      ]
     },
     "execution_count": 25,
     "metadata": {},
     "output_type": "execute_result"
    },
    {
     "data": {
      "text/plain": [
       "Sequential(\n",
       "  (0): Linear(in_features=275, out_features=128, bias=True)\n",
       "  (1): ReLU()\n",
       "  (2): Linear(in_features=128, out_features=64, bias=True)\n",
       "  (3): ReLU()\n",
       "  (4): Linear(in_features=64, out_features=32, bias=True)\n",
       "  (5): ReLU()\n",
       "  (6): Linear(in_features=32, out_features=16, bias=True)\n",
       "  (7): ReLU()\n",
       "  (8): Linear(in_features=16, out_features=8, bias=True)\n",
       "  (9): ReLU()\n",
       "  (10): Linear(in_features=8, out_features=4, bias=True)\n",
       "  (11): ReLU()\n",
       "  (12): Linear(in_features=4, out_features=1, bias=True)\n",
       ")"
      ]
     },
     "execution_count": 25,
     "metadata": {},
     "output_type": "execute_result"
    },
    {
     "data": {
      "text/plain": [
       "Sequential(\n",
       "  (0): Linear(in_features=275, out_features=128, bias=True)\n",
       "  (1): ReLU()\n",
       "  (2): Linear(in_features=128, out_features=64, bias=True)\n",
       "  (3): ReLU()\n",
       "  (4): Linear(in_features=64, out_features=32, bias=True)\n",
       "  (5): ReLU()\n",
       "  (6): Linear(in_features=32, out_features=16, bias=True)\n",
       "  (7): ReLU()\n",
       "  (8): Linear(in_features=16, out_features=8, bias=True)\n",
       "  (9): ReLU()\n",
       "  (10): Linear(in_features=8, out_features=4, bias=True)\n",
       "  (11): ReLU()\n",
       "  (12): Linear(in_features=4, out_features=1, bias=True)\n",
       ")"
      ]
     },
     "execution_count": 25,
     "metadata": {},
     "output_type": "execute_result"
    },
    {
     "data": {
      "text/plain": [
       "Sequential(\n",
       "  (0): Linear(in_features=275, out_features=128, bias=True)\n",
       "  (1): ReLU()\n",
       "  (2): Linear(in_features=128, out_features=64, bias=True)\n",
       "  (3): ReLU()\n",
       "  (4): Linear(in_features=64, out_features=32, bias=True)\n",
       "  (5): ReLU()\n",
       "  (6): Linear(in_features=32, out_features=16, bias=True)\n",
       "  (7): ReLU()\n",
       "  (8): Linear(in_features=16, out_features=8, bias=True)\n",
       "  (9): ReLU()\n",
       "  (10): Linear(in_features=8, out_features=4, bias=True)\n",
       "  (11): ReLU()\n",
       "  (12): Linear(in_features=4, out_features=1, bias=True)\n",
       ")"
      ]
     },
     "execution_count": 25,
     "metadata": {},
     "output_type": "execute_result"
    },
    {
     "data": {
      "text/plain": [
       "Sequential(\n",
       "  (0): Linear(in_features=275, out_features=128, bias=True)\n",
       "  (1): ReLU()\n",
       "  (2): Linear(in_features=128, out_features=64, bias=True)\n",
       "  (3): ReLU()\n",
       "  (4): Linear(in_features=64, out_features=32, bias=True)\n",
       "  (5): ReLU()\n",
       "  (6): Linear(in_features=32, out_features=16, bias=True)\n",
       "  (7): ReLU()\n",
       "  (8): Linear(in_features=16, out_features=8, bias=True)\n",
       "  (9): ReLU()\n",
       "  (10): Linear(in_features=8, out_features=4, bias=True)\n",
       "  (11): ReLU()\n",
       "  (12): Linear(in_features=4, out_features=1, bias=True)\n",
       ")"
      ]
     },
     "execution_count": 25,
     "metadata": {},
     "output_type": "execute_result"
    },
    {
     "data": {
      "text/plain": [
       "Sequential(\n",
       "  (0): Linear(in_features=275, out_features=128, bias=True)\n",
       "  (1): ReLU()\n",
       "  (2): Linear(in_features=128, out_features=64, bias=True)\n",
       "  (3): ReLU()\n",
       "  (4): Linear(in_features=64, out_features=32, bias=True)\n",
       "  (5): ReLU()\n",
       "  (6): Linear(in_features=32, out_features=16, bias=True)\n",
       "  (7): ReLU()\n",
       "  (8): Linear(in_features=16, out_features=8, bias=True)\n",
       "  (9): ReLU()\n",
       "  (10): Linear(in_features=8, out_features=4, bias=True)\n",
       "  (11): ReLU()\n",
       "  (12): Linear(in_features=4, out_features=1, bias=True)\n",
       ")"
      ]
     },
     "execution_count": 25,
     "metadata": {},
     "output_type": "execute_result"
    },
    {
     "data": {
      "text/plain": [
       "Sequential(\n",
       "  (0): Linear(in_features=275, out_features=128, bias=True)\n",
       "  (1): ReLU()\n",
       "  (2): Linear(in_features=128, out_features=64, bias=True)\n",
       "  (3): ReLU()\n",
       "  (4): Linear(in_features=64, out_features=32, bias=True)\n",
       "  (5): ReLU()\n",
       "  (6): Linear(in_features=32, out_features=16, bias=True)\n",
       "  (7): ReLU()\n",
       "  (8): Linear(in_features=16, out_features=8, bias=True)\n",
       "  (9): ReLU()\n",
       "  (10): Linear(in_features=8, out_features=4, bias=True)\n",
       "  (11): ReLU()\n",
       "  (12): Linear(in_features=4, out_features=1, bias=True)\n",
       ")"
      ]
     },
     "execution_count": 25,
     "metadata": {},
     "output_type": "execute_result"
    },
    {
     "data": {
      "text/plain": [
       "Sequential(\n",
       "  (0): Linear(in_features=275, out_features=128, bias=True)\n",
       "  (1): ReLU()\n",
       "  (2): Linear(in_features=128, out_features=64, bias=True)\n",
       "  (3): ReLU()\n",
       "  (4): Linear(in_features=64, out_features=32, bias=True)\n",
       "  (5): ReLU()\n",
       "  (6): Linear(in_features=32, out_features=16, bias=True)\n",
       "  (7): ReLU()\n",
       "  (8): Linear(in_features=16, out_features=8, bias=True)\n",
       "  (9): ReLU()\n",
       "  (10): Linear(in_features=8, out_features=4, bias=True)\n",
       "  (11): ReLU()\n",
       "  (12): Linear(in_features=4, out_features=1, bias=True)\n",
       ")"
      ]
     },
     "execution_count": 25,
     "metadata": {},
     "output_type": "execute_result"
    },
    {
     "data": {
      "text/plain": [
       "Sequential(\n",
       "  (0): Linear(in_features=275, out_features=128, bias=True)\n",
       "  (1): ReLU()\n",
       "  (2): Linear(in_features=128, out_features=64, bias=True)\n",
       "  (3): ReLU()\n",
       "  (4): Linear(in_features=64, out_features=32, bias=True)\n",
       "  (5): ReLU()\n",
       "  (6): Linear(in_features=32, out_features=16, bias=True)\n",
       "  (7): ReLU()\n",
       "  (8): Linear(in_features=16, out_features=8, bias=True)\n",
       "  (9): ReLU()\n",
       "  (10): Linear(in_features=8, out_features=4, bias=True)\n",
       "  (11): ReLU()\n",
       "  (12): Linear(in_features=4, out_features=1, bias=True)\n",
       ")"
      ]
     },
     "execution_count": 25,
     "metadata": {},
     "output_type": "execute_result"
    },
    {
     "data": {
      "text/plain": [
       "Sequential(\n",
       "  (0): Linear(in_features=275, out_features=128, bias=True)\n",
       "  (1): ReLU()\n",
       "  (2): Linear(in_features=128, out_features=64, bias=True)\n",
       "  (3): ReLU()\n",
       "  (4): Linear(in_features=64, out_features=32, bias=True)\n",
       "  (5): ReLU()\n",
       "  (6): Linear(in_features=32, out_features=16, bias=True)\n",
       "  (7): ReLU()\n",
       "  (8): Linear(in_features=16, out_features=8, bias=True)\n",
       "  (9): ReLU()\n",
       "  (10): Linear(in_features=8, out_features=4, bias=True)\n",
       "  (11): ReLU()\n",
       "  (12): Linear(in_features=4, out_features=1, bias=True)\n",
       ")"
      ]
     },
     "execution_count": 25,
     "metadata": {},
     "output_type": "execute_result"
    },
    {
     "data": {
      "text/plain": [
       "Sequential(\n",
       "  (0): Linear(in_features=275, out_features=128, bias=True)\n",
       "  (1): ReLU()\n",
       "  (2): Linear(in_features=128, out_features=64, bias=True)\n",
       "  (3): ReLU()\n",
       "  (4): Linear(in_features=64, out_features=32, bias=True)\n",
       "  (5): ReLU()\n",
       "  (6): Linear(in_features=32, out_features=16, bias=True)\n",
       "  (7): ReLU()\n",
       "  (8): Linear(in_features=16, out_features=8, bias=True)\n",
       "  (9): ReLU()\n",
       "  (10): Linear(in_features=8, out_features=4, bias=True)\n",
       "  (11): ReLU()\n",
       "  (12): Linear(in_features=4, out_features=1, bias=True)\n",
       ")"
      ]
     },
     "execution_count": 25,
     "metadata": {},
     "output_type": "execute_result"
    },
    {
     "data": {
      "text/plain": [
       "Sequential(\n",
       "  (0): Linear(in_features=275, out_features=128, bias=True)\n",
       "  (1): ReLU()\n",
       "  (2): Linear(in_features=128, out_features=64, bias=True)\n",
       "  (3): ReLU()\n",
       "  (4): Linear(in_features=64, out_features=32, bias=True)\n",
       "  (5): ReLU()\n",
       "  (6): Linear(in_features=32, out_features=16, bias=True)\n",
       "  (7): ReLU()\n",
       "  (8): Linear(in_features=16, out_features=8, bias=True)\n",
       "  (9): ReLU()\n",
       "  (10): Linear(in_features=8, out_features=4, bias=True)\n",
       "  (11): ReLU()\n",
       "  (12): Linear(in_features=4, out_features=1, bias=True)\n",
       ")"
      ]
     },
     "execution_count": 25,
     "metadata": {},
     "output_type": "execute_result"
    },
    {
     "data": {
      "text/plain": [
       "Sequential(\n",
       "  (0): Linear(in_features=275, out_features=128, bias=True)\n",
       "  (1): ReLU()\n",
       "  (2): Linear(in_features=128, out_features=64, bias=True)\n",
       "  (3): ReLU()\n",
       "  (4): Linear(in_features=64, out_features=32, bias=True)\n",
       "  (5): ReLU()\n",
       "  (6): Linear(in_features=32, out_features=16, bias=True)\n",
       "  (7): ReLU()\n",
       "  (8): Linear(in_features=16, out_features=8, bias=True)\n",
       "  (9): ReLU()\n",
       "  (10): Linear(in_features=8, out_features=4, bias=True)\n",
       "  (11): ReLU()\n",
       "  (12): Linear(in_features=4, out_features=1, bias=True)\n",
       ")"
      ]
     },
     "execution_count": 25,
     "metadata": {},
     "output_type": "execute_result"
    },
    {
     "data": {
      "text/plain": [
       "Sequential(\n",
       "  (0): Linear(in_features=275, out_features=128, bias=True)\n",
       "  (1): ReLU()\n",
       "  (2): Linear(in_features=128, out_features=64, bias=True)\n",
       "  (3): ReLU()\n",
       "  (4): Linear(in_features=64, out_features=32, bias=True)\n",
       "  (5): ReLU()\n",
       "  (6): Linear(in_features=32, out_features=16, bias=True)\n",
       "  (7): ReLU()\n",
       "  (8): Linear(in_features=16, out_features=8, bias=True)\n",
       "  (9): ReLU()\n",
       "  (10): Linear(in_features=8, out_features=4, bias=True)\n",
       "  (11): ReLU()\n",
       "  (12): Linear(in_features=4, out_features=1, bias=True)\n",
       ")"
      ]
     },
     "execution_count": 25,
     "metadata": {},
     "output_type": "execute_result"
    },
    {
     "data": {
      "text/plain": [
       "Sequential(\n",
       "  (0): Linear(in_features=275, out_features=128, bias=True)\n",
       "  (1): ReLU()\n",
       "  (2): Linear(in_features=128, out_features=64, bias=True)\n",
       "  (3): ReLU()\n",
       "  (4): Linear(in_features=64, out_features=32, bias=True)\n",
       "  (5): ReLU()\n",
       "  (6): Linear(in_features=32, out_features=16, bias=True)\n",
       "  (7): ReLU()\n",
       "  (8): Linear(in_features=16, out_features=8, bias=True)\n",
       "  (9): ReLU()\n",
       "  (10): Linear(in_features=8, out_features=4, bias=True)\n",
       "  (11): ReLU()\n",
       "  (12): Linear(in_features=4, out_features=1, bias=True)\n",
       ")"
      ]
     },
     "execution_count": 25,
     "metadata": {},
     "output_type": "execute_result"
    },
    {
     "data": {
      "text/plain": [
       "Sequential(\n",
       "  (0): Linear(in_features=275, out_features=128, bias=True)\n",
       "  (1): ReLU()\n",
       "  (2): Linear(in_features=128, out_features=64, bias=True)\n",
       "  (3): ReLU()\n",
       "  (4): Linear(in_features=64, out_features=32, bias=True)\n",
       "  (5): ReLU()\n",
       "  (6): Linear(in_features=32, out_features=16, bias=True)\n",
       "  (7): ReLU()\n",
       "  (8): Linear(in_features=16, out_features=8, bias=True)\n",
       "  (9): ReLU()\n",
       "  (10): Linear(in_features=8, out_features=4, bias=True)\n",
       "  (11): ReLU()\n",
       "  (12): Linear(in_features=4, out_features=1, bias=True)\n",
       ")"
      ]
     },
     "execution_count": 25,
     "metadata": {},
     "output_type": "execute_result"
    },
    {
     "data": {
      "text/plain": [
       "Sequential(\n",
       "  (0): Linear(in_features=275, out_features=128, bias=True)\n",
       "  (1): ReLU()\n",
       "  (2): Linear(in_features=128, out_features=64, bias=True)\n",
       "  (3): ReLU()\n",
       "  (4): Linear(in_features=64, out_features=32, bias=True)\n",
       "  (5): ReLU()\n",
       "  (6): Linear(in_features=32, out_features=16, bias=True)\n",
       "  (7): ReLU()\n",
       "  (8): Linear(in_features=16, out_features=8, bias=True)\n",
       "  (9): ReLU()\n",
       "  (10): Linear(in_features=8, out_features=4, bias=True)\n",
       "  (11): ReLU()\n",
       "  (12): Linear(in_features=4, out_features=1, bias=True)\n",
       ")"
      ]
     },
     "execution_count": 25,
     "metadata": {},
     "output_type": "execute_result"
    },
    {
     "data": {
      "text/plain": [
       "Sequential(\n",
       "  (0): Linear(in_features=275, out_features=128, bias=True)\n",
       "  (1): ReLU()\n",
       "  (2): Linear(in_features=128, out_features=64, bias=True)\n",
       "  (3): ReLU()\n",
       "  (4): Linear(in_features=64, out_features=32, bias=True)\n",
       "  (5): ReLU()\n",
       "  (6): Linear(in_features=32, out_features=16, bias=True)\n",
       "  (7): ReLU()\n",
       "  (8): Linear(in_features=16, out_features=8, bias=True)\n",
       "  (9): ReLU()\n",
       "  (10): Linear(in_features=8, out_features=4, bias=True)\n",
       "  (11): ReLU()\n",
       "  (12): Linear(in_features=4, out_features=1, bias=True)\n",
       ")"
      ]
     },
     "execution_count": 25,
     "metadata": {},
     "output_type": "execute_result"
    },
    {
     "data": {
      "text/plain": [
       "Sequential(\n",
       "  (0): Linear(in_features=275, out_features=128, bias=True)\n",
       "  (1): ReLU()\n",
       "  (2): Linear(in_features=128, out_features=64, bias=True)\n",
       "  (3): ReLU()\n",
       "  (4): Linear(in_features=64, out_features=32, bias=True)\n",
       "  (5): ReLU()\n",
       "  (6): Linear(in_features=32, out_features=16, bias=True)\n",
       "  (7): ReLU()\n",
       "  (8): Linear(in_features=16, out_features=8, bias=True)\n",
       "  (9): ReLU()\n",
       "  (10): Linear(in_features=8, out_features=4, bias=True)\n",
       "  (11): ReLU()\n",
       "  (12): Linear(in_features=4, out_features=1, bias=True)\n",
       ")"
      ]
     },
     "execution_count": 25,
     "metadata": {},
     "output_type": "execute_result"
    },
    {
     "data": {
      "text/plain": [
       "Sequential(\n",
       "  (0): Linear(in_features=275, out_features=128, bias=True)\n",
       "  (1): ReLU()\n",
       "  (2): Linear(in_features=128, out_features=64, bias=True)\n",
       "  (3): ReLU()\n",
       "  (4): Linear(in_features=64, out_features=32, bias=True)\n",
       "  (5): ReLU()\n",
       "  (6): Linear(in_features=32, out_features=16, bias=True)\n",
       "  (7): ReLU()\n",
       "  (8): Linear(in_features=16, out_features=8, bias=True)\n",
       "  (9): ReLU()\n",
       "  (10): Linear(in_features=8, out_features=4, bias=True)\n",
       "  (11): ReLU()\n",
       "  (12): Linear(in_features=4, out_features=1, bias=True)\n",
       ")"
      ]
     },
     "execution_count": 25,
     "metadata": {},
     "output_type": "execute_result"
    },
    {
     "data": {
      "text/plain": [
       "Sequential(\n",
       "  (0): Linear(in_features=275, out_features=128, bias=True)\n",
       "  (1): ReLU()\n",
       "  (2): Linear(in_features=128, out_features=64, bias=True)\n",
       "  (3): ReLU()\n",
       "  (4): Linear(in_features=64, out_features=32, bias=True)\n",
       "  (5): ReLU()\n",
       "  (6): Linear(in_features=32, out_features=16, bias=True)\n",
       "  (7): ReLU()\n",
       "  (8): Linear(in_features=16, out_features=8, bias=True)\n",
       "  (9): ReLU()\n",
       "  (10): Linear(in_features=8, out_features=4, bias=True)\n",
       "  (11): ReLU()\n",
       "  (12): Linear(in_features=4, out_features=1, bias=True)\n",
       ")"
      ]
     },
     "execution_count": 25,
     "metadata": {},
     "output_type": "execute_result"
    },
    {
     "data": {
      "text/plain": [
       "Sequential(\n",
       "  (0): Linear(in_features=275, out_features=128, bias=True)\n",
       "  (1): ReLU()\n",
       "  (2): Linear(in_features=128, out_features=64, bias=True)\n",
       "  (3): ReLU()\n",
       "  (4): Linear(in_features=64, out_features=32, bias=True)\n",
       "  (5): ReLU()\n",
       "  (6): Linear(in_features=32, out_features=16, bias=True)\n",
       "  (7): ReLU()\n",
       "  (8): Linear(in_features=16, out_features=8, bias=True)\n",
       "  (9): ReLU()\n",
       "  (10): Linear(in_features=8, out_features=4, bias=True)\n",
       "  (11): ReLU()\n",
       "  (12): Linear(in_features=4, out_features=1, bias=True)\n",
       ")"
      ]
     },
     "execution_count": 25,
     "metadata": {},
     "output_type": "execute_result"
    },
    {
     "data": {
      "text/plain": [
       "Sequential(\n",
       "  (0): Linear(in_features=275, out_features=128, bias=True)\n",
       "  (1): ReLU()\n",
       "  (2): Linear(in_features=128, out_features=64, bias=True)\n",
       "  (3): ReLU()\n",
       "  (4): Linear(in_features=64, out_features=32, bias=True)\n",
       "  (5): ReLU()\n",
       "  (6): Linear(in_features=32, out_features=16, bias=True)\n",
       "  (7): ReLU()\n",
       "  (8): Linear(in_features=16, out_features=8, bias=True)\n",
       "  (9): ReLU()\n",
       "  (10): Linear(in_features=8, out_features=4, bias=True)\n",
       "  (11): ReLU()\n",
       "  (12): Linear(in_features=4, out_features=1, bias=True)\n",
       ")"
      ]
     },
     "execution_count": 25,
     "metadata": {},
     "output_type": "execute_result"
    },
    {
     "data": {
      "text/plain": [
       "Sequential(\n",
       "  (0): Linear(in_features=275, out_features=128, bias=True)\n",
       "  (1): ReLU()\n",
       "  (2): Linear(in_features=128, out_features=64, bias=True)\n",
       "  (3): ReLU()\n",
       "  (4): Linear(in_features=64, out_features=32, bias=True)\n",
       "  (5): ReLU()\n",
       "  (6): Linear(in_features=32, out_features=16, bias=True)\n",
       "  (7): ReLU()\n",
       "  (8): Linear(in_features=16, out_features=8, bias=True)\n",
       "  (9): ReLU()\n",
       "  (10): Linear(in_features=8, out_features=4, bias=True)\n",
       "  (11): ReLU()\n",
       "  (12): Linear(in_features=4, out_features=1, bias=True)\n",
       ")"
      ]
     },
     "execution_count": 25,
     "metadata": {},
     "output_type": "execute_result"
    },
    {
     "data": {
      "text/plain": [
       "Sequential(\n",
       "  (0): Linear(in_features=275, out_features=128, bias=True)\n",
       "  (1): ReLU()\n",
       "  (2): Linear(in_features=128, out_features=64, bias=True)\n",
       "  (3): ReLU()\n",
       "  (4): Linear(in_features=64, out_features=32, bias=True)\n",
       "  (5): ReLU()\n",
       "  (6): Linear(in_features=32, out_features=16, bias=True)\n",
       "  (7): ReLU()\n",
       "  (8): Linear(in_features=16, out_features=8, bias=True)\n",
       "  (9): ReLU()\n",
       "  (10): Linear(in_features=8, out_features=4, bias=True)\n",
       "  (11): ReLU()\n",
       "  (12): Linear(in_features=4, out_features=1, bias=True)\n",
       ")"
      ]
     },
     "execution_count": 25,
     "metadata": {},
     "output_type": "execute_result"
    },
    {
     "data": {
      "text/plain": [
       "Sequential(\n",
       "  (0): Linear(in_features=275, out_features=128, bias=True)\n",
       "  (1): ReLU()\n",
       "  (2): Linear(in_features=128, out_features=64, bias=True)\n",
       "  (3): ReLU()\n",
       "  (4): Linear(in_features=64, out_features=32, bias=True)\n",
       "  (5): ReLU()\n",
       "  (6): Linear(in_features=32, out_features=16, bias=True)\n",
       "  (7): ReLU()\n",
       "  (8): Linear(in_features=16, out_features=8, bias=True)\n",
       "  (9): ReLU()\n",
       "  (10): Linear(in_features=8, out_features=4, bias=True)\n",
       "  (11): ReLU()\n",
       "  (12): Linear(in_features=4, out_features=1, bias=True)\n",
       ")"
      ]
     },
     "execution_count": 25,
     "metadata": {},
     "output_type": "execute_result"
    },
    {
     "data": {
      "text/plain": [
       "Sequential(\n",
       "  (0): Linear(in_features=275, out_features=128, bias=True)\n",
       "  (1): ReLU()\n",
       "  (2): Linear(in_features=128, out_features=64, bias=True)\n",
       "  (3): ReLU()\n",
       "  (4): Linear(in_features=64, out_features=32, bias=True)\n",
       "  (5): ReLU()\n",
       "  (6): Linear(in_features=32, out_features=16, bias=True)\n",
       "  (7): ReLU()\n",
       "  (8): Linear(in_features=16, out_features=8, bias=True)\n",
       "  (9): ReLU()\n",
       "  (10): Linear(in_features=8, out_features=4, bias=True)\n",
       "  (11): ReLU()\n",
       "  (12): Linear(in_features=4, out_features=1, bias=True)\n",
       ")"
      ]
     },
     "execution_count": 25,
     "metadata": {},
     "output_type": "execute_result"
    },
    {
     "data": {
      "text/plain": [
       "Sequential(\n",
       "  (0): Linear(in_features=275, out_features=128, bias=True)\n",
       "  (1): ReLU()\n",
       "  (2): Linear(in_features=128, out_features=64, bias=True)\n",
       "  (3): ReLU()\n",
       "  (4): Linear(in_features=64, out_features=32, bias=True)\n",
       "  (5): ReLU()\n",
       "  (6): Linear(in_features=32, out_features=16, bias=True)\n",
       "  (7): ReLU()\n",
       "  (8): Linear(in_features=16, out_features=8, bias=True)\n",
       "  (9): ReLU()\n",
       "  (10): Linear(in_features=8, out_features=4, bias=True)\n",
       "  (11): ReLU()\n",
       "  (12): Linear(in_features=4, out_features=1, bias=True)\n",
       ")"
      ]
     },
     "execution_count": 25,
     "metadata": {},
     "output_type": "execute_result"
    },
    {
     "data": {
      "text/plain": [
       "Sequential(\n",
       "  (0): Linear(in_features=275, out_features=128, bias=True)\n",
       "  (1): ReLU()\n",
       "  (2): Linear(in_features=128, out_features=64, bias=True)\n",
       "  (3): ReLU()\n",
       "  (4): Linear(in_features=64, out_features=32, bias=True)\n",
       "  (5): ReLU()\n",
       "  (6): Linear(in_features=32, out_features=16, bias=True)\n",
       "  (7): ReLU()\n",
       "  (8): Linear(in_features=16, out_features=8, bias=True)\n",
       "  (9): ReLU()\n",
       "  (10): Linear(in_features=8, out_features=4, bias=True)\n",
       "  (11): ReLU()\n",
       "  (12): Linear(in_features=4, out_features=1, bias=True)\n",
       ")"
      ]
     },
     "execution_count": 25,
     "metadata": {},
     "output_type": "execute_result"
    },
    {
     "data": {
      "text/plain": [
       "Sequential(\n",
       "  (0): Linear(in_features=275, out_features=128, bias=True)\n",
       "  (1): ReLU()\n",
       "  (2): Linear(in_features=128, out_features=64, bias=True)\n",
       "  (3): ReLU()\n",
       "  (4): Linear(in_features=64, out_features=32, bias=True)\n",
       "  (5): ReLU()\n",
       "  (6): Linear(in_features=32, out_features=16, bias=True)\n",
       "  (7): ReLU()\n",
       "  (8): Linear(in_features=16, out_features=8, bias=True)\n",
       "  (9): ReLU()\n",
       "  (10): Linear(in_features=8, out_features=4, bias=True)\n",
       "  (11): ReLU()\n",
       "  (12): Linear(in_features=4, out_features=1, bias=True)\n",
       ")"
      ]
     },
     "execution_count": 25,
     "metadata": {},
     "output_type": "execute_result"
    },
    {
     "data": {
      "text/plain": [
       "Sequential(\n",
       "  (0): Linear(in_features=275, out_features=128, bias=True)\n",
       "  (1): ReLU()\n",
       "  (2): Linear(in_features=128, out_features=64, bias=True)\n",
       "  (3): ReLU()\n",
       "  (4): Linear(in_features=64, out_features=32, bias=True)\n",
       "  (5): ReLU()\n",
       "  (6): Linear(in_features=32, out_features=16, bias=True)\n",
       "  (7): ReLU()\n",
       "  (8): Linear(in_features=16, out_features=8, bias=True)\n",
       "  (9): ReLU()\n",
       "  (10): Linear(in_features=8, out_features=4, bias=True)\n",
       "  (11): ReLU()\n",
       "  (12): Linear(in_features=4, out_features=1, bias=True)\n",
       ")"
      ]
     },
     "execution_count": 25,
     "metadata": {},
     "output_type": "execute_result"
    },
    {
     "data": {
      "text/plain": [
       "Sequential(\n",
       "  (0): Linear(in_features=275, out_features=128, bias=True)\n",
       "  (1): ReLU()\n",
       "  (2): Linear(in_features=128, out_features=64, bias=True)\n",
       "  (3): ReLU()\n",
       "  (4): Linear(in_features=64, out_features=32, bias=True)\n",
       "  (5): ReLU()\n",
       "  (6): Linear(in_features=32, out_features=16, bias=True)\n",
       "  (7): ReLU()\n",
       "  (8): Linear(in_features=16, out_features=8, bias=True)\n",
       "  (9): ReLU()\n",
       "  (10): Linear(in_features=8, out_features=4, bias=True)\n",
       "  (11): ReLU()\n",
       "  (12): Linear(in_features=4, out_features=1, bias=True)\n",
       ")"
      ]
     },
     "execution_count": 25,
     "metadata": {},
     "output_type": "execute_result"
    },
    {
     "data": {
      "text/plain": [
       "Sequential(\n",
       "  (0): Linear(in_features=275, out_features=128, bias=True)\n",
       "  (1): ReLU()\n",
       "  (2): Linear(in_features=128, out_features=64, bias=True)\n",
       "  (3): ReLU()\n",
       "  (4): Linear(in_features=64, out_features=32, bias=True)\n",
       "  (5): ReLU()\n",
       "  (6): Linear(in_features=32, out_features=16, bias=True)\n",
       "  (7): ReLU()\n",
       "  (8): Linear(in_features=16, out_features=8, bias=True)\n",
       "  (9): ReLU()\n",
       "  (10): Linear(in_features=8, out_features=4, bias=True)\n",
       "  (11): ReLU()\n",
       "  (12): Linear(in_features=4, out_features=1, bias=True)\n",
       ")"
      ]
     },
     "execution_count": 25,
     "metadata": {},
     "output_type": "execute_result"
    },
    {
     "data": {
      "text/plain": [
       "Sequential(\n",
       "  (0): Linear(in_features=275, out_features=128, bias=True)\n",
       "  (1): ReLU()\n",
       "  (2): Linear(in_features=128, out_features=64, bias=True)\n",
       "  (3): ReLU()\n",
       "  (4): Linear(in_features=64, out_features=32, bias=True)\n",
       "  (5): ReLU()\n",
       "  (6): Linear(in_features=32, out_features=16, bias=True)\n",
       "  (7): ReLU()\n",
       "  (8): Linear(in_features=16, out_features=8, bias=True)\n",
       "  (9): ReLU()\n",
       "  (10): Linear(in_features=8, out_features=4, bias=True)\n",
       "  (11): ReLU()\n",
       "  (12): Linear(in_features=4, out_features=1, bias=True)\n",
       ")"
      ]
     },
     "execution_count": 25,
     "metadata": {},
     "output_type": "execute_result"
    },
    {
     "data": {
      "text/plain": [
       "Sequential(\n",
       "  (0): Linear(in_features=275, out_features=128, bias=True)\n",
       "  (1): ReLU()\n",
       "  (2): Linear(in_features=128, out_features=64, bias=True)\n",
       "  (3): ReLU()\n",
       "  (4): Linear(in_features=64, out_features=32, bias=True)\n",
       "  (5): ReLU()\n",
       "  (6): Linear(in_features=32, out_features=16, bias=True)\n",
       "  (7): ReLU()\n",
       "  (8): Linear(in_features=16, out_features=8, bias=True)\n",
       "  (9): ReLU()\n",
       "  (10): Linear(in_features=8, out_features=4, bias=True)\n",
       "  (11): ReLU()\n",
       "  (12): Linear(in_features=4, out_features=1, bias=True)\n",
       ")"
      ]
     },
     "execution_count": 25,
     "metadata": {},
     "output_type": "execute_result"
    },
    {
     "data": {
      "text/plain": [
       "Sequential(\n",
       "  (0): Linear(in_features=275, out_features=128, bias=True)\n",
       "  (1): ReLU()\n",
       "  (2): Linear(in_features=128, out_features=64, bias=True)\n",
       "  (3): ReLU()\n",
       "  (4): Linear(in_features=64, out_features=32, bias=True)\n",
       "  (5): ReLU()\n",
       "  (6): Linear(in_features=32, out_features=16, bias=True)\n",
       "  (7): ReLU()\n",
       "  (8): Linear(in_features=16, out_features=8, bias=True)\n",
       "  (9): ReLU()\n",
       "  (10): Linear(in_features=8, out_features=4, bias=True)\n",
       "  (11): ReLU()\n",
       "  (12): Linear(in_features=4, out_features=1, bias=True)\n",
       ")"
      ]
     },
     "execution_count": 25,
     "metadata": {},
     "output_type": "execute_result"
    },
    {
     "data": {
      "text/plain": [
       "Sequential(\n",
       "  (0): Linear(in_features=275, out_features=128, bias=True)\n",
       "  (1): ReLU()\n",
       "  (2): Linear(in_features=128, out_features=64, bias=True)\n",
       "  (3): ReLU()\n",
       "  (4): Linear(in_features=64, out_features=32, bias=True)\n",
       "  (5): ReLU()\n",
       "  (6): Linear(in_features=32, out_features=16, bias=True)\n",
       "  (7): ReLU()\n",
       "  (8): Linear(in_features=16, out_features=8, bias=True)\n",
       "  (9): ReLU()\n",
       "  (10): Linear(in_features=8, out_features=4, bias=True)\n",
       "  (11): ReLU()\n",
       "  (12): Linear(in_features=4, out_features=1, bias=True)\n",
       ")"
      ]
     },
     "execution_count": 25,
     "metadata": {},
     "output_type": "execute_result"
    },
    {
     "data": {
      "text/plain": [
       "Sequential(\n",
       "  (0): Linear(in_features=275, out_features=128, bias=True)\n",
       "  (1): ReLU()\n",
       "  (2): Linear(in_features=128, out_features=64, bias=True)\n",
       "  (3): ReLU()\n",
       "  (4): Linear(in_features=64, out_features=32, bias=True)\n",
       "  (5): ReLU()\n",
       "  (6): Linear(in_features=32, out_features=16, bias=True)\n",
       "  (7): ReLU()\n",
       "  (8): Linear(in_features=16, out_features=8, bias=True)\n",
       "  (9): ReLU()\n",
       "  (10): Linear(in_features=8, out_features=4, bias=True)\n",
       "  (11): ReLU()\n",
       "  (12): Linear(in_features=4, out_features=1, bias=True)\n",
       ")"
      ]
     },
     "execution_count": 25,
     "metadata": {},
     "output_type": "execute_result"
    },
    {
     "data": {
      "text/plain": [
       "Sequential(\n",
       "  (0): Linear(in_features=275, out_features=128, bias=True)\n",
       "  (1): ReLU()\n",
       "  (2): Linear(in_features=128, out_features=64, bias=True)\n",
       "  (3): ReLU()\n",
       "  (4): Linear(in_features=64, out_features=32, bias=True)\n",
       "  (5): ReLU()\n",
       "  (6): Linear(in_features=32, out_features=16, bias=True)\n",
       "  (7): ReLU()\n",
       "  (8): Linear(in_features=16, out_features=8, bias=True)\n",
       "  (9): ReLU()\n",
       "  (10): Linear(in_features=8, out_features=4, bias=True)\n",
       "  (11): ReLU()\n",
       "  (12): Linear(in_features=4, out_features=1, bias=True)\n",
       ")"
      ]
     },
     "execution_count": 25,
     "metadata": {},
     "output_type": "execute_result"
    },
    {
     "data": {
      "text/plain": [
       "Sequential(\n",
       "  (0): Linear(in_features=275, out_features=128, bias=True)\n",
       "  (1): ReLU()\n",
       "  (2): Linear(in_features=128, out_features=64, bias=True)\n",
       "  (3): ReLU()\n",
       "  (4): Linear(in_features=64, out_features=32, bias=True)\n",
       "  (5): ReLU()\n",
       "  (6): Linear(in_features=32, out_features=16, bias=True)\n",
       "  (7): ReLU()\n",
       "  (8): Linear(in_features=16, out_features=8, bias=True)\n",
       "  (9): ReLU()\n",
       "  (10): Linear(in_features=8, out_features=4, bias=True)\n",
       "  (11): ReLU()\n",
       "  (12): Linear(in_features=4, out_features=1, bias=True)\n",
       ")"
      ]
     },
     "execution_count": 25,
     "metadata": {},
     "output_type": "execute_result"
    },
    {
     "data": {
      "text/plain": [
       "Sequential(\n",
       "  (0): Linear(in_features=275, out_features=128, bias=True)\n",
       "  (1): ReLU()\n",
       "  (2): Linear(in_features=128, out_features=64, bias=True)\n",
       "  (3): ReLU()\n",
       "  (4): Linear(in_features=64, out_features=32, bias=True)\n",
       "  (5): ReLU()\n",
       "  (6): Linear(in_features=32, out_features=16, bias=True)\n",
       "  (7): ReLU()\n",
       "  (8): Linear(in_features=16, out_features=8, bias=True)\n",
       "  (9): ReLU()\n",
       "  (10): Linear(in_features=8, out_features=4, bias=True)\n",
       "  (11): ReLU()\n",
       "  (12): Linear(in_features=4, out_features=1, bias=True)\n",
       ")"
      ]
     },
     "execution_count": 25,
     "metadata": {},
     "output_type": "execute_result"
    },
    {
     "data": {
      "text/plain": [
       "Sequential(\n",
       "  (0): Linear(in_features=275, out_features=128, bias=True)\n",
       "  (1): ReLU()\n",
       "  (2): Linear(in_features=128, out_features=64, bias=True)\n",
       "  (3): ReLU()\n",
       "  (4): Linear(in_features=64, out_features=32, bias=True)\n",
       "  (5): ReLU()\n",
       "  (6): Linear(in_features=32, out_features=16, bias=True)\n",
       "  (7): ReLU()\n",
       "  (8): Linear(in_features=16, out_features=8, bias=True)\n",
       "  (9): ReLU()\n",
       "  (10): Linear(in_features=8, out_features=4, bias=True)\n",
       "  (11): ReLU()\n",
       "  (12): Linear(in_features=4, out_features=1, bias=True)\n",
       ")"
      ]
     },
     "execution_count": 25,
     "metadata": {},
     "output_type": "execute_result"
    },
    {
     "data": {
      "text/plain": [
       "Sequential(\n",
       "  (0): Linear(in_features=275, out_features=128, bias=True)\n",
       "  (1): ReLU()\n",
       "  (2): Linear(in_features=128, out_features=64, bias=True)\n",
       "  (3): ReLU()\n",
       "  (4): Linear(in_features=64, out_features=32, bias=True)\n",
       "  (5): ReLU()\n",
       "  (6): Linear(in_features=32, out_features=16, bias=True)\n",
       "  (7): ReLU()\n",
       "  (8): Linear(in_features=16, out_features=8, bias=True)\n",
       "  (9): ReLU()\n",
       "  (10): Linear(in_features=8, out_features=4, bias=True)\n",
       "  (11): ReLU()\n",
       "  (12): Linear(in_features=4, out_features=1, bias=True)\n",
       ")"
      ]
     },
     "execution_count": 25,
     "metadata": {},
     "output_type": "execute_result"
    },
    {
     "data": {
      "text/plain": [
       "Sequential(\n",
       "  (0): Linear(in_features=275, out_features=128, bias=True)\n",
       "  (1): ReLU()\n",
       "  (2): Linear(in_features=128, out_features=64, bias=True)\n",
       "  (3): ReLU()\n",
       "  (4): Linear(in_features=64, out_features=32, bias=True)\n",
       "  (5): ReLU()\n",
       "  (6): Linear(in_features=32, out_features=16, bias=True)\n",
       "  (7): ReLU()\n",
       "  (8): Linear(in_features=16, out_features=8, bias=True)\n",
       "  (9): ReLU()\n",
       "  (10): Linear(in_features=8, out_features=4, bias=True)\n",
       "  (11): ReLU()\n",
       "  (12): Linear(in_features=4, out_features=1, bias=True)\n",
       ")"
      ]
     },
     "execution_count": 25,
     "metadata": {},
     "output_type": "execute_result"
    },
    {
     "data": {
      "text/plain": [
       "Sequential(\n",
       "  (0): Linear(in_features=275, out_features=128, bias=True)\n",
       "  (1): ReLU()\n",
       "  (2): Linear(in_features=128, out_features=64, bias=True)\n",
       "  (3): ReLU()\n",
       "  (4): Linear(in_features=64, out_features=32, bias=True)\n",
       "  (5): ReLU()\n",
       "  (6): Linear(in_features=32, out_features=16, bias=True)\n",
       "  (7): ReLU()\n",
       "  (8): Linear(in_features=16, out_features=8, bias=True)\n",
       "  (9): ReLU()\n",
       "  (10): Linear(in_features=8, out_features=4, bias=True)\n",
       "  (11): ReLU()\n",
       "  (12): Linear(in_features=4, out_features=1, bias=True)\n",
       ")"
      ]
     },
     "execution_count": 25,
     "metadata": {},
     "output_type": "execute_result"
    },
    {
     "data": {
      "text/plain": [
       "Sequential(\n",
       "  (0): Linear(in_features=275, out_features=128, bias=True)\n",
       "  (1): ReLU()\n",
       "  (2): Linear(in_features=128, out_features=64, bias=True)\n",
       "  (3): ReLU()\n",
       "  (4): Linear(in_features=64, out_features=32, bias=True)\n",
       "  (5): ReLU()\n",
       "  (6): Linear(in_features=32, out_features=16, bias=True)\n",
       "  (7): ReLU()\n",
       "  (8): Linear(in_features=16, out_features=8, bias=True)\n",
       "  (9): ReLU()\n",
       "  (10): Linear(in_features=8, out_features=4, bias=True)\n",
       "  (11): ReLU()\n",
       "  (12): Linear(in_features=4, out_features=1, bias=True)\n",
       ")"
      ]
     },
     "execution_count": 25,
     "metadata": {},
     "output_type": "execute_result"
    },
    {
     "data": {
      "text/plain": [
       "Sequential(\n",
       "  (0): Linear(in_features=275, out_features=128, bias=True)\n",
       "  (1): ReLU()\n",
       "  (2): Linear(in_features=128, out_features=64, bias=True)\n",
       "  (3): ReLU()\n",
       "  (4): Linear(in_features=64, out_features=32, bias=True)\n",
       "  (5): ReLU()\n",
       "  (6): Linear(in_features=32, out_features=16, bias=True)\n",
       "  (7): ReLU()\n",
       "  (8): Linear(in_features=16, out_features=8, bias=True)\n",
       "  (9): ReLU()\n",
       "  (10): Linear(in_features=8, out_features=4, bias=True)\n",
       "  (11): ReLU()\n",
       "  (12): Linear(in_features=4, out_features=1, bias=True)\n",
       ")"
      ]
     },
     "execution_count": 25,
     "metadata": {},
     "output_type": "execute_result"
    },
    {
     "data": {
      "text/plain": [
       "Sequential(\n",
       "  (0): Linear(in_features=275, out_features=128, bias=True)\n",
       "  (1): ReLU()\n",
       "  (2): Linear(in_features=128, out_features=64, bias=True)\n",
       "  (3): ReLU()\n",
       "  (4): Linear(in_features=64, out_features=32, bias=True)\n",
       "  (5): ReLU()\n",
       "  (6): Linear(in_features=32, out_features=16, bias=True)\n",
       "  (7): ReLU()\n",
       "  (8): Linear(in_features=16, out_features=8, bias=True)\n",
       "  (9): ReLU()\n",
       "  (10): Linear(in_features=8, out_features=4, bias=True)\n",
       "  (11): ReLU()\n",
       "  (12): Linear(in_features=4, out_features=1, bias=True)\n",
       ")"
      ]
     },
     "execution_count": 25,
     "metadata": {},
     "output_type": "execute_result"
    },
    {
     "data": {
      "text/plain": [
       "Sequential(\n",
       "  (0): Linear(in_features=275, out_features=128, bias=True)\n",
       "  (1): ReLU()\n",
       "  (2): Linear(in_features=128, out_features=64, bias=True)\n",
       "  (3): ReLU()\n",
       "  (4): Linear(in_features=64, out_features=32, bias=True)\n",
       "  (5): ReLU()\n",
       "  (6): Linear(in_features=32, out_features=16, bias=True)\n",
       "  (7): ReLU()\n",
       "  (8): Linear(in_features=16, out_features=8, bias=True)\n",
       "  (9): ReLU()\n",
       "  (10): Linear(in_features=8, out_features=4, bias=True)\n",
       "  (11): ReLU()\n",
       "  (12): Linear(in_features=4, out_features=1, bias=True)\n",
       ")"
      ]
     },
     "execution_count": 25,
     "metadata": {},
     "output_type": "execute_result"
    },
    {
     "data": {
      "text/plain": [
       "Sequential(\n",
       "  (0): Linear(in_features=275, out_features=128, bias=True)\n",
       "  (1): ReLU()\n",
       "  (2): Linear(in_features=128, out_features=64, bias=True)\n",
       "  (3): ReLU()\n",
       "  (4): Linear(in_features=64, out_features=32, bias=True)\n",
       "  (5): ReLU()\n",
       "  (6): Linear(in_features=32, out_features=16, bias=True)\n",
       "  (7): ReLU()\n",
       "  (8): Linear(in_features=16, out_features=8, bias=True)\n",
       "  (9): ReLU()\n",
       "  (10): Linear(in_features=8, out_features=4, bias=True)\n",
       "  (11): ReLU()\n",
       "  (12): Linear(in_features=4, out_features=1, bias=True)\n",
       ")"
      ]
     },
     "execution_count": 25,
     "metadata": {},
     "output_type": "execute_result"
    },
    {
     "data": {
      "text/plain": [
       "Sequential(\n",
       "  (0): Linear(in_features=275, out_features=128, bias=True)\n",
       "  (1): ReLU()\n",
       "  (2): Linear(in_features=128, out_features=64, bias=True)\n",
       "  (3): ReLU()\n",
       "  (4): Linear(in_features=64, out_features=32, bias=True)\n",
       "  (5): ReLU()\n",
       "  (6): Linear(in_features=32, out_features=16, bias=True)\n",
       "  (7): ReLU()\n",
       "  (8): Linear(in_features=16, out_features=8, bias=True)\n",
       "  (9): ReLU()\n",
       "  (10): Linear(in_features=8, out_features=4, bias=True)\n",
       "  (11): ReLU()\n",
       "  (12): Linear(in_features=4, out_features=1, bias=True)\n",
       ")"
      ]
     },
     "execution_count": 25,
     "metadata": {},
     "output_type": "execute_result"
    },
    {
     "data": {
      "text/plain": [
       "Sequential(\n",
       "  (0): Linear(in_features=275, out_features=128, bias=True)\n",
       "  (1): ReLU()\n",
       "  (2): Linear(in_features=128, out_features=64, bias=True)\n",
       "  (3): ReLU()\n",
       "  (4): Linear(in_features=64, out_features=32, bias=True)\n",
       "  (5): ReLU()\n",
       "  (6): Linear(in_features=32, out_features=16, bias=True)\n",
       "  (7): ReLU()\n",
       "  (8): Linear(in_features=16, out_features=8, bias=True)\n",
       "  (9): ReLU()\n",
       "  (10): Linear(in_features=8, out_features=4, bias=True)\n",
       "  (11): ReLU()\n",
       "  (12): Linear(in_features=4, out_features=1, bias=True)\n",
       ")"
      ]
     },
     "execution_count": 25,
     "metadata": {},
     "output_type": "execute_result"
    },
    {
     "data": {
      "text/plain": [
       "Sequential(\n",
       "  (0): Linear(in_features=275, out_features=128, bias=True)\n",
       "  (1): ReLU()\n",
       "  (2): Linear(in_features=128, out_features=64, bias=True)\n",
       "  (3): ReLU()\n",
       "  (4): Linear(in_features=64, out_features=32, bias=True)\n",
       "  (5): ReLU()\n",
       "  (6): Linear(in_features=32, out_features=16, bias=True)\n",
       "  (7): ReLU()\n",
       "  (8): Linear(in_features=16, out_features=8, bias=True)\n",
       "  (9): ReLU()\n",
       "  (10): Linear(in_features=8, out_features=4, bias=True)\n",
       "  (11): ReLU()\n",
       "  (12): Linear(in_features=4, out_features=1, bias=True)\n",
       ")"
      ]
     },
     "execution_count": 25,
     "metadata": {},
     "output_type": "execute_result"
    },
    {
     "data": {
      "text/plain": [
       "Sequential(\n",
       "  (0): Linear(in_features=275, out_features=128, bias=True)\n",
       "  (1): ReLU()\n",
       "  (2): Linear(in_features=128, out_features=64, bias=True)\n",
       "  (3): ReLU()\n",
       "  (4): Linear(in_features=64, out_features=32, bias=True)\n",
       "  (5): ReLU()\n",
       "  (6): Linear(in_features=32, out_features=16, bias=True)\n",
       "  (7): ReLU()\n",
       "  (8): Linear(in_features=16, out_features=8, bias=True)\n",
       "  (9): ReLU()\n",
       "  (10): Linear(in_features=8, out_features=4, bias=True)\n",
       "  (11): ReLU()\n",
       "  (12): Linear(in_features=4, out_features=1, bias=True)\n",
       ")"
      ]
     },
     "execution_count": 25,
     "metadata": {},
     "output_type": "execute_result"
    },
    {
     "data": {
      "text/plain": [
       "Sequential(\n",
       "  (0): Linear(in_features=275, out_features=128, bias=True)\n",
       "  (1): ReLU()\n",
       "  (2): Linear(in_features=128, out_features=64, bias=True)\n",
       "  (3): ReLU()\n",
       "  (4): Linear(in_features=64, out_features=32, bias=True)\n",
       "  (5): ReLU()\n",
       "  (6): Linear(in_features=32, out_features=16, bias=True)\n",
       "  (7): ReLU()\n",
       "  (8): Linear(in_features=16, out_features=8, bias=True)\n",
       "  (9): ReLU()\n",
       "  (10): Linear(in_features=8, out_features=4, bias=True)\n",
       "  (11): ReLU()\n",
       "  (12): Linear(in_features=4, out_features=1, bias=True)\n",
       ")"
      ]
     },
     "execution_count": 25,
     "metadata": {},
     "output_type": "execute_result"
    },
    {
     "data": {
      "text/plain": [
       "Sequential(\n",
       "  (0): Linear(in_features=275, out_features=128, bias=True)\n",
       "  (1): ReLU()\n",
       "  (2): Linear(in_features=128, out_features=64, bias=True)\n",
       "  (3): ReLU()\n",
       "  (4): Linear(in_features=64, out_features=32, bias=True)\n",
       "  (5): ReLU()\n",
       "  (6): Linear(in_features=32, out_features=16, bias=True)\n",
       "  (7): ReLU()\n",
       "  (8): Linear(in_features=16, out_features=8, bias=True)\n",
       "  (9): ReLU()\n",
       "  (10): Linear(in_features=8, out_features=4, bias=True)\n",
       "  (11): ReLU()\n",
       "  (12): Linear(in_features=4, out_features=1, bias=True)\n",
       ")"
      ]
     },
     "execution_count": 25,
     "metadata": {},
     "output_type": "execute_result"
    },
    {
     "data": {
      "text/plain": [
       "Sequential(\n",
       "  (0): Linear(in_features=275, out_features=128, bias=True)\n",
       "  (1): ReLU()\n",
       "  (2): Linear(in_features=128, out_features=64, bias=True)\n",
       "  (3): ReLU()\n",
       "  (4): Linear(in_features=64, out_features=32, bias=True)\n",
       "  (5): ReLU()\n",
       "  (6): Linear(in_features=32, out_features=16, bias=True)\n",
       "  (7): ReLU()\n",
       "  (8): Linear(in_features=16, out_features=8, bias=True)\n",
       "  (9): ReLU()\n",
       "  (10): Linear(in_features=8, out_features=4, bias=True)\n",
       "  (11): ReLU()\n",
       "  (12): Linear(in_features=4, out_features=1, bias=True)\n",
       ")"
      ]
     },
     "execution_count": 25,
     "metadata": {},
     "output_type": "execute_result"
    },
    {
     "data": {
      "text/plain": [
       "Sequential(\n",
       "  (0): Linear(in_features=275, out_features=128, bias=True)\n",
       "  (1): ReLU()\n",
       "  (2): Linear(in_features=128, out_features=64, bias=True)\n",
       "  (3): ReLU()\n",
       "  (4): Linear(in_features=64, out_features=32, bias=True)\n",
       "  (5): ReLU()\n",
       "  (6): Linear(in_features=32, out_features=16, bias=True)\n",
       "  (7): ReLU()\n",
       "  (8): Linear(in_features=16, out_features=8, bias=True)\n",
       "  (9): ReLU()\n",
       "  (10): Linear(in_features=8, out_features=4, bias=True)\n",
       "  (11): ReLU()\n",
       "  (12): Linear(in_features=4, out_features=1, bias=True)\n",
       ")"
      ]
     },
     "execution_count": 25,
     "metadata": {},
     "output_type": "execute_result"
    },
    {
     "data": {
      "text/plain": [
       "Sequential(\n",
       "  (0): Linear(in_features=275, out_features=128, bias=True)\n",
       "  (1): ReLU()\n",
       "  (2): Linear(in_features=128, out_features=64, bias=True)\n",
       "  (3): ReLU()\n",
       "  (4): Linear(in_features=64, out_features=32, bias=True)\n",
       "  (5): ReLU()\n",
       "  (6): Linear(in_features=32, out_features=16, bias=True)\n",
       "  (7): ReLU()\n",
       "  (8): Linear(in_features=16, out_features=8, bias=True)\n",
       "  (9): ReLU()\n",
       "  (10): Linear(in_features=8, out_features=4, bias=True)\n",
       "  (11): ReLU()\n",
       "  (12): Linear(in_features=4, out_features=1, bias=True)\n",
       ")"
      ]
     },
     "execution_count": 25,
     "metadata": {},
     "output_type": "execute_result"
    },
    {
     "data": {
      "text/plain": [
       "Sequential(\n",
       "  (0): Linear(in_features=275, out_features=128, bias=True)\n",
       "  (1): ReLU()\n",
       "  (2): Linear(in_features=128, out_features=64, bias=True)\n",
       "  (3): ReLU()\n",
       "  (4): Linear(in_features=64, out_features=32, bias=True)\n",
       "  (5): ReLU()\n",
       "  (6): Linear(in_features=32, out_features=16, bias=True)\n",
       "  (7): ReLU()\n",
       "  (8): Linear(in_features=16, out_features=8, bias=True)\n",
       "  (9): ReLU()\n",
       "  (10): Linear(in_features=8, out_features=4, bias=True)\n",
       "  (11): ReLU()\n",
       "  (12): Linear(in_features=4, out_features=1, bias=True)\n",
       ")"
      ]
     },
     "execution_count": 25,
     "metadata": {},
     "output_type": "execute_result"
    },
    {
     "data": {
      "text/plain": [
       "Sequential(\n",
       "  (0): Linear(in_features=275, out_features=128, bias=True)\n",
       "  (1): ReLU()\n",
       "  (2): Linear(in_features=128, out_features=64, bias=True)\n",
       "  (3): ReLU()\n",
       "  (4): Linear(in_features=64, out_features=32, bias=True)\n",
       "  (5): ReLU()\n",
       "  (6): Linear(in_features=32, out_features=16, bias=True)\n",
       "  (7): ReLU()\n",
       "  (8): Linear(in_features=16, out_features=8, bias=True)\n",
       "  (9): ReLU()\n",
       "  (10): Linear(in_features=8, out_features=4, bias=True)\n",
       "  (11): ReLU()\n",
       "  (12): Linear(in_features=4, out_features=1, bias=True)\n",
       ")"
      ]
     },
     "execution_count": 25,
     "metadata": {},
     "output_type": "execute_result"
    },
    {
     "data": {
      "text/plain": [
       "Sequential(\n",
       "  (0): Linear(in_features=275, out_features=128, bias=True)\n",
       "  (1): ReLU()\n",
       "  (2): Linear(in_features=128, out_features=64, bias=True)\n",
       "  (3): ReLU()\n",
       "  (4): Linear(in_features=64, out_features=32, bias=True)\n",
       "  (5): ReLU()\n",
       "  (6): Linear(in_features=32, out_features=16, bias=True)\n",
       "  (7): ReLU()\n",
       "  (8): Linear(in_features=16, out_features=8, bias=True)\n",
       "  (9): ReLU()\n",
       "  (10): Linear(in_features=8, out_features=4, bias=True)\n",
       "  (11): ReLU()\n",
       "  (12): Linear(in_features=4, out_features=1, bias=True)\n",
       ")"
      ]
     },
     "execution_count": 25,
     "metadata": {},
     "output_type": "execute_result"
    },
    {
     "data": {
      "text/plain": [
       "Sequential(\n",
       "  (0): Linear(in_features=275, out_features=128, bias=True)\n",
       "  (1): ReLU()\n",
       "  (2): Linear(in_features=128, out_features=64, bias=True)\n",
       "  (3): ReLU()\n",
       "  (4): Linear(in_features=64, out_features=32, bias=True)\n",
       "  (5): ReLU()\n",
       "  (6): Linear(in_features=32, out_features=16, bias=True)\n",
       "  (7): ReLU()\n",
       "  (8): Linear(in_features=16, out_features=8, bias=True)\n",
       "  (9): ReLU()\n",
       "  (10): Linear(in_features=8, out_features=4, bias=True)\n",
       "  (11): ReLU()\n",
       "  (12): Linear(in_features=4, out_features=1, bias=True)\n",
       ")"
      ]
     },
     "execution_count": 25,
     "metadata": {},
     "output_type": "execute_result"
    },
    {
     "data": {
      "text/plain": [
       "Sequential(\n",
       "  (0): Linear(in_features=275, out_features=128, bias=True)\n",
       "  (1): ReLU()\n",
       "  (2): Linear(in_features=128, out_features=64, bias=True)\n",
       "  (3): ReLU()\n",
       "  (4): Linear(in_features=64, out_features=32, bias=True)\n",
       "  (5): ReLU()\n",
       "  (6): Linear(in_features=32, out_features=16, bias=True)\n",
       "  (7): ReLU()\n",
       "  (8): Linear(in_features=16, out_features=8, bias=True)\n",
       "  (9): ReLU()\n",
       "  (10): Linear(in_features=8, out_features=4, bias=True)\n",
       "  (11): ReLU()\n",
       "  (12): Linear(in_features=4, out_features=1, bias=True)\n",
       ")"
      ]
     },
     "execution_count": 25,
     "metadata": {},
     "output_type": "execute_result"
    },
    {
     "data": {
      "text/plain": [
       "Sequential(\n",
       "  (0): Linear(in_features=275, out_features=128, bias=True)\n",
       "  (1): ReLU()\n",
       "  (2): Linear(in_features=128, out_features=64, bias=True)\n",
       "  (3): ReLU()\n",
       "  (4): Linear(in_features=64, out_features=32, bias=True)\n",
       "  (5): ReLU()\n",
       "  (6): Linear(in_features=32, out_features=16, bias=True)\n",
       "  (7): ReLU()\n",
       "  (8): Linear(in_features=16, out_features=8, bias=True)\n",
       "  (9): ReLU()\n",
       "  (10): Linear(in_features=8, out_features=4, bias=True)\n",
       "  (11): ReLU()\n",
       "  (12): Linear(in_features=4, out_features=1, bias=True)\n",
       ")"
      ]
     },
     "execution_count": 25,
     "metadata": {},
     "output_type": "execute_result"
    },
    {
     "data": {
      "text/plain": [
       "Sequential(\n",
       "  (0): Linear(in_features=275, out_features=128, bias=True)\n",
       "  (1): ReLU()\n",
       "  (2): Linear(in_features=128, out_features=64, bias=True)\n",
       "  (3): ReLU()\n",
       "  (4): Linear(in_features=64, out_features=32, bias=True)\n",
       "  (5): ReLU()\n",
       "  (6): Linear(in_features=32, out_features=16, bias=True)\n",
       "  (7): ReLU()\n",
       "  (8): Linear(in_features=16, out_features=8, bias=True)\n",
       "  (9): ReLU()\n",
       "  (10): Linear(in_features=8, out_features=4, bias=True)\n",
       "  (11): ReLU()\n",
       "  (12): Linear(in_features=4, out_features=1, bias=True)\n",
       ")"
      ]
     },
     "execution_count": 25,
     "metadata": {},
     "output_type": "execute_result"
    },
    {
     "data": {
      "text/plain": [
       "Sequential(\n",
       "  (0): Linear(in_features=275, out_features=128, bias=True)\n",
       "  (1): ReLU()\n",
       "  (2): Linear(in_features=128, out_features=64, bias=True)\n",
       "  (3): ReLU()\n",
       "  (4): Linear(in_features=64, out_features=32, bias=True)\n",
       "  (5): ReLU()\n",
       "  (6): Linear(in_features=32, out_features=16, bias=True)\n",
       "  (7): ReLU()\n",
       "  (8): Linear(in_features=16, out_features=8, bias=True)\n",
       "  (9): ReLU()\n",
       "  (10): Linear(in_features=8, out_features=4, bias=True)\n",
       "  (11): ReLU()\n",
       "  (12): Linear(in_features=4, out_features=1, bias=True)\n",
       ")"
      ]
     },
     "execution_count": 25,
     "metadata": {},
     "output_type": "execute_result"
    },
    {
     "data": {
      "text/plain": [
       "Sequential(\n",
       "  (0): Linear(in_features=275, out_features=128, bias=True)\n",
       "  (1): ReLU()\n",
       "  (2): Linear(in_features=128, out_features=64, bias=True)\n",
       "  (3): ReLU()\n",
       "  (4): Linear(in_features=64, out_features=32, bias=True)\n",
       "  (5): ReLU()\n",
       "  (6): Linear(in_features=32, out_features=16, bias=True)\n",
       "  (7): ReLU()\n",
       "  (8): Linear(in_features=16, out_features=8, bias=True)\n",
       "  (9): ReLU()\n",
       "  (10): Linear(in_features=8, out_features=4, bias=True)\n",
       "  (11): ReLU()\n",
       "  (12): Linear(in_features=4, out_features=1, bias=True)\n",
       ")"
      ]
     },
     "execution_count": 25,
     "metadata": {},
     "output_type": "execute_result"
    },
    {
     "data": {
      "text/plain": [
       "Sequential(\n",
       "  (0): Linear(in_features=275, out_features=128, bias=True)\n",
       "  (1): ReLU()\n",
       "  (2): Linear(in_features=128, out_features=64, bias=True)\n",
       "  (3): ReLU()\n",
       "  (4): Linear(in_features=64, out_features=32, bias=True)\n",
       "  (5): ReLU()\n",
       "  (6): Linear(in_features=32, out_features=16, bias=True)\n",
       "  (7): ReLU()\n",
       "  (8): Linear(in_features=16, out_features=8, bias=True)\n",
       "  (9): ReLU()\n",
       "  (10): Linear(in_features=8, out_features=4, bias=True)\n",
       "  (11): ReLU()\n",
       "  (12): Linear(in_features=4, out_features=1, bias=True)\n",
       ")"
      ]
     },
     "execution_count": 25,
     "metadata": {},
     "output_type": "execute_result"
    },
    {
     "data": {
      "text/plain": [
       "Sequential(\n",
       "  (0): Linear(in_features=275, out_features=128, bias=True)\n",
       "  (1): ReLU()\n",
       "  (2): Linear(in_features=128, out_features=64, bias=True)\n",
       "  (3): ReLU()\n",
       "  (4): Linear(in_features=64, out_features=32, bias=True)\n",
       "  (5): ReLU()\n",
       "  (6): Linear(in_features=32, out_features=16, bias=True)\n",
       "  (7): ReLU()\n",
       "  (8): Linear(in_features=16, out_features=8, bias=True)\n",
       "  (9): ReLU()\n",
       "  (10): Linear(in_features=8, out_features=4, bias=True)\n",
       "  (11): ReLU()\n",
       "  (12): Linear(in_features=4, out_features=1, bias=True)\n",
       ")"
      ]
     },
     "execution_count": 25,
     "metadata": {},
     "output_type": "execute_result"
    },
    {
     "data": {
      "text/plain": [
       "Sequential(\n",
       "  (0): Linear(in_features=275, out_features=128, bias=True)\n",
       "  (1): ReLU()\n",
       "  (2): Linear(in_features=128, out_features=64, bias=True)\n",
       "  (3): ReLU()\n",
       "  (4): Linear(in_features=64, out_features=32, bias=True)\n",
       "  (5): ReLU()\n",
       "  (6): Linear(in_features=32, out_features=16, bias=True)\n",
       "  (7): ReLU()\n",
       "  (8): Linear(in_features=16, out_features=8, bias=True)\n",
       "  (9): ReLU()\n",
       "  (10): Linear(in_features=8, out_features=4, bias=True)\n",
       "  (11): ReLU()\n",
       "  (12): Linear(in_features=4, out_features=1, bias=True)\n",
       ")"
      ]
     },
     "execution_count": 25,
     "metadata": {},
     "output_type": "execute_result"
    },
    {
     "data": {
      "text/plain": [
       "Sequential(\n",
       "  (0): Linear(in_features=275, out_features=128, bias=True)\n",
       "  (1): ReLU()\n",
       "  (2): Linear(in_features=128, out_features=64, bias=True)\n",
       "  (3): ReLU()\n",
       "  (4): Linear(in_features=64, out_features=32, bias=True)\n",
       "  (5): ReLU()\n",
       "  (6): Linear(in_features=32, out_features=16, bias=True)\n",
       "  (7): ReLU()\n",
       "  (8): Linear(in_features=16, out_features=8, bias=True)\n",
       "  (9): ReLU()\n",
       "  (10): Linear(in_features=8, out_features=4, bias=True)\n",
       "  (11): ReLU()\n",
       "  (12): Linear(in_features=4, out_features=1, bias=True)\n",
       ")"
      ]
     },
     "execution_count": 25,
     "metadata": {},
     "output_type": "execute_result"
    },
    {
     "data": {
      "text/plain": [
       "Sequential(\n",
       "  (0): Linear(in_features=275, out_features=128, bias=True)\n",
       "  (1): ReLU()\n",
       "  (2): Linear(in_features=128, out_features=64, bias=True)\n",
       "  (3): ReLU()\n",
       "  (4): Linear(in_features=64, out_features=32, bias=True)\n",
       "  (5): ReLU()\n",
       "  (6): Linear(in_features=32, out_features=16, bias=True)\n",
       "  (7): ReLU()\n",
       "  (8): Linear(in_features=16, out_features=8, bias=True)\n",
       "  (9): ReLU()\n",
       "  (10): Linear(in_features=8, out_features=4, bias=True)\n",
       "  (11): ReLU()\n",
       "  (12): Linear(in_features=4, out_features=1, bias=True)\n",
       ")"
      ]
     },
     "execution_count": 25,
     "metadata": {},
     "output_type": "execute_result"
    },
    {
     "data": {
      "text/plain": [
       "Sequential(\n",
       "  (0): Linear(in_features=275, out_features=128, bias=True)\n",
       "  (1): ReLU()\n",
       "  (2): Linear(in_features=128, out_features=64, bias=True)\n",
       "  (3): ReLU()\n",
       "  (4): Linear(in_features=64, out_features=32, bias=True)\n",
       "  (5): ReLU()\n",
       "  (6): Linear(in_features=32, out_features=16, bias=True)\n",
       "  (7): ReLU()\n",
       "  (8): Linear(in_features=16, out_features=8, bias=True)\n",
       "  (9): ReLU()\n",
       "  (10): Linear(in_features=8, out_features=4, bias=True)\n",
       "  (11): ReLU()\n",
       "  (12): Linear(in_features=4, out_features=1, bias=True)\n",
       ")"
      ]
     },
     "execution_count": 25,
     "metadata": {},
     "output_type": "execute_result"
    },
    {
     "data": {
      "text/plain": [
       "Sequential(\n",
       "  (0): Linear(in_features=275, out_features=128, bias=True)\n",
       "  (1): ReLU()\n",
       "  (2): Linear(in_features=128, out_features=64, bias=True)\n",
       "  (3): ReLU()\n",
       "  (4): Linear(in_features=64, out_features=32, bias=True)\n",
       "  (5): ReLU()\n",
       "  (6): Linear(in_features=32, out_features=16, bias=True)\n",
       "  (7): ReLU()\n",
       "  (8): Linear(in_features=16, out_features=8, bias=True)\n",
       "  (9): ReLU()\n",
       "  (10): Linear(in_features=8, out_features=4, bias=True)\n",
       "  (11): ReLU()\n",
       "  (12): Linear(in_features=4, out_features=1, bias=True)\n",
       ")"
      ]
     },
     "execution_count": 25,
     "metadata": {},
     "output_type": "execute_result"
    },
    {
     "data": {
      "text/plain": [
       "Sequential(\n",
       "  (0): Linear(in_features=275, out_features=128, bias=True)\n",
       "  (1): ReLU()\n",
       "  (2): Linear(in_features=128, out_features=64, bias=True)\n",
       "  (3): ReLU()\n",
       "  (4): Linear(in_features=64, out_features=32, bias=True)\n",
       "  (5): ReLU()\n",
       "  (6): Linear(in_features=32, out_features=16, bias=True)\n",
       "  (7): ReLU()\n",
       "  (8): Linear(in_features=16, out_features=8, bias=True)\n",
       "  (9): ReLU()\n",
       "  (10): Linear(in_features=8, out_features=4, bias=True)\n",
       "  (11): ReLU()\n",
       "  (12): Linear(in_features=4, out_features=1, bias=True)\n",
       ")"
      ]
     },
     "execution_count": 25,
     "metadata": {},
     "output_type": "execute_result"
    },
    {
     "data": {
      "text/plain": [
       "Sequential(\n",
       "  (0): Linear(in_features=275, out_features=128, bias=True)\n",
       "  (1): ReLU()\n",
       "  (2): Linear(in_features=128, out_features=64, bias=True)\n",
       "  (3): ReLU()\n",
       "  (4): Linear(in_features=64, out_features=32, bias=True)\n",
       "  (5): ReLU()\n",
       "  (6): Linear(in_features=32, out_features=16, bias=True)\n",
       "  (7): ReLU()\n",
       "  (8): Linear(in_features=16, out_features=8, bias=True)\n",
       "  (9): ReLU()\n",
       "  (10): Linear(in_features=8, out_features=4, bias=True)\n",
       "  (11): ReLU()\n",
       "  (12): Linear(in_features=4, out_features=1, bias=True)\n",
       ")"
      ]
     },
     "execution_count": 25,
     "metadata": {},
     "output_type": "execute_result"
    },
    {
     "data": {
      "text/plain": [
       "Sequential(\n",
       "  (0): Linear(in_features=275, out_features=128, bias=True)\n",
       "  (1): ReLU()\n",
       "  (2): Linear(in_features=128, out_features=64, bias=True)\n",
       "  (3): ReLU()\n",
       "  (4): Linear(in_features=64, out_features=32, bias=True)\n",
       "  (5): ReLU()\n",
       "  (6): Linear(in_features=32, out_features=16, bias=True)\n",
       "  (7): ReLU()\n",
       "  (8): Linear(in_features=16, out_features=8, bias=True)\n",
       "  (9): ReLU()\n",
       "  (10): Linear(in_features=8, out_features=4, bias=True)\n",
       "  (11): ReLU()\n",
       "  (12): Linear(in_features=4, out_features=1, bias=True)\n",
       ")"
      ]
     },
     "execution_count": 25,
     "metadata": {},
     "output_type": "execute_result"
    },
    {
     "data": {
      "text/plain": [
       "Sequential(\n",
       "  (0): Linear(in_features=275, out_features=128, bias=True)\n",
       "  (1): ReLU()\n",
       "  (2): Linear(in_features=128, out_features=64, bias=True)\n",
       "  (3): ReLU()\n",
       "  (4): Linear(in_features=64, out_features=32, bias=True)\n",
       "  (5): ReLU()\n",
       "  (6): Linear(in_features=32, out_features=16, bias=True)\n",
       "  (7): ReLU()\n",
       "  (8): Linear(in_features=16, out_features=8, bias=True)\n",
       "  (9): ReLU()\n",
       "  (10): Linear(in_features=8, out_features=4, bias=True)\n",
       "  (11): ReLU()\n",
       "  (12): Linear(in_features=4, out_features=1, bias=True)\n",
       ")"
      ]
     },
     "execution_count": 25,
     "metadata": {},
     "output_type": "execute_result"
    },
    {
     "data": {
      "text/plain": [
       "Sequential(\n",
       "  (0): Linear(in_features=275, out_features=128, bias=True)\n",
       "  (1): ReLU()\n",
       "  (2): Linear(in_features=128, out_features=64, bias=True)\n",
       "  (3): ReLU()\n",
       "  (4): Linear(in_features=64, out_features=32, bias=True)\n",
       "  (5): ReLU()\n",
       "  (6): Linear(in_features=32, out_features=16, bias=True)\n",
       "  (7): ReLU()\n",
       "  (8): Linear(in_features=16, out_features=8, bias=True)\n",
       "  (9): ReLU()\n",
       "  (10): Linear(in_features=8, out_features=4, bias=True)\n",
       "  (11): ReLU()\n",
       "  (12): Linear(in_features=4, out_features=1, bias=True)\n",
       ")"
      ]
     },
     "execution_count": 25,
     "metadata": {},
     "output_type": "execute_result"
    },
    {
     "data": {
      "text/plain": [
       "Sequential(\n",
       "  (0): Linear(in_features=275, out_features=128, bias=True)\n",
       "  (1): ReLU()\n",
       "  (2): Linear(in_features=128, out_features=64, bias=True)\n",
       "  (3): ReLU()\n",
       "  (4): Linear(in_features=64, out_features=32, bias=True)\n",
       "  (5): ReLU()\n",
       "  (6): Linear(in_features=32, out_features=16, bias=True)\n",
       "  (7): ReLU()\n",
       "  (8): Linear(in_features=16, out_features=8, bias=True)\n",
       "  (9): ReLU()\n",
       "  (10): Linear(in_features=8, out_features=4, bias=True)\n",
       "  (11): ReLU()\n",
       "  (12): Linear(in_features=4, out_features=1, bias=True)\n",
       ")"
      ]
     },
     "execution_count": 25,
     "metadata": {},
     "output_type": "execute_result"
    },
    {
     "data": {
      "text/plain": [
       "Sequential(\n",
       "  (0): Linear(in_features=275, out_features=128, bias=True)\n",
       "  (1): ReLU()\n",
       "  (2): Linear(in_features=128, out_features=64, bias=True)\n",
       "  (3): ReLU()\n",
       "  (4): Linear(in_features=64, out_features=32, bias=True)\n",
       "  (5): ReLU()\n",
       "  (6): Linear(in_features=32, out_features=16, bias=True)\n",
       "  (7): ReLU()\n",
       "  (8): Linear(in_features=16, out_features=8, bias=True)\n",
       "  (9): ReLU()\n",
       "  (10): Linear(in_features=8, out_features=4, bias=True)\n",
       "  (11): ReLU()\n",
       "  (12): Linear(in_features=4, out_features=1, bias=True)\n",
       ")"
      ]
     },
     "execution_count": 25,
     "metadata": {},
     "output_type": "execute_result"
    },
    {
     "data": {
      "text/plain": [
       "Sequential(\n",
       "  (0): Linear(in_features=275, out_features=128, bias=True)\n",
       "  (1): ReLU()\n",
       "  (2): Linear(in_features=128, out_features=64, bias=True)\n",
       "  (3): ReLU()\n",
       "  (4): Linear(in_features=64, out_features=32, bias=True)\n",
       "  (5): ReLU()\n",
       "  (6): Linear(in_features=32, out_features=16, bias=True)\n",
       "  (7): ReLU()\n",
       "  (8): Linear(in_features=16, out_features=8, bias=True)\n",
       "  (9): ReLU()\n",
       "  (10): Linear(in_features=8, out_features=4, bias=True)\n",
       "  (11): ReLU()\n",
       "  (12): Linear(in_features=4, out_features=1, bias=True)\n",
       ")"
      ]
     },
     "execution_count": 25,
     "metadata": {},
     "output_type": "execute_result"
    },
    {
     "data": {
      "text/plain": [
       "Sequential(\n",
       "  (0): Linear(in_features=275, out_features=128, bias=True)\n",
       "  (1): ReLU()\n",
       "  (2): Linear(in_features=128, out_features=64, bias=True)\n",
       "  (3): ReLU()\n",
       "  (4): Linear(in_features=64, out_features=32, bias=True)\n",
       "  (5): ReLU()\n",
       "  (6): Linear(in_features=32, out_features=16, bias=True)\n",
       "  (7): ReLU()\n",
       "  (8): Linear(in_features=16, out_features=8, bias=True)\n",
       "  (9): ReLU()\n",
       "  (10): Linear(in_features=8, out_features=4, bias=True)\n",
       "  (11): ReLU()\n",
       "  (12): Linear(in_features=4, out_features=1, bias=True)\n",
       ")"
      ]
     },
     "execution_count": 25,
     "metadata": {},
     "output_type": "execute_result"
    },
    {
     "data": {
      "text/plain": [
       "Sequential(\n",
       "  (0): Linear(in_features=275, out_features=128, bias=True)\n",
       "  (1): ReLU()\n",
       "  (2): Linear(in_features=128, out_features=64, bias=True)\n",
       "  (3): ReLU()\n",
       "  (4): Linear(in_features=64, out_features=32, bias=True)\n",
       "  (5): ReLU()\n",
       "  (6): Linear(in_features=32, out_features=16, bias=True)\n",
       "  (7): ReLU()\n",
       "  (8): Linear(in_features=16, out_features=8, bias=True)\n",
       "  (9): ReLU()\n",
       "  (10): Linear(in_features=8, out_features=4, bias=True)\n",
       "  (11): ReLU()\n",
       "  (12): Linear(in_features=4, out_features=1, bias=True)\n",
       ")"
      ]
     },
     "execution_count": 25,
     "metadata": {},
     "output_type": "execute_result"
    },
    {
     "data": {
      "text/plain": [
       "Sequential(\n",
       "  (0): Linear(in_features=275, out_features=128, bias=True)\n",
       "  (1): ReLU()\n",
       "  (2): Linear(in_features=128, out_features=64, bias=True)\n",
       "  (3): ReLU()\n",
       "  (4): Linear(in_features=64, out_features=32, bias=True)\n",
       "  (5): ReLU()\n",
       "  (6): Linear(in_features=32, out_features=16, bias=True)\n",
       "  (7): ReLU()\n",
       "  (8): Linear(in_features=16, out_features=8, bias=True)\n",
       "  (9): ReLU()\n",
       "  (10): Linear(in_features=8, out_features=4, bias=True)\n",
       "  (11): ReLU()\n",
       "  (12): Linear(in_features=4, out_features=1, bias=True)\n",
       ")"
      ]
     },
     "execution_count": 25,
     "metadata": {},
     "output_type": "execute_result"
    },
    {
     "data": {
      "text/plain": [
       "Sequential(\n",
       "  (0): Linear(in_features=275, out_features=128, bias=True)\n",
       "  (1): ReLU()\n",
       "  (2): Linear(in_features=128, out_features=64, bias=True)\n",
       "  (3): ReLU()\n",
       "  (4): Linear(in_features=64, out_features=32, bias=True)\n",
       "  (5): ReLU()\n",
       "  (6): Linear(in_features=32, out_features=16, bias=True)\n",
       "  (7): ReLU()\n",
       "  (8): Linear(in_features=16, out_features=8, bias=True)\n",
       "  (9): ReLU()\n",
       "  (10): Linear(in_features=8, out_features=4, bias=True)\n",
       "  (11): ReLU()\n",
       "  (12): Linear(in_features=4, out_features=1, bias=True)\n",
       ")"
      ]
     },
     "execution_count": 25,
     "metadata": {},
     "output_type": "execute_result"
    },
    {
     "data": {
      "text/plain": [
       "Sequential(\n",
       "  (0): Linear(in_features=275, out_features=128, bias=True)\n",
       "  (1): ReLU()\n",
       "  (2): Linear(in_features=128, out_features=64, bias=True)\n",
       "  (3): ReLU()\n",
       "  (4): Linear(in_features=64, out_features=32, bias=True)\n",
       "  (5): ReLU()\n",
       "  (6): Linear(in_features=32, out_features=16, bias=True)\n",
       "  (7): ReLU()\n",
       "  (8): Linear(in_features=16, out_features=8, bias=True)\n",
       "  (9): ReLU()\n",
       "  (10): Linear(in_features=8, out_features=4, bias=True)\n",
       "  (11): ReLU()\n",
       "  (12): Linear(in_features=4, out_features=1, bias=True)\n",
       ")"
      ]
     },
     "execution_count": 25,
     "metadata": {},
     "output_type": "execute_result"
    },
    {
     "data": {
      "text/plain": [
       "Sequential(\n",
       "  (0): Linear(in_features=275, out_features=128, bias=True)\n",
       "  (1): ReLU()\n",
       "  (2): Linear(in_features=128, out_features=64, bias=True)\n",
       "  (3): ReLU()\n",
       "  (4): Linear(in_features=64, out_features=32, bias=True)\n",
       "  (5): ReLU()\n",
       "  (6): Linear(in_features=32, out_features=16, bias=True)\n",
       "  (7): ReLU()\n",
       "  (8): Linear(in_features=16, out_features=8, bias=True)\n",
       "  (9): ReLU()\n",
       "  (10): Linear(in_features=8, out_features=4, bias=True)\n",
       "  (11): ReLU()\n",
       "  (12): Linear(in_features=4, out_features=1, bias=True)\n",
       ")"
      ]
     },
     "execution_count": 25,
     "metadata": {},
     "output_type": "execute_result"
    },
    {
     "data": {
      "text/plain": [
       "Sequential(\n",
       "  (0): Linear(in_features=275, out_features=128, bias=True)\n",
       "  (1): ReLU()\n",
       "  (2): Linear(in_features=128, out_features=64, bias=True)\n",
       "  (3): ReLU()\n",
       "  (4): Linear(in_features=64, out_features=32, bias=True)\n",
       "  (5): ReLU()\n",
       "  (6): Linear(in_features=32, out_features=16, bias=True)\n",
       "  (7): ReLU()\n",
       "  (8): Linear(in_features=16, out_features=8, bias=True)\n",
       "  (9): ReLU()\n",
       "  (10): Linear(in_features=8, out_features=4, bias=True)\n",
       "  (11): ReLU()\n",
       "  (12): Linear(in_features=4, out_features=1, bias=True)\n",
       ")"
      ]
     },
     "execution_count": 25,
     "metadata": {},
     "output_type": "execute_result"
    },
    {
     "data": {
      "text/plain": [
       "Sequential(\n",
       "  (0): Linear(in_features=275, out_features=128, bias=True)\n",
       "  (1): ReLU()\n",
       "  (2): Linear(in_features=128, out_features=64, bias=True)\n",
       "  (3): ReLU()\n",
       "  (4): Linear(in_features=64, out_features=32, bias=True)\n",
       "  (5): ReLU()\n",
       "  (6): Linear(in_features=32, out_features=16, bias=True)\n",
       "  (7): ReLU()\n",
       "  (8): Linear(in_features=16, out_features=8, bias=True)\n",
       "  (9): ReLU()\n",
       "  (10): Linear(in_features=8, out_features=4, bias=True)\n",
       "  (11): ReLU()\n",
       "  (12): Linear(in_features=4, out_features=1, bias=True)\n",
       ")"
      ]
     },
     "execution_count": 25,
     "metadata": {},
     "output_type": "execute_result"
    },
    {
     "data": {
      "text/plain": [
       "Sequential(\n",
       "  (0): Linear(in_features=275, out_features=128, bias=True)\n",
       "  (1): ReLU()\n",
       "  (2): Linear(in_features=128, out_features=64, bias=True)\n",
       "  (3): ReLU()\n",
       "  (4): Linear(in_features=64, out_features=32, bias=True)\n",
       "  (5): ReLU()\n",
       "  (6): Linear(in_features=32, out_features=16, bias=True)\n",
       "  (7): ReLU()\n",
       "  (8): Linear(in_features=16, out_features=8, bias=True)\n",
       "  (9): ReLU()\n",
       "  (10): Linear(in_features=8, out_features=4, bias=True)\n",
       "  (11): ReLU()\n",
       "  (12): Linear(in_features=4, out_features=1, bias=True)\n",
       ")"
      ]
     },
     "execution_count": 25,
     "metadata": {},
     "output_type": "execute_result"
    },
    {
     "data": {
      "text/plain": [
       "Sequential(\n",
       "  (0): Linear(in_features=275, out_features=128, bias=True)\n",
       "  (1): ReLU()\n",
       "  (2): Linear(in_features=128, out_features=64, bias=True)\n",
       "  (3): ReLU()\n",
       "  (4): Linear(in_features=64, out_features=32, bias=True)\n",
       "  (5): ReLU()\n",
       "  (6): Linear(in_features=32, out_features=16, bias=True)\n",
       "  (7): ReLU()\n",
       "  (8): Linear(in_features=16, out_features=8, bias=True)\n",
       "  (9): ReLU()\n",
       "  (10): Linear(in_features=8, out_features=4, bias=True)\n",
       "  (11): ReLU()\n",
       "  (12): Linear(in_features=4, out_features=1, bias=True)\n",
       ")"
      ]
     },
     "execution_count": 25,
     "metadata": {},
     "output_type": "execute_result"
    },
    {
     "data": {
      "text/plain": [
       "Sequential(\n",
       "  (0): Linear(in_features=275, out_features=128, bias=True)\n",
       "  (1): ReLU()\n",
       "  (2): Linear(in_features=128, out_features=64, bias=True)\n",
       "  (3): ReLU()\n",
       "  (4): Linear(in_features=64, out_features=32, bias=True)\n",
       "  (5): ReLU()\n",
       "  (6): Linear(in_features=32, out_features=16, bias=True)\n",
       "  (7): ReLU()\n",
       "  (8): Linear(in_features=16, out_features=8, bias=True)\n",
       "  (9): ReLU()\n",
       "  (10): Linear(in_features=8, out_features=4, bias=True)\n",
       "  (11): ReLU()\n",
       "  (12): Linear(in_features=4, out_features=1, bias=True)\n",
       ")"
      ]
     },
     "execution_count": 25,
     "metadata": {},
     "output_type": "execute_result"
    },
    {
     "data": {
      "text/plain": [
       "Sequential(\n",
       "  (0): Linear(in_features=275, out_features=128, bias=True)\n",
       "  (1): ReLU()\n",
       "  (2): Linear(in_features=128, out_features=64, bias=True)\n",
       "  (3): ReLU()\n",
       "  (4): Linear(in_features=64, out_features=32, bias=True)\n",
       "  (5): ReLU()\n",
       "  (6): Linear(in_features=32, out_features=16, bias=True)\n",
       "  (7): ReLU()\n",
       "  (8): Linear(in_features=16, out_features=8, bias=True)\n",
       "  (9): ReLU()\n",
       "  (10): Linear(in_features=8, out_features=4, bias=True)\n",
       "  (11): ReLU()\n",
       "  (12): Linear(in_features=4, out_features=1, bias=True)\n",
       ")"
      ]
     },
     "execution_count": 25,
     "metadata": {},
     "output_type": "execute_result"
    },
    {
     "data": {
      "text/plain": [
       "Sequential(\n",
       "  (0): Linear(in_features=275, out_features=128, bias=True)\n",
       "  (1): ReLU()\n",
       "  (2): Linear(in_features=128, out_features=64, bias=True)\n",
       "  (3): ReLU()\n",
       "  (4): Linear(in_features=64, out_features=32, bias=True)\n",
       "  (5): ReLU()\n",
       "  (6): Linear(in_features=32, out_features=16, bias=True)\n",
       "  (7): ReLU()\n",
       "  (8): Linear(in_features=16, out_features=8, bias=True)\n",
       "  (9): ReLU()\n",
       "  (10): Linear(in_features=8, out_features=4, bias=True)\n",
       "  (11): ReLU()\n",
       "  (12): Linear(in_features=4, out_features=1, bias=True)\n",
       ")"
      ]
     },
     "execution_count": 25,
     "metadata": {},
     "output_type": "execute_result"
    },
    {
     "data": {
      "text/plain": [
       "Sequential(\n",
       "  (0): Linear(in_features=275, out_features=128, bias=True)\n",
       "  (1): ReLU()\n",
       "  (2): Linear(in_features=128, out_features=64, bias=True)\n",
       "  (3): ReLU()\n",
       "  (4): Linear(in_features=64, out_features=32, bias=True)\n",
       "  (5): ReLU()\n",
       "  (6): Linear(in_features=32, out_features=16, bias=True)\n",
       "  (7): ReLU()\n",
       "  (8): Linear(in_features=16, out_features=8, bias=True)\n",
       "  (9): ReLU()\n",
       "  (10): Linear(in_features=8, out_features=4, bias=True)\n",
       "  (11): ReLU()\n",
       "  (12): Linear(in_features=4, out_features=1, bias=True)\n",
       ")"
      ]
     },
     "execution_count": 25,
     "metadata": {},
     "output_type": "execute_result"
    },
    {
     "data": {
      "text/plain": [
       "Sequential(\n",
       "  (0): Linear(in_features=275, out_features=128, bias=True)\n",
       "  (1): ReLU()\n",
       "  (2): Linear(in_features=128, out_features=64, bias=True)\n",
       "  (3): ReLU()\n",
       "  (4): Linear(in_features=64, out_features=32, bias=True)\n",
       "  (5): ReLU()\n",
       "  (6): Linear(in_features=32, out_features=16, bias=True)\n",
       "  (7): ReLU()\n",
       "  (8): Linear(in_features=16, out_features=8, bias=True)\n",
       "  (9): ReLU()\n",
       "  (10): Linear(in_features=8, out_features=4, bias=True)\n",
       "  (11): ReLU()\n",
       "  (12): Linear(in_features=4, out_features=1, bias=True)\n",
       ")"
      ]
     },
     "execution_count": 25,
     "metadata": {},
     "output_type": "execute_result"
    },
    {
     "data": {
      "text/plain": [
       "Sequential(\n",
       "  (0): Linear(in_features=275, out_features=128, bias=True)\n",
       "  (1): ReLU()\n",
       "  (2): Linear(in_features=128, out_features=64, bias=True)\n",
       "  (3): ReLU()\n",
       "  (4): Linear(in_features=64, out_features=32, bias=True)\n",
       "  (5): ReLU()\n",
       "  (6): Linear(in_features=32, out_features=16, bias=True)\n",
       "  (7): ReLU()\n",
       "  (8): Linear(in_features=16, out_features=8, bias=True)\n",
       "  (9): ReLU()\n",
       "  (10): Linear(in_features=8, out_features=4, bias=True)\n",
       "  (11): ReLU()\n",
       "  (12): Linear(in_features=4, out_features=1, bias=True)\n",
       ")"
      ]
     },
     "execution_count": 25,
     "metadata": {},
     "output_type": "execute_result"
    },
    {
     "data": {
      "text/plain": [
       "Sequential(\n",
       "  (0): Linear(in_features=275, out_features=128, bias=True)\n",
       "  (1): ReLU()\n",
       "  (2): Linear(in_features=128, out_features=64, bias=True)\n",
       "  (3): ReLU()\n",
       "  (4): Linear(in_features=64, out_features=32, bias=True)\n",
       "  (5): ReLU()\n",
       "  (6): Linear(in_features=32, out_features=16, bias=True)\n",
       "  (7): ReLU()\n",
       "  (8): Linear(in_features=16, out_features=8, bias=True)\n",
       "  (9): ReLU()\n",
       "  (10): Linear(in_features=8, out_features=4, bias=True)\n",
       "  (11): ReLU()\n",
       "  (12): Linear(in_features=4, out_features=1, bias=True)\n",
       ")"
      ]
     },
     "execution_count": 25,
     "metadata": {},
     "output_type": "execute_result"
    },
    {
     "data": {
      "text/plain": [
       "Sequential(\n",
       "  (0): Linear(in_features=275, out_features=128, bias=True)\n",
       "  (1): ReLU()\n",
       "  (2): Linear(in_features=128, out_features=64, bias=True)\n",
       "  (3): ReLU()\n",
       "  (4): Linear(in_features=64, out_features=32, bias=True)\n",
       "  (5): ReLU()\n",
       "  (6): Linear(in_features=32, out_features=16, bias=True)\n",
       "  (7): ReLU()\n",
       "  (8): Linear(in_features=16, out_features=8, bias=True)\n",
       "  (9): ReLU()\n",
       "  (10): Linear(in_features=8, out_features=4, bias=True)\n",
       "  (11): ReLU()\n",
       "  (12): Linear(in_features=4, out_features=1, bias=True)\n",
       ")"
      ]
     },
     "execution_count": 25,
     "metadata": {},
     "output_type": "execute_result"
    },
    {
     "data": {
      "text/plain": [
       "Sequential(\n",
       "  (0): Linear(in_features=275, out_features=128, bias=True)\n",
       "  (1): ReLU()\n",
       "  (2): Linear(in_features=128, out_features=64, bias=True)\n",
       "  (3): ReLU()\n",
       "  (4): Linear(in_features=64, out_features=32, bias=True)\n",
       "  (5): ReLU()\n",
       "  (6): Linear(in_features=32, out_features=16, bias=True)\n",
       "  (7): ReLU()\n",
       "  (8): Linear(in_features=16, out_features=8, bias=True)\n",
       "  (9): ReLU()\n",
       "  (10): Linear(in_features=8, out_features=4, bias=True)\n",
       "  (11): ReLU()\n",
       "  (12): Linear(in_features=4, out_features=1, bias=True)\n",
       ")"
      ]
     },
     "execution_count": 25,
     "metadata": {},
     "output_type": "execute_result"
    },
    {
     "data": {
      "text/plain": [
       "Sequential(\n",
       "  (0): Linear(in_features=275, out_features=128, bias=True)\n",
       "  (1): ReLU()\n",
       "  (2): Linear(in_features=128, out_features=64, bias=True)\n",
       "  (3): ReLU()\n",
       "  (4): Linear(in_features=64, out_features=32, bias=True)\n",
       "  (5): ReLU()\n",
       "  (6): Linear(in_features=32, out_features=16, bias=True)\n",
       "  (7): ReLU()\n",
       "  (8): Linear(in_features=16, out_features=8, bias=True)\n",
       "  (9): ReLU()\n",
       "  (10): Linear(in_features=8, out_features=4, bias=True)\n",
       "  (11): ReLU()\n",
       "  (12): Linear(in_features=4, out_features=1, bias=True)\n",
       ")"
      ]
     },
     "execution_count": 25,
     "metadata": {},
     "output_type": "execute_result"
    },
    {
     "data": {
      "text/plain": [
       "Sequential(\n",
       "  (0): Linear(in_features=275, out_features=128, bias=True)\n",
       "  (1): ReLU()\n",
       "  (2): Linear(in_features=128, out_features=64, bias=True)\n",
       "  (3): ReLU()\n",
       "  (4): Linear(in_features=64, out_features=32, bias=True)\n",
       "  (5): ReLU()\n",
       "  (6): Linear(in_features=32, out_features=16, bias=True)\n",
       "  (7): ReLU()\n",
       "  (8): Linear(in_features=16, out_features=8, bias=True)\n",
       "  (9): ReLU()\n",
       "  (10): Linear(in_features=8, out_features=4, bias=True)\n",
       "  (11): ReLU()\n",
       "  (12): Linear(in_features=4, out_features=1, bias=True)\n",
       ")"
      ]
     },
     "execution_count": 25,
     "metadata": {},
     "output_type": "execute_result"
    },
    {
     "data": {
      "text/plain": [
       "Sequential(\n",
       "  (0): Linear(in_features=275, out_features=128, bias=True)\n",
       "  (1): ReLU()\n",
       "  (2): Linear(in_features=128, out_features=64, bias=True)\n",
       "  (3): ReLU()\n",
       "  (4): Linear(in_features=64, out_features=32, bias=True)\n",
       "  (5): ReLU()\n",
       "  (6): Linear(in_features=32, out_features=16, bias=True)\n",
       "  (7): ReLU()\n",
       "  (8): Linear(in_features=16, out_features=8, bias=True)\n",
       "  (9): ReLU()\n",
       "  (10): Linear(in_features=8, out_features=4, bias=True)\n",
       "  (11): ReLU()\n",
       "  (12): Linear(in_features=4, out_features=1, bias=True)\n",
       ")"
      ]
     },
     "execution_count": 25,
     "metadata": {},
     "output_type": "execute_result"
    },
    {
     "data": {
      "text/plain": [
       "Sequential(\n",
       "  (0): Linear(in_features=275, out_features=128, bias=True)\n",
       "  (1): ReLU()\n",
       "  (2): Linear(in_features=128, out_features=64, bias=True)\n",
       "  (3): ReLU()\n",
       "  (4): Linear(in_features=64, out_features=32, bias=True)\n",
       "  (5): ReLU()\n",
       "  (6): Linear(in_features=32, out_features=16, bias=True)\n",
       "  (7): ReLU()\n",
       "  (8): Linear(in_features=16, out_features=8, bias=True)\n",
       "  (9): ReLU()\n",
       "  (10): Linear(in_features=8, out_features=4, bias=True)\n",
       "  (11): ReLU()\n",
       "  (12): Linear(in_features=4, out_features=1, bias=True)\n",
       ")"
      ]
     },
     "execution_count": 25,
     "metadata": {},
     "output_type": "execute_result"
    },
    {
     "data": {
      "text/plain": [
       "Sequential(\n",
       "  (0): Linear(in_features=275, out_features=128, bias=True)\n",
       "  (1): ReLU()\n",
       "  (2): Linear(in_features=128, out_features=64, bias=True)\n",
       "  (3): ReLU()\n",
       "  (4): Linear(in_features=64, out_features=32, bias=True)\n",
       "  (5): ReLU()\n",
       "  (6): Linear(in_features=32, out_features=16, bias=True)\n",
       "  (7): ReLU()\n",
       "  (8): Linear(in_features=16, out_features=8, bias=True)\n",
       "  (9): ReLU()\n",
       "  (10): Linear(in_features=8, out_features=4, bias=True)\n",
       "  (11): ReLU()\n",
       "  (12): Linear(in_features=4, out_features=1, bias=True)\n",
       ")"
      ]
     },
     "execution_count": 25,
     "metadata": {},
     "output_type": "execute_result"
    },
    {
     "data": {
      "text/plain": [
       "Sequential(\n",
       "  (0): Linear(in_features=275, out_features=128, bias=True)\n",
       "  (1): ReLU()\n",
       "  (2): Linear(in_features=128, out_features=64, bias=True)\n",
       "  (3): ReLU()\n",
       "  (4): Linear(in_features=64, out_features=32, bias=True)\n",
       "  (5): ReLU()\n",
       "  (6): Linear(in_features=32, out_features=16, bias=True)\n",
       "  (7): ReLU()\n",
       "  (8): Linear(in_features=16, out_features=8, bias=True)\n",
       "  (9): ReLU()\n",
       "  (10): Linear(in_features=8, out_features=4, bias=True)\n",
       "  (11): ReLU()\n",
       "  (12): Linear(in_features=4, out_features=1, bias=True)\n",
       ")"
      ]
     },
     "execution_count": 25,
     "metadata": {},
     "output_type": "execute_result"
    },
    {
     "data": {
      "text/plain": [
       "Sequential(\n",
       "  (0): Linear(in_features=275, out_features=128, bias=True)\n",
       "  (1): ReLU()\n",
       "  (2): Linear(in_features=128, out_features=64, bias=True)\n",
       "  (3): ReLU()\n",
       "  (4): Linear(in_features=64, out_features=32, bias=True)\n",
       "  (5): ReLU()\n",
       "  (6): Linear(in_features=32, out_features=16, bias=True)\n",
       "  (7): ReLU()\n",
       "  (8): Linear(in_features=16, out_features=8, bias=True)\n",
       "  (9): ReLU()\n",
       "  (10): Linear(in_features=8, out_features=4, bias=True)\n",
       "  (11): ReLU()\n",
       "  (12): Linear(in_features=4, out_features=1, bias=True)\n",
       ")"
      ]
     },
     "execution_count": 25,
     "metadata": {},
     "output_type": "execute_result"
    },
    {
     "data": {
      "text/plain": [
       "Sequential(\n",
       "  (0): Linear(in_features=275, out_features=128, bias=True)\n",
       "  (1): ReLU()\n",
       "  (2): Linear(in_features=128, out_features=64, bias=True)\n",
       "  (3): ReLU()\n",
       "  (4): Linear(in_features=64, out_features=32, bias=True)\n",
       "  (5): ReLU()\n",
       "  (6): Linear(in_features=32, out_features=16, bias=True)\n",
       "  (7): ReLU()\n",
       "  (8): Linear(in_features=16, out_features=8, bias=True)\n",
       "  (9): ReLU()\n",
       "  (10): Linear(in_features=8, out_features=4, bias=True)\n",
       "  (11): ReLU()\n",
       "  (12): Linear(in_features=4, out_features=1, bias=True)\n",
       ")"
      ]
     },
     "execution_count": 25,
     "metadata": {},
     "output_type": "execute_result"
    },
    {
     "data": {
      "text/plain": [
       "Sequential(\n",
       "  (0): Linear(in_features=275, out_features=128, bias=True)\n",
       "  (1): ReLU()\n",
       "  (2): Linear(in_features=128, out_features=64, bias=True)\n",
       "  (3): ReLU()\n",
       "  (4): Linear(in_features=64, out_features=32, bias=True)\n",
       "  (5): ReLU()\n",
       "  (6): Linear(in_features=32, out_features=16, bias=True)\n",
       "  (7): ReLU()\n",
       "  (8): Linear(in_features=16, out_features=8, bias=True)\n",
       "  (9): ReLU()\n",
       "  (10): Linear(in_features=8, out_features=4, bias=True)\n",
       "  (11): ReLU()\n",
       "  (12): Linear(in_features=4, out_features=1, bias=True)\n",
       ")"
      ]
     },
     "execution_count": 25,
     "metadata": {},
     "output_type": "execute_result"
    },
    {
     "data": {
      "text/plain": [
       "Sequential(\n",
       "  (0): Linear(in_features=275, out_features=128, bias=True)\n",
       "  (1): ReLU()\n",
       "  (2): Linear(in_features=128, out_features=64, bias=True)\n",
       "  (3): ReLU()\n",
       "  (4): Linear(in_features=64, out_features=32, bias=True)\n",
       "  (5): ReLU()\n",
       "  (6): Linear(in_features=32, out_features=16, bias=True)\n",
       "  (7): ReLU()\n",
       "  (8): Linear(in_features=16, out_features=8, bias=True)\n",
       "  (9): ReLU()\n",
       "  (10): Linear(in_features=8, out_features=4, bias=True)\n",
       "  (11): ReLU()\n",
       "  (12): Linear(in_features=4, out_features=1, bias=True)\n",
       ")"
      ]
     },
     "execution_count": 25,
     "metadata": {},
     "output_type": "execute_result"
    },
    {
     "data": {
      "text/plain": [
       "Sequential(\n",
       "  (0): Linear(in_features=275, out_features=128, bias=True)\n",
       "  (1): ReLU()\n",
       "  (2): Linear(in_features=128, out_features=64, bias=True)\n",
       "  (3): ReLU()\n",
       "  (4): Linear(in_features=64, out_features=32, bias=True)\n",
       "  (5): ReLU()\n",
       "  (6): Linear(in_features=32, out_features=16, bias=True)\n",
       "  (7): ReLU()\n",
       "  (8): Linear(in_features=16, out_features=8, bias=True)\n",
       "  (9): ReLU()\n",
       "  (10): Linear(in_features=8, out_features=4, bias=True)\n",
       "  (11): ReLU()\n",
       "  (12): Linear(in_features=4, out_features=1, bias=True)\n",
       ")"
      ]
     },
     "execution_count": 25,
     "metadata": {},
     "output_type": "execute_result"
    },
    {
     "data": {
      "text/plain": [
       "Sequential(\n",
       "  (0): Linear(in_features=275, out_features=128, bias=True)\n",
       "  (1): ReLU()\n",
       "  (2): Linear(in_features=128, out_features=64, bias=True)\n",
       "  (3): ReLU()\n",
       "  (4): Linear(in_features=64, out_features=32, bias=True)\n",
       "  (5): ReLU()\n",
       "  (6): Linear(in_features=32, out_features=16, bias=True)\n",
       "  (7): ReLU()\n",
       "  (8): Linear(in_features=16, out_features=8, bias=True)\n",
       "  (9): ReLU()\n",
       "  (10): Linear(in_features=8, out_features=4, bias=True)\n",
       "  (11): ReLU()\n",
       "  (12): Linear(in_features=4, out_features=1, bias=True)\n",
       ")"
      ]
     },
     "execution_count": 25,
     "metadata": {},
     "output_type": "execute_result"
    },
    {
     "data": {
      "text/plain": [
       "Sequential(\n",
       "  (0): Linear(in_features=275, out_features=128, bias=True)\n",
       "  (1): ReLU()\n",
       "  (2): Linear(in_features=128, out_features=64, bias=True)\n",
       "  (3): ReLU()\n",
       "  (4): Linear(in_features=64, out_features=32, bias=True)\n",
       "  (5): ReLU()\n",
       "  (6): Linear(in_features=32, out_features=16, bias=True)\n",
       "  (7): ReLU()\n",
       "  (8): Linear(in_features=16, out_features=8, bias=True)\n",
       "  (9): ReLU()\n",
       "  (10): Linear(in_features=8, out_features=4, bias=True)\n",
       "  (11): ReLU()\n",
       "  (12): Linear(in_features=4, out_features=1, bias=True)\n",
       ")"
      ]
     },
     "execution_count": 25,
     "metadata": {},
     "output_type": "execute_result"
    },
    {
     "data": {
      "text/plain": [
       "Sequential(\n",
       "  (0): Linear(in_features=275, out_features=128, bias=True)\n",
       "  (1): ReLU()\n",
       "  (2): Linear(in_features=128, out_features=64, bias=True)\n",
       "  (3): ReLU()\n",
       "  (4): Linear(in_features=64, out_features=32, bias=True)\n",
       "  (5): ReLU()\n",
       "  (6): Linear(in_features=32, out_features=16, bias=True)\n",
       "  (7): ReLU()\n",
       "  (8): Linear(in_features=16, out_features=8, bias=True)\n",
       "  (9): ReLU()\n",
       "  (10): Linear(in_features=8, out_features=4, bias=True)\n",
       "  (11): ReLU()\n",
       "  (12): Linear(in_features=4, out_features=1, bias=True)\n",
       ")"
      ]
     },
     "execution_count": 25,
     "metadata": {},
     "output_type": "execute_result"
    },
    {
     "data": {
      "text/plain": [
       "Sequential(\n",
       "  (0): Linear(in_features=275, out_features=128, bias=True)\n",
       "  (1): ReLU()\n",
       "  (2): Linear(in_features=128, out_features=64, bias=True)\n",
       "  (3): ReLU()\n",
       "  (4): Linear(in_features=64, out_features=32, bias=True)\n",
       "  (5): ReLU()\n",
       "  (6): Linear(in_features=32, out_features=16, bias=True)\n",
       "  (7): ReLU()\n",
       "  (8): Linear(in_features=16, out_features=8, bias=True)\n",
       "  (9): ReLU()\n",
       "  (10): Linear(in_features=8, out_features=4, bias=True)\n",
       "  (11): ReLU()\n",
       "  (12): Linear(in_features=4, out_features=1, bias=True)\n",
       ")"
      ]
     },
     "execution_count": 25,
     "metadata": {},
     "output_type": "execute_result"
    },
    {
     "data": {
      "text/plain": [
       "Sequential(\n",
       "  (0): Linear(in_features=275, out_features=128, bias=True)\n",
       "  (1): ReLU()\n",
       "  (2): Linear(in_features=128, out_features=64, bias=True)\n",
       "  (3): ReLU()\n",
       "  (4): Linear(in_features=64, out_features=32, bias=True)\n",
       "  (5): ReLU()\n",
       "  (6): Linear(in_features=32, out_features=16, bias=True)\n",
       "  (7): ReLU()\n",
       "  (8): Linear(in_features=16, out_features=8, bias=True)\n",
       "  (9): ReLU()\n",
       "  (10): Linear(in_features=8, out_features=4, bias=True)\n",
       "  (11): ReLU()\n",
       "  (12): Linear(in_features=4, out_features=1, bias=True)\n",
       ")"
      ]
     },
     "execution_count": 25,
     "metadata": {},
     "output_type": "execute_result"
    },
    {
     "data": {
      "text/plain": [
       "Sequential(\n",
       "  (0): Linear(in_features=275, out_features=128, bias=True)\n",
       "  (1): ReLU()\n",
       "  (2): Linear(in_features=128, out_features=64, bias=True)\n",
       "  (3): ReLU()\n",
       "  (4): Linear(in_features=64, out_features=32, bias=True)\n",
       "  (5): ReLU()\n",
       "  (6): Linear(in_features=32, out_features=16, bias=True)\n",
       "  (7): ReLU()\n",
       "  (8): Linear(in_features=16, out_features=8, bias=True)\n",
       "  (9): ReLU()\n",
       "  (10): Linear(in_features=8, out_features=4, bias=True)\n",
       "  (11): ReLU()\n",
       "  (12): Linear(in_features=4, out_features=1, bias=True)\n",
       ")"
      ]
     },
     "execution_count": 25,
     "metadata": {},
     "output_type": "execute_result"
    },
    {
     "data": {
      "text/plain": [
       "Sequential(\n",
       "  (0): Linear(in_features=275, out_features=128, bias=True)\n",
       "  (1): ReLU()\n",
       "  (2): Linear(in_features=128, out_features=64, bias=True)\n",
       "  (3): ReLU()\n",
       "  (4): Linear(in_features=64, out_features=32, bias=True)\n",
       "  (5): ReLU()\n",
       "  (6): Linear(in_features=32, out_features=16, bias=True)\n",
       "  (7): ReLU()\n",
       "  (8): Linear(in_features=16, out_features=8, bias=True)\n",
       "  (9): ReLU()\n",
       "  (10): Linear(in_features=8, out_features=4, bias=True)\n",
       "  (11): ReLU()\n",
       "  (12): Linear(in_features=4, out_features=1, bias=True)\n",
       ")"
      ]
     },
     "execution_count": 25,
     "metadata": {},
     "output_type": "execute_result"
    },
    {
     "data": {
      "text/plain": [
       "Sequential(\n",
       "  (0): Linear(in_features=275, out_features=128, bias=True)\n",
       "  (1): ReLU()\n",
       "  (2): Linear(in_features=128, out_features=64, bias=True)\n",
       "  (3): ReLU()\n",
       "  (4): Linear(in_features=64, out_features=32, bias=True)\n",
       "  (5): ReLU()\n",
       "  (6): Linear(in_features=32, out_features=16, bias=True)\n",
       "  (7): ReLU()\n",
       "  (8): Linear(in_features=16, out_features=8, bias=True)\n",
       "  (9): ReLU()\n",
       "  (10): Linear(in_features=8, out_features=4, bias=True)\n",
       "  (11): ReLU()\n",
       "  (12): Linear(in_features=4, out_features=1, bias=True)\n",
       ")"
      ]
     },
     "execution_count": 25,
     "metadata": {},
     "output_type": "execute_result"
    },
    {
     "data": {
      "text/plain": [
       "Sequential(\n",
       "  (0): Linear(in_features=275, out_features=128, bias=True)\n",
       "  (1): ReLU()\n",
       "  (2): Linear(in_features=128, out_features=64, bias=True)\n",
       "  (3): ReLU()\n",
       "  (4): Linear(in_features=64, out_features=32, bias=True)\n",
       "  (5): ReLU()\n",
       "  (6): Linear(in_features=32, out_features=16, bias=True)\n",
       "  (7): ReLU()\n",
       "  (8): Linear(in_features=16, out_features=8, bias=True)\n",
       "  (9): ReLU()\n",
       "  (10): Linear(in_features=8, out_features=4, bias=True)\n",
       "  (11): ReLU()\n",
       "  (12): Linear(in_features=4, out_features=1, bias=True)\n",
       ")"
      ]
     },
     "execution_count": 25,
     "metadata": {},
     "output_type": "execute_result"
    },
    {
     "data": {
      "text/plain": [
       "Sequential(\n",
       "  (0): Linear(in_features=275, out_features=128, bias=True)\n",
       "  (1): ReLU()\n",
       "  (2): Linear(in_features=128, out_features=64, bias=True)\n",
       "  (3): ReLU()\n",
       "  (4): Linear(in_features=64, out_features=32, bias=True)\n",
       "  (5): ReLU()\n",
       "  (6): Linear(in_features=32, out_features=16, bias=True)\n",
       "  (7): ReLU()\n",
       "  (8): Linear(in_features=16, out_features=8, bias=True)\n",
       "  (9): ReLU()\n",
       "  (10): Linear(in_features=8, out_features=4, bias=True)\n",
       "  (11): ReLU()\n",
       "  (12): Linear(in_features=4, out_features=1, bias=True)\n",
       ")"
      ]
     },
     "execution_count": 25,
     "metadata": {},
     "output_type": "execute_result"
    },
    {
     "data": {
      "text/plain": [
       "Sequential(\n",
       "  (0): Linear(in_features=275, out_features=128, bias=True)\n",
       "  (1): ReLU()\n",
       "  (2): Linear(in_features=128, out_features=64, bias=True)\n",
       "  (3): ReLU()\n",
       "  (4): Linear(in_features=64, out_features=32, bias=True)\n",
       "  (5): ReLU()\n",
       "  (6): Linear(in_features=32, out_features=16, bias=True)\n",
       "  (7): ReLU()\n",
       "  (8): Linear(in_features=16, out_features=8, bias=True)\n",
       "  (9): ReLU()\n",
       "  (10): Linear(in_features=8, out_features=4, bias=True)\n",
       "  (11): ReLU()\n",
       "  (12): Linear(in_features=4, out_features=1, bias=True)\n",
       ")"
      ]
     },
     "execution_count": 25,
     "metadata": {},
     "output_type": "execute_result"
    },
    {
     "data": {
      "text/plain": [
       "Sequential(\n",
       "  (0): Linear(in_features=275, out_features=128, bias=True)\n",
       "  (1): ReLU()\n",
       "  (2): Linear(in_features=128, out_features=64, bias=True)\n",
       "  (3): ReLU()\n",
       "  (4): Linear(in_features=64, out_features=32, bias=True)\n",
       "  (5): ReLU()\n",
       "  (6): Linear(in_features=32, out_features=16, bias=True)\n",
       "  (7): ReLU()\n",
       "  (8): Linear(in_features=16, out_features=8, bias=True)\n",
       "  (9): ReLU()\n",
       "  (10): Linear(in_features=8, out_features=4, bias=True)\n",
       "  (11): ReLU()\n",
       "  (12): Linear(in_features=4, out_features=1, bias=True)\n",
       ")"
      ]
     },
     "execution_count": 25,
     "metadata": {},
     "output_type": "execute_result"
    },
    {
     "data": {
      "text/plain": [
       "Sequential(\n",
       "  (0): Linear(in_features=275, out_features=128, bias=True)\n",
       "  (1): ReLU()\n",
       "  (2): Linear(in_features=128, out_features=64, bias=True)\n",
       "  (3): ReLU()\n",
       "  (4): Linear(in_features=64, out_features=32, bias=True)\n",
       "  (5): ReLU()\n",
       "  (6): Linear(in_features=32, out_features=16, bias=True)\n",
       "  (7): ReLU()\n",
       "  (8): Linear(in_features=16, out_features=8, bias=True)\n",
       "  (9): ReLU()\n",
       "  (10): Linear(in_features=8, out_features=4, bias=True)\n",
       "  (11): ReLU()\n",
       "  (12): Linear(in_features=4, out_features=1, bias=True)\n",
       ")"
      ]
     },
     "execution_count": 25,
     "metadata": {},
     "output_type": "execute_result"
    },
    {
     "data": {
      "text/plain": [
       "Sequential(\n",
       "  (0): Linear(in_features=275, out_features=128, bias=True)\n",
       "  (1): ReLU()\n",
       "  (2): Linear(in_features=128, out_features=64, bias=True)\n",
       "  (3): ReLU()\n",
       "  (4): Linear(in_features=64, out_features=32, bias=True)\n",
       "  (5): ReLU()\n",
       "  (6): Linear(in_features=32, out_features=16, bias=True)\n",
       "  (7): ReLU()\n",
       "  (8): Linear(in_features=16, out_features=8, bias=True)\n",
       "  (9): ReLU()\n",
       "  (10): Linear(in_features=8, out_features=4, bias=True)\n",
       "  (11): ReLU()\n",
       "  (12): Linear(in_features=4, out_features=1, bias=True)\n",
       ")"
      ]
     },
     "execution_count": 25,
     "metadata": {},
     "output_type": "execute_result"
    },
    {
     "data": {
      "text/plain": [
       "Sequential(\n",
       "  (0): Linear(in_features=275, out_features=128, bias=True)\n",
       "  (1): ReLU()\n",
       "  (2): Linear(in_features=128, out_features=64, bias=True)\n",
       "  (3): ReLU()\n",
       "  (4): Linear(in_features=64, out_features=32, bias=True)\n",
       "  (5): ReLU()\n",
       "  (6): Linear(in_features=32, out_features=16, bias=True)\n",
       "  (7): ReLU()\n",
       "  (8): Linear(in_features=16, out_features=8, bias=True)\n",
       "  (9): ReLU()\n",
       "  (10): Linear(in_features=8, out_features=4, bias=True)\n",
       "  (11): ReLU()\n",
       "  (12): Linear(in_features=4, out_features=1, bias=True)\n",
       ")"
      ]
     },
     "execution_count": 25,
     "metadata": {},
     "output_type": "execute_result"
    },
    {
     "data": {
      "text/plain": [
       "Sequential(\n",
       "  (0): Linear(in_features=275, out_features=128, bias=True)\n",
       "  (1): ReLU()\n",
       "  (2): Linear(in_features=128, out_features=64, bias=True)\n",
       "  (3): ReLU()\n",
       "  (4): Linear(in_features=64, out_features=32, bias=True)\n",
       "  (5): ReLU()\n",
       "  (6): Linear(in_features=32, out_features=16, bias=True)\n",
       "  (7): ReLU()\n",
       "  (8): Linear(in_features=16, out_features=8, bias=True)\n",
       "  (9): ReLU()\n",
       "  (10): Linear(in_features=8, out_features=4, bias=True)\n",
       "  (11): ReLU()\n",
       "  (12): Linear(in_features=4, out_features=1, bias=True)\n",
       ")"
      ]
     },
     "execution_count": 25,
     "metadata": {},
     "output_type": "execute_result"
    },
    {
     "data": {
      "text/plain": [
       "Sequential(\n",
       "  (0): Linear(in_features=275, out_features=128, bias=True)\n",
       "  (1): ReLU()\n",
       "  (2): Linear(in_features=128, out_features=64, bias=True)\n",
       "  (3): ReLU()\n",
       "  (4): Linear(in_features=64, out_features=32, bias=True)\n",
       "  (5): ReLU()\n",
       "  (6): Linear(in_features=32, out_features=16, bias=True)\n",
       "  (7): ReLU()\n",
       "  (8): Linear(in_features=16, out_features=8, bias=True)\n",
       "  (9): ReLU()\n",
       "  (10): Linear(in_features=8, out_features=4, bias=True)\n",
       "  (11): ReLU()\n",
       "  (12): Linear(in_features=4, out_features=1, bias=True)\n",
       ")"
      ]
     },
     "execution_count": 25,
     "metadata": {},
     "output_type": "execute_result"
    },
    {
     "data": {
      "text/plain": [
       "Sequential(\n",
       "  (0): Linear(in_features=275, out_features=128, bias=True)\n",
       "  (1): ReLU()\n",
       "  (2): Linear(in_features=128, out_features=64, bias=True)\n",
       "  (3): ReLU()\n",
       "  (4): Linear(in_features=64, out_features=32, bias=True)\n",
       "  (5): ReLU()\n",
       "  (6): Linear(in_features=32, out_features=16, bias=True)\n",
       "  (7): ReLU()\n",
       "  (8): Linear(in_features=16, out_features=8, bias=True)\n",
       "  (9): ReLU()\n",
       "  (10): Linear(in_features=8, out_features=4, bias=True)\n",
       "  (11): ReLU()\n",
       "  (12): Linear(in_features=4, out_features=1, bias=True)\n",
       ")"
      ]
     },
     "execution_count": 25,
     "metadata": {},
     "output_type": "execute_result"
    },
    {
     "data": {
      "text/plain": [
       "Sequential(\n",
       "  (0): Linear(in_features=275, out_features=128, bias=True)\n",
       "  (1): ReLU()\n",
       "  (2): Linear(in_features=128, out_features=64, bias=True)\n",
       "  (3): ReLU()\n",
       "  (4): Linear(in_features=64, out_features=32, bias=True)\n",
       "  (5): ReLU()\n",
       "  (6): Linear(in_features=32, out_features=16, bias=True)\n",
       "  (7): ReLU()\n",
       "  (8): Linear(in_features=16, out_features=8, bias=True)\n",
       "  (9): ReLU()\n",
       "  (10): Linear(in_features=8, out_features=4, bias=True)\n",
       "  (11): ReLU()\n",
       "  (12): Linear(in_features=4, out_features=1, bias=True)\n",
       ")"
      ]
     },
     "execution_count": 25,
     "metadata": {},
     "output_type": "execute_result"
    },
    {
     "data": {
      "text/plain": [
       "Sequential(\n",
       "  (0): Linear(in_features=275, out_features=128, bias=True)\n",
       "  (1): ReLU()\n",
       "  (2): Linear(in_features=128, out_features=64, bias=True)\n",
       "  (3): ReLU()\n",
       "  (4): Linear(in_features=64, out_features=32, bias=True)\n",
       "  (5): ReLU()\n",
       "  (6): Linear(in_features=32, out_features=16, bias=True)\n",
       "  (7): ReLU()\n",
       "  (8): Linear(in_features=16, out_features=8, bias=True)\n",
       "  (9): ReLU()\n",
       "  (10): Linear(in_features=8, out_features=4, bias=True)\n",
       "  (11): ReLU()\n",
       "  (12): Linear(in_features=4, out_features=1, bias=True)\n",
       ")"
      ]
     },
     "execution_count": 25,
     "metadata": {},
     "output_type": "execute_result"
    },
    {
     "data": {
      "text/plain": [
       "Sequential(\n",
       "  (0): Linear(in_features=275, out_features=128, bias=True)\n",
       "  (1): ReLU()\n",
       "  (2): Linear(in_features=128, out_features=64, bias=True)\n",
       "  (3): ReLU()\n",
       "  (4): Linear(in_features=64, out_features=32, bias=True)\n",
       "  (5): ReLU()\n",
       "  (6): Linear(in_features=32, out_features=16, bias=True)\n",
       "  (7): ReLU()\n",
       "  (8): Linear(in_features=16, out_features=8, bias=True)\n",
       "  (9): ReLU()\n",
       "  (10): Linear(in_features=8, out_features=4, bias=True)\n",
       "  (11): ReLU()\n",
       "  (12): Linear(in_features=4, out_features=1, bias=True)\n",
       ")"
      ]
     },
     "execution_count": 25,
     "metadata": {},
     "output_type": "execute_result"
    },
    {
     "data": {
      "text/plain": [
       "Sequential(\n",
       "  (0): Linear(in_features=275, out_features=128, bias=True)\n",
       "  (1): ReLU()\n",
       "  (2): Linear(in_features=128, out_features=64, bias=True)\n",
       "  (3): ReLU()\n",
       "  (4): Linear(in_features=64, out_features=32, bias=True)\n",
       "  (5): ReLU()\n",
       "  (6): Linear(in_features=32, out_features=16, bias=True)\n",
       "  (7): ReLU()\n",
       "  (8): Linear(in_features=16, out_features=8, bias=True)\n",
       "  (9): ReLU()\n",
       "  (10): Linear(in_features=8, out_features=4, bias=True)\n",
       "  (11): ReLU()\n",
       "  (12): Linear(in_features=4, out_features=1, bias=True)\n",
       ")"
      ]
     },
     "execution_count": 25,
     "metadata": {},
     "output_type": "execute_result"
    },
    {
     "data": {
      "text/plain": [
       "Sequential(\n",
       "  (0): Linear(in_features=275, out_features=128, bias=True)\n",
       "  (1): ReLU()\n",
       "  (2): Linear(in_features=128, out_features=64, bias=True)\n",
       "  (3): ReLU()\n",
       "  (4): Linear(in_features=64, out_features=32, bias=True)\n",
       "  (5): ReLU()\n",
       "  (6): Linear(in_features=32, out_features=16, bias=True)\n",
       "  (7): ReLU()\n",
       "  (8): Linear(in_features=16, out_features=8, bias=True)\n",
       "  (9): ReLU()\n",
       "  (10): Linear(in_features=8, out_features=4, bias=True)\n",
       "  (11): ReLU()\n",
       "  (12): Linear(in_features=4, out_features=1, bias=True)\n",
       ")"
      ]
     },
     "execution_count": 25,
     "metadata": {},
     "output_type": "execute_result"
    },
    {
     "data": {
      "text/plain": [
       "Sequential(\n",
       "  (0): Linear(in_features=275, out_features=128, bias=True)\n",
       "  (1): ReLU()\n",
       "  (2): Linear(in_features=128, out_features=64, bias=True)\n",
       "  (3): ReLU()\n",
       "  (4): Linear(in_features=64, out_features=32, bias=True)\n",
       "  (5): ReLU()\n",
       "  (6): Linear(in_features=32, out_features=16, bias=True)\n",
       "  (7): ReLU()\n",
       "  (8): Linear(in_features=16, out_features=8, bias=True)\n",
       "  (9): ReLU()\n",
       "  (10): Linear(in_features=8, out_features=4, bias=True)\n",
       "  (11): ReLU()\n",
       "  (12): Linear(in_features=4, out_features=1, bias=True)\n",
       ")"
      ]
     },
     "execution_count": 25,
     "metadata": {},
     "output_type": "execute_result"
    },
    {
     "data": {
      "text/plain": [
       "Sequential(\n",
       "  (0): Linear(in_features=275, out_features=128, bias=True)\n",
       "  (1): ReLU()\n",
       "  (2): Linear(in_features=128, out_features=64, bias=True)\n",
       "  (3): ReLU()\n",
       "  (4): Linear(in_features=64, out_features=32, bias=True)\n",
       "  (5): ReLU()\n",
       "  (6): Linear(in_features=32, out_features=16, bias=True)\n",
       "  (7): ReLU()\n",
       "  (8): Linear(in_features=16, out_features=8, bias=True)\n",
       "  (9): ReLU()\n",
       "  (10): Linear(in_features=8, out_features=4, bias=True)\n",
       "  (11): ReLU()\n",
       "  (12): Linear(in_features=4, out_features=1, bias=True)\n",
       ")"
      ]
     },
     "execution_count": 25,
     "metadata": {},
     "output_type": "execute_result"
    },
    {
     "data": {
      "text/plain": [
       "Sequential(\n",
       "  (0): Linear(in_features=275, out_features=128, bias=True)\n",
       "  (1): ReLU()\n",
       "  (2): Linear(in_features=128, out_features=64, bias=True)\n",
       "  (3): ReLU()\n",
       "  (4): Linear(in_features=64, out_features=32, bias=True)\n",
       "  (5): ReLU()\n",
       "  (6): Linear(in_features=32, out_features=16, bias=True)\n",
       "  (7): ReLU()\n",
       "  (8): Linear(in_features=16, out_features=8, bias=True)\n",
       "  (9): ReLU()\n",
       "  (10): Linear(in_features=8, out_features=4, bias=True)\n",
       "  (11): ReLU()\n",
       "  (12): Linear(in_features=4, out_features=1, bias=True)\n",
       ")"
      ]
     },
     "execution_count": 25,
     "metadata": {},
     "output_type": "execute_result"
    },
    {
     "data": {
      "text/plain": [
       "Sequential(\n",
       "  (0): Linear(in_features=275, out_features=128, bias=True)\n",
       "  (1): ReLU()\n",
       "  (2): Linear(in_features=128, out_features=64, bias=True)\n",
       "  (3): ReLU()\n",
       "  (4): Linear(in_features=64, out_features=32, bias=True)\n",
       "  (5): ReLU()\n",
       "  (6): Linear(in_features=32, out_features=16, bias=True)\n",
       "  (7): ReLU()\n",
       "  (8): Linear(in_features=16, out_features=8, bias=True)\n",
       "  (9): ReLU()\n",
       "  (10): Linear(in_features=8, out_features=4, bias=True)\n",
       "  (11): ReLU()\n",
       "  (12): Linear(in_features=4, out_features=1, bias=True)\n",
       ")"
      ]
     },
     "execution_count": 25,
     "metadata": {},
     "output_type": "execute_result"
    },
    {
     "data": {
      "text/plain": [
       "Sequential(\n",
       "  (0): Linear(in_features=275, out_features=128, bias=True)\n",
       "  (1): ReLU()\n",
       "  (2): Linear(in_features=128, out_features=64, bias=True)\n",
       "  (3): ReLU()\n",
       "  (4): Linear(in_features=64, out_features=32, bias=True)\n",
       "  (5): ReLU()\n",
       "  (6): Linear(in_features=32, out_features=16, bias=True)\n",
       "  (7): ReLU()\n",
       "  (8): Linear(in_features=16, out_features=8, bias=True)\n",
       "  (9): ReLU()\n",
       "  (10): Linear(in_features=8, out_features=4, bias=True)\n",
       "  (11): ReLU()\n",
       "  (12): Linear(in_features=4, out_features=1, bias=True)\n",
       ")"
      ]
     },
     "execution_count": 25,
     "metadata": {},
     "output_type": "execute_result"
    },
    {
     "data": {
      "text/plain": [
       "Sequential(\n",
       "  (0): Linear(in_features=275, out_features=128, bias=True)\n",
       "  (1): ReLU()\n",
       "  (2): Linear(in_features=128, out_features=64, bias=True)\n",
       "  (3): ReLU()\n",
       "  (4): Linear(in_features=64, out_features=32, bias=True)\n",
       "  (5): ReLU()\n",
       "  (6): Linear(in_features=32, out_features=16, bias=True)\n",
       "  (7): ReLU()\n",
       "  (8): Linear(in_features=16, out_features=8, bias=True)\n",
       "  (9): ReLU()\n",
       "  (10): Linear(in_features=8, out_features=4, bias=True)\n",
       "  (11): ReLU()\n",
       "  (12): Linear(in_features=4, out_features=1, bias=True)\n",
       ")"
      ]
     },
     "execution_count": 25,
     "metadata": {},
     "output_type": "execute_result"
    },
    {
     "data": {
      "text/plain": [
       "Sequential(\n",
       "  (0): Linear(in_features=275, out_features=128, bias=True)\n",
       "  (1): ReLU()\n",
       "  (2): Linear(in_features=128, out_features=64, bias=True)\n",
       "  (3): ReLU()\n",
       "  (4): Linear(in_features=64, out_features=32, bias=True)\n",
       "  (5): ReLU()\n",
       "  (6): Linear(in_features=32, out_features=16, bias=True)\n",
       "  (7): ReLU()\n",
       "  (8): Linear(in_features=16, out_features=8, bias=True)\n",
       "  (9): ReLU()\n",
       "  (10): Linear(in_features=8, out_features=4, bias=True)\n",
       "  (11): ReLU()\n",
       "  (12): Linear(in_features=4, out_features=1, bias=True)\n",
       ")"
      ]
     },
     "execution_count": 25,
     "metadata": {},
     "output_type": "execute_result"
    },
    {
     "data": {
      "text/plain": [
       "Sequential(\n",
       "  (0): Linear(in_features=275, out_features=128, bias=True)\n",
       "  (1): ReLU()\n",
       "  (2): Linear(in_features=128, out_features=64, bias=True)\n",
       "  (3): ReLU()\n",
       "  (4): Linear(in_features=64, out_features=32, bias=True)\n",
       "  (5): ReLU()\n",
       "  (6): Linear(in_features=32, out_features=16, bias=True)\n",
       "  (7): ReLU()\n",
       "  (8): Linear(in_features=16, out_features=8, bias=True)\n",
       "  (9): ReLU()\n",
       "  (10): Linear(in_features=8, out_features=4, bias=True)\n",
       "  (11): ReLU()\n",
       "  (12): Linear(in_features=4, out_features=1, bias=True)\n",
       ")"
      ]
     },
     "execution_count": 25,
     "metadata": {},
     "output_type": "execute_result"
    },
    {
     "data": {
      "text/plain": [
       "Sequential(\n",
       "  (0): Linear(in_features=275, out_features=128, bias=True)\n",
       "  (1): ReLU()\n",
       "  (2): Linear(in_features=128, out_features=64, bias=True)\n",
       "  (3): ReLU()\n",
       "  (4): Linear(in_features=64, out_features=32, bias=True)\n",
       "  (5): ReLU()\n",
       "  (6): Linear(in_features=32, out_features=16, bias=True)\n",
       "  (7): ReLU()\n",
       "  (8): Linear(in_features=16, out_features=8, bias=True)\n",
       "  (9): ReLU()\n",
       "  (10): Linear(in_features=8, out_features=4, bias=True)\n",
       "  (11): ReLU()\n",
       "  (12): Linear(in_features=4, out_features=1, bias=True)\n",
       ")"
      ]
     },
     "execution_count": 25,
     "metadata": {},
     "output_type": "execute_result"
    },
    {
     "data": {
      "text/plain": [
       "Sequential(\n",
       "  (0): Linear(in_features=275, out_features=128, bias=True)\n",
       "  (1): ReLU()\n",
       "  (2): Linear(in_features=128, out_features=64, bias=True)\n",
       "  (3): ReLU()\n",
       "  (4): Linear(in_features=64, out_features=32, bias=True)\n",
       "  (5): ReLU()\n",
       "  (6): Linear(in_features=32, out_features=16, bias=True)\n",
       "  (7): ReLU()\n",
       "  (8): Linear(in_features=16, out_features=8, bias=True)\n",
       "  (9): ReLU()\n",
       "  (10): Linear(in_features=8, out_features=4, bias=True)\n",
       "  (11): ReLU()\n",
       "  (12): Linear(in_features=4, out_features=1, bias=True)\n",
       ")"
      ]
     },
     "execution_count": 25,
     "metadata": {},
     "output_type": "execute_result"
    },
    {
     "data": {
      "text/plain": [
       "Sequential(\n",
       "  (0): Linear(in_features=275, out_features=128, bias=True)\n",
       "  (1): ReLU()\n",
       "  (2): Linear(in_features=128, out_features=64, bias=True)\n",
       "  (3): ReLU()\n",
       "  (4): Linear(in_features=64, out_features=32, bias=True)\n",
       "  (5): ReLU()\n",
       "  (6): Linear(in_features=32, out_features=16, bias=True)\n",
       "  (7): ReLU()\n",
       "  (8): Linear(in_features=16, out_features=8, bias=True)\n",
       "  (9): ReLU()\n",
       "  (10): Linear(in_features=8, out_features=4, bias=True)\n",
       "  (11): ReLU()\n",
       "  (12): Linear(in_features=4, out_features=1, bias=True)\n",
       ")"
      ]
     },
     "execution_count": 25,
     "metadata": {},
     "output_type": "execute_result"
    },
    {
     "data": {
      "text/plain": [
       "Sequential(\n",
       "  (0): Linear(in_features=275, out_features=128, bias=True)\n",
       "  (1): ReLU()\n",
       "  (2): Linear(in_features=128, out_features=64, bias=True)\n",
       "  (3): ReLU()\n",
       "  (4): Linear(in_features=64, out_features=32, bias=True)\n",
       "  (5): ReLU()\n",
       "  (6): Linear(in_features=32, out_features=16, bias=True)\n",
       "  (7): ReLU()\n",
       "  (8): Linear(in_features=16, out_features=8, bias=True)\n",
       "  (9): ReLU()\n",
       "  (10): Linear(in_features=8, out_features=4, bias=True)\n",
       "  (11): ReLU()\n",
       "  (12): Linear(in_features=4, out_features=1, bias=True)\n",
       ")"
      ]
     },
     "execution_count": 25,
     "metadata": {},
     "output_type": "execute_result"
    },
    {
     "data": {
      "text/plain": [
       "Sequential(\n",
       "  (0): Linear(in_features=275, out_features=128, bias=True)\n",
       "  (1): ReLU()\n",
       "  (2): Linear(in_features=128, out_features=64, bias=True)\n",
       "  (3): ReLU()\n",
       "  (4): Linear(in_features=64, out_features=32, bias=True)\n",
       "  (5): ReLU()\n",
       "  (6): Linear(in_features=32, out_features=16, bias=True)\n",
       "  (7): ReLU()\n",
       "  (8): Linear(in_features=16, out_features=8, bias=True)\n",
       "  (9): ReLU()\n",
       "  (10): Linear(in_features=8, out_features=4, bias=True)\n",
       "  (11): ReLU()\n",
       "  (12): Linear(in_features=4, out_features=1, bias=True)\n",
       ")"
      ]
     },
     "execution_count": 25,
     "metadata": {},
     "output_type": "execute_result"
    },
    {
     "data": {
      "text/plain": [
       "Sequential(\n",
       "  (0): Linear(in_features=275, out_features=128, bias=True)\n",
       "  (1): ReLU()\n",
       "  (2): Linear(in_features=128, out_features=64, bias=True)\n",
       "  (3): ReLU()\n",
       "  (4): Linear(in_features=64, out_features=32, bias=True)\n",
       "  (5): ReLU()\n",
       "  (6): Linear(in_features=32, out_features=16, bias=True)\n",
       "  (7): ReLU()\n",
       "  (8): Linear(in_features=16, out_features=8, bias=True)\n",
       "  (9): ReLU()\n",
       "  (10): Linear(in_features=8, out_features=4, bias=True)\n",
       "  (11): ReLU()\n",
       "  (12): Linear(in_features=4, out_features=1, bias=True)\n",
       ")"
      ]
     },
     "execution_count": 25,
     "metadata": {},
     "output_type": "execute_result"
    },
    {
     "data": {
      "text/plain": [
       "Sequential(\n",
       "  (0): Linear(in_features=275, out_features=128, bias=True)\n",
       "  (1): ReLU()\n",
       "  (2): Linear(in_features=128, out_features=64, bias=True)\n",
       "  (3): ReLU()\n",
       "  (4): Linear(in_features=64, out_features=32, bias=True)\n",
       "  (5): ReLU()\n",
       "  (6): Linear(in_features=32, out_features=16, bias=True)\n",
       "  (7): ReLU()\n",
       "  (8): Linear(in_features=16, out_features=8, bias=True)\n",
       "  (9): ReLU()\n",
       "  (10): Linear(in_features=8, out_features=4, bias=True)\n",
       "  (11): ReLU()\n",
       "  (12): Linear(in_features=4, out_features=1, bias=True)\n",
       ")"
      ]
     },
     "execution_count": 25,
     "metadata": {},
     "output_type": "execute_result"
    },
    {
     "data": {
      "text/plain": [
       "Sequential(\n",
       "  (0): Linear(in_features=275, out_features=128, bias=True)\n",
       "  (1): ReLU()\n",
       "  (2): Linear(in_features=128, out_features=64, bias=True)\n",
       "  (3): ReLU()\n",
       "  (4): Linear(in_features=64, out_features=32, bias=True)\n",
       "  (5): ReLU()\n",
       "  (6): Linear(in_features=32, out_features=16, bias=True)\n",
       "  (7): ReLU()\n",
       "  (8): Linear(in_features=16, out_features=8, bias=True)\n",
       "  (9): ReLU()\n",
       "  (10): Linear(in_features=8, out_features=4, bias=True)\n",
       "  (11): ReLU()\n",
       "  (12): Linear(in_features=4, out_features=1, bias=True)\n",
       ")"
      ]
     },
     "execution_count": 25,
     "metadata": {},
     "output_type": "execute_result"
    },
    {
     "data": {
      "text/plain": [
       "Sequential(\n",
       "  (0): Linear(in_features=275, out_features=128, bias=True)\n",
       "  (1): ReLU()\n",
       "  (2): Linear(in_features=128, out_features=64, bias=True)\n",
       "  (3): ReLU()\n",
       "  (4): Linear(in_features=64, out_features=32, bias=True)\n",
       "  (5): ReLU()\n",
       "  (6): Linear(in_features=32, out_features=16, bias=True)\n",
       "  (7): ReLU()\n",
       "  (8): Linear(in_features=16, out_features=8, bias=True)\n",
       "  (9): ReLU()\n",
       "  (10): Linear(in_features=8, out_features=4, bias=True)\n",
       "  (11): ReLU()\n",
       "  (12): Linear(in_features=4, out_features=1, bias=True)\n",
       ")"
      ]
     },
     "execution_count": 25,
     "metadata": {},
     "output_type": "execute_result"
    },
    {
     "data": {
      "text/plain": [
       "Sequential(\n",
       "  (0): Linear(in_features=275, out_features=128, bias=True)\n",
       "  (1): ReLU()\n",
       "  (2): Linear(in_features=128, out_features=64, bias=True)\n",
       "  (3): ReLU()\n",
       "  (4): Linear(in_features=64, out_features=32, bias=True)\n",
       "  (5): ReLU()\n",
       "  (6): Linear(in_features=32, out_features=16, bias=True)\n",
       "  (7): ReLU()\n",
       "  (8): Linear(in_features=16, out_features=8, bias=True)\n",
       "  (9): ReLU()\n",
       "  (10): Linear(in_features=8, out_features=4, bias=True)\n",
       "  (11): ReLU()\n",
       "  (12): Linear(in_features=4, out_features=1, bias=True)\n",
       ")"
      ]
     },
     "execution_count": 25,
     "metadata": {},
     "output_type": "execute_result"
    },
    {
     "data": {
      "text/plain": [
       "Sequential(\n",
       "  (0): Linear(in_features=275, out_features=128, bias=True)\n",
       "  (1): ReLU()\n",
       "  (2): Linear(in_features=128, out_features=64, bias=True)\n",
       "  (3): ReLU()\n",
       "  (4): Linear(in_features=64, out_features=32, bias=True)\n",
       "  (5): ReLU()\n",
       "  (6): Linear(in_features=32, out_features=16, bias=True)\n",
       "  (7): ReLU()\n",
       "  (8): Linear(in_features=16, out_features=8, bias=True)\n",
       "  (9): ReLU()\n",
       "  (10): Linear(in_features=8, out_features=4, bias=True)\n",
       "  (11): ReLU()\n",
       "  (12): Linear(in_features=4, out_features=1, bias=True)\n",
       ")"
      ]
     },
     "execution_count": 25,
     "metadata": {},
     "output_type": "execute_result"
    },
    {
     "data": {
      "text/plain": [
       "Sequential(\n",
       "  (0): Linear(in_features=275, out_features=128, bias=True)\n",
       "  (1): ReLU()\n",
       "  (2): Linear(in_features=128, out_features=64, bias=True)\n",
       "  (3): ReLU()\n",
       "  (4): Linear(in_features=64, out_features=32, bias=True)\n",
       "  (5): ReLU()\n",
       "  (6): Linear(in_features=32, out_features=16, bias=True)\n",
       "  (7): ReLU()\n",
       "  (8): Linear(in_features=16, out_features=8, bias=True)\n",
       "  (9): ReLU()\n",
       "  (10): Linear(in_features=8, out_features=4, bias=True)\n",
       "  (11): ReLU()\n",
       "  (12): Linear(in_features=4, out_features=1, bias=True)\n",
       ")"
      ]
     },
     "execution_count": 25,
     "metadata": {},
     "output_type": "execute_result"
    },
    {
     "data": {
      "text/plain": [
       "Sequential(\n",
       "  (0): Linear(in_features=275, out_features=128, bias=True)\n",
       "  (1): ReLU()\n",
       "  (2): Linear(in_features=128, out_features=64, bias=True)\n",
       "  (3): ReLU()\n",
       "  (4): Linear(in_features=64, out_features=32, bias=True)\n",
       "  (5): ReLU()\n",
       "  (6): Linear(in_features=32, out_features=16, bias=True)\n",
       "  (7): ReLU()\n",
       "  (8): Linear(in_features=16, out_features=8, bias=True)\n",
       "  (9): ReLU()\n",
       "  (10): Linear(in_features=8, out_features=4, bias=True)\n",
       "  (11): ReLU()\n",
       "  (12): Linear(in_features=4, out_features=1, bias=True)\n",
       ")"
      ]
     },
     "execution_count": 25,
     "metadata": {},
     "output_type": "execute_result"
    },
    {
     "data": {
      "text/plain": [
       "Sequential(\n",
       "  (0): Linear(in_features=275, out_features=128, bias=True)\n",
       "  (1): ReLU()\n",
       "  (2): Linear(in_features=128, out_features=64, bias=True)\n",
       "  (3): ReLU()\n",
       "  (4): Linear(in_features=64, out_features=32, bias=True)\n",
       "  (5): ReLU()\n",
       "  (6): Linear(in_features=32, out_features=16, bias=True)\n",
       "  (7): ReLU()\n",
       "  (8): Linear(in_features=16, out_features=8, bias=True)\n",
       "  (9): ReLU()\n",
       "  (10): Linear(in_features=8, out_features=4, bias=True)\n",
       "  (11): ReLU()\n",
       "  (12): Linear(in_features=4, out_features=1, bias=True)\n",
       ")"
      ]
     },
     "execution_count": 25,
     "metadata": {},
     "output_type": "execute_result"
    },
    {
     "data": {
      "text/plain": [
       "Sequential(\n",
       "  (0): Linear(in_features=275, out_features=128, bias=True)\n",
       "  (1): ReLU()\n",
       "  (2): Linear(in_features=128, out_features=64, bias=True)\n",
       "  (3): ReLU()\n",
       "  (4): Linear(in_features=64, out_features=32, bias=True)\n",
       "  (5): ReLU()\n",
       "  (6): Linear(in_features=32, out_features=16, bias=True)\n",
       "  (7): ReLU()\n",
       "  (8): Linear(in_features=16, out_features=8, bias=True)\n",
       "  (9): ReLU()\n",
       "  (10): Linear(in_features=8, out_features=4, bias=True)\n",
       "  (11): ReLU()\n",
       "  (12): Linear(in_features=4, out_features=1, bias=True)\n",
       ")"
      ]
     },
     "execution_count": 25,
     "metadata": {},
     "output_type": "execute_result"
    },
    {
     "data": {
      "text/plain": [
       "Sequential(\n",
       "  (0): Linear(in_features=275, out_features=128, bias=True)\n",
       "  (1): ReLU()\n",
       "  (2): Linear(in_features=128, out_features=64, bias=True)\n",
       "  (3): ReLU()\n",
       "  (4): Linear(in_features=64, out_features=32, bias=True)\n",
       "  (5): ReLU()\n",
       "  (6): Linear(in_features=32, out_features=16, bias=True)\n",
       "  (7): ReLU()\n",
       "  (8): Linear(in_features=16, out_features=8, bias=True)\n",
       "  (9): ReLU()\n",
       "  (10): Linear(in_features=8, out_features=4, bias=True)\n",
       "  (11): ReLU()\n",
       "  (12): Linear(in_features=4, out_features=1, bias=True)\n",
       ")"
      ]
     },
     "execution_count": 25,
     "metadata": {},
     "output_type": "execute_result"
    },
    {
     "data": {
      "text/plain": [
       "Sequential(\n",
       "  (0): Linear(in_features=275, out_features=128, bias=True)\n",
       "  (1): ReLU()\n",
       "  (2): Linear(in_features=128, out_features=64, bias=True)\n",
       "  (3): ReLU()\n",
       "  (4): Linear(in_features=64, out_features=32, bias=True)\n",
       "  (5): ReLU()\n",
       "  (6): Linear(in_features=32, out_features=16, bias=True)\n",
       "  (7): ReLU()\n",
       "  (8): Linear(in_features=16, out_features=8, bias=True)\n",
       "  (9): ReLU()\n",
       "  (10): Linear(in_features=8, out_features=4, bias=True)\n",
       "  (11): ReLU()\n",
       "  (12): Linear(in_features=4, out_features=1, bias=True)\n",
       ")"
      ]
     },
     "execution_count": 25,
     "metadata": {},
     "output_type": "execute_result"
    },
    {
     "data": {
      "text/plain": [
       "Sequential(\n",
       "  (0): Linear(in_features=275, out_features=128, bias=True)\n",
       "  (1): ReLU()\n",
       "  (2): Linear(in_features=128, out_features=64, bias=True)\n",
       "  (3): ReLU()\n",
       "  (4): Linear(in_features=64, out_features=32, bias=True)\n",
       "  (5): ReLU()\n",
       "  (6): Linear(in_features=32, out_features=16, bias=True)\n",
       "  (7): ReLU()\n",
       "  (8): Linear(in_features=16, out_features=8, bias=True)\n",
       "  (9): ReLU()\n",
       "  (10): Linear(in_features=8, out_features=4, bias=True)\n",
       "  (11): ReLU()\n",
       "  (12): Linear(in_features=4, out_features=1, bias=True)\n",
       ")"
      ]
     },
     "execution_count": 25,
     "metadata": {},
     "output_type": "execute_result"
    },
    {
     "data": {
      "text/plain": [
       "Sequential(\n",
       "  (0): Linear(in_features=275, out_features=128, bias=True)\n",
       "  (1): ReLU()\n",
       "  (2): Linear(in_features=128, out_features=64, bias=True)\n",
       "  (3): ReLU()\n",
       "  (4): Linear(in_features=64, out_features=32, bias=True)\n",
       "  (5): ReLU()\n",
       "  (6): Linear(in_features=32, out_features=16, bias=True)\n",
       "  (7): ReLU()\n",
       "  (8): Linear(in_features=16, out_features=8, bias=True)\n",
       "  (9): ReLU()\n",
       "  (10): Linear(in_features=8, out_features=4, bias=True)\n",
       "  (11): ReLU()\n",
       "  (12): Linear(in_features=4, out_features=1, bias=True)\n",
       ")"
      ]
     },
     "execution_count": 25,
     "metadata": {},
     "output_type": "execute_result"
    },
    {
     "data": {
      "text/plain": [
       "Sequential(\n",
       "  (0): Linear(in_features=275, out_features=128, bias=True)\n",
       "  (1): ReLU()\n",
       "  (2): Linear(in_features=128, out_features=64, bias=True)\n",
       "  (3): ReLU()\n",
       "  (4): Linear(in_features=64, out_features=32, bias=True)\n",
       "  (5): ReLU()\n",
       "  (6): Linear(in_features=32, out_features=16, bias=True)\n",
       "  (7): ReLU()\n",
       "  (8): Linear(in_features=16, out_features=8, bias=True)\n",
       "  (9): ReLU()\n",
       "  (10): Linear(in_features=8, out_features=4, bias=True)\n",
       "  (11): ReLU()\n",
       "  (12): Linear(in_features=4, out_features=1, bias=True)\n",
       ")"
      ]
     },
     "execution_count": 25,
     "metadata": {},
     "output_type": "execute_result"
    },
    {
     "data": {
      "text/plain": [
       "Sequential(\n",
       "  (0): Linear(in_features=275, out_features=128, bias=True)\n",
       "  (1): ReLU()\n",
       "  (2): Linear(in_features=128, out_features=64, bias=True)\n",
       "  (3): ReLU()\n",
       "  (4): Linear(in_features=64, out_features=32, bias=True)\n",
       "  (5): ReLU()\n",
       "  (6): Linear(in_features=32, out_features=16, bias=True)\n",
       "  (7): ReLU()\n",
       "  (8): Linear(in_features=16, out_features=8, bias=True)\n",
       "  (9): ReLU()\n",
       "  (10): Linear(in_features=8, out_features=4, bias=True)\n",
       "  (11): ReLU()\n",
       "  (12): Linear(in_features=4, out_features=1, bias=True)\n",
       ")"
      ]
     },
     "execution_count": 25,
     "metadata": {},
     "output_type": "execute_result"
    },
    {
     "data": {
      "text/plain": [
       "Sequential(\n",
       "  (0): Linear(in_features=275, out_features=128, bias=True)\n",
       "  (1): ReLU()\n",
       "  (2): Linear(in_features=128, out_features=64, bias=True)\n",
       "  (3): ReLU()\n",
       "  (4): Linear(in_features=64, out_features=32, bias=True)\n",
       "  (5): ReLU()\n",
       "  (6): Linear(in_features=32, out_features=16, bias=True)\n",
       "  (7): ReLU()\n",
       "  (8): Linear(in_features=16, out_features=8, bias=True)\n",
       "  (9): ReLU()\n",
       "  (10): Linear(in_features=8, out_features=4, bias=True)\n",
       "  (11): ReLU()\n",
       "  (12): Linear(in_features=4, out_features=1, bias=True)\n",
       ")"
      ]
     },
     "execution_count": 25,
     "metadata": {},
     "output_type": "execute_result"
    },
    {
     "data": {
      "text/plain": [
       "Sequential(\n",
       "  (0): Linear(in_features=275, out_features=128, bias=True)\n",
       "  (1): ReLU()\n",
       "  (2): Linear(in_features=128, out_features=64, bias=True)\n",
       "  (3): ReLU()\n",
       "  (4): Linear(in_features=64, out_features=32, bias=True)\n",
       "  (5): ReLU()\n",
       "  (6): Linear(in_features=32, out_features=16, bias=True)\n",
       "  (7): ReLU()\n",
       "  (8): Linear(in_features=16, out_features=8, bias=True)\n",
       "  (9): ReLU()\n",
       "  (10): Linear(in_features=8, out_features=4, bias=True)\n",
       "  (11): ReLU()\n",
       "  (12): Linear(in_features=4, out_features=1, bias=True)\n",
       ")"
      ]
     },
     "execution_count": 25,
     "metadata": {},
     "output_type": "execute_result"
    },
    {
     "data": {
      "text/plain": [
       "Sequential(\n",
       "  (0): Linear(in_features=275, out_features=128, bias=True)\n",
       "  (1): ReLU()\n",
       "  (2): Linear(in_features=128, out_features=64, bias=True)\n",
       "  (3): ReLU()\n",
       "  (4): Linear(in_features=64, out_features=32, bias=True)\n",
       "  (5): ReLU()\n",
       "  (6): Linear(in_features=32, out_features=16, bias=True)\n",
       "  (7): ReLU()\n",
       "  (8): Linear(in_features=16, out_features=8, bias=True)\n",
       "  (9): ReLU()\n",
       "  (10): Linear(in_features=8, out_features=4, bias=True)\n",
       "  (11): ReLU()\n",
       "  (12): Linear(in_features=4, out_features=1, bias=True)\n",
       ")"
      ]
     },
     "execution_count": 25,
     "metadata": {},
     "output_type": "execute_result"
    },
    {
     "data": {
      "text/plain": [
       "Sequential(\n",
       "  (0): Linear(in_features=275, out_features=128, bias=True)\n",
       "  (1): ReLU()\n",
       "  (2): Linear(in_features=128, out_features=64, bias=True)\n",
       "  (3): ReLU()\n",
       "  (4): Linear(in_features=64, out_features=32, bias=True)\n",
       "  (5): ReLU()\n",
       "  (6): Linear(in_features=32, out_features=16, bias=True)\n",
       "  (7): ReLU()\n",
       "  (8): Linear(in_features=16, out_features=8, bias=True)\n",
       "  (9): ReLU()\n",
       "  (10): Linear(in_features=8, out_features=4, bias=True)\n",
       "  (11): ReLU()\n",
       "  (12): Linear(in_features=4, out_features=1, bias=True)\n",
       ")"
      ]
     },
     "execution_count": 25,
     "metadata": {},
     "output_type": "execute_result"
    },
    {
     "data": {
      "text/plain": [
       "Sequential(\n",
       "  (0): Linear(in_features=275, out_features=128, bias=True)\n",
       "  (1): ReLU()\n",
       "  (2): Linear(in_features=128, out_features=64, bias=True)\n",
       "  (3): ReLU()\n",
       "  (4): Linear(in_features=64, out_features=32, bias=True)\n",
       "  (5): ReLU()\n",
       "  (6): Linear(in_features=32, out_features=16, bias=True)\n",
       "  (7): ReLU()\n",
       "  (8): Linear(in_features=16, out_features=8, bias=True)\n",
       "  (9): ReLU()\n",
       "  (10): Linear(in_features=8, out_features=4, bias=True)\n",
       "  (11): ReLU()\n",
       "  (12): Linear(in_features=4, out_features=1, bias=True)\n",
       ")"
      ]
     },
     "execution_count": 25,
     "metadata": {},
     "output_type": "execute_result"
    },
    {
     "data": {
      "text/plain": [
       "Sequential(\n",
       "  (0): Linear(in_features=275, out_features=128, bias=True)\n",
       "  (1): ReLU()\n",
       "  (2): Linear(in_features=128, out_features=64, bias=True)\n",
       "  (3): ReLU()\n",
       "  (4): Linear(in_features=64, out_features=32, bias=True)\n",
       "  (5): ReLU()\n",
       "  (6): Linear(in_features=32, out_features=16, bias=True)\n",
       "  (7): ReLU()\n",
       "  (8): Linear(in_features=16, out_features=8, bias=True)\n",
       "  (9): ReLU()\n",
       "  (10): Linear(in_features=8, out_features=4, bias=True)\n",
       "  (11): ReLU()\n",
       "  (12): Linear(in_features=4, out_features=1, bias=True)\n",
       ")"
      ]
     },
     "execution_count": 25,
     "metadata": {},
     "output_type": "execute_result"
    },
    {
     "data": {
      "text/plain": [
       "Sequential(\n",
       "  (0): Linear(in_features=275, out_features=128, bias=True)\n",
       "  (1): ReLU()\n",
       "  (2): Linear(in_features=128, out_features=64, bias=True)\n",
       "  (3): ReLU()\n",
       "  (4): Linear(in_features=64, out_features=32, bias=True)\n",
       "  (5): ReLU()\n",
       "  (6): Linear(in_features=32, out_features=16, bias=True)\n",
       "  (7): ReLU()\n",
       "  (8): Linear(in_features=16, out_features=8, bias=True)\n",
       "  (9): ReLU()\n",
       "  (10): Linear(in_features=8, out_features=4, bias=True)\n",
       "  (11): ReLU()\n",
       "  (12): Linear(in_features=4, out_features=1, bias=True)\n",
       ")"
      ]
     },
     "execution_count": 25,
     "metadata": {},
     "output_type": "execute_result"
    },
    {
     "data": {
      "text/plain": [
       "Sequential(\n",
       "  (0): Linear(in_features=275, out_features=128, bias=True)\n",
       "  (1): ReLU()\n",
       "  (2): Linear(in_features=128, out_features=64, bias=True)\n",
       "  (3): ReLU()\n",
       "  (4): Linear(in_features=64, out_features=32, bias=True)\n",
       "  (5): ReLU()\n",
       "  (6): Linear(in_features=32, out_features=16, bias=True)\n",
       "  (7): ReLU()\n",
       "  (8): Linear(in_features=16, out_features=8, bias=True)\n",
       "  (9): ReLU()\n",
       "  (10): Linear(in_features=8, out_features=4, bias=True)\n",
       "  (11): ReLU()\n",
       "  (12): Linear(in_features=4, out_features=1, bias=True)\n",
       ")"
      ]
     },
     "execution_count": 25,
     "metadata": {},
     "output_type": "execute_result"
    },
    {
     "data": {
      "text/plain": [
       "Sequential(\n",
       "  (0): Linear(in_features=275, out_features=128, bias=True)\n",
       "  (1): ReLU()\n",
       "  (2): Linear(in_features=128, out_features=64, bias=True)\n",
       "  (3): ReLU()\n",
       "  (4): Linear(in_features=64, out_features=32, bias=True)\n",
       "  (5): ReLU()\n",
       "  (6): Linear(in_features=32, out_features=16, bias=True)\n",
       "  (7): ReLU()\n",
       "  (8): Linear(in_features=16, out_features=8, bias=True)\n",
       "  (9): ReLU()\n",
       "  (10): Linear(in_features=8, out_features=4, bias=True)\n",
       "  (11): ReLU()\n",
       "  (12): Linear(in_features=4, out_features=1, bias=True)\n",
       ")"
      ]
     },
     "execution_count": 25,
     "metadata": {},
     "output_type": "execute_result"
    },
    {
     "data": {
      "text/plain": [
       "Sequential(\n",
       "  (0): Linear(in_features=275, out_features=128, bias=True)\n",
       "  (1): ReLU()\n",
       "  (2): Linear(in_features=128, out_features=64, bias=True)\n",
       "  (3): ReLU()\n",
       "  (4): Linear(in_features=64, out_features=32, bias=True)\n",
       "  (5): ReLU()\n",
       "  (6): Linear(in_features=32, out_features=16, bias=True)\n",
       "  (7): ReLU()\n",
       "  (8): Linear(in_features=16, out_features=8, bias=True)\n",
       "  (9): ReLU()\n",
       "  (10): Linear(in_features=8, out_features=4, bias=True)\n",
       "  (11): ReLU()\n",
       "  (12): Linear(in_features=4, out_features=1, bias=True)\n",
       ")"
      ]
     },
     "execution_count": 25,
     "metadata": {},
     "output_type": "execute_result"
    },
    {
     "data": {
      "text/plain": [
       "Sequential(\n",
       "  (0): Linear(in_features=275, out_features=128, bias=True)\n",
       "  (1): ReLU()\n",
       "  (2): Linear(in_features=128, out_features=64, bias=True)\n",
       "  (3): ReLU()\n",
       "  (4): Linear(in_features=64, out_features=32, bias=True)\n",
       "  (5): ReLU()\n",
       "  (6): Linear(in_features=32, out_features=16, bias=True)\n",
       "  (7): ReLU()\n",
       "  (8): Linear(in_features=16, out_features=8, bias=True)\n",
       "  (9): ReLU()\n",
       "  (10): Linear(in_features=8, out_features=4, bias=True)\n",
       "  (11): ReLU()\n",
       "  (12): Linear(in_features=4, out_features=1, bias=True)\n",
       ")"
      ]
     },
     "execution_count": 25,
     "metadata": {},
     "output_type": "execute_result"
    },
    {
     "data": {
      "text/plain": [
       "Sequential(\n",
       "  (0): Linear(in_features=275, out_features=128, bias=True)\n",
       "  (1): ReLU()\n",
       "  (2): Linear(in_features=128, out_features=64, bias=True)\n",
       "  (3): ReLU()\n",
       "  (4): Linear(in_features=64, out_features=32, bias=True)\n",
       "  (5): ReLU()\n",
       "  (6): Linear(in_features=32, out_features=16, bias=True)\n",
       "  (7): ReLU()\n",
       "  (8): Linear(in_features=16, out_features=8, bias=True)\n",
       "  (9): ReLU()\n",
       "  (10): Linear(in_features=8, out_features=4, bias=True)\n",
       "  (11): ReLU()\n",
       "  (12): Linear(in_features=4, out_features=1, bias=True)\n",
       ")"
      ]
     },
     "execution_count": 25,
     "metadata": {},
     "output_type": "execute_result"
    },
    {
     "data": {
      "text/plain": [
       "Sequential(\n",
       "  (0): Linear(in_features=275, out_features=128, bias=True)\n",
       "  (1): ReLU()\n",
       "  (2): Linear(in_features=128, out_features=64, bias=True)\n",
       "  (3): ReLU()\n",
       "  (4): Linear(in_features=64, out_features=32, bias=True)\n",
       "  (5): ReLU()\n",
       "  (6): Linear(in_features=32, out_features=16, bias=True)\n",
       "  (7): ReLU()\n",
       "  (8): Linear(in_features=16, out_features=8, bias=True)\n",
       "  (9): ReLU()\n",
       "  (10): Linear(in_features=8, out_features=4, bias=True)\n",
       "  (11): ReLU()\n",
       "  (12): Linear(in_features=4, out_features=1, bias=True)\n",
       ")"
      ]
     },
     "execution_count": 25,
     "metadata": {},
     "output_type": "execute_result"
    },
    {
     "data": {
      "text/plain": [
       "Sequential(\n",
       "  (0): Linear(in_features=275, out_features=128, bias=True)\n",
       "  (1): ReLU()\n",
       "  (2): Linear(in_features=128, out_features=64, bias=True)\n",
       "  (3): ReLU()\n",
       "  (4): Linear(in_features=64, out_features=32, bias=True)\n",
       "  (5): ReLU()\n",
       "  (6): Linear(in_features=32, out_features=16, bias=True)\n",
       "  (7): ReLU()\n",
       "  (8): Linear(in_features=16, out_features=8, bias=True)\n",
       "  (9): ReLU()\n",
       "  (10): Linear(in_features=8, out_features=4, bias=True)\n",
       "  (11): ReLU()\n",
       "  (12): Linear(in_features=4, out_features=1, bias=True)\n",
       ")"
      ]
     },
     "execution_count": 25,
     "metadata": {},
     "output_type": "execute_result"
    },
    {
     "data": {
      "text/plain": [
       "Sequential(\n",
       "  (0): Linear(in_features=275, out_features=128, bias=True)\n",
       "  (1): ReLU()\n",
       "  (2): Linear(in_features=128, out_features=64, bias=True)\n",
       "  (3): ReLU()\n",
       "  (4): Linear(in_features=64, out_features=32, bias=True)\n",
       "  (5): ReLU()\n",
       "  (6): Linear(in_features=32, out_features=16, bias=True)\n",
       "  (7): ReLU()\n",
       "  (8): Linear(in_features=16, out_features=8, bias=True)\n",
       "  (9): ReLU()\n",
       "  (10): Linear(in_features=8, out_features=4, bias=True)\n",
       "  (11): ReLU()\n",
       "  (12): Linear(in_features=4, out_features=1, bias=True)\n",
       ")"
      ]
     },
     "execution_count": 25,
     "metadata": {},
     "output_type": "execute_result"
    },
    {
     "data": {
      "text/plain": [
       "Sequential(\n",
       "  (0): Linear(in_features=275, out_features=128, bias=True)\n",
       "  (1): ReLU()\n",
       "  (2): Linear(in_features=128, out_features=64, bias=True)\n",
       "  (3): ReLU()\n",
       "  (4): Linear(in_features=64, out_features=32, bias=True)\n",
       "  (5): ReLU()\n",
       "  (6): Linear(in_features=32, out_features=16, bias=True)\n",
       "  (7): ReLU()\n",
       "  (8): Linear(in_features=16, out_features=8, bias=True)\n",
       "  (9): ReLU()\n",
       "  (10): Linear(in_features=8, out_features=4, bias=True)\n",
       "  (11): ReLU()\n",
       "  (12): Linear(in_features=4, out_features=1, bias=True)\n",
       ")"
      ]
     },
     "execution_count": 25,
     "metadata": {},
     "output_type": "execute_result"
    },
    {
     "data": {
      "text/plain": [
       "Sequential(\n",
       "  (0): Linear(in_features=275, out_features=128, bias=True)\n",
       "  (1): ReLU()\n",
       "  (2): Linear(in_features=128, out_features=64, bias=True)\n",
       "  (3): ReLU()\n",
       "  (4): Linear(in_features=64, out_features=32, bias=True)\n",
       "  (5): ReLU()\n",
       "  (6): Linear(in_features=32, out_features=16, bias=True)\n",
       "  (7): ReLU()\n",
       "  (8): Linear(in_features=16, out_features=8, bias=True)\n",
       "  (9): ReLU()\n",
       "  (10): Linear(in_features=8, out_features=4, bias=True)\n",
       "  (11): ReLU()\n",
       "  (12): Linear(in_features=4, out_features=1, bias=True)\n",
       ")"
      ]
     },
     "execution_count": 25,
     "metadata": {},
     "output_type": "execute_result"
    },
    {
     "data": {
      "text/plain": [
       "Sequential(\n",
       "  (0): Linear(in_features=275, out_features=128, bias=True)\n",
       "  (1): ReLU()\n",
       "  (2): Linear(in_features=128, out_features=64, bias=True)\n",
       "  (3): ReLU()\n",
       "  (4): Linear(in_features=64, out_features=32, bias=True)\n",
       "  (5): ReLU()\n",
       "  (6): Linear(in_features=32, out_features=16, bias=True)\n",
       "  (7): ReLU()\n",
       "  (8): Linear(in_features=16, out_features=8, bias=True)\n",
       "  (9): ReLU()\n",
       "  (10): Linear(in_features=8, out_features=4, bias=True)\n",
       "  (11): ReLU()\n",
       "  (12): Linear(in_features=4, out_features=1, bias=True)\n",
       ")"
      ]
     },
     "execution_count": 25,
     "metadata": {},
     "output_type": "execute_result"
    },
    {
     "data": {
      "text/plain": [
       "Sequential(\n",
       "  (0): Linear(in_features=275, out_features=128, bias=True)\n",
       "  (1): ReLU()\n",
       "  (2): Linear(in_features=128, out_features=64, bias=True)\n",
       "  (3): ReLU()\n",
       "  (4): Linear(in_features=64, out_features=32, bias=True)\n",
       "  (5): ReLU()\n",
       "  (6): Linear(in_features=32, out_features=16, bias=True)\n",
       "  (7): ReLU()\n",
       "  (8): Linear(in_features=16, out_features=8, bias=True)\n",
       "  (9): ReLU()\n",
       "  (10): Linear(in_features=8, out_features=4, bias=True)\n",
       "  (11): ReLU()\n",
       "  (12): Linear(in_features=4, out_features=1, bias=True)\n",
       ")"
      ]
     },
     "execution_count": 25,
     "metadata": {},
     "output_type": "execute_result"
    },
    {
     "data": {
      "text/plain": [
       "Sequential(\n",
       "  (0): Linear(in_features=275, out_features=128, bias=True)\n",
       "  (1): ReLU()\n",
       "  (2): Linear(in_features=128, out_features=64, bias=True)\n",
       "  (3): ReLU()\n",
       "  (4): Linear(in_features=64, out_features=32, bias=True)\n",
       "  (5): ReLU()\n",
       "  (6): Linear(in_features=32, out_features=16, bias=True)\n",
       "  (7): ReLU()\n",
       "  (8): Linear(in_features=16, out_features=8, bias=True)\n",
       "  (9): ReLU()\n",
       "  (10): Linear(in_features=8, out_features=4, bias=True)\n",
       "  (11): ReLU()\n",
       "  (12): Linear(in_features=4, out_features=1, bias=True)\n",
       ")"
      ]
     },
     "execution_count": 25,
     "metadata": {},
     "output_type": "execute_result"
    },
    {
     "data": {
      "text/plain": [
       "Sequential(\n",
       "  (0): Linear(in_features=275, out_features=128, bias=True)\n",
       "  (1): ReLU()\n",
       "  (2): Linear(in_features=128, out_features=64, bias=True)\n",
       "  (3): ReLU()\n",
       "  (4): Linear(in_features=64, out_features=32, bias=True)\n",
       "  (5): ReLU()\n",
       "  (6): Linear(in_features=32, out_features=16, bias=True)\n",
       "  (7): ReLU()\n",
       "  (8): Linear(in_features=16, out_features=8, bias=True)\n",
       "  (9): ReLU()\n",
       "  (10): Linear(in_features=8, out_features=4, bias=True)\n",
       "  (11): ReLU()\n",
       "  (12): Linear(in_features=4, out_features=1, bias=True)\n",
       ")"
      ]
     },
     "execution_count": 25,
     "metadata": {},
     "output_type": "execute_result"
    },
    {
     "data": {
      "text/plain": [
       "Sequential(\n",
       "  (0): Linear(in_features=275, out_features=128, bias=True)\n",
       "  (1): ReLU()\n",
       "  (2): Linear(in_features=128, out_features=64, bias=True)\n",
       "  (3): ReLU()\n",
       "  (4): Linear(in_features=64, out_features=32, bias=True)\n",
       "  (5): ReLU()\n",
       "  (6): Linear(in_features=32, out_features=16, bias=True)\n",
       "  (7): ReLU()\n",
       "  (8): Linear(in_features=16, out_features=8, bias=True)\n",
       "  (9): ReLU()\n",
       "  (10): Linear(in_features=8, out_features=4, bias=True)\n",
       "  (11): ReLU()\n",
       "  (12): Linear(in_features=4, out_features=1, bias=True)\n",
       ")"
      ]
     },
     "execution_count": 25,
     "metadata": {},
     "output_type": "execute_result"
    },
    {
     "data": {
      "text/plain": [
       "Sequential(\n",
       "  (0): Linear(in_features=275, out_features=128, bias=True)\n",
       "  (1): ReLU()\n",
       "  (2): Linear(in_features=128, out_features=64, bias=True)\n",
       "  (3): ReLU()\n",
       "  (4): Linear(in_features=64, out_features=32, bias=True)\n",
       "  (5): ReLU()\n",
       "  (6): Linear(in_features=32, out_features=16, bias=True)\n",
       "  (7): ReLU()\n",
       "  (8): Linear(in_features=16, out_features=8, bias=True)\n",
       "  (9): ReLU()\n",
       "  (10): Linear(in_features=8, out_features=4, bias=True)\n",
       "  (11): ReLU()\n",
       "  (12): Linear(in_features=4, out_features=1, bias=True)\n",
       ")"
      ]
     },
     "execution_count": 25,
     "metadata": {},
     "output_type": "execute_result"
    },
    {
     "data": {
      "text/plain": [
       "Sequential(\n",
       "  (0): Linear(in_features=275, out_features=128, bias=True)\n",
       "  (1): ReLU()\n",
       "  (2): Linear(in_features=128, out_features=64, bias=True)\n",
       "  (3): ReLU()\n",
       "  (4): Linear(in_features=64, out_features=32, bias=True)\n",
       "  (5): ReLU()\n",
       "  (6): Linear(in_features=32, out_features=16, bias=True)\n",
       "  (7): ReLU()\n",
       "  (8): Linear(in_features=16, out_features=8, bias=True)\n",
       "  (9): ReLU()\n",
       "  (10): Linear(in_features=8, out_features=4, bias=True)\n",
       "  (11): ReLU()\n",
       "  (12): Linear(in_features=4, out_features=1, bias=True)\n",
       ")"
      ]
     },
     "execution_count": 25,
     "metadata": {},
     "output_type": "execute_result"
    },
    {
     "data": {
      "text/plain": [
       "Sequential(\n",
       "  (0): Linear(in_features=275, out_features=128, bias=True)\n",
       "  (1): ReLU()\n",
       "  (2): Linear(in_features=128, out_features=64, bias=True)\n",
       "  (3): ReLU()\n",
       "  (4): Linear(in_features=64, out_features=32, bias=True)\n",
       "  (5): ReLU()\n",
       "  (6): Linear(in_features=32, out_features=16, bias=True)\n",
       "  (7): ReLU()\n",
       "  (8): Linear(in_features=16, out_features=8, bias=True)\n",
       "  (9): ReLU()\n",
       "  (10): Linear(in_features=8, out_features=4, bias=True)\n",
       "  (11): ReLU()\n",
       "  (12): Linear(in_features=4, out_features=1, bias=True)\n",
       ")"
      ]
     },
     "execution_count": 25,
     "metadata": {},
     "output_type": "execute_result"
    },
    {
     "data": {
      "text/plain": [
       "Sequential(\n",
       "  (0): Linear(in_features=275, out_features=128, bias=True)\n",
       "  (1): ReLU()\n",
       "  (2): Linear(in_features=128, out_features=64, bias=True)\n",
       "  (3): ReLU()\n",
       "  (4): Linear(in_features=64, out_features=32, bias=True)\n",
       "  (5): ReLU()\n",
       "  (6): Linear(in_features=32, out_features=16, bias=True)\n",
       "  (7): ReLU()\n",
       "  (8): Linear(in_features=16, out_features=8, bias=True)\n",
       "  (9): ReLU()\n",
       "  (10): Linear(in_features=8, out_features=4, bias=True)\n",
       "  (11): ReLU()\n",
       "  (12): Linear(in_features=4, out_features=1, bias=True)\n",
       ")"
      ]
     },
     "execution_count": 25,
     "metadata": {},
     "output_type": "execute_result"
    },
    {
     "data": {
      "text/plain": [
       "Sequential(\n",
       "  (0): Linear(in_features=275, out_features=128, bias=True)\n",
       "  (1): ReLU()\n",
       "  (2): Linear(in_features=128, out_features=64, bias=True)\n",
       "  (3): ReLU()\n",
       "  (4): Linear(in_features=64, out_features=32, bias=True)\n",
       "  (5): ReLU()\n",
       "  (6): Linear(in_features=32, out_features=16, bias=True)\n",
       "  (7): ReLU()\n",
       "  (8): Linear(in_features=16, out_features=8, bias=True)\n",
       "  (9): ReLU()\n",
       "  (10): Linear(in_features=8, out_features=4, bias=True)\n",
       "  (11): ReLU()\n",
       "  (12): Linear(in_features=4, out_features=1, bias=True)\n",
       ")"
      ]
     },
     "execution_count": 25,
     "metadata": {},
     "output_type": "execute_result"
    },
    {
     "data": {
      "text/plain": [
       "Sequential(\n",
       "  (0): Linear(in_features=275, out_features=128, bias=True)\n",
       "  (1): ReLU()\n",
       "  (2): Linear(in_features=128, out_features=64, bias=True)\n",
       "  (3): ReLU()\n",
       "  (4): Linear(in_features=64, out_features=32, bias=True)\n",
       "  (5): ReLU()\n",
       "  (6): Linear(in_features=32, out_features=16, bias=True)\n",
       "  (7): ReLU()\n",
       "  (8): Linear(in_features=16, out_features=8, bias=True)\n",
       "  (9): ReLU()\n",
       "  (10): Linear(in_features=8, out_features=4, bias=True)\n",
       "  (11): ReLU()\n",
       "  (12): Linear(in_features=4, out_features=1, bias=True)\n",
       ")"
      ]
     },
     "execution_count": 25,
     "metadata": {},
     "output_type": "execute_result"
    },
    {
     "data": {
      "text/plain": [
       "Sequential(\n",
       "  (0): Linear(in_features=275, out_features=128, bias=True)\n",
       "  (1): ReLU()\n",
       "  (2): Linear(in_features=128, out_features=64, bias=True)\n",
       "  (3): ReLU()\n",
       "  (4): Linear(in_features=64, out_features=32, bias=True)\n",
       "  (5): ReLU()\n",
       "  (6): Linear(in_features=32, out_features=16, bias=True)\n",
       "  (7): ReLU()\n",
       "  (8): Linear(in_features=16, out_features=8, bias=True)\n",
       "  (9): ReLU()\n",
       "  (10): Linear(in_features=8, out_features=4, bias=True)\n",
       "  (11): ReLU()\n",
       "  (12): Linear(in_features=4, out_features=1, bias=True)\n",
       ")"
      ]
     },
     "execution_count": 25,
     "metadata": {},
     "output_type": "execute_result"
    },
    {
     "data": {
      "text/plain": [
       "Sequential(\n",
       "  (0): Linear(in_features=275, out_features=128, bias=True)\n",
       "  (1): ReLU()\n",
       "  (2): Linear(in_features=128, out_features=64, bias=True)\n",
       "  (3): ReLU()\n",
       "  (4): Linear(in_features=64, out_features=32, bias=True)\n",
       "  (5): ReLU()\n",
       "  (6): Linear(in_features=32, out_features=16, bias=True)\n",
       "  (7): ReLU()\n",
       "  (8): Linear(in_features=16, out_features=8, bias=True)\n",
       "  (9): ReLU()\n",
       "  (10): Linear(in_features=8, out_features=4, bias=True)\n",
       "  (11): ReLU()\n",
       "  (12): Linear(in_features=4, out_features=1, bias=True)\n",
       ")"
      ]
     },
     "execution_count": 25,
     "metadata": {},
     "output_type": "execute_result"
    },
    {
     "data": {
      "text/plain": [
       "Sequential(\n",
       "  (0): Linear(in_features=275, out_features=128, bias=True)\n",
       "  (1): ReLU()\n",
       "  (2): Linear(in_features=128, out_features=64, bias=True)\n",
       "  (3): ReLU()\n",
       "  (4): Linear(in_features=64, out_features=32, bias=True)\n",
       "  (5): ReLU()\n",
       "  (6): Linear(in_features=32, out_features=16, bias=True)\n",
       "  (7): ReLU()\n",
       "  (8): Linear(in_features=16, out_features=8, bias=True)\n",
       "  (9): ReLU()\n",
       "  (10): Linear(in_features=8, out_features=4, bias=True)\n",
       "  (11): ReLU()\n",
       "  (12): Linear(in_features=4, out_features=1, bias=True)\n",
       ")"
      ]
     },
     "execution_count": 25,
     "metadata": {},
     "output_type": "execute_result"
    },
    {
     "data": {
      "text/plain": [
       "Sequential(\n",
       "  (0): Linear(in_features=275, out_features=128, bias=True)\n",
       "  (1): ReLU()\n",
       "  (2): Linear(in_features=128, out_features=64, bias=True)\n",
       "  (3): ReLU()\n",
       "  (4): Linear(in_features=64, out_features=32, bias=True)\n",
       "  (5): ReLU()\n",
       "  (6): Linear(in_features=32, out_features=16, bias=True)\n",
       "  (7): ReLU()\n",
       "  (8): Linear(in_features=16, out_features=8, bias=True)\n",
       "  (9): ReLU()\n",
       "  (10): Linear(in_features=8, out_features=4, bias=True)\n",
       "  (11): ReLU()\n",
       "  (12): Linear(in_features=4, out_features=1, bias=True)\n",
       ")"
      ]
     },
     "execution_count": 25,
     "metadata": {},
     "output_type": "execute_result"
    },
    {
     "data": {
      "text/plain": [
       "Sequential(\n",
       "  (0): Linear(in_features=275, out_features=128, bias=True)\n",
       "  (1): ReLU()\n",
       "  (2): Linear(in_features=128, out_features=64, bias=True)\n",
       "  (3): ReLU()\n",
       "  (4): Linear(in_features=64, out_features=32, bias=True)\n",
       "  (5): ReLU()\n",
       "  (6): Linear(in_features=32, out_features=16, bias=True)\n",
       "  (7): ReLU()\n",
       "  (8): Linear(in_features=16, out_features=8, bias=True)\n",
       "  (9): ReLU()\n",
       "  (10): Linear(in_features=8, out_features=4, bias=True)\n",
       "  (11): ReLU()\n",
       "  (12): Linear(in_features=4, out_features=1, bias=True)\n",
       ")"
      ]
     },
     "execution_count": 25,
     "metadata": {},
     "output_type": "execute_result"
    },
    {
     "data": {
      "text/plain": [
       "Sequential(\n",
       "  (0): Linear(in_features=275, out_features=128, bias=True)\n",
       "  (1): ReLU()\n",
       "  (2): Linear(in_features=128, out_features=64, bias=True)\n",
       "  (3): ReLU()\n",
       "  (4): Linear(in_features=64, out_features=32, bias=True)\n",
       "  (5): ReLU()\n",
       "  (6): Linear(in_features=32, out_features=16, bias=True)\n",
       "  (7): ReLU()\n",
       "  (8): Linear(in_features=16, out_features=8, bias=True)\n",
       "  (9): ReLU()\n",
       "  (10): Linear(in_features=8, out_features=4, bias=True)\n",
       "  (11): ReLU()\n",
       "  (12): Linear(in_features=4, out_features=1, bias=True)\n",
       ")"
      ]
     },
     "execution_count": 25,
     "metadata": {},
     "output_type": "execute_result"
    },
    {
     "data": {
      "text/plain": [
       "Sequential(\n",
       "  (0): Linear(in_features=275, out_features=128, bias=True)\n",
       "  (1): ReLU()\n",
       "  (2): Linear(in_features=128, out_features=64, bias=True)\n",
       "  (3): ReLU()\n",
       "  (4): Linear(in_features=64, out_features=32, bias=True)\n",
       "  (5): ReLU()\n",
       "  (6): Linear(in_features=32, out_features=16, bias=True)\n",
       "  (7): ReLU()\n",
       "  (8): Linear(in_features=16, out_features=8, bias=True)\n",
       "  (9): ReLU()\n",
       "  (10): Linear(in_features=8, out_features=4, bias=True)\n",
       "  (11): ReLU()\n",
       "  (12): Linear(in_features=4, out_features=1, bias=True)\n",
       ")"
      ]
     },
     "execution_count": 25,
     "metadata": {},
     "output_type": "execute_result"
    },
    {
     "data": {
      "text/plain": [
       "Sequential(\n",
       "  (0): Linear(in_features=275, out_features=128, bias=True)\n",
       "  (1): ReLU()\n",
       "  (2): Linear(in_features=128, out_features=64, bias=True)\n",
       "  (3): ReLU()\n",
       "  (4): Linear(in_features=64, out_features=32, bias=True)\n",
       "  (5): ReLU()\n",
       "  (6): Linear(in_features=32, out_features=16, bias=True)\n",
       "  (7): ReLU()\n",
       "  (8): Linear(in_features=16, out_features=8, bias=True)\n",
       "  (9): ReLU()\n",
       "  (10): Linear(in_features=8, out_features=4, bias=True)\n",
       "  (11): ReLU()\n",
       "  (12): Linear(in_features=4, out_features=1, bias=True)\n",
       ")"
      ]
     },
     "execution_count": 25,
     "metadata": {},
     "output_type": "execute_result"
    },
    {
     "data": {
      "text/plain": [
       "Sequential(\n",
       "  (0): Linear(in_features=275, out_features=128, bias=True)\n",
       "  (1): ReLU()\n",
       "  (2): Linear(in_features=128, out_features=64, bias=True)\n",
       "  (3): ReLU()\n",
       "  (4): Linear(in_features=64, out_features=32, bias=True)\n",
       "  (5): ReLU()\n",
       "  (6): Linear(in_features=32, out_features=16, bias=True)\n",
       "  (7): ReLU()\n",
       "  (8): Linear(in_features=16, out_features=8, bias=True)\n",
       "  (9): ReLU()\n",
       "  (10): Linear(in_features=8, out_features=4, bias=True)\n",
       "  (11): ReLU()\n",
       "  (12): Linear(in_features=4, out_features=1, bias=True)\n",
       ")"
      ]
     },
     "execution_count": 25,
     "metadata": {},
     "output_type": "execute_result"
    },
    {
     "data": {
      "text/plain": [
       "Sequential(\n",
       "  (0): Linear(in_features=275, out_features=128, bias=True)\n",
       "  (1): ReLU()\n",
       "  (2): Linear(in_features=128, out_features=64, bias=True)\n",
       "  (3): ReLU()\n",
       "  (4): Linear(in_features=64, out_features=32, bias=True)\n",
       "  (5): ReLU()\n",
       "  (6): Linear(in_features=32, out_features=16, bias=True)\n",
       "  (7): ReLU()\n",
       "  (8): Linear(in_features=16, out_features=8, bias=True)\n",
       "  (9): ReLU()\n",
       "  (10): Linear(in_features=8, out_features=4, bias=True)\n",
       "  (11): ReLU()\n",
       "  (12): Linear(in_features=4, out_features=1, bias=True)\n",
       ")"
      ]
     },
     "execution_count": 25,
     "metadata": {},
     "output_type": "execute_result"
    },
    {
     "data": {
      "text/plain": [
       "Sequential(\n",
       "  (0): Linear(in_features=275, out_features=128, bias=True)\n",
       "  (1): ReLU()\n",
       "  (2): Linear(in_features=128, out_features=64, bias=True)\n",
       "  (3): ReLU()\n",
       "  (4): Linear(in_features=64, out_features=32, bias=True)\n",
       "  (5): ReLU()\n",
       "  (6): Linear(in_features=32, out_features=16, bias=True)\n",
       "  (7): ReLU()\n",
       "  (8): Linear(in_features=16, out_features=8, bias=True)\n",
       "  (9): ReLU()\n",
       "  (10): Linear(in_features=8, out_features=4, bias=True)\n",
       "  (11): ReLU()\n",
       "  (12): Linear(in_features=4, out_features=1, bias=True)\n",
       ")"
      ]
     },
     "execution_count": 25,
     "metadata": {},
     "output_type": "execute_result"
    },
    {
     "data": {
      "text/plain": [
       "Sequential(\n",
       "  (0): Linear(in_features=275, out_features=128, bias=True)\n",
       "  (1): ReLU()\n",
       "  (2): Linear(in_features=128, out_features=64, bias=True)\n",
       "  (3): ReLU()\n",
       "  (4): Linear(in_features=64, out_features=32, bias=True)\n",
       "  (5): ReLU()\n",
       "  (6): Linear(in_features=32, out_features=16, bias=True)\n",
       "  (7): ReLU()\n",
       "  (8): Linear(in_features=16, out_features=8, bias=True)\n",
       "  (9): ReLU()\n",
       "  (10): Linear(in_features=8, out_features=4, bias=True)\n",
       "  (11): ReLU()\n",
       "  (12): Linear(in_features=4, out_features=1, bias=True)\n",
       ")"
      ]
     },
     "execution_count": 25,
     "metadata": {},
     "output_type": "execute_result"
    },
    {
     "data": {
      "text/plain": [
       "Sequential(\n",
       "  (0): Linear(in_features=275, out_features=128, bias=True)\n",
       "  (1): ReLU()\n",
       "  (2): Linear(in_features=128, out_features=64, bias=True)\n",
       "  (3): ReLU()\n",
       "  (4): Linear(in_features=64, out_features=32, bias=True)\n",
       "  (5): ReLU()\n",
       "  (6): Linear(in_features=32, out_features=16, bias=True)\n",
       "  (7): ReLU()\n",
       "  (8): Linear(in_features=16, out_features=8, bias=True)\n",
       "  (9): ReLU()\n",
       "  (10): Linear(in_features=8, out_features=4, bias=True)\n",
       "  (11): ReLU()\n",
       "  (12): Linear(in_features=4, out_features=1, bias=True)\n",
       ")"
      ]
     },
     "execution_count": 25,
     "metadata": {},
     "output_type": "execute_result"
    },
    {
     "data": {
      "text/plain": [
       "Sequential(\n",
       "  (0): Linear(in_features=275, out_features=128, bias=True)\n",
       "  (1): ReLU()\n",
       "  (2): Linear(in_features=128, out_features=64, bias=True)\n",
       "  (3): ReLU()\n",
       "  (4): Linear(in_features=64, out_features=32, bias=True)\n",
       "  (5): ReLU()\n",
       "  (6): Linear(in_features=32, out_features=16, bias=True)\n",
       "  (7): ReLU()\n",
       "  (8): Linear(in_features=16, out_features=8, bias=True)\n",
       "  (9): ReLU()\n",
       "  (10): Linear(in_features=8, out_features=4, bias=True)\n",
       "  (11): ReLU()\n",
       "  (12): Linear(in_features=4, out_features=1, bias=True)\n",
       ")"
      ]
     },
     "execution_count": 25,
     "metadata": {},
     "output_type": "execute_result"
    },
    {
     "data": {
      "text/plain": [
       "Sequential(\n",
       "  (0): Linear(in_features=275, out_features=128, bias=True)\n",
       "  (1): ReLU()\n",
       "  (2): Linear(in_features=128, out_features=64, bias=True)\n",
       "  (3): ReLU()\n",
       "  (4): Linear(in_features=64, out_features=32, bias=True)\n",
       "  (5): ReLU()\n",
       "  (6): Linear(in_features=32, out_features=16, bias=True)\n",
       "  (7): ReLU()\n",
       "  (8): Linear(in_features=16, out_features=8, bias=True)\n",
       "  (9): ReLU()\n",
       "  (10): Linear(in_features=8, out_features=4, bias=True)\n",
       "  (11): ReLU()\n",
       "  (12): Linear(in_features=4, out_features=1, bias=True)\n",
       ")"
      ]
     },
     "execution_count": 25,
     "metadata": {},
     "output_type": "execute_result"
    },
    {
     "data": {
      "text/plain": [
       "Sequential(\n",
       "  (0): Linear(in_features=275, out_features=128, bias=True)\n",
       "  (1): ReLU()\n",
       "  (2): Linear(in_features=128, out_features=64, bias=True)\n",
       "  (3): ReLU()\n",
       "  (4): Linear(in_features=64, out_features=32, bias=True)\n",
       "  (5): ReLU()\n",
       "  (6): Linear(in_features=32, out_features=16, bias=True)\n",
       "  (7): ReLU()\n",
       "  (8): Linear(in_features=16, out_features=8, bias=True)\n",
       "  (9): ReLU()\n",
       "  (10): Linear(in_features=8, out_features=4, bias=True)\n",
       "  (11): ReLU()\n",
       "  (12): Linear(in_features=4, out_features=1, bias=True)\n",
       ")"
      ]
     },
     "execution_count": 25,
     "metadata": {},
     "output_type": "execute_result"
    },
    {
     "data": {
      "text/plain": [
       "Sequential(\n",
       "  (0): Linear(in_features=275, out_features=128, bias=True)\n",
       "  (1): ReLU()\n",
       "  (2): Linear(in_features=128, out_features=64, bias=True)\n",
       "  (3): ReLU()\n",
       "  (4): Linear(in_features=64, out_features=32, bias=True)\n",
       "  (5): ReLU()\n",
       "  (6): Linear(in_features=32, out_features=16, bias=True)\n",
       "  (7): ReLU()\n",
       "  (8): Linear(in_features=16, out_features=8, bias=True)\n",
       "  (9): ReLU()\n",
       "  (10): Linear(in_features=8, out_features=4, bias=True)\n",
       "  (11): ReLU()\n",
       "  (12): Linear(in_features=4, out_features=1, bias=True)\n",
       ")"
      ]
     },
     "execution_count": 25,
     "metadata": {},
     "output_type": "execute_result"
    },
    {
     "data": {
      "text/plain": [
       "Sequential(\n",
       "  (0): Linear(in_features=275, out_features=128, bias=True)\n",
       "  (1): ReLU()\n",
       "  (2): Linear(in_features=128, out_features=64, bias=True)\n",
       "  (3): ReLU()\n",
       "  (4): Linear(in_features=64, out_features=32, bias=True)\n",
       "  (5): ReLU()\n",
       "  (6): Linear(in_features=32, out_features=16, bias=True)\n",
       "  (7): ReLU()\n",
       "  (8): Linear(in_features=16, out_features=8, bias=True)\n",
       "  (9): ReLU()\n",
       "  (10): Linear(in_features=8, out_features=4, bias=True)\n",
       "  (11): ReLU()\n",
       "  (12): Linear(in_features=4, out_features=1, bias=True)\n",
       ")"
      ]
     },
     "execution_count": 25,
     "metadata": {},
     "output_type": "execute_result"
    },
    {
     "data": {
      "text/plain": [
       "Sequential(\n",
       "  (0): Linear(in_features=275, out_features=128, bias=True)\n",
       "  (1): ReLU()\n",
       "  (2): Linear(in_features=128, out_features=64, bias=True)\n",
       "  (3): ReLU()\n",
       "  (4): Linear(in_features=64, out_features=32, bias=True)\n",
       "  (5): ReLU()\n",
       "  (6): Linear(in_features=32, out_features=16, bias=True)\n",
       "  (7): ReLU()\n",
       "  (8): Linear(in_features=16, out_features=8, bias=True)\n",
       "  (9): ReLU()\n",
       "  (10): Linear(in_features=8, out_features=4, bias=True)\n",
       "  (11): ReLU()\n",
       "  (12): Linear(in_features=4, out_features=1, bias=True)\n",
       ")"
      ]
     },
     "execution_count": 25,
     "metadata": {},
     "output_type": "execute_result"
    },
    {
     "data": {
      "text/plain": [
       "Sequential(\n",
       "  (0): Linear(in_features=275, out_features=128, bias=True)\n",
       "  (1): ReLU()\n",
       "  (2): Linear(in_features=128, out_features=64, bias=True)\n",
       "  (3): ReLU()\n",
       "  (4): Linear(in_features=64, out_features=32, bias=True)\n",
       "  (5): ReLU()\n",
       "  (6): Linear(in_features=32, out_features=16, bias=True)\n",
       "  (7): ReLU()\n",
       "  (8): Linear(in_features=16, out_features=8, bias=True)\n",
       "  (9): ReLU()\n",
       "  (10): Linear(in_features=8, out_features=4, bias=True)\n",
       "  (11): ReLU()\n",
       "  (12): Linear(in_features=4, out_features=1, bias=True)\n",
       ")"
      ]
     },
     "execution_count": 25,
     "metadata": {},
     "output_type": "execute_result"
    },
    {
     "data": {
      "text/plain": [
       "Sequential(\n",
       "  (0): Linear(in_features=275, out_features=128, bias=True)\n",
       "  (1): ReLU()\n",
       "  (2): Linear(in_features=128, out_features=64, bias=True)\n",
       "  (3): ReLU()\n",
       "  (4): Linear(in_features=64, out_features=32, bias=True)\n",
       "  (5): ReLU()\n",
       "  (6): Linear(in_features=32, out_features=16, bias=True)\n",
       "  (7): ReLU()\n",
       "  (8): Linear(in_features=16, out_features=8, bias=True)\n",
       "  (9): ReLU()\n",
       "  (10): Linear(in_features=8, out_features=4, bias=True)\n",
       "  (11): ReLU()\n",
       "  (12): Linear(in_features=4, out_features=1, bias=True)\n",
       ")"
      ]
     },
     "execution_count": 25,
     "metadata": {},
     "output_type": "execute_result"
    },
    {
     "data": {
      "text/plain": [
       "Sequential(\n",
       "  (0): Linear(in_features=275, out_features=128, bias=True)\n",
       "  (1): ReLU()\n",
       "  (2): Linear(in_features=128, out_features=64, bias=True)\n",
       "  (3): ReLU()\n",
       "  (4): Linear(in_features=64, out_features=32, bias=True)\n",
       "  (5): ReLU()\n",
       "  (6): Linear(in_features=32, out_features=16, bias=True)\n",
       "  (7): ReLU()\n",
       "  (8): Linear(in_features=16, out_features=8, bias=True)\n",
       "  (9): ReLU()\n",
       "  (10): Linear(in_features=8, out_features=4, bias=True)\n",
       "  (11): ReLU()\n",
       "  (12): Linear(in_features=4, out_features=1, bias=True)\n",
       ")"
      ]
     },
     "execution_count": 25,
     "metadata": {},
     "output_type": "execute_result"
    },
    {
     "data": {
      "text/plain": [
       "Sequential(\n",
       "  (0): Linear(in_features=275, out_features=128, bias=True)\n",
       "  (1): ReLU()\n",
       "  (2): Linear(in_features=128, out_features=64, bias=True)\n",
       "  (3): ReLU()\n",
       "  (4): Linear(in_features=64, out_features=32, bias=True)\n",
       "  (5): ReLU()\n",
       "  (6): Linear(in_features=32, out_features=16, bias=True)\n",
       "  (7): ReLU()\n",
       "  (8): Linear(in_features=16, out_features=8, bias=True)\n",
       "  (9): ReLU()\n",
       "  (10): Linear(in_features=8, out_features=4, bias=True)\n",
       "  (11): ReLU()\n",
       "  (12): Linear(in_features=4, out_features=1, bias=True)\n",
       ")"
      ]
     },
     "execution_count": 25,
     "metadata": {},
     "output_type": "execute_result"
    },
    {
     "data": {
      "text/plain": [
       "Sequential(\n",
       "  (0): Linear(in_features=275, out_features=128, bias=True)\n",
       "  (1): ReLU()\n",
       "  (2): Linear(in_features=128, out_features=64, bias=True)\n",
       "  (3): ReLU()\n",
       "  (4): Linear(in_features=64, out_features=32, bias=True)\n",
       "  (5): ReLU()\n",
       "  (6): Linear(in_features=32, out_features=16, bias=True)\n",
       "  (7): ReLU()\n",
       "  (8): Linear(in_features=16, out_features=8, bias=True)\n",
       "  (9): ReLU()\n",
       "  (10): Linear(in_features=8, out_features=4, bias=True)\n",
       "  (11): ReLU()\n",
       "  (12): Linear(in_features=4, out_features=1, bias=True)\n",
       ")"
      ]
     },
     "execution_count": 25,
     "metadata": {},
     "output_type": "execute_result"
    },
    {
     "data": {
      "text/plain": [
       "Sequential(\n",
       "  (0): Linear(in_features=275, out_features=128, bias=True)\n",
       "  (1): ReLU()\n",
       "  (2): Linear(in_features=128, out_features=64, bias=True)\n",
       "  (3): ReLU()\n",
       "  (4): Linear(in_features=64, out_features=32, bias=True)\n",
       "  (5): ReLU()\n",
       "  (6): Linear(in_features=32, out_features=16, bias=True)\n",
       "  (7): ReLU()\n",
       "  (8): Linear(in_features=16, out_features=8, bias=True)\n",
       "  (9): ReLU()\n",
       "  (10): Linear(in_features=8, out_features=4, bias=True)\n",
       "  (11): ReLU()\n",
       "  (12): Linear(in_features=4, out_features=1, bias=True)\n",
       ")"
      ]
     },
     "execution_count": 25,
     "metadata": {},
     "output_type": "execute_result"
    },
    {
     "data": {
      "text/plain": [
       "Sequential(\n",
       "  (0): Linear(in_features=275, out_features=128, bias=True)\n",
       "  (1): ReLU()\n",
       "  (2): Linear(in_features=128, out_features=64, bias=True)\n",
       "  (3): ReLU()\n",
       "  (4): Linear(in_features=64, out_features=32, bias=True)\n",
       "  (5): ReLU()\n",
       "  (6): Linear(in_features=32, out_features=16, bias=True)\n",
       "  (7): ReLU()\n",
       "  (8): Linear(in_features=16, out_features=8, bias=True)\n",
       "  (9): ReLU()\n",
       "  (10): Linear(in_features=8, out_features=4, bias=True)\n",
       "  (11): ReLU()\n",
       "  (12): Linear(in_features=4, out_features=1, bias=True)\n",
       ")"
      ]
     },
     "execution_count": 25,
     "metadata": {},
     "output_type": "execute_result"
    },
    {
     "data": {
      "text/plain": [
       "Sequential(\n",
       "  (0): Linear(in_features=275, out_features=128, bias=True)\n",
       "  (1): ReLU()\n",
       "  (2): Linear(in_features=128, out_features=64, bias=True)\n",
       "  (3): ReLU()\n",
       "  (4): Linear(in_features=64, out_features=32, bias=True)\n",
       "  (5): ReLU()\n",
       "  (6): Linear(in_features=32, out_features=16, bias=True)\n",
       "  (7): ReLU()\n",
       "  (8): Linear(in_features=16, out_features=8, bias=True)\n",
       "  (9): ReLU()\n",
       "  (10): Linear(in_features=8, out_features=4, bias=True)\n",
       "  (11): ReLU()\n",
       "  (12): Linear(in_features=4, out_features=1, bias=True)\n",
       ")"
      ]
     },
     "execution_count": 25,
     "metadata": {},
     "output_type": "execute_result"
    },
    {
     "data": {
      "text/plain": [
       "Sequential(\n",
       "  (0): Linear(in_features=275, out_features=128, bias=True)\n",
       "  (1): ReLU()\n",
       "  (2): Linear(in_features=128, out_features=64, bias=True)\n",
       "  (3): ReLU()\n",
       "  (4): Linear(in_features=64, out_features=32, bias=True)\n",
       "  (5): ReLU()\n",
       "  (6): Linear(in_features=32, out_features=16, bias=True)\n",
       "  (7): ReLU()\n",
       "  (8): Linear(in_features=16, out_features=8, bias=True)\n",
       "  (9): ReLU()\n",
       "  (10): Linear(in_features=8, out_features=4, bias=True)\n",
       "  (11): ReLU()\n",
       "  (12): Linear(in_features=4, out_features=1, bias=True)\n",
       ")"
      ]
     },
     "execution_count": 25,
     "metadata": {},
     "output_type": "execute_result"
    },
    {
     "data": {
      "text/plain": [
       "Sequential(\n",
       "  (0): Linear(in_features=275, out_features=128, bias=True)\n",
       "  (1): ReLU()\n",
       "  (2): Linear(in_features=128, out_features=64, bias=True)\n",
       "  (3): ReLU()\n",
       "  (4): Linear(in_features=64, out_features=32, bias=True)\n",
       "  (5): ReLU()\n",
       "  (6): Linear(in_features=32, out_features=16, bias=True)\n",
       "  (7): ReLU()\n",
       "  (8): Linear(in_features=16, out_features=8, bias=True)\n",
       "  (9): ReLU()\n",
       "  (10): Linear(in_features=8, out_features=4, bias=True)\n",
       "  (11): ReLU()\n",
       "  (12): Linear(in_features=4, out_features=1, bias=True)\n",
       ")"
      ]
     },
     "execution_count": 25,
     "metadata": {},
     "output_type": "execute_result"
    },
    {
     "data": {
      "text/plain": [
       "Sequential(\n",
       "  (0): Linear(in_features=275, out_features=128, bias=True)\n",
       "  (1): ReLU()\n",
       "  (2): Linear(in_features=128, out_features=64, bias=True)\n",
       "  (3): ReLU()\n",
       "  (4): Linear(in_features=64, out_features=32, bias=True)\n",
       "  (5): ReLU()\n",
       "  (6): Linear(in_features=32, out_features=16, bias=True)\n",
       "  (7): ReLU()\n",
       "  (8): Linear(in_features=16, out_features=8, bias=True)\n",
       "  (9): ReLU()\n",
       "  (10): Linear(in_features=8, out_features=4, bias=True)\n",
       "  (11): ReLU()\n",
       "  (12): Linear(in_features=4, out_features=1, bias=True)\n",
       ")"
      ]
     },
     "execution_count": 25,
     "metadata": {},
     "output_type": "execute_result"
    },
    {
     "data": {
      "text/plain": [
       "Sequential(\n",
       "  (0): Linear(in_features=275, out_features=128, bias=True)\n",
       "  (1): ReLU()\n",
       "  (2): Linear(in_features=128, out_features=64, bias=True)\n",
       "  (3): ReLU()\n",
       "  (4): Linear(in_features=64, out_features=32, bias=True)\n",
       "  (5): ReLU()\n",
       "  (6): Linear(in_features=32, out_features=16, bias=True)\n",
       "  (7): ReLU()\n",
       "  (8): Linear(in_features=16, out_features=8, bias=True)\n",
       "  (9): ReLU()\n",
       "  (10): Linear(in_features=8, out_features=4, bias=True)\n",
       "  (11): ReLU()\n",
       "  (12): Linear(in_features=4, out_features=1, bias=True)\n",
       ")"
      ]
     },
     "execution_count": 25,
     "metadata": {},
     "output_type": "execute_result"
    },
    {
     "data": {
      "text/plain": [
       "Sequential(\n",
       "  (0): Linear(in_features=275, out_features=128, bias=True)\n",
       "  (1): ReLU()\n",
       "  (2): Linear(in_features=128, out_features=64, bias=True)\n",
       "  (3): ReLU()\n",
       "  (4): Linear(in_features=64, out_features=32, bias=True)\n",
       "  (5): ReLU()\n",
       "  (6): Linear(in_features=32, out_features=16, bias=True)\n",
       "  (7): ReLU()\n",
       "  (8): Linear(in_features=16, out_features=8, bias=True)\n",
       "  (9): ReLU()\n",
       "  (10): Linear(in_features=8, out_features=4, bias=True)\n",
       "  (11): ReLU()\n",
       "  (12): Linear(in_features=4, out_features=1, bias=True)\n",
       ")"
      ]
     },
     "execution_count": 25,
     "metadata": {},
     "output_type": "execute_result"
    },
    {
     "data": {
      "text/plain": [
       "Sequential(\n",
       "  (0): Linear(in_features=275, out_features=128, bias=True)\n",
       "  (1): ReLU()\n",
       "  (2): Linear(in_features=128, out_features=64, bias=True)\n",
       "  (3): ReLU()\n",
       "  (4): Linear(in_features=64, out_features=32, bias=True)\n",
       "  (5): ReLU()\n",
       "  (6): Linear(in_features=32, out_features=16, bias=True)\n",
       "  (7): ReLU()\n",
       "  (8): Linear(in_features=16, out_features=8, bias=True)\n",
       "  (9): ReLU()\n",
       "  (10): Linear(in_features=8, out_features=4, bias=True)\n",
       "  (11): ReLU()\n",
       "  (12): Linear(in_features=4, out_features=1, bias=True)\n",
       ")"
      ]
     },
     "execution_count": 25,
     "metadata": {},
     "output_type": "execute_result"
    },
    {
     "data": {
      "text/plain": [
       "Sequential(\n",
       "  (0): Linear(in_features=275, out_features=128, bias=True)\n",
       "  (1): ReLU()\n",
       "  (2): Linear(in_features=128, out_features=64, bias=True)\n",
       "  (3): ReLU()\n",
       "  (4): Linear(in_features=64, out_features=32, bias=True)\n",
       "  (5): ReLU()\n",
       "  (6): Linear(in_features=32, out_features=16, bias=True)\n",
       "  (7): ReLU()\n",
       "  (8): Linear(in_features=16, out_features=8, bias=True)\n",
       "  (9): ReLU()\n",
       "  (10): Linear(in_features=8, out_features=4, bias=True)\n",
       "  (11): ReLU()\n",
       "  (12): Linear(in_features=4, out_features=1, bias=True)\n",
       ")"
      ]
     },
     "execution_count": 25,
     "metadata": {},
     "output_type": "execute_result"
    },
    {
     "data": {
      "text/plain": [
       "Sequential(\n",
       "  (0): Linear(in_features=275, out_features=128, bias=True)\n",
       "  (1): ReLU()\n",
       "  (2): Linear(in_features=128, out_features=64, bias=True)\n",
       "  (3): ReLU()\n",
       "  (4): Linear(in_features=64, out_features=32, bias=True)\n",
       "  (5): ReLU()\n",
       "  (6): Linear(in_features=32, out_features=16, bias=True)\n",
       "  (7): ReLU()\n",
       "  (8): Linear(in_features=16, out_features=8, bias=True)\n",
       "  (9): ReLU()\n",
       "  (10): Linear(in_features=8, out_features=4, bias=True)\n",
       "  (11): ReLU()\n",
       "  (12): Linear(in_features=4, out_features=1, bias=True)\n",
       ")"
      ]
     },
     "execution_count": 25,
     "metadata": {},
     "output_type": "execute_result"
    },
    {
     "data": {
      "text/plain": [
       "Sequential(\n",
       "  (0): Linear(in_features=275, out_features=128, bias=True)\n",
       "  (1): ReLU()\n",
       "  (2): Linear(in_features=128, out_features=64, bias=True)\n",
       "  (3): ReLU()\n",
       "  (4): Linear(in_features=64, out_features=32, bias=True)\n",
       "  (5): ReLU()\n",
       "  (6): Linear(in_features=32, out_features=16, bias=True)\n",
       "  (7): ReLU()\n",
       "  (8): Linear(in_features=16, out_features=8, bias=True)\n",
       "  (9): ReLU()\n",
       "  (10): Linear(in_features=8, out_features=4, bias=True)\n",
       "  (11): ReLU()\n",
       "  (12): Linear(in_features=4, out_features=1, bias=True)\n",
       ")"
      ]
     },
     "execution_count": 25,
     "metadata": {},
     "output_type": "execute_result"
    },
    {
     "data": {
      "text/plain": [
       "Sequential(\n",
       "  (0): Linear(in_features=275, out_features=128, bias=True)\n",
       "  (1): ReLU()\n",
       "  (2): Linear(in_features=128, out_features=64, bias=True)\n",
       "  (3): ReLU()\n",
       "  (4): Linear(in_features=64, out_features=32, bias=True)\n",
       "  (5): ReLU()\n",
       "  (6): Linear(in_features=32, out_features=16, bias=True)\n",
       "  (7): ReLU()\n",
       "  (8): Linear(in_features=16, out_features=8, bias=True)\n",
       "  (9): ReLU()\n",
       "  (10): Linear(in_features=8, out_features=4, bias=True)\n",
       "  (11): ReLU()\n",
       "  (12): Linear(in_features=4, out_features=1, bias=True)\n",
       ")"
      ]
     },
     "execution_count": 25,
     "metadata": {},
     "output_type": "execute_result"
    },
    {
     "data": {
      "text/plain": [
       "Sequential(\n",
       "  (0): Linear(in_features=275, out_features=128, bias=True)\n",
       "  (1): ReLU()\n",
       "  (2): Linear(in_features=128, out_features=64, bias=True)\n",
       "  (3): ReLU()\n",
       "  (4): Linear(in_features=64, out_features=32, bias=True)\n",
       "  (5): ReLU()\n",
       "  (6): Linear(in_features=32, out_features=16, bias=True)\n",
       "  (7): ReLU()\n",
       "  (8): Linear(in_features=16, out_features=8, bias=True)\n",
       "  (9): ReLU()\n",
       "  (10): Linear(in_features=8, out_features=4, bias=True)\n",
       "  (11): ReLU()\n",
       "  (12): Linear(in_features=4, out_features=1, bias=True)\n",
       ")"
      ]
     },
     "execution_count": 25,
     "metadata": {},
     "output_type": "execute_result"
    },
    {
     "data": {
      "text/plain": [
       "Sequential(\n",
       "  (0): Linear(in_features=275, out_features=128, bias=True)\n",
       "  (1): ReLU()\n",
       "  (2): Linear(in_features=128, out_features=64, bias=True)\n",
       "  (3): ReLU()\n",
       "  (4): Linear(in_features=64, out_features=32, bias=True)\n",
       "  (5): ReLU()\n",
       "  (6): Linear(in_features=32, out_features=16, bias=True)\n",
       "  (7): ReLU()\n",
       "  (8): Linear(in_features=16, out_features=8, bias=True)\n",
       "  (9): ReLU()\n",
       "  (10): Linear(in_features=8, out_features=4, bias=True)\n",
       "  (11): ReLU()\n",
       "  (12): Linear(in_features=4, out_features=1, bias=True)\n",
       ")"
      ]
     },
     "execution_count": 25,
     "metadata": {},
     "output_type": "execute_result"
    },
    {
     "data": {
      "text/plain": [
       "Sequential(\n",
       "  (0): Linear(in_features=275, out_features=128, bias=True)\n",
       "  (1): ReLU()\n",
       "  (2): Linear(in_features=128, out_features=64, bias=True)\n",
       "  (3): ReLU()\n",
       "  (4): Linear(in_features=64, out_features=32, bias=True)\n",
       "  (5): ReLU()\n",
       "  (6): Linear(in_features=32, out_features=16, bias=True)\n",
       "  (7): ReLU()\n",
       "  (8): Linear(in_features=16, out_features=8, bias=True)\n",
       "  (9): ReLU()\n",
       "  (10): Linear(in_features=8, out_features=4, bias=True)\n",
       "  (11): ReLU()\n",
       "  (12): Linear(in_features=4, out_features=1, bias=True)\n",
       ")"
      ]
     },
     "execution_count": 25,
     "metadata": {},
     "output_type": "execute_result"
    },
    {
     "data": {
      "text/plain": [
       "Sequential(\n",
       "  (0): Linear(in_features=275, out_features=128, bias=True)\n",
       "  (1): ReLU()\n",
       "  (2): Linear(in_features=128, out_features=64, bias=True)\n",
       "  (3): ReLU()\n",
       "  (4): Linear(in_features=64, out_features=32, bias=True)\n",
       "  (5): ReLU()\n",
       "  (6): Linear(in_features=32, out_features=16, bias=True)\n",
       "  (7): ReLU()\n",
       "  (8): Linear(in_features=16, out_features=8, bias=True)\n",
       "  (9): ReLU()\n",
       "  (10): Linear(in_features=8, out_features=4, bias=True)\n",
       "  (11): ReLU()\n",
       "  (12): Linear(in_features=4, out_features=1, bias=True)\n",
       ")"
      ]
     },
     "execution_count": 25,
     "metadata": {},
     "output_type": "execute_result"
    },
    {
     "data": {
      "text/plain": [
       "Sequential(\n",
       "  (0): Linear(in_features=275, out_features=128, bias=True)\n",
       "  (1): ReLU()\n",
       "  (2): Linear(in_features=128, out_features=64, bias=True)\n",
       "  (3): ReLU()\n",
       "  (4): Linear(in_features=64, out_features=32, bias=True)\n",
       "  (5): ReLU()\n",
       "  (6): Linear(in_features=32, out_features=16, bias=True)\n",
       "  (7): ReLU()\n",
       "  (8): Linear(in_features=16, out_features=8, bias=True)\n",
       "  (9): ReLU()\n",
       "  (10): Linear(in_features=8, out_features=4, bias=True)\n",
       "  (11): ReLU()\n",
       "  (12): Linear(in_features=4, out_features=1, bias=True)\n",
       ")"
      ]
     },
     "execution_count": 25,
     "metadata": {},
     "output_type": "execute_result"
    },
    {
     "data": {
      "text/plain": [
       "Sequential(\n",
       "  (0): Linear(in_features=275, out_features=128, bias=True)\n",
       "  (1): ReLU()\n",
       "  (2): Linear(in_features=128, out_features=64, bias=True)\n",
       "  (3): ReLU()\n",
       "  (4): Linear(in_features=64, out_features=32, bias=True)\n",
       "  (5): ReLU()\n",
       "  (6): Linear(in_features=32, out_features=16, bias=True)\n",
       "  (7): ReLU()\n",
       "  (8): Linear(in_features=16, out_features=8, bias=True)\n",
       "  (9): ReLU()\n",
       "  (10): Linear(in_features=8, out_features=4, bias=True)\n",
       "  (11): ReLU()\n",
       "  (12): Linear(in_features=4, out_features=1, bias=True)\n",
       ")"
      ]
     },
     "execution_count": 25,
     "metadata": {},
     "output_type": "execute_result"
    },
    {
     "data": {
      "text/plain": [
       "Sequential(\n",
       "  (0): Linear(in_features=275, out_features=128, bias=True)\n",
       "  (1): ReLU()\n",
       "  (2): Linear(in_features=128, out_features=64, bias=True)\n",
       "  (3): ReLU()\n",
       "  (4): Linear(in_features=64, out_features=32, bias=True)\n",
       "  (5): ReLU()\n",
       "  (6): Linear(in_features=32, out_features=16, bias=True)\n",
       "  (7): ReLU()\n",
       "  (8): Linear(in_features=16, out_features=8, bias=True)\n",
       "  (9): ReLU()\n",
       "  (10): Linear(in_features=8, out_features=4, bias=True)\n",
       "  (11): ReLU()\n",
       "  (12): Linear(in_features=4, out_features=1, bias=True)\n",
       ")"
      ]
     },
     "execution_count": 25,
     "metadata": {},
     "output_type": "execute_result"
    },
    {
     "data": {
      "text/plain": [
       "Sequential(\n",
       "  (0): Linear(in_features=275, out_features=128, bias=True)\n",
       "  (1): ReLU()\n",
       "  (2): Linear(in_features=128, out_features=64, bias=True)\n",
       "  (3): ReLU()\n",
       "  (4): Linear(in_features=64, out_features=32, bias=True)\n",
       "  (5): ReLU()\n",
       "  (6): Linear(in_features=32, out_features=16, bias=True)\n",
       "  (7): ReLU()\n",
       "  (8): Linear(in_features=16, out_features=8, bias=True)\n",
       "  (9): ReLU()\n",
       "  (10): Linear(in_features=8, out_features=4, bias=True)\n",
       "  (11): ReLU()\n",
       "  (12): Linear(in_features=4, out_features=1, bias=True)\n",
       ")"
      ]
     },
     "execution_count": 25,
     "metadata": {},
     "output_type": "execute_result"
    },
    {
     "data": {
      "text/plain": [
       "Sequential(\n",
       "  (0): Linear(in_features=275, out_features=128, bias=True)\n",
       "  (1): ReLU()\n",
       "  (2): Linear(in_features=128, out_features=64, bias=True)\n",
       "  (3): ReLU()\n",
       "  (4): Linear(in_features=64, out_features=32, bias=True)\n",
       "  (5): ReLU()\n",
       "  (6): Linear(in_features=32, out_features=16, bias=True)\n",
       "  (7): ReLU()\n",
       "  (8): Linear(in_features=16, out_features=8, bias=True)\n",
       "  (9): ReLU()\n",
       "  (10): Linear(in_features=8, out_features=4, bias=True)\n",
       "  (11): ReLU()\n",
       "  (12): Linear(in_features=4, out_features=1, bias=True)\n",
       ")"
      ]
     },
     "execution_count": 25,
     "metadata": {},
     "output_type": "execute_result"
    },
    {
     "data": {
      "text/plain": [
       "Sequential(\n",
       "  (0): Linear(in_features=275, out_features=128, bias=True)\n",
       "  (1): ReLU()\n",
       "  (2): Linear(in_features=128, out_features=64, bias=True)\n",
       "  (3): ReLU()\n",
       "  (4): Linear(in_features=64, out_features=32, bias=True)\n",
       "  (5): ReLU()\n",
       "  (6): Linear(in_features=32, out_features=16, bias=True)\n",
       "  (7): ReLU()\n",
       "  (8): Linear(in_features=16, out_features=8, bias=True)\n",
       "  (9): ReLU()\n",
       "  (10): Linear(in_features=8, out_features=4, bias=True)\n",
       "  (11): ReLU()\n",
       "  (12): Linear(in_features=4, out_features=1, bias=True)\n",
       ")"
      ]
     },
     "execution_count": 25,
     "metadata": {},
     "output_type": "execute_result"
    },
    {
     "data": {
      "text/plain": [
       "Sequential(\n",
       "  (0): Linear(in_features=275, out_features=128, bias=True)\n",
       "  (1): ReLU()\n",
       "  (2): Linear(in_features=128, out_features=64, bias=True)\n",
       "  (3): ReLU()\n",
       "  (4): Linear(in_features=64, out_features=32, bias=True)\n",
       "  (5): ReLU()\n",
       "  (6): Linear(in_features=32, out_features=16, bias=True)\n",
       "  (7): ReLU()\n",
       "  (8): Linear(in_features=16, out_features=8, bias=True)\n",
       "  (9): ReLU()\n",
       "  (10): Linear(in_features=8, out_features=4, bias=True)\n",
       "  (11): ReLU()\n",
       "  (12): Linear(in_features=4, out_features=1, bias=True)\n",
       ")"
      ]
     },
     "execution_count": 25,
     "metadata": {},
     "output_type": "execute_result"
    },
    {
     "data": {
      "text/plain": [
       "Sequential(\n",
       "  (0): Linear(in_features=275, out_features=128, bias=True)\n",
       "  (1): ReLU()\n",
       "  (2): Linear(in_features=128, out_features=64, bias=True)\n",
       "  (3): ReLU()\n",
       "  (4): Linear(in_features=64, out_features=32, bias=True)\n",
       "  (5): ReLU()\n",
       "  (6): Linear(in_features=32, out_features=16, bias=True)\n",
       "  (7): ReLU()\n",
       "  (8): Linear(in_features=16, out_features=8, bias=True)\n",
       "  (9): ReLU()\n",
       "  (10): Linear(in_features=8, out_features=4, bias=True)\n",
       "  (11): ReLU()\n",
       "  (12): Linear(in_features=4, out_features=1, bias=True)\n",
       ")"
      ]
     },
     "execution_count": 25,
     "metadata": {},
     "output_type": "execute_result"
    },
    {
     "data": {
      "text/plain": [
       "Sequential(\n",
       "  (0): Linear(in_features=275, out_features=128, bias=True)\n",
       "  (1): ReLU()\n",
       "  (2): Linear(in_features=128, out_features=64, bias=True)\n",
       "  (3): ReLU()\n",
       "  (4): Linear(in_features=64, out_features=32, bias=True)\n",
       "  (5): ReLU()\n",
       "  (6): Linear(in_features=32, out_features=16, bias=True)\n",
       "  (7): ReLU()\n",
       "  (8): Linear(in_features=16, out_features=8, bias=True)\n",
       "  (9): ReLU()\n",
       "  (10): Linear(in_features=8, out_features=4, bias=True)\n",
       "  (11): ReLU()\n",
       "  (12): Linear(in_features=4, out_features=1, bias=True)\n",
       ")"
      ]
     },
     "execution_count": 25,
     "metadata": {},
     "output_type": "execute_result"
    },
    {
     "data": {
      "text/plain": [
       "Sequential(\n",
       "  (0): Linear(in_features=275, out_features=128, bias=True)\n",
       "  (1): ReLU()\n",
       "  (2): Linear(in_features=128, out_features=64, bias=True)\n",
       "  (3): ReLU()\n",
       "  (4): Linear(in_features=64, out_features=32, bias=True)\n",
       "  (5): ReLU()\n",
       "  (6): Linear(in_features=32, out_features=16, bias=True)\n",
       "  (7): ReLU()\n",
       "  (8): Linear(in_features=16, out_features=8, bias=True)\n",
       "  (9): ReLU()\n",
       "  (10): Linear(in_features=8, out_features=4, bias=True)\n",
       "  (11): ReLU()\n",
       "  (12): Linear(in_features=4, out_features=1, bias=True)\n",
       ")"
      ]
     },
     "execution_count": 25,
     "metadata": {},
     "output_type": "execute_result"
    },
    {
     "data": {
      "text/plain": [
       "Sequential(\n",
       "  (0): Linear(in_features=275, out_features=128, bias=True)\n",
       "  (1): ReLU()\n",
       "  (2): Linear(in_features=128, out_features=64, bias=True)\n",
       "  (3): ReLU()\n",
       "  (4): Linear(in_features=64, out_features=32, bias=True)\n",
       "  (5): ReLU()\n",
       "  (6): Linear(in_features=32, out_features=16, bias=True)\n",
       "  (7): ReLU()\n",
       "  (8): Linear(in_features=16, out_features=8, bias=True)\n",
       "  (9): ReLU()\n",
       "  (10): Linear(in_features=8, out_features=4, bias=True)\n",
       "  (11): ReLU()\n",
       "  (12): Linear(in_features=4, out_features=1, bias=True)\n",
       ")"
      ]
     },
     "execution_count": 25,
     "metadata": {},
     "output_type": "execute_result"
    },
    {
     "data": {
      "text/plain": [
       "Sequential(\n",
       "  (0): Linear(in_features=275, out_features=128, bias=True)\n",
       "  (1): ReLU()\n",
       "  (2): Linear(in_features=128, out_features=64, bias=True)\n",
       "  (3): ReLU()\n",
       "  (4): Linear(in_features=64, out_features=32, bias=True)\n",
       "  (5): ReLU()\n",
       "  (6): Linear(in_features=32, out_features=16, bias=True)\n",
       "  (7): ReLU()\n",
       "  (8): Linear(in_features=16, out_features=8, bias=True)\n",
       "  (9): ReLU()\n",
       "  (10): Linear(in_features=8, out_features=4, bias=True)\n",
       "  (11): ReLU()\n",
       "  (12): Linear(in_features=4, out_features=1, bias=True)\n",
       ")"
      ]
     },
     "execution_count": 25,
     "metadata": {},
     "output_type": "execute_result"
    },
    {
     "data": {
      "text/plain": [
       "Sequential(\n",
       "  (0): Linear(in_features=275, out_features=128, bias=True)\n",
       "  (1): ReLU()\n",
       "  (2): Linear(in_features=128, out_features=64, bias=True)\n",
       "  (3): ReLU()\n",
       "  (4): Linear(in_features=64, out_features=32, bias=True)\n",
       "  (5): ReLU()\n",
       "  (6): Linear(in_features=32, out_features=16, bias=True)\n",
       "  (7): ReLU()\n",
       "  (8): Linear(in_features=16, out_features=8, bias=True)\n",
       "  (9): ReLU()\n",
       "  (10): Linear(in_features=8, out_features=4, bias=True)\n",
       "  (11): ReLU()\n",
       "  (12): Linear(in_features=4, out_features=1, bias=True)\n",
       ")"
      ]
     },
     "execution_count": 25,
     "metadata": {},
     "output_type": "execute_result"
    },
    {
     "data": {
      "text/plain": [
       "Sequential(\n",
       "  (0): Linear(in_features=275, out_features=128, bias=True)\n",
       "  (1): ReLU()\n",
       "  (2): Linear(in_features=128, out_features=64, bias=True)\n",
       "  (3): ReLU()\n",
       "  (4): Linear(in_features=64, out_features=32, bias=True)\n",
       "  (5): ReLU()\n",
       "  (6): Linear(in_features=32, out_features=16, bias=True)\n",
       "  (7): ReLU()\n",
       "  (8): Linear(in_features=16, out_features=8, bias=True)\n",
       "  (9): ReLU()\n",
       "  (10): Linear(in_features=8, out_features=4, bias=True)\n",
       "  (11): ReLU()\n",
       "  (12): Linear(in_features=4, out_features=1, bias=True)\n",
       ")"
      ]
     },
     "execution_count": 25,
     "metadata": {},
     "output_type": "execute_result"
    },
    {
     "data": {
      "text/plain": [
       "Sequential(\n",
       "  (0): Linear(in_features=275, out_features=128, bias=True)\n",
       "  (1): ReLU()\n",
       "  (2): Linear(in_features=128, out_features=64, bias=True)\n",
       "  (3): ReLU()\n",
       "  (4): Linear(in_features=64, out_features=32, bias=True)\n",
       "  (5): ReLU()\n",
       "  (6): Linear(in_features=32, out_features=16, bias=True)\n",
       "  (7): ReLU()\n",
       "  (8): Linear(in_features=16, out_features=8, bias=True)\n",
       "  (9): ReLU()\n",
       "  (10): Linear(in_features=8, out_features=4, bias=True)\n",
       "  (11): ReLU()\n",
       "  (12): Linear(in_features=4, out_features=1, bias=True)\n",
       ")"
      ]
     },
     "execution_count": 25,
     "metadata": {},
     "output_type": "execute_result"
    },
    {
     "data": {
      "text/plain": [
       "Sequential(\n",
       "  (0): Linear(in_features=275, out_features=128, bias=True)\n",
       "  (1): ReLU()\n",
       "  (2): Linear(in_features=128, out_features=64, bias=True)\n",
       "  (3): ReLU()\n",
       "  (4): Linear(in_features=64, out_features=32, bias=True)\n",
       "  (5): ReLU()\n",
       "  (6): Linear(in_features=32, out_features=16, bias=True)\n",
       "  (7): ReLU()\n",
       "  (8): Linear(in_features=16, out_features=8, bias=True)\n",
       "  (9): ReLU()\n",
       "  (10): Linear(in_features=8, out_features=4, bias=True)\n",
       "  (11): ReLU()\n",
       "  (12): Linear(in_features=4, out_features=1, bias=True)\n",
       ")"
      ]
     },
     "execution_count": 25,
     "metadata": {},
     "output_type": "execute_result"
    },
    {
     "data": {
      "text/plain": [
       "Sequential(\n",
       "  (0): Linear(in_features=275, out_features=128, bias=True)\n",
       "  (1): ReLU()\n",
       "  (2): Linear(in_features=128, out_features=64, bias=True)\n",
       "  (3): ReLU()\n",
       "  (4): Linear(in_features=64, out_features=32, bias=True)\n",
       "  (5): ReLU()\n",
       "  (6): Linear(in_features=32, out_features=16, bias=True)\n",
       "  (7): ReLU()\n",
       "  (8): Linear(in_features=16, out_features=8, bias=True)\n",
       "  (9): ReLU()\n",
       "  (10): Linear(in_features=8, out_features=4, bias=True)\n",
       "  (11): ReLU()\n",
       "  (12): Linear(in_features=4, out_features=1, bias=True)\n",
       ")"
      ]
     },
     "execution_count": 25,
     "metadata": {},
     "output_type": "execute_result"
    },
    {
     "data": {
      "text/plain": [
       "Sequential(\n",
       "  (0): Linear(in_features=275, out_features=128, bias=True)\n",
       "  (1): ReLU()\n",
       "  (2): Linear(in_features=128, out_features=64, bias=True)\n",
       "  (3): ReLU()\n",
       "  (4): Linear(in_features=64, out_features=32, bias=True)\n",
       "  (5): ReLU()\n",
       "  (6): Linear(in_features=32, out_features=16, bias=True)\n",
       "  (7): ReLU()\n",
       "  (8): Linear(in_features=16, out_features=8, bias=True)\n",
       "  (9): ReLU()\n",
       "  (10): Linear(in_features=8, out_features=4, bias=True)\n",
       "  (11): ReLU()\n",
       "  (12): Linear(in_features=4, out_features=1, bias=True)\n",
       ")"
      ]
     },
     "execution_count": 25,
     "metadata": {},
     "output_type": "execute_result"
    },
    {
     "data": {
      "text/plain": [
       "Sequential(\n",
       "  (0): Linear(in_features=275, out_features=128, bias=True)\n",
       "  (1): ReLU()\n",
       "  (2): Linear(in_features=128, out_features=64, bias=True)\n",
       "  (3): ReLU()\n",
       "  (4): Linear(in_features=64, out_features=32, bias=True)\n",
       "  (5): ReLU()\n",
       "  (6): Linear(in_features=32, out_features=16, bias=True)\n",
       "  (7): ReLU()\n",
       "  (8): Linear(in_features=16, out_features=8, bias=True)\n",
       "  (9): ReLU()\n",
       "  (10): Linear(in_features=8, out_features=4, bias=True)\n",
       "  (11): ReLU()\n",
       "  (12): Linear(in_features=4, out_features=1, bias=True)\n",
       ")"
      ]
     },
     "execution_count": 25,
     "metadata": {},
     "output_type": "execute_result"
    },
    {
     "data": {
      "text/plain": [
       "Sequential(\n",
       "  (0): Linear(in_features=275, out_features=128, bias=True)\n",
       "  (1): ReLU()\n",
       "  (2): Linear(in_features=128, out_features=64, bias=True)\n",
       "  (3): ReLU()\n",
       "  (4): Linear(in_features=64, out_features=32, bias=True)\n",
       "  (5): ReLU()\n",
       "  (6): Linear(in_features=32, out_features=16, bias=True)\n",
       "  (7): ReLU()\n",
       "  (8): Linear(in_features=16, out_features=8, bias=True)\n",
       "  (9): ReLU()\n",
       "  (10): Linear(in_features=8, out_features=4, bias=True)\n",
       "  (11): ReLU()\n",
       "  (12): Linear(in_features=4, out_features=1, bias=True)\n",
       ")"
      ]
     },
     "execution_count": 25,
     "metadata": {},
     "output_type": "execute_result"
    },
    {
     "data": {
      "text/plain": [
       "Sequential(\n",
       "  (0): Linear(in_features=275, out_features=128, bias=True)\n",
       "  (1): ReLU()\n",
       "  (2): Linear(in_features=128, out_features=64, bias=True)\n",
       "  (3): ReLU()\n",
       "  (4): Linear(in_features=64, out_features=32, bias=True)\n",
       "  (5): ReLU()\n",
       "  (6): Linear(in_features=32, out_features=16, bias=True)\n",
       "  (7): ReLU()\n",
       "  (8): Linear(in_features=16, out_features=8, bias=True)\n",
       "  (9): ReLU()\n",
       "  (10): Linear(in_features=8, out_features=4, bias=True)\n",
       "  (11): ReLU()\n",
       "  (12): Linear(in_features=4, out_features=1, bias=True)\n",
       ")"
      ]
     },
     "execution_count": 25,
     "metadata": {},
     "output_type": "execute_result"
    },
    {
     "data": {
      "text/plain": [
       "Sequential(\n",
       "  (0): Linear(in_features=275, out_features=128, bias=True)\n",
       "  (1): ReLU()\n",
       "  (2): Linear(in_features=128, out_features=64, bias=True)\n",
       "  (3): ReLU()\n",
       "  (4): Linear(in_features=64, out_features=32, bias=True)\n",
       "  (5): ReLU()\n",
       "  (6): Linear(in_features=32, out_features=16, bias=True)\n",
       "  (7): ReLU()\n",
       "  (8): Linear(in_features=16, out_features=8, bias=True)\n",
       "  (9): ReLU()\n",
       "  (10): Linear(in_features=8, out_features=4, bias=True)\n",
       "  (11): ReLU()\n",
       "  (12): Linear(in_features=4, out_features=1, bias=True)\n",
       ")"
      ]
     },
     "execution_count": 25,
     "metadata": {},
     "output_type": "execute_result"
    },
    {
     "data": {
      "text/plain": [
       "Sequential(\n",
       "  (0): Linear(in_features=275, out_features=128, bias=True)\n",
       "  (1): ReLU()\n",
       "  (2): Linear(in_features=128, out_features=64, bias=True)\n",
       "  (3): ReLU()\n",
       "  (4): Linear(in_features=64, out_features=32, bias=True)\n",
       "  (5): ReLU()\n",
       "  (6): Linear(in_features=32, out_features=16, bias=True)\n",
       "  (7): ReLU()\n",
       "  (8): Linear(in_features=16, out_features=8, bias=True)\n",
       "  (9): ReLU()\n",
       "  (10): Linear(in_features=8, out_features=4, bias=True)\n",
       "  (11): ReLU()\n",
       "  (12): Linear(in_features=4, out_features=1, bias=True)\n",
       ")"
      ]
     },
     "execution_count": 25,
     "metadata": {},
     "output_type": "execute_result"
    },
    {
     "data": {
      "text/plain": [
       "Sequential(\n",
       "  (0): Linear(in_features=275, out_features=128, bias=True)\n",
       "  (1): ReLU()\n",
       "  (2): Linear(in_features=128, out_features=64, bias=True)\n",
       "  (3): ReLU()\n",
       "  (4): Linear(in_features=64, out_features=32, bias=True)\n",
       "  (5): ReLU()\n",
       "  (6): Linear(in_features=32, out_features=16, bias=True)\n",
       "  (7): ReLU()\n",
       "  (8): Linear(in_features=16, out_features=8, bias=True)\n",
       "  (9): ReLU()\n",
       "  (10): Linear(in_features=8, out_features=4, bias=True)\n",
       "  (11): ReLU()\n",
       "  (12): Linear(in_features=4, out_features=1, bias=True)\n",
       ")"
      ]
     },
     "execution_count": 25,
     "metadata": {},
     "output_type": "execute_result"
    },
    {
     "data": {
      "text/plain": [
       "Sequential(\n",
       "  (0): Linear(in_features=275, out_features=128, bias=True)\n",
       "  (1): ReLU()\n",
       "  (2): Linear(in_features=128, out_features=64, bias=True)\n",
       "  (3): ReLU()\n",
       "  (4): Linear(in_features=64, out_features=32, bias=True)\n",
       "  (5): ReLU()\n",
       "  (6): Linear(in_features=32, out_features=16, bias=True)\n",
       "  (7): ReLU()\n",
       "  (8): Linear(in_features=16, out_features=8, bias=True)\n",
       "  (9): ReLU()\n",
       "  (10): Linear(in_features=8, out_features=4, bias=True)\n",
       "  (11): ReLU()\n",
       "  (12): Linear(in_features=4, out_features=1, bias=True)\n",
       ")"
      ]
     },
     "execution_count": 25,
     "metadata": {},
     "output_type": "execute_result"
    },
    {
     "data": {
      "text/plain": [
       "Sequential(\n",
       "  (0): Linear(in_features=275, out_features=128, bias=True)\n",
       "  (1): ReLU()\n",
       "  (2): Linear(in_features=128, out_features=64, bias=True)\n",
       "  (3): ReLU()\n",
       "  (4): Linear(in_features=64, out_features=32, bias=True)\n",
       "  (5): ReLU()\n",
       "  (6): Linear(in_features=32, out_features=16, bias=True)\n",
       "  (7): ReLU()\n",
       "  (8): Linear(in_features=16, out_features=8, bias=True)\n",
       "  (9): ReLU()\n",
       "  (10): Linear(in_features=8, out_features=4, bias=True)\n",
       "  (11): ReLU()\n",
       "  (12): Linear(in_features=4, out_features=1, bias=True)\n",
       ")"
      ]
     },
     "execution_count": 25,
     "metadata": {},
     "output_type": "execute_result"
    },
    {
     "data": {
      "text/plain": [
       "Sequential(\n",
       "  (0): Linear(in_features=275, out_features=128, bias=True)\n",
       "  (1): ReLU()\n",
       "  (2): Linear(in_features=128, out_features=64, bias=True)\n",
       "  (3): ReLU()\n",
       "  (4): Linear(in_features=64, out_features=32, bias=True)\n",
       "  (5): ReLU()\n",
       "  (6): Linear(in_features=32, out_features=16, bias=True)\n",
       "  (7): ReLU()\n",
       "  (8): Linear(in_features=16, out_features=8, bias=True)\n",
       "  (9): ReLU()\n",
       "  (10): Linear(in_features=8, out_features=4, bias=True)\n",
       "  (11): ReLU()\n",
       "  (12): Linear(in_features=4, out_features=1, bias=True)\n",
       ")"
      ]
     },
     "execution_count": 25,
     "metadata": {},
     "output_type": "execute_result"
    },
    {
     "data": {
      "text/plain": [
       "Sequential(\n",
       "  (0): Linear(in_features=275, out_features=128, bias=True)\n",
       "  (1): ReLU()\n",
       "  (2): Linear(in_features=128, out_features=64, bias=True)\n",
       "  (3): ReLU()\n",
       "  (4): Linear(in_features=64, out_features=32, bias=True)\n",
       "  (5): ReLU()\n",
       "  (6): Linear(in_features=32, out_features=16, bias=True)\n",
       "  (7): ReLU()\n",
       "  (8): Linear(in_features=16, out_features=8, bias=True)\n",
       "  (9): ReLU()\n",
       "  (10): Linear(in_features=8, out_features=4, bias=True)\n",
       "  (11): ReLU()\n",
       "  (12): Linear(in_features=4, out_features=1, bias=True)\n",
       ")"
      ]
     },
     "execution_count": 25,
     "metadata": {},
     "output_type": "execute_result"
    },
    {
     "data": {
      "text/plain": [
       "Sequential(\n",
       "  (0): Linear(in_features=275, out_features=128, bias=True)\n",
       "  (1): ReLU()\n",
       "  (2): Linear(in_features=128, out_features=64, bias=True)\n",
       "  (3): ReLU()\n",
       "  (4): Linear(in_features=64, out_features=32, bias=True)\n",
       "  (5): ReLU()\n",
       "  (6): Linear(in_features=32, out_features=16, bias=True)\n",
       "  (7): ReLU()\n",
       "  (8): Linear(in_features=16, out_features=8, bias=True)\n",
       "  (9): ReLU()\n",
       "  (10): Linear(in_features=8, out_features=4, bias=True)\n",
       "  (11): ReLU()\n",
       "  (12): Linear(in_features=4, out_features=1, bias=True)\n",
       ")"
      ]
     },
     "execution_count": 25,
     "metadata": {},
     "output_type": "execute_result"
    },
    {
     "data": {
      "text/plain": [
       "Sequential(\n",
       "  (0): Linear(in_features=275, out_features=128, bias=True)\n",
       "  (1): ReLU()\n",
       "  (2): Linear(in_features=128, out_features=64, bias=True)\n",
       "  (3): ReLU()\n",
       "  (4): Linear(in_features=64, out_features=32, bias=True)\n",
       "  (5): ReLU()\n",
       "  (6): Linear(in_features=32, out_features=16, bias=True)\n",
       "  (7): ReLU()\n",
       "  (8): Linear(in_features=16, out_features=8, bias=True)\n",
       "  (9): ReLU()\n",
       "  (10): Linear(in_features=8, out_features=4, bias=True)\n",
       "  (11): ReLU()\n",
       "  (12): Linear(in_features=4, out_features=1, bias=True)\n",
       ")"
      ]
     },
     "execution_count": 25,
     "metadata": {},
     "output_type": "execute_result"
    },
    {
     "data": {
      "text/plain": [
       "Sequential(\n",
       "  (0): Linear(in_features=275, out_features=128, bias=True)\n",
       "  (1): ReLU()\n",
       "  (2): Linear(in_features=128, out_features=64, bias=True)\n",
       "  (3): ReLU()\n",
       "  (4): Linear(in_features=64, out_features=32, bias=True)\n",
       "  (5): ReLU()\n",
       "  (6): Linear(in_features=32, out_features=16, bias=True)\n",
       "  (7): ReLU()\n",
       "  (8): Linear(in_features=16, out_features=8, bias=True)\n",
       "  (9): ReLU()\n",
       "  (10): Linear(in_features=8, out_features=4, bias=True)\n",
       "  (11): ReLU()\n",
       "  (12): Linear(in_features=4, out_features=1, bias=True)\n",
       ")"
      ]
     },
     "execution_count": 25,
     "metadata": {},
     "output_type": "execute_result"
    },
    {
     "data": {
      "text/plain": [
       "Sequential(\n",
       "  (0): Linear(in_features=275, out_features=128, bias=True)\n",
       "  (1): ReLU()\n",
       "  (2): Linear(in_features=128, out_features=64, bias=True)\n",
       "  (3): ReLU()\n",
       "  (4): Linear(in_features=64, out_features=32, bias=True)\n",
       "  (5): ReLU()\n",
       "  (6): Linear(in_features=32, out_features=16, bias=True)\n",
       "  (7): ReLU()\n",
       "  (8): Linear(in_features=16, out_features=8, bias=True)\n",
       "  (9): ReLU()\n",
       "  (10): Linear(in_features=8, out_features=4, bias=True)\n",
       "  (11): ReLU()\n",
       "  (12): Linear(in_features=4, out_features=1, bias=True)\n",
       ")"
      ]
     },
     "execution_count": 25,
     "metadata": {},
     "output_type": "execute_result"
    },
    {
     "data": {
      "text/plain": [
       "Sequential(\n",
       "  (0): Linear(in_features=275, out_features=128, bias=True)\n",
       "  (1): ReLU()\n",
       "  (2): Linear(in_features=128, out_features=64, bias=True)\n",
       "  (3): ReLU()\n",
       "  (4): Linear(in_features=64, out_features=32, bias=True)\n",
       "  (5): ReLU()\n",
       "  (6): Linear(in_features=32, out_features=16, bias=True)\n",
       "  (7): ReLU()\n",
       "  (8): Linear(in_features=16, out_features=8, bias=True)\n",
       "  (9): ReLU()\n",
       "  (10): Linear(in_features=8, out_features=4, bias=True)\n",
       "  (11): ReLU()\n",
       "  (12): Linear(in_features=4, out_features=1, bias=True)\n",
       ")"
      ]
     },
     "execution_count": 25,
     "metadata": {},
     "output_type": "execute_result"
    },
    {
     "data": {
      "text/plain": [
       "Sequential(\n",
       "  (0): Linear(in_features=275, out_features=128, bias=True)\n",
       "  (1): ReLU()\n",
       "  (2): Linear(in_features=128, out_features=64, bias=True)\n",
       "  (3): ReLU()\n",
       "  (4): Linear(in_features=64, out_features=32, bias=True)\n",
       "  (5): ReLU()\n",
       "  (6): Linear(in_features=32, out_features=16, bias=True)\n",
       "  (7): ReLU()\n",
       "  (8): Linear(in_features=16, out_features=8, bias=True)\n",
       "  (9): ReLU()\n",
       "  (10): Linear(in_features=8, out_features=4, bias=True)\n",
       "  (11): ReLU()\n",
       "  (12): Linear(in_features=4, out_features=1, bias=True)\n",
       ")"
      ]
     },
     "execution_count": 25,
     "metadata": {},
     "output_type": "execute_result"
    },
    {
     "data": {
      "text/plain": [
       "Sequential(\n",
       "  (0): Linear(in_features=275, out_features=128, bias=True)\n",
       "  (1): ReLU()\n",
       "  (2): Linear(in_features=128, out_features=64, bias=True)\n",
       "  (3): ReLU()\n",
       "  (4): Linear(in_features=64, out_features=32, bias=True)\n",
       "  (5): ReLU()\n",
       "  (6): Linear(in_features=32, out_features=16, bias=True)\n",
       "  (7): ReLU()\n",
       "  (8): Linear(in_features=16, out_features=8, bias=True)\n",
       "  (9): ReLU()\n",
       "  (10): Linear(in_features=8, out_features=4, bias=True)\n",
       "  (11): ReLU()\n",
       "  (12): Linear(in_features=4, out_features=1, bias=True)\n",
       ")"
      ]
     },
     "execution_count": 25,
     "metadata": {},
     "output_type": "execute_result"
    },
    {
     "data": {
      "text/plain": [
       "Sequential(\n",
       "  (0): Linear(in_features=275, out_features=128, bias=True)\n",
       "  (1): ReLU()\n",
       "  (2): Linear(in_features=128, out_features=64, bias=True)\n",
       "  (3): ReLU()\n",
       "  (4): Linear(in_features=64, out_features=32, bias=True)\n",
       "  (5): ReLU()\n",
       "  (6): Linear(in_features=32, out_features=16, bias=True)\n",
       "  (7): ReLU()\n",
       "  (8): Linear(in_features=16, out_features=8, bias=True)\n",
       "  (9): ReLU()\n",
       "  (10): Linear(in_features=8, out_features=4, bias=True)\n",
       "  (11): ReLU()\n",
       "  (12): Linear(in_features=4, out_features=1, bias=True)\n",
       ")"
      ]
     },
     "execution_count": 25,
     "metadata": {},
     "output_type": "execute_result"
    },
    {
     "data": {
      "text/plain": [
       "Sequential(\n",
       "  (0): Linear(in_features=275, out_features=128, bias=True)\n",
       "  (1): ReLU()\n",
       "  (2): Linear(in_features=128, out_features=64, bias=True)\n",
       "  (3): ReLU()\n",
       "  (4): Linear(in_features=64, out_features=32, bias=True)\n",
       "  (5): ReLU()\n",
       "  (6): Linear(in_features=32, out_features=16, bias=True)\n",
       "  (7): ReLU()\n",
       "  (8): Linear(in_features=16, out_features=8, bias=True)\n",
       "  (9): ReLU()\n",
       "  (10): Linear(in_features=8, out_features=4, bias=True)\n",
       "  (11): ReLU()\n",
       "  (12): Linear(in_features=4, out_features=1, bias=True)\n",
       ")"
      ]
     },
     "execution_count": 25,
     "metadata": {},
     "output_type": "execute_result"
    },
    {
     "data": {
      "text/plain": [
       "Sequential(\n",
       "  (0): Linear(in_features=275, out_features=128, bias=True)\n",
       "  (1): ReLU()\n",
       "  (2): Linear(in_features=128, out_features=64, bias=True)\n",
       "  (3): ReLU()\n",
       "  (4): Linear(in_features=64, out_features=32, bias=True)\n",
       "  (5): ReLU()\n",
       "  (6): Linear(in_features=32, out_features=16, bias=True)\n",
       "  (7): ReLU()\n",
       "  (8): Linear(in_features=16, out_features=8, bias=True)\n",
       "  (9): ReLU()\n",
       "  (10): Linear(in_features=8, out_features=4, bias=True)\n",
       "  (11): ReLU()\n",
       "  (12): Linear(in_features=4, out_features=1, bias=True)\n",
       ")"
      ]
     },
     "execution_count": 25,
     "metadata": {},
     "output_type": "execute_result"
    },
    {
     "data": {
      "text/plain": [
       "Sequential(\n",
       "  (0): Linear(in_features=275, out_features=128, bias=True)\n",
       "  (1): ReLU()\n",
       "  (2): Linear(in_features=128, out_features=64, bias=True)\n",
       "  (3): ReLU()\n",
       "  (4): Linear(in_features=64, out_features=32, bias=True)\n",
       "  (5): ReLU()\n",
       "  (6): Linear(in_features=32, out_features=16, bias=True)\n",
       "  (7): ReLU()\n",
       "  (8): Linear(in_features=16, out_features=8, bias=True)\n",
       "  (9): ReLU()\n",
       "  (10): Linear(in_features=8, out_features=4, bias=True)\n",
       "  (11): ReLU()\n",
       "  (12): Linear(in_features=4, out_features=1, bias=True)\n",
       ")"
      ]
     },
     "execution_count": 25,
     "metadata": {},
     "output_type": "execute_result"
    },
    {
     "data": {
      "text/plain": [
       "Sequential(\n",
       "  (0): Linear(in_features=275, out_features=128, bias=True)\n",
       "  (1): ReLU()\n",
       "  (2): Linear(in_features=128, out_features=64, bias=True)\n",
       "  (3): ReLU()\n",
       "  (4): Linear(in_features=64, out_features=32, bias=True)\n",
       "  (5): ReLU()\n",
       "  (6): Linear(in_features=32, out_features=16, bias=True)\n",
       "  (7): ReLU()\n",
       "  (8): Linear(in_features=16, out_features=8, bias=True)\n",
       "  (9): ReLU()\n",
       "  (10): Linear(in_features=8, out_features=4, bias=True)\n",
       "  (11): ReLU()\n",
       "  (12): Linear(in_features=4, out_features=1, bias=True)\n",
       ")"
      ]
     },
     "execution_count": 25,
     "metadata": {},
     "output_type": "execute_result"
    },
    {
     "data": {
      "text/plain": [
       "Sequential(\n",
       "  (0): Linear(in_features=275, out_features=128, bias=True)\n",
       "  (1): ReLU()\n",
       "  (2): Linear(in_features=128, out_features=64, bias=True)\n",
       "  (3): ReLU()\n",
       "  (4): Linear(in_features=64, out_features=32, bias=True)\n",
       "  (5): ReLU()\n",
       "  (6): Linear(in_features=32, out_features=16, bias=True)\n",
       "  (7): ReLU()\n",
       "  (8): Linear(in_features=16, out_features=8, bias=True)\n",
       "  (9): ReLU()\n",
       "  (10): Linear(in_features=8, out_features=4, bias=True)\n",
       "  (11): ReLU()\n",
       "  (12): Linear(in_features=4, out_features=1, bias=True)\n",
       ")"
      ]
     },
     "execution_count": 25,
     "metadata": {},
     "output_type": "execute_result"
    },
    {
     "data": {
      "text/plain": [
       "Sequential(\n",
       "  (0): Linear(in_features=275, out_features=128, bias=True)\n",
       "  (1): ReLU()\n",
       "  (2): Linear(in_features=128, out_features=64, bias=True)\n",
       "  (3): ReLU()\n",
       "  (4): Linear(in_features=64, out_features=32, bias=True)\n",
       "  (5): ReLU()\n",
       "  (6): Linear(in_features=32, out_features=16, bias=True)\n",
       "  (7): ReLU()\n",
       "  (8): Linear(in_features=16, out_features=8, bias=True)\n",
       "  (9): ReLU()\n",
       "  (10): Linear(in_features=8, out_features=4, bias=True)\n",
       "  (11): ReLU()\n",
       "  (12): Linear(in_features=4, out_features=1, bias=True)\n",
       ")"
      ]
     },
     "execution_count": 25,
     "metadata": {},
     "output_type": "execute_result"
    },
    {
     "data": {
      "text/plain": [
       "Sequential(\n",
       "  (0): Linear(in_features=275, out_features=128, bias=True)\n",
       "  (1): ReLU()\n",
       "  (2): Linear(in_features=128, out_features=64, bias=True)\n",
       "  (3): ReLU()\n",
       "  (4): Linear(in_features=64, out_features=32, bias=True)\n",
       "  (5): ReLU()\n",
       "  (6): Linear(in_features=32, out_features=16, bias=True)\n",
       "  (7): ReLU()\n",
       "  (8): Linear(in_features=16, out_features=8, bias=True)\n",
       "  (9): ReLU()\n",
       "  (10): Linear(in_features=8, out_features=4, bias=True)\n",
       "  (11): ReLU()\n",
       "  (12): Linear(in_features=4, out_features=1, bias=True)\n",
       ")"
      ]
     },
     "execution_count": 25,
     "metadata": {},
     "output_type": "execute_result"
    },
    {
     "data": {
      "text/plain": [
       "Sequential(\n",
       "  (0): Linear(in_features=275, out_features=128, bias=True)\n",
       "  (1): ReLU()\n",
       "  (2): Linear(in_features=128, out_features=64, bias=True)\n",
       "  (3): ReLU()\n",
       "  (4): Linear(in_features=64, out_features=32, bias=True)\n",
       "  (5): ReLU()\n",
       "  (6): Linear(in_features=32, out_features=16, bias=True)\n",
       "  (7): ReLU()\n",
       "  (8): Linear(in_features=16, out_features=8, bias=True)\n",
       "  (9): ReLU()\n",
       "  (10): Linear(in_features=8, out_features=4, bias=True)\n",
       "  (11): ReLU()\n",
       "  (12): Linear(in_features=4, out_features=1, bias=True)\n",
       ")"
      ]
     },
     "execution_count": 25,
     "metadata": {},
     "output_type": "execute_result"
    },
    {
     "data": {
      "text/plain": [
       "Sequential(\n",
       "  (0): Linear(in_features=275, out_features=128, bias=True)\n",
       "  (1): ReLU()\n",
       "  (2): Linear(in_features=128, out_features=64, bias=True)\n",
       "  (3): ReLU()\n",
       "  (4): Linear(in_features=64, out_features=32, bias=True)\n",
       "  (5): ReLU()\n",
       "  (6): Linear(in_features=32, out_features=16, bias=True)\n",
       "  (7): ReLU()\n",
       "  (8): Linear(in_features=16, out_features=8, bias=True)\n",
       "  (9): ReLU()\n",
       "  (10): Linear(in_features=8, out_features=4, bias=True)\n",
       "  (11): ReLU()\n",
       "  (12): Linear(in_features=4, out_features=1, bias=True)\n",
       ")"
      ]
     },
     "execution_count": 25,
     "metadata": {},
     "output_type": "execute_result"
    },
    {
     "data": {
      "text/plain": [
       "Sequential(\n",
       "  (0): Linear(in_features=275, out_features=128, bias=True)\n",
       "  (1): ReLU()\n",
       "  (2): Linear(in_features=128, out_features=64, bias=True)\n",
       "  (3): ReLU()\n",
       "  (4): Linear(in_features=64, out_features=32, bias=True)\n",
       "  (5): ReLU()\n",
       "  (6): Linear(in_features=32, out_features=16, bias=True)\n",
       "  (7): ReLU()\n",
       "  (8): Linear(in_features=16, out_features=8, bias=True)\n",
       "  (9): ReLU()\n",
       "  (10): Linear(in_features=8, out_features=4, bias=True)\n",
       "  (11): ReLU()\n",
       "  (12): Linear(in_features=4, out_features=1, bias=True)\n",
       ")"
      ]
     },
     "execution_count": 25,
     "metadata": {},
     "output_type": "execute_result"
    },
    {
     "data": {
      "text/plain": [
       "Sequential(\n",
       "  (0): Linear(in_features=275, out_features=128, bias=True)\n",
       "  (1): ReLU()\n",
       "  (2): Linear(in_features=128, out_features=64, bias=True)\n",
       "  (3): ReLU()\n",
       "  (4): Linear(in_features=64, out_features=32, bias=True)\n",
       "  (5): ReLU()\n",
       "  (6): Linear(in_features=32, out_features=16, bias=True)\n",
       "  (7): ReLU()\n",
       "  (8): Linear(in_features=16, out_features=8, bias=True)\n",
       "  (9): ReLU()\n",
       "  (10): Linear(in_features=8, out_features=4, bias=True)\n",
       "  (11): ReLU()\n",
       "  (12): Linear(in_features=4, out_features=1, bias=True)\n",
       ")"
      ]
     },
     "execution_count": 25,
     "metadata": {},
     "output_type": "execute_result"
    },
    {
     "data": {
      "text/plain": [
       "Sequential(\n",
       "  (0): Linear(in_features=275, out_features=128, bias=True)\n",
       "  (1): ReLU()\n",
       "  (2): Linear(in_features=128, out_features=64, bias=True)\n",
       "  (3): ReLU()\n",
       "  (4): Linear(in_features=64, out_features=32, bias=True)\n",
       "  (5): ReLU()\n",
       "  (6): Linear(in_features=32, out_features=16, bias=True)\n",
       "  (7): ReLU()\n",
       "  (8): Linear(in_features=16, out_features=8, bias=True)\n",
       "  (9): ReLU()\n",
       "  (10): Linear(in_features=8, out_features=4, bias=True)\n",
       "  (11): ReLU()\n",
       "  (12): Linear(in_features=4, out_features=1, bias=True)\n",
       ")"
      ]
     },
     "execution_count": 25,
     "metadata": {},
     "output_type": "execute_result"
    },
    {
     "data": {
      "text/plain": [
       "Sequential(\n",
       "  (0): Linear(in_features=275, out_features=128, bias=True)\n",
       "  (1): ReLU()\n",
       "  (2): Linear(in_features=128, out_features=64, bias=True)\n",
       "  (3): ReLU()\n",
       "  (4): Linear(in_features=64, out_features=32, bias=True)\n",
       "  (5): ReLU()\n",
       "  (6): Linear(in_features=32, out_features=16, bias=True)\n",
       "  (7): ReLU()\n",
       "  (8): Linear(in_features=16, out_features=8, bias=True)\n",
       "  (9): ReLU()\n",
       "  (10): Linear(in_features=8, out_features=4, bias=True)\n",
       "  (11): ReLU()\n",
       "  (12): Linear(in_features=4, out_features=1, bias=True)\n",
       ")"
      ]
     },
     "execution_count": 25,
     "metadata": {},
     "output_type": "execute_result"
    },
    {
     "data": {
      "text/plain": [
       "Sequential(\n",
       "  (0): Linear(in_features=275, out_features=128, bias=True)\n",
       "  (1): ReLU()\n",
       "  (2): Linear(in_features=128, out_features=64, bias=True)\n",
       "  (3): ReLU()\n",
       "  (4): Linear(in_features=64, out_features=32, bias=True)\n",
       "  (5): ReLU()\n",
       "  (6): Linear(in_features=32, out_features=16, bias=True)\n",
       "  (7): ReLU()\n",
       "  (8): Linear(in_features=16, out_features=8, bias=True)\n",
       "  (9): ReLU()\n",
       "  (10): Linear(in_features=8, out_features=4, bias=True)\n",
       "  (11): ReLU()\n",
       "  (12): Linear(in_features=4, out_features=1, bias=True)\n",
       ")"
      ]
     },
     "execution_count": 25,
     "metadata": {},
     "output_type": "execute_result"
    },
    {
     "data": {
      "text/plain": [
       "Sequential(\n",
       "  (0): Linear(in_features=275, out_features=128, bias=True)\n",
       "  (1): ReLU()\n",
       "  (2): Linear(in_features=128, out_features=64, bias=True)\n",
       "  (3): ReLU()\n",
       "  (4): Linear(in_features=64, out_features=32, bias=True)\n",
       "  (5): ReLU()\n",
       "  (6): Linear(in_features=32, out_features=16, bias=True)\n",
       "  (7): ReLU()\n",
       "  (8): Linear(in_features=16, out_features=8, bias=True)\n",
       "  (9): ReLU()\n",
       "  (10): Linear(in_features=8, out_features=4, bias=True)\n",
       "  (11): ReLU()\n",
       "  (12): Linear(in_features=4, out_features=1, bias=True)\n",
       ")"
      ]
     },
     "execution_count": 25,
     "metadata": {},
     "output_type": "execute_result"
    },
    {
     "data": {
      "text/plain": [
       "Sequential(\n",
       "  (0): Linear(in_features=275, out_features=128, bias=True)\n",
       "  (1): ReLU()\n",
       "  (2): Linear(in_features=128, out_features=64, bias=True)\n",
       "  (3): ReLU()\n",
       "  (4): Linear(in_features=64, out_features=32, bias=True)\n",
       "  (5): ReLU()\n",
       "  (6): Linear(in_features=32, out_features=16, bias=True)\n",
       "  (7): ReLU()\n",
       "  (8): Linear(in_features=16, out_features=8, bias=True)\n",
       "  (9): ReLU()\n",
       "  (10): Linear(in_features=8, out_features=4, bias=True)\n",
       "  (11): ReLU()\n",
       "  (12): Linear(in_features=4, out_features=1, bias=True)\n",
       ")"
      ]
     },
     "execution_count": 25,
     "metadata": {},
     "output_type": "execute_result"
    },
    {
     "data": {
      "text/plain": [
       "Sequential(\n",
       "  (0): Linear(in_features=275, out_features=128, bias=True)\n",
       "  (1): ReLU()\n",
       "  (2): Linear(in_features=128, out_features=64, bias=True)\n",
       "  (3): ReLU()\n",
       "  (4): Linear(in_features=64, out_features=32, bias=True)\n",
       "  (5): ReLU()\n",
       "  (6): Linear(in_features=32, out_features=16, bias=True)\n",
       "  (7): ReLU()\n",
       "  (8): Linear(in_features=16, out_features=8, bias=True)\n",
       "  (9): ReLU()\n",
       "  (10): Linear(in_features=8, out_features=4, bias=True)\n",
       "  (11): ReLU()\n",
       "  (12): Linear(in_features=4, out_features=1, bias=True)\n",
       ")"
      ]
     },
     "execution_count": 25,
     "metadata": {},
     "output_type": "execute_result"
    },
    {
     "data": {
      "text/plain": [
       "Sequential(\n",
       "  (0): Linear(in_features=275, out_features=128, bias=True)\n",
       "  (1): ReLU()\n",
       "  (2): Linear(in_features=128, out_features=64, bias=True)\n",
       "  (3): ReLU()\n",
       "  (4): Linear(in_features=64, out_features=32, bias=True)\n",
       "  (5): ReLU()\n",
       "  (6): Linear(in_features=32, out_features=16, bias=True)\n",
       "  (7): ReLU()\n",
       "  (8): Linear(in_features=16, out_features=8, bias=True)\n",
       "  (9): ReLU()\n",
       "  (10): Linear(in_features=8, out_features=4, bias=True)\n",
       "  (11): ReLU()\n",
       "  (12): Linear(in_features=4, out_features=1, bias=True)\n",
       ")"
      ]
     },
     "execution_count": 25,
     "metadata": {},
     "output_type": "execute_result"
    },
    {
     "data": {
      "text/plain": [
       "Sequential(\n",
       "  (0): Linear(in_features=275, out_features=128, bias=True)\n",
       "  (1): ReLU()\n",
       "  (2): Linear(in_features=128, out_features=64, bias=True)\n",
       "  (3): ReLU()\n",
       "  (4): Linear(in_features=64, out_features=32, bias=True)\n",
       "  (5): ReLU()\n",
       "  (6): Linear(in_features=32, out_features=16, bias=True)\n",
       "  (7): ReLU()\n",
       "  (8): Linear(in_features=16, out_features=8, bias=True)\n",
       "  (9): ReLU()\n",
       "  (10): Linear(in_features=8, out_features=4, bias=True)\n",
       "  (11): ReLU()\n",
       "  (12): Linear(in_features=4, out_features=1, bias=True)\n",
       ")"
      ]
     },
     "execution_count": 25,
     "metadata": {},
     "output_type": "execute_result"
    },
    {
     "data": {
      "text/plain": [
       "Sequential(\n",
       "  (0): Linear(in_features=275, out_features=128, bias=True)\n",
       "  (1): ReLU()\n",
       "  (2): Linear(in_features=128, out_features=64, bias=True)\n",
       "  (3): ReLU()\n",
       "  (4): Linear(in_features=64, out_features=32, bias=True)\n",
       "  (5): ReLU()\n",
       "  (6): Linear(in_features=32, out_features=16, bias=True)\n",
       "  (7): ReLU()\n",
       "  (8): Linear(in_features=16, out_features=8, bias=True)\n",
       "  (9): ReLU()\n",
       "  (10): Linear(in_features=8, out_features=4, bias=True)\n",
       "  (11): ReLU()\n",
       "  (12): Linear(in_features=4, out_features=1, bias=True)\n",
       ")"
      ]
     },
     "execution_count": 25,
     "metadata": {},
     "output_type": "execute_result"
    },
    {
     "data": {
      "text/plain": [
       "Sequential(\n",
       "  (0): Linear(in_features=275, out_features=128, bias=True)\n",
       "  (1): ReLU()\n",
       "  (2): Linear(in_features=128, out_features=64, bias=True)\n",
       "  (3): ReLU()\n",
       "  (4): Linear(in_features=64, out_features=32, bias=True)\n",
       "  (5): ReLU()\n",
       "  (6): Linear(in_features=32, out_features=16, bias=True)\n",
       "  (7): ReLU()\n",
       "  (8): Linear(in_features=16, out_features=8, bias=True)\n",
       "  (9): ReLU()\n",
       "  (10): Linear(in_features=8, out_features=4, bias=True)\n",
       "  (11): ReLU()\n",
       "  (12): Linear(in_features=4, out_features=1, bias=True)\n",
       ")"
      ]
     },
     "execution_count": 25,
     "metadata": {},
     "output_type": "execute_result"
    },
    {
     "data": {
      "text/plain": [
       "Sequential(\n",
       "  (0): Linear(in_features=275, out_features=128, bias=True)\n",
       "  (1): ReLU()\n",
       "  (2): Linear(in_features=128, out_features=64, bias=True)\n",
       "  (3): ReLU()\n",
       "  (4): Linear(in_features=64, out_features=32, bias=True)\n",
       "  (5): ReLU()\n",
       "  (6): Linear(in_features=32, out_features=16, bias=True)\n",
       "  (7): ReLU()\n",
       "  (8): Linear(in_features=16, out_features=8, bias=True)\n",
       "  (9): ReLU()\n",
       "  (10): Linear(in_features=8, out_features=4, bias=True)\n",
       "  (11): ReLU()\n",
       "  (12): Linear(in_features=4, out_features=1, bias=True)\n",
       ")"
      ]
     },
     "execution_count": 25,
     "metadata": {},
     "output_type": "execute_result"
    },
    {
     "data": {
      "text/plain": [
       "Sequential(\n",
       "  (0): Linear(in_features=275, out_features=128, bias=True)\n",
       "  (1): ReLU()\n",
       "  (2): Linear(in_features=128, out_features=64, bias=True)\n",
       "  (3): ReLU()\n",
       "  (4): Linear(in_features=64, out_features=32, bias=True)\n",
       "  (5): ReLU()\n",
       "  (6): Linear(in_features=32, out_features=16, bias=True)\n",
       "  (7): ReLU()\n",
       "  (8): Linear(in_features=16, out_features=8, bias=True)\n",
       "  (9): ReLU()\n",
       "  (10): Linear(in_features=8, out_features=4, bias=True)\n",
       "  (11): ReLU()\n",
       "  (12): Linear(in_features=4, out_features=1, bias=True)\n",
       ")"
      ]
     },
     "execution_count": 25,
     "metadata": {},
     "output_type": "execute_result"
    },
    {
     "data": {
      "text/plain": [
       "Sequential(\n",
       "  (0): Linear(in_features=275, out_features=128, bias=True)\n",
       "  (1): ReLU()\n",
       "  (2): Linear(in_features=128, out_features=64, bias=True)\n",
       "  (3): ReLU()\n",
       "  (4): Linear(in_features=64, out_features=32, bias=True)\n",
       "  (5): ReLU()\n",
       "  (6): Linear(in_features=32, out_features=16, bias=True)\n",
       "  (7): ReLU()\n",
       "  (8): Linear(in_features=16, out_features=8, bias=True)\n",
       "  (9): ReLU()\n",
       "  (10): Linear(in_features=8, out_features=4, bias=True)\n",
       "  (11): ReLU()\n",
       "  (12): Linear(in_features=4, out_features=1, bias=True)\n",
       ")"
      ]
     },
     "execution_count": 25,
     "metadata": {},
     "output_type": "execute_result"
    },
    {
     "data": {
      "text/plain": [
       "Sequential(\n",
       "  (0): Linear(in_features=275, out_features=128, bias=True)\n",
       "  (1): ReLU()\n",
       "  (2): Linear(in_features=128, out_features=64, bias=True)\n",
       "  (3): ReLU()\n",
       "  (4): Linear(in_features=64, out_features=32, bias=True)\n",
       "  (5): ReLU()\n",
       "  (6): Linear(in_features=32, out_features=16, bias=True)\n",
       "  (7): ReLU()\n",
       "  (8): Linear(in_features=16, out_features=8, bias=True)\n",
       "  (9): ReLU()\n",
       "  (10): Linear(in_features=8, out_features=4, bias=True)\n",
       "  (11): ReLU()\n",
       "  (12): Linear(in_features=4, out_features=1, bias=True)\n",
       ")"
      ]
     },
     "execution_count": 25,
     "metadata": {},
     "output_type": "execute_result"
    },
    {
     "data": {
      "text/plain": [
       "Sequential(\n",
       "  (0): Linear(in_features=275, out_features=128, bias=True)\n",
       "  (1): ReLU()\n",
       "  (2): Linear(in_features=128, out_features=64, bias=True)\n",
       "  (3): ReLU()\n",
       "  (4): Linear(in_features=64, out_features=32, bias=True)\n",
       "  (5): ReLU()\n",
       "  (6): Linear(in_features=32, out_features=16, bias=True)\n",
       "  (7): ReLU()\n",
       "  (8): Linear(in_features=16, out_features=8, bias=True)\n",
       "  (9): ReLU()\n",
       "  (10): Linear(in_features=8, out_features=4, bias=True)\n",
       "  (11): ReLU()\n",
       "  (12): Linear(in_features=4, out_features=1, bias=True)\n",
       ")"
      ]
     },
     "execution_count": 25,
     "metadata": {},
     "output_type": "execute_result"
    },
    {
     "data": {
      "text/plain": [
       "Sequential(\n",
       "  (0): Linear(in_features=275, out_features=128, bias=True)\n",
       "  (1): ReLU()\n",
       "  (2): Linear(in_features=128, out_features=64, bias=True)\n",
       "  (3): ReLU()\n",
       "  (4): Linear(in_features=64, out_features=32, bias=True)\n",
       "  (5): ReLU()\n",
       "  (6): Linear(in_features=32, out_features=16, bias=True)\n",
       "  (7): ReLU()\n",
       "  (8): Linear(in_features=16, out_features=8, bias=True)\n",
       "  (9): ReLU()\n",
       "  (10): Linear(in_features=8, out_features=4, bias=True)\n",
       "  (11): ReLU()\n",
       "  (12): Linear(in_features=4, out_features=1, bias=True)\n",
       ")"
      ]
     },
     "execution_count": 25,
     "metadata": {},
     "output_type": "execute_result"
    },
    {
     "data": {
      "text/plain": [
       "Sequential(\n",
       "  (0): Linear(in_features=275, out_features=128, bias=True)\n",
       "  (1): ReLU()\n",
       "  (2): Linear(in_features=128, out_features=64, bias=True)\n",
       "  (3): ReLU()\n",
       "  (4): Linear(in_features=64, out_features=32, bias=True)\n",
       "  (5): ReLU()\n",
       "  (6): Linear(in_features=32, out_features=16, bias=True)\n",
       "  (7): ReLU()\n",
       "  (8): Linear(in_features=16, out_features=8, bias=True)\n",
       "  (9): ReLU()\n",
       "  (10): Linear(in_features=8, out_features=4, bias=True)\n",
       "  (11): ReLU()\n",
       "  (12): Linear(in_features=4, out_features=1, bias=True)\n",
       ")"
      ]
     },
     "execution_count": 25,
     "metadata": {},
     "output_type": "execute_result"
    },
    {
     "data": {
      "text/plain": [
       "Sequential(\n",
       "  (0): Linear(in_features=275, out_features=128, bias=True)\n",
       "  (1): ReLU()\n",
       "  (2): Linear(in_features=128, out_features=64, bias=True)\n",
       "  (3): ReLU()\n",
       "  (4): Linear(in_features=64, out_features=32, bias=True)\n",
       "  (5): ReLU()\n",
       "  (6): Linear(in_features=32, out_features=16, bias=True)\n",
       "  (7): ReLU()\n",
       "  (8): Linear(in_features=16, out_features=8, bias=True)\n",
       "  (9): ReLU()\n",
       "  (10): Linear(in_features=8, out_features=4, bias=True)\n",
       "  (11): ReLU()\n",
       "  (12): Linear(in_features=4, out_features=1, bias=True)\n",
       ")"
      ]
     },
     "execution_count": 25,
     "metadata": {},
     "output_type": "execute_result"
    },
    {
     "data": {
      "text/plain": [
       "Sequential(\n",
       "  (0): Linear(in_features=275, out_features=128, bias=True)\n",
       "  (1): ReLU()\n",
       "  (2): Linear(in_features=128, out_features=64, bias=True)\n",
       "  (3): ReLU()\n",
       "  (4): Linear(in_features=64, out_features=32, bias=True)\n",
       "  (5): ReLU()\n",
       "  (6): Linear(in_features=32, out_features=16, bias=True)\n",
       "  (7): ReLU()\n",
       "  (8): Linear(in_features=16, out_features=8, bias=True)\n",
       "  (9): ReLU()\n",
       "  (10): Linear(in_features=8, out_features=4, bias=True)\n",
       "  (11): ReLU()\n",
       "  (12): Linear(in_features=4, out_features=1, bias=True)\n",
       ")"
      ]
     },
     "execution_count": 25,
     "metadata": {},
     "output_type": "execute_result"
    },
    {
     "data": {
      "text/plain": [
       "Sequential(\n",
       "  (0): Linear(in_features=275, out_features=128, bias=True)\n",
       "  (1): ReLU()\n",
       "  (2): Linear(in_features=128, out_features=64, bias=True)\n",
       "  (3): ReLU()\n",
       "  (4): Linear(in_features=64, out_features=32, bias=True)\n",
       "  (5): ReLU()\n",
       "  (6): Linear(in_features=32, out_features=16, bias=True)\n",
       "  (7): ReLU()\n",
       "  (8): Linear(in_features=16, out_features=8, bias=True)\n",
       "  (9): ReLU()\n",
       "  (10): Linear(in_features=8, out_features=4, bias=True)\n",
       "  (11): ReLU()\n",
       "  (12): Linear(in_features=4, out_features=1, bias=True)\n",
       ")"
      ]
     },
     "execution_count": 25,
     "metadata": {},
     "output_type": "execute_result"
    },
    {
     "data": {
      "text/plain": [
       "Sequential(\n",
       "  (0): Linear(in_features=275, out_features=128, bias=True)\n",
       "  (1): ReLU()\n",
       "  (2): Linear(in_features=128, out_features=64, bias=True)\n",
       "  (3): ReLU()\n",
       "  (4): Linear(in_features=64, out_features=32, bias=True)\n",
       "  (5): ReLU()\n",
       "  (6): Linear(in_features=32, out_features=16, bias=True)\n",
       "  (7): ReLU()\n",
       "  (8): Linear(in_features=16, out_features=8, bias=True)\n",
       "  (9): ReLU()\n",
       "  (10): Linear(in_features=8, out_features=4, bias=True)\n",
       "  (11): ReLU()\n",
       "  (12): Linear(in_features=4, out_features=1, bias=True)\n",
       ")"
      ]
     },
     "execution_count": 25,
     "metadata": {},
     "output_type": "execute_result"
    },
    {
     "data": {
      "text/plain": [
       "Sequential(\n",
       "  (0): Linear(in_features=275, out_features=128, bias=True)\n",
       "  (1): ReLU()\n",
       "  (2): Linear(in_features=128, out_features=64, bias=True)\n",
       "  (3): ReLU()\n",
       "  (4): Linear(in_features=64, out_features=32, bias=True)\n",
       "  (5): ReLU()\n",
       "  (6): Linear(in_features=32, out_features=16, bias=True)\n",
       "  (7): ReLU()\n",
       "  (8): Linear(in_features=16, out_features=8, bias=True)\n",
       "  (9): ReLU()\n",
       "  (10): Linear(in_features=8, out_features=4, bias=True)\n",
       "  (11): ReLU()\n",
       "  (12): Linear(in_features=4, out_features=1, bias=True)\n",
       ")"
      ]
     },
     "execution_count": 25,
     "metadata": {},
     "output_type": "execute_result"
    },
    {
     "data": {
      "text/plain": [
       "Sequential(\n",
       "  (0): Linear(in_features=275, out_features=128, bias=True)\n",
       "  (1): ReLU()\n",
       "  (2): Linear(in_features=128, out_features=64, bias=True)\n",
       "  (3): ReLU()\n",
       "  (4): Linear(in_features=64, out_features=32, bias=True)\n",
       "  (5): ReLU()\n",
       "  (6): Linear(in_features=32, out_features=16, bias=True)\n",
       "  (7): ReLU()\n",
       "  (8): Linear(in_features=16, out_features=8, bias=True)\n",
       "  (9): ReLU()\n",
       "  (10): Linear(in_features=8, out_features=4, bias=True)\n",
       "  (11): ReLU()\n",
       "  (12): Linear(in_features=4, out_features=1, bias=True)\n",
       ")"
      ]
     },
     "execution_count": 25,
     "metadata": {},
     "output_type": "execute_result"
    },
    {
     "data": {
      "text/plain": [
       "Sequential(\n",
       "  (0): Linear(in_features=275, out_features=128, bias=True)\n",
       "  (1): ReLU()\n",
       "  (2): Linear(in_features=128, out_features=64, bias=True)\n",
       "  (3): ReLU()\n",
       "  (4): Linear(in_features=64, out_features=32, bias=True)\n",
       "  (5): ReLU()\n",
       "  (6): Linear(in_features=32, out_features=16, bias=True)\n",
       "  (7): ReLU()\n",
       "  (8): Linear(in_features=16, out_features=8, bias=True)\n",
       "  (9): ReLU()\n",
       "  (10): Linear(in_features=8, out_features=4, bias=True)\n",
       "  (11): ReLU()\n",
       "  (12): Linear(in_features=4, out_features=1, bias=True)\n",
       ")"
      ]
     },
     "execution_count": 25,
     "metadata": {},
     "output_type": "execute_result"
    },
    {
     "data": {
      "text/plain": [
       "Sequential(\n",
       "  (0): Linear(in_features=275, out_features=128, bias=True)\n",
       "  (1): ReLU()\n",
       "  (2): Linear(in_features=128, out_features=64, bias=True)\n",
       "  (3): ReLU()\n",
       "  (4): Linear(in_features=64, out_features=32, bias=True)\n",
       "  (5): ReLU()\n",
       "  (6): Linear(in_features=32, out_features=16, bias=True)\n",
       "  (7): ReLU()\n",
       "  (8): Linear(in_features=16, out_features=8, bias=True)\n",
       "  (9): ReLU()\n",
       "  (10): Linear(in_features=8, out_features=4, bias=True)\n",
       "  (11): ReLU()\n",
       "  (12): Linear(in_features=4, out_features=1, bias=True)\n",
       ")"
      ]
     },
     "execution_count": 25,
     "metadata": {},
     "output_type": "execute_result"
    },
    {
     "data": {
      "text/plain": [
       "Sequential(\n",
       "  (0): Linear(in_features=275, out_features=128, bias=True)\n",
       "  (1): ReLU()\n",
       "  (2): Linear(in_features=128, out_features=64, bias=True)\n",
       "  (3): ReLU()\n",
       "  (4): Linear(in_features=64, out_features=32, bias=True)\n",
       "  (5): ReLU()\n",
       "  (6): Linear(in_features=32, out_features=16, bias=True)\n",
       "  (7): ReLU()\n",
       "  (8): Linear(in_features=16, out_features=8, bias=True)\n",
       "  (9): ReLU()\n",
       "  (10): Linear(in_features=8, out_features=4, bias=True)\n",
       "  (11): ReLU()\n",
       "  (12): Linear(in_features=4, out_features=1, bias=True)\n",
       ")"
      ]
     },
     "execution_count": 25,
     "metadata": {},
     "output_type": "execute_result"
    },
    {
     "data": {
      "text/plain": [
       "Sequential(\n",
       "  (0): Linear(in_features=275, out_features=128, bias=True)\n",
       "  (1): ReLU()\n",
       "  (2): Linear(in_features=128, out_features=64, bias=True)\n",
       "  (3): ReLU()\n",
       "  (4): Linear(in_features=64, out_features=32, bias=True)\n",
       "  (5): ReLU()\n",
       "  (6): Linear(in_features=32, out_features=16, bias=True)\n",
       "  (7): ReLU()\n",
       "  (8): Linear(in_features=16, out_features=8, bias=True)\n",
       "  (9): ReLU()\n",
       "  (10): Linear(in_features=8, out_features=4, bias=True)\n",
       "  (11): ReLU()\n",
       "  (12): Linear(in_features=4, out_features=1, bias=True)\n",
       ")"
      ]
     },
     "execution_count": 25,
     "metadata": {},
     "output_type": "execute_result"
    },
    {
     "data": {
      "text/plain": [
       "Sequential(\n",
       "  (0): Linear(in_features=275, out_features=128, bias=True)\n",
       "  (1): ReLU()\n",
       "  (2): Linear(in_features=128, out_features=64, bias=True)\n",
       "  (3): ReLU()\n",
       "  (4): Linear(in_features=64, out_features=32, bias=True)\n",
       "  (5): ReLU()\n",
       "  (6): Linear(in_features=32, out_features=16, bias=True)\n",
       "  (7): ReLU()\n",
       "  (8): Linear(in_features=16, out_features=8, bias=True)\n",
       "  (9): ReLU()\n",
       "  (10): Linear(in_features=8, out_features=4, bias=True)\n",
       "  (11): ReLU()\n",
       "  (12): Linear(in_features=4, out_features=1, bias=True)\n",
       ")"
      ]
     },
     "execution_count": 25,
     "metadata": {},
     "output_type": "execute_result"
    },
    {
     "data": {
      "text/plain": [
       "Sequential(\n",
       "  (0): Linear(in_features=275, out_features=128, bias=True)\n",
       "  (1): ReLU()\n",
       "  (2): Linear(in_features=128, out_features=64, bias=True)\n",
       "  (3): ReLU()\n",
       "  (4): Linear(in_features=64, out_features=32, bias=True)\n",
       "  (5): ReLU()\n",
       "  (6): Linear(in_features=32, out_features=16, bias=True)\n",
       "  (7): ReLU()\n",
       "  (8): Linear(in_features=16, out_features=8, bias=True)\n",
       "  (9): ReLU()\n",
       "  (10): Linear(in_features=8, out_features=4, bias=True)\n",
       "  (11): ReLU()\n",
       "  (12): Linear(in_features=4, out_features=1, bias=True)\n",
       ")"
      ]
     },
     "execution_count": 25,
     "metadata": {},
     "output_type": "execute_result"
    },
    {
     "data": {
      "text/plain": [
       "Sequential(\n",
       "  (0): Linear(in_features=275, out_features=128, bias=True)\n",
       "  (1): ReLU()\n",
       "  (2): Linear(in_features=128, out_features=64, bias=True)\n",
       "  (3): ReLU()\n",
       "  (4): Linear(in_features=64, out_features=32, bias=True)\n",
       "  (5): ReLU()\n",
       "  (6): Linear(in_features=32, out_features=16, bias=True)\n",
       "  (7): ReLU()\n",
       "  (8): Linear(in_features=16, out_features=8, bias=True)\n",
       "  (9): ReLU()\n",
       "  (10): Linear(in_features=8, out_features=4, bias=True)\n",
       "  (11): ReLU()\n",
       "  (12): Linear(in_features=4, out_features=1, bias=True)\n",
       ")"
      ]
     },
     "execution_count": 25,
     "metadata": {},
     "output_type": "execute_result"
    },
    {
     "data": {
      "text/plain": [
       "Sequential(\n",
       "  (0): Linear(in_features=275, out_features=128, bias=True)\n",
       "  (1): ReLU()\n",
       "  (2): Linear(in_features=128, out_features=64, bias=True)\n",
       "  (3): ReLU()\n",
       "  (4): Linear(in_features=64, out_features=32, bias=True)\n",
       "  (5): ReLU()\n",
       "  (6): Linear(in_features=32, out_features=16, bias=True)\n",
       "  (7): ReLU()\n",
       "  (8): Linear(in_features=16, out_features=8, bias=True)\n",
       "  (9): ReLU()\n",
       "  (10): Linear(in_features=8, out_features=4, bias=True)\n",
       "  (11): ReLU()\n",
       "  (12): Linear(in_features=4, out_features=1, bias=True)\n",
       ")"
      ]
     },
     "execution_count": 25,
     "metadata": {},
     "output_type": "execute_result"
    },
    {
     "data": {
      "text/plain": [
       "Sequential(\n",
       "  (0): Linear(in_features=275, out_features=128, bias=True)\n",
       "  (1): ReLU()\n",
       "  (2): Linear(in_features=128, out_features=64, bias=True)\n",
       "  (3): ReLU()\n",
       "  (4): Linear(in_features=64, out_features=32, bias=True)\n",
       "  (5): ReLU()\n",
       "  (6): Linear(in_features=32, out_features=16, bias=True)\n",
       "  (7): ReLU()\n",
       "  (8): Linear(in_features=16, out_features=8, bias=True)\n",
       "  (9): ReLU()\n",
       "  (10): Linear(in_features=8, out_features=4, bias=True)\n",
       "  (11): ReLU()\n",
       "  (12): Linear(in_features=4, out_features=1, bias=True)\n",
       ")"
      ]
     },
     "execution_count": 25,
     "metadata": {},
     "output_type": "execute_result"
    },
    {
     "data": {
      "text/plain": [
       "Sequential(\n",
       "  (0): Linear(in_features=275, out_features=128, bias=True)\n",
       "  (1): ReLU()\n",
       "  (2): Linear(in_features=128, out_features=64, bias=True)\n",
       "  (3): ReLU()\n",
       "  (4): Linear(in_features=64, out_features=32, bias=True)\n",
       "  (5): ReLU()\n",
       "  (6): Linear(in_features=32, out_features=16, bias=True)\n",
       "  (7): ReLU()\n",
       "  (8): Linear(in_features=16, out_features=8, bias=True)\n",
       "  (9): ReLU()\n",
       "  (10): Linear(in_features=8, out_features=4, bias=True)\n",
       "  (11): ReLU()\n",
       "  (12): Linear(in_features=4, out_features=1, bias=True)\n",
       ")"
      ]
     },
     "execution_count": 25,
     "metadata": {},
     "output_type": "execute_result"
    },
    {
     "data": {
      "text/plain": [
       "Sequential(\n",
       "  (0): Linear(in_features=275, out_features=128, bias=True)\n",
       "  (1): ReLU()\n",
       "  (2): Linear(in_features=128, out_features=64, bias=True)\n",
       "  (3): ReLU()\n",
       "  (4): Linear(in_features=64, out_features=32, bias=True)\n",
       "  (5): ReLU()\n",
       "  (6): Linear(in_features=32, out_features=16, bias=True)\n",
       "  (7): ReLU()\n",
       "  (8): Linear(in_features=16, out_features=8, bias=True)\n",
       "  (9): ReLU()\n",
       "  (10): Linear(in_features=8, out_features=4, bias=True)\n",
       "  (11): ReLU()\n",
       "  (12): Linear(in_features=4, out_features=1, bias=True)\n",
       ")"
      ]
     },
     "execution_count": 25,
     "metadata": {},
     "output_type": "execute_result"
    },
    {
     "data": {
      "text/plain": [
       "Sequential(\n",
       "  (0): Linear(in_features=275, out_features=128, bias=True)\n",
       "  (1): ReLU()\n",
       "  (2): Linear(in_features=128, out_features=64, bias=True)\n",
       "  (3): ReLU()\n",
       "  (4): Linear(in_features=64, out_features=32, bias=True)\n",
       "  (5): ReLU()\n",
       "  (6): Linear(in_features=32, out_features=16, bias=True)\n",
       "  (7): ReLU()\n",
       "  (8): Linear(in_features=16, out_features=8, bias=True)\n",
       "  (9): ReLU()\n",
       "  (10): Linear(in_features=8, out_features=4, bias=True)\n",
       "  (11): ReLU()\n",
       "  (12): Linear(in_features=4, out_features=1, bias=True)\n",
       ")"
      ]
     },
     "execution_count": 25,
     "metadata": {},
     "output_type": "execute_result"
    },
    {
     "data": {
      "text/plain": [
       "Sequential(\n",
       "  (0): Linear(in_features=275, out_features=128, bias=True)\n",
       "  (1): ReLU()\n",
       "  (2): Linear(in_features=128, out_features=64, bias=True)\n",
       "  (3): ReLU()\n",
       "  (4): Linear(in_features=64, out_features=32, bias=True)\n",
       "  (5): ReLU()\n",
       "  (6): Linear(in_features=32, out_features=16, bias=True)\n",
       "  (7): ReLU()\n",
       "  (8): Linear(in_features=16, out_features=8, bias=True)\n",
       "  (9): ReLU()\n",
       "  (10): Linear(in_features=8, out_features=4, bias=True)\n",
       "  (11): ReLU()\n",
       "  (12): Linear(in_features=4, out_features=1, bias=True)\n",
       ")"
      ]
     },
     "execution_count": 25,
     "metadata": {},
     "output_type": "execute_result"
    },
    {
     "data": {
      "text/plain": [
       "Sequential(\n",
       "  (0): Linear(in_features=275, out_features=128, bias=True)\n",
       "  (1): ReLU()\n",
       "  (2): Linear(in_features=128, out_features=64, bias=True)\n",
       "  (3): ReLU()\n",
       "  (4): Linear(in_features=64, out_features=32, bias=True)\n",
       "  (5): ReLU()\n",
       "  (6): Linear(in_features=32, out_features=16, bias=True)\n",
       "  (7): ReLU()\n",
       "  (8): Linear(in_features=16, out_features=8, bias=True)\n",
       "  (9): ReLU()\n",
       "  (10): Linear(in_features=8, out_features=4, bias=True)\n",
       "  (11): ReLU()\n",
       "  (12): Linear(in_features=4, out_features=1, bias=True)\n",
       ")"
      ]
     },
     "execution_count": 25,
     "metadata": {},
     "output_type": "execute_result"
    },
    {
     "data": {
      "text/plain": [
       "Sequential(\n",
       "  (0): Linear(in_features=275, out_features=128, bias=True)\n",
       "  (1): ReLU()\n",
       "  (2): Linear(in_features=128, out_features=64, bias=True)\n",
       "  (3): ReLU()\n",
       "  (4): Linear(in_features=64, out_features=32, bias=True)\n",
       "  (5): ReLU()\n",
       "  (6): Linear(in_features=32, out_features=16, bias=True)\n",
       "  (7): ReLU()\n",
       "  (8): Linear(in_features=16, out_features=8, bias=True)\n",
       "  (9): ReLU()\n",
       "  (10): Linear(in_features=8, out_features=4, bias=True)\n",
       "  (11): ReLU()\n",
       "  (12): Linear(in_features=4, out_features=1, bias=True)\n",
       ")"
      ]
     },
     "execution_count": 25,
     "metadata": {},
     "output_type": "execute_result"
    },
    {
     "data": {
      "text/plain": [
       "Sequential(\n",
       "  (0): Linear(in_features=275, out_features=128, bias=True)\n",
       "  (1): ReLU()\n",
       "  (2): Linear(in_features=128, out_features=64, bias=True)\n",
       "  (3): ReLU()\n",
       "  (4): Linear(in_features=64, out_features=32, bias=True)\n",
       "  (5): ReLU()\n",
       "  (6): Linear(in_features=32, out_features=16, bias=True)\n",
       "  (7): ReLU()\n",
       "  (8): Linear(in_features=16, out_features=8, bias=True)\n",
       "  (9): ReLU()\n",
       "  (10): Linear(in_features=8, out_features=4, bias=True)\n",
       "  (11): ReLU()\n",
       "  (12): Linear(in_features=4, out_features=1, bias=True)\n",
       ")"
      ]
     },
     "execution_count": 25,
     "metadata": {},
     "output_type": "execute_result"
    },
    {
     "data": {
      "text/plain": [
       "Sequential(\n",
       "  (0): Linear(in_features=275, out_features=128, bias=True)\n",
       "  (1): ReLU()\n",
       "  (2): Linear(in_features=128, out_features=64, bias=True)\n",
       "  (3): ReLU()\n",
       "  (4): Linear(in_features=64, out_features=32, bias=True)\n",
       "  (5): ReLU()\n",
       "  (6): Linear(in_features=32, out_features=16, bias=True)\n",
       "  (7): ReLU()\n",
       "  (8): Linear(in_features=16, out_features=8, bias=True)\n",
       "  (9): ReLU()\n",
       "  (10): Linear(in_features=8, out_features=4, bias=True)\n",
       "  (11): ReLU()\n",
       "  (12): Linear(in_features=4, out_features=1, bias=True)\n",
       ")"
      ]
     },
     "execution_count": 25,
     "metadata": {},
     "output_type": "execute_result"
    },
    {
     "data": {
      "text/plain": [
       "Sequential(\n",
       "  (0): Linear(in_features=275, out_features=128, bias=True)\n",
       "  (1): ReLU()\n",
       "  (2): Linear(in_features=128, out_features=64, bias=True)\n",
       "  (3): ReLU()\n",
       "  (4): Linear(in_features=64, out_features=32, bias=True)\n",
       "  (5): ReLU()\n",
       "  (6): Linear(in_features=32, out_features=16, bias=True)\n",
       "  (7): ReLU()\n",
       "  (8): Linear(in_features=16, out_features=8, bias=True)\n",
       "  (9): ReLU()\n",
       "  (10): Linear(in_features=8, out_features=4, bias=True)\n",
       "  (11): ReLU()\n",
       "  (12): Linear(in_features=4, out_features=1, bias=True)\n",
       ")"
      ]
     },
     "execution_count": 25,
     "metadata": {},
     "output_type": "execute_result"
    },
    {
     "data": {
      "text/plain": [
       "Sequential(\n",
       "  (0): Linear(in_features=275, out_features=128, bias=True)\n",
       "  (1): ReLU()\n",
       "  (2): Linear(in_features=128, out_features=64, bias=True)\n",
       "  (3): ReLU()\n",
       "  (4): Linear(in_features=64, out_features=32, bias=True)\n",
       "  (5): ReLU()\n",
       "  (6): Linear(in_features=32, out_features=16, bias=True)\n",
       "  (7): ReLU()\n",
       "  (8): Linear(in_features=16, out_features=8, bias=True)\n",
       "  (9): ReLU()\n",
       "  (10): Linear(in_features=8, out_features=4, bias=True)\n",
       "  (11): ReLU()\n",
       "  (12): Linear(in_features=4, out_features=1, bias=True)\n",
       ")"
      ]
     },
     "execution_count": 25,
     "metadata": {},
     "output_type": "execute_result"
    },
    {
     "data": {
      "text/plain": [
       "Sequential(\n",
       "  (0): Linear(in_features=275, out_features=128, bias=True)\n",
       "  (1): ReLU()\n",
       "  (2): Linear(in_features=128, out_features=64, bias=True)\n",
       "  (3): ReLU()\n",
       "  (4): Linear(in_features=64, out_features=32, bias=True)\n",
       "  (5): ReLU()\n",
       "  (6): Linear(in_features=32, out_features=16, bias=True)\n",
       "  (7): ReLU()\n",
       "  (8): Linear(in_features=16, out_features=8, bias=True)\n",
       "  (9): ReLU()\n",
       "  (10): Linear(in_features=8, out_features=4, bias=True)\n",
       "  (11): ReLU()\n",
       "  (12): Linear(in_features=4, out_features=1, bias=True)\n",
       ")"
      ]
     },
     "execution_count": 25,
     "metadata": {},
     "output_type": "execute_result"
    },
    {
     "data": {
      "text/plain": [
       "Sequential(\n",
       "  (0): Linear(in_features=275, out_features=128, bias=True)\n",
       "  (1): ReLU()\n",
       "  (2): Linear(in_features=128, out_features=64, bias=True)\n",
       "  (3): ReLU()\n",
       "  (4): Linear(in_features=64, out_features=32, bias=True)\n",
       "  (5): ReLU()\n",
       "  (6): Linear(in_features=32, out_features=16, bias=True)\n",
       "  (7): ReLU()\n",
       "  (8): Linear(in_features=16, out_features=8, bias=True)\n",
       "  (9): ReLU()\n",
       "  (10): Linear(in_features=8, out_features=4, bias=True)\n",
       "  (11): ReLU()\n",
       "  (12): Linear(in_features=4, out_features=1, bias=True)\n",
       ")"
      ]
     },
     "execution_count": 25,
     "metadata": {},
     "output_type": "execute_result"
    },
    {
     "data": {
      "text/plain": [
       "Sequential(\n",
       "  (0): Linear(in_features=275, out_features=128, bias=True)\n",
       "  (1): ReLU()\n",
       "  (2): Linear(in_features=128, out_features=64, bias=True)\n",
       "  (3): ReLU()\n",
       "  (4): Linear(in_features=64, out_features=32, bias=True)\n",
       "  (5): ReLU()\n",
       "  (6): Linear(in_features=32, out_features=16, bias=True)\n",
       "  (7): ReLU()\n",
       "  (8): Linear(in_features=16, out_features=8, bias=True)\n",
       "  (9): ReLU()\n",
       "  (10): Linear(in_features=8, out_features=4, bias=True)\n",
       "  (11): ReLU()\n",
       "  (12): Linear(in_features=4, out_features=1, bias=True)\n",
       ")"
      ]
     },
     "execution_count": 25,
     "metadata": {},
     "output_type": "execute_result"
    },
    {
     "data": {
      "text/plain": [
       "Sequential(\n",
       "  (0): Linear(in_features=275, out_features=128, bias=True)\n",
       "  (1): ReLU()\n",
       "  (2): Linear(in_features=128, out_features=64, bias=True)\n",
       "  (3): ReLU()\n",
       "  (4): Linear(in_features=64, out_features=32, bias=True)\n",
       "  (5): ReLU()\n",
       "  (6): Linear(in_features=32, out_features=16, bias=True)\n",
       "  (7): ReLU()\n",
       "  (8): Linear(in_features=16, out_features=8, bias=True)\n",
       "  (9): ReLU()\n",
       "  (10): Linear(in_features=8, out_features=4, bias=True)\n",
       "  (11): ReLU()\n",
       "  (12): Linear(in_features=4, out_features=1, bias=True)\n",
       ")"
      ]
     },
     "execution_count": 25,
     "metadata": {},
     "output_type": "execute_result"
    },
    {
     "data": {
      "text/plain": [
       "Sequential(\n",
       "  (0): Linear(in_features=275, out_features=128, bias=True)\n",
       "  (1): ReLU()\n",
       "  (2): Linear(in_features=128, out_features=64, bias=True)\n",
       "  (3): ReLU()\n",
       "  (4): Linear(in_features=64, out_features=32, bias=True)\n",
       "  (5): ReLU()\n",
       "  (6): Linear(in_features=32, out_features=16, bias=True)\n",
       "  (7): ReLU()\n",
       "  (8): Linear(in_features=16, out_features=8, bias=True)\n",
       "  (9): ReLU()\n",
       "  (10): Linear(in_features=8, out_features=4, bias=True)\n",
       "  (11): ReLU()\n",
       "  (12): Linear(in_features=4, out_features=1, bias=True)\n",
       ")"
      ]
     },
     "execution_count": 25,
     "metadata": {},
     "output_type": "execute_result"
    },
    {
     "data": {
      "text/plain": [
       "Sequential(\n",
       "  (0): Linear(in_features=275, out_features=128, bias=True)\n",
       "  (1): ReLU()\n",
       "  (2): Linear(in_features=128, out_features=64, bias=True)\n",
       "  (3): ReLU()\n",
       "  (4): Linear(in_features=64, out_features=32, bias=True)\n",
       "  (5): ReLU()\n",
       "  (6): Linear(in_features=32, out_features=16, bias=True)\n",
       "  (7): ReLU()\n",
       "  (8): Linear(in_features=16, out_features=8, bias=True)\n",
       "  (9): ReLU()\n",
       "  (10): Linear(in_features=8, out_features=4, bias=True)\n",
       "  (11): ReLU()\n",
       "  (12): Linear(in_features=4, out_features=1, bias=True)\n",
       ")"
      ]
     },
     "execution_count": 25,
     "metadata": {},
     "output_type": "execute_result"
    },
    {
     "data": {
      "text/plain": [
       "Sequential(\n",
       "  (0): Linear(in_features=275, out_features=128, bias=True)\n",
       "  (1): ReLU()\n",
       "  (2): Linear(in_features=128, out_features=64, bias=True)\n",
       "  (3): ReLU()\n",
       "  (4): Linear(in_features=64, out_features=32, bias=True)\n",
       "  (5): ReLU()\n",
       "  (6): Linear(in_features=32, out_features=16, bias=True)\n",
       "  (7): ReLU()\n",
       "  (8): Linear(in_features=16, out_features=8, bias=True)\n",
       "  (9): ReLU()\n",
       "  (10): Linear(in_features=8, out_features=4, bias=True)\n",
       "  (11): ReLU()\n",
       "  (12): Linear(in_features=4, out_features=1, bias=True)\n",
       ")"
      ]
     },
     "execution_count": 25,
     "metadata": {},
     "output_type": "execute_result"
    },
    {
     "data": {
      "text/plain": [
       "Sequential(\n",
       "  (0): Linear(in_features=275, out_features=128, bias=True)\n",
       "  (1): ReLU()\n",
       "  (2): Linear(in_features=128, out_features=64, bias=True)\n",
       "  (3): ReLU()\n",
       "  (4): Linear(in_features=64, out_features=32, bias=True)\n",
       "  (5): ReLU()\n",
       "  (6): Linear(in_features=32, out_features=16, bias=True)\n",
       "  (7): ReLU()\n",
       "  (8): Linear(in_features=16, out_features=8, bias=True)\n",
       "  (9): ReLU()\n",
       "  (10): Linear(in_features=8, out_features=4, bias=True)\n",
       "  (11): ReLU()\n",
       "  (12): Linear(in_features=4, out_features=1, bias=True)\n",
       ")"
      ]
     },
     "execution_count": 25,
     "metadata": {},
     "output_type": "execute_result"
    },
    {
     "data": {
      "text/plain": [
       "Sequential(\n",
       "  (0): Linear(in_features=275, out_features=128, bias=True)\n",
       "  (1): ReLU()\n",
       "  (2): Linear(in_features=128, out_features=64, bias=True)\n",
       "  (3): ReLU()\n",
       "  (4): Linear(in_features=64, out_features=32, bias=True)\n",
       "  (5): ReLU()\n",
       "  (6): Linear(in_features=32, out_features=16, bias=True)\n",
       "  (7): ReLU()\n",
       "  (8): Linear(in_features=16, out_features=8, bias=True)\n",
       "  (9): ReLU()\n",
       "  (10): Linear(in_features=8, out_features=4, bias=True)\n",
       "  (11): ReLU()\n",
       "  (12): Linear(in_features=4, out_features=1, bias=True)\n",
       ")"
      ]
     },
     "execution_count": 25,
     "metadata": {},
     "output_type": "execute_result"
    },
    {
     "data": {
      "text/plain": [
       "Sequential(\n",
       "  (0): Linear(in_features=275, out_features=128, bias=True)\n",
       "  (1): ReLU()\n",
       "  (2): Linear(in_features=128, out_features=64, bias=True)\n",
       "  (3): ReLU()\n",
       "  (4): Linear(in_features=64, out_features=32, bias=True)\n",
       "  (5): ReLU()\n",
       "  (6): Linear(in_features=32, out_features=16, bias=True)\n",
       "  (7): ReLU()\n",
       "  (8): Linear(in_features=16, out_features=8, bias=True)\n",
       "  (9): ReLU()\n",
       "  (10): Linear(in_features=8, out_features=4, bias=True)\n",
       "  (11): ReLU()\n",
       "  (12): Linear(in_features=4, out_features=1, bias=True)\n",
       ")"
      ]
     },
     "execution_count": 25,
     "metadata": {},
     "output_type": "execute_result"
    },
    {
     "data": {
      "text/plain": [
       "Sequential(\n",
       "  (0): Linear(in_features=275, out_features=128, bias=True)\n",
       "  (1): ReLU()\n",
       "  (2): Linear(in_features=128, out_features=64, bias=True)\n",
       "  (3): ReLU()\n",
       "  (4): Linear(in_features=64, out_features=32, bias=True)\n",
       "  (5): ReLU()\n",
       "  (6): Linear(in_features=32, out_features=16, bias=True)\n",
       "  (7): ReLU()\n",
       "  (8): Linear(in_features=16, out_features=8, bias=True)\n",
       "  (9): ReLU()\n",
       "  (10): Linear(in_features=8, out_features=4, bias=True)\n",
       "  (11): ReLU()\n",
       "  (12): Linear(in_features=4, out_features=1, bias=True)\n",
       ")"
      ]
     },
     "execution_count": 25,
     "metadata": {},
     "output_type": "execute_result"
    },
    {
     "data": {
      "text/plain": [
       "Sequential(\n",
       "  (0): Linear(in_features=275, out_features=128, bias=True)\n",
       "  (1): ReLU()\n",
       "  (2): Linear(in_features=128, out_features=64, bias=True)\n",
       "  (3): ReLU()\n",
       "  (4): Linear(in_features=64, out_features=32, bias=True)\n",
       "  (5): ReLU()\n",
       "  (6): Linear(in_features=32, out_features=16, bias=True)\n",
       "  (7): ReLU()\n",
       "  (8): Linear(in_features=16, out_features=8, bias=True)\n",
       "  (9): ReLU()\n",
       "  (10): Linear(in_features=8, out_features=4, bias=True)\n",
       "  (11): ReLU()\n",
       "  (12): Linear(in_features=4, out_features=1, bias=True)\n",
       ")"
      ]
     },
     "execution_count": 25,
     "metadata": {},
     "output_type": "execute_result"
    },
    {
     "data": {
      "text/plain": [
       "Sequential(\n",
       "  (0): Linear(in_features=275, out_features=128, bias=True)\n",
       "  (1): ReLU()\n",
       "  (2): Linear(in_features=128, out_features=64, bias=True)\n",
       "  (3): ReLU()\n",
       "  (4): Linear(in_features=64, out_features=32, bias=True)\n",
       "  (5): ReLU()\n",
       "  (6): Linear(in_features=32, out_features=16, bias=True)\n",
       "  (7): ReLU()\n",
       "  (8): Linear(in_features=16, out_features=8, bias=True)\n",
       "  (9): ReLU()\n",
       "  (10): Linear(in_features=8, out_features=4, bias=True)\n",
       "  (11): ReLU()\n",
       "  (12): Linear(in_features=4, out_features=1, bias=True)\n",
       ")"
      ]
     },
     "execution_count": 25,
     "metadata": {},
     "output_type": "execute_result"
    },
    {
     "data": {
      "text/plain": [
       "Sequential(\n",
       "  (0): Linear(in_features=275, out_features=128, bias=True)\n",
       "  (1): ReLU()\n",
       "  (2): Linear(in_features=128, out_features=64, bias=True)\n",
       "  (3): ReLU()\n",
       "  (4): Linear(in_features=64, out_features=32, bias=True)\n",
       "  (5): ReLU()\n",
       "  (6): Linear(in_features=32, out_features=16, bias=True)\n",
       "  (7): ReLU()\n",
       "  (8): Linear(in_features=16, out_features=8, bias=True)\n",
       "  (9): ReLU()\n",
       "  (10): Linear(in_features=8, out_features=4, bias=True)\n",
       "  (11): ReLU()\n",
       "  (12): Linear(in_features=4, out_features=1, bias=True)\n",
       ")"
      ]
     },
     "execution_count": 25,
     "metadata": {},
     "output_type": "execute_result"
    },
    {
     "data": {
      "text/plain": [
       "Sequential(\n",
       "  (0): Linear(in_features=275, out_features=128, bias=True)\n",
       "  (1): ReLU()\n",
       "  (2): Linear(in_features=128, out_features=64, bias=True)\n",
       "  (3): ReLU()\n",
       "  (4): Linear(in_features=64, out_features=32, bias=True)\n",
       "  (5): ReLU()\n",
       "  (6): Linear(in_features=32, out_features=16, bias=True)\n",
       "  (7): ReLU()\n",
       "  (8): Linear(in_features=16, out_features=8, bias=True)\n",
       "  (9): ReLU()\n",
       "  (10): Linear(in_features=8, out_features=4, bias=True)\n",
       "  (11): ReLU()\n",
       "  (12): Linear(in_features=4, out_features=1, bias=True)\n",
       ")"
      ]
     },
     "execution_count": 25,
     "metadata": {},
     "output_type": "execute_result"
    },
    {
     "data": {
      "text/plain": [
       "Sequential(\n",
       "  (0): Linear(in_features=275, out_features=128, bias=True)\n",
       "  (1): ReLU()\n",
       "  (2): Linear(in_features=128, out_features=64, bias=True)\n",
       "  (3): ReLU()\n",
       "  (4): Linear(in_features=64, out_features=32, bias=True)\n",
       "  (5): ReLU()\n",
       "  (6): Linear(in_features=32, out_features=16, bias=True)\n",
       "  (7): ReLU()\n",
       "  (8): Linear(in_features=16, out_features=8, bias=True)\n",
       "  (9): ReLU()\n",
       "  (10): Linear(in_features=8, out_features=4, bias=True)\n",
       "  (11): ReLU()\n",
       "  (12): Linear(in_features=4, out_features=1, bias=True)\n",
       ")"
      ]
     },
     "execution_count": 25,
     "metadata": {},
     "output_type": "execute_result"
    },
    {
     "data": {
      "text/plain": [
       "Sequential(\n",
       "  (0): Linear(in_features=275, out_features=128, bias=True)\n",
       "  (1): ReLU()\n",
       "  (2): Linear(in_features=128, out_features=64, bias=True)\n",
       "  (3): ReLU()\n",
       "  (4): Linear(in_features=64, out_features=32, bias=True)\n",
       "  (5): ReLU()\n",
       "  (6): Linear(in_features=32, out_features=16, bias=True)\n",
       "  (7): ReLU()\n",
       "  (8): Linear(in_features=16, out_features=8, bias=True)\n",
       "  (9): ReLU()\n",
       "  (10): Linear(in_features=8, out_features=4, bias=True)\n",
       "  (11): ReLU()\n",
       "  (12): Linear(in_features=4, out_features=1, bias=True)\n",
       ")"
      ]
     },
     "execution_count": 25,
     "metadata": {},
     "output_type": "execute_result"
    },
    {
     "data": {
      "text/plain": [
       "Sequential(\n",
       "  (0): Linear(in_features=275, out_features=128, bias=True)\n",
       "  (1): ReLU()\n",
       "  (2): Linear(in_features=128, out_features=64, bias=True)\n",
       "  (3): ReLU()\n",
       "  (4): Linear(in_features=64, out_features=32, bias=True)\n",
       "  (5): ReLU()\n",
       "  (6): Linear(in_features=32, out_features=16, bias=True)\n",
       "  (7): ReLU()\n",
       "  (8): Linear(in_features=16, out_features=8, bias=True)\n",
       "  (9): ReLU()\n",
       "  (10): Linear(in_features=8, out_features=4, bias=True)\n",
       "  (11): ReLU()\n",
       "  (12): Linear(in_features=4, out_features=1, bias=True)\n",
       ")"
      ]
     },
     "execution_count": 25,
     "metadata": {},
     "output_type": "execute_result"
    },
    {
     "data": {
      "text/plain": [
       "Sequential(\n",
       "  (0): Linear(in_features=275, out_features=128, bias=True)\n",
       "  (1): ReLU()\n",
       "  (2): Linear(in_features=128, out_features=64, bias=True)\n",
       "  (3): ReLU()\n",
       "  (4): Linear(in_features=64, out_features=32, bias=True)\n",
       "  (5): ReLU()\n",
       "  (6): Linear(in_features=32, out_features=16, bias=True)\n",
       "  (7): ReLU()\n",
       "  (8): Linear(in_features=16, out_features=8, bias=True)\n",
       "  (9): ReLU()\n",
       "  (10): Linear(in_features=8, out_features=4, bias=True)\n",
       "  (11): ReLU()\n",
       "  (12): Linear(in_features=4, out_features=1, bias=True)\n",
       ")"
      ]
     },
     "execution_count": 25,
     "metadata": {},
     "output_type": "execute_result"
    },
    {
     "data": {
      "text/plain": [
       "Sequential(\n",
       "  (0): Linear(in_features=275, out_features=128, bias=True)\n",
       "  (1): ReLU()\n",
       "  (2): Linear(in_features=128, out_features=64, bias=True)\n",
       "  (3): ReLU()\n",
       "  (4): Linear(in_features=64, out_features=32, bias=True)\n",
       "  (5): ReLU()\n",
       "  (6): Linear(in_features=32, out_features=16, bias=True)\n",
       "  (7): ReLU()\n",
       "  (8): Linear(in_features=16, out_features=8, bias=True)\n",
       "  (9): ReLU()\n",
       "  (10): Linear(in_features=8, out_features=4, bias=True)\n",
       "  (11): ReLU()\n",
       "  (12): Linear(in_features=4, out_features=1, bias=True)\n",
       ")"
      ]
     },
     "execution_count": 25,
     "metadata": {},
     "output_type": "execute_result"
    },
    {
     "data": {
      "text/plain": [
       "Sequential(\n",
       "  (0): Linear(in_features=275, out_features=128, bias=True)\n",
       "  (1): ReLU()\n",
       "  (2): Linear(in_features=128, out_features=64, bias=True)\n",
       "  (3): ReLU()\n",
       "  (4): Linear(in_features=64, out_features=32, bias=True)\n",
       "  (5): ReLU()\n",
       "  (6): Linear(in_features=32, out_features=16, bias=True)\n",
       "  (7): ReLU()\n",
       "  (8): Linear(in_features=16, out_features=8, bias=True)\n",
       "  (9): ReLU()\n",
       "  (10): Linear(in_features=8, out_features=4, bias=True)\n",
       "  (11): ReLU()\n",
       "  (12): Linear(in_features=4, out_features=1, bias=True)\n",
       ")"
      ]
     },
     "execution_count": 25,
     "metadata": {},
     "output_type": "execute_result"
    },
    {
     "data": {
      "text/plain": [
       "Sequential(\n",
       "  (0): Linear(in_features=275, out_features=128, bias=True)\n",
       "  (1): ReLU()\n",
       "  (2): Linear(in_features=128, out_features=64, bias=True)\n",
       "  (3): ReLU()\n",
       "  (4): Linear(in_features=64, out_features=32, bias=True)\n",
       "  (5): ReLU()\n",
       "  (6): Linear(in_features=32, out_features=16, bias=True)\n",
       "  (7): ReLU()\n",
       "  (8): Linear(in_features=16, out_features=8, bias=True)\n",
       "  (9): ReLU()\n",
       "  (10): Linear(in_features=8, out_features=4, bias=True)\n",
       "  (11): ReLU()\n",
       "  (12): Linear(in_features=4, out_features=1, bias=True)\n",
       ")"
      ]
     },
     "execution_count": 25,
     "metadata": {},
     "output_type": "execute_result"
    },
    {
     "data": {
      "text/plain": [
       "Sequential(\n",
       "  (0): Linear(in_features=275, out_features=128, bias=True)\n",
       "  (1): ReLU()\n",
       "  (2): Linear(in_features=128, out_features=64, bias=True)\n",
       "  (3): ReLU()\n",
       "  (4): Linear(in_features=64, out_features=32, bias=True)\n",
       "  (5): ReLU()\n",
       "  (6): Linear(in_features=32, out_features=16, bias=True)\n",
       "  (7): ReLU()\n",
       "  (8): Linear(in_features=16, out_features=8, bias=True)\n",
       "  (9): ReLU()\n",
       "  (10): Linear(in_features=8, out_features=4, bias=True)\n",
       "  (11): ReLU()\n",
       "  (12): Linear(in_features=4, out_features=1, bias=True)\n",
       ")"
      ]
     },
     "execution_count": 25,
     "metadata": {},
     "output_type": "execute_result"
    },
    {
     "data": {
      "text/plain": [
       "Sequential(\n",
       "  (0): Linear(in_features=275, out_features=128, bias=True)\n",
       "  (1): ReLU()\n",
       "  (2): Linear(in_features=128, out_features=64, bias=True)\n",
       "  (3): ReLU()\n",
       "  (4): Linear(in_features=64, out_features=32, bias=True)\n",
       "  (5): ReLU()\n",
       "  (6): Linear(in_features=32, out_features=16, bias=True)\n",
       "  (7): ReLU()\n",
       "  (8): Linear(in_features=16, out_features=8, bias=True)\n",
       "  (9): ReLU()\n",
       "  (10): Linear(in_features=8, out_features=4, bias=True)\n",
       "  (11): ReLU()\n",
       "  (12): Linear(in_features=4, out_features=1, bias=True)\n",
       ")"
      ]
     },
     "execution_count": 25,
     "metadata": {},
     "output_type": "execute_result"
    },
    {
     "data": {
      "text/plain": [
       "Sequential(\n",
       "  (0): Linear(in_features=275, out_features=128, bias=True)\n",
       "  (1): ReLU()\n",
       "  (2): Linear(in_features=128, out_features=64, bias=True)\n",
       "  (3): ReLU()\n",
       "  (4): Linear(in_features=64, out_features=32, bias=True)\n",
       "  (5): ReLU()\n",
       "  (6): Linear(in_features=32, out_features=16, bias=True)\n",
       "  (7): ReLU()\n",
       "  (8): Linear(in_features=16, out_features=8, bias=True)\n",
       "  (9): ReLU()\n",
       "  (10): Linear(in_features=8, out_features=4, bias=True)\n",
       "  (11): ReLU()\n",
       "  (12): Linear(in_features=4, out_features=1, bias=True)\n",
       ")"
      ]
     },
     "execution_count": 25,
     "metadata": {},
     "output_type": "execute_result"
    },
    {
     "data": {
      "text/plain": [
       "Sequential(\n",
       "  (0): Linear(in_features=275, out_features=128, bias=True)\n",
       "  (1): ReLU()\n",
       "  (2): Linear(in_features=128, out_features=64, bias=True)\n",
       "  (3): ReLU()\n",
       "  (4): Linear(in_features=64, out_features=32, bias=True)\n",
       "  (5): ReLU()\n",
       "  (6): Linear(in_features=32, out_features=16, bias=True)\n",
       "  (7): ReLU()\n",
       "  (8): Linear(in_features=16, out_features=8, bias=True)\n",
       "  (9): ReLU()\n",
       "  (10): Linear(in_features=8, out_features=4, bias=True)\n",
       "  (11): ReLU()\n",
       "  (12): Linear(in_features=4, out_features=1, bias=True)\n",
       ")"
      ]
     },
     "execution_count": 25,
     "metadata": {},
     "output_type": "execute_result"
    },
    {
     "data": {
      "text/plain": [
       "Sequential(\n",
       "  (0): Linear(in_features=275, out_features=128, bias=True)\n",
       "  (1): ReLU()\n",
       "  (2): Linear(in_features=128, out_features=64, bias=True)\n",
       "  (3): ReLU()\n",
       "  (4): Linear(in_features=64, out_features=32, bias=True)\n",
       "  (5): ReLU()\n",
       "  (6): Linear(in_features=32, out_features=16, bias=True)\n",
       "  (7): ReLU()\n",
       "  (8): Linear(in_features=16, out_features=8, bias=True)\n",
       "  (9): ReLU()\n",
       "  (10): Linear(in_features=8, out_features=4, bias=True)\n",
       "  (11): ReLU()\n",
       "  (12): Linear(in_features=4, out_features=1, bias=True)\n",
       ")"
      ]
     },
     "execution_count": 25,
     "metadata": {},
     "output_type": "execute_result"
    },
    {
     "data": {
      "text/plain": [
       "Sequential(\n",
       "  (0): Linear(in_features=275, out_features=128, bias=True)\n",
       "  (1): ReLU()\n",
       "  (2): Linear(in_features=128, out_features=64, bias=True)\n",
       "  (3): ReLU()\n",
       "  (4): Linear(in_features=64, out_features=32, bias=True)\n",
       "  (5): ReLU()\n",
       "  (6): Linear(in_features=32, out_features=16, bias=True)\n",
       "  (7): ReLU()\n",
       "  (8): Linear(in_features=16, out_features=8, bias=True)\n",
       "  (9): ReLU()\n",
       "  (10): Linear(in_features=8, out_features=4, bias=True)\n",
       "  (11): ReLU()\n",
       "  (12): Linear(in_features=4, out_features=1, bias=True)\n",
       ")"
      ]
     },
     "execution_count": 25,
     "metadata": {},
     "output_type": "execute_result"
    },
    {
     "data": {
      "text/plain": [
       "Sequential(\n",
       "  (0): Linear(in_features=275, out_features=128, bias=True)\n",
       "  (1): ReLU()\n",
       "  (2): Linear(in_features=128, out_features=64, bias=True)\n",
       "  (3): ReLU()\n",
       "  (4): Linear(in_features=64, out_features=32, bias=True)\n",
       "  (5): ReLU()\n",
       "  (6): Linear(in_features=32, out_features=16, bias=True)\n",
       "  (7): ReLU()\n",
       "  (8): Linear(in_features=16, out_features=8, bias=True)\n",
       "  (9): ReLU()\n",
       "  (10): Linear(in_features=8, out_features=4, bias=True)\n",
       "  (11): ReLU()\n",
       "  (12): Linear(in_features=4, out_features=1, bias=True)\n",
       ")"
      ]
     },
     "execution_count": 25,
     "metadata": {},
     "output_type": "execute_result"
    },
    {
     "data": {
      "text/plain": [
       "Sequential(\n",
       "  (0): Linear(in_features=275, out_features=128, bias=True)\n",
       "  (1): ReLU()\n",
       "  (2): Linear(in_features=128, out_features=64, bias=True)\n",
       "  (3): ReLU()\n",
       "  (4): Linear(in_features=64, out_features=32, bias=True)\n",
       "  (5): ReLU()\n",
       "  (6): Linear(in_features=32, out_features=16, bias=True)\n",
       "  (7): ReLU()\n",
       "  (8): Linear(in_features=16, out_features=8, bias=True)\n",
       "  (9): ReLU()\n",
       "  (10): Linear(in_features=8, out_features=4, bias=True)\n",
       "  (11): ReLU()\n",
       "  (12): Linear(in_features=4, out_features=1, bias=True)\n",
       ")"
      ]
     },
     "execution_count": 25,
     "metadata": {},
     "output_type": "execute_result"
    },
    {
     "data": {
      "text/plain": [
       "Sequential(\n",
       "  (0): Linear(in_features=275, out_features=128, bias=True)\n",
       "  (1): ReLU()\n",
       "  (2): Linear(in_features=128, out_features=64, bias=True)\n",
       "  (3): ReLU()\n",
       "  (4): Linear(in_features=64, out_features=32, bias=True)\n",
       "  (5): ReLU()\n",
       "  (6): Linear(in_features=32, out_features=16, bias=True)\n",
       "  (7): ReLU()\n",
       "  (8): Linear(in_features=16, out_features=8, bias=True)\n",
       "  (9): ReLU()\n",
       "  (10): Linear(in_features=8, out_features=4, bias=True)\n",
       "  (11): ReLU()\n",
       "  (12): Linear(in_features=4, out_features=1, bias=True)\n",
       ")"
      ]
     },
     "execution_count": 25,
     "metadata": {},
     "output_type": "execute_result"
    },
    {
     "data": {
      "text/plain": [
       "Sequential(\n",
       "  (0): Linear(in_features=275, out_features=128, bias=True)\n",
       "  (1): ReLU()\n",
       "  (2): Linear(in_features=128, out_features=64, bias=True)\n",
       "  (3): ReLU()\n",
       "  (4): Linear(in_features=64, out_features=32, bias=True)\n",
       "  (5): ReLU()\n",
       "  (6): Linear(in_features=32, out_features=16, bias=True)\n",
       "  (7): ReLU()\n",
       "  (8): Linear(in_features=16, out_features=8, bias=True)\n",
       "  (9): ReLU()\n",
       "  (10): Linear(in_features=8, out_features=4, bias=True)\n",
       "  (11): ReLU()\n",
       "  (12): Linear(in_features=4, out_features=1, bias=True)\n",
       ")"
      ]
     },
     "execution_count": 25,
     "metadata": {},
     "output_type": "execute_result"
    },
    {
     "data": {
      "text/plain": [
       "Sequential(\n",
       "  (0): Linear(in_features=275, out_features=128, bias=True)\n",
       "  (1): ReLU()\n",
       "  (2): Linear(in_features=128, out_features=64, bias=True)\n",
       "  (3): ReLU()\n",
       "  (4): Linear(in_features=64, out_features=32, bias=True)\n",
       "  (5): ReLU()\n",
       "  (6): Linear(in_features=32, out_features=16, bias=True)\n",
       "  (7): ReLU()\n",
       "  (8): Linear(in_features=16, out_features=8, bias=True)\n",
       "  (9): ReLU()\n",
       "  (10): Linear(in_features=8, out_features=4, bias=True)\n",
       "  (11): ReLU()\n",
       "  (12): Linear(in_features=4, out_features=1, bias=True)\n",
       ")"
      ]
     },
     "execution_count": 25,
     "metadata": {},
     "output_type": "execute_result"
    },
    {
     "data": {
      "text/plain": [
       "Sequential(\n",
       "  (0): Linear(in_features=275, out_features=128, bias=True)\n",
       "  (1): ReLU()\n",
       "  (2): Linear(in_features=128, out_features=64, bias=True)\n",
       "  (3): ReLU()\n",
       "  (4): Linear(in_features=64, out_features=32, bias=True)\n",
       "  (5): ReLU()\n",
       "  (6): Linear(in_features=32, out_features=16, bias=True)\n",
       "  (7): ReLU()\n",
       "  (8): Linear(in_features=16, out_features=8, bias=True)\n",
       "  (9): ReLU()\n",
       "  (10): Linear(in_features=8, out_features=4, bias=True)\n",
       "  (11): ReLU()\n",
       "  (12): Linear(in_features=4, out_features=1, bias=True)\n",
       ")"
      ]
     },
     "execution_count": 25,
     "metadata": {},
     "output_type": "execute_result"
    },
    {
     "data": {
      "text/plain": [
       "Sequential(\n",
       "  (0): Linear(in_features=275, out_features=128, bias=True)\n",
       "  (1): ReLU()\n",
       "  (2): Linear(in_features=128, out_features=64, bias=True)\n",
       "  (3): ReLU()\n",
       "  (4): Linear(in_features=64, out_features=32, bias=True)\n",
       "  (5): ReLU()\n",
       "  (6): Linear(in_features=32, out_features=16, bias=True)\n",
       "  (7): ReLU()\n",
       "  (8): Linear(in_features=16, out_features=8, bias=True)\n",
       "  (9): ReLU()\n",
       "  (10): Linear(in_features=8, out_features=4, bias=True)\n",
       "  (11): ReLU()\n",
       "  (12): Linear(in_features=4, out_features=1, bias=True)\n",
       ")"
      ]
     },
     "execution_count": 25,
     "metadata": {},
     "output_type": "execute_result"
    },
    {
     "data": {
      "text/plain": [
       "Sequential(\n",
       "  (0): Linear(in_features=275, out_features=128, bias=True)\n",
       "  (1): ReLU()\n",
       "  (2): Linear(in_features=128, out_features=64, bias=True)\n",
       "  (3): ReLU()\n",
       "  (4): Linear(in_features=64, out_features=32, bias=True)\n",
       "  (5): ReLU()\n",
       "  (6): Linear(in_features=32, out_features=16, bias=True)\n",
       "  (7): ReLU()\n",
       "  (8): Linear(in_features=16, out_features=8, bias=True)\n",
       "  (9): ReLU()\n",
       "  (10): Linear(in_features=8, out_features=4, bias=True)\n",
       "  (11): ReLU()\n",
       "  (12): Linear(in_features=4, out_features=1, bias=True)\n",
       ")"
      ]
     },
     "execution_count": 25,
     "metadata": {},
     "output_type": "execute_result"
    },
    {
     "data": {
      "text/plain": [
       "Sequential(\n",
       "  (0): Linear(in_features=275, out_features=128, bias=True)\n",
       "  (1): ReLU()\n",
       "  (2): Linear(in_features=128, out_features=64, bias=True)\n",
       "  (3): ReLU()\n",
       "  (4): Linear(in_features=64, out_features=32, bias=True)\n",
       "  (5): ReLU()\n",
       "  (6): Linear(in_features=32, out_features=16, bias=True)\n",
       "  (7): ReLU()\n",
       "  (8): Linear(in_features=16, out_features=8, bias=True)\n",
       "  (9): ReLU()\n",
       "  (10): Linear(in_features=8, out_features=4, bias=True)\n",
       "  (11): ReLU()\n",
       "  (12): Linear(in_features=4, out_features=1, bias=True)\n",
       ")"
      ]
     },
     "execution_count": 25,
     "metadata": {},
     "output_type": "execute_result"
    },
    {
     "data": {
      "text/plain": [
       "Sequential(\n",
       "  (0): Linear(in_features=275, out_features=128, bias=True)\n",
       "  (1): ReLU()\n",
       "  (2): Linear(in_features=128, out_features=64, bias=True)\n",
       "  (3): ReLU()\n",
       "  (4): Linear(in_features=64, out_features=32, bias=True)\n",
       "  (5): ReLU()\n",
       "  (6): Linear(in_features=32, out_features=16, bias=True)\n",
       "  (7): ReLU()\n",
       "  (8): Linear(in_features=16, out_features=8, bias=True)\n",
       "  (9): ReLU()\n",
       "  (10): Linear(in_features=8, out_features=4, bias=True)\n",
       "  (11): ReLU()\n",
       "  (12): Linear(in_features=4, out_features=1, bias=True)\n",
       ")"
      ]
     },
     "execution_count": 25,
     "metadata": {},
     "output_type": "execute_result"
    },
    {
     "data": {
      "text/plain": [
       "Sequential(\n",
       "  (0): Linear(in_features=275, out_features=128, bias=True)\n",
       "  (1): ReLU()\n",
       "  (2): Linear(in_features=128, out_features=64, bias=True)\n",
       "  (3): ReLU()\n",
       "  (4): Linear(in_features=64, out_features=32, bias=True)\n",
       "  (5): ReLU()\n",
       "  (6): Linear(in_features=32, out_features=16, bias=True)\n",
       "  (7): ReLU()\n",
       "  (8): Linear(in_features=16, out_features=8, bias=True)\n",
       "  (9): ReLU()\n",
       "  (10): Linear(in_features=8, out_features=4, bias=True)\n",
       "  (11): ReLU()\n",
       "  (12): Linear(in_features=4, out_features=1, bias=True)\n",
       ")"
      ]
     },
     "execution_count": 25,
     "metadata": {},
     "output_type": "execute_result"
    },
    {
     "data": {
      "text/plain": [
       "Sequential(\n",
       "  (0): Linear(in_features=275, out_features=128, bias=True)\n",
       "  (1): ReLU()\n",
       "  (2): Linear(in_features=128, out_features=64, bias=True)\n",
       "  (3): ReLU()\n",
       "  (4): Linear(in_features=64, out_features=32, bias=True)\n",
       "  (5): ReLU()\n",
       "  (6): Linear(in_features=32, out_features=16, bias=True)\n",
       "  (7): ReLU()\n",
       "  (8): Linear(in_features=16, out_features=8, bias=True)\n",
       "  (9): ReLU()\n",
       "  (10): Linear(in_features=8, out_features=4, bias=True)\n",
       "  (11): ReLU()\n",
       "  (12): Linear(in_features=4, out_features=1, bias=True)\n",
       ")"
      ]
     },
     "execution_count": 25,
     "metadata": {},
     "output_type": "execute_result"
    },
    {
     "data": {
      "text/plain": [
       "Sequential(\n",
       "  (0): Linear(in_features=275, out_features=128, bias=True)\n",
       "  (1): ReLU()\n",
       "  (2): Linear(in_features=128, out_features=64, bias=True)\n",
       "  (3): ReLU()\n",
       "  (4): Linear(in_features=64, out_features=32, bias=True)\n",
       "  (5): ReLU()\n",
       "  (6): Linear(in_features=32, out_features=16, bias=True)\n",
       "  (7): ReLU()\n",
       "  (8): Linear(in_features=16, out_features=8, bias=True)\n",
       "  (9): ReLU()\n",
       "  (10): Linear(in_features=8, out_features=4, bias=True)\n",
       "  (11): ReLU()\n",
       "  (12): Linear(in_features=4, out_features=1, bias=True)\n",
       ")"
      ]
     },
     "execution_count": 25,
     "metadata": {},
     "output_type": "execute_result"
    },
    {
     "data": {
      "text/plain": [
       "Sequential(\n",
       "  (0): Linear(in_features=275, out_features=128, bias=True)\n",
       "  (1): ReLU()\n",
       "  (2): Linear(in_features=128, out_features=64, bias=True)\n",
       "  (3): ReLU()\n",
       "  (4): Linear(in_features=64, out_features=32, bias=True)\n",
       "  (5): ReLU()\n",
       "  (6): Linear(in_features=32, out_features=16, bias=True)\n",
       "  (7): ReLU()\n",
       "  (8): Linear(in_features=16, out_features=8, bias=True)\n",
       "  (9): ReLU()\n",
       "  (10): Linear(in_features=8, out_features=4, bias=True)\n",
       "  (11): ReLU()\n",
       "  (12): Linear(in_features=4, out_features=1, bias=True)\n",
       ")"
      ]
     },
     "execution_count": 25,
     "metadata": {},
     "output_type": "execute_result"
    },
    {
     "data": {
      "text/plain": [
       "Sequential(\n",
       "  (0): Linear(in_features=275, out_features=128, bias=True)\n",
       "  (1): ReLU()\n",
       "  (2): Linear(in_features=128, out_features=64, bias=True)\n",
       "  (3): ReLU()\n",
       "  (4): Linear(in_features=64, out_features=32, bias=True)\n",
       "  (5): ReLU()\n",
       "  (6): Linear(in_features=32, out_features=16, bias=True)\n",
       "  (7): ReLU()\n",
       "  (8): Linear(in_features=16, out_features=8, bias=True)\n",
       "  (9): ReLU()\n",
       "  (10): Linear(in_features=8, out_features=4, bias=True)\n",
       "  (11): ReLU()\n",
       "  (12): Linear(in_features=4, out_features=1, bias=True)\n",
       ")"
      ]
     },
     "execution_count": 25,
     "metadata": {},
     "output_type": "execute_result"
    },
    {
     "data": {
      "text/plain": [
       "Sequential(\n",
       "  (0): Linear(in_features=275, out_features=128, bias=True)\n",
       "  (1): ReLU()\n",
       "  (2): Linear(in_features=128, out_features=64, bias=True)\n",
       "  (3): ReLU()\n",
       "  (4): Linear(in_features=64, out_features=32, bias=True)\n",
       "  (5): ReLU()\n",
       "  (6): Linear(in_features=32, out_features=16, bias=True)\n",
       "  (7): ReLU()\n",
       "  (8): Linear(in_features=16, out_features=8, bias=True)\n",
       "  (9): ReLU()\n",
       "  (10): Linear(in_features=8, out_features=4, bias=True)\n",
       "  (11): ReLU()\n",
       "  (12): Linear(in_features=4, out_features=1, bias=True)\n",
       ")"
      ]
     },
     "execution_count": 25,
     "metadata": {},
     "output_type": "execute_result"
    },
    {
     "data": {
      "text/plain": [
       "Sequential(\n",
       "  (0): Linear(in_features=275, out_features=128, bias=True)\n",
       "  (1): ReLU()\n",
       "  (2): Linear(in_features=128, out_features=64, bias=True)\n",
       "  (3): ReLU()\n",
       "  (4): Linear(in_features=64, out_features=32, bias=True)\n",
       "  (5): ReLU()\n",
       "  (6): Linear(in_features=32, out_features=16, bias=True)\n",
       "  (7): ReLU()\n",
       "  (8): Linear(in_features=16, out_features=8, bias=True)\n",
       "  (9): ReLU()\n",
       "  (10): Linear(in_features=8, out_features=4, bias=True)\n",
       "  (11): ReLU()\n",
       "  (12): Linear(in_features=4, out_features=1, bias=True)\n",
       ")"
      ]
     },
     "execution_count": 25,
     "metadata": {},
     "output_type": "execute_result"
    },
    {
     "data": {
      "text/plain": [
       "Sequential(\n",
       "  (0): Linear(in_features=275, out_features=128, bias=True)\n",
       "  (1): ReLU()\n",
       "  (2): Linear(in_features=128, out_features=64, bias=True)\n",
       "  (3): ReLU()\n",
       "  (4): Linear(in_features=64, out_features=32, bias=True)\n",
       "  (5): ReLU()\n",
       "  (6): Linear(in_features=32, out_features=16, bias=True)\n",
       "  (7): ReLU()\n",
       "  (8): Linear(in_features=16, out_features=8, bias=True)\n",
       "  (9): ReLU()\n",
       "  (10): Linear(in_features=8, out_features=4, bias=True)\n",
       "  (11): ReLU()\n",
       "  (12): Linear(in_features=4, out_features=1, bias=True)\n",
       ")"
      ]
     },
     "execution_count": 25,
     "metadata": {},
     "output_type": "execute_result"
    },
    {
     "data": {
      "text/plain": [
       "Sequential(\n",
       "  (0): Linear(in_features=275, out_features=128, bias=True)\n",
       "  (1): ReLU()\n",
       "  (2): Linear(in_features=128, out_features=64, bias=True)\n",
       "  (3): ReLU()\n",
       "  (4): Linear(in_features=64, out_features=32, bias=True)\n",
       "  (5): ReLU()\n",
       "  (6): Linear(in_features=32, out_features=16, bias=True)\n",
       "  (7): ReLU()\n",
       "  (8): Linear(in_features=16, out_features=8, bias=True)\n",
       "  (9): ReLU()\n",
       "  (10): Linear(in_features=8, out_features=4, bias=True)\n",
       "  (11): ReLU()\n",
       "  (12): Linear(in_features=4, out_features=1, bias=True)\n",
       ")"
      ]
     },
     "execution_count": 25,
     "metadata": {},
     "output_type": "execute_result"
    },
    {
     "data": {
      "text/plain": [
       "Sequential(\n",
       "  (0): Linear(in_features=275, out_features=128, bias=True)\n",
       "  (1): ReLU()\n",
       "  (2): Linear(in_features=128, out_features=64, bias=True)\n",
       "  (3): ReLU()\n",
       "  (4): Linear(in_features=64, out_features=32, bias=True)\n",
       "  (5): ReLU()\n",
       "  (6): Linear(in_features=32, out_features=16, bias=True)\n",
       "  (7): ReLU()\n",
       "  (8): Linear(in_features=16, out_features=8, bias=True)\n",
       "  (9): ReLU()\n",
       "  (10): Linear(in_features=8, out_features=4, bias=True)\n",
       "  (11): ReLU()\n",
       "  (12): Linear(in_features=4, out_features=1, bias=True)\n",
       ")"
      ]
     },
     "execution_count": 25,
     "metadata": {},
     "output_type": "execute_result"
    },
    {
     "data": {
      "text/plain": [
       "Sequential(\n",
       "  (0): Linear(in_features=275, out_features=128, bias=True)\n",
       "  (1): ReLU()\n",
       "  (2): Linear(in_features=128, out_features=64, bias=True)\n",
       "  (3): ReLU()\n",
       "  (4): Linear(in_features=64, out_features=32, bias=True)\n",
       "  (5): ReLU()\n",
       "  (6): Linear(in_features=32, out_features=16, bias=True)\n",
       "  (7): ReLU()\n",
       "  (8): Linear(in_features=16, out_features=8, bias=True)\n",
       "  (9): ReLU()\n",
       "  (10): Linear(in_features=8, out_features=4, bias=True)\n",
       "  (11): ReLU()\n",
       "  (12): Linear(in_features=4, out_features=1, bias=True)\n",
       ")"
      ]
     },
     "execution_count": 25,
     "metadata": {},
     "output_type": "execute_result"
    },
    {
     "data": {
      "text/plain": [
       "Sequential(\n",
       "  (0): Linear(in_features=275, out_features=128, bias=True)\n",
       "  (1): ReLU()\n",
       "  (2): Linear(in_features=128, out_features=64, bias=True)\n",
       "  (3): ReLU()\n",
       "  (4): Linear(in_features=64, out_features=32, bias=True)\n",
       "  (5): ReLU()\n",
       "  (6): Linear(in_features=32, out_features=16, bias=True)\n",
       "  (7): ReLU()\n",
       "  (8): Linear(in_features=16, out_features=8, bias=True)\n",
       "  (9): ReLU()\n",
       "  (10): Linear(in_features=8, out_features=4, bias=True)\n",
       "  (11): ReLU()\n",
       "  (12): Linear(in_features=4, out_features=1, bias=True)\n",
       ")"
      ]
     },
     "execution_count": 25,
     "metadata": {},
     "output_type": "execute_result"
    },
    {
     "data": {
      "text/plain": [
       "Sequential(\n",
       "  (0): Linear(in_features=275, out_features=128, bias=True)\n",
       "  (1): ReLU()\n",
       "  (2): Linear(in_features=128, out_features=64, bias=True)\n",
       "  (3): ReLU()\n",
       "  (4): Linear(in_features=64, out_features=32, bias=True)\n",
       "  (5): ReLU()\n",
       "  (6): Linear(in_features=32, out_features=16, bias=True)\n",
       "  (7): ReLU()\n",
       "  (8): Linear(in_features=16, out_features=8, bias=True)\n",
       "  (9): ReLU()\n",
       "  (10): Linear(in_features=8, out_features=4, bias=True)\n",
       "  (11): ReLU()\n",
       "  (12): Linear(in_features=4, out_features=1, bias=True)\n",
       ")"
      ]
     },
     "execution_count": 25,
     "metadata": {},
     "output_type": "execute_result"
    },
    {
     "data": {
      "text/plain": [
       "Sequential(\n",
       "  (0): Linear(in_features=275, out_features=128, bias=True)\n",
       "  (1): ReLU()\n",
       "  (2): Linear(in_features=128, out_features=64, bias=True)\n",
       "  (3): ReLU()\n",
       "  (4): Linear(in_features=64, out_features=32, bias=True)\n",
       "  (5): ReLU()\n",
       "  (6): Linear(in_features=32, out_features=16, bias=True)\n",
       "  (7): ReLU()\n",
       "  (8): Linear(in_features=16, out_features=8, bias=True)\n",
       "  (9): ReLU()\n",
       "  (10): Linear(in_features=8, out_features=4, bias=True)\n",
       "  (11): ReLU()\n",
       "  (12): Linear(in_features=4, out_features=1, bias=True)\n",
       ")"
      ]
     },
     "execution_count": 25,
     "metadata": {},
     "output_type": "execute_result"
    },
    {
     "data": {
      "text/plain": [
       "Sequential(\n",
       "  (0): Linear(in_features=275, out_features=128, bias=True)\n",
       "  (1): ReLU()\n",
       "  (2): Linear(in_features=128, out_features=64, bias=True)\n",
       "  (3): ReLU()\n",
       "  (4): Linear(in_features=64, out_features=32, bias=True)\n",
       "  (5): ReLU()\n",
       "  (6): Linear(in_features=32, out_features=16, bias=True)\n",
       "  (7): ReLU()\n",
       "  (8): Linear(in_features=16, out_features=8, bias=True)\n",
       "  (9): ReLU()\n",
       "  (10): Linear(in_features=8, out_features=4, bias=True)\n",
       "  (11): ReLU()\n",
       "  (12): Linear(in_features=4, out_features=1, bias=True)\n",
       ")"
      ]
     },
     "execution_count": 25,
     "metadata": {},
     "output_type": "execute_result"
    },
    {
     "data": {
      "text/plain": [
       "Sequential(\n",
       "  (0): Linear(in_features=275, out_features=128, bias=True)\n",
       "  (1): ReLU()\n",
       "  (2): Linear(in_features=128, out_features=64, bias=True)\n",
       "  (3): ReLU()\n",
       "  (4): Linear(in_features=64, out_features=32, bias=True)\n",
       "  (5): ReLU()\n",
       "  (6): Linear(in_features=32, out_features=16, bias=True)\n",
       "  (7): ReLU()\n",
       "  (8): Linear(in_features=16, out_features=8, bias=True)\n",
       "  (9): ReLU()\n",
       "  (10): Linear(in_features=8, out_features=4, bias=True)\n",
       "  (11): ReLU()\n",
       "  (12): Linear(in_features=4, out_features=1, bias=True)\n",
       ")"
      ]
     },
     "execution_count": 25,
     "metadata": {},
     "output_type": "execute_result"
    },
    {
     "data": {
      "text/plain": [
       "Sequential(\n",
       "  (0): Linear(in_features=275, out_features=128, bias=True)\n",
       "  (1): ReLU()\n",
       "  (2): Linear(in_features=128, out_features=64, bias=True)\n",
       "  (3): ReLU()\n",
       "  (4): Linear(in_features=64, out_features=32, bias=True)\n",
       "  (5): ReLU()\n",
       "  (6): Linear(in_features=32, out_features=16, bias=True)\n",
       "  (7): ReLU()\n",
       "  (8): Linear(in_features=16, out_features=8, bias=True)\n",
       "  (9): ReLU()\n",
       "  (10): Linear(in_features=8, out_features=4, bias=True)\n",
       "  (11): ReLU()\n",
       "  (12): Linear(in_features=4, out_features=1, bias=True)\n",
       ")"
      ]
     },
     "execution_count": 25,
     "metadata": {},
     "output_type": "execute_result"
    },
    {
     "data": {
      "text/plain": [
       "Sequential(\n",
       "  (0): Linear(in_features=275, out_features=128, bias=True)\n",
       "  (1): ReLU()\n",
       "  (2): Linear(in_features=128, out_features=64, bias=True)\n",
       "  (3): ReLU()\n",
       "  (4): Linear(in_features=64, out_features=32, bias=True)\n",
       "  (5): ReLU()\n",
       "  (6): Linear(in_features=32, out_features=16, bias=True)\n",
       "  (7): ReLU()\n",
       "  (8): Linear(in_features=16, out_features=8, bias=True)\n",
       "  (9): ReLU()\n",
       "  (10): Linear(in_features=8, out_features=4, bias=True)\n",
       "  (11): ReLU()\n",
       "  (12): Linear(in_features=4, out_features=1, bias=True)\n",
       ")"
      ]
     },
     "execution_count": 25,
     "metadata": {},
     "output_type": "execute_result"
    },
    {
     "data": {
      "text/plain": [
       "Sequential(\n",
       "  (0): Linear(in_features=275, out_features=128, bias=True)\n",
       "  (1): ReLU()\n",
       "  (2): Linear(in_features=128, out_features=64, bias=True)\n",
       "  (3): ReLU()\n",
       "  (4): Linear(in_features=64, out_features=32, bias=True)\n",
       "  (5): ReLU()\n",
       "  (6): Linear(in_features=32, out_features=16, bias=True)\n",
       "  (7): ReLU()\n",
       "  (8): Linear(in_features=16, out_features=8, bias=True)\n",
       "  (9): ReLU()\n",
       "  (10): Linear(in_features=8, out_features=4, bias=True)\n",
       "  (11): ReLU()\n",
       "  (12): Linear(in_features=4, out_features=1, bias=True)\n",
       ")"
      ]
     },
     "execution_count": 25,
     "metadata": {},
     "output_type": "execute_result"
    },
    {
     "data": {
      "text/plain": [
       "Sequential(\n",
       "  (0): Linear(in_features=275, out_features=128, bias=True)\n",
       "  (1): ReLU()\n",
       "  (2): Linear(in_features=128, out_features=64, bias=True)\n",
       "  (3): ReLU()\n",
       "  (4): Linear(in_features=64, out_features=32, bias=True)\n",
       "  (5): ReLU()\n",
       "  (6): Linear(in_features=32, out_features=16, bias=True)\n",
       "  (7): ReLU()\n",
       "  (8): Linear(in_features=16, out_features=8, bias=True)\n",
       "  (9): ReLU()\n",
       "  (10): Linear(in_features=8, out_features=4, bias=True)\n",
       "  (11): ReLU()\n",
       "  (12): Linear(in_features=4, out_features=1, bias=True)\n",
       ")"
      ]
     },
     "execution_count": 25,
     "metadata": {},
     "output_type": "execute_result"
    },
    {
     "data": {
      "text/plain": [
       "Sequential(\n",
       "  (0): Linear(in_features=275, out_features=128, bias=True)\n",
       "  (1): ReLU()\n",
       "  (2): Linear(in_features=128, out_features=64, bias=True)\n",
       "  (3): ReLU()\n",
       "  (4): Linear(in_features=64, out_features=32, bias=True)\n",
       "  (5): ReLU()\n",
       "  (6): Linear(in_features=32, out_features=16, bias=True)\n",
       "  (7): ReLU()\n",
       "  (8): Linear(in_features=16, out_features=8, bias=True)\n",
       "  (9): ReLU()\n",
       "  (10): Linear(in_features=8, out_features=4, bias=True)\n",
       "  (11): ReLU()\n",
       "  (12): Linear(in_features=4, out_features=1, bias=True)\n",
       ")"
      ]
     },
     "execution_count": 25,
     "metadata": {},
     "output_type": "execute_result"
    },
    {
     "data": {
      "text/plain": [
       "Sequential(\n",
       "  (0): Linear(in_features=275, out_features=128, bias=True)\n",
       "  (1): ReLU()\n",
       "  (2): Linear(in_features=128, out_features=64, bias=True)\n",
       "  (3): ReLU()\n",
       "  (4): Linear(in_features=64, out_features=32, bias=True)\n",
       "  (5): ReLU()\n",
       "  (6): Linear(in_features=32, out_features=16, bias=True)\n",
       "  (7): ReLU()\n",
       "  (8): Linear(in_features=16, out_features=8, bias=True)\n",
       "  (9): ReLU()\n",
       "  (10): Linear(in_features=8, out_features=4, bias=True)\n",
       "  (11): ReLU()\n",
       "  (12): Linear(in_features=4, out_features=1, bias=True)\n",
       ")"
      ]
     },
     "execution_count": 25,
     "metadata": {},
     "output_type": "execute_result"
    },
    {
     "data": {
      "text/plain": [
       "Sequential(\n",
       "  (0): Linear(in_features=275, out_features=128, bias=True)\n",
       "  (1): ReLU()\n",
       "  (2): Linear(in_features=128, out_features=64, bias=True)\n",
       "  (3): ReLU()\n",
       "  (4): Linear(in_features=64, out_features=32, bias=True)\n",
       "  (5): ReLU()\n",
       "  (6): Linear(in_features=32, out_features=16, bias=True)\n",
       "  (7): ReLU()\n",
       "  (8): Linear(in_features=16, out_features=8, bias=True)\n",
       "  (9): ReLU()\n",
       "  (10): Linear(in_features=8, out_features=4, bias=True)\n",
       "  (11): ReLU()\n",
       "  (12): Linear(in_features=4, out_features=1, bias=True)\n",
       ")"
      ]
     },
     "execution_count": 25,
     "metadata": {},
     "output_type": "execute_result"
    },
    {
     "data": {
      "text/plain": [
       "Sequential(\n",
       "  (0): Linear(in_features=275, out_features=128, bias=True)\n",
       "  (1): ReLU()\n",
       "  (2): Linear(in_features=128, out_features=64, bias=True)\n",
       "  (3): ReLU()\n",
       "  (4): Linear(in_features=64, out_features=32, bias=True)\n",
       "  (5): ReLU()\n",
       "  (6): Linear(in_features=32, out_features=16, bias=True)\n",
       "  (7): ReLU()\n",
       "  (8): Linear(in_features=16, out_features=8, bias=True)\n",
       "  (9): ReLU()\n",
       "  (10): Linear(in_features=8, out_features=4, bias=True)\n",
       "  (11): ReLU()\n",
       "  (12): Linear(in_features=4, out_features=1, bias=True)\n",
       ")"
      ]
     },
     "execution_count": 25,
     "metadata": {},
     "output_type": "execute_result"
    },
    {
     "data": {
      "text/plain": [
       "Sequential(\n",
       "  (0): Linear(in_features=275, out_features=128, bias=True)\n",
       "  (1): ReLU()\n",
       "  (2): Linear(in_features=128, out_features=64, bias=True)\n",
       "  (3): ReLU()\n",
       "  (4): Linear(in_features=64, out_features=32, bias=True)\n",
       "  (5): ReLU()\n",
       "  (6): Linear(in_features=32, out_features=16, bias=True)\n",
       "  (7): ReLU()\n",
       "  (8): Linear(in_features=16, out_features=8, bias=True)\n",
       "  (9): ReLU()\n",
       "  (10): Linear(in_features=8, out_features=4, bias=True)\n",
       "  (11): ReLU()\n",
       "  (12): Linear(in_features=4, out_features=1, bias=True)\n",
       ")"
      ]
     },
     "execution_count": 25,
     "metadata": {},
     "output_type": "execute_result"
    },
    {
     "data": {
      "text/plain": [
       "Sequential(\n",
       "  (0): Linear(in_features=275, out_features=128, bias=True)\n",
       "  (1): ReLU()\n",
       "  (2): Linear(in_features=128, out_features=64, bias=True)\n",
       "  (3): ReLU()\n",
       "  (4): Linear(in_features=64, out_features=32, bias=True)\n",
       "  (5): ReLU()\n",
       "  (6): Linear(in_features=32, out_features=16, bias=True)\n",
       "  (7): ReLU()\n",
       "  (8): Linear(in_features=16, out_features=8, bias=True)\n",
       "  (9): ReLU()\n",
       "  (10): Linear(in_features=8, out_features=4, bias=True)\n",
       "  (11): ReLU()\n",
       "  (12): Linear(in_features=4, out_features=1, bias=True)\n",
       ")"
      ]
     },
     "execution_count": 25,
     "metadata": {},
     "output_type": "execute_result"
    },
    {
     "data": {
      "text/plain": [
       "Sequential(\n",
       "  (0): Linear(in_features=275, out_features=128, bias=True)\n",
       "  (1): ReLU()\n",
       "  (2): Linear(in_features=128, out_features=64, bias=True)\n",
       "  (3): ReLU()\n",
       "  (4): Linear(in_features=64, out_features=32, bias=True)\n",
       "  (5): ReLU()\n",
       "  (6): Linear(in_features=32, out_features=16, bias=True)\n",
       "  (7): ReLU()\n",
       "  (8): Linear(in_features=16, out_features=8, bias=True)\n",
       "  (9): ReLU()\n",
       "  (10): Linear(in_features=8, out_features=4, bias=True)\n",
       "  (11): ReLU()\n",
       "  (12): Linear(in_features=4, out_features=1, bias=True)\n",
       ")"
      ]
     },
     "execution_count": 25,
     "metadata": {},
     "output_type": "execute_result"
    },
    {
     "data": {
      "text/plain": [
       "Sequential(\n",
       "  (0): Linear(in_features=275, out_features=128, bias=True)\n",
       "  (1): ReLU()\n",
       "  (2): Linear(in_features=128, out_features=64, bias=True)\n",
       "  (3): ReLU()\n",
       "  (4): Linear(in_features=64, out_features=32, bias=True)\n",
       "  (5): ReLU()\n",
       "  (6): Linear(in_features=32, out_features=16, bias=True)\n",
       "  (7): ReLU()\n",
       "  (8): Linear(in_features=16, out_features=8, bias=True)\n",
       "  (9): ReLU()\n",
       "  (10): Linear(in_features=8, out_features=4, bias=True)\n",
       "  (11): ReLU()\n",
       "  (12): Linear(in_features=4, out_features=1, bias=True)\n",
       ")"
      ]
     },
     "execution_count": 25,
     "metadata": {},
     "output_type": "execute_result"
    },
    {
     "data": {
      "text/plain": [
       "Sequential(\n",
       "  (0): Linear(in_features=275, out_features=128, bias=True)\n",
       "  (1): ReLU()\n",
       "  (2): Linear(in_features=128, out_features=64, bias=True)\n",
       "  (3): ReLU()\n",
       "  (4): Linear(in_features=64, out_features=32, bias=True)\n",
       "  (5): ReLU()\n",
       "  (6): Linear(in_features=32, out_features=16, bias=True)\n",
       "  (7): ReLU()\n",
       "  (8): Linear(in_features=16, out_features=8, bias=True)\n",
       "  (9): ReLU()\n",
       "  (10): Linear(in_features=8, out_features=4, bias=True)\n",
       "  (11): ReLU()\n",
       "  (12): Linear(in_features=4, out_features=1, bias=True)\n",
       ")"
      ]
     },
     "execution_count": 25,
     "metadata": {},
     "output_type": "execute_result"
    },
    {
     "data": {
      "text/plain": [
       "Sequential(\n",
       "  (0): Linear(in_features=275, out_features=128, bias=True)\n",
       "  (1): ReLU()\n",
       "  (2): Linear(in_features=128, out_features=64, bias=True)\n",
       "  (3): ReLU()\n",
       "  (4): Linear(in_features=64, out_features=32, bias=True)\n",
       "  (5): ReLU()\n",
       "  (6): Linear(in_features=32, out_features=16, bias=True)\n",
       "  (7): ReLU()\n",
       "  (8): Linear(in_features=16, out_features=8, bias=True)\n",
       "  (9): ReLU()\n",
       "  (10): Linear(in_features=8, out_features=4, bias=True)\n",
       "  (11): ReLU()\n",
       "  (12): Linear(in_features=4, out_features=1, bias=True)\n",
       ")"
      ]
     },
     "execution_count": 25,
     "metadata": {},
     "output_type": "execute_result"
    },
    {
     "data": {
      "text/plain": [
       "Sequential(\n",
       "  (0): Linear(in_features=275, out_features=128, bias=True)\n",
       "  (1): ReLU()\n",
       "  (2): Linear(in_features=128, out_features=64, bias=True)\n",
       "  (3): ReLU()\n",
       "  (4): Linear(in_features=64, out_features=32, bias=True)\n",
       "  (5): ReLU()\n",
       "  (6): Linear(in_features=32, out_features=16, bias=True)\n",
       "  (7): ReLU()\n",
       "  (8): Linear(in_features=16, out_features=8, bias=True)\n",
       "  (9): ReLU()\n",
       "  (10): Linear(in_features=8, out_features=4, bias=True)\n",
       "  (11): ReLU()\n",
       "  (12): Linear(in_features=4, out_features=1, bias=True)\n",
       ")"
      ]
     },
     "execution_count": 25,
     "metadata": {},
     "output_type": "execute_result"
    },
    {
     "data": {
      "text/plain": [
       "Sequential(\n",
       "  (0): Linear(in_features=275, out_features=128, bias=True)\n",
       "  (1): ReLU()\n",
       "  (2): Linear(in_features=128, out_features=64, bias=True)\n",
       "  (3): ReLU()\n",
       "  (4): Linear(in_features=64, out_features=32, bias=True)\n",
       "  (5): ReLU()\n",
       "  (6): Linear(in_features=32, out_features=16, bias=True)\n",
       "  (7): ReLU()\n",
       "  (8): Linear(in_features=16, out_features=8, bias=True)\n",
       "  (9): ReLU()\n",
       "  (10): Linear(in_features=8, out_features=4, bias=True)\n",
       "  (11): ReLU()\n",
       "  (12): Linear(in_features=4, out_features=1, bias=True)\n",
       ")"
      ]
     },
     "execution_count": 25,
     "metadata": {},
     "output_type": "execute_result"
    },
    {
     "data": {
      "text/plain": [
       "Sequential(\n",
       "  (0): Linear(in_features=275, out_features=128, bias=True)\n",
       "  (1): ReLU()\n",
       "  (2): Linear(in_features=128, out_features=64, bias=True)\n",
       "  (3): ReLU()\n",
       "  (4): Linear(in_features=64, out_features=32, bias=True)\n",
       "  (5): ReLU()\n",
       "  (6): Linear(in_features=32, out_features=16, bias=True)\n",
       "  (7): ReLU()\n",
       "  (8): Linear(in_features=16, out_features=8, bias=True)\n",
       "  (9): ReLU()\n",
       "  (10): Linear(in_features=8, out_features=4, bias=True)\n",
       "  (11): ReLU()\n",
       "  (12): Linear(in_features=4, out_features=1, bias=True)\n",
       ")"
      ]
     },
     "execution_count": 25,
     "metadata": {},
     "output_type": "execute_result"
    },
    {
     "data": {
      "text/plain": [
       "Sequential(\n",
       "  (0): Linear(in_features=275, out_features=128, bias=True)\n",
       "  (1): ReLU()\n",
       "  (2): Linear(in_features=128, out_features=64, bias=True)\n",
       "  (3): ReLU()\n",
       "  (4): Linear(in_features=64, out_features=32, bias=True)\n",
       "  (5): ReLU()\n",
       "  (6): Linear(in_features=32, out_features=16, bias=True)\n",
       "  (7): ReLU()\n",
       "  (8): Linear(in_features=16, out_features=8, bias=True)\n",
       "  (9): ReLU()\n",
       "  (10): Linear(in_features=8, out_features=4, bias=True)\n",
       "  (11): ReLU()\n",
       "  (12): Linear(in_features=4, out_features=1, bias=True)\n",
       ")"
      ]
     },
     "execution_count": 25,
     "metadata": {},
     "output_type": "execute_result"
    },
    {
     "data": {
      "text/plain": [
       "Sequential(\n",
       "  (0): Linear(in_features=275, out_features=128, bias=True)\n",
       "  (1): ReLU()\n",
       "  (2): Linear(in_features=128, out_features=64, bias=True)\n",
       "  (3): ReLU()\n",
       "  (4): Linear(in_features=64, out_features=32, bias=True)\n",
       "  (5): ReLU()\n",
       "  (6): Linear(in_features=32, out_features=16, bias=True)\n",
       "  (7): ReLU()\n",
       "  (8): Linear(in_features=16, out_features=8, bias=True)\n",
       "  (9): ReLU()\n",
       "  (10): Linear(in_features=8, out_features=4, bias=True)\n",
       "  (11): ReLU()\n",
       "  (12): Linear(in_features=4, out_features=1, bias=True)\n",
       ")"
      ]
     },
     "execution_count": 25,
     "metadata": {},
     "output_type": "execute_result"
    },
    {
     "data": {
      "text/plain": [
       "Sequential(\n",
       "  (0): Linear(in_features=275, out_features=128, bias=True)\n",
       "  (1): ReLU()\n",
       "  (2): Linear(in_features=128, out_features=64, bias=True)\n",
       "  (3): ReLU()\n",
       "  (4): Linear(in_features=64, out_features=32, bias=True)\n",
       "  (5): ReLU()\n",
       "  (6): Linear(in_features=32, out_features=16, bias=True)\n",
       "  (7): ReLU()\n",
       "  (8): Linear(in_features=16, out_features=8, bias=True)\n",
       "  (9): ReLU()\n",
       "  (10): Linear(in_features=8, out_features=4, bias=True)\n",
       "  (11): ReLU()\n",
       "  (12): Linear(in_features=4, out_features=1, bias=True)\n",
       ")"
      ]
     },
     "execution_count": 25,
     "metadata": {},
     "output_type": "execute_result"
    },
    {
     "data": {
      "text/plain": [
       "Sequential(\n",
       "  (0): Linear(in_features=275, out_features=128, bias=True)\n",
       "  (1): ReLU()\n",
       "  (2): Linear(in_features=128, out_features=64, bias=True)\n",
       "  (3): ReLU()\n",
       "  (4): Linear(in_features=64, out_features=32, bias=True)\n",
       "  (5): ReLU()\n",
       "  (6): Linear(in_features=32, out_features=16, bias=True)\n",
       "  (7): ReLU()\n",
       "  (8): Linear(in_features=16, out_features=8, bias=True)\n",
       "  (9): ReLU()\n",
       "  (10): Linear(in_features=8, out_features=4, bias=True)\n",
       "  (11): ReLU()\n",
       "  (12): Linear(in_features=4, out_features=1, bias=True)\n",
       ")"
      ]
     },
     "execution_count": 25,
     "metadata": {},
     "output_type": "execute_result"
    },
    {
     "data": {
      "text/plain": [
       "Sequential(\n",
       "  (0): Linear(in_features=275, out_features=128, bias=True)\n",
       "  (1): ReLU()\n",
       "  (2): Linear(in_features=128, out_features=64, bias=True)\n",
       "  (3): ReLU()\n",
       "  (4): Linear(in_features=64, out_features=32, bias=True)\n",
       "  (5): ReLU()\n",
       "  (6): Linear(in_features=32, out_features=16, bias=True)\n",
       "  (7): ReLU()\n",
       "  (8): Linear(in_features=16, out_features=8, bias=True)\n",
       "  (9): ReLU()\n",
       "  (10): Linear(in_features=8, out_features=4, bias=True)\n",
       "  (11): ReLU()\n",
       "  (12): Linear(in_features=4, out_features=1, bias=True)\n",
       ")"
      ]
     },
     "execution_count": 25,
     "metadata": {},
     "output_type": "execute_result"
    },
    {
     "data": {
      "text/plain": [
       "Sequential(\n",
       "  (0): Linear(in_features=275, out_features=128, bias=True)\n",
       "  (1): ReLU()\n",
       "  (2): Linear(in_features=128, out_features=64, bias=True)\n",
       "  (3): ReLU()\n",
       "  (4): Linear(in_features=64, out_features=32, bias=True)\n",
       "  (5): ReLU()\n",
       "  (6): Linear(in_features=32, out_features=16, bias=True)\n",
       "  (7): ReLU()\n",
       "  (8): Linear(in_features=16, out_features=8, bias=True)\n",
       "  (9): ReLU()\n",
       "  (10): Linear(in_features=8, out_features=4, bias=True)\n",
       "  (11): ReLU()\n",
       "  (12): Linear(in_features=4, out_features=1, bias=True)\n",
       ")"
      ]
     },
     "execution_count": 25,
     "metadata": {},
     "output_type": "execute_result"
    },
    {
     "data": {
      "text/plain": [
       "Sequential(\n",
       "  (0): Linear(in_features=275, out_features=128, bias=True)\n",
       "  (1): ReLU()\n",
       "  (2): Linear(in_features=128, out_features=64, bias=True)\n",
       "  (3): ReLU()\n",
       "  (4): Linear(in_features=64, out_features=32, bias=True)\n",
       "  (5): ReLU()\n",
       "  (6): Linear(in_features=32, out_features=16, bias=True)\n",
       "  (7): ReLU()\n",
       "  (8): Linear(in_features=16, out_features=8, bias=True)\n",
       "  (9): ReLU()\n",
       "  (10): Linear(in_features=8, out_features=4, bias=True)\n",
       "  (11): ReLU()\n",
       "  (12): Linear(in_features=4, out_features=1, bias=True)\n",
       ")"
      ]
     },
     "execution_count": 25,
     "metadata": {},
     "output_type": "execute_result"
    },
    {
     "data": {
      "text/plain": [
       "Sequential(\n",
       "  (0): Linear(in_features=275, out_features=128, bias=True)\n",
       "  (1): ReLU()\n",
       "  (2): Linear(in_features=128, out_features=64, bias=True)\n",
       "  (3): ReLU()\n",
       "  (4): Linear(in_features=64, out_features=32, bias=True)\n",
       "  (5): ReLU()\n",
       "  (6): Linear(in_features=32, out_features=16, bias=True)\n",
       "  (7): ReLU()\n",
       "  (8): Linear(in_features=16, out_features=8, bias=True)\n",
       "  (9): ReLU()\n",
       "  (10): Linear(in_features=8, out_features=4, bias=True)\n",
       "  (11): ReLU()\n",
       "  (12): Linear(in_features=4, out_features=1, bias=True)\n",
       ")"
      ]
     },
     "execution_count": 25,
     "metadata": {},
     "output_type": "execute_result"
    },
    {
     "data": {
      "text/plain": [
       "Sequential(\n",
       "  (0): Linear(in_features=275, out_features=128, bias=True)\n",
       "  (1): ReLU()\n",
       "  (2): Linear(in_features=128, out_features=64, bias=True)\n",
       "  (3): ReLU()\n",
       "  (4): Linear(in_features=64, out_features=32, bias=True)\n",
       "  (5): ReLU()\n",
       "  (6): Linear(in_features=32, out_features=16, bias=True)\n",
       "  (7): ReLU()\n",
       "  (8): Linear(in_features=16, out_features=8, bias=True)\n",
       "  (9): ReLU()\n",
       "  (10): Linear(in_features=8, out_features=4, bias=True)\n",
       "  (11): ReLU()\n",
       "  (12): Linear(in_features=4, out_features=1, bias=True)\n",
       ")"
      ]
     },
     "execution_count": 25,
     "metadata": {},
     "output_type": "execute_result"
    },
    {
     "data": {
      "text/plain": [
       "Sequential(\n",
       "  (0): Linear(in_features=275, out_features=128, bias=True)\n",
       "  (1): ReLU()\n",
       "  (2): Linear(in_features=128, out_features=64, bias=True)\n",
       "  (3): ReLU()\n",
       "  (4): Linear(in_features=64, out_features=32, bias=True)\n",
       "  (5): ReLU()\n",
       "  (6): Linear(in_features=32, out_features=16, bias=True)\n",
       "  (7): ReLU()\n",
       "  (8): Linear(in_features=16, out_features=8, bias=True)\n",
       "  (9): ReLU()\n",
       "  (10): Linear(in_features=8, out_features=4, bias=True)\n",
       "  (11): ReLU()\n",
       "  (12): Linear(in_features=4, out_features=1, bias=True)\n",
       ")"
      ]
     },
     "execution_count": 25,
     "metadata": {},
     "output_type": "execute_result"
    },
    {
     "data": {
      "text/plain": [
       "Sequential(\n",
       "  (0): Linear(in_features=275, out_features=128, bias=True)\n",
       "  (1): ReLU()\n",
       "  (2): Linear(in_features=128, out_features=64, bias=True)\n",
       "  (3): ReLU()\n",
       "  (4): Linear(in_features=64, out_features=32, bias=True)\n",
       "  (5): ReLU()\n",
       "  (6): Linear(in_features=32, out_features=16, bias=True)\n",
       "  (7): ReLU()\n",
       "  (8): Linear(in_features=16, out_features=8, bias=True)\n",
       "  (9): ReLU()\n",
       "  (10): Linear(in_features=8, out_features=4, bias=True)\n",
       "  (11): ReLU()\n",
       "  (12): Linear(in_features=4, out_features=1, bias=True)\n",
       ")"
      ]
     },
     "execution_count": 25,
     "metadata": {},
     "output_type": "execute_result"
    },
    {
     "data": {
      "text/plain": [
       "Sequential(\n",
       "  (0): Linear(in_features=275, out_features=128, bias=True)\n",
       "  (1): ReLU()\n",
       "  (2): Linear(in_features=128, out_features=64, bias=True)\n",
       "  (3): ReLU()\n",
       "  (4): Linear(in_features=64, out_features=32, bias=True)\n",
       "  (5): ReLU()\n",
       "  (6): Linear(in_features=32, out_features=16, bias=True)\n",
       "  (7): ReLU()\n",
       "  (8): Linear(in_features=16, out_features=8, bias=True)\n",
       "  (9): ReLU()\n",
       "  (10): Linear(in_features=8, out_features=4, bias=True)\n",
       "  (11): ReLU()\n",
       "  (12): Linear(in_features=4, out_features=1, bias=True)\n",
       ")"
      ]
     },
     "execution_count": 25,
     "metadata": {},
     "output_type": "execute_result"
    },
    {
     "data": {
      "text/plain": [
       "Sequential(\n",
       "  (0): Linear(in_features=275, out_features=128, bias=True)\n",
       "  (1): ReLU()\n",
       "  (2): Linear(in_features=128, out_features=64, bias=True)\n",
       "  (3): ReLU()\n",
       "  (4): Linear(in_features=64, out_features=32, bias=True)\n",
       "  (5): ReLU()\n",
       "  (6): Linear(in_features=32, out_features=16, bias=True)\n",
       "  (7): ReLU()\n",
       "  (8): Linear(in_features=16, out_features=8, bias=True)\n",
       "  (9): ReLU()\n",
       "  (10): Linear(in_features=8, out_features=4, bias=True)\n",
       "  (11): ReLU()\n",
       "  (12): Linear(in_features=4, out_features=1, bias=True)\n",
       ")"
      ]
     },
     "execution_count": 25,
     "metadata": {},
     "output_type": "execute_result"
    },
    {
     "data": {
      "text/plain": [
       "Sequential(\n",
       "  (0): Linear(in_features=275, out_features=128, bias=True)\n",
       "  (1): ReLU()\n",
       "  (2): Linear(in_features=128, out_features=64, bias=True)\n",
       "  (3): ReLU()\n",
       "  (4): Linear(in_features=64, out_features=32, bias=True)\n",
       "  (5): ReLU()\n",
       "  (6): Linear(in_features=32, out_features=16, bias=True)\n",
       "  (7): ReLU()\n",
       "  (8): Linear(in_features=16, out_features=8, bias=True)\n",
       "  (9): ReLU()\n",
       "  (10): Linear(in_features=8, out_features=4, bias=True)\n",
       "  (11): ReLU()\n",
       "  (12): Linear(in_features=4, out_features=1, bias=True)\n",
       ")"
      ]
     },
     "execution_count": 25,
     "metadata": {},
     "output_type": "execute_result"
    },
    {
     "data": {
      "text/plain": [
       "Sequential(\n",
       "  (0): Linear(in_features=275, out_features=128, bias=True)\n",
       "  (1): ReLU()\n",
       "  (2): Linear(in_features=128, out_features=64, bias=True)\n",
       "  (3): ReLU()\n",
       "  (4): Linear(in_features=64, out_features=32, bias=True)\n",
       "  (5): ReLU()\n",
       "  (6): Linear(in_features=32, out_features=16, bias=True)\n",
       "  (7): ReLU()\n",
       "  (8): Linear(in_features=16, out_features=8, bias=True)\n",
       "  (9): ReLU()\n",
       "  (10): Linear(in_features=8, out_features=4, bias=True)\n",
       "  (11): ReLU()\n",
       "  (12): Linear(in_features=4, out_features=1, bias=True)\n",
       ")"
      ]
     },
     "execution_count": 25,
     "metadata": {},
     "output_type": "execute_result"
    },
    {
     "data": {
      "text/plain": [
       "Sequential(\n",
       "  (0): Linear(in_features=275, out_features=128, bias=True)\n",
       "  (1): ReLU()\n",
       "  (2): Linear(in_features=128, out_features=64, bias=True)\n",
       "  (3): ReLU()\n",
       "  (4): Linear(in_features=64, out_features=32, bias=True)\n",
       "  (5): ReLU()\n",
       "  (6): Linear(in_features=32, out_features=16, bias=True)\n",
       "  (7): ReLU()\n",
       "  (8): Linear(in_features=16, out_features=8, bias=True)\n",
       "  (9): ReLU()\n",
       "  (10): Linear(in_features=8, out_features=4, bias=True)\n",
       "  (11): ReLU()\n",
       "  (12): Linear(in_features=4, out_features=1, bias=True)\n",
       ")"
      ]
     },
     "execution_count": 25,
     "metadata": {},
     "output_type": "execute_result"
    },
    {
     "data": {
      "text/plain": [
       "Sequential(\n",
       "  (0): Linear(in_features=275, out_features=128, bias=True)\n",
       "  (1): ReLU()\n",
       "  (2): Linear(in_features=128, out_features=64, bias=True)\n",
       "  (3): ReLU()\n",
       "  (4): Linear(in_features=64, out_features=32, bias=True)\n",
       "  (5): ReLU()\n",
       "  (6): Linear(in_features=32, out_features=16, bias=True)\n",
       "  (7): ReLU()\n",
       "  (8): Linear(in_features=16, out_features=8, bias=True)\n",
       "  (9): ReLU()\n",
       "  (10): Linear(in_features=8, out_features=4, bias=True)\n",
       "  (11): ReLU()\n",
       "  (12): Linear(in_features=4, out_features=1, bias=True)\n",
       ")"
      ]
     },
     "execution_count": 25,
     "metadata": {},
     "output_type": "execute_result"
    },
    {
     "data": {
      "text/plain": [
       "Sequential(\n",
       "  (0): Linear(in_features=275, out_features=128, bias=True)\n",
       "  (1): ReLU()\n",
       "  (2): Linear(in_features=128, out_features=64, bias=True)\n",
       "  (3): ReLU()\n",
       "  (4): Linear(in_features=64, out_features=32, bias=True)\n",
       "  (5): ReLU()\n",
       "  (6): Linear(in_features=32, out_features=16, bias=True)\n",
       "  (7): ReLU()\n",
       "  (8): Linear(in_features=16, out_features=8, bias=True)\n",
       "  (9): ReLU()\n",
       "  (10): Linear(in_features=8, out_features=4, bias=True)\n",
       "  (11): ReLU()\n",
       "  (12): Linear(in_features=4, out_features=1, bias=True)\n",
       ")"
      ]
     },
     "execution_count": 25,
     "metadata": {},
     "output_type": "execute_result"
    },
    {
     "data": {
      "text/plain": [
       "Sequential(\n",
       "  (0): Linear(in_features=275, out_features=128, bias=True)\n",
       "  (1): ReLU()\n",
       "  (2): Linear(in_features=128, out_features=64, bias=True)\n",
       "  (3): ReLU()\n",
       "  (4): Linear(in_features=64, out_features=32, bias=True)\n",
       "  (5): ReLU()\n",
       "  (6): Linear(in_features=32, out_features=16, bias=True)\n",
       "  (7): ReLU()\n",
       "  (8): Linear(in_features=16, out_features=8, bias=True)\n",
       "  (9): ReLU()\n",
       "  (10): Linear(in_features=8, out_features=4, bias=True)\n",
       "  (11): ReLU()\n",
       "  (12): Linear(in_features=4, out_features=1, bias=True)\n",
       ")"
      ]
     },
     "execution_count": 25,
     "metadata": {},
     "output_type": "execute_result"
    },
    {
     "data": {
      "text/plain": [
       "Sequential(\n",
       "  (0): Linear(in_features=275, out_features=128, bias=True)\n",
       "  (1): ReLU()\n",
       "  (2): Linear(in_features=128, out_features=64, bias=True)\n",
       "  (3): ReLU()\n",
       "  (4): Linear(in_features=64, out_features=32, bias=True)\n",
       "  (5): ReLU()\n",
       "  (6): Linear(in_features=32, out_features=16, bias=True)\n",
       "  (7): ReLU()\n",
       "  (8): Linear(in_features=16, out_features=8, bias=True)\n",
       "  (9): ReLU()\n",
       "  (10): Linear(in_features=8, out_features=4, bias=True)\n",
       "  (11): ReLU()\n",
       "  (12): Linear(in_features=4, out_features=1, bias=True)\n",
       ")"
      ]
     },
     "execution_count": 25,
     "metadata": {},
     "output_type": "execute_result"
    },
    {
     "data": {
      "text/plain": [
       "Sequential(\n",
       "  (0): Linear(in_features=275, out_features=128, bias=True)\n",
       "  (1): ReLU()\n",
       "  (2): Linear(in_features=128, out_features=64, bias=True)\n",
       "  (3): ReLU()\n",
       "  (4): Linear(in_features=64, out_features=32, bias=True)\n",
       "  (5): ReLU()\n",
       "  (6): Linear(in_features=32, out_features=16, bias=True)\n",
       "  (7): ReLU()\n",
       "  (8): Linear(in_features=16, out_features=8, bias=True)\n",
       "  (9): ReLU()\n",
       "  (10): Linear(in_features=8, out_features=4, bias=True)\n",
       "  (11): ReLU()\n",
       "  (12): Linear(in_features=4, out_features=1, bias=True)\n",
       ")"
      ]
     },
     "execution_count": 25,
     "metadata": {},
     "output_type": "execute_result"
    },
    {
     "data": {
      "text/plain": [
       "Sequential(\n",
       "  (0): Linear(in_features=275, out_features=128, bias=True)\n",
       "  (1): ReLU()\n",
       "  (2): Linear(in_features=128, out_features=64, bias=True)\n",
       "  (3): ReLU()\n",
       "  (4): Linear(in_features=64, out_features=32, bias=True)\n",
       "  (5): ReLU()\n",
       "  (6): Linear(in_features=32, out_features=16, bias=True)\n",
       "  (7): ReLU()\n",
       "  (8): Linear(in_features=16, out_features=8, bias=True)\n",
       "  (9): ReLU()\n",
       "  (10): Linear(in_features=8, out_features=4, bias=True)\n",
       "  (11): ReLU()\n",
       "  (12): Linear(in_features=4, out_features=1, bias=True)\n",
       ")"
      ]
     },
     "execution_count": 25,
     "metadata": {},
     "output_type": "execute_result"
    },
    {
     "data": {
      "text/plain": [
       "Sequential(\n",
       "  (0): Linear(in_features=275, out_features=128, bias=True)\n",
       "  (1): ReLU()\n",
       "  (2): Linear(in_features=128, out_features=64, bias=True)\n",
       "  (3): ReLU()\n",
       "  (4): Linear(in_features=64, out_features=32, bias=True)\n",
       "  (5): ReLU()\n",
       "  (6): Linear(in_features=32, out_features=16, bias=True)\n",
       "  (7): ReLU()\n",
       "  (8): Linear(in_features=16, out_features=8, bias=True)\n",
       "  (9): ReLU()\n",
       "  (10): Linear(in_features=8, out_features=4, bias=True)\n",
       "  (11): ReLU()\n",
       "  (12): Linear(in_features=4, out_features=1, bias=True)\n",
       ")"
      ]
     },
     "execution_count": 25,
     "metadata": {},
     "output_type": "execute_result"
    },
    {
     "data": {
      "text/plain": [
       "Sequential(\n",
       "  (0): Linear(in_features=275, out_features=128, bias=True)\n",
       "  (1): ReLU()\n",
       "  (2): Linear(in_features=128, out_features=64, bias=True)\n",
       "  (3): ReLU()\n",
       "  (4): Linear(in_features=64, out_features=32, bias=True)\n",
       "  (5): ReLU()\n",
       "  (6): Linear(in_features=32, out_features=16, bias=True)\n",
       "  (7): ReLU()\n",
       "  (8): Linear(in_features=16, out_features=8, bias=True)\n",
       "  (9): ReLU()\n",
       "  (10): Linear(in_features=8, out_features=4, bias=True)\n",
       "  (11): ReLU()\n",
       "  (12): Linear(in_features=4, out_features=1, bias=True)\n",
       ")"
      ]
     },
     "execution_count": 25,
     "metadata": {},
     "output_type": "execute_result"
    },
    {
     "data": {
      "text/plain": [
       "Sequential(\n",
       "  (0): Linear(in_features=275, out_features=128, bias=True)\n",
       "  (1): ReLU()\n",
       "  (2): Linear(in_features=128, out_features=64, bias=True)\n",
       "  (3): ReLU()\n",
       "  (4): Linear(in_features=64, out_features=32, bias=True)\n",
       "  (5): ReLU()\n",
       "  (6): Linear(in_features=32, out_features=16, bias=True)\n",
       "  (7): ReLU()\n",
       "  (8): Linear(in_features=16, out_features=8, bias=True)\n",
       "  (9): ReLU()\n",
       "  (10): Linear(in_features=8, out_features=4, bias=True)\n",
       "  (11): ReLU()\n",
       "  (12): Linear(in_features=4, out_features=1, bias=True)\n",
       ")"
      ]
     },
     "execution_count": 25,
     "metadata": {},
     "output_type": "execute_result"
    },
    {
     "data": {
      "text/plain": [
       "Sequential(\n",
       "  (0): Linear(in_features=275, out_features=128, bias=True)\n",
       "  (1): ReLU()\n",
       "  (2): Linear(in_features=128, out_features=64, bias=True)\n",
       "  (3): ReLU()\n",
       "  (4): Linear(in_features=64, out_features=32, bias=True)\n",
       "  (5): ReLU()\n",
       "  (6): Linear(in_features=32, out_features=16, bias=True)\n",
       "  (7): ReLU()\n",
       "  (8): Linear(in_features=16, out_features=8, bias=True)\n",
       "  (9): ReLU()\n",
       "  (10): Linear(in_features=8, out_features=4, bias=True)\n",
       "  (11): ReLU()\n",
       "  (12): Linear(in_features=4, out_features=1, bias=True)\n",
       ")"
      ]
     },
     "execution_count": 25,
     "metadata": {},
     "output_type": "execute_result"
    },
    {
     "data": {
      "text/plain": [
       "Sequential(\n",
       "  (0): Linear(in_features=275, out_features=128, bias=True)\n",
       "  (1): ReLU()\n",
       "  (2): Linear(in_features=128, out_features=64, bias=True)\n",
       "  (3): ReLU()\n",
       "  (4): Linear(in_features=64, out_features=32, bias=True)\n",
       "  (5): ReLU()\n",
       "  (6): Linear(in_features=32, out_features=16, bias=True)\n",
       "  (7): ReLU()\n",
       "  (8): Linear(in_features=16, out_features=8, bias=True)\n",
       "  (9): ReLU()\n",
       "  (10): Linear(in_features=8, out_features=4, bias=True)\n",
       "  (11): ReLU()\n",
       "  (12): Linear(in_features=4, out_features=1, bias=True)\n",
       ")"
      ]
     },
     "execution_count": 25,
     "metadata": {},
     "output_type": "execute_result"
    },
    {
     "data": {
      "text/plain": [
       "Sequential(\n",
       "  (0): Linear(in_features=275, out_features=128, bias=True)\n",
       "  (1): ReLU()\n",
       "  (2): Linear(in_features=128, out_features=64, bias=True)\n",
       "  (3): ReLU()\n",
       "  (4): Linear(in_features=64, out_features=32, bias=True)\n",
       "  (5): ReLU()\n",
       "  (6): Linear(in_features=32, out_features=16, bias=True)\n",
       "  (7): ReLU()\n",
       "  (8): Linear(in_features=16, out_features=8, bias=True)\n",
       "  (9): ReLU()\n",
       "  (10): Linear(in_features=8, out_features=4, bias=True)\n",
       "  (11): ReLU()\n",
       "  (12): Linear(in_features=4, out_features=1, bias=True)\n",
       ")"
      ]
     },
     "execution_count": 25,
     "metadata": {},
     "output_type": "execute_result"
    },
    {
     "data": {
      "text/plain": [
       "Sequential(\n",
       "  (0): Linear(in_features=275, out_features=128, bias=True)\n",
       "  (1): ReLU()\n",
       "  (2): Linear(in_features=128, out_features=64, bias=True)\n",
       "  (3): ReLU()\n",
       "  (4): Linear(in_features=64, out_features=32, bias=True)\n",
       "  (5): ReLU()\n",
       "  (6): Linear(in_features=32, out_features=16, bias=True)\n",
       "  (7): ReLU()\n",
       "  (8): Linear(in_features=16, out_features=8, bias=True)\n",
       "  (9): ReLU()\n",
       "  (10): Linear(in_features=8, out_features=4, bias=True)\n",
       "  (11): ReLU()\n",
       "  (12): Linear(in_features=4, out_features=1, bias=True)\n",
       ")"
      ]
     },
     "execution_count": 25,
     "metadata": {},
     "output_type": "execute_result"
    },
    {
     "data": {
      "text/plain": [
       "Sequential(\n",
       "  (0): Linear(in_features=275, out_features=128, bias=True)\n",
       "  (1): ReLU()\n",
       "  (2): Linear(in_features=128, out_features=64, bias=True)\n",
       "  (3): ReLU()\n",
       "  (4): Linear(in_features=64, out_features=32, bias=True)\n",
       "  (5): ReLU()\n",
       "  (6): Linear(in_features=32, out_features=16, bias=True)\n",
       "  (7): ReLU()\n",
       "  (8): Linear(in_features=16, out_features=8, bias=True)\n",
       "  (9): ReLU()\n",
       "  (10): Linear(in_features=8, out_features=4, bias=True)\n",
       "  (11): ReLU()\n",
       "  (12): Linear(in_features=4, out_features=1, bias=True)\n",
       ")"
      ]
     },
     "execution_count": 25,
     "metadata": {},
     "output_type": "execute_result"
    },
    {
     "data": {
      "text/plain": [
       "Sequential(\n",
       "  (0): Linear(in_features=275, out_features=128, bias=True)\n",
       "  (1): ReLU()\n",
       "  (2): Linear(in_features=128, out_features=64, bias=True)\n",
       "  (3): ReLU()\n",
       "  (4): Linear(in_features=64, out_features=32, bias=True)\n",
       "  (5): ReLU()\n",
       "  (6): Linear(in_features=32, out_features=16, bias=True)\n",
       "  (7): ReLU()\n",
       "  (8): Linear(in_features=16, out_features=8, bias=True)\n",
       "  (9): ReLU()\n",
       "  (10): Linear(in_features=8, out_features=4, bias=True)\n",
       "  (11): ReLU()\n",
       "  (12): Linear(in_features=4, out_features=1, bias=True)\n",
       ")"
      ]
     },
     "execution_count": 25,
     "metadata": {},
     "output_type": "execute_result"
    },
    {
     "data": {
      "text/plain": [
       "Sequential(\n",
       "  (0): Linear(in_features=275, out_features=128, bias=True)\n",
       "  (1): ReLU()\n",
       "  (2): Linear(in_features=128, out_features=64, bias=True)\n",
       "  (3): ReLU()\n",
       "  (4): Linear(in_features=64, out_features=32, bias=True)\n",
       "  (5): ReLU()\n",
       "  (6): Linear(in_features=32, out_features=16, bias=True)\n",
       "  (7): ReLU()\n",
       "  (8): Linear(in_features=16, out_features=8, bias=True)\n",
       "  (9): ReLU()\n",
       "  (10): Linear(in_features=8, out_features=4, bias=True)\n",
       "  (11): ReLU()\n",
       "  (12): Linear(in_features=4, out_features=1, bias=True)\n",
       ")"
      ]
     },
     "execution_count": 25,
     "metadata": {},
     "output_type": "execute_result"
    },
    {
     "data": {
      "text/plain": [
       "Sequential(\n",
       "  (0): Linear(in_features=275, out_features=128, bias=True)\n",
       "  (1): ReLU()\n",
       "  (2): Linear(in_features=128, out_features=64, bias=True)\n",
       "  (3): ReLU()\n",
       "  (4): Linear(in_features=64, out_features=32, bias=True)\n",
       "  (5): ReLU()\n",
       "  (6): Linear(in_features=32, out_features=16, bias=True)\n",
       "  (7): ReLU()\n",
       "  (8): Linear(in_features=16, out_features=8, bias=True)\n",
       "  (9): ReLU()\n",
       "  (10): Linear(in_features=8, out_features=4, bias=True)\n",
       "  (11): ReLU()\n",
       "  (12): Linear(in_features=4, out_features=1, bias=True)\n",
       ")"
      ]
     },
     "execution_count": 25,
     "metadata": {},
     "output_type": "execute_result"
    },
    {
     "data": {
      "text/plain": [
       "Sequential(\n",
       "  (0): Linear(in_features=275, out_features=128, bias=True)\n",
       "  (1): ReLU()\n",
       "  (2): Linear(in_features=128, out_features=64, bias=True)\n",
       "  (3): ReLU()\n",
       "  (4): Linear(in_features=64, out_features=32, bias=True)\n",
       "  (5): ReLU()\n",
       "  (6): Linear(in_features=32, out_features=16, bias=True)\n",
       "  (7): ReLU()\n",
       "  (8): Linear(in_features=16, out_features=8, bias=True)\n",
       "  (9): ReLU()\n",
       "  (10): Linear(in_features=8, out_features=4, bias=True)\n",
       "  (11): ReLU()\n",
       "  (12): Linear(in_features=4, out_features=1, bias=True)\n",
       ")"
      ]
     },
     "execution_count": 25,
     "metadata": {},
     "output_type": "execute_result"
    },
    {
     "data": {
      "text/plain": [
       "Sequential(\n",
       "  (0): Linear(in_features=275, out_features=128, bias=True)\n",
       "  (1): ReLU()\n",
       "  (2): Linear(in_features=128, out_features=64, bias=True)\n",
       "  (3): ReLU()\n",
       "  (4): Linear(in_features=64, out_features=32, bias=True)\n",
       "  (5): ReLU()\n",
       "  (6): Linear(in_features=32, out_features=16, bias=True)\n",
       "  (7): ReLU()\n",
       "  (8): Linear(in_features=16, out_features=8, bias=True)\n",
       "  (9): ReLU()\n",
       "  (10): Linear(in_features=8, out_features=4, bias=True)\n",
       "  (11): ReLU()\n",
       "  (12): Linear(in_features=4, out_features=1, bias=True)\n",
       ")"
      ]
     },
     "execution_count": 25,
     "metadata": {},
     "output_type": "execute_result"
    },
    {
     "data": {
      "text/plain": [
       "Sequential(\n",
       "  (0): Linear(in_features=275, out_features=128, bias=True)\n",
       "  (1): ReLU()\n",
       "  (2): Linear(in_features=128, out_features=64, bias=True)\n",
       "  (3): ReLU()\n",
       "  (4): Linear(in_features=64, out_features=32, bias=True)\n",
       "  (5): ReLU()\n",
       "  (6): Linear(in_features=32, out_features=16, bias=True)\n",
       "  (7): ReLU()\n",
       "  (8): Linear(in_features=16, out_features=8, bias=True)\n",
       "  (9): ReLU()\n",
       "  (10): Linear(in_features=8, out_features=4, bias=True)\n",
       "  (11): ReLU()\n",
       "  (12): Linear(in_features=4, out_features=1, bias=True)\n",
       ")"
      ]
     },
     "execution_count": 25,
     "metadata": {},
     "output_type": "execute_result"
    },
    {
     "data": {
      "text/plain": [
       "Sequential(\n",
       "  (0): Linear(in_features=275, out_features=128, bias=True)\n",
       "  (1): ReLU()\n",
       "  (2): Linear(in_features=128, out_features=64, bias=True)\n",
       "  (3): ReLU()\n",
       "  (4): Linear(in_features=64, out_features=32, bias=True)\n",
       "  (5): ReLU()\n",
       "  (6): Linear(in_features=32, out_features=16, bias=True)\n",
       "  (7): ReLU()\n",
       "  (8): Linear(in_features=16, out_features=8, bias=True)\n",
       "  (9): ReLU()\n",
       "  (10): Linear(in_features=8, out_features=4, bias=True)\n",
       "  (11): ReLU()\n",
       "  (12): Linear(in_features=4, out_features=1, bias=True)\n",
       ")"
      ]
     },
     "execution_count": 25,
     "metadata": {},
     "output_type": "execute_result"
    },
    {
     "data": {
      "text/plain": [
       "Sequential(\n",
       "  (0): Linear(in_features=275, out_features=128, bias=True)\n",
       "  (1): ReLU()\n",
       "  (2): Linear(in_features=128, out_features=64, bias=True)\n",
       "  (3): ReLU()\n",
       "  (4): Linear(in_features=64, out_features=32, bias=True)\n",
       "  (5): ReLU()\n",
       "  (6): Linear(in_features=32, out_features=16, bias=True)\n",
       "  (7): ReLU()\n",
       "  (8): Linear(in_features=16, out_features=8, bias=True)\n",
       "  (9): ReLU()\n",
       "  (10): Linear(in_features=8, out_features=4, bias=True)\n",
       "  (11): ReLU()\n",
       "  (12): Linear(in_features=4, out_features=1, bias=True)\n",
       ")"
      ]
     },
     "execution_count": 25,
     "metadata": {},
     "output_type": "execute_result"
    },
    {
     "data": {
      "text/plain": [
       "Sequential(\n",
       "  (0): Linear(in_features=275, out_features=128, bias=True)\n",
       "  (1): ReLU()\n",
       "  (2): Linear(in_features=128, out_features=64, bias=True)\n",
       "  (3): ReLU()\n",
       "  (4): Linear(in_features=64, out_features=32, bias=True)\n",
       "  (5): ReLU()\n",
       "  (6): Linear(in_features=32, out_features=16, bias=True)\n",
       "  (7): ReLU()\n",
       "  (8): Linear(in_features=16, out_features=8, bias=True)\n",
       "  (9): ReLU()\n",
       "  (10): Linear(in_features=8, out_features=4, bias=True)\n",
       "  (11): ReLU()\n",
       "  (12): Linear(in_features=4, out_features=1, bias=True)\n",
       ")"
      ]
     },
     "execution_count": 25,
     "metadata": {},
     "output_type": "execute_result"
    },
    {
     "data": {
      "text/plain": [
       "Sequential(\n",
       "  (0): Linear(in_features=275, out_features=128, bias=True)\n",
       "  (1): ReLU()\n",
       "  (2): Linear(in_features=128, out_features=64, bias=True)\n",
       "  (3): ReLU()\n",
       "  (4): Linear(in_features=64, out_features=32, bias=True)\n",
       "  (5): ReLU()\n",
       "  (6): Linear(in_features=32, out_features=16, bias=True)\n",
       "  (7): ReLU()\n",
       "  (8): Linear(in_features=16, out_features=8, bias=True)\n",
       "  (9): ReLU()\n",
       "  (10): Linear(in_features=8, out_features=4, bias=True)\n",
       "  (11): ReLU()\n",
       "  (12): Linear(in_features=4, out_features=1, bias=True)\n",
       ")"
      ]
     },
     "execution_count": 25,
     "metadata": {},
     "output_type": "execute_result"
    },
    {
     "data": {
      "text/plain": [
       "Sequential(\n",
       "  (0): Linear(in_features=275, out_features=128, bias=True)\n",
       "  (1): ReLU()\n",
       "  (2): Linear(in_features=128, out_features=64, bias=True)\n",
       "  (3): ReLU()\n",
       "  (4): Linear(in_features=64, out_features=32, bias=True)\n",
       "  (5): ReLU()\n",
       "  (6): Linear(in_features=32, out_features=16, bias=True)\n",
       "  (7): ReLU()\n",
       "  (8): Linear(in_features=16, out_features=8, bias=True)\n",
       "  (9): ReLU()\n",
       "  (10): Linear(in_features=8, out_features=4, bias=True)\n",
       "  (11): ReLU()\n",
       "  (12): Linear(in_features=4, out_features=1, bias=True)\n",
       ")"
      ]
     },
     "execution_count": 25,
     "metadata": {},
     "output_type": "execute_result"
    },
    {
     "data": {
      "text/plain": [
       "Sequential(\n",
       "  (0): Linear(in_features=275, out_features=128, bias=True)\n",
       "  (1): ReLU()\n",
       "  (2): Linear(in_features=128, out_features=64, bias=True)\n",
       "  (3): ReLU()\n",
       "  (4): Linear(in_features=64, out_features=32, bias=True)\n",
       "  (5): ReLU()\n",
       "  (6): Linear(in_features=32, out_features=16, bias=True)\n",
       "  (7): ReLU()\n",
       "  (8): Linear(in_features=16, out_features=8, bias=True)\n",
       "  (9): ReLU()\n",
       "  (10): Linear(in_features=8, out_features=4, bias=True)\n",
       "  (11): ReLU()\n",
       "  (12): Linear(in_features=4, out_features=1, bias=True)\n",
       ")"
      ]
     },
     "execution_count": 25,
     "metadata": {},
     "output_type": "execute_result"
    },
    {
     "data": {
      "text/plain": [
       "Sequential(\n",
       "  (0): Linear(in_features=275, out_features=128, bias=True)\n",
       "  (1): ReLU()\n",
       "  (2): Linear(in_features=128, out_features=64, bias=True)\n",
       "  (3): ReLU()\n",
       "  (4): Linear(in_features=64, out_features=32, bias=True)\n",
       "  (5): ReLU()\n",
       "  (6): Linear(in_features=32, out_features=16, bias=True)\n",
       "  (7): ReLU()\n",
       "  (8): Linear(in_features=16, out_features=8, bias=True)\n",
       "  (9): ReLU()\n",
       "  (10): Linear(in_features=8, out_features=4, bias=True)\n",
       "  (11): ReLU()\n",
       "  (12): Linear(in_features=4, out_features=1, bias=True)\n",
       ")"
      ]
     },
     "execution_count": 25,
     "metadata": {},
     "output_type": "execute_result"
    },
    {
     "data": {
      "text/plain": [
       "Sequential(\n",
       "  (0): Linear(in_features=275, out_features=128, bias=True)\n",
       "  (1): ReLU()\n",
       "  (2): Linear(in_features=128, out_features=64, bias=True)\n",
       "  (3): ReLU()\n",
       "  (4): Linear(in_features=64, out_features=32, bias=True)\n",
       "  (5): ReLU()\n",
       "  (6): Linear(in_features=32, out_features=16, bias=True)\n",
       "  (7): ReLU()\n",
       "  (8): Linear(in_features=16, out_features=8, bias=True)\n",
       "  (9): ReLU()\n",
       "  (10): Linear(in_features=8, out_features=4, bias=True)\n",
       "  (11): ReLU()\n",
       "  (12): Linear(in_features=4, out_features=1, bias=True)\n",
       ")"
      ]
     },
     "execution_count": 25,
     "metadata": {},
     "output_type": "execute_result"
    },
    {
     "data": {
      "text/plain": [
       "Sequential(\n",
       "  (0): Linear(in_features=275, out_features=128, bias=True)\n",
       "  (1): ReLU()\n",
       "  (2): Linear(in_features=128, out_features=64, bias=True)\n",
       "  (3): ReLU()\n",
       "  (4): Linear(in_features=64, out_features=32, bias=True)\n",
       "  (5): ReLU()\n",
       "  (6): Linear(in_features=32, out_features=16, bias=True)\n",
       "  (7): ReLU()\n",
       "  (8): Linear(in_features=16, out_features=8, bias=True)\n",
       "  (9): ReLU()\n",
       "  (10): Linear(in_features=8, out_features=4, bias=True)\n",
       "  (11): ReLU()\n",
       "  (12): Linear(in_features=4, out_features=1, bias=True)\n",
       ")"
      ]
     },
     "execution_count": 25,
     "metadata": {},
     "output_type": "execute_result"
    },
    {
     "data": {
      "text/plain": [
       "Sequential(\n",
       "  (0): Linear(in_features=275, out_features=128, bias=True)\n",
       "  (1): ReLU()\n",
       "  (2): Linear(in_features=128, out_features=64, bias=True)\n",
       "  (3): ReLU()\n",
       "  (4): Linear(in_features=64, out_features=32, bias=True)\n",
       "  (5): ReLU()\n",
       "  (6): Linear(in_features=32, out_features=16, bias=True)\n",
       "  (7): ReLU()\n",
       "  (8): Linear(in_features=16, out_features=8, bias=True)\n",
       "  (9): ReLU()\n",
       "  (10): Linear(in_features=8, out_features=4, bias=True)\n",
       "  (11): ReLU()\n",
       "  (12): Linear(in_features=4, out_features=1, bias=True)\n",
       ")"
      ]
     },
     "execution_count": 25,
     "metadata": {},
     "output_type": "execute_result"
    },
    {
     "data": {
      "text/plain": [
       "Sequential(\n",
       "  (0): Linear(in_features=275, out_features=128, bias=True)\n",
       "  (1): ReLU()\n",
       "  (2): Linear(in_features=128, out_features=64, bias=True)\n",
       "  (3): ReLU()\n",
       "  (4): Linear(in_features=64, out_features=32, bias=True)\n",
       "  (5): ReLU()\n",
       "  (6): Linear(in_features=32, out_features=16, bias=True)\n",
       "  (7): ReLU()\n",
       "  (8): Linear(in_features=16, out_features=8, bias=True)\n",
       "  (9): ReLU()\n",
       "  (10): Linear(in_features=8, out_features=4, bias=True)\n",
       "  (11): ReLU()\n",
       "  (12): Linear(in_features=4, out_features=1, bias=True)\n",
       ")"
      ]
     },
     "execution_count": 25,
     "metadata": {},
     "output_type": "execute_result"
    },
    {
     "data": {
      "text/plain": [
       "Sequential(\n",
       "  (0): Linear(in_features=275, out_features=128, bias=True)\n",
       "  (1): ReLU()\n",
       "  (2): Linear(in_features=128, out_features=64, bias=True)\n",
       "  (3): ReLU()\n",
       "  (4): Linear(in_features=64, out_features=32, bias=True)\n",
       "  (5): ReLU()\n",
       "  (6): Linear(in_features=32, out_features=16, bias=True)\n",
       "  (7): ReLU()\n",
       "  (8): Linear(in_features=16, out_features=8, bias=True)\n",
       "  (9): ReLU()\n",
       "  (10): Linear(in_features=8, out_features=4, bias=True)\n",
       "  (11): ReLU()\n",
       "  (12): Linear(in_features=4, out_features=1, bias=True)\n",
       ")"
      ]
     },
     "execution_count": 25,
     "metadata": {},
     "output_type": "execute_result"
    },
    {
     "data": {
      "text/plain": [
       "Sequential(\n",
       "  (0): Linear(in_features=275, out_features=128, bias=True)\n",
       "  (1): ReLU()\n",
       "  (2): Linear(in_features=128, out_features=64, bias=True)\n",
       "  (3): ReLU()\n",
       "  (4): Linear(in_features=64, out_features=32, bias=True)\n",
       "  (5): ReLU()\n",
       "  (6): Linear(in_features=32, out_features=16, bias=True)\n",
       "  (7): ReLU()\n",
       "  (8): Linear(in_features=16, out_features=8, bias=True)\n",
       "  (9): ReLU()\n",
       "  (10): Linear(in_features=8, out_features=4, bias=True)\n",
       "  (11): ReLU()\n",
       "  (12): Linear(in_features=4, out_features=1, bias=True)\n",
       ")"
      ]
     },
     "execution_count": 25,
     "metadata": {},
     "output_type": "execute_result"
    },
    {
     "data": {
      "text/plain": [
       "Sequential(\n",
       "  (0): Linear(in_features=275, out_features=128, bias=True)\n",
       "  (1): ReLU()\n",
       "  (2): Linear(in_features=128, out_features=64, bias=True)\n",
       "  (3): ReLU()\n",
       "  (4): Linear(in_features=64, out_features=32, bias=True)\n",
       "  (5): ReLU()\n",
       "  (6): Linear(in_features=32, out_features=16, bias=True)\n",
       "  (7): ReLU()\n",
       "  (8): Linear(in_features=16, out_features=8, bias=True)\n",
       "  (9): ReLU()\n",
       "  (10): Linear(in_features=8, out_features=4, bias=True)\n",
       "  (11): ReLU()\n",
       "  (12): Linear(in_features=4, out_features=1, bias=True)\n",
       ")"
      ]
     },
     "execution_count": 25,
     "metadata": {},
     "output_type": "execute_result"
    },
    {
     "data": {
      "text/plain": [
       "Sequential(\n",
       "  (0): Linear(in_features=275, out_features=128, bias=True)\n",
       "  (1): ReLU()\n",
       "  (2): Linear(in_features=128, out_features=64, bias=True)\n",
       "  (3): ReLU()\n",
       "  (4): Linear(in_features=64, out_features=32, bias=True)\n",
       "  (5): ReLU()\n",
       "  (6): Linear(in_features=32, out_features=16, bias=True)\n",
       "  (7): ReLU()\n",
       "  (8): Linear(in_features=16, out_features=8, bias=True)\n",
       "  (9): ReLU()\n",
       "  (10): Linear(in_features=8, out_features=4, bias=True)\n",
       "  (11): ReLU()\n",
       "  (12): Linear(in_features=4, out_features=1, bias=True)\n",
       ")"
      ]
     },
     "execution_count": 25,
     "metadata": {},
     "output_type": "execute_result"
    },
    {
     "data": {
      "text/plain": [
       "Sequential(\n",
       "  (0): Linear(in_features=275, out_features=128, bias=True)\n",
       "  (1): ReLU()\n",
       "  (2): Linear(in_features=128, out_features=64, bias=True)\n",
       "  (3): ReLU()\n",
       "  (4): Linear(in_features=64, out_features=32, bias=True)\n",
       "  (5): ReLU()\n",
       "  (6): Linear(in_features=32, out_features=16, bias=True)\n",
       "  (7): ReLU()\n",
       "  (8): Linear(in_features=16, out_features=8, bias=True)\n",
       "  (9): ReLU()\n",
       "  (10): Linear(in_features=8, out_features=4, bias=True)\n",
       "  (11): ReLU()\n",
       "  (12): Linear(in_features=4, out_features=1, bias=True)\n",
       ")"
      ]
     },
     "execution_count": 25,
     "metadata": {},
     "output_type": "execute_result"
    },
    {
     "data": {
      "text/plain": [
       "Sequential(\n",
       "  (0): Linear(in_features=275, out_features=128, bias=True)\n",
       "  (1): ReLU()\n",
       "  (2): Linear(in_features=128, out_features=64, bias=True)\n",
       "  (3): ReLU()\n",
       "  (4): Linear(in_features=64, out_features=32, bias=True)\n",
       "  (5): ReLU()\n",
       "  (6): Linear(in_features=32, out_features=16, bias=True)\n",
       "  (7): ReLU()\n",
       "  (8): Linear(in_features=16, out_features=8, bias=True)\n",
       "  (9): ReLU()\n",
       "  (10): Linear(in_features=8, out_features=4, bias=True)\n",
       "  (11): ReLU()\n",
       "  (12): Linear(in_features=4, out_features=1, bias=True)\n",
       ")"
      ]
     },
     "execution_count": 25,
     "metadata": {},
     "output_type": "execute_result"
    },
    {
     "data": {
      "text/plain": [
       "Sequential(\n",
       "  (0): Linear(in_features=275, out_features=128, bias=True)\n",
       "  (1): ReLU()\n",
       "  (2): Linear(in_features=128, out_features=64, bias=True)\n",
       "  (3): ReLU()\n",
       "  (4): Linear(in_features=64, out_features=32, bias=True)\n",
       "  (5): ReLU()\n",
       "  (6): Linear(in_features=32, out_features=16, bias=True)\n",
       "  (7): ReLU()\n",
       "  (8): Linear(in_features=16, out_features=8, bias=True)\n",
       "  (9): ReLU()\n",
       "  (10): Linear(in_features=8, out_features=4, bias=True)\n",
       "  (11): ReLU()\n",
       "  (12): Linear(in_features=4, out_features=1, bias=True)\n",
       ")"
      ]
     },
     "execution_count": 25,
     "metadata": {},
     "output_type": "execute_result"
    },
    {
     "data": {
      "text/plain": [
       "Sequential(\n",
       "  (0): Linear(in_features=275, out_features=128, bias=True)\n",
       "  (1): ReLU()\n",
       "  (2): Linear(in_features=128, out_features=64, bias=True)\n",
       "  (3): ReLU()\n",
       "  (4): Linear(in_features=64, out_features=32, bias=True)\n",
       "  (5): ReLU()\n",
       "  (6): Linear(in_features=32, out_features=16, bias=True)\n",
       "  (7): ReLU()\n",
       "  (8): Linear(in_features=16, out_features=8, bias=True)\n",
       "  (9): ReLU()\n",
       "  (10): Linear(in_features=8, out_features=4, bias=True)\n",
       "  (11): ReLU()\n",
       "  (12): Linear(in_features=4, out_features=1, bias=True)\n",
       ")"
      ]
     },
     "execution_count": 25,
     "metadata": {},
     "output_type": "execute_result"
    },
    {
     "data": {
      "text/plain": [
       "Sequential(\n",
       "  (0): Linear(in_features=275, out_features=128, bias=True)\n",
       "  (1): ReLU()\n",
       "  (2): Linear(in_features=128, out_features=64, bias=True)\n",
       "  (3): ReLU()\n",
       "  (4): Linear(in_features=64, out_features=32, bias=True)\n",
       "  (5): ReLU()\n",
       "  (6): Linear(in_features=32, out_features=16, bias=True)\n",
       "  (7): ReLU()\n",
       "  (8): Linear(in_features=16, out_features=8, bias=True)\n",
       "  (9): ReLU()\n",
       "  (10): Linear(in_features=8, out_features=4, bias=True)\n",
       "  (11): ReLU()\n",
       "  (12): Linear(in_features=4, out_features=1, bias=True)\n",
       ")"
      ]
     },
     "execution_count": 25,
     "metadata": {},
     "output_type": "execute_result"
    },
    {
     "data": {
      "text/plain": [
       "Sequential(\n",
       "  (0): Linear(in_features=275, out_features=128, bias=True)\n",
       "  (1): ReLU()\n",
       "  (2): Linear(in_features=128, out_features=64, bias=True)\n",
       "  (3): ReLU()\n",
       "  (4): Linear(in_features=64, out_features=32, bias=True)\n",
       "  (5): ReLU()\n",
       "  (6): Linear(in_features=32, out_features=16, bias=True)\n",
       "  (7): ReLU()\n",
       "  (8): Linear(in_features=16, out_features=8, bias=True)\n",
       "  (9): ReLU()\n",
       "  (10): Linear(in_features=8, out_features=4, bias=True)\n",
       "  (11): ReLU()\n",
       "  (12): Linear(in_features=4, out_features=1, bias=True)\n",
       ")"
      ]
     },
     "execution_count": 25,
     "metadata": {},
     "output_type": "execute_result"
    },
    {
     "data": {
      "text/plain": [
       "Sequential(\n",
       "  (0): Linear(in_features=275, out_features=128, bias=True)\n",
       "  (1): ReLU()\n",
       "  (2): Linear(in_features=128, out_features=64, bias=True)\n",
       "  (3): ReLU()\n",
       "  (4): Linear(in_features=64, out_features=32, bias=True)\n",
       "  (5): ReLU()\n",
       "  (6): Linear(in_features=32, out_features=16, bias=True)\n",
       "  (7): ReLU()\n",
       "  (8): Linear(in_features=16, out_features=8, bias=True)\n",
       "  (9): ReLU()\n",
       "  (10): Linear(in_features=8, out_features=4, bias=True)\n",
       "  (11): ReLU()\n",
       "  (12): Linear(in_features=4, out_features=1, bias=True)\n",
       ")"
      ]
     },
     "execution_count": 25,
     "metadata": {},
     "output_type": "execute_result"
    },
    {
     "data": {
      "text/plain": [
       "Sequential(\n",
       "  (0): Linear(in_features=275, out_features=128, bias=True)\n",
       "  (1): ReLU()\n",
       "  (2): Linear(in_features=128, out_features=64, bias=True)\n",
       "  (3): ReLU()\n",
       "  (4): Linear(in_features=64, out_features=32, bias=True)\n",
       "  (5): ReLU()\n",
       "  (6): Linear(in_features=32, out_features=16, bias=True)\n",
       "  (7): ReLU()\n",
       "  (8): Linear(in_features=16, out_features=8, bias=True)\n",
       "  (9): ReLU()\n",
       "  (10): Linear(in_features=8, out_features=4, bias=True)\n",
       "  (11): ReLU()\n",
       "  (12): Linear(in_features=4, out_features=1, bias=True)\n",
       ")"
      ]
     },
     "execution_count": 25,
     "metadata": {},
     "output_type": "execute_result"
    },
    {
     "data": {
      "text/plain": [
       "Sequential(\n",
       "  (0): Linear(in_features=275, out_features=128, bias=True)\n",
       "  (1): ReLU()\n",
       "  (2): Linear(in_features=128, out_features=64, bias=True)\n",
       "  (3): ReLU()\n",
       "  (4): Linear(in_features=64, out_features=32, bias=True)\n",
       "  (5): ReLU()\n",
       "  (6): Linear(in_features=32, out_features=16, bias=True)\n",
       "  (7): ReLU()\n",
       "  (8): Linear(in_features=16, out_features=8, bias=True)\n",
       "  (9): ReLU()\n",
       "  (10): Linear(in_features=8, out_features=4, bias=True)\n",
       "  (11): ReLU()\n",
       "  (12): Linear(in_features=4, out_features=1, bias=True)\n",
       ")"
      ]
     },
     "execution_count": 25,
     "metadata": {},
     "output_type": "execute_result"
    },
    {
     "data": {
      "text/plain": [
       "Sequential(\n",
       "  (0): Linear(in_features=275, out_features=128, bias=True)\n",
       "  (1): ReLU()\n",
       "  (2): Linear(in_features=128, out_features=64, bias=True)\n",
       "  (3): ReLU()\n",
       "  (4): Linear(in_features=64, out_features=32, bias=True)\n",
       "  (5): ReLU()\n",
       "  (6): Linear(in_features=32, out_features=16, bias=True)\n",
       "  (7): ReLU()\n",
       "  (8): Linear(in_features=16, out_features=8, bias=True)\n",
       "  (9): ReLU()\n",
       "  (10): Linear(in_features=8, out_features=4, bias=True)\n",
       "  (11): ReLU()\n",
       "  (12): Linear(in_features=4, out_features=1, bias=True)\n",
       ")"
      ]
     },
     "execution_count": 25,
     "metadata": {},
     "output_type": "execute_result"
    },
    {
     "data": {
      "text/plain": [
       "Sequential(\n",
       "  (0): Linear(in_features=275, out_features=128, bias=True)\n",
       "  (1): ReLU()\n",
       "  (2): Linear(in_features=128, out_features=64, bias=True)\n",
       "  (3): ReLU()\n",
       "  (4): Linear(in_features=64, out_features=32, bias=True)\n",
       "  (5): ReLU()\n",
       "  (6): Linear(in_features=32, out_features=16, bias=True)\n",
       "  (7): ReLU()\n",
       "  (8): Linear(in_features=16, out_features=8, bias=True)\n",
       "  (9): ReLU()\n",
       "  (10): Linear(in_features=8, out_features=4, bias=True)\n",
       "  (11): ReLU()\n",
       "  (12): Linear(in_features=4, out_features=1, bias=True)\n",
       ")"
      ]
     },
     "execution_count": 25,
     "metadata": {},
     "output_type": "execute_result"
    },
    {
     "data": {
      "text/plain": [
       "Sequential(\n",
       "  (0): Linear(in_features=275, out_features=128, bias=True)\n",
       "  (1): ReLU()\n",
       "  (2): Linear(in_features=128, out_features=64, bias=True)\n",
       "  (3): ReLU()\n",
       "  (4): Linear(in_features=64, out_features=32, bias=True)\n",
       "  (5): ReLU()\n",
       "  (6): Linear(in_features=32, out_features=16, bias=True)\n",
       "  (7): ReLU()\n",
       "  (8): Linear(in_features=16, out_features=8, bias=True)\n",
       "  (9): ReLU()\n",
       "  (10): Linear(in_features=8, out_features=4, bias=True)\n",
       "  (11): ReLU()\n",
       "  (12): Linear(in_features=4, out_features=1, bias=True)\n",
       ")"
      ]
     },
     "execution_count": 25,
     "metadata": {},
     "output_type": "execute_result"
    },
    {
     "data": {
      "text/plain": [
       "Sequential(\n",
       "  (0): Linear(in_features=275, out_features=128, bias=True)\n",
       "  (1): ReLU()\n",
       "  (2): Linear(in_features=128, out_features=64, bias=True)\n",
       "  (3): ReLU()\n",
       "  (4): Linear(in_features=64, out_features=32, bias=True)\n",
       "  (5): ReLU()\n",
       "  (6): Linear(in_features=32, out_features=16, bias=True)\n",
       "  (7): ReLU()\n",
       "  (8): Linear(in_features=16, out_features=8, bias=True)\n",
       "  (9): ReLU()\n",
       "  (10): Linear(in_features=8, out_features=4, bias=True)\n",
       "  (11): ReLU()\n",
       "  (12): Linear(in_features=4, out_features=1, bias=True)\n",
       ")"
      ]
     },
     "execution_count": 25,
     "metadata": {},
     "output_type": "execute_result"
    },
    {
     "data": {
      "text/plain": [
       "Sequential(\n",
       "  (0): Linear(in_features=275, out_features=128, bias=True)\n",
       "  (1): ReLU()\n",
       "  (2): Linear(in_features=128, out_features=64, bias=True)\n",
       "  (3): ReLU()\n",
       "  (4): Linear(in_features=64, out_features=32, bias=True)\n",
       "  (5): ReLU()\n",
       "  (6): Linear(in_features=32, out_features=16, bias=True)\n",
       "  (7): ReLU()\n",
       "  (8): Linear(in_features=16, out_features=8, bias=True)\n",
       "  (9): ReLU()\n",
       "  (10): Linear(in_features=8, out_features=4, bias=True)\n",
       "  (11): ReLU()\n",
       "  (12): Linear(in_features=4, out_features=1, bias=True)\n",
       ")"
      ]
     },
     "execution_count": 25,
     "metadata": {},
     "output_type": "execute_result"
    },
    {
     "data": {
      "text/plain": [
       "Sequential(\n",
       "  (0): Linear(in_features=275, out_features=128, bias=True)\n",
       "  (1): ReLU()\n",
       "  (2): Linear(in_features=128, out_features=64, bias=True)\n",
       "  (3): ReLU()\n",
       "  (4): Linear(in_features=64, out_features=32, bias=True)\n",
       "  (5): ReLU()\n",
       "  (6): Linear(in_features=32, out_features=16, bias=True)\n",
       "  (7): ReLU()\n",
       "  (8): Linear(in_features=16, out_features=8, bias=True)\n",
       "  (9): ReLU()\n",
       "  (10): Linear(in_features=8, out_features=4, bias=True)\n",
       "  (11): ReLU()\n",
       "  (12): Linear(in_features=4, out_features=1, bias=True)\n",
       ")"
      ]
     },
     "execution_count": 25,
     "metadata": {},
     "output_type": "execute_result"
    },
    {
     "data": {
      "text/plain": [
       "Sequential(\n",
       "  (0): Linear(in_features=275, out_features=128, bias=True)\n",
       "  (1): ReLU()\n",
       "  (2): Linear(in_features=128, out_features=64, bias=True)\n",
       "  (3): ReLU()\n",
       "  (4): Linear(in_features=64, out_features=32, bias=True)\n",
       "  (5): ReLU()\n",
       "  (6): Linear(in_features=32, out_features=16, bias=True)\n",
       "  (7): ReLU()\n",
       "  (8): Linear(in_features=16, out_features=8, bias=True)\n",
       "  (9): ReLU()\n",
       "  (10): Linear(in_features=8, out_features=4, bias=True)\n",
       "  (11): ReLU()\n",
       "  (12): Linear(in_features=4, out_features=1, bias=True)\n",
       ")"
      ]
     },
     "execution_count": 25,
     "metadata": {},
     "output_type": "execute_result"
    },
    {
     "data": {
      "text/plain": [
       "Sequential(\n",
       "  (0): Linear(in_features=275, out_features=128, bias=True)\n",
       "  (1): ReLU()\n",
       "  (2): Linear(in_features=128, out_features=64, bias=True)\n",
       "  (3): ReLU()\n",
       "  (4): Linear(in_features=64, out_features=32, bias=True)\n",
       "  (5): ReLU()\n",
       "  (6): Linear(in_features=32, out_features=16, bias=True)\n",
       "  (7): ReLU()\n",
       "  (8): Linear(in_features=16, out_features=8, bias=True)\n",
       "  (9): ReLU()\n",
       "  (10): Linear(in_features=8, out_features=4, bias=True)\n",
       "  (11): ReLU()\n",
       "  (12): Linear(in_features=4, out_features=1, bias=True)\n",
       ")"
      ]
     },
     "execution_count": 25,
     "metadata": {},
     "output_type": "execute_result"
    },
    {
     "data": {
      "text/plain": [
       "Sequential(\n",
       "  (0): Linear(in_features=275, out_features=128, bias=True)\n",
       "  (1): ReLU()\n",
       "  (2): Linear(in_features=128, out_features=64, bias=True)\n",
       "  (3): ReLU()\n",
       "  (4): Linear(in_features=64, out_features=32, bias=True)\n",
       "  (5): ReLU()\n",
       "  (6): Linear(in_features=32, out_features=16, bias=True)\n",
       "  (7): ReLU()\n",
       "  (8): Linear(in_features=16, out_features=8, bias=True)\n",
       "  (9): ReLU()\n",
       "  (10): Linear(in_features=8, out_features=4, bias=True)\n",
       "  (11): ReLU()\n",
       "  (12): Linear(in_features=4, out_features=1, bias=True)\n",
       ")"
      ]
     },
     "execution_count": 25,
     "metadata": {},
     "output_type": "execute_result"
    },
    {
     "data": {
      "text/plain": [
       "Sequential(\n",
       "  (0): Linear(in_features=275, out_features=128, bias=True)\n",
       "  (1): ReLU()\n",
       "  (2): Linear(in_features=128, out_features=64, bias=True)\n",
       "  (3): ReLU()\n",
       "  (4): Linear(in_features=64, out_features=32, bias=True)\n",
       "  (5): ReLU()\n",
       "  (6): Linear(in_features=32, out_features=16, bias=True)\n",
       "  (7): ReLU()\n",
       "  (8): Linear(in_features=16, out_features=8, bias=True)\n",
       "  (9): ReLU()\n",
       "  (10): Linear(in_features=8, out_features=4, bias=True)\n",
       "  (11): ReLU()\n",
       "  (12): Linear(in_features=4, out_features=1, bias=True)\n",
       ")"
      ]
     },
     "execution_count": 25,
     "metadata": {},
     "output_type": "execute_result"
    },
    {
     "data": {
      "text/plain": [
       "Sequential(\n",
       "  (0): Linear(in_features=275, out_features=128, bias=True)\n",
       "  (1): ReLU()\n",
       "  (2): Linear(in_features=128, out_features=64, bias=True)\n",
       "  (3): ReLU()\n",
       "  (4): Linear(in_features=64, out_features=32, bias=True)\n",
       "  (5): ReLU()\n",
       "  (6): Linear(in_features=32, out_features=16, bias=True)\n",
       "  (7): ReLU()\n",
       "  (8): Linear(in_features=16, out_features=8, bias=True)\n",
       "  (9): ReLU()\n",
       "  (10): Linear(in_features=8, out_features=4, bias=True)\n",
       "  (11): ReLU()\n",
       "  (12): Linear(in_features=4, out_features=1, bias=True)\n",
       ")"
      ]
     },
     "execution_count": 25,
     "metadata": {},
     "output_type": "execute_result"
    },
    {
     "data": {
      "text/plain": [
       "Sequential(\n",
       "  (0): Linear(in_features=275, out_features=128, bias=True)\n",
       "  (1): ReLU()\n",
       "  (2): Linear(in_features=128, out_features=64, bias=True)\n",
       "  (3): ReLU()\n",
       "  (4): Linear(in_features=64, out_features=32, bias=True)\n",
       "  (5): ReLU()\n",
       "  (6): Linear(in_features=32, out_features=16, bias=True)\n",
       "  (7): ReLU()\n",
       "  (8): Linear(in_features=16, out_features=8, bias=True)\n",
       "  (9): ReLU()\n",
       "  (10): Linear(in_features=8, out_features=4, bias=True)\n",
       "  (11): ReLU()\n",
       "  (12): Linear(in_features=4, out_features=1, bias=True)\n",
       ")"
      ]
     },
     "execution_count": 25,
     "metadata": {},
     "output_type": "execute_result"
    },
    {
     "data": {
      "text/plain": [
       "Sequential(\n",
       "  (0): Linear(in_features=275, out_features=128, bias=True)\n",
       "  (1): ReLU()\n",
       "  (2): Linear(in_features=128, out_features=64, bias=True)\n",
       "  (3): ReLU()\n",
       "  (4): Linear(in_features=64, out_features=32, bias=True)\n",
       "  (5): ReLU()\n",
       "  (6): Linear(in_features=32, out_features=16, bias=True)\n",
       "  (7): ReLU()\n",
       "  (8): Linear(in_features=16, out_features=8, bias=True)\n",
       "  (9): ReLU()\n",
       "  (10): Linear(in_features=8, out_features=4, bias=True)\n",
       "  (11): ReLU()\n",
       "  (12): Linear(in_features=4, out_features=1, bias=True)\n",
       ")"
      ]
     },
     "execution_count": 25,
     "metadata": {},
     "output_type": "execute_result"
    },
    {
     "data": {
      "text/plain": [
       "Sequential(\n",
       "  (0): Linear(in_features=275, out_features=128, bias=True)\n",
       "  (1): ReLU()\n",
       "  (2): Linear(in_features=128, out_features=64, bias=True)\n",
       "  (3): ReLU()\n",
       "  (4): Linear(in_features=64, out_features=32, bias=True)\n",
       "  (5): ReLU()\n",
       "  (6): Linear(in_features=32, out_features=16, bias=True)\n",
       "  (7): ReLU()\n",
       "  (8): Linear(in_features=16, out_features=8, bias=True)\n",
       "  (9): ReLU()\n",
       "  (10): Linear(in_features=8, out_features=4, bias=True)\n",
       "  (11): ReLU()\n",
       "  (12): Linear(in_features=4, out_features=1, bias=True)\n",
       ")"
      ]
     },
     "execution_count": 25,
     "metadata": {},
     "output_type": "execute_result"
    },
    {
     "data": {
      "text/plain": [
       "Sequential(\n",
       "  (0): Linear(in_features=275, out_features=128, bias=True)\n",
       "  (1): ReLU()\n",
       "  (2): Linear(in_features=128, out_features=64, bias=True)\n",
       "  (3): ReLU()\n",
       "  (4): Linear(in_features=64, out_features=32, bias=True)\n",
       "  (5): ReLU()\n",
       "  (6): Linear(in_features=32, out_features=16, bias=True)\n",
       "  (7): ReLU()\n",
       "  (8): Linear(in_features=16, out_features=8, bias=True)\n",
       "  (9): ReLU()\n",
       "  (10): Linear(in_features=8, out_features=4, bias=True)\n",
       "  (11): ReLU()\n",
       "  (12): Linear(in_features=4, out_features=1, bias=True)\n",
       ")"
      ]
     },
     "execution_count": 25,
     "metadata": {},
     "output_type": "execute_result"
    },
    {
     "data": {
      "text/plain": [
       "Sequential(\n",
       "  (0): Linear(in_features=275, out_features=128, bias=True)\n",
       "  (1): ReLU()\n",
       "  (2): Linear(in_features=128, out_features=64, bias=True)\n",
       "  (3): ReLU()\n",
       "  (4): Linear(in_features=64, out_features=32, bias=True)\n",
       "  (5): ReLU()\n",
       "  (6): Linear(in_features=32, out_features=16, bias=True)\n",
       "  (7): ReLU()\n",
       "  (8): Linear(in_features=16, out_features=8, bias=True)\n",
       "  (9): ReLU()\n",
       "  (10): Linear(in_features=8, out_features=4, bias=True)\n",
       "  (11): ReLU()\n",
       "  (12): Linear(in_features=4, out_features=1, bias=True)\n",
       ")"
      ]
     },
     "execution_count": 25,
     "metadata": {},
     "output_type": "execute_result"
    },
    {
     "data": {
      "text/plain": [
       "Sequential(\n",
       "  (0): Linear(in_features=275, out_features=128, bias=True)\n",
       "  (1): ReLU()\n",
       "  (2): Linear(in_features=128, out_features=64, bias=True)\n",
       "  (3): ReLU()\n",
       "  (4): Linear(in_features=64, out_features=32, bias=True)\n",
       "  (5): ReLU()\n",
       "  (6): Linear(in_features=32, out_features=16, bias=True)\n",
       "  (7): ReLU()\n",
       "  (8): Linear(in_features=16, out_features=8, bias=True)\n",
       "  (9): ReLU()\n",
       "  (10): Linear(in_features=8, out_features=4, bias=True)\n",
       "  (11): ReLU()\n",
       "  (12): Linear(in_features=4, out_features=1, bias=True)\n",
       ")"
      ]
     },
     "execution_count": 25,
     "metadata": {},
     "output_type": "execute_result"
    },
    {
     "data": {
      "text/plain": [
       "Sequential(\n",
       "  (0): Linear(in_features=275, out_features=128, bias=True)\n",
       "  (1): ReLU()\n",
       "  (2): Linear(in_features=128, out_features=64, bias=True)\n",
       "  (3): ReLU()\n",
       "  (4): Linear(in_features=64, out_features=32, bias=True)\n",
       "  (5): ReLU()\n",
       "  (6): Linear(in_features=32, out_features=16, bias=True)\n",
       "  (7): ReLU()\n",
       "  (8): Linear(in_features=16, out_features=8, bias=True)\n",
       "  (9): ReLU()\n",
       "  (10): Linear(in_features=8, out_features=4, bias=True)\n",
       "  (11): ReLU()\n",
       "  (12): Linear(in_features=4, out_features=1, bias=True)\n",
       ")"
      ]
     },
     "execution_count": 25,
     "metadata": {},
     "output_type": "execute_result"
    },
    {
     "data": {
      "text/plain": [
       "Sequential(\n",
       "  (0): Linear(in_features=275, out_features=128, bias=True)\n",
       "  (1): ReLU()\n",
       "  (2): Linear(in_features=128, out_features=64, bias=True)\n",
       "  (3): ReLU()\n",
       "  (4): Linear(in_features=64, out_features=32, bias=True)\n",
       "  (5): ReLU()\n",
       "  (6): Linear(in_features=32, out_features=16, bias=True)\n",
       "  (7): ReLU()\n",
       "  (8): Linear(in_features=16, out_features=8, bias=True)\n",
       "  (9): ReLU()\n",
       "  (10): Linear(in_features=8, out_features=4, bias=True)\n",
       "  (11): ReLU()\n",
       "  (12): Linear(in_features=4, out_features=1, bias=True)\n",
       ")"
      ]
     },
     "execution_count": 25,
     "metadata": {},
     "output_type": "execute_result"
    },
    {
     "data": {
      "text/plain": [
       "Sequential(\n",
       "  (0): Linear(in_features=275, out_features=128, bias=True)\n",
       "  (1): ReLU()\n",
       "  (2): Linear(in_features=128, out_features=64, bias=True)\n",
       "  (3): ReLU()\n",
       "  (4): Linear(in_features=64, out_features=32, bias=True)\n",
       "  (5): ReLU()\n",
       "  (6): Linear(in_features=32, out_features=16, bias=True)\n",
       "  (7): ReLU()\n",
       "  (8): Linear(in_features=16, out_features=8, bias=True)\n",
       "  (9): ReLU()\n",
       "  (10): Linear(in_features=8, out_features=4, bias=True)\n",
       "  (11): ReLU()\n",
       "  (12): Linear(in_features=4, out_features=1, bias=True)\n",
       ")"
      ]
     },
     "execution_count": 25,
     "metadata": {},
     "output_type": "execute_result"
    },
    {
     "data": {
      "text/plain": [
       "Sequential(\n",
       "  (0): Linear(in_features=275, out_features=128, bias=True)\n",
       "  (1): ReLU()\n",
       "  (2): Linear(in_features=128, out_features=64, bias=True)\n",
       "  (3): ReLU()\n",
       "  (4): Linear(in_features=64, out_features=32, bias=True)\n",
       "  (5): ReLU()\n",
       "  (6): Linear(in_features=32, out_features=16, bias=True)\n",
       "  (7): ReLU()\n",
       "  (8): Linear(in_features=16, out_features=8, bias=True)\n",
       "  (9): ReLU()\n",
       "  (10): Linear(in_features=8, out_features=4, bias=True)\n",
       "  (11): ReLU()\n",
       "  (12): Linear(in_features=4, out_features=1, bias=True)\n",
       ")"
      ]
     },
     "execution_count": 25,
     "metadata": {},
     "output_type": "execute_result"
    },
    {
     "data": {
      "text/plain": [
       "Sequential(\n",
       "  (0): Linear(in_features=275, out_features=128, bias=True)\n",
       "  (1): ReLU()\n",
       "  (2): Linear(in_features=128, out_features=64, bias=True)\n",
       "  (3): ReLU()\n",
       "  (4): Linear(in_features=64, out_features=32, bias=True)\n",
       "  (5): ReLU()\n",
       "  (6): Linear(in_features=32, out_features=16, bias=True)\n",
       "  (7): ReLU()\n",
       "  (8): Linear(in_features=16, out_features=8, bias=True)\n",
       "  (9): ReLU()\n",
       "  (10): Linear(in_features=8, out_features=4, bias=True)\n",
       "  (11): ReLU()\n",
       "  (12): Linear(in_features=4, out_features=1, bias=True)\n",
       ")"
      ]
     },
     "execution_count": 25,
     "metadata": {},
     "output_type": "execute_result"
    },
    {
     "data": {
      "text/plain": [
       "Sequential(\n",
       "  (0): Linear(in_features=275, out_features=128, bias=True)\n",
       "  (1): ReLU()\n",
       "  (2): Linear(in_features=128, out_features=64, bias=True)\n",
       "  (3): ReLU()\n",
       "  (4): Linear(in_features=64, out_features=32, bias=True)\n",
       "  (5): ReLU()\n",
       "  (6): Linear(in_features=32, out_features=16, bias=True)\n",
       "  (7): ReLU()\n",
       "  (8): Linear(in_features=16, out_features=8, bias=True)\n",
       "  (9): ReLU()\n",
       "  (10): Linear(in_features=8, out_features=4, bias=True)\n",
       "  (11): ReLU()\n",
       "  (12): Linear(in_features=4, out_features=1, bias=True)\n",
       ")"
      ]
     },
     "execution_count": 25,
     "metadata": {},
     "output_type": "execute_result"
    },
    {
     "data": {
      "text/plain": [
       "Sequential(\n",
       "  (0): Linear(in_features=275, out_features=128, bias=True)\n",
       "  (1): ReLU()\n",
       "  (2): Linear(in_features=128, out_features=64, bias=True)\n",
       "  (3): ReLU()\n",
       "  (4): Linear(in_features=64, out_features=32, bias=True)\n",
       "  (5): ReLU()\n",
       "  (6): Linear(in_features=32, out_features=16, bias=True)\n",
       "  (7): ReLU()\n",
       "  (8): Linear(in_features=16, out_features=8, bias=True)\n",
       "  (9): ReLU()\n",
       "  (10): Linear(in_features=8, out_features=4, bias=True)\n",
       "  (11): ReLU()\n",
       "  (12): Linear(in_features=4, out_features=1, bias=True)\n",
       ")"
      ]
     },
     "execution_count": 25,
     "metadata": {},
     "output_type": "execute_result"
    },
    {
     "data": {
      "text/plain": [
       "Sequential(\n",
       "  (0): Linear(in_features=275, out_features=128, bias=True)\n",
       "  (1): ReLU()\n",
       "  (2): Linear(in_features=128, out_features=64, bias=True)\n",
       "  (3): ReLU()\n",
       "  (4): Linear(in_features=64, out_features=32, bias=True)\n",
       "  (5): ReLU()\n",
       "  (6): Linear(in_features=32, out_features=16, bias=True)\n",
       "  (7): ReLU()\n",
       "  (8): Linear(in_features=16, out_features=8, bias=True)\n",
       "  (9): ReLU()\n",
       "  (10): Linear(in_features=8, out_features=4, bias=True)\n",
       "  (11): ReLU()\n",
       "  (12): Linear(in_features=4, out_features=1, bias=True)\n",
       ")"
      ]
     },
     "execution_count": 25,
     "metadata": {},
     "output_type": "execute_result"
    },
    {
     "data": {
      "text/plain": [
       "Sequential(\n",
       "  (0): Linear(in_features=275, out_features=128, bias=True)\n",
       "  (1): ReLU()\n",
       "  (2): Linear(in_features=128, out_features=64, bias=True)\n",
       "  (3): ReLU()\n",
       "  (4): Linear(in_features=64, out_features=32, bias=True)\n",
       "  (5): ReLU()\n",
       "  (6): Linear(in_features=32, out_features=16, bias=True)\n",
       "  (7): ReLU()\n",
       "  (8): Linear(in_features=16, out_features=8, bias=True)\n",
       "  (9): ReLU()\n",
       "  (10): Linear(in_features=8, out_features=4, bias=True)\n",
       "  (11): ReLU()\n",
       "  (12): Linear(in_features=4, out_features=1, bias=True)\n",
       ")"
      ]
     },
     "execution_count": 25,
     "metadata": {},
     "output_type": "execute_result"
    },
    {
     "data": {
      "text/plain": [
       "Sequential(\n",
       "  (0): Linear(in_features=275, out_features=128, bias=True)\n",
       "  (1): ReLU()\n",
       "  (2): Linear(in_features=128, out_features=64, bias=True)\n",
       "  (3): ReLU()\n",
       "  (4): Linear(in_features=64, out_features=32, bias=True)\n",
       "  (5): ReLU()\n",
       "  (6): Linear(in_features=32, out_features=16, bias=True)\n",
       "  (7): ReLU()\n",
       "  (8): Linear(in_features=16, out_features=8, bias=True)\n",
       "  (9): ReLU()\n",
       "  (10): Linear(in_features=8, out_features=4, bias=True)\n",
       "  (11): ReLU()\n",
       "  (12): Linear(in_features=4, out_features=1, bias=True)\n",
       ")"
      ]
     },
     "execution_count": 25,
     "metadata": {},
     "output_type": "execute_result"
    },
    {
     "data": {
      "text/plain": [
       "Sequential(\n",
       "  (0): Linear(in_features=275, out_features=128, bias=True)\n",
       "  (1): ReLU()\n",
       "  (2): Linear(in_features=128, out_features=64, bias=True)\n",
       "  (3): ReLU()\n",
       "  (4): Linear(in_features=64, out_features=32, bias=True)\n",
       "  (5): ReLU()\n",
       "  (6): Linear(in_features=32, out_features=16, bias=True)\n",
       "  (7): ReLU()\n",
       "  (8): Linear(in_features=16, out_features=8, bias=True)\n",
       "  (9): ReLU()\n",
       "  (10): Linear(in_features=8, out_features=4, bias=True)\n",
       "  (11): ReLU()\n",
       "  (12): Linear(in_features=4, out_features=1, bias=True)\n",
       ")"
      ]
     },
     "execution_count": 25,
     "metadata": {},
     "output_type": "execute_result"
    },
    {
     "data": {
      "text/plain": [
       "Sequential(\n",
       "  (0): Linear(in_features=275, out_features=128, bias=True)\n",
       "  (1): ReLU()\n",
       "  (2): Linear(in_features=128, out_features=64, bias=True)\n",
       "  (3): ReLU()\n",
       "  (4): Linear(in_features=64, out_features=32, bias=True)\n",
       "  (5): ReLU()\n",
       "  (6): Linear(in_features=32, out_features=16, bias=True)\n",
       "  (7): ReLU()\n",
       "  (8): Linear(in_features=16, out_features=8, bias=True)\n",
       "  (9): ReLU()\n",
       "  (10): Linear(in_features=8, out_features=4, bias=True)\n",
       "  (11): ReLU()\n",
       "  (12): Linear(in_features=4, out_features=1, bias=True)\n",
       ")"
      ]
     },
     "execution_count": 25,
     "metadata": {},
     "output_type": "execute_result"
    },
    {
     "data": {
      "text/plain": [
       "Sequential(\n",
       "  (0): Linear(in_features=275, out_features=128, bias=True)\n",
       "  (1): ReLU()\n",
       "  (2): Linear(in_features=128, out_features=64, bias=True)\n",
       "  (3): ReLU()\n",
       "  (4): Linear(in_features=64, out_features=32, bias=True)\n",
       "  (5): ReLU()\n",
       "  (6): Linear(in_features=32, out_features=16, bias=True)\n",
       "  (7): ReLU()\n",
       "  (8): Linear(in_features=16, out_features=8, bias=True)\n",
       "  (9): ReLU()\n",
       "  (10): Linear(in_features=8, out_features=4, bias=True)\n",
       "  (11): ReLU()\n",
       "  (12): Linear(in_features=4, out_features=1, bias=True)\n",
       ")"
      ]
     },
     "execution_count": 25,
     "metadata": {},
     "output_type": "execute_result"
    },
    {
     "data": {
      "text/plain": [
       "Sequential(\n",
       "  (0): Linear(in_features=275, out_features=128, bias=True)\n",
       "  (1): ReLU()\n",
       "  (2): Linear(in_features=128, out_features=64, bias=True)\n",
       "  (3): ReLU()\n",
       "  (4): Linear(in_features=64, out_features=32, bias=True)\n",
       "  (5): ReLU()\n",
       "  (6): Linear(in_features=32, out_features=16, bias=True)\n",
       "  (7): ReLU()\n",
       "  (8): Linear(in_features=16, out_features=8, bias=True)\n",
       "  (9): ReLU()\n",
       "  (10): Linear(in_features=8, out_features=4, bias=True)\n",
       "  (11): ReLU()\n",
       "  (12): Linear(in_features=4, out_features=1, bias=True)\n",
       ")"
      ]
     },
     "execution_count": 25,
     "metadata": {},
     "output_type": "execute_result"
    },
    {
     "data": {
      "text/plain": [
       "Sequential(\n",
       "  (0): Linear(in_features=275, out_features=128, bias=True)\n",
       "  (1): ReLU()\n",
       "  (2): Linear(in_features=128, out_features=64, bias=True)\n",
       "  (3): ReLU()\n",
       "  (4): Linear(in_features=64, out_features=32, bias=True)\n",
       "  (5): ReLU()\n",
       "  (6): Linear(in_features=32, out_features=16, bias=True)\n",
       "  (7): ReLU()\n",
       "  (8): Linear(in_features=16, out_features=8, bias=True)\n",
       "  (9): ReLU()\n",
       "  (10): Linear(in_features=8, out_features=4, bias=True)\n",
       "  (11): ReLU()\n",
       "  (12): Linear(in_features=4, out_features=1, bias=True)\n",
       ")"
      ]
     },
     "execution_count": 25,
     "metadata": {},
     "output_type": "execute_result"
    },
    {
     "data": {
      "text/plain": [
       "Sequential(\n",
       "  (0): Linear(in_features=275, out_features=128, bias=True)\n",
       "  (1): ReLU()\n",
       "  (2): Linear(in_features=128, out_features=64, bias=True)\n",
       "  (3): ReLU()\n",
       "  (4): Linear(in_features=64, out_features=32, bias=True)\n",
       "  (5): ReLU()\n",
       "  (6): Linear(in_features=32, out_features=16, bias=True)\n",
       "  (7): ReLU()\n",
       "  (8): Linear(in_features=16, out_features=8, bias=True)\n",
       "  (9): ReLU()\n",
       "  (10): Linear(in_features=8, out_features=4, bias=True)\n",
       "  (11): ReLU()\n",
       "  (12): Linear(in_features=4, out_features=1, bias=True)\n",
       ")"
      ]
     },
     "execution_count": 25,
     "metadata": {},
     "output_type": "execute_result"
    },
    {
     "data": {
      "text/plain": [
       "Sequential(\n",
       "  (0): Linear(in_features=275, out_features=128, bias=True)\n",
       "  (1): ReLU()\n",
       "  (2): Linear(in_features=128, out_features=64, bias=True)\n",
       "  (3): ReLU()\n",
       "  (4): Linear(in_features=64, out_features=32, bias=True)\n",
       "  (5): ReLU()\n",
       "  (6): Linear(in_features=32, out_features=16, bias=True)\n",
       "  (7): ReLU()\n",
       "  (8): Linear(in_features=16, out_features=8, bias=True)\n",
       "  (9): ReLU()\n",
       "  (10): Linear(in_features=8, out_features=4, bias=True)\n",
       "  (11): ReLU()\n",
       "  (12): Linear(in_features=4, out_features=1, bias=True)\n",
       ")"
      ]
     },
     "execution_count": 25,
     "metadata": {},
     "output_type": "execute_result"
    },
    {
     "data": {
      "text/plain": [
       "Sequential(\n",
       "  (0): Linear(in_features=275, out_features=128, bias=True)\n",
       "  (1): ReLU()\n",
       "  (2): Linear(in_features=128, out_features=64, bias=True)\n",
       "  (3): ReLU()\n",
       "  (4): Linear(in_features=64, out_features=32, bias=True)\n",
       "  (5): ReLU()\n",
       "  (6): Linear(in_features=32, out_features=16, bias=True)\n",
       "  (7): ReLU()\n",
       "  (8): Linear(in_features=16, out_features=8, bias=True)\n",
       "  (9): ReLU()\n",
       "  (10): Linear(in_features=8, out_features=4, bias=True)\n",
       "  (11): ReLU()\n",
       "  (12): Linear(in_features=4, out_features=1, bias=True)\n",
       ")"
      ]
     },
     "execution_count": 25,
     "metadata": {},
     "output_type": "execute_result"
    },
    {
     "data": {
      "text/plain": [
       "Sequential(\n",
       "  (0): Linear(in_features=275, out_features=128, bias=True)\n",
       "  (1): ReLU()\n",
       "  (2): Linear(in_features=128, out_features=64, bias=True)\n",
       "  (3): ReLU()\n",
       "  (4): Linear(in_features=64, out_features=32, bias=True)\n",
       "  (5): ReLU()\n",
       "  (6): Linear(in_features=32, out_features=16, bias=True)\n",
       "  (7): ReLU()\n",
       "  (8): Linear(in_features=16, out_features=8, bias=True)\n",
       "  (9): ReLU()\n",
       "  (10): Linear(in_features=8, out_features=4, bias=True)\n",
       "  (11): ReLU()\n",
       "  (12): Linear(in_features=4, out_features=1, bias=True)\n",
       ")"
      ]
     },
     "execution_count": 25,
     "metadata": {},
     "output_type": "execute_result"
    },
    {
     "data": {
      "text/plain": [
       "Sequential(\n",
       "  (0): Linear(in_features=275, out_features=128, bias=True)\n",
       "  (1): ReLU()\n",
       "  (2): Linear(in_features=128, out_features=64, bias=True)\n",
       "  (3): ReLU()\n",
       "  (4): Linear(in_features=64, out_features=32, bias=True)\n",
       "  (5): ReLU()\n",
       "  (6): Linear(in_features=32, out_features=16, bias=True)\n",
       "  (7): ReLU()\n",
       "  (8): Linear(in_features=16, out_features=8, bias=True)\n",
       "  (9): ReLU()\n",
       "  (10): Linear(in_features=8, out_features=4, bias=True)\n",
       "  (11): ReLU()\n",
       "  (12): Linear(in_features=4, out_features=1, bias=True)\n",
       ")"
      ]
     },
     "execution_count": 25,
     "metadata": {},
     "output_type": "execute_result"
    },
    {
     "data": {
      "text/plain": [
       "Sequential(\n",
       "  (0): Linear(in_features=275, out_features=128, bias=True)\n",
       "  (1): ReLU()\n",
       "  (2): Linear(in_features=128, out_features=64, bias=True)\n",
       "  (3): ReLU()\n",
       "  (4): Linear(in_features=64, out_features=32, bias=True)\n",
       "  (5): ReLU()\n",
       "  (6): Linear(in_features=32, out_features=16, bias=True)\n",
       "  (7): ReLU()\n",
       "  (8): Linear(in_features=16, out_features=8, bias=True)\n",
       "  (9): ReLU()\n",
       "  (10): Linear(in_features=8, out_features=4, bias=True)\n",
       "  (11): ReLU()\n",
       "  (12): Linear(in_features=4, out_features=1, bias=True)\n",
       ")"
      ]
     },
     "execution_count": 25,
     "metadata": {},
     "output_type": "execute_result"
    },
    {
     "data": {
      "text/plain": [
       "Sequential(\n",
       "  (0): Linear(in_features=275, out_features=128, bias=True)\n",
       "  (1): ReLU()\n",
       "  (2): Linear(in_features=128, out_features=64, bias=True)\n",
       "  (3): ReLU()\n",
       "  (4): Linear(in_features=64, out_features=32, bias=True)\n",
       "  (5): ReLU()\n",
       "  (6): Linear(in_features=32, out_features=16, bias=True)\n",
       "  (7): ReLU()\n",
       "  (8): Linear(in_features=16, out_features=8, bias=True)\n",
       "  (9): ReLU()\n",
       "  (10): Linear(in_features=8, out_features=4, bias=True)\n",
       "  (11): ReLU()\n",
       "  (12): Linear(in_features=4, out_features=1, bias=True)\n",
       ")"
      ]
     },
     "execution_count": 25,
     "metadata": {},
     "output_type": "execute_result"
    },
    {
     "data": {
      "text/plain": [
       "Sequential(\n",
       "  (0): Linear(in_features=275, out_features=128, bias=True)\n",
       "  (1): ReLU()\n",
       "  (2): Linear(in_features=128, out_features=64, bias=True)\n",
       "  (3): ReLU()\n",
       "  (4): Linear(in_features=64, out_features=32, bias=True)\n",
       "  (5): ReLU()\n",
       "  (6): Linear(in_features=32, out_features=16, bias=True)\n",
       "  (7): ReLU()\n",
       "  (8): Linear(in_features=16, out_features=8, bias=True)\n",
       "  (9): ReLU()\n",
       "  (10): Linear(in_features=8, out_features=4, bias=True)\n",
       "  (11): ReLU()\n",
       "  (12): Linear(in_features=4, out_features=1, bias=True)\n",
       ")"
      ]
     },
     "execution_count": 25,
     "metadata": {},
     "output_type": "execute_result"
    },
    {
     "data": {
      "text/plain": [
       "Sequential(\n",
       "  (0): Linear(in_features=275, out_features=128, bias=True)\n",
       "  (1): ReLU()\n",
       "  (2): Linear(in_features=128, out_features=64, bias=True)\n",
       "  (3): ReLU()\n",
       "  (4): Linear(in_features=64, out_features=32, bias=True)\n",
       "  (5): ReLU()\n",
       "  (6): Linear(in_features=32, out_features=16, bias=True)\n",
       "  (7): ReLU()\n",
       "  (8): Linear(in_features=16, out_features=8, bias=True)\n",
       "  (9): ReLU()\n",
       "  (10): Linear(in_features=8, out_features=4, bias=True)\n",
       "  (11): ReLU()\n",
       "  (12): Linear(in_features=4, out_features=1, bias=True)\n",
       ")"
      ]
     },
     "execution_count": 25,
     "metadata": {},
     "output_type": "execute_result"
    },
    {
     "data": {
      "text/plain": [
       "Sequential(\n",
       "  (0): Linear(in_features=275, out_features=128, bias=True)\n",
       "  (1): ReLU()\n",
       "  (2): Linear(in_features=128, out_features=64, bias=True)\n",
       "  (3): ReLU()\n",
       "  (4): Linear(in_features=64, out_features=32, bias=True)\n",
       "  (5): ReLU()\n",
       "  (6): Linear(in_features=32, out_features=16, bias=True)\n",
       "  (7): ReLU()\n",
       "  (8): Linear(in_features=16, out_features=8, bias=True)\n",
       "  (9): ReLU()\n",
       "  (10): Linear(in_features=8, out_features=4, bias=True)\n",
       "  (11): ReLU()\n",
       "  (12): Linear(in_features=4, out_features=1, bias=True)\n",
       ")"
      ]
     },
     "execution_count": 25,
     "metadata": {},
     "output_type": "execute_result"
    },
    {
     "data": {
      "text/plain": [
       "Sequential(\n",
       "  (0): Linear(in_features=275, out_features=128, bias=True)\n",
       "  (1): ReLU()\n",
       "  (2): Linear(in_features=128, out_features=64, bias=True)\n",
       "  (3): ReLU()\n",
       "  (4): Linear(in_features=64, out_features=32, bias=True)\n",
       "  (5): ReLU()\n",
       "  (6): Linear(in_features=32, out_features=16, bias=True)\n",
       "  (7): ReLU()\n",
       "  (8): Linear(in_features=16, out_features=8, bias=True)\n",
       "  (9): ReLU()\n",
       "  (10): Linear(in_features=8, out_features=4, bias=True)\n",
       "  (11): ReLU()\n",
       "  (12): Linear(in_features=4, out_features=1, bias=True)\n",
       ")"
      ]
     },
     "execution_count": 25,
     "metadata": {},
     "output_type": "execute_result"
    },
    {
     "data": {
      "text/plain": [
       "Sequential(\n",
       "  (0): Linear(in_features=275, out_features=128, bias=True)\n",
       "  (1): ReLU()\n",
       "  (2): Linear(in_features=128, out_features=64, bias=True)\n",
       "  (3): ReLU()\n",
       "  (4): Linear(in_features=64, out_features=32, bias=True)\n",
       "  (5): ReLU()\n",
       "  (6): Linear(in_features=32, out_features=16, bias=True)\n",
       "  (7): ReLU()\n",
       "  (8): Linear(in_features=16, out_features=8, bias=True)\n",
       "  (9): ReLU()\n",
       "  (10): Linear(in_features=8, out_features=4, bias=True)\n",
       "  (11): ReLU()\n",
       "  (12): Linear(in_features=4, out_features=1, bias=True)\n",
       ")"
      ]
     },
     "execution_count": 25,
     "metadata": {},
     "output_type": "execute_result"
    },
    {
     "data": {
      "text/plain": [
       "Sequential(\n",
       "  (0): Linear(in_features=275, out_features=128, bias=True)\n",
       "  (1): ReLU()\n",
       "  (2): Linear(in_features=128, out_features=64, bias=True)\n",
       "  (3): ReLU()\n",
       "  (4): Linear(in_features=64, out_features=32, bias=True)\n",
       "  (5): ReLU()\n",
       "  (6): Linear(in_features=32, out_features=16, bias=True)\n",
       "  (7): ReLU()\n",
       "  (8): Linear(in_features=16, out_features=8, bias=True)\n",
       "  (9): ReLU()\n",
       "  (10): Linear(in_features=8, out_features=4, bias=True)\n",
       "  (11): ReLU()\n",
       "  (12): Linear(in_features=4, out_features=1, bias=True)\n",
       ")"
      ]
     },
     "execution_count": 25,
     "metadata": {},
     "output_type": "execute_result"
    },
    {
     "data": {
      "text/plain": [
       "Sequential(\n",
       "  (0): Linear(in_features=275, out_features=128, bias=True)\n",
       "  (1): ReLU()\n",
       "  (2): Linear(in_features=128, out_features=64, bias=True)\n",
       "  (3): ReLU()\n",
       "  (4): Linear(in_features=64, out_features=32, bias=True)\n",
       "  (5): ReLU()\n",
       "  (6): Linear(in_features=32, out_features=16, bias=True)\n",
       "  (7): ReLU()\n",
       "  (8): Linear(in_features=16, out_features=8, bias=True)\n",
       "  (9): ReLU()\n",
       "  (10): Linear(in_features=8, out_features=4, bias=True)\n",
       "  (11): ReLU()\n",
       "  (12): Linear(in_features=4, out_features=1, bias=True)\n",
       ")"
      ]
     },
     "execution_count": 25,
     "metadata": {},
     "output_type": "execute_result"
    },
    {
     "data": {
      "text/plain": [
       "Sequential(\n",
       "  (0): Linear(in_features=275, out_features=128, bias=True)\n",
       "  (1): ReLU()\n",
       "  (2): Linear(in_features=128, out_features=64, bias=True)\n",
       "  (3): ReLU()\n",
       "  (4): Linear(in_features=64, out_features=32, bias=True)\n",
       "  (5): ReLU()\n",
       "  (6): Linear(in_features=32, out_features=16, bias=True)\n",
       "  (7): ReLU()\n",
       "  (8): Linear(in_features=16, out_features=8, bias=True)\n",
       "  (9): ReLU()\n",
       "  (10): Linear(in_features=8, out_features=4, bias=True)\n",
       "  (11): ReLU()\n",
       "  (12): Linear(in_features=4, out_features=1, bias=True)\n",
       ")"
      ]
     },
     "execution_count": 25,
     "metadata": {},
     "output_type": "execute_result"
    },
    {
     "data": {
      "text/plain": [
       "Sequential(\n",
       "  (0): Linear(in_features=275, out_features=128, bias=True)\n",
       "  (1): ReLU()\n",
       "  (2): Linear(in_features=128, out_features=64, bias=True)\n",
       "  (3): ReLU()\n",
       "  (4): Linear(in_features=64, out_features=32, bias=True)\n",
       "  (5): ReLU()\n",
       "  (6): Linear(in_features=32, out_features=16, bias=True)\n",
       "  (7): ReLU()\n",
       "  (8): Linear(in_features=16, out_features=8, bias=True)\n",
       "  (9): ReLU()\n",
       "  (10): Linear(in_features=8, out_features=4, bias=True)\n",
       "  (11): ReLU()\n",
       "  (12): Linear(in_features=4, out_features=1, bias=True)\n",
       ")"
      ]
     },
     "execution_count": 25,
     "metadata": {},
     "output_type": "execute_result"
    },
    {
     "data": {
      "text/plain": [
       "Sequential(\n",
       "  (0): Linear(in_features=275, out_features=128, bias=True)\n",
       "  (1): ReLU()\n",
       "  (2): Linear(in_features=128, out_features=64, bias=True)\n",
       "  (3): ReLU()\n",
       "  (4): Linear(in_features=64, out_features=32, bias=True)\n",
       "  (5): ReLU()\n",
       "  (6): Linear(in_features=32, out_features=16, bias=True)\n",
       "  (7): ReLU()\n",
       "  (8): Linear(in_features=16, out_features=8, bias=True)\n",
       "  (9): ReLU()\n",
       "  (10): Linear(in_features=8, out_features=4, bias=True)\n",
       "  (11): ReLU()\n",
       "  (12): Linear(in_features=4, out_features=1, bias=True)\n",
       ")"
      ]
     },
     "execution_count": 25,
     "metadata": {},
     "output_type": "execute_result"
    },
    {
     "data": {
      "text/plain": [
       "Sequential(\n",
       "  (0): Linear(in_features=275, out_features=128, bias=True)\n",
       "  (1): ReLU()\n",
       "  (2): Linear(in_features=128, out_features=64, bias=True)\n",
       "  (3): ReLU()\n",
       "  (4): Linear(in_features=64, out_features=32, bias=True)\n",
       "  (5): ReLU()\n",
       "  (6): Linear(in_features=32, out_features=16, bias=True)\n",
       "  (7): ReLU()\n",
       "  (8): Linear(in_features=16, out_features=8, bias=True)\n",
       "  (9): ReLU()\n",
       "  (10): Linear(in_features=8, out_features=4, bias=True)\n",
       "  (11): ReLU()\n",
       "  (12): Linear(in_features=4, out_features=1, bias=True)\n",
       ")"
      ]
     },
     "execution_count": 25,
     "metadata": {},
     "output_type": "execute_result"
    },
    {
     "data": {
      "text/plain": [
       "Sequential(\n",
       "  (0): Linear(in_features=275, out_features=128, bias=True)\n",
       "  (1): ReLU()\n",
       "  (2): Linear(in_features=128, out_features=64, bias=True)\n",
       "  (3): ReLU()\n",
       "  (4): Linear(in_features=64, out_features=32, bias=True)\n",
       "  (5): ReLU()\n",
       "  (6): Linear(in_features=32, out_features=16, bias=True)\n",
       "  (7): ReLU()\n",
       "  (8): Linear(in_features=16, out_features=8, bias=True)\n",
       "  (9): ReLU()\n",
       "  (10): Linear(in_features=8, out_features=4, bias=True)\n",
       "  (11): ReLU()\n",
       "  (12): Linear(in_features=4, out_features=1, bias=True)\n",
       ")"
      ]
     },
     "execution_count": 25,
     "metadata": {},
     "output_type": "execute_result"
    },
    {
     "data": {
      "text/plain": [
       "Sequential(\n",
       "  (0): Linear(in_features=275, out_features=128, bias=True)\n",
       "  (1): ReLU()\n",
       "  (2): Linear(in_features=128, out_features=64, bias=True)\n",
       "  (3): ReLU()\n",
       "  (4): Linear(in_features=64, out_features=32, bias=True)\n",
       "  (5): ReLU()\n",
       "  (6): Linear(in_features=32, out_features=16, bias=True)\n",
       "  (7): ReLU()\n",
       "  (8): Linear(in_features=16, out_features=8, bias=True)\n",
       "  (9): ReLU()\n",
       "  (10): Linear(in_features=8, out_features=4, bias=True)\n",
       "  (11): ReLU()\n",
       "  (12): Linear(in_features=4, out_features=1, bias=True)\n",
       ")"
      ]
     },
     "execution_count": 25,
     "metadata": {},
     "output_type": "execute_result"
    },
    {
     "data": {
      "text/plain": [
       "Sequential(\n",
       "  (0): Linear(in_features=275, out_features=128, bias=True)\n",
       "  (1): ReLU()\n",
       "  (2): Linear(in_features=128, out_features=64, bias=True)\n",
       "  (3): ReLU()\n",
       "  (4): Linear(in_features=64, out_features=32, bias=True)\n",
       "  (5): ReLU()\n",
       "  (6): Linear(in_features=32, out_features=16, bias=True)\n",
       "  (7): ReLU()\n",
       "  (8): Linear(in_features=16, out_features=8, bias=True)\n",
       "  (9): ReLU()\n",
       "  (10): Linear(in_features=8, out_features=4, bias=True)\n",
       "  (11): ReLU()\n",
       "  (12): Linear(in_features=4, out_features=1, bias=True)\n",
       ")"
      ]
     },
     "execution_count": 25,
     "metadata": {},
     "output_type": "execute_result"
    },
    {
     "data": {
      "text/plain": [
       "Sequential(\n",
       "  (0): Linear(in_features=275, out_features=128, bias=True)\n",
       "  (1): ReLU()\n",
       "  (2): Linear(in_features=128, out_features=64, bias=True)\n",
       "  (3): ReLU()\n",
       "  (4): Linear(in_features=64, out_features=32, bias=True)\n",
       "  (5): ReLU()\n",
       "  (6): Linear(in_features=32, out_features=16, bias=True)\n",
       "  (7): ReLU()\n",
       "  (8): Linear(in_features=16, out_features=8, bias=True)\n",
       "  (9): ReLU()\n",
       "  (10): Linear(in_features=8, out_features=4, bias=True)\n",
       "  (11): ReLU()\n",
       "  (12): Linear(in_features=4, out_features=1, bias=True)\n",
       ")"
      ]
     },
     "execution_count": 25,
     "metadata": {},
     "output_type": "execute_result"
    },
    {
     "data": {
      "text/plain": [
       "Sequential(\n",
       "  (0): Linear(in_features=275, out_features=128, bias=True)\n",
       "  (1): ReLU()\n",
       "  (2): Linear(in_features=128, out_features=64, bias=True)\n",
       "  (3): ReLU()\n",
       "  (4): Linear(in_features=64, out_features=32, bias=True)\n",
       "  (5): ReLU()\n",
       "  (6): Linear(in_features=32, out_features=16, bias=True)\n",
       "  (7): ReLU()\n",
       "  (8): Linear(in_features=16, out_features=8, bias=True)\n",
       "  (9): ReLU()\n",
       "  (10): Linear(in_features=8, out_features=4, bias=True)\n",
       "  (11): ReLU()\n",
       "  (12): Linear(in_features=4, out_features=1, bias=True)\n",
       ")"
      ]
     },
     "execution_count": 25,
     "metadata": {},
     "output_type": "execute_result"
    },
    {
     "data": {
      "text/plain": [
       "Sequential(\n",
       "  (0): Linear(in_features=275, out_features=128, bias=True)\n",
       "  (1): ReLU()\n",
       "  (2): Linear(in_features=128, out_features=64, bias=True)\n",
       "  (3): ReLU()\n",
       "  (4): Linear(in_features=64, out_features=32, bias=True)\n",
       "  (5): ReLU()\n",
       "  (6): Linear(in_features=32, out_features=16, bias=True)\n",
       "  (7): ReLU()\n",
       "  (8): Linear(in_features=16, out_features=8, bias=True)\n",
       "  (9): ReLU()\n",
       "  (10): Linear(in_features=8, out_features=4, bias=True)\n",
       "  (11): ReLU()\n",
       "  (12): Linear(in_features=4, out_features=1, bias=True)\n",
       ")"
      ]
     },
     "execution_count": 25,
     "metadata": {},
     "output_type": "execute_result"
    },
    {
     "data": {
      "text/plain": [
       "Sequential(\n",
       "  (0): Linear(in_features=275, out_features=128, bias=True)\n",
       "  (1): ReLU()\n",
       "  (2): Linear(in_features=128, out_features=64, bias=True)\n",
       "  (3): ReLU()\n",
       "  (4): Linear(in_features=64, out_features=32, bias=True)\n",
       "  (5): ReLU()\n",
       "  (6): Linear(in_features=32, out_features=16, bias=True)\n",
       "  (7): ReLU()\n",
       "  (8): Linear(in_features=16, out_features=8, bias=True)\n",
       "  (9): ReLU()\n",
       "  (10): Linear(in_features=8, out_features=4, bias=True)\n",
       "  (11): ReLU()\n",
       "  (12): Linear(in_features=4, out_features=1, bias=True)\n",
       ")"
      ]
     },
     "execution_count": 25,
     "metadata": {},
     "output_type": "execute_result"
    },
    {
     "data": {
      "text/plain": [
       "Sequential(\n",
       "  (0): Linear(in_features=275, out_features=128, bias=True)\n",
       "  (1): ReLU()\n",
       "  (2): Linear(in_features=128, out_features=64, bias=True)\n",
       "  (3): ReLU()\n",
       "  (4): Linear(in_features=64, out_features=32, bias=True)\n",
       "  (5): ReLU()\n",
       "  (6): Linear(in_features=32, out_features=16, bias=True)\n",
       "  (7): ReLU()\n",
       "  (8): Linear(in_features=16, out_features=8, bias=True)\n",
       "  (9): ReLU()\n",
       "  (10): Linear(in_features=8, out_features=4, bias=True)\n",
       "  (11): ReLU()\n",
       "  (12): Linear(in_features=4, out_features=1, bias=True)\n",
       ")"
      ]
     },
     "execution_count": 25,
     "metadata": {},
     "output_type": "execute_result"
    },
    {
     "data": {
      "text/plain": [
       "Sequential(\n",
       "  (0): Linear(in_features=275, out_features=128, bias=True)\n",
       "  (1): ReLU()\n",
       "  (2): Linear(in_features=128, out_features=64, bias=True)\n",
       "  (3): ReLU()\n",
       "  (4): Linear(in_features=64, out_features=32, bias=True)\n",
       "  (5): ReLU()\n",
       "  (6): Linear(in_features=32, out_features=16, bias=True)\n",
       "  (7): ReLU()\n",
       "  (8): Linear(in_features=16, out_features=8, bias=True)\n",
       "  (9): ReLU()\n",
       "  (10): Linear(in_features=8, out_features=4, bias=True)\n",
       "  (11): ReLU()\n",
       "  (12): Linear(in_features=4, out_features=1, bias=True)\n",
       ")"
      ]
     },
     "execution_count": 25,
     "metadata": {},
     "output_type": "execute_result"
    },
    {
     "data": {
      "text/plain": [
       "Sequential(\n",
       "  (0): Linear(in_features=275, out_features=128, bias=True)\n",
       "  (1): ReLU()\n",
       "  (2): Linear(in_features=128, out_features=64, bias=True)\n",
       "  (3): ReLU()\n",
       "  (4): Linear(in_features=64, out_features=32, bias=True)\n",
       "  (5): ReLU()\n",
       "  (6): Linear(in_features=32, out_features=16, bias=True)\n",
       "  (7): ReLU()\n",
       "  (8): Linear(in_features=16, out_features=8, bias=True)\n",
       "  (9): ReLU()\n",
       "  (10): Linear(in_features=8, out_features=4, bias=True)\n",
       "  (11): ReLU()\n",
       "  (12): Linear(in_features=4, out_features=1, bias=True)\n",
       ")"
      ]
     },
     "execution_count": 25,
     "metadata": {},
     "output_type": "execute_result"
    },
    {
     "data": {
      "text/plain": [
       "Sequential(\n",
       "  (0): Linear(in_features=275, out_features=128, bias=True)\n",
       "  (1): ReLU()\n",
       "  (2): Linear(in_features=128, out_features=64, bias=True)\n",
       "  (3): ReLU()\n",
       "  (4): Linear(in_features=64, out_features=32, bias=True)\n",
       "  (5): ReLU()\n",
       "  (6): Linear(in_features=32, out_features=16, bias=True)\n",
       "  (7): ReLU()\n",
       "  (8): Linear(in_features=16, out_features=8, bias=True)\n",
       "  (9): ReLU()\n",
       "  (10): Linear(in_features=8, out_features=4, bias=True)\n",
       "  (11): ReLU()\n",
       "  (12): Linear(in_features=4, out_features=1, bias=True)\n",
       ")"
      ]
     },
     "execution_count": 25,
     "metadata": {},
     "output_type": "execute_result"
    },
    {
     "data": {
      "text/plain": [
       "Sequential(\n",
       "  (0): Linear(in_features=275, out_features=128, bias=True)\n",
       "  (1): ReLU()\n",
       "  (2): Linear(in_features=128, out_features=64, bias=True)\n",
       "  (3): ReLU()\n",
       "  (4): Linear(in_features=64, out_features=32, bias=True)\n",
       "  (5): ReLU()\n",
       "  (6): Linear(in_features=32, out_features=16, bias=True)\n",
       "  (7): ReLU()\n",
       "  (8): Linear(in_features=16, out_features=8, bias=True)\n",
       "  (9): ReLU()\n",
       "  (10): Linear(in_features=8, out_features=4, bias=True)\n",
       "  (11): ReLU()\n",
       "  (12): Linear(in_features=4, out_features=1, bias=True)\n",
       ")"
      ]
     },
     "execution_count": 25,
     "metadata": {},
     "output_type": "execute_result"
    },
    {
     "data": {
      "text/plain": [
       "Sequential(\n",
       "  (0): Linear(in_features=275, out_features=128, bias=True)\n",
       "  (1): ReLU()\n",
       "  (2): Linear(in_features=128, out_features=64, bias=True)\n",
       "  (3): ReLU()\n",
       "  (4): Linear(in_features=64, out_features=32, bias=True)\n",
       "  (5): ReLU()\n",
       "  (6): Linear(in_features=32, out_features=16, bias=True)\n",
       "  (7): ReLU()\n",
       "  (8): Linear(in_features=16, out_features=8, bias=True)\n",
       "  (9): ReLU()\n",
       "  (10): Linear(in_features=8, out_features=4, bias=True)\n",
       "  (11): ReLU()\n",
       "  (12): Linear(in_features=4, out_features=1, bias=True)\n",
       ")"
      ]
     },
     "execution_count": 25,
     "metadata": {},
     "output_type": "execute_result"
    },
    {
     "data": {
      "text/plain": [
       "Sequential(\n",
       "  (0): Linear(in_features=275, out_features=128, bias=True)\n",
       "  (1): ReLU()\n",
       "  (2): Linear(in_features=128, out_features=64, bias=True)\n",
       "  (3): ReLU()\n",
       "  (4): Linear(in_features=64, out_features=32, bias=True)\n",
       "  (5): ReLU()\n",
       "  (6): Linear(in_features=32, out_features=16, bias=True)\n",
       "  (7): ReLU()\n",
       "  (8): Linear(in_features=16, out_features=8, bias=True)\n",
       "  (9): ReLU()\n",
       "  (10): Linear(in_features=8, out_features=4, bias=True)\n",
       "  (11): ReLU()\n",
       "  (12): Linear(in_features=4, out_features=1, bias=True)\n",
       ")"
      ]
     },
     "execution_count": 25,
     "metadata": {},
     "output_type": "execute_result"
    },
    {
     "data": {
      "text/plain": [
       "Sequential(\n",
       "  (0): Linear(in_features=275, out_features=128, bias=True)\n",
       "  (1): ReLU()\n",
       "  (2): Linear(in_features=128, out_features=64, bias=True)\n",
       "  (3): ReLU()\n",
       "  (4): Linear(in_features=64, out_features=32, bias=True)\n",
       "  (5): ReLU()\n",
       "  (6): Linear(in_features=32, out_features=16, bias=True)\n",
       "  (7): ReLU()\n",
       "  (8): Linear(in_features=16, out_features=8, bias=True)\n",
       "  (9): ReLU()\n",
       "  (10): Linear(in_features=8, out_features=4, bias=True)\n",
       "  (11): ReLU()\n",
       "  (12): Linear(in_features=4, out_features=1, bias=True)\n",
       ")"
      ]
     },
     "execution_count": 25,
     "metadata": {},
     "output_type": "execute_result"
    },
    {
     "data": {
      "text/plain": [
       "Sequential(\n",
       "  (0): Linear(in_features=275, out_features=128, bias=True)\n",
       "  (1): ReLU()\n",
       "  (2): Linear(in_features=128, out_features=64, bias=True)\n",
       "  (3): ReLU()\n",
       "  (4): Linear(in_features=64, out_features=32, bias=True)\n",
       "  (5): ReLU()\n",
       "  (6): Linear(in_features=32, out_features=16, bias=True)\n",
       "  (7): ReLU()\n",
       "  (8): Linear(in_features=16, out_features=8, bias=True)\n",
       "  (9): ReLU()\n",
       "  (10): Linear(in_features=8, out_features=4, bias=True)\n",
       "  (11): ReLU()\n",
       "  (12): Linear(in_features=4, out_features=1, bias=True)\n",
       ")"
      ]
     },
     "execution_count": 25,
     "metadata": {},
     "output_type": "execute_result"
    },
    {
     "data": {
      "text/plain": [
       "Sequential(\n",
       "  (0): Linear(in_features=275, out_features=128, bias=True)\n",
       "  (1): ReLU()\n",
       "  (2): Linear(in_features=128, out_features=64, bias=True)\n",
       "  (3): ReLU()\n",
       "  (4): Linear(in_features=64, out_features=32, bias=True)\n",
       "  (5): ReLU()\n",
       "  (6): Linear(in_features=32, out_features=16, bias=True)\n",
       "  (7): ReLU()\n",
       "  (8): Linear(in_features=16, out_features=8, bias=True)\n",
       "  (9): ReLU()\n",
       "  (10): Linear(in_features=8, out_features=4, bias=True)\n",
       "  (11): ReLU()\n",
       "  (12): Linear(in_features=4, out_features=1, bias=True)\n",
       ")"
      ]
     },
     "execution_count": 25,
     "metadata": {},
     "output_type": "execute_result"
    },
    {
     "data": {
      "text/plain": [
       "Sequential(\n",
       "  (0): Linear(in_features=275, out_features=128, bias=True)\n",
       "  (1): ReLU()\n",
       "  (2): Linear(in_features=128, out_features=64, bias=True)\n",
       "  (3): ReLU()\n",
       "  (4): Linear(in_features=64, out_features=32, bias=True)\n",
       "  (5): ReLU()\n",
       "  (6): Linear(in_features=32, out_features=16, bias=True)\n",
       "  (7): ReLU()\n",
       "  (8): Linear(in_features=16, out_features=8, bias=True)\n",
       "  (9): ReLU()\n",
       "  (10): Linear(in_features=8, out_features=4, bias=True)\n",
       "  (11): ReLU()\n",
       "  (12): Linear(in_features=4, out_features=1, bias=True)\n",
       ")"
      ]
     },
     "execution_count": 25,
     "metadata": {},
     "output_type": "execute_result"
    },
    {
     "data": {
      "text/plain": [
       "Sequential(\n",
       "  (0): Linear(in_features=275, out_features=128, bias=True)\n",
       "  (1): ReLU()\n",
       "  (2): Linear(in_features=128, out_features=64, bias=True)\n",
       "  (3): ReLU()\n",
       "  (4): Linear(in_features=64, out_features=32, bias=True)\n",
       "  (5): ReLU()\n",
       "  (6): Linear(in_features=32, out_features=16, bias=True)\n",
       "  (7): ReLU()\n",
       "  (8): Linear(in_features=16, out_features=8, bias=True)\n",
       "  (9): ReLU()\n",
       "  (10): Linear(in_features=8, out_features=4, bias=True)\n",
       "  (11): ReLU()\n",
       "  (12): Linear(in_features=4, out_features=1, bias=True)\n",
       ")"
      ]
     },
     "execution_count": 25,
     "metadata": {},
     "output_type": "execute_result"
    },
    {
     "data": {
      "text/plain": [
       "Sequential(\n",
       "  (0): Linear(in_features=275, out_features=128, bias=True)\n",
       "  (1): ReLU()\n",
       "  (2): Linear(in_features=128, out_features=64, bias=True)\n",
       "  (3): ReLU()\n",
       "  (4): Linear(in_features=64, out_features=32, bias=True)\n",
       "  (5): ReLU()\n",
       "  (6): Linear(in_features=32, out_features=16, bias=True)\n",
       "  (7): ReLU()\n",
       "  (8): Linear(in_features=16, out_features=8, bias=True)\n",
       "  (9): ReLU()\n",
       "  (10): Linear(in_features=8, out_features=4, bias=True)\n",
       "  (11): ReLU()\n",
       "  (12): Linear(in_features=4, out_features=1, bias=True)\n",
       ")"
      ]
     },
     "execution_count": 25,
     "metadata": {},
     "output_type": "execute_result"
    },
    {
     "data": {
      "text/plain": [
       "Sequential(\n",
       "  (0): Linear(in_features=275, out_features=128, bias=True)\n",
       "  (1): ReLU()\n",
       "  (2): Linear(in_features=128, out_features=64, bias=True)\n",
       "  (3): ReLU()\n",
       "  (4): Linear(in_features=64, out_features=32, bias=True)\n",
       "  (5): ReLU()\n",
       "  (6): Linear(in_features=32, out_features=16, bias=True)\n",
       "  (7): ReLU()\n",
       "  (8): Linear(in_features=16, out_features=8, bias=True)\n",
       "  (9): ReLU()\n",
       "  (10): Linear(in_features=8, out_features=4, bias=True)\n",
       "  (11): ReLU()\n",
       "  (12): Linear(in_features=4, out_features=1, bias=True)\n",
       ")"
      ]
     },
     "execution_count": 25,
     "metadata": {},
     "output_type": "execute_result"
    },
    {
     "data": {
      "text/plain": [
       "Sequential(\n",
       "  (0): Linear(in_features=275, out_features=128, bias=True)\n",
       "  (1): ReLU()\n",
       "  (2): Linear(in_features=128, out_features=64, bias=True)\n",
       "  (3): ReLU()\n",
       "  (4): Linear(in_features=64, out_features=32, bias=True)\n",
       "  (5): ReLU()\n",
       "  (6): Linear(in_features=32, out_features=16, bias=True)\n",
       "  (7): ReLU()\n",
       "  (8): Linear(in_features=16, out_features=8, bias=True)\n",
       "  (9): ReLU()\n",
       "  (10): Linear(in_features=8, out_features=4, bias=True)\n",
       "  (11): ReLU()\n",
       "  (12): Linear(in_features=4, out_features=1, bias=True)\n",
       ")"
      ]
     },
     "execution_count": 25,
     "metadata": {},
     "output_type": "execute_result"
    },
    {
     "data": {
      "text/plain": [
       "Sequential(\n",
       "  (0): Linear(in_features=275, out_features=128, bias=True)\n",
       "  (1): ReLU()\n",
       "  (2): Linear(in_features=128, out_features=64, bias=True)\n",
       "  (3): ReLU()\n",
       "  (4): Linear(in_features=64, out_features=32, bias=True)\n",
       "  (5): ReLU()\n",
       "  (6): Linear(in_features=32, out_features=16, bias=True)\n",
       "  (7): ReLU()\n",
       "  (8): Linear(in_features=16, out_features=8, bias=True)\n",
       "  (9): ReLU()\n",
       "  (10): Linear(in_features=8, out_features=4, bias=True)\n",
       "  (11): ReLU()\n",
       "  (12): Linear(in_features=4, out_features=1, bias=True)\n",
       ")"
      ]
     },
     "execution_count": 25,
     "metadata": {},
     "output_type": "execute_result"
    },
    {
     "data": {
      "text/plain": [
       "Sequential(\n",
       "  (0): Linear(in_features=275, out_features=128, bias=True)\n",
       "  (1): ReLU()\n",
       "  (2): Linear(in_features=128, out_features=64, bias=True)\n",
       "  (3): ReLU()\n",
       "  (4): Linear(in_features=64, out_features=32, bias=True)\n",
       "  (5): ReLU()\n",
       "  (6): Linear(in_features=32, out_features=16, bias=True)\n",
       "  (7): ReLU()\n",
       "  (8): Linear(in_features=16, out_features=8, bias=True)\n",
       "  (9): ReLU()\n",
       "  (10): Linear(in_features=8, out_features=4, bias=True)\n",
       "  (11): ReLU()\n",
       "  (12): Linear(in_features=4, out_features=1, bias=True)\n",
       ")"
      ]
     },
     "execution_count": 25,
     "metadata": {},
     "output_type": "execute_result"
    },
    {
     "data": {
      "text/plain": [
       "Sequential(\n",
       "  (0): Linear(in_features=275, out_features=128, bias=True)\n",
       "  (1): ReLU()\n",
       "  (2): Linear(in_features=128, out_features=64, bias=True)\n",
       "  (3): ReLU()\n",
       "  (4): Linear(in_features=64, out_features=32, bias=True)\n",
       "  (5): ReLU()\n",
       "  (6): Linear(in_features=32, out_features=16, bias=True)\n",
       "  (7): ReLU()\n",
       "  (8): Linear(in_features=16, out_features=8, bias=True)\n",
       "  (9): ReLU()\n",
       "  (10): Linear(in_features=8, out_features=4, bias=True)\n",
       "  (11): ReLU()\n",
       "  (12): Linear(in_features=4, out_features=1, bias=True)\n",
       ")"
      ]
     },
     "execution_count": 25,
     "metadata": {},
     "output_type": "execute_result"
    },
    {
     "data": {
      "text/plain": [
       "Sequential(\n",
       "  (0): Linear(in_features=275, out_features=128, bias=True)\n",
       "  (1): ReLU()\n",
       "  (2): Linear(in_features=128, out_features=64, bias=True)\n",
       "  (3): ReLU()\n",
       "  (4): Linear(in_features=64, out_features=32, bias=True)\n",
       "  (5): ReLU()\n",
       "  (6): Linear(in_features=32, out_features=16, bias=True)\n",
       "  (7): ReLU()\n",
       "  (8): Linear(in_features=16, out_features=8, bias=True)\n",
       "  (9): ReLU()\n",
       "  (10): Linear(in_features=8, out_features=4, bias=True)\n",
       "  (11): ReLU()\n",
       "  (12): Linear(in_features=4, out_features=1, bias=True)\n",
       ")"
      ]
     },
     "execution_count": 25,
     "metadata": {},
     "output_type": "execute_result"
    },
    {
     "data": {
      "text/plain": [
       "Sequential(\n",
       "  (0): Linear(in_features=275, out_features=128, bias=True)\n",
       "  (1): ReLU()\n",
       "  (2): Linear(in_features=128, out_features=64, bias=True)\n",
       "  (3): ReLU()\n",
       "  (4): Linear(in_features=64, out_features=32, bias=True)\n",
       "  (5): ReLU()\n",
       "  (6): Linear(in_features=32, out_features=16, bias=True)\n",
       "  (7): ReLU()\n",
       "  (8): Linear(in_features=16, out_features=8, bias=True)\n",
       "  (9): ReLU()\n",
       "  (10): Linear(in_features=8, out_features=4, bias=True)\n",
       "  (11): ReLU()\n",
       "  (12): Linear(in_features=4, out_features=1, bias=True)\n",
       ")"
      ]
     },
     "execution_count": 25,
     "metadata": {},
     "output_type": "execute_result"
    },
    {
     "data": {
      "text/plain": [
       "Sequential(\n",
       "  (0): Linear(in_features=275, out_features=128, bias=True)\n",
       "  (1): ReLU()\n",
       "  (2): Linear(in_features=128, out_features=64, bias=True)\n",
       "  (3): ReLU()\n",
       "  (4): Linear(in_features=64, out_features=32, bias=True)\n",
       "  (5): ReLU()\n",
       "  (6): Linear(in_features=32, out_features=16, bias=True)\n",
       "  (7): ReLU()\n",
       "  (8): Linear(in_features=16, out_features=8, bias=True)\n",
       "  (9): ReLU()\n",
       "  (10): Linear(in_features=8, out_features=4, bias=True)\n",
       "  (11): ReLU()\n",
       "  (12): Linear(in_features=4, out_features=1, bias=True)\n",
       ")"
      ]
     },
     "execution_count": 25,
     "metadata": {},
     "output_type": "execute_result"
    },
    {
     "data": {
      "text/plain": [
       "Sequential(\n",
       "  (0): Linear(in_features=275, out_features=128, bias=True)\n",
       "  (1): ReLU()\n",
       "  (2): Linear(in_features=128, out_features=64, bias=True)\n",
       "  (3): ReLU()\n",
       "  (4): Linear(in_features=64, out_features=32, bias=True)\n",
       "  (5): ReLU()\n",
       "  (6): Linear(in_features=32, out_features=16, bias=True)\n",
       "  (7): ReLU()\n",
       "  (8): Linear(in_features=16, out_features=8, bias=True)\n",
       "  (9): ReLU()\n",
       "  (10): Linear(in_features=8, out_features=4, bias=True)\n",
       "  (11): ReLU()\n",
       "  (12): Linear(in_features=4, out_features=1, bias=True)\n",
       ")"
      ]
     },
     "execution_count": 25,
     "metadata": {},
     "output_type": "execute_result"
    },
    {
     "data": {
      "text/plain": [
       "Sequential(\n",
       "  (0): Linear(in_features=275, out_features=128, bias=True)\n",
       "  (1): ReLU()\n",
       "  (2): Linear(in_features=128, out_features=64, bias=True)\n",
       "  (3): ReLU()\n",
       "  (4): Linear(in_features=64, out_features=32, bias=True)\n",
       "  (5): ReLU()\n",
       "  (6): Linear(in_features=32, out_features=16, bias=True)\n",
       "  (7): ReLU()\n",
       "  (8): Linear(in_features=16, out_features=8, bias=True)\n",
       "  (9): ReLU()\n",
       "  (10): Linear(in_features=8, out_features=4, bias=True)\n",
       "  (11): ReLU()\n",
       "  (12): Linear(in_features=4, out_features=1, bias=True)\n",
       ")"
      ]
     },
     "execution_count": 25,
     "metadata": {},
     "output_type": "execute_result"
    },
    {
     "data": {
      "text/plain": [
       "Sequential(\n",
       "  (0): Linear(in_features=275, out_features=128, bias=True)\n",
       "  (1): ReLU()\n",
       "  (2): Linear(in_features=128, out_features=64, bias=True)\n",
       "  (3): ReLU()\n",
       "  (4): Linear(in_features=64, out_features=32, bias=True)\n",
       "  (5): ReLU()\n",
       "  (6): Linear(in_features=32, out_features=16, bias=True)\n",
       "  (7): ReLU()\n",
       "  (8): Linear(in_features=16, out_features=8, bias=True)\n",
       "  (9): ReLU()\n",
       "  (10): Linear(in_features=8, out_features=4, bias=True)\n",
       "  (11): ReLU()\n",
       "  (12): Linear(in_features=4, out_features=1, bias=True)\n",
       ")"
      ]
     },
     "execution_count": 25,
     "metadata": {},
     "output_type": "execute_result"
    },
    {
     "data": {
      "text/plain": [
       "Sequential(\n",
       "  (0): Linear(in_features=275, out_features=128, bias=True)\n",
       "  (1): ReLU()\n",
       "  (2): Linear(in_features=128, out_features=64, bias=True)\n",
       "  (3): ReLU()\n",
       "  (4): Linear(in_features=64, out_features=32, bias=True)\n",
       "  (5): ReLU()\n",
       "  (6): Linear(in_features=32, out_features=16, bias=True)\n",
       "  (7): ReLU()\n",
       "  (8): Linear(in_features=16, out_features=8, bias=True)\n",
       "  (9): ReLU()\n",
       "  (10): Linear(in_features=8, out_features=4, bias=True)\n",
       "  (11): ReLU()\n",
       "  (12): Linear(in_features=4, out_features=1, bias=True)\n",
       ")"
      ]
     },
     "execution_count": 25,
     "metadata": {},
     "output_type": "execute_result"
    },
    {
     "data": {
      "text/plain": [
       "Sequential(\n",
       "  (0): Linear(in_features=275, out_features=128, bias=True)\n",
       "  (1): ReLU()\n",
       "  (2): Linear(in_features=128, out_features=64, bias=True)\n",
       "  (3): ReLU()\n",
       "  (4): Linear(in_features=64, out_features=32, bias=True)\n",
       "  (5): ReLU()\n",
       "  (6): Linear(in_features=32, out_features=16, bias=True)\n",
       "  (7): ReLU()\n",
       "  (8): Linear(in_features=16, out_features=8, bias=True)\n",
       "  (9): ReLU()\n",
       "  (10): Linear(in_features=8, out_features=4, bias=True)\n",
       "  (11): ReLU()\n",
       "  (12): Linear(in_features=4, out_features=1, bias=True)\n",
       ")"
      ]
     },
     "execution_count": 25,
     "metadata": {},
     "output_type": "execute_result"
    },
    {
     "data": {
      "text/plain": [
       "Sequential(\n",
       "  (0): Linear(in_features=275, out_features=128, bias=True)\n",
       "  (1): ReLU()\n",
       "  (2): Linear(in_features=128, out_features=64, bias=True)\n",
       "  (3): ReLU()\n",
       "  (4): Linear(in_features=64, out_features=32, bias=True)\n",
       "  (5): ReLU()\n",
       "  (6): Linear(in_features=32, out_features=16, bias=True)\n",
       "  (7): ReLU()\n",
       "  (8): Linear(in_features=16, out_features=8, bias=True)\n",
       "  (9): ReLU()\n",
       "  (10): Linear(in_features=8, out_features=4, bias=True)\n",
       "  (11): ReLU()\n",
       "  (12): Linear(in_features=4, out_features=1, bias=True)\n",
       ")"
      ]
     },
     "execution_count": 25,
     "metadata": {},
     "output_type": "execute_result"
    },
    {
     "data": {
      "text/plain": [
       "Sequential(\n",
       "  (0): Linear(in_features=275, out_features=128, bias=True)\n",
       "  (1): ReLU()\n",
       "  (2): Linear(in_features=128, out_features=64, bias=True)\n",
       "  (3): ReLU()\n",
       "  (4): Linear(in_features=64, out_features=32, bias=True)\n",
       "  (5): ReLU()\n",
       "  (6): Linear(in_features=32, out_features=16, bias=True)\n",
       "  (7): ReLU()\n",
       "  (8): Linear(in_features=16, out_features=8, bias=True)\n",
       "  (9): ReLU()\n",
       "  (10): Linear(in_features=8, out_features=4, bias=True)\n",
       "  (11): ReLU()\n",
       "  (12): Linear(in_features=4, out_features=1, bias=True)\n",
       ")"
      ]
     },
     "execution_count": 25,
     "metadata": {},
     "output_type": "execute_result"
    },
    {
     "data": {
      "text/plain": [
       "Sequential(\n",
       "  (0): Linear(in_features=275, out_features=128, bias=True)\n",
       "  (1): ReLU()\n",
       "  (2): Linear(in_features=128, out_features=64, bias=True)\n",
       "  (3): ReLU()\n",
       "  (4): Linear(in_features=64, out_features=32, bias=True)\n",
       "  (5): ReLU()\n",
       "  (6): Linear(in_features=32, out_features=16, bias=True)\n",
       "  (7): ReLU()\n",
       "  (8): Linear(in_features=16, out_features=8, bias=True)\n",
       "  (9): ReLU()\n",
       "  (10): Linear(in_features=8, out_features=4, bias=True)\n",
       "  (11): ReLU()\n",
       "  (12): Linear(in_features=4, out_features=1, bias=True)\n",
       ")"
      ]
     },
     "execution_count": 25,
     "metadata": {},
     "output_type": "execute_result"
    },
    {
     "data": {
      "text/plain": [
       "Sequential(\n",
       "  (0): Linear(in_features=275, out_features=128, bias=True)\n",
       "  (1): ReLU()\n",
       "  (2): Linear(in_features=128, out_features=64, bias=True)\n",
       "  (3): ReLU()\n",
       "  (4): Linear(in_features=64, out_features=32, bias=True)\n",
       "  (5): ReLU()\n",
       "  (6): Linear(in_features=32, out_features=16, bias=True)\n",
       "  (7): ReLU()\n",
       "  (8): Linear(in_features=16, out_features=8, bias=True)\n",
       "  (9): ReLU()\n",
       "  (10): Linear(in_features=8, out_features=4, bias=True)\n",
       "  (11): ReLU()\n",
       "  (12): Linear(in_features=4, out_features=1, bias=True)\n",
       ")"
      ]
     },
     "execution_count": 25,
     "metadata": {},
     "output_type": "execute_result"
    },
    {
     "data": {
      "text/plain": [
       "Sequential(\n",
       "  (0): Linear(in_features=275, out_features=128, bias=True)\n",
       "  (1): ReLU()\n",
       "  (2): Linear(in_features=128, out_features=64, bias=True)\n",
       "  (3): ReLU()\n",
       "  (4): Linear(in_features=64, out_features=32, bias=True)\n",
       "  (5): ReLU()\n",
       "  (6): Linear(in_features=32, out_features=16, bias=True)\n",
       "  (7): ReLU()\n",
       "  (8): Linear(in_features=16, out_features=8, bias=True)\n",
       "  (9): ReLU()\n",
       "  (10): Linear(in_features=8, out_features=4, bias=True)\n",
       "  (11): ReLU()\n",
       "  (12): Linear(in_features=4, out_features=1, bias=True)\n",
       ")"
      ]
     },
     "execution_count": 25,
     "metadata": {},
     "output_type": "execute_result"
    },
    {
     "data": {
      "text/plain": [
       "Sequential(\n",
       "  (0): Linear(in_features=275, out_features=128, bias=True)\n",
       "  (1): ReLU()\n",
       "  (2): Linear(in_features=128, out_features=64, bias=True)\n",
       "  (3): ReLU()\n",
       "  (4): Linear(in_features=64, out_features=32, bias=True)\n",
       "  (5): ReLU()\n",
       "  (6): Linear(in_features=32, out_features=16, bias=True)\n",
       "  (7): ReLU()\n",
       "  (8): Linear(in_features=16, out_features=8, bias=True)\n",
       "  (9): ReLU()\n",
       "  (10): Linear(in_features=8, out_features=4, bias=True)\n",
       "  (11): ReLU()\n",
       "  (12): Linear(in_features=4, out_features=1, bias=True)\n",
       ")"
      ]
     },
     "execution_count": 25,
     "metadata": {},
     "output_type": "execute_result"
    },
    {
     "data": {
      "text/plain": [
       "Sequential(\n",
       "  (0): Linear(in_features=275, out_features=128, bias=True)\n",
       "  (1): ReLU()\n",
       "  (2): Linear(in_features=128, out_features=64, bias=True)\n",
       "  (3): ReLU()\n",
       "  (4): Linear(in_features=64, out_features=32, bias=True)\n",
       "  (5): ReLU()\n",
       "  (6): Linear(in_features=32, out_features=16, bias=True)\n",
       "  (7): ReLU()\n",
       "  (8): Linear(in_features=16, out_features=8, bias=True)\n",
       "  (9): ReLU()\n",
       "  (10): Linear(in_features=8, out_features=4, bias=True)\n",
       "  (11): ReLU()\n",
       "  (12): Linear(in_features=4, out_features=1, bias=True)\n",
       ")"
      ]
     },
     "execution_count": 25,
     "metadata": {},
     "output_type": "execute_result"
    },
    {
     "data": {
      "text/plain": [
       "Sequential(\n",
       "  (0): Linear(in_features=275, out_features=128, bias=True)\n",
       "  (1): ReLU()\n",
       "  (2): Linear(in_features=128, out_features=64, bias=True)\n",
       "  (3): ReLU()\n",
       "  (4): Linear(in_features=64, out_features=32, bias=True)\n",
       "  (5): ReLU()\n",
       "  (6): Linear(in_features=32, out_features=16, bias=True)\n",
       "  (7): ReLU()\n",
       "  (8): Linear(in_features=16, out_features=8, bias=True)\n",
       "  (9): ReLU()\n",
       "  (10): Linear(in_features=8, out_features=4, bias=True)\n",
       "  (11): ReLU()\n",
       "  (12): Linear(in_features=4, out_features=1, bias=True)\n",
       ")"
      ]
     },
     "execution_count": 25,
     "metadata": {},
     "output_type": "execute_result"
    },
    {
     "data": {
      "text/plain": [
       "Sequential(\n",
       "  (0): Linear(in_features=275, out_features=128, bias=True)\n",
       "  (1): ReLU()\n",
       "  (2): Linear(in_features=128, out_features=64, bias=True)\n",
       "  (3): ReLU()\n",
       "  (4): Linear(in_features=64, out_features=32, bias=True)\n",
       "  (5): ReLU()\n",
       "  (6): Linear(in_features=32, out_features=16, bias=True)\n",
       "  (7): ReLU()\n",
       "  (8): Linear(in_features=16, out_features=8, bias=True)\n",
       "  (9): ReLU()\n",
       "  (10): Linear(in_features=8, out_features=4, bias=True)\n",
       "  (11): ReLU()\n",
       "  (12): Linear(in_features=4, out_features=1, bias=True)\n",
       ")"
      ]
     },
     "execution_count": 25,
     "metadata": {},
     "output_type": "execute_result"
    },
    {
     "data": {
      "text/plain": [
       "Sequential(\n",
       "  (0): Linear(in_features=275, out_features=128, bias=True)\n",
       "  (1): ReLU()\n",
       "  (2): Linear(in_features=128, out_features=64, bias=True)\n",
       "  (3): ReLU()\n",
       "  (4): Linear(in_features=64, out_features=32, bias=True)\n",
       "  (5): ReLU()\n",
       "  (6): Linear(in_features=32, out_features=16, bias=True)\n",
       "  (7): ReLU()\n",
       "  (8): Linear(in_features=16, out_features=8, bias=True)\n",
       "  (9): ReLU()\n",
       "  (10): Linear(in_features=8, out_features=4, bias=True)\n",
       "  (11): ReLU()\n",
       "  (12): Linear(in_features=4, out_features=1, bias=True)\n",
       ")"
      ]
     },
     "execution_count": 25,
     "metadata": {},
     "output_type": "execute_result"
    },
    {
     "data": {
      "text/plain": [
       "Sequential(\n",
       "  (0): Linear(in_features=275, out_features=128, bias=True)\n",
       "  (1): ReLU()\n",
       "  (2): Linear(in_features=128, out_features=64, bias=True)\n",
       "  (3): ReLU()\n",
       "  (4): Linear(in_features=64, out_features=32, bias=True)\n",
       "  (5): ReLU()\n",
       "  (6): Linear(in_features=32, out_features=16, bias=True)\n",
       "  (7): ReLU()\n",
       "  (8): Linear(in_features=16, out_features=8, bias=True)\n",
       "  (9): ReLU()\n",
       "  (10): Linear(in_features=8, out_features=4, bias=True)\n",
       "  (11): ReLU()\n",
       "  (12): Linear(in_features=4, out_features=1, bias=True)\n",
       ")"
      ]
     },
     "execution_count": 25,
     "metadata": {},
     "output_type": "execute_result"
    },
    {
     "data": {
      "text/plain": [
       "Sequential(\n",
       "  (0): Linear(in_features=275, out_features=128, bias=True)\n",
       "  (1): ReLU()\n",
       "  (2): Linear(in_features=128, out_features=64, bias=True)\n",
       "  (3): ReLU()\n",
       "  (4): Linear(in_features=64, out_features=32, bias=True)\n",
       "  (5): ReLU()\n",
       "  (6): Linear(in_features=32, out_features=16, bias=True)\n",
       "  (7): ReLU()\n",
       "  (8): Linear(in_features=16, out_features=8, bias=True)\n",
       "  (9): ReLU()\n",
       "  (10): Linear(in_features=8, out_features=4, bias=True)\n",
       "  (11): ReLU()\n",
       "  (12): Linear(in_features=4, out_features=1, bias=True)\n",
       ")"
      ]
     },
     "execution_count": 25,
     "metadata": {},
     "output_type": "execute_result"
    },
    {
     "data": {
      "text/plain": [
       "Sequential(\n",
       "  (0): Linear(in_features=275, out_features=128, bias=True)\n",
       "  (1): ReLU()\n",
       "  (2): Linear(in_features=128, out_features=64, bias=True)\n",
       "  (3): ReLU()\n",
       "  (4): Linear(in_features=64, out_features=32, bias=True)\n",
       "  (5): ReLU()\n",
       "  (6): Linear(in_features=32, out_features=16, bias=True)\n",
       "  (7): ReLU()\n",
       "  (8): Linear(in_features=16, out_features=8, bias=True)\n",
       "  (9): ReLU()\n",
       "  (10): Linear(in_features=8, out_features=4, bias=True)\n",
       "  (11): ReLU()\n",
       "  (12): Linear(in_features=4, out_features=1, bias=True)\n",
       ")"
      ]
     },
     "execution_count": 25,
     "metadata": {},
     "output_type": "execute_result"
    },
    {
     "data": {
      "text/plain": [
       "Sequential(\n",
       "  (0): Linear(in_features=275, out_features=128, bias=True)\n",
       "  (1): ReLU()\n",
       "  (2): Linear(in_features=128, out_features=64, bias=True)\n",
       "  (3): ReLU()\n",
       "  (4): Linear(in_features=64, out_features=32, bias=True)\n",
       "  (5): ReLU()\n",
       "  (6): Linear(in_features=32, out_features=16, bias=True)\n",
       "  (7): ReLU()\n",
       "  (8): Linear(in_features=16, out_features=8, bias=True)\n",
       "  (9): ReLU()\n",
       "  (10): Linear(in_features=8, out_features=4, bias=True)\n",
       "  (11): ReLU()\n",
       "  (12): Linear(in_features=4, out_features=1, bias=True)\n",
       ")"
      ]
     },
     "execution_count": 25,
     "metadata": {},
     "output_type": "execute_result"
    },
    {
     "data": {
      "text/plain": [
       "Sequential(\n",
       "  (0): Linear(in_features=275, out_features=128, bias=True)\n",
       "  (1): ReLU()\n",
       "  (2): Linear(in_features=128, out_features=64, bias=True)\n",
       "  (3): ReLU()\n",
       "  (4): Linear(in_features=64, out_features=32, bias=True)\n",
       "  (5): ReLU()\n",
       "  (6): Linear(in_features=32, out_features=16, bias=True)\n",
       "  (7): ReLU()\n",
       "  (8): Linear(in_features=16, out_features=8, bias=True)\n",
       "  (9): ReLU()\n",
       "  (10): Linear(in_features=8, out_features=4, bias=True)\n",
       "  (11): ReLU()\n",
       "  (12): Linear(in_features=4, out_features=1, bias=True)\n",
       ")"
      ]
     },
     "execution_count": 25,
     "metadata": {},
     "output_type": "execute_result"
    },
    {
     "data": {
      "text/plain": [
       "Sequential(\n",
       "  (0): Linear(in_features=275, out_features=128, bias=True)\n",
       "  (1): ReLU()\n",
       "  (2): Linear(in_features=128, out_features=64, bias=True)\n",
       "  (3): ReLU()\n",
       "  (4): Linear(in_features=64, out_features=32, bias=True)\n",
       "  (5): ReLU()\n",
       "  (6): Linear(in_features=32, out_features=16, bias=True)\n",
       "  (7): ReLU()\n",
       "  (8): Linear(in_features=16, out_features=8, bias=True)\n",
       "  (9): ReLU()\n",
       "  (10): Linear(in_features=8, out_features=4, bias=True)\n",
       "  (11): ReLU()\n",
       "  (12): Linear(in_features=4, out_features=1, bias=True)\n",
       ")"
      ]
     },
     "execution_count": 25,
     "metadata": {},
     "output_type": "execute_result"
    },
    {
     "data": {
      "text/plain": [
       "Sequential(\n",
       "  (0): Linear(in_features=275, out_features=128, bias=True)\n",
       "  (1): ReLU()\n",
       "  (2): Linear(in_features=128, out_features=64, bias=True)\n",
       "  (3): ReLU()\n",
       "  (4): Linear(in_features=64, out_features=32, bias=True)\n",
       "  (5): ReLU()\n",
       "  (6): Linear(in_features=32, out_features=16, bias=True)\n",
       "  (7): ReLU()\n",
       "  (8): Linear(in_features=16, out_features=8, bias=True)\n",
       "  (9): ReLU()\n",
       "  (10): Linear(in_features=8, out_features=4, bias=True)\n",
       "  (11): ReLU()\n",
       "  (12): Linear(in_features=4, out_features=1, bias=True)\n",
       ")"
      ]
     },
     "execution_count": 25,
     "metadata": {},
     "output_type": "execute_result"
    },
    {
     "data": {
      "text/plain": [
       "Sequential(\n",
       "  (0): Linear(in_features=275, out_features=128, bias=True)\n",
       "  (1): ReLU()\n",
       "  (2): Linear(in_features=128, out_features=64, bias=True)\n",
       "  (3): ReLU()\n",
       "  (4): Linear(in_features=64, out_features=32, bias=True)\n",
       "  (5): ReLU()\n",
       "  (6): Linear(in_features=32, out_features=16, bias=True)\n",
       "  (7): ReLU()\n",
       "  (8): Linear(in_features=16, out_features=8, bias=True)\n",
       "  (9): ReLU()\n",
       "  (10): Linear(in_features=8, out_features=4, bias=True)\n",
       "  (11): ReLU()\n",
       "  (12): Linear(in_features=4, out_features=1, bias=True)\n",
       ")"
      ]
     },
     "execution_count": 25,
     "metadata": {},
     "output_type": "execute_result"
    },
    {
     "data": {
      "text/plain": [
       "Sequential(\n",
       "  (0): Linear(in_features=275, out_features=128, bias=True)\n",
       "  (1): ReLU()\n",
       "  (2): Linear(in_features=128, out_features=64, bias=True)\n",
       "  (3): ReLU()\n",
       "  (4): Linear(in_features=64, out_features=32, bias=True)\n",
       "  (5): ReLU()\n",
       "  (6): Linear(in_features=32, out_features=16, bias=True)\n",
       "  (7): ReLU()\n",
       "  (8): Linear(in_features=16, out_features=8, bias=True)\n",
       "  (9): ReLU()\n",
       "  (10): Linear(in_features=8, out_features=4, bias=True)\n",
       "  (11): ReLU()\n",
       "  (12): Linear(in_features=4, out_features=1, bias=True)\n",
       ")"
      ]
     },
     "execution_count": 25,
     "metadata": {},
     "output_type": "execute_result"
    },
    {
     "data": {
      "text/plain": [
       "Sequential(\n",
       "  (0): Linear(in_features=275, out_features=128, bias=True)\n",
       "  (1): ReLU()\n",
       "  (2): Linear(in_features=128, out_features=64, bias=True)\n",
       "  (3): ReLU()\n",
       "  (4): Linear(in_features=64, out_features=32, bias=True)\n",
       "  (5): ReLU()\n",
       "  (6): Linear(in_features=32, out_features=16, bias=True)\n",
       "  (7): ReLU()\n",
       "  (8): Linear(in_features=16, out_features=8, bias=True)\n",
       "  (9): ReLU()\n",
       "  (10): Linear(in_features=8, out_features=4, bias=True)\n",
       "  (11): ReLU()\n",
       "  (12): Linear(in_features=4, out_features=1, bias=True)\n",
       ")"
      ]
     },
     "execution_count": 25,
     "metadata": {},
     "output_type": "execute_result"
    },
    {
     "data": {
      "text/plain": [
       "Sequential(\n",
       "  (0): Linear(in_features=275, out_features=128, bias=True)\n",
       "  (1): ReLU()\n",
       "  (2): Linear(in_features=128, out_features=64, bias=True)\n",
       "  (3): ReLU()\n",
       "  (4): Linear(in_features=64, out_features=32, bias=True)\n",
       "  (5): ReLU()\n",
       "  (6): Linear(in_features=32, out_features=16, bias=True)\n",
       "  (7): ReLU()\n",
       "  (8): Linear(in_features=16, out_features=8, bias=True)\n",
       "  (9): ReLU()\n",
       "  (10): Linear(in_features=8, out_features=4, bias=True)\n",
       "  (11): ReLU()\n",
       "  (12): Linear(in_features=4, out_features=1, bias=True)\n",
       ")"
      ]
     },
     "execution_count": 25,
     "metadata": {},
     "output_type": "execute_result"
    },
    {
     "data": {
      "text/plain": [
       "Sequential(\n",
       "  (0): Linear(in_features=275, out_features=128, bias=True)\n",
       "  (1): ReLU()\n",
       "  (2): Linear(in_features=128, out_features=64, bias=True)\n",
       "  (3): ReLU()\n",
       "  (4): Linear(in_features=64, out_features=32, bias=True)\n",
       "  (5): ReLU()\n",
       "  (6): Linear(in_features=32, out_features=16, bias=True)\n",
       "  (7): ReLU()\n",
       "  (8): Linear(in_features=16, out_features=8, bias=True)\n",
       "  (9): ReLU()\n",
       "  (10): Linear(in_features=8, out_features=4, bias=True)\n",
       "  (11): ReLU()\n",
       "  (12): Linear(in_features=4, out_features=1, bias=True)\n",
       ")"
      ]
     },
     "execution_count": 25,
     "metadata": {},
     "output_type": "execute_result"
    },
    {
     "data": {
      "text/plain": [
       "Sequential(\n",
       "  (0): Linear(in_features=275, out_features=128, bias=True)\n",
       "  (1): ReLU()\n",
       "  (2): Linear(in_features=128, out_features=64, bias=True)\n",
       "  (3): ReLU()\n",
       "  (4): Linear(in_features=64, out_features=32, bias=True)\n",
       "  (5): ReLU()\n",
       "  (6): Linear(in_features=32, out_features=16, bias=True)\n",
       "  (7): ReLU()\n",
       "  (8): Linear(in_features=16, out_features=8, bias=True)\n",
       "  (9): ReLU()\n",
       "  (10): Linear(in_features=8, out_features=4, bias=True)\n",
       "  (11): ReLU()\n",
       "  (12): Linear(in_features=4, out_features=1, bias=True)\n",
       ")"
      ]
     },
     "execution_count": 25,
     "metadata": {},
     "output_type": "execute_result"
    },
    {
     "data": {
      "text/plain": [
       "Sequential(\n",
       "  (0): Linear(in_features=275, out_features=128, bias=True)\n",
       "  (1): ReLU()\n",
       "  (2): Linear(in_features=128, out_features=64, bias=True)\n",
       "  (3): ReLU()\n",
       "  (4): Linear(in_features=64, out_features=32, bias=True)\n",
       "  (5): ReLU()\n",
       "  (6): Linear(in_features=32, out_features=16, bias=True)\n",
       "  (7): ReLU()\n",
       "  (8): Linear(in_features=16, out_features=8, bias=True)\n",
       "  (9): ReLU()\n",
       "  (10): Linear(in_features=8, out_features=4, bias=True)\n",
       "  (11): ReLU()\n",
       "  (12): Linear(in_features=4, out_features=1, bias=True)\n",
       ")"
      ]
     },
     "execution_count": 25,
     "metadata": {},
     "output_type": "execute_result"
    },
    {
     "data": {
      "text/plain": [
       "Sequential(\n",
       "  (0): Linear(in_features=275, out_features=128, bias=True)\n",
       "  (1): ReLU()\n",
       "  (2): Linear(in_features=128, out_features=64, bias=True)\n",
       "  (3): ReLU()\n",
       "  (4): Linear(in_features=64, out_features=32, bias=True)\n",
       "  (5): ReLU()\n",
       "  (6): Linear(in_features=32, out_features=16, bias=True)\n",
       "  (7): ReLU()\n",
       "  (8): Linear(in_features=16, out_features=8, bias=True)\n",
       "  (9): ReLU()\n",
       "  (10): Linear(in_features=8, out_features=4, bias=True)\n",
       "  (11): ReLU()\n",
       "  (12): Linear(in_features=4, out_features=1, bias=True)\n",
       ")"
      ]
     },
     "execution_count": 25,
     "metadata": {},
     "output_type": "execute_result"
    },
    {
     "data": {
      "text/plain": [
       "Sequential(\n",
       "  (0): Linear(in_features=275, out_features=128, bias=True)\n",
       "  (1): ReLU()\n",
       "  (2): Linear(in_features=128, out_features=64, bias=True)\n",
       "  (3): ReLU()\n",
       "  (4): Linear(in_features=64, out_features=32, bias=True)\n",
       "  (5): ReLU()\n",
       "  (6): Linear(in_features=32, out_features=16, bias=True)\n",
       "  (7): ReLU()\n",
       "  (8): Linear(in_features=16, out_features=8, bias=True)\n",
       "  (9): ReLU()\n",
       "  (10): Linear(in_features=8, out_features=4, bias=True)\n",
       "  (11): ReLU()\n",
       "  (12): Linear(in_features=4, out_features=1, bias=True)\n",
       ")"
      ]
     },
     "execution_count": 25,
     "metadata": {},
     "output_type": "execute_result"
    },
    {
     "data": {
      "text/plain": [
       "Sequential(\n",
       "  (0): Linear(in_features=275, out_features=128, bias=True)\n",
       "  (1): ReLU()\n",
       "  (2): Linear(in_features=128, out_features=64, bias=True)\n",
       "  (3): ReLU()\n",
       "  (4): Linear(in_features=64, out_features=32, bias=True)\n",
       "  (5): ReLU()\n",
       "  (6): Linear(in_features=32, out_features=16, bias=True)\n",
       "  (7): ReLU()\n",
       "  (8): Linear(in_features=16, out_features=8, bias=True)\n",
       "  (9): ReLU()\n",
       "  (10): Linear(in_features=8, out_features=4, bias=True)\n",
       "  (11): ReLU()\n",
       "  (12): Linear(in_features=4, out_features=1, bias=True)\n",
       ")"
      ]
     },
     "execution_count": 25,
     "metadata": {},
     "output_type": "execute_result"
    },
    {
     "data": {
      "text/plain": [
       "Sequential(\n",
       "  (0): Linear(in_features=275, out_features=128, bias=True)\n",
       "  (1): ReLU()\n",
       "  (2): Linear(in_features=128, out_features=64, bias=True)\n",
       "  (3): ReLU()\n",
       "  (4): Linear(in_features=64, out_features=32, bias=True)\n",
       "  (5): ReLU()\n",
       "  (6): Linear(in_features=32, out_features=16, bias=True)\n",
       "  (7): ReLU()\n",
       "  (8): Linear(in_features=16, out_features=8, bias=True)\n",
       "  (9): ReLU()\n",
       "  (10): Linear(in_features=8, out_features=4, bias=True)\n",
       "  (11): ReLU()\n",
       "  (12): Linear(in_features=4, out_features=1, bias=True)\n",
       ")"
      ]
     },
     "execution_count": 25,
     "metadata": {},
     "output_type": "execute_result"
    },
    {
     "data": {
      "text/plain": [
       "Sequential(\n",
       "  (0): Linear(in_features=275, out_features=128, bias=True)\n",
       "  (1): ReLU()\n",
       "  (2): Linear(in_features=128, out_features=64, bias=True)\n",
       "  (3): ReLU()\n",
       "  (4): Linear(in_features=64, out_features=32, bias=True)\n",
       "  (5): ReLU()\n",
       "  (6): Linear(in_features=32, out_features=16, bias=True)\n",
       "  (7): ReLU()\n",
       "  (8): Linear(in_features=16, out_features=8, bias=True)\n",
       "  (9): ReLU()\n",
       "  (10): Linear(in_features=8, out_features=4, bias=True)\n",
       "  (11): ReLU()\n",
       "  (12): Linear(in_features=4, out_features=1, bias=True)\n",
       ")"
      ]
     },
     "execution_count": 25,
     "metadata": {},
     "output_type": "execute_result"
    },
    {
     "data": {
      "text/plain": [
       "Sequential(\n",
       "  (0): Linear(in_features=275, out_features=128, bias=True)\n",
       "  (1): ReLU()\n",
       "  (2): Linear(in_features=128, out_features=64, bias=True)\n",
       "  (3): ReLU()\n",
       "  (4): Linear(in_features=64, out_features=32, bias=True)\n",
       "  (5): ReLU()\n",
       "  (6): Linear(in_features=32, out_features=16, bias=True)\n",
       "  (7): ReLU()\n",
       "  (8): Linear(in_features=16, out_features=8, bias=True)\n",
       "  (9): ReLU()\n",
       "  (10): Linear(in_features=8, out_features=4, bias=True)\n",
       "  (11): ReLU()\n",
       "  (12): Linear(in_features=4, out_features=1, bias=True)\n",
       ")"
      ]
     },
     "execution_count": 25,
     "metadata": {},
     "output_type": "execute_result"
    },
    {
     "data": {
      "text/plain": [
       "Sequential(\n",
       "  (0): Linear(in_features=275, out_features=128, bias=True)\n",
       "  (1): ReLU()\n",
       "  (2): Linear(in_features=128, out_features=64, bias=True)\n",
       "  (3): ReLU()\n",
       "  (4): Linear(in_features=64, out_features=32, bias=True)\n",
       "  (5): ReLU()\n",
       "  (6): Linear(in_features=32, out_features=16, bias=True)\n",
       "  (7): ReLU()\n",
       "  (8): Linear(in_features=16, out_features=8, bias=True)\n",
       "  (9): ReLU()\n",
       "  (10): Linear(in_features=8, out_features=4, bias=True)\n",
       "  (11): ReLU()\n",
       "  (12): Linear(in_features=4, out_features=1, bias=True)\n",
       ")"
      ]
     },
     "execution_count": 25,
     "metadata": {},
     "output_type": "execute_result"
    },
    {
     "data": {
      "text/plain": [
       "Sequential(\n",
       "  (0): Linear(in_features=275, out_features=128, bias=True)\n",
       "  (1): ReLU()\n",
       "  (2): Linear(in_features=128, out_features=64, bias=True)\n",
       "  (3): ReLU()\n",
       "  (4): Linear(in_features=64, out_features=32, bias=True)\n",
       "  (5): ReLU()\n",
       "  (6): Linear(in_features=32, out_features=16, bias=True)\n",
       "  (7): ReLU()\n",
       "  (8): Linear(in_features=16, out_features=8, bias=True)\n",
       "  (9): ReLU()\n",
       "  (10): Linear(in_features=8, out_features=4, bias=True)\n",
       "  (11): ReLU()\n",
       "  (12): Linear(in_features=4, out_features=1, bias=True)\n",
       ")"
      ]
     },
     "execution_count": 25,
     "metadata": {},
     "output_type": "execute_result"
    },
    {
     "data": {
      "text/plain": [
       "Sequential(\n",
       "  (0): Linear(in_features=275, out_features=128, bias=True)\n",
       "  (1): ReLU()\n",
       "  (2): Linear(in_features=128, out_features=64, bias=True)\n",
       "  (3): ReLU()\n",
       "  (4): Linear(in_features=64, out_features=32, bias=True)\n",
       "  (5): ReLU()\n",
       "  (6): Linear(in_features=32, out_features=16, bias=True)\n",
       "  (7): ReLU()\n",
       "  (8): Linear(in_features=16, out_features=8, bias=True)\n",
       "  (9): ReLU()\n",
       "  (10): Linear(in_features=8, out_features=4, bias=True)\n",
       "  (11): ReLU()\n",
       "  (12): Linear(in_features=4, out_features=1, bias=True)\n",
       ")"
      ]
     },
     "execution_count": 25,
     "metadata": {},
     "output_type": "execute_result"
    },
    {
     "data": {
      "text/plain": [
       "Sequential(\n",
       "  (0): Linear(in_features=275, out_features=128, bias=True)\n",
       "  (1): ReLU()\n",
       "  (2): Linear(in_features=128, out_features=64, bias=True)\n",
       "  (3): ReLU()\n",
       "  (4): Linear(in_features=64, out_features=32, bias=True)\n",
       "  (5): ReLU()\n",
       "  (6): Linear(in_features=32, out_features=16, bias=True)\n",
       "  (7): ReLU()\n",
       "  (8): Linear(in_features=16, out_features=8, bias=True)\n",
       "  (9): ReLU()\n",
       "  (10): Linear(in_features=8, out_features=4, bias=True)\n",
       "  (11): ReLU()\n",
       "  (12): Linear(in_features=4, out_features=1, bias=True)\n",
       ")"
      ]
     },
     "execution_count": 25,
     "metadata": {},
     "output_type": "execute_result"
    },
    {
     "data": {
      "text/plain": [
       "Sequential(\n",
       "  (0): Linear(in_features=275, out_features=128, bias=True)\n",
       "  (1): ReLU()\n",
       "  (2): Linear(in_features=128, out_features=64, bias=True)\n",
       "  (3): ReLU()\n",
       "  (4): Linear(in_features=64, out_features=32, bias=True)\n",
       "  (5): ReLU()\n",
       "  (6): Linear(in_features=32, out_features=16, bias=True)\n",
       "  (7): ReLU()\n",
       "  (8): Linear(in_features=16, out_features=8, bias=True)\n",
       "  (9): ReLU()\n",
       "  (10): Linear(in_features=8, out_features=4, bias=True)\n",
       "  (11): ReLU()\n",
       "  (12): Linear(in_features=4, out_features=1, bias=True)\n",
       ")"
      ]
     },
     "execution_count": 25,
     "metadata": {},
     "output_type": "execute_result"
    },
    {
     "data": {
      "text/plain": [
       "Sequential(\n",
       "  (0): Linear(in_features=275, out_features=128, bias=True)\n",
       "  (1): ReLU()\n",
       "  (2): Linear(in_features=128, out_features=64, bias=True)\n",
       "  (3): ReLU()\n",
       "  (4): Linear(in_features=64, out_features=32, bias=True)\n",
       "  (5): ReLU()\n",
       "  (6): Linear(in_features=32, out_features=16, bias=True)\n",
       "  (7): ReLU()\n",
       "  (8): Linear(in_features=16, out_features=8, bias=True)\n",
       "  (9): ReLU()\n",
       "  (10): Linear(in_features=8, out_features=4, bias=True)\n",
       "  (11): ReLU()\n",
       "  (12): Linear(in_features=4, out_features=1, bias=True)\n",
       ")"
      ]
     },
     "execution_count": 25,
     "metadata": {},
     "output_type": "execute_result"
    },
    {
     "data": {
      "text/plain": [
       "Sequential(\n",
       "  (0): Linear(in_features=275, out_features=128, bias=True)\n",
       "  (1): ReLU()\n",
       "  (2): Linear(in_features=128, out_features=64, bias=True)\n",
       "  (3): ReLU()\n",
       "  (4): Linear(in_features=64, out_features=32, bias=True)\n",
       "  (5): ReLU()\n",
       "  (6): Linear(in_features=32, out_features=16, bias=True)\n",
       "  (7): ReLU()\n",
       "  (8): Linear(in_features=16, out_features=8, bias=True)\n",
       "  (9): ReLU()\n",
       "  (10): Linear(in_features=8, out_features=4, bias=True)\n",
       "  (11): ReLU()\n",
       "  (12): Linear(in_features=4, out_features=1, bias=True)\n",
       ")"
      ]
     },
     "execution_count": 25,
     "metadata": {},
     "output_type": "execute_result"
    },
    {
     "data": {
      "text/plain": [
       "Sequential(\n",
       "  (0): Linear(in_features=275, out_features=128, bias=True)\n",
       "  (1): ReLU()\n",
       "  (2): Linear(in_features=128, out_features=64, bias=True)\n",
       "  (3): ReLU()\n",
       "  (4): Linear(in_features=64, out_features=32, bias=True)\n",
       "  (5): ReLU()\n",
       "  (6): Linear(in_features=32, out_features=16, bias=True)\n",
       "  (7): ReLU()\n",
       "  (8): Linear(in_features=16, out_features=8, bias=True)\n",
       "  (9): ReLU()\n",
       "  (10): Linear(in_features=8, out_features=4, bias=True)\n",
       "  (11): ReLU()\n",
       "  (12): Linear(in_features=4, out_features=1, bias=True)\n",
       ")"
      ]
     },
     "execution_count": 25,
     "metadata": {},
     "output_type": "execute_result"
    },
    {
     "data": {
      "text/plain": [
       "Sequential(\n",
       "  (0): Linear(in_features=275, out_features=128, bias=True)\n",
       "  (1): ReLU()\n",
       "  (2): Linear(in_features=128, out_features=64, bias=True)\n",
       "  (3): ReLU()\n",
       "  (4): Linear(in_features=64, out_features=32, bias=True)\n",
       "  (5): ReLU()\n",
       "  (6): Linear(in_features=32, out_features=16, bias=True)\n",
       "  (7): ReLU()\n",
       "  (8): Linear(in_features=16, out_features=8, bias=True)\n",
       "  (9): ReLU()\n",
       "  (10): Linear(in_features=8, out_features=4, bias=True)\n",
       "  (11): ReLU()\n",
       "  (12): Linear(in_features=4, out_features=1, bias=True)\n",
       ")"
      ]
     },
     "execution_count": 25,
     "metadata": {},
     "output_type": "execute_result"
    },
    {
     "data": {
      "text/plain": [
       "Sequential(\n",
       "  (0): Linear(in_features=275, out_features=128, bias=True)\n",
       "  (1): ReLU()\n",
       "  (2): Linear(in_features=128, out_features=64, bias=True)\n",
       "  (3): ReLU()\n",
       "  (4): Linear(in_features=64, out_features=32, bias=True)\n",
       "  (5): ReLU()\n",
       "  (6): Linear(in_features=32, out_features=16, bias=True)\n",
       "  (7): ReLU()\n",
       "  (8): Linear(in_features=16, out_features=8, bias=True)\n",
       "  (9): ReLU()\n",
       "  (10): Linear(in_features=8, out_features=4, bias=True)\n",
       "  (11): ReLU()\n",
       "  (12): Linear(in_features=4, out_features=1, bias=True)\n",
       ")"
      ]
     },
     "execution_count": 25,
     "metadata": {},
     "output_type": "execute_result"
    },
    {
     "data": {
      "text/plain": [
       "Sequential(\n",
       "  (0): Linear(in_features=275, out_features=128, bias=True)\n",
       "  (1): ReLU()\n",
       "  (2): Linear(in_features=128, out_features=64, bias=True)\n",
       "  (3): ReLU()\n",
       "  (4): Linear(in_features=64, out_features=32, bias=True)\n",
       "  (5): ReLU()\n",
       "  (6): Linear(in_features=32, out_features=16, bias=True)\n",
       "  (7): ReLU()\n",
       "  (8): Linear(in_features=16, out_features=8, bias=True)\n",
       "  (9): ReLU()\n",
       "  (10): Linear(in_features=8, out_features=4, bias=True)\n",
       "  (11): ReLU()\n",
       "  (12): Linear(in_features=4, out_features=1, bias=True)\n",
       ")"
      ]
     },
     "execution_count": 25,
     "metadata": {},
     "output_type": "execute_result"
    },
    {
     "data": {
      "text/plain": [
       "Sequential(\n",
       "  (0): Linear(in_features=275, out_features=128, bias=True)\n",
       "  (1): ReLU()\n",
       "  (2): Linear(in_features=128, out_features=64, bias=True)\n",
       "  (3): ReLU()\n",
       "  (4): Linear(in_features=64, out_features=32, bias=True)\n",
       "  (5): ReLU()\n",
       "  (6): Linear(in_features=32, out_features=16, bias=True)\n",
       "  (7): ReLU()\n",
       "  (8): Linear(in_features=16, out_features=8, bias=True)\n",
       "  (9): ReLU()\n",
       "  (10): Linear(in_features=8, out_features=4, bias=True)\n",
       "  (11): ReLU()\n",
       "  (12): Linear(in_features=4, out_features=1, bias=True)\n",
       ")"
      ]
     },
     "execution_count": 25,
     "metadata": {},
     "output_type": "execute_result"
    },
    {
     "data": {
      "text/plain": [
       "Sequential(\n",
       "  (0): Linear(in_features=275, out_features=128, bias=True)\n",
       "  (1): ReLU()\n",
       "  (2): Linear(in_features=128, out_features=64, bias=True)\n",
       "  (3): ReLU()\n",
       "  (4): Linear(in_features=64, out_features=32, bias=True)\n",
       "  (5): ReLU()\n",
       "  (6): Linear(in_features=32, out_features=16, bias=True)\n",
       "  (7): ReLU()\n",
       "  (8): Linear(in_features=16, out_features=8, bias=True)\n",
       "  (9): ReLU()\n",
       "  (10): Linear(in_features=8, out_features=4, bias=True)\n",
       "  (11): ReLU()\n",
       "  (12): Linear(in_features=4, out_features=1, bias=True)\n",
       ")"
      ]
     },
     "execution_count": 25,
     "metadata": {},
     "output_type": "execute_result"
    },
    {
     "data": {
      "text/plain": [
       "Sequential(\n",
       "  (0): Linear(in_features=275, out_features=128, bias=True)\n",
       "  (1): ReLU()\n",
       "  (2): Linear(in_features=128, out_features=64, bias=True)\n",
       "  (3): ReLU()\n",
       "  (4): Linear(in_features=64, out_features=32, bias=True)\n",
       "  (5): ReLU()\n",
       "  (6): Linear(in_features=32, out_features=16, bias=True)\n",
       "  (7): ReLU()\n",
       "  (8): Linear(in_features=16, out_features=8, bias=True)\n",
       "  (9): ReLU()\n",
       "  (10): Linear(in_features=8, out_features=4, bias=True)\n",
       "  (11): ReLU()\n",
       "  (12): Linear(in_features=4, out_features=1, bias=True)\n",
       ")"
      ]
     },
     "execution_count": 25,
     "metadata": {},
     "output_type": "execute_result"
    },
    {
     "data": {
      "text/plain": [
       "Sequential(\n",
       "  (0): Linear(in_features=275, out_features=128, bias=True)\n",
       "  (1): ReLU()\n",
       "  (2): Linear(in_features=128, out_features=64, bias=True)\n",
       "  (3): ReLU()\n",
       "  (4): Linear(in_features=64, out_features=32, bias=True)\n",
       "  (5): ReLU()\n",
       "  (6): Linear(in_features=32, out_features=16, bias=True)\n",
       "  (7): ReLU()\n",
       "  (8): Linear(in_features=16, out_features=8, bias=True)\n",
       "  (9): ReLU()\n",
       "  (10): Linear(in_features=8, out_features=4, bias=True)\n",
       "  (11): ReLU()\n",
       "  (12): Linear(in_features=4, out_features=1, bias=True)\n",
       ")"
      ]
     },
     "execution_count": 25,
     "metadata": {},
     "output_type": "execute_result"
    },
    {
     "data": {
      "text/plain": [
       "Sequential(\n",
       "  (0): Linear(in_features=275, out_features=128, bias=True)\n",
       "  (1): ReLU()\n",
       "  (2): Linear(in_features=128, out_features=64, bias=True)\n",
       "  (3): ReLU()\n",
       "  (4): Linear(in_features=64, out_features=32, bias=True)\n",
       "  (5): ReLU()\n",
       "  (6): Linear(in_features=32, out_features=16, bias=True)\n",
       "  (7): ReLU()\n",
       "  (8): Linear(in_features=16, out_features=8, bias=True)\n",
       "  (9): ReLU()\n",
       "  (10): Linear(in_features=8, out_features=4, bias=True)\n",
       "  (11): ReLU()\n",
       "  (12): Linear(in_features=4, out_features=1, bias=True)\n",
       ")"
      ]
     },
     "execution_count": 25,
     "metadata": {},
     "output_type": "execute_result"
    },
    {
     "data": {
      "text/plain": [
       "Sequential(\n",
       "  (0): Linear(in_features=275, out_features=128, bias=True)\n",
       "  (1): ReLU()\n",
       "  (2): Linear(in_features=128, out_features=64, bias=True)\n",
       "  (3): ReLU()\n",
       "  (4): Linear(in_features=64, out_features=32, bias=True)\n",
       "  (5): ReLU()\n",
       "  (6): Linear(in_features=32, out_features=16, bias=True)\n",
       "  (7): ReLU()\n",
       "  (8): Linear(in_features=16, out_features=8, bias=True)\n",
       "  (9): ReLU()\n",
       "  (10): Linear(in_features=8, out_features=4, bias=True)\n",
       "  (11): ReLU()\n",
       "  (12): Linear(in_features=4, out_features=1, bias=True)\n",
       ")"
      ]
     },
     "execution_count": 25,
     "metadata": {},
     "output_type": "execute_result"
    },
    {
     "data": {
      "text/plain": [
       "Sequential(\n",
       "  (0): Linear(in_features=275, out_features=128, bias=True)\n",
       "  (1): ReLU()\n",
       "  (2): Linear(in_features=128, out_features=64, bias=True)\n",
       "  (3): ReLU()\n",
       "  (4): Linear(in_features=64, out_features=32, bias=True)\n",
       "  (5): ReLU()\n",
       "  (6): Linear(in_features=32, out_features=16, bias=True)\n",
       "  (7): ReLU()\n",
       "  (8): Linear(in_features=16, out_features=8, bias=True)\n",
       "  (9): ReLU()\n",
       "  (10): Linear(in_features=8, out_features=4, bias=True)\n",
       "  (11): ReLU()\n",
       "  (12): Linear(in_features=4, out_features=1, bias=True)\n",
       ")"
      ]
     },
     "execution_count": 25,
     "metadata": {},
     "output_type": "execute_result"
    },
    {
     "data": {
      "text/plain": [
       "Sequential(\n",
       "  (0): Linear(in_features=275, out_features=128, bias=True)\n",
       "  (1): ReLU()\n",
       "  (2): Linear(in_features=128, out_features=64, bias=True)\n",
       "  (3): ReLU()\n",
       "  (4): Linear(in_features=64, out_features=32, bias=True)\n",
       "  (5): ReLU()\n",
       "  (6): Linear(in_features=32, out_features=16, bias=True)\n",
       "  (7): ReLU()\n",
       "  (8): Linear(in_features=16, out_features=8, bias=True)\n",
       "  (9): ReLU()\n",
       "  (10): Linear(in_features=8, out_features=4, bias=True)\n",
       "  (11): ReLU()\n",
       "  (12): Linear(in_features=4, out_features=1, bias=True)\n",
       ")"
      ]
     },
     "execution_count": 25,
     "metadata": {},
     "output_type": "execute_result"
    },
    {
     "data": {
      "text/plain": [
       "Sequential(\n",
       "  (0): Linear(in_features=275, out_features=128, bias=True)\n",
       "  (1): ReLU()\n",
       "  (2): Linear(in_features=128, out_features=64, bias=True)\n",
       "  (3): ReLU()\n",
       "  (4): Linear(in_features=64, out_features=32, bias=True)\n",
       "  (5): ReLU()\n",
       "  (6): Linear(in_features=32, out_features=16, bias=True)\n",
       "  (7): ReLU()\n",
       "  (8): Linear(in_features=16, out_features=8, bias=True)\n",
       "  (9): ReLU()\n",
       "  (10): Linear(in_features=8, out_features=4, bias=True)\n",
       "  (11): ReLU()\n",
       "  (12): Linear(in_features=4, out_features=1, bias=True)\n",
       ")"
      ]
     },
     "execution_count": 25,
     "metadata": {},
     "output_type": "execute_result"
    },
    {
     "data": {
      "text/plain": [
       "Sequential(\n",
       "  (0): Linear(in_features=275, out_features=128, bias=True)\n",
       "  (1): ReLU()\n",
       "  (2): Linear(in_features=128, out_features=64, bias=True)\n",
       "  (3): ReLU()\n",
       "  (4): Linear(in_features=64, out_features=32, bias=True)\n",
       "  (5): ReLU()\n",
       "  (6): Linear(in_features=32, out_features=16, bias=True)\n",
       "  (7): ReLU()\n",
       "  (8): Linear(in_features=16, out_features=8, bias=True)\n",
       "  (9): ReLU()\n",
       "  (10): Linear(in_features=8, out_features=4, bias=True)\n",
       "  (11): ReLU()\n",
       "  (12): Linear(in_features=4, out_features=1, bias=True)\n",
       ")"
      ]
     },
     "execution_count": 25,
     "metadata": {},
     "output_type": "execute_result"
    },
    {
     "data": {
      "text/plain": [
       "Sequential(\n",
       "  (0): Linear(in_features=275, out_features=128, bias=True)\n",
       "  (1): ReLU()\n",
       "  (2): Linear(in_features=128, out_features=64, bias=True)\n",
       "  (3): ReLU()\n",
       "  (4): Linear(in_features=64, out_features=32, bias=True)\n",
       "  (5): ReLU()\n",
       "  (6): Linear(in_features=32, out_features=16, bias=True)\n",
       "  (7): ReLU()\n",
       "  (8): Linear(in_features=16, out_features=8, bias=True)\n",
       "  (9): ReLU()\n",
       "  (10): Linear(in_features=8, out_features=4, bias=True)\n",
       "  (11): ReLU()\n",
       "  (12): Linear(in_features=4, out_features=1, bias=True)\n",
       ")"
      ]
     },
     "execution_count": 25,
     "metadata": {},
     "output_type": "execute_result"
    },
    {
     "data": {
      "text/plain": [
       "Sequential(\n",
       "  (0): Linear(in_features=275, out_features=128, bias=True)\n",
       "  (1): ReLU()\n",
       "  (2): Linear(in_features=128, out_features=64, bias=True)\n",
       "  (3): ReLU()\n",
       "  (4): Linear(in_features=64, out_features=32, bias=True)\n",
       "  (5): ReLU()\n",
       "  (6): Linear(in_features=32, out_features=16, bias=True)\n",
       "  (7): ReLU()\n",
       "  (8): Linear(in_features=16, out_features=8, bias=True)\n",
       "  (9): ReLU()\n",
       "  (10): Linear(in_features=8, out_features=4, bias=True)\n",
       "  (11): ReLU()\n",
       "  (12): Linear(in_features=4, out_features=1, bias=True)\n",
       ")"
      ]
     },
     "execution_count": 25,
     "metadata": {},
     "output_type": "execute_result"
    },
    {
     "data": {
      "text/plain": [
       "Sequential(\n",
       "  (0): Linear(in_features=275, out_features=128, bias=True)\n",
       "  (1): ReLU()\n",
       "  (2): Linear(in_features=128, out_features=64, bias=True)\n",
       "  (3): ReLU()\n",
       "  (4): Linear(in_features=64, out_features=32, bias=True)\n",
       "  (5): ReLU()\n",
       "  (6): Linear(in_features=32, out_features=16, bias=True)\n",
       "  (7): ReLU()\n",
       "  (8): Linear(in_features=16, out_features=8, bias=True)\n",
       "  (9): ReLU()\n",
       "  (10): Linear(in_features=8, out_features=4, bias=True)\n",
       "  (11): ReLU()\n",
       "  (12): Linear(in_features=4, out_features=1, bias=True)\n",
       ")"
      ]
     },
     "execution_count": 25,
     "metadata": {},
     "output_type": "execute_result"
    },
    {
     "data": {
      "text/plain": [
       "Sequential(\n",
       "  (0): Linear(in_features=275, out_features=128, bias=True)\n",
       "  (1): ReLU()\n",
       "  (2): Linear(in_features=128, out_features=64, bias=True)\n",
       "  (3): ReLU()\n",
       "  (4): Linear(in_features=64, out_features=32, bias=True)\n",
       "  (5): ReLU()\n",
       "  (6): Linear(in_features=32, out_features=16, bias=True)\n",
       "  (7): ReLU()\n",
       "  (8): Linear(in_features=16, out_features=8, bias=True)\n",
       "  (9): ReLU()\n",
       "  (10): Linear(in_features=8, out_features=4, bias=True)\n",
       "  (11): ReLU()\n",
       "  (12): Linear(in_features=4, out_features=1, bias=True)\n",
       ")"
      ]
     },
     "execution_count": 25,
     "metadata": {},
     "output_type": "execute_result"
    },
    {
     "data": {
      "text/plain": [
       "Sequential(\n",
       "  (0): Linear(in_features=275, out_features=128, bias=True)\n",
       "  (1): ReLU()\n",
       "  (2): Linear(in_features=128, out_features=64, bias=True)\n",
       "  (3): ReLU()\n",
       "  (4): Linear(in_features=64, out_features=32, bias=True)\n",
       "  (5): ReLU()\n",
       "  (6): Linear(in_features=32, out_features=16, bias=True)\n",
       "  (7): ReLU()\n",
       "  (8): Linear(in_features=16, out_features=8, bias=True)\n",
       "  (9): ReLU()\n",
       "  (10): Linear(in_features=8, out_features=4, bias=True)\n",
       "  (11): ReLU()\n",
       "  (12): Linear(in_features=4, out_features=1, bias=True)\n",
       ")"
      ]
     },
     "execution_count": 25,
     "metadata": {},
     "output_type": "execute_result"
    },
    {
     "data": {
      "text/plain": [
       "Sequential(\n",
       "  (0): Linear(in_features=275, out_features=128, bias=True)\n",
       "  (1): ReLU()\n",
       "  (2): Linear(in_features=128, out_features=64, bias=True)\n",
       "  (3): ReLU()\n",
       "  (4): Linear(in_features=64, out_features=32, bias=True)\n",
       "  (5): ReLU()\n",
       "  (6): Linear(in_features=32, out_features=16, bias=True)\n",
       "  (7): ReLU()\n",
       "  (8): Linear(in_features=16, out_features=8, bias=True)\n",
       "  (9): ReLU()\n",
       "  (10): Linear(in_features=8, out_features=4, bias=True)\n",
       "  (11): ReLU()\n",
       "  (12): Linear(in_features=4, out_features=1, bias=True)\n",
       ")"
      ]
     },
     "execution_count": 25,
     "metadata": {},
     "output_type": "execute_result"
    },
    {
     "data": {
      "text/plain": [
       "Sequential(\n",
       "  (0): Linear(in_features=275, out_features=128, bias=True)\n",
       "  (1): ReLU()\n",
       "  (2): Linear(in_features=128, out_features=64, bias=True)\n",
       "  (3): ReLU()\n",
       "  (4): Linear(in_features=64, out_features=32, bias=True)\n",
       "  (5): ReLU()\n",
       "  (6): Linear(in_features=32, out_features=16, bias=True)\n",
       "  (7): ReLU()\n",
       "  (8): Linear(in_features=16, out_features=8, bias=True)\n",
       "  (9): ReLU()\n",
       "  (10): Linear(in_features=8, out_features=4, bias=True)\n",
       "  (11): ReLU()\n",
       "  (12): Linear(in_features=4, out_features=1, bias=True)\n",
       ")"
      ]
     },
     "execution_count": 25,
     "metadata": {},
     "output_type": "execute_result"
    },
    {
     "data": {
      "text/plain": [
       "Sequential(\n",
       "  (0): Linear(in_features=275, out_features=128, bias=True)\n",
       "  (1): ReLU()\n",
       "  (2): Linear(in_features=128, out_features=64, bias=True)\n",
       "  (3): ReLU()\n",
       "  (4): Linear(in_features=64, out_features=32, bias=True)\n",
       "  (5): ReLU()\n",
       "  (6): Linear(in_features=32, out_features=16, bias=True)\n",
       "  (7): ReLU()\n",
       "  (8): Linear(in_features=16, out_features=8, bias=True)\n",
       "  (9): ReLU()\n",
       "  (10): Linear(in_features=8, out_features=4, bias=True)\n",
       "  (11): ReLU()\n",
       "  (12): Linear(in_features=4, out_features=1, bias=True)\n",
       ")"
      ]
     },
     "execution_count": 25,
     "metadata": {},
     "output_type": "execute_result"
    },
    {
     "data": {
      "text/plain": [
       "Sequential(\n",
       "  (0): Linear(in_features=275, out_features=128, bias=True)\n",
       "  (1): ReLU()\n",
       "  (2): Linear(in_features=128, out_features=64, bias=True)\n",
       "  (3): ReLU()\n",
       "  (4): Linear(in_features=64, out_features=32, bias=True)\n",
       "  (5): ReLU()\n",
       "  (6): Linear(in_features=32, out_features=16, bias=True)\n",
       "  (7): ReLU()\n",
       "  (8): Linear(in_features=16, out_features=8, bias=True)\n",
       "  (9): ReLU()\n",
       "  (10): Linear(in_features=8, out_features=4, bias=True)\n",
       "  (11): ReLU()\n",
       "  (12): Linear(in_features=4, out_features=1, bias=True)\n",
       ")"
      ]
     },
     "execution_count": 25,
     "metadata": {},
     "output_type": "execute_result"
    },
    {
     "data": {
      "text/plain": [
       "Sequential(\n",
       "  (0): Linear(in_features=275, out_features=128, bias=True)\n",
       "  (1): ReLU()\n",
       "  (2): Linear(in_features=128, out_features=64, bias=True)\n",
       "  (3): ReLU()\n",
       "  (4): Linear(in_features=64, out_features=32, bias=True)\n",
       "  (5): ReLU()\n",
       "  (6): Linear(in_features=32, out_features=16, bias=True)\n",
       "  (7): ReLU()\n",
       "  (8): Linear(in_features=16, out_features=8, bias=True)\n",
       "  (9): ReLU()\n",
       "  (10): Linear(in_features=8, out_features=4, bias=True)\n",
       "  (11): ReLU()\n",
       "  (12): Linear(in_features=4, out_features=1, bias=True)\n",
       ")"
      ]
     },
     "execution_count": 25,
     "metadata": {},
     "output_type": "execute_result"
    },
    {
     "data": {
      "text/plain": [
       "Sequential(\n",
       "  (0): Linear(in_features=275, out_features=128, bias=True)\n",
       "  (1): ReLU()\n",
       "  (2): Linear(in_features=128, out_features=64, bias=True)\n",
       "  (3): ReLU()\n",
       "  (4): Linear(in_features=64, out_features=32, bias=True)\n",
       "  (5): ReLU()\n",
       "  (6): Linear(in_features=32, out_features=16, bias=True)\n",
       "  (7): ReLU()\n",
       "  (8): Linear(in_features=16, out_features=8, bias=True)\n",
       "  (9): ReLU()\n",
       "  (10): Linear(in_features=8, out_features=4, bias=True)\n",
       "  (11): ReLU()\n",
       "  (12): Linear(in_features=4, out_features=1, bias=True)\n",
       ")"
      ]
     },
     "execution_count": 25,
     "metadata": {},
     "output_type": "execute_result"
    },
    {
     "data": {
      "text/plain": [
       "Sequential(\n",
       "  (0): Linear(in_features=275, out_features=128, bias=True)\n",
       "  (1): ReLU()\n",
       "  (2): Linear(in_features=128, out_features=64, bias=True)\n",
       "  (3): ReLU()\n",
       "  (4): Linear(in_features=64, out_features=32, bias=True)\n",
       "  (5): ReLU()\n",
       "  (6): Linear(in_features=32, out_features=16, bias=True)\n",
       "  (7): ReLU()\n",
       "  (8): Linear(in_features=16, out_features=8, bias=True)\n",
       "  (9): ReLU()\n",
       "  (10): Linear(in_features=8, out_features=4, bias=True)\n",
       "  (11): ReLU()\n",
       "  (12): Linear(in_features=4, out_features=1, bias=True)\n",
       ")"
      ]
     },
     "execution_count": 25,
     "metadata": {},
     "output_type": "execute_result"
    },
    {
     "data": {
      "text/plain": [
       "Sequential(\n",
       "  (0): Linear(in_features=275, out_features=128, bias=True)\n",
       "  (1): ReLU()\n",
       "  (2): Linear(in_features=128, out_features=64, bias=True)\n",
       "  (3): ReLU()\n",
       "  (4): Linear(in_features=64, out_features=32, bias=True)\n",
       "  (5): ReLU()\n",
       "  (6): Linear(in_features=32, out_features=16, bias=True)\n",
       "  (7): ReLU()\n",
       "  (8): Linear(in_features=16, out_features=8, bias=True)\n",
       "  (9): ReLU()\n",
       "  (10): Linear(in_features=8, out_features=4, bias=True)\n",
       "  (11): ReLU()\n",
       "  (12): Linear(in_features=4, out_features=1, bias=True)\n",
       ")"
      ]
     },
     "execution_count": 25,
     "metadata": {},
     "output_type": "execute_result"
    },
    {
     "data": {
      "text/plain": [
       "Sequential(\n",
       "  (0): Linear(in_features=275, out_features=128, bias=True)\n",
       "  (1): ReLU()\n",
       "  (2): Linear(in_features=128, out_features=64, bias=True)\n",
       "  (3): ReLU()\n",
       "  (4): Linear(in_features=64, out_features=32, bias=True)\n",
       "  (5): ReLU()\n",
       "  (6): Linear(in_features=32, out_features=16, bias=True)\n",
       "  (7): ReLU()\n",
       "  (8): Linear(in_features=16, out_features=8, bias=True)\n",
       "  (9): ReLU()\n",
       "  (10): Linear(in_features=8, out_features=4, bias=True)\n",
       "  (11): ReLU()\n",
       "  (12): Linear(in_features=4, out_features=1, bias=True)\n",
       ")"
      ]
     },
     "execution_count": 25,
     "metadata": {},
     "output_type": "execute_result"
    },
    {
     "data": {
      "text/plain": [
       "Sequential(\n",
       "  (0): Linear(in_features=275, out_features=128, bias=True)\n",
       "  (1): ReLU()\n",
       "  (2): Linear(in_features=128, out_features=64, bias=True)\n",
       "  (3): ReLU()\n",
       "  (4): Linear(in_features=64, out_features=32, bias=True)\n",
       "  (5): ReLU()\n",
       "  (6): Linear(in_features=32, out_features=16, bias=True)\n",
       "  (7): ReLU()\n",
       "  (8): Linear(in_features=16, out_features=8, bias=True)\n",
       "  (9): ReLU()\n",
       "  (10): Linear(in_features=8, out_features=4, bias=True)\n",
       "  (11): ReLU()\n",
       "  (12): Linear(in_features=4, out_features=1, bias=True)\n",
       ")"
      ]
     },
     "execution_count": 25,
     "metadata": {},
     "output_type": "execute_result"
    },
    {
     "data": {
      "text/plain": [
       "Sequential(\n",
       "  (0): Linear(in_features=275, out_features=128, bias=True)\n",
       "  (1): ReLU()\n",
       "  (2): Linear(in_features=128, out_features=64, bias=True)\n",
       "  (3): ReLU()\n",
       "  (4): Linear(in_features=64, out_features=32, bias=True)\n",
       "  (5): ReLU()\n",
       "  (6): Linear(in_features=32, out_features=16, bias=True)\n",
       "  (7): ReLU()\n",
       "  (8): Linear(in_features=16, out_features=8, bias=True)\n",
       "  (9): ReLU()\n",
       "  (10): Linear(in_features=8, out_features=4, bias=True)\n",
       "  (11): ReLU()\n",
       "  (12): Linear(in_features=4, out_features=1, bias=True)\n",
       ")"
      ]
     },
     "execution_count": 25,
     "metadata": {},
     "output_type": "execute_result"
    },
    {
     "data": {
      "text/plain": [
       "Sequential(\n",
       "  (0): Linear(in_features=275, out_features=128, bias=True)\n",
       "  (1): ReLU()\n",
       "  (2): Linear(in_features=128, out_features=64, bias=True)\n",
       "  (3): ReLU()\n",
       "  (4): Linear(in_features=64, out_features=32, bias=True)\n",
       "  (5): ReLU()\n",
       "  (6): Linear(in_features=32, out_features=16, bias=True)\n",
       "  (7): ReLU()\n",
       "  (8): Linear(in_features=16, out_features=8, bias=True)\n",
       "  (9): ReLU()\n",
       "  (10): Linear(in_features=8, out_features=4, bias=True)\n",
       "  (11): ReLU()\n",
       "  (12): Linear(in_features=4, out_features=1, bias=True)\n",
       ")"
      ]
     },
     "execution_count": 25,
     "metadata": {},
     "output_type": "execute_result"
    },
    {
     "data": {
      "text/plain": [
       "Sequential(\n",
       "  (0): Linear(in_features=275, out_features=128, bias=True)\n",
       "  (1): ReLU()\n",
       "  (2): Linear(in_features=128, out_features=64, bias=True)\n",
       "  (3): ReLU()\n",
       "  (4): Linear(in_features=64, out_features=32, bias=True)\n",
       "  (5): ReLU()\n",
       "  (6): Linear(in_features=32, out_features=16, bias=True)\n",
       "  (7): ReLU()\n",
       "  (8): Linear(in_features=16, out_features=8, bias=True)\n",
       "  (9): ReLU()\n",
       "  (10): Linear(in_features=8, out_features=4, bias=True)\n",
       "  (11): ReLU()\n",
       "  (12): Linear(in_features=4, out_features=1, bias=True)\n",
       ")"
      ]
     },
     "execution_count": 25,
     "metadata": {},
     "output_type": "execute_result"
    },
    {
     "data": {
      "text/plain": [
       "Sequential(\n",
       "  (0): Linear(in_features=275, out_features=128, bias=True)\n",
       "  (1): ReLU()\n",
       "  (2): Linear(in_features=128, out_features=64, bias=True)\n",
       "  (3): ReLU()\n",
       "  (4): Linear(in_features=64, out_features=32, bias=True)\n",
       "  (5): ReLU()\n",
       "  (6): Linear(in_features=32, out_features=16, bias=True)\n",
       "  (7): ReLU()\n",
       "  (8): Linear(in_features=16, out_features=8, bias=True)\n",
       "  (9): ReLU()\n",
       "  (10): Linear(in_features=8, out_features=4, bias=True)\n",
       "  (11): ReLU()\n",
       "  (12): Linear(in_features=4, out_features=1, bias=True)\n",
       ")"
      ]
     },
     "execution_count": 25,
     "metadata": {},
     "output_type": "execute_result"
    },
    {
     "data": {
      "text/plain": [
       "Sequential(\n",
       "  (0): Linear(in_features=275, out_features=128, bias=True)\n",
       "  (1): ReLU()\n",
       "  (2): Linear(in_features=128, out_features=64, bias=True)\n",
       "  (3): ReLU()\n",
       "  (4): Linear(in_features=64, out_features=32, bias=True)\n",
       "  (5): ReLU()\n",
       "  (6): Linear(in_features=32, out_features=16, bias=True)\n",
       "  (7): ReLU()\n",
       "  (8): Linear(in_features=16, out_features=8, bias=True)\n",
       "  (9): ReLU()\n",
       "  (10): Linear(in_features=8, out_features=4, bias=True)\n",
       "  (11): ReLU()\n",
       "  (12): Linear(in_features=4, out_features=1, bias=True)\n",
       ")"
      ]
     },
     "execution_count": 25,
     "metadata": {},
     "output_type": "execute_result"
    },
    {
     "data": {
      "text/plain": [
       "Sequential(\n",
       "  (0): Linear(in_features=275, out_features=128, bias=True)\n",
       "  (1): ReLU()\n",
       "  (2): Linear(in_features=128, out_features=64, bias=True)\n",
       "  (3): ReLU()\n",
       "  (4): Linear(in_features=64, out_features=32, bias=True)\n",
       "  (5): ReLU()\n",
       "  (6): Linear(in_features=32, out_features=16, bias=True)\n",
       "  (7): ReLU()\n",
       "  (8): Linear(in_features=16, out_features=8, bias=True)\n",
       "  (9): ReLU()\n",
       "  (10): Linear(in_features=8, out_features=4, bias=True)\n",
       "  (11): ReLU()\n",
       "  (12): Linear(in_features=4, out_features=1, bias=True)\n",
       ")"
      ]
     },
     "execution_count": 25,
     "metadata": {},
     "output_type": "execute_result"
    },
    {
     "data": {
      "text/plain": [
       "Sequential(\n",
       "  (0): Linear(in_features=275, out_features=128, bias=True)\n",
       "  (1): ReLU()\n",
       "  (2): Linear(in_features=128, out_features=64, bias=True)\n",
       "  (3): ReLU()\n",
       "  (4): Linear(in_features=64, out_features=32, bias=True)\n",
       "  (5): ReLU()\n",
       "  (6): Linear(in_features=32, out_features=16, bias=True)\n",
       "  (7): ReLU()\n",
       "  (8): Linear(in_features=16, out_features=8, bias=True)\n",
       "  (9): ReLU()\n",
       "  (10): Linear(in_features=8, out_features=4, bias=True)\n",
       "  (11): ReLU()\n",
       "  (12): Linear(in_features=4, out_features=1, bias=True)\n",
       ")"
      ]
     },
     "execution_count": 25,
     "metadata": {},
     "output_type": "execute_result"
    },
    {
     "data": {
      "text/plain": [
       "Sequential(\n",
       "  (0): Linear(in_features=275, out_features=128, bias=True)\n",
       "  (1): ReLU()\n",
       "  (2): Linear(in_features=128, out_features=64, bias=True)\n",
       "  (3): ReLU()\n",
       "  (4): Linear(in_features=64, out_features=32, bias=True)\n",
       "  (5): ReLU()\n",
       "  (6): Linear(in_features=32, out_features=16, bias=True)\n",
       "  (7): ReLU()\n",
       "  (8): Linear(in_features=16, out_features=8, bias=True)\n",
       "  (9): ReLU()\n",
       "  (10): Linear(in_features=8, out_features=4, bias=True)\n",
       "  (11): ReLU()\n",
       "  (12): Linear(in_features=4, out_features=1, bias=True)\n",
       ")"
      ]
     },
     "execution_count": 25,
     "metadata": {},
     "output_type": "execute_result"
    },
    {
     "data": {
      "text/plain": [
       "Sequential(\n",
       "  (0): Linear(in_features=275, out_features=128, bias=True)\n",
       "  (1): ReLU()\n",
       "  (2): Linear(in_features=128, out_features=64, bias=True)\n",
       "  (3): ReLU()\n",
       "  (4): Linear(in_features=64, out_features=32, bias=True)\n",
       "  (5): ReLU()\n",
       "  (6): Linear(in_features=32, out_features=16, bias=True)\n",
       "  (7): ReLU()\n",
       "  (8): Linear(in_features=16, out_features=8, bias=True)\n",
       "  (9): ReLU()\n",
       "  (10): Linear(in_features=8, out_features=4, bias=True)\n",
       "  (11): ReLU()\n",
       "  (12): Linear(in_features=4, out_features=1, bias=True)\n",
       ")"
      ]
     },
     "execution_count": 25,
     "metadata": {},
     "output_type": "execute_result"
    },
    {
     "data": {
      "text/plain": [
       "Sequential(\n",
       "  (0): Linear(in_features=275, out_features=128, bias=True)\n",
       "  (1): ReLU()\n",
       "  (2): Linear(in_features=128, out_features=64, bias=True)\n",
       "  (3): ReLU()\n",
       "  (4): Linear(in_features=64, out_features=32, bias=True)\n",
       "  (5): ReLU()\n",
       "  (6): Linear(in_features=32, out_features=16, bias=True)\n",
       "  (7): ReLU()\n",
       "  (8): Linear(in_features=16, out_features=8, bias=True)\n",
       "  (9): ReLU()\n",
       "  (10): Linear(in_features=8, out_features=4, bias=True)\n",
       "  (11): ReLU()\n",
       "  (12): Linear(in_features=4, out_features=1, bias=True)\n",
       ")"
      ]
     },
     "execution_count": 25,
     "metadata": {},
     "output_type": "execute_result"
    },
    {
     "data": {
      "text/plain": [
       "Sequential(\n",
       "  (0): Linear(in_features=275, out_features=128, bias=True)\n",
       "  (1): ReLU()\n",
       "  (2): Linear(in_features=128, out_features=64, bias=True)\n",
       "  (3): ReLU()\n",
       "  (4): Linear(in_features=64, out_features=32, bias=True)\n",
       "  (5): ReLU()\n",
       "  (6): Linear(in_features=32, out_features=16, bias=True)\n",
       "  (7): ReLU()\n",
       "  (8): Linear(in_features=16, out_features=8, bias=True)\n",
       "  (9): ReLU()\n",
       "  (10): Linear(in_features=8, out_features=4, bias=True)\n",
       "  (11): ReLU()\n",
       "  (12): Linear(in_features=4, out_features=1, bias=True)\n",
       ")"
      ]
     },
     "execution_count": 25,
     "metadata": {},
     "output_type": "execute_result"
    },
    {
     "data": {
      "text/plain": [
       "Sequential(\n",
       "  (0): Linear(in_features=275, out_features=128, bias=True)\n",
       "  (1): ReLU()\n",
       "  (2): Linear(in_features=128, out_features=64, bias=True)\n",
       "  (3): ReLU()\n",
       "  (4): Linear(in_features=64, out_features=32, bias=True)\n",
       "  (5): ReLU()\n",
       "  (6): Linear(in_features=32, out_features=16, bias=True)\n",
       "  (7): ReLU()\n",
       "  (8): Linear(in_features=16, out_features=8, bias=True)\n",
       "  (9): ReLU()\n",
       "  (10): Linear(in_features=8, out_features=4, bias=True)\n",
       "  (11): ReLU()\n",
       "  (12): Linear(in_features=4, out_features=1, bias=True)\n",
       ")"
      ]
     },
     "execution_count": 25,
     "metadata": {},
     "output_type": "execute_result"
    },
    {
     "data": {
      "text/plain": [
       "Sequential(\n",
       "  (0): Linear(in_features=275, out_features=128, bias=True)\n",
       "  (1): ReLU()\n",
       "  (2): Linear(in_features=128, out_features=64, bias=True)\n",
       "  (3): ReLU()\n",
       "  (4): Linear(in_features=64, out_features=32, bias=True)\n",
       "  (5): ReLU()\n",
       "  (6): Linear(in_features=32, out_features=16, bias=True)\n",
       "  (7): ReLU()\n",
       "  (8): Linear(in_features=16, out_features=8, bias=True)\n",
       "  (9): ReLU()\n",
       "  (10): Linear(in_features=8, out_features=4, bias=True)\n",
       "  (11): ReLU()\n",
       "  (12): Linear(in_features=4, out_features=1, bias=True)\n",
       ")"
      ]
     },
     "execution_count": 25,
     "metadata": {},
     "output_type": "execute_result"
    },
    {
     "data": {
      "text/plain": [
       "Sequential(\n",
       "  (0): Linear(in_features=275, out_features=128, bias=True)\n",
       "  (1): ReLU()\n",
       "  (2): Linear(in_features=128, out_features=64, bias=True)\n",
       "  (3): ReLU()\n",
       "  (4): Linear(in_features=64, out_features=32, bias=True)\n",
       "  (5): ReLU()\n",
       "  (6): Linear(in_features=32, out_features=16, bias=True)\n",
       "  (7): ReLU()\n",
       "  (8): Linear(in_features=16, out_features=8, bias=True)\n",
       "  (9): ReLU()\n",
       "  (10): Linear(in_features=8, out_features=4, bias=True)\n",
       "  (11): ReLU()\n",
       "  (12): Linear(in_features=4, out_features=1, bias=True)\n",
       ")"
      ]
     },
     "execution_count": 25,
     "metadata": {},
     "output_type": "execute_result"
    },
    {
     "data": {
      "text/plain": [
       "Sequential(\n",
       "  (0): Linear(in_features=275, out_features=128, bias=True)\n",
       "  (1): ReLU()\n",
       "  (2): Linear(in_features=128, out_features=64, bias=True)\n",
       "  (3): ReLU()\n",
       "  (4): Linear(in_features=64, out_features=32, bias=True)\n",
       "  (5): ReLU()\n",
       "  (6): Linear(in_features=32, out_features=16, bias=True)\n",
       "  (7): ReLU()\n",
       "  (8): Linear(in_features=16, out_features=8, bias=True)\n",
       "  (9): ReLU()\n",
       "  (10): Linear(in_features=8, out_features=4, bias=True)\n",
       "  (11): ReLU()\n",
       "  (12): Linear(in_features=4, out_features=1, bias=True)\n",
       ")"
      ]
     },
     "execution_count": 25,
     "metadata": {},
     "output_type": "execute_result"
    },
    {
     "data": {
      "text/plain": [
       "Sequential(\n",
       "  (0): Linear(in_features=275, out_features=128, bias=True)\n",
       "  (1): ReLU()\n",
       "  (2): Linear(in_features=128, out_features=64, bias=True)\n",
       "  (3): ReLU()\n",
       "  (4): Linear(in_features=64, out_features=32, bias=True)\n",
       "  (5): ReLU()\n",
       "  (6): Linear(in_features=32, out_features=16, bias=True)\n",
       "  (7): ReLU()\n",
       "  (8): Linear(in_features=16, out_features=8, bias=True)\n",
       "  (9): ReLU()\n",
       "  (10): Linear(in_features=8, out_features=4, bias=True)\n",
       "  (11): ReLU()\n",
       "  (12): Linear(in_features=4, out_features=1, bias=True)\n",
       ")"
      ]
     },
     "execution_count": 25,
     "metadata": {},
     "output_type": "execute_result"
    },
    {
     "data": {
      "text/plain": [
       "Sequential(\n",
       "  (0): Linear(in_features=275, out_features=128, bias=True)\n",
       "  (1): ReLU()\n",
       "  (2): Linear(in_features=128, out_features=64, bias=True)\n",
       "  (3): ReLU()\n",
       "  (4): Linear(in_features=64, out_features=32, bias=True)\n",
       "  (5): ReLU()\n",
       "  (6): Linear(in_features=32, out_features=16, bias=True)\n",
       "  (7): ReLU()\n",
       "  (8): Linear(in_features=16, out_features=8, bias=True)\n",
       "  (9): ReLU()\n",
       "  (10): Linear(in_features=8, out_features=4, bias=True)\n",
       "  (11): ReLU()\n",
       "  (12): Linear(in_features=4, out_features=1, bias=True)\n",
       ")"
      ]
     },
     "execution_count": 25,
     "metadata": {},
     "output_type": "execute_result"
    },
    {
     "data": {
      "text/plain": [
       "Sequential(\n",
       "  (0): Linear(in_features=275, out_features=128, bias=True)\n",
       "  (1): ReLU()\n",
       "  (2): Linear(in_features=128, out_features=64, bias=True)\n",
       "  (3): ReLU()\n",
       "  (4): Linear(in_features=64, out_features=32, bias=True)\n",
       "  (5): ReLU()\n",
       "  (6): Linear(in_features=32, out_features=16, bias=True)\n",
       "  (7): ReLU()\n",
       "  (8): Linear(in_features=16, out_features=8, bias=True)\n",
       "  (9): ReLU()\n",
       "  (10): Linear(in_features=8, out_features=4, bias=True)\n",
       "  (11): ReLU()\n",
       "  (12): Linear(in_features=4, out_features=1, bias=True)\n",
       ")"
      ]
     },
     "execution_count": 25,
     "metadata": {},
     "output_type": "execute_result"
    },
    {
     "data": {
      "text/plain": [
       "Sequential(\n",
       "  (0): Linear(in_features=275, out_features=128, bias=True)\n",
       "  (1): ReLU()\n",
       "  (2): Linear(in_features=128, out_features=64, bias=True)\n",
       "  (3): ReLU()\n",
       "  (4): Linear(in_features=64, out_features=32, bias=True)\n",
       "  (5): ReLU()\n",
       "  (6): Linear(in_features=32, out_features=16, bias=True)\n",
       "  (7): ReLU()\n",
       "  (8): Linear(in_features=16, out_features=8, bias=True)\n",
       "  (9): ReLU()\n",
       "  (10): Linear(in_features=8, out_features=4, bias=True)\n",
       "  (11): ReLU()\n",
       "  (12): Linear(in_features=4, out_features=1, bias=True)\n",
       ")"
      ]
     },
     "execution_count": 25,
     "metadata": {},
     "output_type": "execute_result"
    },
    {
     "data": {
      "text/plain": [
       "Sequential(\n",
       "  (0): Linear(in_features=275, out_features=128, bias=True)\n",
       "  (1): ReLU()\n",
       "  (2): Linear(in_features=128, out_features=64, bias=True)\n",
       "  (3): ReLU()\n",
       "  (4): Linear(in_features=64, out_features=32, bias=True)\n",
       "  (5): ReLU()\n",
       "  (6): Linear(in_features=32, out_features=16, bias=True)\n",
       "  (7): ReLU()\n",
       "  (8): Linear(in_features=16, out_features=8, bias=True)\n",
       "  (9): ReLU()\n",
       "  (10): Linear(in_features=8, out_features=4, bias=True)\n",
       "  (11): ReLU()\n",
       "  (12): Linear(in_features=4, out_features=1, bias=True)\n",
       ")"
      ]
     },
     "execution_count": 25,
     "metadata": {},
     "output_type": "execute_result"
    },
    {
     "data": {
      "text/plain": [
       "Sequential(\n",
       "  (0): Linear(in_features=275, out_features=128, bias=True)\n",
       "  (1): ReLU()\n",
       "  (2): Linear(in_features=128, out_features=64, bias=True)\n",
       "  (3): ReLU()\n",
       "  (4): Linear(in_features=64, out_features=32, bias=True)\n",
       "  (5): ReLU()\n",
       "  (6): Linear(in_features=32, out_features=16, bias=True)\n",
       "  (7): ReLU()\n",
       "  (8): Linear(in_features=16, out_features=8, bias=True)\n",
       "  (9): ReLU()\n",
       "  (10): Linear(in_features=8, out_features=4, bias=True)\n",
       "  (11): ReLU()\n",
       "  (12): Linear(in_features=4, out_features=1, bias=True)\n",
       ")"
      ]
     },
     "execution_count": 25,
     "metadata": {},
     "output_type": "execute_result"
    },
    {
     "data": {
      "text/plain": [
       "Sequential(\n",
       "  (0): Linear(in_features=275, out_features=128, bias=True)\n",
       "  (1): ReLU()\n",
       "  (2): Linear(in_features=128, out_features=64, bias=True)\n",
       "  (3): ReLU()\n",
       "  (4): Linear(in_features=64, out_features=32, bias=True)\n",
       "  (5): ReLU()\n",
       "  (6): Linear(in_features=32, out_features=16, bias=True)\n",
       "  (7): ReLU()\n",
       "  (8): Linear(in_features=16, out_features=8, bias=True)\n",
       "  (9): ReLU()\n",
       "  (10): Linear(in_features=8, out_features=4, bias=True)\n",
       "  (11): ReLU()\n",
       "  (12): Linear(in_features=4, out_features=1, bias=True)\n",
       ")"
      ]
     },
     "execution_count": 25,
     "metadata": {},
     "output_type": "execute_result"
    },
    {
     "data": {
      "text/plain": [
       "Sequential(\n",
       "  (0): Linear(in_features=275, out_features=128, bias=True)\n",
       "  (1): ReLU()\n",
       "  (2): Linear(in_features=128, out_features=64, bias=True)\n",
       "  (3): ReLU()\n",
       "  (4): Linear(in_features=64, out_features=32, bias=True)\n",
       "  (5): ReLU()\n",
       "  (6): Linear(in_features=32, out_features=16, bias=True)\n",
       "  (7): ReLU()\n",
       "  (8): Linear(in_features=16, out_features=8, bias=True)\n",
       "  (9): ReLU()\n",
       "  (10): Linear(in_features=8, out_features=4, bias=True)\n",
       "  (11): ReLU()\n",
       "  (12): Linear(in_features=4, out_features=1, bias=True)\n",
       ")"
      ]
     },
     "execution_count": 25,
     "metadata": {},
     "output_type": "execute_result"
    },
    {
     "data": {
      "text/plain": [
       "Sequential(\n",
       "  (0): Linear(in_features=275, out_features=128, bias=True)\n",
       "  (1): ReLU()\n",
       "  (2): Linear(in_features=128, out_features=64, bias=True)\n",
       "  (3): ReLU()\n",
       "  (4): Linear(in_features=64, out_features=32, bias=True)\n",
       "  (5): ReLU()\n",
       "  (6): Linear(in_features=32, out_features=16, bias=True)\n",
       "  (7): ReLU()\n",
       "  (8): Linear(in_features=16, out_features=8, bias=True)\n",
       "  (9): ReLU()\n",
       "  (10): Linear(in_features=8, out_features=4, bias=True)\n",
       "  (11): ReLU()\n",
       "  (12): Linear(in_features=4, out_features=1, bias=True)\n",
       ")"
      ]
     },
     "execution_count": 25,
     "metadata": {},
     "output_type": "execute_result"
    },
    {
     "data": {
      "text/plain": [
       "Sequential(\n",
       "  (0): Linear(in_features=275, out_features=128, bias=True)\n",
       "  (1): ReLU()\n",
       "  (2): Linear(in_features=128, out_features=64, bias=True)\n",
       "  (3): ReLU()\n",
       "  (4): Linear(in_features=64, out_features=32, bias=True)\n",
       "  (5): ReLU()\n",
       "  (6): Linear(in_features=32, out_features=16, bias=True)\n",
       "  (7): ReLU()\n",
       "  (8): Linear(in_features=16, out_features=8, bias=True)\n",
       "  (9): ReLU()\n",
       "  (10): Linear(in_features=8, out_features=4, bias=True)\n",
       "  (11): ReLU()\n",
       "  (12): Linear(in_features=4, out_features=1, bias=True)\n",
       ")"
      ]
     },
     "execution_count": 25,
     "metadata": {},
     "output_type": "execute_result"
    },
    {
     "data": {
      "text/plain": [
       "Sequential(\n",
       "  (0): Linear(in_features=275, out_features=128, bias=True)\n",
       "  (1): ReLU()\n",
       "  (2): Linear(in_features=128, out_features=64, bias=True)\n",
       "  (3): ReLU()\n",
       "  (4): Linear(in_features=64, out_features=32, bias=True)\n",
       "  (5): ReLU()\n",
       "  (6): Linear(in_features=32, out_features=16, bias=True)\n",
       "  (7): ReLU()\n",
       "  (8): Linear(in_features=16, out_features=8, bias=True)\n",
       "  (9): ReLU()\n",
       "  (10): Linear(in_features=8, out_features=4, bias=True)\n",
       "  (11): ReLU()\n",
       "  (12): Linear(in_features=4, out_features=1, bias=True)\n",
       ")"
      ]
     },
     "execution_count": 25,
     "metadata": {},
     "output_type": "execute_result"
    },
    {
     "data": {
      "text/plain": [
       "Sequential(\n",
       "  (0): Linear(in_features=275, out_features=128, bias=True)\n",
       "  (1): ReLU()\n",
       "  (2): Linear(in_features=128, out_features=64, bias=True)\n",
       "  (3): ReLU()\n",
       "  (4): Linear(in_features=64, out_features=32, bias=True)\n",
       "  (5): ReLU()\n",
       "  (6): Linear(in_features=32, out_features=16, bias=True)\n",
       "  (7): ReLU()\n",
       "  (8): Linear(in_features=16, out_features=8, bias=True)\n",
       "  (9): ReLU()\n",
       "  (10): Linear(in_features=8, out_features=4, bias=True)\n",
       "  (11): ReLU()\n",
       "  (12): Linear(in_features=4, out_features=1, bias=True)\n",
       ")"
      ]
     },
     "execution_count": 25,
     "metadata": {},
     "output_type": "execute_result"
    },
    {
     "data": {
      "text/plain": [
       "Sequential(\n",
       "  (0): Linear(in_features=275, out_features=128, bias=True)\n",
       "  (1): ReLU()\n",
       "  (2): Linear(in_features=128, out_features=64, bias=True)\n",
       "  (3): ReLU()\n",
       "  (4): Linear(in_features=64, out_features=32, bias=True)\n",
       "  (5): ReLU()\n",
       "  (6): Linear(in_features=32, out_features=16, bias=True)\n",
       "  (7): ReLU()\n",
       "  (8): Linear(in_features=16, out_features=8, bias=True)\n",
       "  (9): ReLU()\n",
       "  (10): Linear(in_features=8, out_features=4, bias=True)\n",
       "  (11): ReLU()\n",
       "  (12): Linear(in_features=4, out_features=1, bias=True)\n",
       ")"
      ]
     },
     "execution_count": 25,
     "metadata": {},
     "output_type": "execute_result"
    },
    {
     "data": {
      "text/plain": [
       "Sequential(\n",
       "  (0): Linear(in_features=275, out_features=128, bias=True)\n",
       "  (1): ReLU()\n",
       "  (2): Linear(in_features=128, out_features=64, bias=True)\n",
       "  (3): ReLU()\n",
       "  (4): Linear(in_features=64, out_features=32, bias=True)\n",
       "  (5): ReLU()\n",
       "  (6): Linear(in_features=32, out_features=16, bias=True)\n",
       "  (7): ReLU()\n",
       "  (8): Linear(in_features=16, out_features=8, bias=True)\n",
       "  (9): ReLU()\n",
       "  (10): Linear(in_features=8, out_features=4, bias=True)\n",
       "  (11): ReLU()\n",
       "  (12): Linear(in_features=4, out_features=1, bias=True)\n",
       ")"
      ]
     },
     "execution_count": 25,
     "metadata": {},
     "output_type": "execute_result"
    },
    {
     "data": {
      "text/plain": [
       "Sequential(\n",
       "  (0): Linear(in_features=275, out_features=128, bias=True)\n",
       "  (1): ReLU()\n",
       "  (2): Linear(in_features=128, out_features=64, bias=True)\n",
       "  (3): ReLU()\n",
       "  (4): Linear(in_features=64, out_features=32, bias=True)\n",
       "  (5): ReLU()\n",
       "  (6): Linear(in_features=32, out_features=16, bias=True)\n",
       "  (7): ReLU()\n",
       "  (8): Linear(in_features=16, out_features=8, bias=True)\n",
       "  (9): ReLU()\n",
       "  (10): Linear(in_features=8, out_features=4, bias=True)\n",
       "  (11): ReLU()\n",
       "  (12): Linear(in_features=4, out_features=1, bias=True)\n",
       ")"
      ]
     },
     "execution_count": 25,
     "metadata": {},
     "output_type": "execute_result"
    },
    {
     "data": {
      "text/plain": [
       "Sequential(\n",
       "  (0): Linear(in_features=275, out_features=128, bias=True)\n",
       "  (1): ReLU()\n",
       "  (2): Linear(in_features=128, out_features=64, bias=True)\n",
       "  (3): ReLU()\n",
       "  (4): Linear(in_features=64, out_features=32, bias=True)\n",
       "  (5): ReLU()\n",
       "  (6): Linear(in_features=32, out_features=16, bias=True)\n",
       "  (7): ReLU()\n",
       "  (8): Linear(in_features=16, out_features=8, bias=True)\n",
       "  (9): ReLU()\n",
       "  (10): Linear(in_features=8, out_features=4, bias=True)\n",
       "  (11): ReLU()\n",
       "  (12): Linear(in_features=4, out_features=1, bias=True)\n",
       ")"
      ]
     },
     "execution_count": 25,
     "metadata": {},
     "output_type": "execute_result"
    },
    {
     "data": {
      "text/plain": [
       "Sequential(\n",
       "  (0): Linear(in_features=275, out_features=128, bias=True)\n",
       "  (1): ReLU()\n",
       "  (2): Linear(in_features=128, out_features=64, bias=True)\n",
       "  (3): ReLU()\n",
       "  (4): Linear(in_features=64, out_features=32, bias=True)\n",
       "  (5): ReLU()\n",
       "  (6): Linear(in_features=32, out_features=16, bias=True)\n",
       "  (7): ReLU()\n",
       "  (8): Linear(in_features=16, out_features=8, bias=True)\n",
       "  (9): ReLU()\n",
       "  (10): Linear(in_features=8, out_features=4, bias=True)\n",
       "  (11): ReLU()\n",
       "  (12): Linear(in_features=4, out_features=1, bias=True)\n",
       ")"
      ]
     },
     "execution_count": 25,
     "metadata": {},
     "output_type": "execute_result"
    },
    {
     "data": {
      "text/plain": [
       "Sequential(\n",
       "  (0): Linear(in_features=275, out_features=128, bias=True)\n",
       "  (1): ReLU()\n",
       "  (2): Linear(in_features=128, out_features=64, bias=True)\n",
       "  (3): ReLU()\n",
       "  (4): Linear(in_features=64, out_features=32, bias=True)\n",
       "  (5): ReLU()\n",
       "  (6): Linear(in_features=32, out_features=16, bias=True)\n",
       "  (7): ReLU()\n",
       "  (8): Linear(in_features=16, out_features=8, bias=True)\n",
       "  (9): ReLU()\n",
       "  (10): Linear(in_features=8, out_features=4, bias=True)\n",
       "  (11): ReLU()\n",
       "  (12): Linear(in_features=4, out_features=1, bias=True)\n",
       ")"
      ]
     },
     "execution_count": 25,
     "metadata": {},
     "output_type": "execute_result"
    },
    {
     "data": {
      "text/plain": [
       "Sequential(\n",
       "  (0): Linear(in_features=275, out_features=128, bias=True)\n",
       "  (1): ReLU()\n",
       "  (2): Linear(in_features=128, out_features=64, bias=True)\n",
       "  (3): ReLU()\n",
       "  (4): Linear(in_features=64, out_features=32, bias=True)\n",
       "  (5): ReLU()\n",
       "  (6): Linear(in_features=32, out_features=16, bias=True)\n",
       "  (7): ReLU()\n",
       "  (8): Linear(in_features=16, out_features=8, bias=True)\n",
       "  (9): ReLU()\n",
       "  (10): Linear(in_features=8, out_features=4, bias=True)\n",
       "  (11): ReLU()\n",
       "  (12): Linear(in_features=4, out_features=1, bias=True)\n",
       ")"
      ]
     },
     "execution_count": 25,
     "metadata": {},
     "output_type": "execute_result"
    },
    {
     "data": {
      "text/plain": [
       "Sequential(\n",
       "  (0): Linear(in_features=275, out_features=128, bias=True)\n",
       "  (1): ReLU()\n",
       "  (2): Linear(in_features=128, out_features=64, bias=True)\n",
       "  (3): ReLU()\n",
       "  (4): Linear(in_features=64, out_features=32, bias=True)\n",
       "  (5): ReLU()\n",
       "  (6): Linear(in_features=32, out_features=16, bias=True)\n",
       "  (7): ReLU()\n",
       "  (8): Linear(in_features=16, out_features=8, bias=True)\n",
       "  (9): ReLU()\n",
       "  (10): Linear(in_features=8, out_features=4, bias=True)\n",
       "  (11): ReLU()\n",
       "  (12): Linear(in_features=4, out_features=1, bias=True)\n",
       ")"
      ]
     },
     "execution_count": 25,
     "metadata": {},
     "output_type": "execute_result"
    },
    {
     "data": {
      "text/plain": [
       "Sequential(\n",
       "  (0): Linear(in_features=275, out_features=128, bias=True)\n",
       "  (1): ReLU()\n",
       "  (2): Linear(in_features=128, out_features=64, bias=True)\n",
       "  (3): ReLU()\n",
       "  (4): Linear(in_features=64, out_features=32, bias=True)\n",
       "  (5): ReLU()\n",
       "  (6): Linear(in_features=32, out_features=16, bias=True)\n",
       "  (7): ReLU()\n",
       "  (8): Linear(in_features=16, out_features=8, bias=True)\n",
       "  (9): ReLU()\n",
       "  (10): Linear(in_features=8, out_features=4, bias=True)\n",
       "  (11): ReLU()\n",
       "  (12): Linear(in_features=4, out_features=1, bias=True)\n",
       ")"
      ]
     },
     "execution_count": 25,
     "metadata": {},
     "output_type": "execute_result"
    },
    {
     "data": {
      "text/plain": [
       "Sequential(\n",
       "  (0): Linear(in_features=275, out_features=128, bias=True)\n",
       "  (1): ReLU()\n",
       "  (2): Linear(in_features=128, out_features=64, bias=True)\n",
       "  (3): ReLU()\n",
       "  (4): Linear(in_features=64, out_features=32, bias=True)\n",
       "  (5): ReLU()\n",
       "  (6): Linear(in_features=32, out_features=16, bias=True)\n",
       "  (7): ReLU()\n",
       "  (8): Linear(in_features=16, out_features=8, bias=True)\n",
       "  (9): ReLU()\n",
       "  (10): Linear(in_features=8, out_features=4, bias=True)\n",
       "  (11): ReLU()\n",
       "  (12): Linear(in_features=4, out_features=1, bias=True)\n",
       ")"
      ]
     },
     "execution_count": 25,
     "metadata": {},
     "output_type": "execute_result"
    },
    {
     "data": {
      "text/plain": [
       "Sequential(\n",
       "  (0): Linear(in_features=275, out_features=128, bias=True)\n",
       "  (1): ReLU()\n",
       "  (2): Linear(in_features=128, out_features=64, bias=True)\n",
       "  (3): ReLU()\n",
       "  (4): Linear(in_features=64, out_features=32, bias=True)\n",
       "  (5): ReLU()\n",
       "  (6): Linear(in_features=32, out_features=16, bias=True)\n",
       "  (7): ReLU()\n",
       "  (8): Linear(in_features=16, out_features=8, bias=True)\n",
       "  (9): ReLU()\n",
       "  (10): Linear(in_features=8, out_features=4, bias=True)\n",
       "  (11): ReLU()\n",
       "  (12): Linear(in_features=4, out_features=1, bias=True)\n",
       ")"
      ]
     },
     "execution_count": 25,
     "metadata": {},
     "output_type": "execute_result"
    },
    {
     "data": {
      "text/plain": [
       "Sequential(\n",
       "  (0): Linear(in_features=275, out_features=128, bias=True)\n",
       "  (1): ReLU()\n",
       "  (2): Linear(in_features=128, out_features=64, bias=True)\n",
       "  (3): ReLU()\n",
       "  (4): Linear(in_features=64, out_features=32, bias=True)\n",
       "  (5): ReLU()\n",
       "  (6): Linear(in_features=32, out_features=16, bias=True)\n",
       "  (7): ReLU()\n",
       "  (8): Linear(in_features=16, out_features=8, bias=True)\n",
       "  (9): ReLU()\n",
       "  (10): Linear(in_features=8, out_features=4, bias=True)\n",
       "  (11): ReLU()\n",
       "  (12): Linear(in_features=4, out_features=1, bias=True)\n",
       ")"
      ]
     },
     "execution_count": 25,
     "metadata": {},
     "output_type": "execute_result"
    },
    {
     "data": {
      "text/plain": [
       "Sequential(\n",
       "  (0): Linear(in_features=275, out_features=128, bias=True)\n",
       "  (1): ReLU()\n",
       "  (2): Linear(in_features=128, out_features=64, bias=True)\n",
       "  (3): ReLU()\n",
       "  (4): Linear(in_features=64, out_features=32, bias=True)\n",
       "  (5): ReLU()\n",
       "  (6): Linear(in_features=32, out_features=16, bias=True)\n",
       "  (7): ReLU()\n",
       "  (8): Linear(in_features=16, out_features=8, bias=True)\n",
       "  (9): ReLU()\n",
       "  (10): Linear(in_features=8, out_features=4, bias=True)\n",
       "  (11): ReLU()\n",
       "  (12): Linear(in_features=4, out_features=1, bias=True)\n",
       ")"
      ]
     },
     "execution_count": 25,
     "metadata": {},
     "output_type": "execute_result"
    },
    {
     "data": {
      "text/plain": [
       "Sequential(\n",
       "  (0): Linear(in_features=275, out_features=128, bias=True)\n",
       "  (1): ReLU()\n",
       "  (2): Linear(in_features=128, out_features=64, bias=True)\n",
       "  (3): ReLU()\n",
       "  (4): Linear(in_features=64, out_features=32, bias=True)\n",
       "  (5): ReLU()\n",
       "  (6): Linear(in_features=32, out_features=16, bias=True)\n",
       "  (7): ReLU()\n",
       "  (8): Linear(in_features=16, out_features=8, bias=True)\n",
       "  (9): ReLU()\n",
       "  (10): Linear(in_features=8, out_features=4, bias=True)\n",
       "  (11): ReLU()\n",
       "  (12): Linear(in_features=4, out_features=1, bias=True)\n",
       ")"
      ]
     },
     "execution_count": 25,
     "metadata": {},
     "output_type": "execute_result"
    },
    {
     "data": {
      "text/plain": [
       "Sequential(\n",
       "  (0): Linear(in_features=275, out_features=128, bias=True)\n",
       "  (1): ReLU()\n",
       "  (2): Linear(in_features=128, out_features=64, bias=True)\n",
       "  (3): ReLU()\n",
       "  (4): Linear(in_features=64, out_features=32, bias=True)\n",
       "  (5): ReLU()\n",
       "  (6): Linear(in_features=32, out_features=16, bias=True)\n",
       "  (7): ReLU()\n",
       "  (8): Linear(in_features=16, out_features=8, bias=True)\n",
       "  (9): ReLU()\n",
       "  (10): Linear(in_features=8, out_features=4, bias=True)\n",
       "  (11): ReLU()\n",
       "  (12): Linear(in_features=4, out_features=1, bias=True)\n",
       ")"
      ]
     },
     "execution_count": 25,
     "metadata": {},
     "output_type": "execute_result"
    },
    {
     "data": {
      "text/plain": [
       "Sequential(\n",
       "  (0): Linear(in_features=275, out_features=128, bias=True)\n",
       "  (1): ReLU()\n",
       "  (2): Linear(in_features=128, out_features=64, bias=True)\n",
       "  (3): ReLU()\n",
       "  (4): Linear(in_features=64, out_features=32, bias=True)\n",
       "  (5): ReLU()\n",
       "  (6): Linear(in_features=32, out_features=16, bias=True)\n",
       "  (7): ReLU()\n",
       "  (8): Linear(in_features=16, out_features=8, bias=True)\n",
       "  (9): ReLU()\n",
       "  (10): Linear(in_features=8, out_features=4, bias=True)\n",
       "  (11): ReLU()\n",
       "  (12): Linear(in_features=4, out_features=1, bias=True)\n",
       ")"
      ]
     },
     "execution_count": 25,
     "metadata": {},
     "output_type": "execute_result"
    },
    {
     "data": {
      "text/plain": [
       "Sequential(\n",
       "  (0): Linear(in_features=275, out_features=128, bias=True)\n",
       "  (1): ReLU()\n",
       "  (2): Linear(in_features=128, out_features=64, bias=True)\n",
       "  (3): ReLU()\n",
       "  (4): Linear(in_features=64, out_features=32, bias=True)\n",
       "  (5): ReLU()\n",
       "  (6): Linear(in_features=32, out_features=16, bias=True)\n",
       "  (7): ReLU()\n",
       "  (8): Linear(in_features=16, out_features=8, bias=True)\n",
       "  (9): ReLU()\n",
       "  (10): Linear(in_features=8, out_features=4, bias=True)\n",
       "  (11): ReLU()\n",
       "  (12): Linear(in_features=4, out_features=1, bias=True)\n",
       ")"
      ]
     },
     "execution_count": 25,
     "metadata": {},
     "output_type": "execute_result"
    },
    {
     "data": {
      "text/plain": [
       "Sequential(\n",
       "  (0): Linear(in_features=275, out_features=128, bias=True)\n",
       "  (1): ReLU()\n",
       "  (2): Linear(in_features=128, out_features=64, bias=True)\n",
       "  (3): ReLU()\n",
       "  (4): Linear(in_features=64, out_features=32, bias=True)\n",
       "  (5): ReLU()\n",
       "  (6): Linear(in_features=32, out_features=16, bias=True)\n",
       "  (7): ReLU()\n",
       "  (8): Linear(in_features=16, out_features=8, bias=True)\n",
       "  (9): ReLU()\n",
       "  (10): Linear(in_features=8, out_features=4, bias=True)\n",
       "  (11): ReLU()\n",
       "  (12): Linear(in_features=4, out_features=1, bias=True)\n",
       ")"
      ]
     },
     "execution_count": 25,
     "metadata": {},
     "output_type": "execute_result"
    },
    {
     "data": {
      "text/plain": [
       "Sequential(\n",
       "  (0): Linear(in_features=275, out_features=128, bias=True)\n",
       "  (1): ReLU()\n",
       "  (2): Linear(in_features=128, out_features=64, bias=True)\n",
       "  (3): ReLU()\n",
       "  (4): Linear(in_features=64, out_features=32, bias=True)\n",
       "  (5): ReLU()\n",
       "  (6): Linear(in_features=32, out_features=16, bias=True)\n",
       "  (7): ReLU()\n",
       "  (8): Linear(in_features=16, out_features=8, bias=True)\n",
       "  (9): ReLU()\n",
       "  (10): Linear(in_features=8, out_features=4, bias=True)\n",
       "  (11): ReLU()\n",
       "  (12): Linear(in_features=4, out_features=1, bias=True)\n",
       ")"
      ]
     },
     "execution_count": 25,
     "metadata": {},
     "output_type": "execute_result"
    },
    {
     "data": {
      "text/plain": [
       "Sequential(\n",
       "  (0): Linear(in_features=275, out_features=128, bias=True)\n",
       "  (1): ReLU()\n",
       "  (2): Linear(in_features=128, out_features=64, bias=True)\n",
       "  (3): ReLU()\n",
       "  (4): Linear(in_features=64, out_features=32, bias=True)\n",
       "  (5): ReLU()\n",
       "  (6): Linear(in_features=32, out_features=16, bias=True)\n",
       "  (7): ReLU()\n",
       "  (8): Linear(in_features=16, out_features=8, bias=True)\n",
       "  (9): ReLU()\n",
       "  (10): Linear(in_features=8, out_features=4, bias=True)\n",
       "  (11): ReLU()\n",
       "  (12): Linear(in_features=4, out_features=1, bias=True)\n",
       ")"
      ]
     },
     "execution_count": 25,
     "metadata": {},
     "output_type": "execute_result"
    },
    {
     "data": {
      "text/plain": [
       "Sequential(\n",
       "  (0): Linear(in_features=275, out_features=128, bias=True)\n",
       "  (1): ReLU()\n",
       "  (2): Linear(in_features=128, out_features=64, bias=True)\n",
       "  (3): ReLU()\n",
       "  (4): Linear(in_features=64, out_features=32, bias=True)\n",
       "  (5): ReLU()\n",
       "  (6): Linear(in_features=32, out_features=16, bias=True)\n",
       "  (7): ReLU()\n",
       "  (8): Linear(in_features=16, out_features=8, bias=True)\n",
       "  (9): ReLU()\n",
       "  (10): Linear(in_features=8, out_features=4, bias=True)\n",
       "  (11): ReLU()\n",
       "  (12): Linear(in_features=4, out_features=1, bias=True)\n",
       ")"
      ]
     },
     "execution_count": 25,
     "metadata": {},
     "output_type": "execute_result"
    },
    {
     "data": {
      "text/plain": [
       "Sequential(\n",
       "  (0): Linear(in_features=275, out_features=128, bias=True)\n",
       "  (1): ReLU()\n",
       "  (2): Linear(in_features=128, out_features=64, bias=True)\n",
       "  (3): ReLU()\n",
       "  (4): Linear(in_features=64, out_features=32, bias=True)\n",
       "  (5): ReLU()\n",
       "  (6): Linear(in_features=32, out_features=16, bias=True)\n",
       "  (7): ReLU()\n",
       "  (8): Linear(in_features=16, out_features=8, bias=True)\n",
       "  (9): ReLU()\n",
       "  (10): Linear(in_features=8, out_features=4, bias=True)\n",
       "  (11): ReLU()\n",
       "  (12): Linear(in_features=4, out_features=1, bias=True)\n",
       ")"
      ]
     },
     "execution_count": 25,
     "metadata": {},
     "output_type": "execute_result"
    },
    {
     "data": {
      "text/plain": [
       "Sequential(\n",
       "  (0): Linear(in_features=275, out_features=128, bias=True)\n",
       "  (1): ReLU()\n",
       "  (2): Linear(in_features=128, out_features=64, bias=True)\n",
       "  (3): ReLU()\n",
       "  (4): Linear(in_features=64, out_features=32, bias=True)\n",
       "  (5): ReLU()\n",
       "  (6): Linear(in_features=32, out_features=16, bias=True)\n",
       "  (7): ReLU()\n",
       "  (8): Linear(in_features=16, out_features=8, bias=True)\n",
       "  (9): ReLU()\n",
       "  (10): Linear(in_features=8, out_features=4, bias=True)\n",
       "  (11): ReLU()\n",
       "  (12): Linear(in_features=4, out_features=1, bias=True)\n",
       ")"
      ]
     },
     "execution_count": 25,
     "metadata": {},
     "output_type": "execute_result"
    },
    {
     "data": {
      "text/plain": [
       "Sequential(\n",
       "  (0): Linear(in_features=275, out_features=128, bias=True)\n",
       "  (1): ReLU()\n",
       "  (2): Linear(in_features=128, out_features=64, bias=True)\n",
       "  (3): ReLU()\n",
       "  (4): Linear(in_features=64, out_features=32, bias=True)\n",
       "  (5): ReLU()\n",
       "  (6): Linear(in_features=32, out_features=16, bias=True)\n",
       "  (7): ReLU()\n",
       "  (8): Linear(in_features=16, out_features=8, bias=True)\n",
       "  (9): ReLU()\n",
       "  (10): Linear(in_features=8, out_features=4, bias=True)\n",
       "  (11): ReLU()\n",
       "  (12): Linear(in_features=4, out_features=1, bias=True)\n",
       ")"
      ]
     },
     "execution_count": 25,
     "metadata": {},
     "output_type": "execute_result"
    },
    {
     "data": {
      "text/plain": [
       "Sequential(\n",
       "  (0): Linear(in_features=275, out_features=128, bias=True)\n",
       "  (1): ReLU()\n",
       "  (2): Linear(in_features=128, out_features=64, bias=True)\n",
       "  (3): ReLU()\n",
       "  (4): Linear(in_features=64, out_features=32, bias=True)\n",
       "  (5): ReLU()\n",
       "  (6): Linear(in_features=32, out_features=16, bias=True)\n",
       "  (7): ReLU()\n",
       "  (8): Linear(in_features=16, out_features=8, bias=True)\n",
       "  (9): ReLU()\n",
       "  (10): Linear(in_features=8, out_features=4, bias=True)\n",
       "  (11): ReLU()\n",
       "  (12): Linear(in_features=4, out_features=1, bias=True)\n",
       ")"
      ]
     },
     "execution_count": 25,
     "metadata": {},
     "output_type": "execute_result"
    },
    {
     "data": {
      "text/plain": [
       "Sequential(\n",
       "  (0): Linear(in_features=275, out_features=128, bias=True)\n",
       "  (1): ReLU()\n",
       "  (2): Linear(in_features=128, out_features=64, bias=True)\n",
       "  (3): ReLU()\n",
       "  (4): Linear(in_features=64, out_features=32, bias=True)\n",
       "  (5): ReLU()\n",
       "  (6): Linear(in_features=32, out_features=16, bias=True)\n",
       "  (7): ReLU()\n",
       "  (8): Linear(in_features=16, out_features=8, bias=True)\n",
       "  (9): ReLU()\n",
       "  (10): Linear(in_features=8, out_features=4, bias=True)\n",
       "  (11): ReLU()\n",
       "  (12): Linear(in_features=4, out_features=1, bias=True)\n",
       ")"
      ]
     },
     "execution_count": 25,
     "metadata": {},
     "output_type": "execute_result"
    },
    {
     "data": {
      "text/plain": [
       "Sequential(\n",
       "  (0): Linear(in_features=275, out_features=128, bias=True)\n",
       "  (1): ReLU()\n",
       "  (2): Linear(in_features=128, out_features=64, bias=True)\n",
       "  (3): ReLU()\n",
       "  (4): Linear(in_features=64, out_features=32, bias=True)\n",
       "  (5): ReLU()\n",
       "  (6): Linear(in_features=32, out_features=16, bias=True)\n",
       "  (7): ReLU()\n",
       "  (8): Linear(in_features=16, out_features=8, bias=True)\n",
       "  (9): ReLU()\n",
       "  (10): Linear(in_features=8, out_features=4, bias=True)\n",
       "  (11): ReLU()\n",
       "  (12): Linear(in_features=4, out_features=1, bias=True)\n",
       ")"
      ]
     },
     "execution_count": 25,
     "metadata": {},
     "output_type": "execute_result"
    },
    {
     "data": {
      "text/plain": [
       "Sequential(\n",
       "  (0): Linear(in_features=275, out_features=128, bias=True)\n",
       "  (1): ReLU()\n",
       "  (2): Linear(in_features=128, out_features=64, bias=True)\n",
       "  (3): ReLU()\n",
       "  (4): Linear(in_features=64, out_features=32, bias=True)\n",
       "  (5): ReLU()\n",
       "  (6): Linear(in_features=32, out_features=16, bias=True)\n",
       "  (7): ReLU()\n",
       "  (8): Linear(in_features=16, out_features=8, bias=True)\n",
       "  (9): ReLU()\n",
       "  (10): Linear(in_features=8, out_features=4, bias=True)\n",
       "  (11): ReLU()\n",
       "  (12): Linear(in_features=4, out_features=1, bias=True)\n",
       ")"
      ]
     },
     "execution_count": 25,
     "metadata": {},
     "output_type": "execute_result"
    },
    {
     "data": {
      "text/plain": [
       "Sequential(\n",
       "  (0): Linear(in_features=275, out_features=128, bias=True)\n",
       "  (1): ReLU()\n",
       "  (2): Linear(in_features=128, out_features=64, bias=True)\n",
       "  (3): ReLU()\n",
       "  (4): Linear(in_features=64, out_features=32, bias=True)\n",
       "  (5): ReLU()\n",
       "  (6): Linear(in_features=32, out_features=16, bias=True)\n",
       "  (7): ReLU()\n",
       "  (8): Linear(in_features=16, out_features=8, bias=True)\n",
       "  (9): ReLU()\n",
       "  (10): Linear(in_features=8, out_features=4, bias=True)\n",
       "  (11): ReLU()\n",
       "  (12): Linear(in_features=4, out_features=1, bias=True)\n",
       ")"
      ]
     },
     "execution_count": 25,
     "metadata": {},
     "output_type": "execute_result"
    },
    {
     "data": {
      "text/plain": [
       "Sequential(\n",
       "  (0): Linear(in_features=275, out_features=128, bias=True)\n",
       "  (1): ReLU()\n",
       "  (2): Linear(in_features=128, out_features=64, bias=True)\n",
       "  (3): ReLU()\n",
       "  (4): Linear(in_features=64, out_features=32, bias=True)\n",
       "  (5): ReLU()\n",
       "  (6): Linear(in_features=32, out_features=16, bias=True)\n",
       "  (7): ReLU()\n",
       "  (8): Linear(in_features=16, out_features=8, bias=True)\n",
       "  (9): ReLU()\n",
       "  (10): Linear(in_features=8, out_features=4, bias=True)\n",
       "  (11): ReLU()\n",
       "  (12): Linear(in_features=4, out_features=1, bias=True)\n",
       ")"
      ]
     },
     "execution_count": 25,
     "metadata": {},
     "output_type": "execute_result"
    },
    {
     "data": {
      "text/plain": [
       "Sequential(\n",
       "  (0): Linear(in_features=275, out_features=128, bias=True)\n",
       "  (1): ReLU()\n",
       "  (2): Linear(in_features=128, out_features=64, bias=True)\n",
       "  (3): ReLU()\n",
       "  (4): Linear(in_features=64, out_features=32, bias=True)\n",
       "  (5): ReLU()\n",
       "  (6): Linear(in_features=32, out_features=16, bias=True)\n",
       "  (7): ReLU()\n",
       "  (8): Linear(in_features=16, out_features=8, bias=True)\n",
       "  (9): ReLU()\n",
       "  (10): Linear(in_features=8, out_features=4, bias=True)\n",
       "  (11): ReLU()\n",
       "  (12): Linear(in_features=4, out_features=1, bias=True)\n",
       ")"
      ]
     },
     "execution_count": 25,
     "metadata": {},
     "output_type": "execute_result"
    },
    {
     "data": {
      "text/plain": [
       "Sequential(\n",
       "  (0): Linear(in_features=275, out_features=128, bias=True)\n",
       "  (1): ReLU()\n",
       "  (2): Linear(in_features=128, out_features=64, bias=True)\n",
       "  (3): ReLU()\n",
       "  (4): Linear(in_features=64, out_features=32, bias=True)\n",
       "  (5): ReLU()\n",
       "  (6): Linear(in_features=32, out_features=16, bias=True)\n",
       "  (7): ReLU()\n",
       "  (8): Linear(in_features=16, out_features=8, bias=True)\n",
       "  (9): ReLU()\n",
       "  (10): Linear(in_features=8, out_features=4, bias=True)\n",
       "  (11): ReLU()\n",
       "  (12): Linear(in_features=4, out_features=1, bias=True)\n",
       ")"
      ]
     },
     "execution_count": 25,
     "metadata": {},
     "output_type": "execute_result"
    },
    {
     "data": {
      "text/plain": [
       "Sequential(\n",
       "  (0): Linear(in_features=275, out_features=128, bias=True)\n",
       "  (1): ReLU()\n",
       "  (2): Linear(in_features=128, out_features=64, bias=True)\n",
       "  (3): ReLU()\n",
       "  (4): Linear(in_features=64, out_features=32, bias=True)\n",
       "  (5): ReLU()\n",
       "  (6): Linear(in_features=32, out_features=16, bias=True)\n",
       "  (7): ReLU()\n",
       "  (8): Linear(in_features=16, out_features=8, bias=True)\n",
       "  (9): ReLU()\n",
       "  (10): Linear(in_features=8, out_features=4, bias=True)\n",
       "  (11): ReLU()\n",
       "  (12): Linear(in_features=4, out_features=1, bias=True)\n",
       ")"
      ]
     },
     "execution_count": 25,
     "metadata": {},
     "output_type": "execute_result"
    },
    {
     "data": {
      "text/plain": [
       "Sequential(\n",
       "  (0): Linear(in_features=275, out_features=128, bias=True)\n",
       "  (1): ReLU()\n",
       "  (2): Linear(in_features=128, out_features=64, bias=True)\n",
       "  (3): ReLU()\n",
       "  (4): Linear(in_features=64, out_features=32, bias=True)\n",
       "  (5): ReLU()\n",
       "  (6): Linear(in_features=32, out_features=16, bias=True)\n",
       "  (7): ReLU()\n",
       "  (8): Linear(in_features=16, out_features=8, bias=True)\n",
       "  (9): ReLU()\n",
       "  (10): Linear(in_features=8, out_features=4, bias=True)\n",
       "  (11): ReLU()\n",
       "  (12): Linear(in_features=4, out_features=1, bias=True)\n",
       ")"
      ]
     },
     "execution_count": 25,
     "metadata": {},
     "output_type": "execute_result"
    },
    {
     "data": {
      "text/plain": [
       "Sequential(\n",
       "  (0): Linear(in_features=275, out_features=128, bias=True)\n",
       "  (1): ReLU()\n",
       "  (2): Linear(in_features=128, out_features=64, bias=True)\n",
       "  (3): ReLU()\n",
       "  (4): Linear(in_features=64, out_features=32, bias=True)\n",
       "  (5): ReLU()\n",
       "  (6): Linear(in_features=32, out_features=16, bias=True)\n",
       "  (7): ReLU()\n",
       "  (8): Linear(in_features=16, out_features=8, bias=True)\n",
       "  (9): ReLU()\n",
       "  (10): Linear(in_features=8, out_features=4, bias=True)\n",
       "  (11): ReLU()\n",
       "  (12): Linear(in_features=4, out_features=1, bias=True)\n",
       ")"
      ]
     },
     "execution_count": 25,
     "metadata": {},
     "output_type": "execute_result"
    },
    {
     "data": {
      "text/plain": [
       "Sequential(\n",
       "  (0): Linear(in_features=275, out_features=128, bias=True)\n",
       "  (1): ReLU()\n",
       "  (2): Linear(in_features=128, out_features=64, bias=True)\n",
       "  (3): ReLU()\n",
       "  (4): Linear(in_features=64, out_features=32, bias=True)\n",
       "  (5): ReLU()\n",
       "  (6): Linear(in_features=32, out_features=16, bias=True)\n",
       "  (7): ReLU()\n",
       "  (8): Linear(in_features=16, out_features=8, bias=True)\n",
       "  (9): ReLU()\n",
       "  (10): Linear(in_features=8, out_features=4, bias=True)\n",
       "  (11): ReLU()\n",
       "  (12): Linear(in_features=4, out_features=1, bias=True)\n",
       ")"
      ]
     },
     "execution_count": 25,
     "metadata": {},
     "output_type": "execute_result"
    },
    {
     "data": {
      "text/plain": [
       "Sequential(\n",
       "  (0): Linear(in_features=275, out_features=128, bias=True)\n",
       "  (1): ReLU()\n",
       "  (2): Linear(in_features=128, out_features=64, bias=True)\n",
       "  (3): ReLU()\n",
       "  (4): Linear(in_features=64, out_features=32, bias=True)\n",
       "  (5): ReLU()\n",
       "  (6): Linear(in_features=32, out_features=16, bias=True)\n",
       "  (7): ReLU()\n",
       "  (8): Linear(in_features=16, out_features=8, bias=True)\n",
       "  (9): ReLU()\n",
       "  (10): Linear(in_features=8, out_features=4, bias=True)\n",
       "  (11): ReLU()\n",
       "  (12): Linear(in_features=4, out_features=1, bias=True)\n",
       ")"
      ]
     },
     "execution_count": 25,
     "metadata": {},
     "output_type": "execute_result"
    },
    {
     "data": {
      "text/plain": [
       "Sequential(\n",
       "  (0): Linear(in_features=275, out_features=128, bias=True)\n",
       "  (1): ReLU()\n",
       "  (2): Linear(in_features=128, out_features=64, bias=True)\n",
       "  (3): ReLU()\n",
       "  (4): Linear(in_features=64, out_features=32, bias=True)\n",
       "  (5): ReLU()\n",
       "  (6): Linear(in_features=32, out_features=16, bias=True)\n",
       "  (7): ReLU()\n",
       "  (8): Linear(in_features=16, out_features=8, bias=True)\n",
       "  (9): ReLU()\n",
       "  (10): Linear(in_features=8, out_features=4, bias=True)\n",
       "  (11): ReLU()\n",
       "  (12): Linear(in_features=4, out_features=1, bias=True)\n",
       ")"
      ]
     },
     "execution_count": 25,
     "metadata": {},
     "output_type": "execute_result"
    },
    {
     "data": {
      "text/plain": [
       "Sequential(\n",
       "  (0): Linear(in_features=275, out_features=128, bias=True)\n",
       "  (1): ReLU()\n",
       "  (2): Linear(in_features=128, out_features=64, bias=True)\n",
       "  (3): ReLU()\n",
       "  (4): Linear(in_features=64, out_features=32, bias=True)\n",
       "  (5): ReLU()\n",
       "  (6): Linear(in_features=32, out_features=16, bias=True)\n",
       "  (7): ReLU()\n",
       "  (8): Linear(in_features=16, out_features=8, bias=True)\n",
       "  (9): ReLU()\n",
       "  (10): Linear(in_features=8, out_features=4, bias=True)\n",
       "  (11): ReLU()\n",
       "  (12): Linear(in_features=4, out_features=1, bias=True)\n",
       ")"
      ]
     },
     "execution_count": 25,
     "metadata": {},
     "output_type": "execute_result"
    },
    {
     "data": {
      "text/plain": [
       "Sequential(\n",
       "  (0): Linear(in_features=275, out_features=128, bias=True)\n",
       "  (1): ReLU()\n",
       "  (2): Linear(in_features=128, out_features=64, bias=True)\n",
       "  (3): ReLU()\n",
       "  (4): Linear(in_features=64, out_features=32, bias=True)\n",
       "  (5): ReLU()\n",
       "  (6): Linear(in_features=32, out_features=16, bias=True)\n",
       "  (7): ReLU()\n",
       "  (8): Linear(in_features=16, out_features=8, bias=True)\n",
       "  (9): ReLU()\n",
       "  (10): Linear(in_features=8, out_features=4, bias=True)\n",
       "  (11): ReLU()\n",
       "  (12): Linear(in_features=4, out_features=1, bias=True)\n",
       ")"
      ]
     },
     "execution_count": 25,
     "metadata": {},
     "output_type": "execute_result"
    },
    {
     "data": {
      "text/plain": [
       "Sequential(\n",
       "  (0): Linear(in_features=275, out_features=128, bias=True)\n",
       "  (1): ReLU()\n",
       "  (2): Linear(in_features=128, out_features=64, bias=True)\n",
       "  (3): ReLU()\n",
       "  (4): Linear(in_features=64, out_features=32, bias=True)\n",
       "  (5): ReLU()\n",
       "  (6): Linear(in_features=32, out_features=16, bias=True)\n",
       "  (7): ReLU()\n",
       "  (8): Linear(in_features=16, out_features=8, bias=True)\n",
       "  (9): ReLU()\n",
       "  (10): Linear(in_features=8, out_features=4, bias=True)\n",
       "  (11): ReLU()\n",
       "  (12): Linear(in_features=4, out_features=1, bias=True)\n",
       ")"
      ]
     },
     "execution_count": 25,
     "metadata": {},
     "output_type": "execute_result"
    },
    {
     "data": {
      "text/plain": [
       "Sequential(\n",
       "  (0): Linear(in_features=275, out_features=128, bias=True)\n",
       "  (1): ReLU()\n",
       "  (2): Linear(in_features=128, out_features=64, bias=True)\n",
       "  (3): ReLU()\n",
       "  (4): Linear(in_features=64, out_features=32, bias=True)\n",
       "  (5): ReLU()\n",
       "  (6): Linear(in_features=32, out_features=16, bias=True)\n",
       "  (7): ReLU()\n",
       "  (8): Linear(in_features=16, out_features=8, bias=True)\n",
       "  (9): ReLU()\n",
       "  (10): Linear(in_features=8, out_features=4, bias=True)\n",
       "  (11): ReLU()\n",
       "  (12): Linear(in_features=4, out_features=1, bias=True)\n",
       ")"
      ]
     },
     "execution_count": 25,
     "metadata": {},
     "output_type": "execute_result"
    },
    {
     "data": {
      "text/plain": [
       "Sequential(\n",
       "  (0): Linear(in_features=275, out_features=128, bias=True)\n",
       "  (1): ReLU()\n",
       "  (2): Linear(in_features=128, out_features=64, bias=True)\n",
       "  (3): ReLU()\n",
       "  (4): Linear(in_features=64, out_features=32, bias=True)\n",
       "  (5): ReLU()\n",
       "  (6): Linear(in_features=32, out_features=16, bias=True)\n",
       "  (7): ReLU()\n",
       "  (8): Linear(in_features=16, out_features=8, bias=True)\n",
       "  (9): ReLU()\n",
       "  (10): Linear(in_features=8, out_features=4, bias=True)\n",
       "  (11): ReLU()\n",
       "  (12): Linear(in_features=4, out_features=1, bias=True)\n",
       ")"
      ]
     },
     "execution_count": 25,
     "metadata": {},
     "output_type": "execute_result"
    },
    {
     "data": {
      "text/plain": [
       "Sequential(\n",
       "  (0): Linear(in_features=275, out_features=128, bias=True)\n",
       "  (1): ReLU()\n",
       "  (2): Linear(in_features=128, out_features=64, bias=True)\n",
       "  (3): ReLU()\n",
       "  (4): Linear(in_features=64, out_features=32, bias=True)\n",
       "  (5): ReLU()\n",
       "  (6): Linear(in_features=32, out_features=16, bias=True)\n",
       "  (7): ReLU()\n",
       "  (8): Linear(in_features=16, out_features=8, bias=True)\n",
       "  (9): ReLU()\n",
       "  (10): Linear(in_features=8, out_features=4, bias=True)\n",
       "  (11): ReLU()\n",
       "  (12): Linear(in_features=4, out_features=1, bias=True)\n",
       ")"
      ]
     },
     "execution_count": 25,
     "metadata": {},
     "output_type": "execute_result"
    },
    {
     "data": {
      "text/plain": [
       "Sequential(\n",
       "  (0): Linear(in_features=275, out_features=128, bias=True)\n",
       "  (1): ReLU()\n",
       "  (2): Linear(in_features=128, out_features=64, bias=True)\n",
       "  (3): ReLU()\n",
       "  (4): Linear(in_features=64, out_features=32, bias=True)\n",
       "  (5): ReLU()\n",
       "  (6): Linear(in_features=32, out_features=16, bias=True)\n",
       "  (7): ReLU()\n",
       "  (8): Linear(in_features=16, out_features=8, bias=True)\n",
       "  (9): ReLU()\n",
       "  (10): Linear(in_features=8, out_features=4, bias=True)\n",
       "  (11): ReLU()\n",
       "  (12): Linear(in_features=4, out_features=1, bias=True)\n",
       ")"
      ]
     },
     "execution_count": 25,
     "metadata": {},
     "output_type": "execute_result"
    },
    {
     "data": {
      "text/plain": [
       "Sequential(\n",
       "  (0): Linear(in_features=275, out_features=128, bias=True)\n",
       "  (1): ReLU()\n",
       "  (2): Linear(in_features=128, out_features=64, bias=True)\n",
       "  (3): ReLU()\n",
       "  (4): Linear(in_features=64, out_features=32, bias=True)\n",
       "  (5): ReLU()\n",
       "  (6): Linear(in_features=32, out_features=16, bias=True)\n",
       "  (7): ReLU()\n",
       "  (8): Linear(in_features=16, out_features=8, bias=True)\n",
       "  (9): ReLU()\n",
       "  (10): Linear(in_features=8, out_features=4, bias=True)\n",
       "  (11): ReLU()\n",
       "  (12): Linear(in_features=4, out_features=1, bias=True)\n",
       ")"
      ]
     },
     "execution_count": 25,
     "metadata": {},
     "output_type": "execute_result"
    },
    {
     "data": {
      "text/plain": [
       "Sequential(\n",
       "  (0): Linear(in_features=275, out_features=128, bias=True)\n",
       "  (1): ReLU()\n",
       "  (2): Linear(in_features=128, out_features=64, bias=True)\n",
       "  (3): ReLU()\n",
       "  (4): Linear(in_features=64, out_features=32, bias=True)\n",
       "  (5): ReLU()\n",
       "  (6): Linear(in_features=32, out_features=16, bias=True)\n",
       "  (7): ReLU()\n",
       "  (8): Linear(in_features=16, out_features=8, bias=True)\n",
       "  (9): ReLU()\n",
       "  (10): Linear(in_features=8, out_features=4, bias=True)\n",
       "  (11): ReLU()\n",
       "  (12): Linear(in_features=4, out_features=1, bias=True)\n",
       ")"
      ]
     },
     "execution_count": 25,
     "metadata": {},
     "output_type": "execute_result"
    },
    {
     "data": {
      "text/plain": [
       "Sequential(\n",
       "  (0): Linear(in_features=275, out_features=128, bias=True)\n",
       "  (1): ReLU()\n",
       "  (2): Linear(in_features=128, out_features=64, bias=True)\n",
       "  (3): ReLU()\n",
       "  (4): Linear(in_features=64, out_features=32, bias=True)\n",
       "  (5): ReLU()\n",
       "  (6): Linear(in_features=32, out_features=16, bias=True)\n",
       "  (7): ReLU()\n",
       "  (8): Linear(in_features=16, out_features=8, bias=True)\n",
       "  (9): ReLU()\n",
       "  (10): Linear(in_features=8, out_features=4, bias=True)\n",
       "  (11): ReLU()\n",
       "  (12): Linear(in_features=4, out_features=1, bias=True)\n",
       ")"
      ]
     },
     "execution_count": 25,
     "metadata": {},
     "output_type": "execute_result"
    },
    {
     "data": {
      "text/plain": [
       "Sequential(\n",
       "  (0): Linear(in_features=275, out_features=128, bias=True)\n",
       "  (1): ReLU()\n",
       "  (2): Linear(in_features=128, out_features=64, bias=True)\n",
       "  (3): ReLU()\n",
       "  (4): Linear(in_features=64, out_features=32, bias=True)\n",
       "  (5): ReLU()\n",
       "  (6): Linear(in_features=32, out_features=16, bias=True)\n",
       "  (7): ReLU()\n",
       "  (8): Linear(in_features=16, out_features=8, bias=True)\n",
       "  (9): ReLU()\n",
       "  (10): Linear(in_features=8, out_features=4, bias=True)\n",
       "  (11): ReLU()\n",
       "  (12): Linear(in_features=4, out_features=1, bias=True)\n",
       ")"
      ]
     },
     "execution_count": 25,
     "metadata": {},
     "output_type": "execute_result"
    },
    {
     "data": {
      "text/plain": [
       "Sequential(\n",
       "  (0): Linear(in_features=275, out_features=128, bias=True)\n",
       "  (1): ReLU()\n",
       "  (2): Linear(in_features=128, out_features=64, bias=True)\n",
       "  (3): ReLU()\n",
       "  (4): Linear(in_features=64, out_features=32, bias=True)\n",
       "  (5): ReLU()\n",
       "  (6): Linear(in_features=32, out_features=16, bias=True)\n",
       "  (7): ReLU()\n",
       "  (8): Linear(in_features=16, out_features=8, bias=True)\n",
       "  (9): ReLU()\n",
       "  (10): Linear(in_features=8, out_features=4, bias=True)\n",
       "  (11): ReLU()\n",
       "  (12): Linear(in_features=4, out_features=1, bias=True)\n",
       ")"
      ]
     },
     "execution_count": 25,
     "metadata": {},
     "output_type": "execute_result"
    },
    {
     "data": {
      "text/plain": [
       "Sequential(\n",
       "  (0): Linear(in_features=275, out_features=128, bias=True)\n",
       "  (1): ReLU()\n",
       "  (2): Linear(in_features=128, out_features=64, bias=True)\n",
       "  (3): ReLU()\n",
       "  (4): Linear(in_features=64, out_features=32, bias=True)\n",
       "  (5): ReLU()\n",
       "  (6): Linear(in_features=32, out_features=16, bias=True)\n",
       "  (7): ReLU()\n",
       "  (8): Linear(in_features=16, out_features=8, bias=True)\n",
       "  (9): ReLU()\n",
       "  (10): Linear(in_features=8, out_features=4, bias=True)\n",
       "  (11): ReLU()\n",
       "  (12): Linear(in_features=4, out_features=1, bias=True)\n",
       ")"
      ]
     },
     "execution_count": 25,
     "metadata": {},
     "output_type": "execute_result"
    },
    {
     "data": {
      "text/plain": [
       "Sequential(\n",
       "  (0): Linear(in_features=275, out_features=128, bias=True)\n",
       "  (1): ReLU()\n",
       "  (2): Linear(in_features=128, out_features=64, bias=True)\n",
       "  (3): ReLU()\n",
       "  (4): Linear(in_features=64, out_features=32, bias=True)\n",
       "  (5): ReLU()\n",
       "  (6): Linear(in_features=32, out_features=16, bias=True)\n",
       "  (7): ReLU()\n",
       "  (8): Linear(in_features=16, out_features=8, bias=True)\n",
       "  (9): ReLU()\n",
       "  (10): Linear(in_features=8, out_features=4, bias=True)\n",
       "  (11): ReLU()\n",
       "  (12): Linear(in_features=4, out_features=1, bias=True)\n",
       ")"
      ]
     },
     "execution_count": 25,
     "metadata": {},
     "output_type": "execute_result"
    },
    {
     "data": {
      "text/plain": [
       "Sequential(\n",
       "  (0): Linear(in_features=275, out_features=128, bias=True)\n",
       "  (1): ReLU()\n",
       "  (2): Linear(in_features=128, out_features=64, bias=True)\n",
       "  (3): ReLU()\n",
       "  (4): Linear(in_features=64, out_features=32, bias=True)\n",
       "  (5): ReLU()\n",
       "  (6): Linear(in_features=32, out_features=16, bias=True)\n",
       "  (7): ReLU()\n",
       "  (8): Linear(in_features=16, out_features=8, bias=True)\n",
       "  (9): ReLU()\n",
       "  (10): Linear(in_features=8, out_features=4, bias=True)\n",
       "  (11): ReLU()\n",
       "  (12): Linear(in_features=4, out_features=1, bias=True)\n",
       ")"
      ]
     },
     "execution_count": 25,
     "metadata": {},
     "output_type": "execute_result"
    },
    {
     "data": {
      "text/plain": [
       "Sequential(\n",
       "  (0): Linear(in_features=275, out_features=128, bias=True)\n",
       "  (1): ReLU()\n",
       "  (2): Linear(in_features=128, out_features=64, bias=True)\n",
       "  (3): ReLU()\n",
       "  (4): Linear(in_features=64, out_features=32, bias=True)\n",
       "  (5): ReLU()\n",
       "  (6): Linear(in_features=32, out_features=16, bias=True)\n",
       "  (7): ReLU()\n",
       "  (8): Linear(in_features=16, out_features=8, bias=True)\n",
       "  (9): ReLU()\n",
       "  (10): Linear(in_features=8, out_features=4, bias=True)\n",
       "  (11): ReLU()\n",
       "  (12): Linear(in_features=4, out_features=1, bias=True)\n",
       ")"
      ]
     },
     "execution_count": 25,
     "metadata": {},
     "output_type": "execute_result"
    },
    {
     "data": {
      "text/plain": [
       "Sequential(\n",
       "  (0): Linear(in_features=275, out_features=128, bias=True)\n",
       "  (1): ReLU()\n",
       "  (2): Linear(in_features=128, out_features=64, bias=True)\n",
       "  (3): ReLU()\n",
       "  (4): Linear(in_features=64, out_features=32, bias=True)\n",
       "  (5): ReLU()\n",
       "  (6): Linear(in_features=32, out_features=16, bias=True)\n",
       "  (7): ReLU()\n",
       "  (8): Linear(in_features=16, out_features=8, bias=True)\n",
       "  (9): ReLU()\n",
       "  (10): Linear(in_features=8, out_features=4, bias=True)\n",
       "  (11): ReLU()\n",
       "  (12): Linear(in_features=4, out_features=1, bias=True)\n",
       ")"
      ]
     },
     "execution_count": 25,
     "metadata": {},
     "output_type": "execute_result"
    },
    {
     "data": {
      "text/plain": [
       "Sequential(\n",
       "  (0): Linear(in_features=275, out_features=128, bias=True)\n",
       "  (1): ReLU()\n",
       "  (2): Linear(in_features=128, out_features=64, bias=True)\n",
       "  (3): ReLU()\n",
       "  (4): Linear(in_features=64, out_features=32, bias=True)\n",
       "  (5): ReLU()\n",
       "  (6): Linear(in_features=32, out_features=16, bias=True)\n",
       "  (7): ReLU()\n",
       "  (8): Linear(in_features=16, out_features=8, bias=True)\n",
       "  (9): ReLU()\n",
       "  (10): Linear(in_features=8, out_features=4, bias=True)\n",
       "  (11): ReLU()\n",
       "  (12): Linear(in_features=4, out_features=1, bias=True)\n",
       ")"
      ]
     },
     "execution_count": 25,
     "metadata": {},
     "output_type": "execute_result"
    },
    {
     "data": {
      "text/plain": [
       "Sequential(\n",
       "  (0): Linear(in_features=275, out_features=128, bias=True)\n",
       "  (1): ReLU()\n",
       "  (2): Linear(in_features=128, out_features=64, bias=True)\n",
       "  (3): ReLU()\n",
       "  (4): Linear(in_features=64, out_features=32, bias=True)\n",
       "  (5): ReLU()\n",
       "  (6): Linear(in_features=32, out_features=16, bias=True)\n",
       "  (7): ReLU()\n",
       "  (8): Linear(in_features=16, out_features=8, bias=True)\n",
       "  (9): ReLU()\n",
       "  (10): Linear(in_features=8, out_features=4, bias=True)\n",
       "  (11): ReLU()\n",
       "  (12): Linear(in_features=4, out_features=1, bias=True)\n",
       ")"
      ]
     },
     "execution_count": 25,
     "metadata": {},
     "output_type": "execute_result"
    },
    {
     "data": {
      "text/plain": [
       "Sequential(\n",
       "  (0): Linear(in_features=275, out_features=128, bias=True)\n",
       "  (1): ReLU()\n",
       "  (2): Linear(in_features=128, out_features=64, bias=True)\n",
       "  (3): ReLU()\n",
       "  (4): Linear(in_features=64, out_features=32, bias=True)\n",
       "  (5): ReLU()\n",
       "  (6): Linear(in_features=32, out_features=16, bias=True)\n",
       "  (7): ReLU()\n",
       "  (8): Linear(in_features=16, out_features=8, bias=True)\n",
       "  (9): ReLU()\n",
       "  (10): Linear(in_features=8, out_features=4, bias=True)\n",
       "  (11): ReLU()\n",
       "  (12): Linear(in_features=4, out_features=1, bias=True)\n",
       ")"
      ]
     },
     "execution_count": 25,
     "metadata": {},
     "output_type": "execute_result"
    },
    {
     "data": {
      "text/plain": [
       "Sequential(\n",
       "  (0): Linear(in_features=275, out_features=128, bias=True)\n",
       "  (1): ReLU()\n",
       "  (2): Linear(in_features=128, out_features=64, bias=True)\n",
       "  (3): ReLU()\n",
       "  (4): Linear(in_features=64, out_features=32, bias=True)\n",
       "  (5): ReLU()\n",
       "  (6): Linear(in_features=32, out_features=16, bias=True)\n",
       "  (7): ReLU()\n",
       "  (8): Linear(in_features=16, out_features=8, bias=True)\n",
       "  (9): ReLU()\n",
       "  (10): Linear(in_features=8, out_features=4, bias=True)\n",
       "  (11): ReLU()\n",
       "  (12): Linear(in_features=4, out_features=1, bias=True)\n",
       ")"
      ]
     },
     "execution_count": 25,
     "metadata": {},
     "output_type": "execute_result"
    },
    {
     "data": {
      "text/plain": [
       "Sequential(\n",
       "  (0): Linear(in_features=275, out_features=128, bias=True)\n",
       "  (1): ReLU()\n",
       "  (2): Linear(in_features=128, out_features=64, bias=True)\n",
       "  (3): ReLU()\n",
       "  (4): Linear(in_features=64, out_features=32, bias=True)\n",
       "  (5): ReLU()\n",
       "  (6): Linear(in_features=32, out_features=16, bias=True)\n",
       "  (7): ReLU()\n",
       "  (8): Linear(in_features=16, out_features=8, bias=True)\n",
       "  (9): ReLU()\n",
       "  (10): Linear(in_features=8, out_features=4, bias=True)\n",
       "  (11): ReLU()\n",
       "  (12): Linear(in_features=4, out_features=1, bias=True)\n",
       ")"
      ]
     },
     "execution_count": 25,
     "metadata": {},
     "output_type": "execute_result"
    },
    {
     "data": {
      "text/plain": [
       "Sequential(\n",
       "  (0): Linear(in_features=275, out_features=128, bias=True)\n",
       "  (1): ReLU()\n",
       "  (2): Linear(in_features=128, out_features=64, bias=True)\n",
       "  (3): ReLU()\n",
       "  (4): Linear(in_features=64, out_features=32, bias=True)\n",
       "  (5): ReLU()\n",
       "  (6): Linear(in_features=32, out_features=16, bias=True)\n",
       "  (7): ReLU()\n",
       "  (8): Linear(in_features=16, out_features=8, bias=True)\n",
       "  (9): ReLU()\n",
       "  (10): Linear(in_features=8, out_features=4, bias=True)\n",
       "  (11): ReLU()\n",
       "  (12): Linear(in_features=4, out_features=1, bias=True)\n",
       ")"
      ]
     },
     "execution_count": 25,
     "metadata": {},
     "output_type": "execute_result"
    },
    {
     "data": {
      "text/plain": [
       "Sequential(\n",
       "  (0): Linear(in_features=275, out_features=128, bias=True)\n",
       "  (1): ReLU()\n",
       "  (2): Linear(in_features=128, out_features=64, bias=True)\n",
       "  (3): ReLU()\n",
       "  (4): Linear(in_features=64, out_features=32, bias=True)\n",
       "  (5): ReLU()\n",
       "  (6): Linear(in_features=32, out_features=16, bias=True)\n",
       "  (7): ReLU()\n",
       "  (8): Linear(in_features=16, out_features=8, bias=True)\n",
       "  (9): ReLU()\n",
       "  (10): Linear(in_features=8, out_features=4, bias=True)\n",
       "  (11): ReLU()\n",
       "  (12): Linear(in_features=4, out_features=1, bias=True)\n",
       ")"
      ]
     },
     "execution_count": 25,
     "metadata": {},
     "output_type": "execute_result"
    },
    {
     "data": {
      "text/plain": [
       "Sequential(\n",
       "  (0): Linear(in_features=275, out_features=128, bias=True)\n",
       "  (1): ReLU()\n",
       "  (2): Linear(in_features=128, out_features=64, bias=True)\n",
       "  (3): ReLU()\n",
       "  (4): Linear(in_features=64, out_features=32, bias=True)\n",
       "  (5): ReLU()\n",
       "  (6): Linear(in_features=32, out_features=16, bias=True)\n",
       "  (7): ReLU()\n",
       "  (8): Linear(in_features=16, out_features=8, bias=True)\n",
       "  (9): ReLU()\n",
       "  (10): Linear(in_features=8, out_features=4, bias=True)\n",
       "  (11): ReLU()\n",
       "  (12): Linear(in_features=4, out_features=1, bias=True)\n",
       ")"
      ]
     },
     "execution_count": 25,
     "metadata": {},
     "output_type": "execute_result"
    },
    {
     "data": {
      "text/plain": [
       "Sequential(\n",
       "  (0): Linear(in_features=275, out_features=128, bias=True)\n",
       "  (1): ReLU()\n",
       "  (2): Linear(in_features=128, out_features=64, bias=True)\n",
       "  (3): ReLU()\n",
       "  (4): Linear(in_features=64, out_features=32, bias=True)\n",
       "  (5): ReLU()\n",
       "  (6): Linear(in_features=32, out_features=16, bias=True)\n",
       "  (7): ReLU()\n",
       "  (8): Linear(in_features=16, out_features=8, bias=True)\n",
       "  (9): ReLU()\n",
       "  (10): Linear(in_features=8, out_features=4, bias=True)\n",
       "  (11): ReLU()\n",
       "  (12): Linear(in_features=4, out_features=1, bias=True)\n",
       ")"
      ]
     },
     "execution_count": 25,
     "metadata": {},
     "output_type": "execute_result"
    },
    {
     "data": {
      "text/plain": [
       "Sequential(\n",
       "  (0): Linear(in_features=275, out_features=128, bias=True)\n",
       "  (1): ReLU()\n",
       "  (2): Linear(in_features=128, out_features=64, bias=True)\n",
       "  (3): ReLU()\n",
       "  (4): Linear(in_features=64, out_features=32, bias=True)\n",
       "  (5): ReLU()\n",
       "  (6): Linear(in_features=32, out_features=16, bias=True)\n",
       "  (7): ReLU()\n",
       "  (8): Linear(in_features=16, out_features=8, bias=True)\n",
       "  (9): ReLU()\n",
       "  (10): Linear(in_features=8, out_features=4, bias=True)\n",
       "  (11): ReLU()\n",
       "  (12): Linear(in_features=4, out_features=1, bias=True)\n",
       ")"
      ]
     },
     "execution_count": 25,
     "metadata": {},
     "output_type": "execute_result"
    },
    {
     "data": {
      "text/plain": [
       "Sequential(\n",
       "  (0): Linear(in_features=275, out_features=128, bias=True)\n",
       "  (1): ReLU()\n",
       "  (2): Linear(in_features=128, out_features=64, bias=True)\n",
       "  (3): ReLU()\n",
       "  (4): Linear(in_features=64, out_features=32, bias=True)\n",
       "  (5): ReLU()\n",
       "  (6): Linear(in_features=32, out_features=16, bias=True)\n",
       "  (7): ReLU()\n",
       "  (8): Linear(in_features=16, out_features=8, bias=True)\n",
       "  (9): ReLU()\n",
       "  (10): Linear(in_features=8, out_features=4, bias=True)\n",
       "  (11): ReLU()\n",
       "  (12): Linear(in_features=4, out_features=1, bias=True)\n",
       ")"
      ]
     },
     "execution_count": 25,
     "metadata": {},
     "output_type": "execute_result"
    },
    {
     "data": {
      "text/plain": [
       "Sequential(\n",
       "  (0): Linear(in_features=275, out_features=128, bias=True)\n",
       "  (1): ReLU()\n",
       "  (2): Linear(in_features=128, out_features=64, bias=True)\n",
       "  (3): ReLU()\n",
       "  (4): Linear(in_features=64, out_features=32, bias=True)\n",
       "  (5): ReLU()\n",
       "  (6): Linear(in_features=32, out_features=16, bias=True)\n",
       "  (7): ReLU()\n",
       "  (8): Linear(in_features=16, out_features=8, bias=True)\n",
       "  (9): ReLU()\n",
       "  (10): Linear(in_features=8, out_features=4, bias=True)\n",
       "  (11): ReLU()\n",
       "  (12): Linear(in_features=4, out_features=1, bias=True)\n",
       ")"
      ]
     },
     "execution_count": 25,
     "metadata": {},
     "output_type": "execute_result"
    },
    {
     "data": {
      "text/plain": [
       "Sequential(\n",
       "  (0): Linear(in_features=275, out_features=128, bias=True)\n",
       "  (1): ReLU()\n",
       "  (2): Linear(in_features=128, out_features=64, bias=True)\n",
       "  (3): ReLU()\n",
       "  (4): Linear(in_features=64, out_features=32, bias=True)\n",
       "  (5): ReLU()\n",
       "  (6): Linear(in_features=32, out_features=16, bias=True)\n",
       "  (7): ReLU()\n",
       "  (8): Linear(in_features=16, out_features=8, bias=True)\n",
       "  (9): ReLU()\n",
       "  (10): Linear(in_features=8, out_features=4, bias=True)\n",
       "  (11): ReLU()\n",
       "  (12): Linear(in_features=4, out_features=1, bias=True)\n",
       ")"
      ]
     },
     "execution_count": 25,
     "metadata": {},
     "output_type": "execute_result"
    },
    {
     "data": {
      "text/plain": [
       "Sequential(\n",
       "  (0): Linear(in_features=275, out_features=128, bias=True)\n",
       "  (1): ReLU()\n",
       "  (2): Linear(in_features=128, out_features=64, bias=True)\n",
       "  (3): ReLU()\n",
       "  (4): Linear(in_features=64, out_features=32, bias=True)\n",
       "  (5): ReLU()\n",
       "  (6): Linear(in_features=32, out_features=16, bias=True)\n",
       "  (7): ReLU()\n",
       "  (8): Linear(in_features=16, out_features=8, bias=True)\n",
       "  (9): ReLU()\n",
       "  (10): Linear(in_features=8, out_features=4, bias=True)\n",
       "  (11): ReLU()\n",
       "  (12): Linear(in_features=4, out_features=1, bias=True)\n",
       ")"
      ]
     },
     "execution_count": 25,
     "metadata": {},
     "output_type": "execute_result"
    },
    {
     "data": {
      "text/plain": [
       "Sequential(\n",
       "  (0): Linear(in_features=275, out_features=128, bias=True)\n",
       "  (1): ReLU()\n",
       "  (2): Linear(in_features=128, out_features=64, bias=True)\n",
       "  (3): ReLU()\n",
       "  (4): Linear(in_features=64, out_features=32, bias=True)\n",
       "  (5): ReLU()\n",
       "  (6): Linear(in_features=32, out_features=16, bias=True)\n",
       "  (7): ReLU()\n",
       "  (8): Linear(in_features=16, out_features=8, bias=True)\n",
       "  (9): ReLU()\n",
       "  (10): Linear(in_features=8, out_features=4, bias=True)\n",
       "  (11): ReLU()\n",
       "  (12): Linear(in_features=4, out_features=1, bias=True)\n",
       ")"
      ]
     },
     "execution_count": 25,
     "metadata": {},
     "output_type": "execute_result"
    },
    {
     "data": {
      "text/plain": [
       "Sequential(\n",
       "  (0): Linear(in_features=275, out_features=128, bias=True)\n",
       "  (1): ReLU()\n",
       "  (2): Linear(in_features=128, out_features=64, bias=True)\n",
       "  (3): ReLU()\n",
       "  (4): Linear(in_features=64, out_features=32, bias=True)\n",
       "  (5): ReLU()\n",
       "  (6): Linear(in_features=32, out_features=16, bias=True)\n",
       "  (7): ReLU()\n",
       "  (8): Linear(in_features=16, out_features=8, bias=True)\n",
       "  (9): ReLU()\n",
       "  (10): Linear(in_features=8, out_features=4, bias=True)\n",
       "  (11): ReLU()\n",
       "  (12): Linear(in_features=4, out_features=1, bias=True)\n",
       ")"
      ]
     },
     "execution_count": 25,
     "metadata": {},
     "output_type": "execute_result"
    },
    {
     "data": {
      "text/plain": [
       "Sequential(\n",
       "  (0): Linear(in_features=275, out_features=128, bias=True)\n",
       "  (1): ReLU()\n",
       "  (2): Linear(in_features=128, out_features=64, bias=True)\n",
       "  (3): ReLU()\n",
       "  (4): Linear(in_features=64, out_features=32, bias=True)\n",
       "  (5): ReLU()\n",
       "  (6): Linear(in_features=32, out_features=16, bias=True)\n",
       "  (7): ReLU()\n",
       "  (8): Linear(in_features=16, out_features=8, bias=True)\n",
       "  (9): ReLU()\n",
       "  (10): Linear(in_features=8, out_features=4, bias=True)\n",
       "  (11): ReLU()\n",
       "  (12): Linear(in_features=4, out_features=1, bias=True)\n",
       ")"
      ]
     },
     "execution_count": 25,
     "metadata": {},
     "output_type": "execute_result"
    },
    {
     "data": {
      "text/plain": [
       "Sequential(\n",
       "  (0): Linear(in_features=275, out_features=128, bias=True)\n",
       "  (1): ReLU()\n",
       "  (2): Linear(in_features=128, out_features=64, bias=True)\n",
       "  (3): ReLU()\n",
       "  (4): Linear(in_features=64, out_features=32, bias=True)\n",
       "  (5): ReLU()\n",
       "  (6): Linear(in_features=32, out_features=16, bias=True)\n",
       "  (7): ReLU()\n",
       "  (8): Linear(in_features=16, out_features=8, bias=True)\n",
       "  (9): ReLU()\n",
       "  (10): Linear(in_features=8, out_features=4, bias=True)\n",
       "  (11): ReLU()\n",
       "  (12): Linear(in_features=4, out_features=1, bias=True)\n",
       ")"
      ]
     },
     "execution_count": 25,
     "metadata": {},
     "output_type": "execute_result"
    },
    {
     "data": {
      "text/plain": [
       "Sequential(\n",
       "  (0): Linear(in_features=275, out_features=128, bias=True)\n",
       "  (1): ReLU()\n",
       "  (2): Linear(in_features=128, out_features=64, bias=True)\n",
       "  (3): ReLU()\n",
       "  (4): Linear(in_features=64, out_features=32, bias=True)\n",
       "  (5): ReLU()\n",
       "  (6): Linear(in_features=32, out_features=16, bias=True)\n",
       "  (7): ReLU()\n",
       "  (8): Linear(in_features=16, out_features=8, bias=True)\n",
       "  (9): ReLU()\n",
       "  (10): Linear(in_features=8, out_features=4, bias=True)\n",
       "  (11): ReLU()\n",
       "  (12): Linear(in_features=4, out_features=1, bias=True)\n",
       ")"
      ]
     },
     "execution_count": 25,
     "metadata": {},
     "output_type": "execute_result"
    },
    {
     "data": {
      "text/plain": [
       "Sequential(\n",
       "  (0): Linear(in_features=275, out_features=128, bias=True)\n",
       "  (1): ReLU()\n",
       "  (2): Linear(in_features=128, out_features=64, bias=True)\n",
       "  (3): ReLU()\n",
       "  (4): Linear(in_features=64, out_features=32, bias=True)\n",
       "  (5): ReLU()\n",
       "  (6): Linear(in_features=32, out_features=16, bias=True)\n",
       "  (7): ReLU()\n",
       "  (8): Linear(in_features=16, out_features=8, bias=True)\n",
       "  (9): ReLU()\n",
       "  (10): Linear(in_features=8, out_features=4, bias=True)\n",
       "  (11): ReLU()\n",
       "  (12): Linear(in_features=4, out_features=1, bias=True)\n",
       ")"
      ]
     },
     "execution_count": 25,
     "metadata": {},
     "output_type": "execute_result"
    },
    {
     "data": {
      "text/plain": [
       "Sequential(\n",
       "  (0): Linear(in_features=275, out_features=128, bias=True)\n",
       "  (1): ReLU()\n",
       "  (2): Linear(in_features=128, out_features=64, bias=True)\n",
       "  (3): ReLU()\n",
       "  (4): Linear(in_features=64, out_features=32, bias=True)\n",
       "  (5): ReLU()\n",
       "  (6): Linear(in_features=32, out_features=16, bias=True)\n",
       "  (7): ReLU()\n",
       "  (8): Linear(in_features=16, out_features=8, bias=True)\n",
       "  (9): ReLU()\n",
       "  (10): Linear(in_features=8, out_features=4, bias=True)\n",
       "  (11): ReLU()\n",
       "  (12): Linear(in_features=4, out_features=1, bias=True)\n",
       ")"
      ]
     },
     "execution_count": 25,
     "metadata": {},
     "output_type": "execute_result"
    },
    {
     "data": {
      "text/plain": [
       "Sequential(\n",
       "  (0): Linear(in_features=275, out_features=128, bias=True)\n",
       "  (1): ReLU()\n",
       "  (2): Linear(in_features=128, out_features=64, bias=True)\n",
       "  (3): ReLU()\n",
       "  (4): Linear(in_features=64, out_features=32, bias=True)\n",
       "  (5): ReLU()\n",
       "  (6): Linear(in_features=32, out_features=16, bias=True)\n",
       "  (7): ReLU()\n",
       "  (8): Linear(in_features=16, out_features=8, bias=True)\n",
       "  (9): ReLU()\n",
       "  (10): Linear(in_features=8, out_features=4, bias=True)\n",
       "  (11): ReLU()\n",
       "  (12): Linear(in_features=4, out_features=1, bias=True)\n",
       ")"
      ]
     },
     "execution_count": 25,
     "metadata": {},
     "output_type": "execute_result"
    },
    {
     "data": {
      "text/plain": [
       "Sequential(\n",
       "  (0): Linear(in_features=275, out_features=128, bias=True)\n",
       "  (1): ReLU()\n",
       "  (2): Linear(in_features=128, out_features=64, bias=True)\n",
       "  (3): ReLU()\n",
       "  (4): Linear(in_features=64, out_features=32, bias=True)\n",
       "  (5): ReLU()\n",
       "  (6): Linear(in_features=32, out_features=16, bias=True)\n",
       "  (7): ReLU()\n",
       "  (8): Linear(in_features=16, out_features=8, bias=True)\n",
       "  (9): ReLU()\n",
       "  (10): Linear(in_features=8, out_features=4, bias=True)\n",
       "  (11): ReLU()\n",
       "  (12): Linear(in_features=4, out_features=1, bias=True)\n",
       ")"
      ]
     },
     "execution_count": 25,
     "metadata": {},
     "output_type": "execute_result"
    },
    {
     "data": {
      "text/plain": [
       "Sequential(\n",
       "  (0): Linear(in_features=275, out_features=128, bias=True)\n",
       "  (1): ReLU()\n",
       "  (2): Linear(in_features=128, out_features=64, bias=True)\n",
       "  (3): ReLU()\n",
       "  (4): Linear(in_features=64, out_features=32, bias=True)\n",
       "  (5): ReLU()\n",
       "  (6): Linear(in_features=32, out_features=16, bias=True)\n",
       "  (7): ReLU()\n",
       "  (8): Linear(in_features=16, out_features=8, bias=True)\n",
       "  (9): ReLU()\n",
       "  (10): Linear(in_features=8, out_features=4, bias=True)\n",
       "  (11): ReLU()\n",
       "  (12): Linear(in_features=4, out_features=1, bias=True)\n",
       ")"
      ]
     },
     "execution_count": 25,
     "metadata": {},
     "output_type": "execute_result"
    },
    {
     "data": {
      "text/plain": [
       "Sequential(\n",
       "  (0): Linear(in_features=275, out_features=128, bias=True)\n",
       "  (1): ReLU()\n",
       "  (2): Linear(in_features=128, out_features=64, bias=True)\n",
       "  (3): ReLU()\n",
       "  (4): Linear(in_features=64, out_features=32, bias=True)\n",
       "  (5): ReLU()\n",
       "  (6): Linear(in_features=32, out_features=16, bias=True)\n",
       "  (7): ReLU()\n",
       "  (8): Linear(in_features=16, out_features=8, bias=True)\n",
       "  (9): ReLU()\n",
       "  (10): Linear(in_features=8, out_features=4, bias=True)\n",
       "  (11): ReLU()\n",
       "  (12): Linear(in_features=4, out_features=1, bias=True)\n",
       ")"
      ]
     },
     "execution_count": 25,
     "metadata": {},
     "output_type": "execute_result"
    },
    {
     "data": {
      "text/plain": [
       "Sequential(\n",
       "  (0): Linear(in_features=275, out_features=128, bias=True)\n",
       "  (1): ReLU()\n",
       "  (2): Linear(in_features=128, out_features=64, bias=True)\n",
       "  (3): ReLU()\n",
       "  (4): Linear(in_features=64, out_features=32, bias=True)\n",
       "  (5): ReLU()\n",
       "  (6): Linear(in_features=32, out_features=16, bias=True)\n",
       "  (7): ReLU()\n",
       "  (8): Linear(in_features=16, out_features=8, bias=True)\n",
       "  (9): ReLU()\n",
       "  (10): Linear(in_features=8, out_features=4, bias=True)\n",
       "  (11): ReLU()\n",
       "  (12): Linear(in_features=4, out_features=1, bias=True)\n",
       ")"
      ]
     },
     "execution_count": 25,
     "metadata": {},
     "output_type": "execute_result"
    },
    {
     "data": {
      "text/plain": [
       "Sequential(\n",
       "  (0): Linear(in_features=275, out_features=128, bias=True)\n",
       "  (1): ReLU()\n",
       "  (2): Linear(in_features=128, out_features=64, bias=True)\n",
       "  (3): ReLU()\n",
       "  (4): Linear(in_features=64, out_features=32, bias=True)\n",
       "  (5): ReLU()\n",
       "  (6): Linear(in_features=32, out_features=16, bias=True)\n",
       "  (7): ReLU()\n",
       "  (8): Linear(in_features=16, out_features=8, bias=True)\n",
       "  (9): ReLU()\n",
       "  (10): Linear(in_features=8, out_features=4, bias=True)\n",
       "  (11): ReLU()\n",
       "  (12): Linear(in_features=4, out_features=1, bias=True)\n",
       ")"
      ]
     },
     "execution_count": 25,
     "metadata": {},
     "output_type": "execute_result"
    },
    {
     "data": {
      "text/plain": [
       "Sequential(\n",
       "  (0): Linear(in_features=275, out_features=128, bias=True)\n",
       "  (1): ReLU()\n",
       "  (2): Linear(in_features=128, out_features=64, bias=True)\n",
       "  (3): ReLU()\n",
       "  (4): Linear(in_features=64, out_features=32, bias=True)\n",
       "  (5): ReLU()\n",
       "  (6): Linear(in_features=32, out_features=16, bias=True)\n",
       "  (7): ReLU()\n",
       "  (8): Linear(in_features=16, out_features=8, bias=True)\n",
       "  (9): ReLU()\n",
       "  (10): Linear(in_features=8, out_features=4, bias=True)\n",
       "  (11): ReLU()\n",
       "  (12): Linear(in_features=4, out_features=1, bias=True)\n",
       ")"
      ]
     },
     "execution_count": 25,
     "metadata": {},
     "output_type": "execute_result"
    },
    {
     "data": {
      "text/plain": [
       "Sequential(\n",
       "  (0): Linear(in_features=275, out_features=128, bias=True)\n",
       "  (1): ReLU()\n",
       "  (2): Linear(in_features=128, out_features=64, bias=True)\n",
       "  (3): ReLU()\n",
       "  (4): Linear(in_features=64, out_features=32, bias=True)\n",
       "  (5): ReLU()\n",
       "  (6): Linear(in_features=32, out_features=16, bias=True)\n",
       "  (7): ReLU()\n",
       "  (8): Linear(in_features=16, out_features=8, bias=True)\n",
       "  (9): ReLU()\n",
       "  (10): Linear(in_features=8, out_features=4, bias=True)\n",
       "  (11): ReLU()\n",
       "  (12): Linear(in_features=4, out_features=1, bias=True)\n",
       ")"
      ]
     },
     "execution_count": 25,
     "metadata": {},
     "output_type": "execute_result"
    },
    {
     "data": {
      "text/plain": [
       "Sequential(\n",
       "  (0): Linear(in_features=275, out_features=128, bias=True)\n",
       "  (1): ReLU()\n",
       "  (2): Linear(in_features=128, out_features=64, bias=True)\n",
       "  (3): ReLU()\n",
       "  (4): Linear(in_features=64, out_features=32, bias=True)\n",
       "  (5): ReLU()\n",
       "  (6): Linear(in_features=32, out_features=16, bias=True)\n",
       "  (7): ReLU()\n",
       "  (8): Linear(in_features=16, out_features=8, bias=True)\n",
       "  (9): ReLU()\n",
       "  (10): Linear(in_features=8, out_features=4, bias=True)\n",
       "  (11): ReLU()\n",
       "  (12): Linear(in_features=4, out_features=1, bias=True)\n",
       ")"
      ]
     },
     "execution_count": 25,
     "metadata": {},
     "output_type": "execute_result"
    },
    {
     "data": {
      "text/plain": [
       "Sequential(\n",
       "  (0): Linear(in_features=275, out_features=128, bias=True)\n",
       "  (1): ReLU()\n",
       "  (2): Linear(in_features=128, out_features=64, bias=True)\n",
       "  (3): ReLU()\n",
       "  (4): Linear(in_features=64, out_features=32, bias=True)\n",
       "  (5): ReLU()\n",
       "  (6): Linear(in_features=32, out_features=16, bias=True)\n",
       "  (7): ReLU()\n",
       "  (8): Linear(in_features=16, out_features=8, bias=True)\n",
       "  (9): ReLU()\n",
       "  (10): Linear(in_features=8, out_features=4, bias=True)\n",
       "  (11): ReLU()\n",
       "  (12): Linear(in_features=4, out_features=1, bias=True)\n",
       ")"
      ]
     },
     "execution_count": 25,
     "metadata": {},
     "output_type": "execute_result"
    },
    {
     "data": {
      "text/plain": [
       "Sequential(\n",
       "  (0): Linear(in_features=275, out_features=128, bias=True)\n",
       "  (1): ReLU()\n",
       "  (2): Linear(in_features=128, out_features=64, bias=True)\n",
       "  (3): ReLU()\n",
       "  (4): Linear(in_features=64, out_features=32, bias=True)\n",
       "  (5): ReLU()\n",
       "  (6): Linear(in_features=32, out_features=16, bias=True)\n",
       "  (7): ReLU()\n",
       "  (8): Linear(in_features=16, out_features=8, bias=True)\n",
       "  (9): ReLU()\n",
       "  (10): Linear(in_features=8, out_features=4, bias=True)\n",
       "  (11): ReLU()\n",
       "  (12): Linear(in_features=4, out_features=1, bias=True)\n",
       ")"
      ]
     },
     "execution_count": 25,
     "metadata": {},
     "output_type": "execute_result"
    },
    {
     "data": {
      "text/plain": [
       "Sequential(\n",
       "  (0): Linear(in_features=275, out_features=128, bias=True)\n",
       "  (1): ReLU()\n",
       "  (2): Linear(in_features=128, out_features=64, bias=True)\n",
       "  (3): ReLU()\n",
       "  (4): Linear(in_features=64, out_features=32, bias=True)\n",
       "  (5): ReLU()\n",
       "  (6): Linear(in_features=32, out_features=16, bias=True)\n",
       "  (7): ReLU()\n",
       "  (8): Linear(in_features=16, out_features=8, bias=True)\n",
       "  (9): ReLU()\n",
       "  (10): Linear(in_features=8, out_features=4, bias=True)\n",
       "  (11): ReLU()\n",
       "  (12): Linear(in_features=4, out_features=1, bias=True)\n",
       ")"
      ]
     },
     "execution_count": 25,
     "metadata": {},
     "output_type": "execute_result"
    },
    {
     "data": {
      "text/plain": [
       "Sequential(\n",
       "  (0): Linear(in_features=275, out_features=128, bias=True)\n",
       "  (1): ReLU()\n",
       "  (2): Linear(in_features=128, out_features=64, bias=True)\n",
       "  (3): ReLU()\n",
       "  (4): Linear(in_features=64, out_features=32, bias=True)\n",
       "  (5): ReLU()\n",
       "  (6): Linear(in_features=32, out_features=16, bias=True)\n",
       "  (7): ReLU()\n",
       "  (8): Linear(in_features=16, out_features=8, bias=True)\n",
       "  (9): ReLU()\n",
       "  (10): Linear(in_features=8, out_features=4, bias=True)\n",
       "  (11): ReLU()\n",
       "  (12): Linear(in_features=4, out_features=1, bias=True)\n",
       ")"
      ]
     },
     "execution_count": 25,
     "metadata": {},
     "output_type": "execute_result"
    },
    {
     "data": {
      "text/plain": [
       "Sequential(\n",
       "  (0): Linear(in_features=275, out_features=128, bias=True)\n",
       "  (1): ReLU()\n",
       "  (2): Linear(in_features=128, out_features=64, bias=True)\n",
       "  (3): ReLU()\n",
       "  (4): Linear(in_features=64, out_features=32, bias=True)\n",
       "  (5): ReLU()\n",
       "  (6): Linear(in_features=32, out_features=16, bias=True)\n",
       "  (7): ReLU()\n",
       "  (8): Linear(in_features=16, out_features=8, bias=True)\n",
       "  (9): ReLU()\n",
       "  (10): Linear(in_features=8, out_features=4, bias=True)\n",
       "  (11): ReLU()\n",
       "  (12): Linear(in_features=4, out_features=1, bias=True)\n",
       ")"
      ]
     },
     "execution_count": 25,
     "metadata": {},
     "output_type": "execute_result"
    },
    {
     "data": {
      "text/plain": [
       "Sequential(\n",
       "  (0): Linear(in_features=275, out_features=128, bias=True)\n",
       "  (1): ReLU()\n",
       "  (2): Linear(in_features=128, out_features=64, bias=True)\n",
       "  (3): ReLU()\n",
       "  (4): Linear(in_features=64, out_features=32, bias=True)\n",
       "  (5): ReLU()\n",
       "  (6): Linear(in_features=32, out_features=16, bias=True)\n",
       "  (7): ReLU()\n",
       "  (8): Linear(in_features=16, out_features=8, bias=True)\n",
       "  (9): ReLU()\n",
       "  (10): Linear(in_features=8, out_features=4, bias=True)\n",
       "  (11): ReLU()\n",
       "  (12): Linear(in_features=4, out_features=1, bias=True)\n",
       ")"
      ]
     },
     "execution_count": 25,
     "metadata": {},
     "output_type": "execute_result"
    },
    {
     "data": {
      "text/plain": [
       "Sequential(\n",
       "  (0): Linear(in_features=275, out_features=128, bias=True)\n",
       "  (1): ReLU()\n",
       "  (2): Linear(in_features=128, out_features=64, bias=True)\n",
       "  (3): ReLU()\n",
       "  (4): Linear(in_features=64, out_features=32, bias=True)\n",
       "  (5): ReLU()\n",
       "  (6): Linear(in_features=32, out_features=16, bias=True)\n",
       "  (7): ReLU()\n",
       "  (8): Linear(in_features=16, out_features=8, bias=True)\n",
       "  (9): ReLU()\n",
       "  (10): Linear(in_features=8, out_features=4, bias=True)\n",
       "  (11): ReLU()\n",
       "  (12): Linear(in_features=4, out_features=1, bias=True)\n",
       ")"
      ]
     },
     "execution_count": 25,
     "metadata": {},
     "output_type": "execute_result"
    },
    {
     "data": {
      "text/plain": [
       "Sequential(\n",
       "  (0): Linear(in_features=275, out_features=128, bias=True)\n",
       "  (1): ReLU()\n",
       "  (2): Linear(in_features=128, out_features=64, bias=True)\n",
       "  (3): ReLU()\n",
       "  (4): Linear(in_features=64, out_features=32, bias=True)\n",
       "  (5): ReLU()\n",
       "  (6): Linear(in_features=32, out_features=16, bias=True)\n",
       "  (7): ReLU()\n",
       "  (8): Linear(in_features=16, out_features=8, bias=True)\n",
       "  (9): ReLU()\n",
       "  (10): Linear(in_features=8, out_features=4, bias=True)\n",
       "  (11): ReLU()\n",
       "  (12): Linear(in_features=4, out_features=1, bias=True)\n",
       ")"
      ]
     },
     "execution_count": 25,
     "metadata": {},
     "output_type": "execute_result"
    },
    {
     "data": {
      "text/plain": [
       "Sequential(\n",
       "  (0): Linear(in_features=275, out_features=128, bias=True)\n",
       "  (1): ReLU()\n",
       "  (2): Linear(in_features=128, out_features=64, bias=True)\n",
       "  (3): ReLU()\n",
       "  (4): Linear(in_features=64, out_features=32, bias=True)\n",
       "  (5): ReLU()\n",
       "  (6): Linear(in_features=32, out_features=16, bias=True)\n",
       "  (7): ReLU()\n",
       "  (8): Linear(in_features=16, out_features=8, bias=True)\n",
       "  (9): ReLU()\n",
       "  (10): Linear(in_features=8, out_features=4, bias=True)\n",
       "  (11): ReLU()\n",
       "  (12): Linear(in_features=4, out_features=1, bias=True)\n",
       ")"
      ]
     },
     "execution_count": 25,
     "metadata": {},
     "output_type": "execute_result"
    },
    {
     "data": {
      "text/plain": [
       "Sequential(\n",
       "  (0): Linear(in_features=275, out_features=128, bias=True)\n",
       "  (1): ReLU()\n",
       "  (2): Linear(in_features=128, out_features=64, bias=True)\n",
       "  (3): ReLU()\n",
       "  (4): Linear(in_features=64, out_features=32, bias=True)\n",
       "  (5): ReLU()\n",
       "  (6): Linear(in_features=32, out_features=16, bias=True)\n",
       "  (7): ReLU()\n",
       "  (8): Linear(in_features=16, out_features=8, bias=True)\n",
       "  (9): ReLU()\n",
       "  (10): Linear(in_features=8, out_features=4, bias=True)\n",
       "  (11): ReLU()\n",
       "  (12): Linear(in_features=4, out_features=1, bias=True)\n",
       ")"
      ]
     },
     "execution_count": 25,
     "metadata": {},
     "output_type": "execute_result"
    },
    {
     "data": {
      "text/plain": [
       "Sequential(\n",
       "  (0): Linear(in_features=275, out_features=128, bias=True)\n",
       "  (1): ReLU()\n",
       "  (2): Linear(in_features=128, out_features=64, bias=True)\n",
       "  (3): ReLU()\n",
       "  (4): Linear(in_features=64, out_features=32, bias=True)\n",
       "  (5): ReLU()\n",
       "  (6): Linear(in_features=32, out_features=16, bias=True)\n",
       "  (7): ReLU()\n",
       "  (8): Linear(in_features=16, out_features=8, bias=True)\n",
       "  (9): ReLU()\n",
       "  (10): Linear(in_features=8, out_features=4, bias=True)\n",
       "  (11): ReLU()\n",
       "  (12): Linear(in_features=4, out_features=1, bias=True)\n",
       ")"
      ]
     },
     "execution_count": 25,
     "metadata": {},
     "output_type": "execute_result"
    },
    {
     "data": {
      "text/plain": [
       "Sequential(\n",
       "  (0): Linear(in_features=275, out_features=128, bias=True)\n",
       "  (1): ReLU()\n",
       "  (2): Linear(in_features=128, out_features=64, bias=True)\n",
       "  (3): ReLU()\n",
       "  (4): Linear(in_features=64, out_features=32, bias=True)\n",
       "  (5): ReLU()\n",
       "  (6): Linear(in_features=32, out_features=16, bias=True)\n",
       "  (7): ReLU()\n",
       "  (8): Linear(in_features=16, out_features=8, bias=True)\n",
       "  (9): ReLU()\n",
       "  (10): Linear(in_features=8, out_features=4, bias=True)\n",
       "  (11): ReLU()\n",
       "  (12): Linear(in_features=4, out_features=1, bias=True)\n",
       ")"
      ]
     },
     "execution_count": 25,
     "metadata": {},
     "output_type": "execute_result"
    },
    {
     "data": {
      "text/plain": [
       "Sequential(\n",
       "  (0): Linear(in_features=275, out_features=128, bias=True)\n",
       "  (1): ReLU()\n",
       "  (2): Linear(in_features=128, out_features=64, bias=True)\n",
       "  (3): ReLU()\n",
       "  (4): Linear(in_features=64, out_features=32, bias=True)\n",
       "  (5): ReLU()\n",
       "  (6): Linear(in_features=32, out_features=16, bias=True)\n",
       "  (7): ReLU()\n",
       "  (8): Linear(in_features=16, out_features=8, bias=True)\n",
       "  (9): ReLU()\n",
       "  (10): Linear(in_features=8, out_features=4, bias=True)\n",
       "  (11): ReLU()\n",
       "  (12): Linear(in_features=4, out_features=1, bias=True)\n",
       ")"
      ]
     },
     "execution_count": 25,
     "metadata": {},
     "output_type": "execute_result"
    },
    {
     "data": {
      "text/plain": [
       "Sequential(\n",
       "  (0): Linear(in_features=275, out_features=128, bias=True)\n",
       "  (1): ReLU()\n",
       "  (2): Linear(in_features=128, out_features=64, bias=True)\n",
       "  (3): ReLU()\n",
       "  (4): Linear(in_features=64, out_features=32, bias=True)\n",
       "  (5): ReLU()\n",
       "  (6): Linear(in_features=32, out_features=16, bias=True)\n",
       "  (7): ReLU()\n",
       "  (8): Linear(in_features=16, out_features=8, bias=True)\n",
       "  (9): ReLU()\n",
       "  (10): Linear(in_features=8, out_features=4, bias=True)\n",
       "  (11): ReLU()\n",
       "  (12): Linear(in_features=4, out_features=1, bias=True)\n",
       ")"
      ]
     },
     "execution_count": 25,
     "metadata": {},
     "output_type": "execute_result"
    },
    {
     "data": {
      "text/plain": [
       "Sequential(\n",
       "  (0): Linear(in_features=275, out_features=128, bias=True)\n",
       "  (1): ReLU()\n",
       "  (2): Linear(in_features=128, out_features=64, bias=True)\n",
       "  (3): ReLU()\n",
       "  (4): Linear(in_features=64, out_features=32, bias=True)\n",
       "  (5): ReLU()\n",
       "  (6): Linear(in_features=32, out_features=16, bias=True)\n",
       "  (7): ReLU()\n",
       "  (8): Linear(in_features=16, out_features=8, bias=True)\n",
       "  (9): ReLU()\n",
       "  (10): Linear(in_features=8, out_features=4, bias=True)\n",
       "  (11): ReLU()\n",
       "  (12): Linear(in_features=4, out_features=1, bias=True)\n",
       ")"
      ]
     },
     "execution_count": 25,
     "metadata": {},
     "output_type": "execute_result"
    },
    {
     "data": {
      "text/plain": [
       "Sequential(\n",
       "  (0): Linear(in_features=275, out_features=128, bias=True)\n",
       "  (1): ReLU()\n",
       "  (2): Linear(in_features=128, out_features=64, bias=True)\n",
       "  (3): ReLU()\n",
       "  (4): Linear(in_features=64, out_features=32, bias=True)\n",
       "  (5): ReLU()\n",
       "  (6): Linear(in_features=32, out_features=16, bias=True)\n",
       "  (7): ReLU()\n",
       "  (8): Linear(in_features=16, out_features=8, bias=True)\n",
       "  (9): ReLU()\n",
       "  (10): Linear(in_features=8, out_features=4, bias=True)\n",
       "  (11): ReLU()\n",
       "  (12): Linear(in_features=4, out_features=1, bias=True)\n",
       ")"
      ]
     },
     "execution_count": 25,
     "metadata": {},
     "output_type": "execute_result"
    },
    {
     "data": {
      "text/plain": [
       "Sequential(\n",
       "  (0): Linear(in_features=275, out_features=128, bias=True)\n",
       "  (1): ReLU()\n",
       "  (2): Linear(in_features=128, out_features=64, bias=True)\n",
       "  (3): ReLU()\n",
       "  (4): Linear(in_features=64, out_features=32, bias=True)\n",
       "  (5): ReLU()\n",
       "  (6): Linear(in_features=32, out_features=16, bias=True)\n",
       "  (7): ReLU()\n",
       "  (8): Linear(in_features=16, out_features=8, bias=True)\n",
       "  (9): ReLU()\n",
       "  (10): Linear(in_features=8, out_features=4, bias=True)\n",
       "  (11): ReLU()\n",
       "  (12): Linear(in_features=4, out_features=1, bias=True)\n",
       ")"
      ]
     },
     "execution_count": 25,
     "metadata": {},
     "output_type": "execute_result"
    },
    {
     "data": {
      "text/plain": [
       "Sequential(\n",
       "  (0): Linear(in_features=275, out_features=128, bias=True)\n",
       "  (1): ReLU()\n",
       "  (2): Linear(in_features=128, out_features=64, bias=True)\n",
       "  (3): ReLU()\n",
       "  (4): Linear(in_features=64, out_features=32, bias=True)\n",
       "  (5): ReLU()\n",
       "  (6): Linear(in_features=32, out_features=16, bias=True)\n",
       "  (7): ReLU()\n",
       "  (8): Linear(in_features=16, out_features=8, bias=True)\n",
       "  (9): ReLU()\n",
       "  (10): Linear(in_features=8, out_features=4, bias=True)\n",
       "  (11): ReLU()\n",
       "  (12): Linear(in_features=4, out_features=1, bias=True)\n",
       ")"
      ]
     },
     "execution_count": 25,
     "metadata": {},
     "output_type": "execute_result"
    },
    {
     "data": {
      "text/plain": [
       "Sequential(\n",
       "  (0): Linear(in_features=275, out_features=128, bias=True)\n",
       "  (1): ReLU()\n",
       "  (2): Linear(in_features=128, out_features=64, bias=True)\n",
       "  (3): ReLU()\n",
       "  (4): Linear(in_features=64, out_features=32, bias=True)\n",
       "  (5): ReLU()\n",
       "  (6): Linear(in_features=32, out_features=16, bias=True)\n",
       "  (7): ReLU()\n",
       "  (8): Linear(in_features=16, out_features=8, bias=True)\n",
       "  (9): ReLU()\n",
       "  (10): Linear(in_features=8, out_features=4, bias=True)\n",
       "  (11): ReLU()\n",
       "  (12): Linear(in_features=4, out_features=1, bias=True)\n",
       ")"
      ]
     },
     "execution_count": 25,
     "metadata": {},
     "output_type": "execute_result"
    },
    {
     "data": {
      "text/plain": [
       "Sequential(\n",
       "  (0): Linear(in_features=275, out_features=128, bias=True)\n",
       "  (1): ReLU()\n",
       "  (2): Linear(in_features=128, out_features=64, bias=True)\n",
       "  (3): ReLU()\n",
       "  (4): Linear(in_features=64, out_features=32, bias=True)\n",
       "  (5): ReLU()\n",
       "  (6): Linear(in_features=32, out_features=16, bias=True)\n",
       "  (7): ReLU()\n",
       "  (8): Linear(in_features=16, out_features=8, bias=True)\n",
       "  (9): ReLU()\n",
       "  (10): Linear(in_features=8, out_features=4, bias=True)\n",
       "  (11): ReLU()\n",
       "  (12): Linear(in_features=4, out_features=1, bias=True)\n",
       ")"
      ]
     },
     "execution_count": 25,
     "metadata": {},
     "output_type": "execute_result"
    },
    {
     "data": {
      "text/plain": [
       "Sequential(\n",
       "  (0): Linear(in_features=275, out_features=128, bias=True)\n",
       "  (1): ReLU()\n",
       "  (2): Linear(in_features=128, out_features=64, bias=True)\n",
       "  (3): ReLU()\n",
       "  (4): Linear(in_features=64, out_features=32, bias=True)\n",
       "  (5): ReLU()\n",
       "  (6): Linear(in_features=32, out_features=16, bias=True)\n",
       "  (7): ReLU()\n",
       "  (8): Linear(in_features=16, out_features=8, bias=True)\n",
       "  (9): ReLU()\n",
       "  (10): Linear(in_features=8, out_features=4, bias=True)\n",
       "  (11): ReLU()\n",
       "  (12): Linear(in_features=4, out_features=1, bias=True)\n",
       ")"
      ]
     },
     "execution_count": 25,
     "metadata": {},
     "output_type": "execute_result"
    },
    {
     "data": {
      "text/plain": [
       "Sequential(\n",
       "  (0): Linear(in_features=275, out_features=128, bias=True)\n",
       "  (1): ReLU()\n",
       "  (2): Linear(in_features=128, out_features=64, bias=True)\n",
       "  (3): ReLU()\n",
       "  (4): Linear(in_features=64, out_features=32, bias=True)\n",
       "  (5): ReLU()\n",
       "  (6): Linear(in_features=32, out_features=16, bias=True)\n",
       "  (7): ReLU()\n",
       "  (8): Linear(in_features=16, out_features=8, bias=True)\n",
       "  (9): ReLU()\n",
       "  (10): Linear(in_features=8, out_features=4, bias=True)\n",
       "  (11): ReLU()\n",
       "  (12): Linear(in_features=4, out_features=1, bias=True)\n",
       ")"
      ]
     },
     "execution_count": 25,
     "metadata": {},
     "output_type": "execute_result"
    },
    {
     "data": {
      "text/plain": [
       "Sequential(\n",
       "  (0): Linear(in_features=275, out_features=128, bias=True)\n",
       "  (1): ReLU()\n",
       "  (2): Linear(in_features=128, out_features=64, bias=True)\n",
       "  (3): ReLU()\n",
       "  (4): Linear(in_features=64, out_features=32, bias=True)\n",
       "  (5): ReLU()\n",
       "  (6): Linear(in_features=32, out_features=16, bias=True)\n",
       "  (7): ReLU()\n",
       "  (8): Linear(in_features=16, out_features=8, bias=True)\n",
       "  (9): ReLU()\n",
       "  (10): Linear(in_features=8, out_features=4, bias=True)\n",
       "  (11): ReLU()\n",
       "  (12): Linear(in_features=4, out_features=1, bias=True)\n",
       ")"
      ]
     },
     "execution_count": 25,
     "metadata": {},
     "output_type": "execute_result"
    },
    {
     "data": {
      "text/plain": [
       "Sequential(\n",
       "  (0): Linear(in_features=275, out_features=128, bias=True)\n",
       "  (1): ReLU()\n",
       "  (2): Linear(in_features=128, out_features=64, bias=True)\n",
       "  (3): ReLU()\n",
       "  (4): Linear(in_features=64, out_features=32, bias=True)\n",
       "  (5): ReLU()\n",
       "  (6): Linear(in_features=32, out_features=16, bias=True)\n",
       "  (7): ReLU()\n",
       "  (8): Linear(in_features=16, out_features=8, bias=True)\n",
       "  (9): ReLU()\n",
       "  (10): Linear(in_features=8, out_features=4, bias=True)\n",
       "  (11): ReLU()\n",
       "  (12): Linear(in_features=4, out_features=1, bias=True)\n",
       ")"
      ]
     },
     "execution_count": 25,
     "metadata": {},
     "output_type": "execute_result"
    },
    {
     "data": {
      "text/plain": [
       "Sequential(\n",
       "  (0): Linear(in_features=275, out_features=128, bias=True)\n",
       "  (1): ReLU()\n",
       "  (2): Linear(in_features=128, out_features=64, bias=True)\n",
       "  (3): ReLU()\n",
       "  (4): Linear(in_features=64, out_features=32, bias=True)\n",
       "  (5): ReLU()\n",
       "  (6): Linear(in_features=32, out_features=16, bias=True)\n",
       "  (7): ReLU()\n",
       "  (8): Linear(in_features=16, out_features=8, bias=True)\n",
       "  (9): ReLU()\n",
       "  (10): Linear(in_features=8, out_features=4, bias=True)\n",
       "  (11): ReLU()\n",
       "  (12): Linear(in_features=4, out_features=1, bias=True)\n",
       ")"
      ]
     },
     "execution_count": 25,
     "metadata": {},
     "output_type": "execute_result"
    },
    {
     "data": {
      "text/plain": [
       "Sequential(\n",
       "  (0): Linear(in_features=275, out_features=128, bias=True)\n",
       "  (1): ReLU()\n",
       "  (2): Linear(in_features=128, out_features=64, bias=True)\n",
       "  (3): ReLU()\n",
       "  (4): Linear(in_features=64, out_features=32, bias=True)\n",
       "  (5): ReLU()\n",
       "  (6): Linear(in_features=32, out_features=16, bias=True)\n",
       "  (7): ReLU()\n",
       "  (8): Linear(in_features=16, out_features=8, bias=True)\n",
       "  (9): ReLU()\n",
       "  (10): Linear(in_features=8, out_features=4, bias=True)\n",
       "  (11): ReLU()\n",
       "  (12): Linear(in_features=4, out_features=1, bias=True)\n",
       ")"
      ]
     },
     "execution_count": 25,
     "metadata": {},
     "output_type": "execute_result"
    },
    {
     "data": {
      "text/plain": [
       "Sequential(\n",
       "  (0): Linear(in_features=275, out_features=128, bias=True)\n",
       "  (1): ReLU()\n",
       "  (2): Linear(in_features=128, out_features=64, bias=True)\n",
       "  (3): ReLU()\n",
       "  (4): Linear(in_features=64, out_features=32, bias=True)\n",
       "  (5): ReLU()\n",
       "  (6): Linear(in_features=32, out_features=16, bias=True)\n",
       "  (7): ReLU()\n",
       "  (8): Linear(in_features=16, out_features=8, bias=True)\n",
       "  (9): ReLU()\n",
       "  (10): Linear(in_features=8, out_features=4, bias=True)\n",
       "  (11): ReLU()\n",
       "  (12): Linear(in_features=4, out_features=1, bias=True)\n",
       ")"
      ]
     },
     "execution_count": 25,
     "metadata": {},
     "output_type": "execute_result"
    },
    {
     "data": {
      "text/plain": [
       "Sequential(\n",
       "  (0): Linear(in_features=275, out_features=128, bias=True)\n",
       "  (1): ReLU()\n",
       "  (2): Linear(in_features=128, out_features=64, bias=True)\n",
       "  (3): ReLU()\n",
       "  (4): Linear(in_features=64, out_features=32, bias=True)\n",
       "  (5): ReLU()\n",
       "  (6): Linear(in_features=32, out_features=16, bias=True)\n",
       "  (7): ReLU()\n",
       "  (8): Linear(in_features=16, out_features=8, bias=True)\n",
       "  (9): ReLU()\n",
       "  (10): Linear(in_features=8, out_features=4, bias=True)\n",
       "  (11): ReLU()\n",
       "  (12): Linear(in_features=4, out_features=1, bias=True)\n",
       ")"
      ]
     },
     "execution_count": 25,
     "metadata": {},
     "output_type": "execute_result"
    },
    {
     "data": {
      "text/plain": [
       "Sequential(\n",
       "  (0): Linear(in_features=275, out_features=128, bias=True)\n",
       "  (1): ReLU()\n",
       "  (2): Linear(in_features=128, out_features=64, bias=True)\n",
       "  (3): ReLU()\n",
       "  (4): Linear(in_features=64, out_features=32, bias=True)\n",
       "  (5): ReLU()\n",
       "  (6): Linear(in_features=32, out_features=16, bias=True)\n",
       "  (7): ReLU()\n",
       "  (8): Linear(in_features=16, out_features=8, bias=True)\n",
       "  (9): ReLU()\n",
       "  (10): Linear(in_features=8, out_features=4, bias=True)\n",
       "  (11): ReLU()\n",
       "  (12): Linear(in_features=4, out_features=1, bias=True)\n",
       ")"
      ]
     },
     "execution_count": 25,
     "metadata": {},
     "output_type": "execute_result"
    },
    {
     "data": {
      "text/plain": [
       "Sequential(\n",
       "  (0): Linear(in_features=275, out_features=128, bias=True)\n",
       "  (1): ReLU()\n",
       "  (2): Linear(in_features=128, out_features=64, bias=True)\n",
       "  (3): ReLU()\n",
       "  (4): Linear(in_features=64, out_features=32, bias=True)\n",
       "  (5): ReLU()\n",
       "  (6): Linear(in_features=32, out_features=16, bias=True)\n",
       "  (7): ReLU()\n",
       "  (8): Linear(in_features=16, out_features=8, bias=True)\n",
       "  (9): ReLU()\n",
       "  (10): Linear(in_features=8, out_features=4, bias=True)\n",
       "  (11): ReLU()\n",
       "  (12): Linear(in_features=4, out_features=1, bias=True)\n",
       ")"
      ]
     },
     "execution_count": 25,
     "metadata": {},
     "output_type": "execute_result"
    },
    {
     "data": {
      "text/plain": [
       "Sequential(\n",
       "  (0): Linear(in_features=275, out_features=128, bias=True)\n",
       "  (1): ReLU()\n",
       "  (2): Linear(in_features=128, out_features=64, bias=True)\n",
       "  (3): ReLU()\n",
       "  (4): Linear(in_features=64, out_features=32, bias=True)\n",
       "  (5): ReLU()\n",
       "  (6): Linear(in_features=32, out_features=16, bias=True)\n",
       "  (7): ReLU()\n",
       "  (8): Linear(in_features=16, out_features=8, bias=True)\n",
       "  (9): ReLU()\n",
       "  (10): Linear(in_features=8, out_features=4, bias=True)\n",
       "  (11): ReLU()\n",
       "  (12): Linear(in_features=4, out_features=1, bias=True)\n",
       ")"
      ]
     },
     "execution_count": 25,
     "metadata": {},
     "output_type": "execute_result"
    },
    {
     "data": {
      "text/plain": [
       "Sequential(\n",
       "  (0): Linear(in_features=275, out_features=128, bias=True)\n",
       "  (1): ReLU()\n",
       "  (2): Linear(in_features=128, out_features=64, bias=True)\n",
       "  (3): ReLU()\n",
       "  (4): Linear(in_features=64, out_features=32, bias=True)\n",
       "  (5): ReLU()\n",
       "  (6): Linear(in_features=32, out_features=16, bias=True)\n",
       "  (7): ReLU()\n",
       "  (8): Linear(in_features=16, out_features=8, bias=True)\n",
       "  (9): ReLU()\n",
       "  (10): Linear(in_features=8, out_features=4, bias=True)\n",
       "  (11): ReLU()\n",
       "  (12): Linear(in_features=4, out_features=1, bias=True)\n",
       ")"
      ]
     },
     "execution_count": 25,
     "metadata": {},
     "output_type": "execute_result"
    },
    {
     "data": {
      "text/plain": [
       "Sequential(\n",
       "  (0): Linear(in_features=275, out_features=128, bias=True)\n",
       "  (1): ReLU()\n",
       "  (2): Linear(in_features=128, out_features=64, bias=True)\n",
       "  (3): ReLU()\n",
       "  (4): Linear(in_features=64, out_features=32, bias=True)\n",
       "  (5): ReLU()\n",
       "  (6): Linear(in_features=32, out_features=16, bias=True)\n",
       "  (7): ReLU()\n",
       "  (8): Linear(in_features=16, out_features=8, bias=True)\n",
       "  (9): ReLU()\n",
       "  (10): Linear(in_features=8, out_features=4, bias=True)\n",
       "  (11): ReLU()\n",
       "  (12): Linear(in_features=4, out_features=1, bias=True)\n",
       ")"
      ]
     },
     "execution_count": 25,
     "metadata": {},
     "output_type": "execute_result"
    },
    {
     "data": {
      "text/plain": [
       "Sequential(\n",
       "  (0): Linear(in_features=275, out_features=128, bias=True)\n",
       "  (1): ReLU()\n",
       "  (2): Linear(in_features=128, out_features=64, bias=True)\n",
       "  (3): ReLU()\n",
       "  (4): Linear(in_features=64, out_features=32, bias=True)\n",
       "  (5): ReLU()\n",
       "  (6): Linear(in_features=32, out_features=16, bias=True)\n",
       "  (7): ReLU()\n",
       "  (8): Linear(in_features=16, out_features=8, bias=True)\n",
       "  (9): ReLU()\n",
       "  (10): Linear(in_features=8, out_features=4, bias=True)\n",
       "  (11): ReLU()\n",
       "  (12): Linear(in_features=4, out_features=1, bias=True)\n",
       ")"
      ]
     },
     "execution_count": 25,
     "metadata": {},
     "output_type": "execute_result"
    },
    {
     "data": {
      "text/plain": [
       "Sequential(\n",
       "  (0): Linear(in_features=275, out_features=128, bias=True)\n",
       "  (1): ReLU()\n",
       "  (2): Linear(in_features=128, out_features=64, bias=True)\n",
       "  (3): ReLU()\n",
       "  (4): Linear(in_features=64, out_features=32, bias=True)\n",
       "  (5): ReLU()\n",
       "  (6): Linear(in_features=32, out_features=16, bias=True)\n",
       "  (7): ReLU()\n",
       "  (8): Linear(in_features=16, out_features=8, bias=True)\n",
       "  (9): ReLU()\n",
       "  (10): Linear(in_features=8, out_features=4, bias=True)\n",
       "  (11): ReLU()\n",
       "  (12): Linear(in_features=4, out_features=1, bias=True)\n",
       ")"
      ]
     },
     "execution_count": 25,
     "metadata": {},
     "output_type": "execute_result"
    },
    {
     "data": {
      "text/plain": [
       "Sequential(\n",
       "  (0): Linear(in_features=275, out_features=128, bias=True)\n",
       "  (1): ReLU()\n",
       "  (2): Linear(in_features=128, out_features=64, bias=True)\n",
       "  (3): ReLU()\n",
       "  (4): Linear(in_features=64, out_features=32, bias=True)\n",
       "  (5): ReLU()\n",
       "  (6): Linear(in_features=32, out_features=16, bias=True)\n",
       "  (7): ReLU()\n",
       "  (8): Linear(in_features=16, out_features=8, bias=True)\n",
       "  (9): ReLU()\n",
       "  (10): Linear(in_features=8, out_features=4, bias=True)\n",
       "  (11): ReLU()\n",
       "  (12): Linear(in_features=4, out_features=1, bias=True)\n",
       ")"
      ]
     },
     "execution_count": 25,
     "metadata": {},
     "output_type": "execute_result"
    },
    {
     "data": {
      "text/plain": [
       "Sequential(\n",
       "  (0): Linear(in_features=275, out_features=128, bias=True)\n",
       "  (1): ReLU()\n",
       "  (2): Linear(in_features=128, out_features=64, bias=True)\n",
       "  (3): ReLU()\n",
       "  (4): Linear(in_features=64, out_features=32, bias=True)\n",
       "  (5): ReLU()\n",
       "  (6): Linear(in_features=32, out_features=16, bias=True)\n",
       "  (7): ReLU()\n",
       "  (8): Linear(in_features=16, out_features=8, bias=True)\n",
       "  (9): ReLU()\n",
       "  (10): Linear(in_features=8, out_features=4, bias=True)\n",
       "  (11): ReLU()\n",
       "  (12): Linear(in_features=4, out_features=1, bias=True)\n",
       ")"
      ]
     },
     "execution_count": 25,
     "metadata": {},
     "output_type": "execute_result"
    },
    {
     "data": {
      "text/plain": [
       "Sequential(\n",
       "  (0): Linear(in_features=275, out_features=128, bias=True)\n",
       "  (1): ReLU()\n",
       "  (2): Linear(in_features=128, out_features=64, bias=True)\n",
       "  (3): ReLU()\n",
       "  (4): Linear(in_features=64, out_features=32, bias=True)\n",
       "  (5): ReLU()\n",
       "  (6): Linear(in_features=32, out_features=16, bias=True)\n",
       "  (7): ReLU()\n",
       "  (8): Linear(in_features=16, out_features=8, bias=True)\n",
       "  (9): ReLU()\n",
       "  (10): Linear(in_features=8, out_features=4, bias=True)\n",
       "  (11): ReLU()\n",
       "  (12): Linear(in_features=4, out_features=1, bias=True)\n",
       ")"
      ]
     },
     "execution_count": 25,
     "metadata": {},
     "output_type": "execute_result"
    },
    {
     "data": {
      "text/plain": [
       "Sequential(\n",
       "  (0): Linear(in_features=275, out_features=128, bias=True)\n",
       "  (1): ReLU()\n",
       "  (2): Linear(in_features=128, out_features=64, bias=True)\n",
       "  (3): ReLU()\n",
       "  (4): Linear(in_features=64, out_features=32, bias=True)\n",
       "  (5): ReLU()\n",
       "  (6): Linear(in_features=32, out_features=16, bias=True)\n",
       "  (7): ReLU()\n",
       "  (8): Linear(in_features=16, out_features=8, bias=True)\n",
       "  (9): ReLU()\n",
       "  (10): Linear(in_features=8, out_features=4, bias=True)\n",
       "  (11): ReLU()\n",
       "  (12): Linear(in_features=4, out_features=1, bias=True)\n",
       ")"
      ]
     },
     "execution_count": 25,
     "metadata": {},
     "output_type": "execute_result"
    },
    {
     "data": {
      "text/plain": [
       "Sequential(\n",
       "  (0): Linear(in_features=275, out_features=128, bias=True)\n",
       "  (1): ReLU()\n",
       "  (2): Linear(in_features=128, out_features=64, bias=True)\n",
       "  (3): ReLU()\n",
       "  (4): Linear(in_features=64, out_features=32, bias=True)\n",
       "  (5): ReLU()\n",
       "  (6): Linear(in_features=32, out_features=16, bias=True)\n",
       "  (7): ReLU()\n",
       "  (8): Linear(in_features=16, out_features=8, bias=True)\n",
       "  (9): ReLU()\n",
       "  (10): Linear(in_features=8, out_features=4, bias=True)\n",
       "  (11): ReLU()\n",
       "  (12): Linear(in_features=4, out_features=1, bias=True)\n",
       ")"
      ]
     },
     "execution_count": 25,
     "metadata": {},
     "output_type": "execute_result"
    },
    {
     "data": {
      "text/plain": [
       "Sequential(\n",
       "  (0): Linear(in_features=275, out_features=128, bias=True)\n",
       "  (1): ReLU()\n",
       "  (2): Linear(in_features=128, out_features=64, bias=True)\n",
       "  (3): ReLU()\n",
       "  (4): Linear(in_features=64, out_features=32, bias=True)\n",
       "  (5): ReLU()\n",
       "  (6): Linear(in_features=32, out_features=16, bias=True)\n",
       "  (7): ReLU()\n",
       "  (8): Linear(in_features=16, out_features=8, bias=True)\n",
       "  (9): ReLU()\n",
       "  (10): Linear(in_features=8, out_features=4, bias=True)\n",
       "  (11): ReLU()\n",
       "  (12): Linear(in_features=4, out_features=1, bias=True)\n",
       ")"
      ]
     },
     "execution_count": 25,
     "metadata": {},
     "output_type": "execute_result"
    },
    {
     "data": {
      "text/plain": [
       "Sequential(\n",
       "  (0): Linear(in_features=275, out_features=128, bias=True)\n",
       "  (1): ReLU()\n",
       "  (2): Linear(in_features=128, out_features=64, bias=True)\n",
       "  (3): ReLU()\n",
       "  (4): Linear(in_features=64, out_features=32, bias=True)\n",
       "  (5): ReLU()\n",
       "  (6): Linear(in_features=32, out_features=16, bias=True)\n",
       "  (7): ReLU()\n",
       "  (8): Linear(in_features=16, out_features=8, bias=True)\n",
       "  (9): ReLU()\n",
       "  (10): Linear(in_features=8, out_features=4, bias=True)\n",
       "  (11): ReLU()\n",
       "  (12): Linear(in_features=4, out_features=1, bias=True)\n",
       ")"
      ]
     },
     "execution_count": 25,
     "metadata": {},
     "output_type": "execute_result"
    },
    {
     "data": {
      "text/plain": [
       "Sequential(\n",
       "  (0): Linear(in_features=275, out_features=128, bias=True)\n",
       "  (1): ReLU()\n",
       "  (2): Linear(in_features=128, out_features=64, bias=True)\n",
       "  (3): ReLU()\n",
       "  (4): Linear(in_features=64, out_features=32, bias=True)\n",
       "  (5): ReLU()\n",
       "  (6): Linear(in_features=32, out_features=16, bias=True)\n",
       "  (7): ReLU()\n",
       "  (8): Linear(in_features=16, out_features=8, bias=True)\n",
       "  (9): ReLU()\n",
       "  (10): Linear(in_features=8, out_features=4, bias=True)\n",
       "  (11): ReLU()\n",
       "  (12): Linear(in_features=4, out_features=1, bias=True)\n",
       ")"
      ]
     },
     "execution_count": 25,
     "metadata": {},
     "output_type": "execute_result"
    },
    {
     "data": {
      "text/plain": [
       "Sequential(\n",
       "  (0): Linear(in_features=275, out_features=128, bias=True)\n",
       "  (1): ReLU()\n",
       "  (2): Linear(in_features=128, out_features=64, bias=True)\n",
       "  (3): ReLU()\n",
       "  (4): Linear(in_features=64, out_features=32, bias=True)\n",
       "  (5): ReLU()\n",
       "  (6): Linear(in_features=32, out_features=16, bias=True)\n",
       "  (7): ReLU()\n",
       "  (8): Linear(in_features=16, out_features=8, bias=True)\n",
       "  (9): ReLU()\n",
       "  (10): Linear(in_features=8, out_features=4, bias=True)\n",
       "  (11): ReLU()\n",
       "  (12): Linear(in_features=4, out_features=1, bias=True)\n",
       ")"
      ]
     },
     "execution_count": 25,
     "metadata": {},
     "output_type": "execute_result"
    },
    {
     "data": {
      "text/plain": [
       "Sequential(\n",
       "  (0): Linear(in_features=275, out_features=128, bias=True)\n",
       "  (1): ReLU()\n",
       "  (2): Linear(in_features=128, out_features=64, bias=True)\n",
       "  (3): ReLU()\n",
       "  (4): Linear(in_features=64, out_features=32, bias=True)\n",
       "  (5): ReLU()\n",
       "  (6): Linear(in_features=32, out_features=16, bias=True)\n",
       "  (7): ReLU()\n",
       "  (8): Linear(in_features=16, out_features=8, bias=True)\n",
       "  (9): ReLU()\n",
       "  (10): Linear(in_features=8, out_features=4, bias=True)\n",
       "  (11): ReLU()\n",
       "  (12): Linear(in_features=4, out_features=1, bias=True)\n",
       ")"
      ]
     },
     "execution_count": 25,
     "metadata": {},
     "output_type": "execute_result"
    },
    {
     "data": {
      "text/plain": [
       "Sequential(\n",
       "  (0): Linear(in_features=275, out_features=128, bias=True)\n",
       "  (1): ReLU()\n",
       "  (2): Linear(in_features=128, out_features=64, bias=True)\n",
       "  (3): ReLU()\n",
       "  (4): Linear(in_features=64, out_features=32, bias=True)\n",
       "  (5): ReLU()\n",
       "  (6): Linear(in_features=32, out_features=16, bias=True)\n",
       "  (7): ReLU()\n",
       "  (8): Linear(in_features=16, out_features=8, bias=True)\n",
       "  (9): ReLU()\n",
       "  (10): Linear(in_features=8, out_features=4, bias=True)\n",
       "  (11): ReLU()\n",
       "  (12): Linear(in_features=4, out_features=1, bias=True)\n",
       ")"
      ]
     },
     "execution_count": 25,
     "metadata": {},
     "output_type": "execute_result"
    },
    {
     "data": {
      "text/plain": [
       "Sequential(\n",
       "  (0): Linear(in_features=275, out_features=128, bias=True)\n",
       "  (1): ReLU()\n",
       "  (2): Linear(in_features=128, out_features=64, bias=True)\n",
       "  (3): ReLU()\n",
       "  (4): Linear(in_features=64, out_features=32, bias=True)\n",
       "  (5): ReLU()\n",
       "  (6): Linear(in_features=32, out_features=16, bias=True)\n",
       "  (7): ReLU()\n",
       "  (8): Linear(in_features=16, out_features=8, bias=True)\n",
       "  (9): ReLU()\n",
       "  (10): Linear(in_features=8, out_features=4, bias=True)\n",
       "  (11): ReLU()\n",
       "  (12): Linear(in_features=4, out_features=1, bias=True)\n",
       ")"
      ]
     },
     "execution_count": 25,
     "metadata": {},
     "output_type": "execute_result"
    },
    {
     "data": {
      "text/plain": [
       "Sequential(\n",
       "  (0): Linear(in_features=275, out_features=128, bias=True)\n",
       "  (1): ReLU()\n",
       "  (2): Linear(in_features=128, out_features=64, bias=True)\n",
       "  (3): ReLU()\n",
       "  (4): Linear(in_features=64, out_features=32, bias=True)\n",
       "  (5): ReLU()\n",
       "  (6): Linear(in_features=32, out_features=16, bias=True)\n",
       "  (7): ReLU()\n",
       "  (8): Linear(in_features=16, out_features=8, bias=True)\n",
       "  (9): ReLU()\n",
       "  (10): Linear(in_features=8, out_features=4, bias=True)\n",
       "  (11): ReLU()\n",
       "  (12): Linear(in_features=4, out_features=1, bias=True)\n",
       ")"
      ]
     },
     "execution_count": 25,
     "metadata": {},
     "output_type": "execute_result"
    },
    {
     "data": {
      "text/plain": [
       "Sequential(\n",
       "  (0): Linear(in_features=275, out_features=128, bias=True)\n",
       "  (1): ReLU()\n",
       "  (2): Linear(in_features=128, out_features=64, bias=True)\n",
       "  (3): ReLU()\n",
       "  (4): Linear(in_features=64, out_features=32, bias=True)\n",
       "  (5): ReLU()\n",
       "  (6): Linear(in_features=32, out_features=16, bias=True)\n",
       "  (7): ReLU()\n",
       "  (8): Linear(in_features=16, out_features=8, bias=True)\n",
       "  (9): ReLU()\n",
       "  (10): Linear(in_features=8, out_features=4, bias=True)\n",
       "  (11): ReLU()\n",
       "  (12): Linear(in_features=4, out_features=1, bias=True)\n",
       ")"
      ]
     },
     "execution_count": 25,
     "metadata": {},
     "output_type": "execute_result"
    },
    {
     "data": {
      "text/plain": [
       "Sequential(\n",
       "  (0): Linear(in_features=275, out_features=128, bias=True)\n",
       "  (1): ReLU()\n",
       "  (2): Linear(in_features=128, out_features=64, bias=True)\n",
       "  (3): ReLU()\n",
       "  (4): Linear(in_features=64, out_features=32, bias=True)\n",
       "  (5): ReLU()\n",
       "  (6): Linear(in_features=32, out_features=16, bias=True)\n",
       "  (7): ReLU()\n",
       "  (8): Linear(in_features=16, out_features=8, bias=True)\n",
       "  (9): ReLU()\n",
       "  (10): Linear(in_features=8, out_features=4, bias=True)\n",
       "  (11): ReLU()\n",
       "  (12): Linear(in_features=4, out_features=1, bias=True)\n",
       ")"
      ]
     },
     "execution_count": 25,
     "metadata": {},
     "output_type": "execute_result"
    },
    {
     "data": {
      "text/plain": [
       "Sequential(\n",
       "  (0): Linear(in_features=275, out_features=128, bias=True)\n",
       "  (1): ReLU()\n",
       "  (2): Linear(in_features=128, out_features=64, bias=True)\n",
       "  (3): ReLU()\n",
       "  (4): Linear(in_features=64, out_features=32, bias=True)\n",
       "  (5): ReLU()\n",
       "  (6): Linear(in_features=32, out_features=16, bias=True)\n",
       "  (7): ReLU()\n",
       "  (8): Linear(in_features=16, out_features=8, bias=True)\n",
       "  (9): ReLU()\n",
       "  (10): Linear(in_features=8, out_features=4, bias=True)\n",
       "  (11): ReLU()\n",
       "  (12): Linear(in_features=4, out_features=1, bias=True)\n",
       ")"
      ]
     },
     "execution_count": 25,
     "metadata": {},
     "output_type": "execute_result"
    },
    {
     "data": {
      "text/plain": [
       "Sequential(\n",
       "  (0): Linear(in_features=275, out_features=128, bias=True)\n",
       "  (1): ReLU()\n",
       "  (2): Linear(in_features=128, out_features=64, bias=True)\n",
       "  (3): ReLU()\n",
       "  (4): Linear(in_features=64, out_features=32, bias=True)\n",
       "  (5): ReLU()\n",
       "  (6): Linear(in_features=32, out_features=16, bias=True)\n",
       "  (7): ReLU()\n",
       "  (8): Linear(in_features=16, out_features=8, bias=True)\n",
       "  (9): ReLU()\n",
       "  (10): Linear(in_features=8, out_features=4, bias=True)\n",
       "  (11): ReLU()\n",
       "  (12): Linear(in_features=4, out_features=1, bias=True)\n",
       ")"
      ]
     },
     "execution_count": 25,
     "metadata": {},
     "output_type": "execute_result"
    },
    {
     "data": {
      "text/plain": [
       "Sequential(\n",
       "  (0): Linear(in_features=275, out_features=128, bias=True)\n",
       "  (1): ReLU()\n",
       "  (2): Linear(in_features=128, out_features=64, bias=True)\n",
       "  (3): ReLU()\n",
       "  (4): Linear(in_features=64, out_features=32, bias=True)\n",
       "  (5): ReLU()\n",
       "  (6): Linear(in_features=32, out_features=16, bias=True)\n",
       "  (7): ReLU()\n",
       "  (8): Linear(in_features=16, out_features=8, bias=True)\n",
       "  (9): ReLU()\n",
       "  (10): Linear(in_features=8, out_features=4, bias=True)\n",
       "  (11): ReLU()\n",
       "  (12): Linear(in_features=4, out_features=1, bias=True)\n",
       ")"
      ]
     },
     "execution_count": 25,
     "metadata": {},
     "output_type": "execute_result"
    },
    {
     "data": {
      "text/plain": [
       "Sequential(\n",
       "  (0): Linear(in_features=275, out_features=128, bias=True)\n",
       "  (1): ReLU()\n",
       "  (2): Linear(in_features=128, out_features=64, bias=True)\n",
       "  (3): ReLU()\n",
       "  (4): Linear(in_features=64, out_features=32, bias=True)\n",
       "  (5): ReLU()\n",
       "  (6): Linear(in_features=32, out_features=16, bias=True)\n",
       "  (7): ReLU()\n",
       "  (8): Linear(in_features=16, out_features=8, bias=True)\n",
       "  (9): ReLU()\n",
       "  (10): Linear(in_features=8, out_features=4, bias=True)\n",
       "  (11): ReLU()\n",
       "  (12): Linear(in_features=4, out_features=1, bias=True)\n",
       ")"
      ]
     },
     "execution_count": 25,
     "metadata": {},
     "output_type": "execute_result"
    },
    {
     "data": {
      "text/plain": [
       "Sequential(\n",
       "  (0): Linear(in_features=275, out_features=128, bias=True)\n",
       "  (1): ReLU()\n",
       "  (2): Linear(in_features=128, out_features=64, bias=True)\n",
       "  (3): ReLU()\n",
       "  (4): Linear(in_features=64, out_features=32, bias=True)\n",
       "  (5): ReLU()\n",
       "  (6): Linear(in_features=32, out_features=16, bias=True)\n",
       "  (7): ReLU()\n",
       "  (8): Linear(in_features=16, out_features=8, bias=True)\n",
       "  (9): ReLU()\n",
       "  (10): Linear(in_features=8, out_features=4, bias=True)\n",
       "  (11): ReLU()\n",
       "  (12): Linear(in_features=4, out_features=1, bias=True)\n",
       ")"
      ]
     },
     "execution_count": 25,
     "metadata": {},
     "output_type": "execute_result"
    },
    {
     "data": {
      "text/plain": [
       "Sequential(\n",
       "  (0): Linear(in_features=275, out_features=128, bias=True)\n",
       "  (1): ReLU()\n",
       "  (2): Linear(in_features=128, out_features=64, bias=True)\n",
       "  (3): ReLU()\n",
       "  (4): Linear(in_features=64, out_features=32, bias=True)\n",
       "  (5): ReLU()\n",
       "  (6): Linear(in_features=32, out_features=16, bias=True)\n",
       "  (7): ReLU()\n",
       "  (8): Linear(in_features=16, out_features=8, bias=True)\n",
       "  (9): ReLU()\n",
       "  (10): Linear(in_features=8, out_features=4, bias=True)\n",
       "  (11): ReLU()\n",
       "  (12): Linear(in_features=4, out_features=1, bias=True)\n",
       ")"
      ]
     },
     "execution_count": 25,
     "metadata": {},
     "output_type": "execute_result"
    },
    {
     "data": {
      "text/plain": [
       "Sequential(\n",
       "  (0): Linear(in_features=275, out_features=128, bias=True)\n",
       "  (1): ReLU()\n",
       "  (2): Linear(in_features=128, out_features=64, bias=True)\n",
       "  (3): ReLU()\n",
       "  (4): Linear(in_features=64, out_features=32, bias=True)\n",
       "  (5): ReLU()\n",
       "  (6): Linear(in_features=32, out_features=16, bias=True)\n",
       "  (7): ReLU()\n",
       "  (8): Linear(in_features=16, out_features=8, bias=True)\n",
       "  (9): ReLU()\n",
       "  (10): Linear(in_features=8, out_features=4, bias=True)\n",
       "  (11): ReLU()\n",
       "  (12): Linear(in_features=4, out_features=1, bias=True)\n",
       ")"
      ]
     },
     "execution_count": 25,
     "metadata": {},
     "output_type": "execute_result"
    },
    {
     "data": {
      "text/plain": [
       "Sequential(\n",
       "  (0): Linear(in_features=275, out_features=128, bias=True)\n",
       "  (1): ReLU()\n",
       "  (2): Linear(in_features=128, out_features=64, bias=True)\n",
       "  (3): ReLU()\n",
       "  (4): Linear(in_features=64, out_features=32, bias=True)\n",
       "  (5): ReLU()\n",
       "  (6): Linear(in_features=32, out_features=16, bias=True)\n",
       "  (7): ReLU()\n",
       "  (8): Linear(in_features=16, out_features=8, bias=True)\n",
       "  (9): ReLU()\n",
       "  (10): Linear(in_features=8, out_features=4, bias=True)\n",
       "  (11): ReLU()\n",
       "  (12): Linear(in_features=4, out_features=1, bias=True)\n",
       ")"
      ]
     },
     "execution_count": 25,
     "metadata": {},
     "output_type": "execute_result"
    },
    {
     "data": {
      "text/plain": [
       "Sequential(\n",
       "  (0): Linear(in_features=275, out_features=128, bias=True)\n",
       "  (1): ReLU()\n",
       "  (2): Linear(in_features=128, out_features=64, bias=True)\n",
       "  (3): ReLU()\n",
       "  (4): Linear(in_features=64, out_features=32, bias=True)\n",
       "  (5): ReLU()\n",
       "  (6): Linear(in_features=32, out_features=16, bias=True)\n",
       "  (7): ReLU()\n",
       "  (8): Linear(in_features=16, out_features=8, bias=True)\n",
       "  (9): ReLU()\n",
       "  (10): Linear(in_features=8, out_features=4, bias=True)\n",
       "  (11): ReLU()\n",
       "  (12): Linear(in_features=4, out_features=1, bias=True)\n",
       ")"
      ]
     },
     "execution_count": 25,
     "metadata": {},
     "output_type": "execute_result"
    },
    {
     "data": {
      "text/plain": [
       "Sequential(\n",
       "  (0): Linear(in_features=275, out_features=128, bias=True)\n",
       "  (1): ReLU()\n",
       "  (2): Linear(in_features=128, out_features=64, bias=True)\n",
       "  (3): ReLU()\n",
       "  (4): Linear(in_features=64, out_features=32, bias=True)\n",
       "  (5): ReLU()\n",
       "  (6): Linear(in_features=32, out_features=16, bias=True)\n",
       "  (7): ReLU()\n",
       "  (8): Linear(in_features=16, out_features=8, bias=True)\n",
       "  (9): ReLU()\n",
       "  (10): Linear(in_features=8, out_features=4, bias=True)\n",
       "  (11): ReLU()\n",
       "  (12): Linear(in_features=4, out_features=1, bias=True)\n",
       ")"
      ]
     },
     "execution_count": 25,
     "metadata": {},
     "output_type": "execute_result"
    },
    {
     "data": {
      "text/plain": [
       "Sequential(\n",
       "  (0): Linear(in_features=275, out_features=128, bias=True)\n",
       "  (1): ReLU()\n",
       "  (2): Linear(in_features=128, out_features=64, bias=True)\n",
       "  (3): ReLU()\n",
       "  (4): Linear(in_features=64, out_features=32, bias=True)\n",
       "  (5): ReLU()\n",
       "  (6): Linear(in_features=32, out_features=16, bias=True)\n",
       "  (7): ReLU()\n",
       "  (8): Linear(in_features=16, out_features=8, bias=True)\n",
       "  (9): ReLU()\n",
       "  (10): Linear(in_features=8, out_features=4, bias=True)\n",
       "  (11): ReLU()\n",
       "  (12): Linear(in_features=4, out_features=1, bias=True)\n",
       ")"
      ]
     },
     "execution_count": 25,
     "metadata": {},
     "output_type": "execute_result"
    },
    {
     "data": {
      "text/plain": [
       "Sequential(\n",
       "  (0): Linear(in_features=275, out_features=128, bias=True)\n",
       "  (1): ReLU()\n",
       "  (2): Linear(in_features=128, out_features=64, bias=True)\n",
       "  (3): ReLU()\n",
       "  (4): Linear(in_features=64, out_features=32, bias=True)\n",
       "  (5): ReLU()\n",
       "  (6): Linear(in_features=32, out_features=16, bias=True)\n",
       "  (7): ReLU()\n",
       "  (8): Linear(in_features=16, out_features=8, bias=True)\n",
       "  (9): ReLU()\n",
       "  (10): Linear(in_features=8, out_features=4, bias=True)\n",
       "  (11): ReLU()\n",
       "  (12): Linear(in_features=4, out_features=1, bias=True)\n",
       ")"
      ]
     },
     "execution_count": 25,
     "metadata": {},
     "output_type": "execute_result"
    },
    {
     "data": {
      "text/plain": [
       "Sequential(\n",
       "  (0): Linear(in_features=275, out_features=128, bias=True)\n",
       "  (1): ReLU()\n",
       "  (2): Linear(in_features=128, out_features=64, bias=True)\n",
       "  (3): ReLU()\n",
       "  (4): Linear(in_features=64, out_features=32, bias=True)\n",
       "  (5): ReLU()\n",
       "  (6): Linear(in_features=32, out_features=16, bias=True)\n",
       "  (7): ReLU()\n",
       "  (8): Linear(in_features=16, out_features=8, bias=True)\n",
       "  (9): ReLU()\n",
       "  (10): Linear(in_features=8, out_features=4, bias=True)\n",
       "  (11): ReLU()\n",
       "  (12): Linear(in_features=4, out_features=1, bias=True)\n",
       ")"
      ]
     },
     "execution_count": 25,
     "metadata": {},
     "output_type": "execute_result"
    },
    {
     "data": {
      "text/plain": [
       "Sequential(\n",
       "  (0): Linear(in_features=275, out_features=128, bias=True)\n",
       "  (1): ReLU()\n",
       "  (2): Linear(in_features=128, out_features=64, bias=True)\n",
       "  (3): ReLU()\n",
       "  (4): Linear(in_features=64, out_features=32, bias=True)\n",
       "  (5): ReLU()\n",
       "  (6): Linear(in_features=32, out_features=16, bias=True)\n",
       "  (7): ReLU()\n",
       "  (8): Linear(in_features=16, out_features=8, bias=True)\n",
       "  (9): ReLU()\n",
       "  (10): Linear(in_features=8, out_features=4, bias=True)\n",
       "  (11): ReLU()\n",
       "  (12): Linear(in_features=4, out_features=1, bias=True)\n",
       ")"
      ]
     },
     "execution_count": 25,
     "metadata": {},
     "output_type": "execute_result"
    },
    {
     "data": {
      "text/plain": [
       "Sequential(\n",
       "  (0): Linear(in_features=275, out_features=128, bias=True)\n",
       "  (1): ReLU()\n",
       "  (2): Linear(in_features=128, out_features=64, bias=True)\n",
       "  (3): ReLU()\n",
       "  (4): Linear(in_features=64, out_features=32, bias=True)\n",
       "  (5): ReLU()\n",
       "  (6): Linear(in_features=32, out_features=16, bias=True)\n",
       "  (7): ReLU()\n",
       "  (8): Linear(in_features=16, out_features=8, bias=True)\n",
       "  (9): ReLU()\n",
       "  (10): Linear(in_features=8, out_features=4, bias=True)\n",
       "  (11): ReLU()\n",
       "  (12): Linear(in_features=4, out_features=1, bias=True)\n",
       ")"
      ]
     },
     "execution_count": 25,
     "metadata": {},
     "output_type": "execute_result"
    },
    {
     "data": {
      "text/plain": [
       "Sequential(\n",
       "  (0): Linear(in_features=275, out_features=128, bias=True)\n",
       "  (1): ReLU()\n",
       "  (2): Linear(in_features=128, out_features=64, bias=True)\n",
       "  (3): ReLU()\n",
       "  (4): Linear(in_features=64, out_features=32, bias=True)\n",
       "  (5): ReLU()\n",
       "  (6): Linear(in_features=32, out_features=16, bias=True)\n",
       "  (7): ReLU()\n",
       "  (8): Linear(in_features=16, out_features=8, bias=True)\n",
       "  (9): ReLU()\n",
       "  (10): Linear(in_features=8, out_features=4, bias=True)\n",
       "  (11): ReLU()\n",
       "  (12): Linear(in_features=4, out_features=1, bias=True)\n",
       ")"
      ]
     },
     "execution_count": 25,
     "metadata": {},
     "output_type": "execute_result"
    },
    {
     "data": {
      "text/plain": [
       "Sequential(\n",
       "  (0): Linear(in_features=275, out_features=128, bias=True)\n",
       "  (1): ReLU()\n",
       "  (2): Linear(in_features=128, out_features=64, bias=True)\n",
       "  (3): ReLU()\n",
       "  (4): Linear(in_features=64, out_features=32, bias=True)\n",
       "  (5): ReLU()\n",
       "  (6): Linear(in_features=32, out_features=16, bias=True)\n",
       "  (7): ReLU()\n",
       "  (8): Linear(in_features=16, out_features=8, bias=True)\n",
       "  (9): ReLU()\n",
       "  (10): Linear(in_features=8, out_features=4, bias=True)\n",
       "  (11): ReLU()\n",
       "  (12): Linear(in_features=4, out_features=1, bias=True)\n",
       ")"
      ]
     },
     "execution_count": 25,
     "metadata": {},
     "output_type": "execute_result"
    },
    {
     "data": {
      "text/plain": [
       "Sequential(\n",
       "  (0): Linear(in_features=275, out_features=128, bias=True)\n",
       "  (1): ReLU()\n",
       "  (2): Linear(in_features=128, out_features=64, bias=True)\n",
       "  (3): ReLU()\n",
       "  (4): Linear(in_features=64, out_features=32, bias=True)\n",
       "  (5): ReLU()\n",
       "  (6): Linear(in_features=32, out_features=16, bias=True)\n",
       "  (7): ReLU()\n",
       "  (8): Linear(in_features=16, out_features=8, bias=True)\n",
       "  (9): ReLU()\n",
       "  (10): Linear(in_features=8, out_features=4, bias=True)\n",
       "  (11): ReLU()\n",
       "  (12): Linear(in_features=4, out_features=1, bias=True)\n",
       ")"
      ]
     },
     "execution_count": 25,
     "metadata": {},
     "output_type": "execute_result"
    },
    {
     "data": {
      "text/plain": [
       "Sequential(\n",
       "  (0): Linear(in_features=275, out_features=128, bias=True)\n",
       "  (1): ReLU()\n",
       "  (2): Linear(in_features=128, out_features=64, bias=True)\n",
       "  (3): ReLU()\n",
       "  (4): Linear(in_features=64, out_features=32, bias=True)\n",
       "  (5): ReLU()\n",
       "  (6): Linear(in_features=32, out_features=16, bias=True)\n",
       "  (7): ReLU()\n",
       "  (8): Linear(in_features=16, out_features=8, bias=True)\n",
       "  (9): ReLU()\n",
       "  (10): Linear(in_features=8, out_features=4, bias=True)\n",
       "  (11): ReLU()\n",
       "  (12): Linear(in_features=4, out_features=1, bias=True)\n",
       ")"
      ]
     },
     "execution_count": 25,
     "metadata": {},
     "output_type": "execute_result"
    },
    {
     "data": {
      "text/plain": [
       "Sequential(\n",
       "  (0): Linear(in_features=275, out_features=128, bias=True)\n",
       "  (1): ReLU()\n",
       "  (2): Linear(in_features=128, out_features=64, bias=True)\n",
       "  (3): ReLU()\n",
       "  (4): Linear(in_features=64, out_features=32, bias=True)\n",
       "  (5): ReLU()\n",
       "  (6): Linear(in_features=32, out_features=16, bias=True)\n",
       "  (7): ReLU()\n",
       "  (8): Linear(in_features=16, out_features=8, bias=True)\n",
       "  (9): ReLU()\n",
       "  (10): Linear(in_features=8, out_features=4, bias=True)\n",
       "  (11): ReLU()\n",
       "  (12): Linear(in_features=4, out_features=1, bias=True)\n",
       ")"
      ]
     },
     "execution_count": 25,
     "metadata": {},
     "output_type": "execute_result"
    },
    {
     "data": {
      "text/plain": [
       "Sequential(\n",
       "  (0): Linear(in_features=275, out_features=128, bias=True)\n",
       "  (1): ReLU()\n",
       "  (2): Linear(in_features=128, out_features=64, bias=True)\n",
       "  (3): ReLU()\n",
       "  (4): Linear(in_features=64, out_features=32, bias=True)\n",
       "  (5): ReLU()\n",
       "  (6): Linear(in_features=32, out_features=16, bias=True)\n",
       "  (7): ReLU()\n",
       "  (8): Linear(in_features=16, out_features=8, bias=True)\n",
       "  (9): ReLU()\n",
       "  (10): Linear(in_features=8, out_features=4, bias=True)\n",
       "  (11): ReLU()\n",
       "  (12): Linear(in_features=4, out_features=1, bias=True)\n",
       ")"
      ]
     },
     "execution_count": 25,
     "metadata": {},
     "output_type": "execute_result"
    },
    {
     "data": {
      "text/plain": [
       "Sequential(\n",
       "  (0): Linear(in_features=275, out_features=128, bias=True)\n",
       "  (1): ReLU()\n",
       "  (2): Linear(in_features=128, out_features=64, bias=True)\n",
       "  (3): ReLU()\n",
       "  (4): Linear(in_features=64, out_features=32, bias=True)\n",
       "  (5): ReLU()\n",
       "  (6): Linear(in_features=32, out_features=16, bias=True)\n",
       "  (7): ReLU()\n",
       "  (8): Linear(in_features=16, out_features=8, bias=True)\n",
       "  (9): ReLU()\n",
       "  (10): Linear(in_features=8, out_features=4, bias=True)\n",
       "  (11): ReLU()\n",
       "  (12): Linear(in_features=4, out_features=1, bias=True)\n",
       ")"
      ]
     },
     "execution_count": 25,
     "metadata": {},
     "output_type": "execute_result"
    },
    {
     "data": {
      "text/plain": [
       "Sequential(\n",
       "  (0): Linear(in_features=275, out_features=128, bias=True)\n",
       "  (1): ReLU()\n",
       "  (2): Linear(in_features=128, out_features=64, bias=True)\n",
       "  (3): ReLU()\n",
       "  (4): Linear(in_features=64, out_features=32, bias=True)\n",
       "  (5): ReLU()\n",
       "  (6): Linear(in_features=32, out_features=16, bias=True)\n",
       "  (7): ReLU()\n",
       "  (8): Linear(in_features=16, out_features=8, bias=True)\n",
       "  (9): ReLU()\n",
       "  (10): Linear(in_features=8, out_features=4, bias=True)\n",
       "  (11): ReLU()\n",
       "  (12): Linear(in_features=4, out_features=1, bias=True)\n",
       ")"
      ]
     },
     "execution_count": 25,
     "metadata": {},
     "output_type": "execute_result"
    },
    {
     "data": {
      "text/plain": [
       "Sequential(\n",
       "  (0): Linear(in_features=275, out_features=128, bias=True)\n",
       "  (1): ReLU()\n",
       "  (2): Linear(in_features=128, out_features=64, bias=True)\n",
       "  (3): ReLU()\n",
       "  (4): Linear(in_features=64, out_features=32, bias=True)\n",
       "  (5): ReLU()\n",
       "  (6): Linear(in_features=32, out_features=16, bias=True)\n",
       "  (7): ReLU()\n",
       "  (8): Linear(in_features=16, out_features=8, bias=True)\n",
       "  (9): ReLU()\n",
       "  (10): Linear(in_features=8, out_features=4, bias=True)\n",
       "  (11): ReLU()\n",
       "  (12): Linear(in_features=4, out_features=1, bias=True)\n",
       ")"
      ]
     },
     "execution_count": 25,
     "metadata": {},
     "output_type": "execute_result"
    },
    {
     "data": {
      "text/plain": [
       "Sequential(\n",
       "  (0): Linear(in_features=275, out_features=128, bias=True)\n",
       "  (1): ReLU()\n",
       "  (2): Linear(in_features=128, out_features=64, bias=True)\n",
       "  (3): ReLU()\n",
       "  (4): Linear(in_features=64, out_features=32, bias=True)\n",
       "  (5): ReLU()\n",
       "  (6): Linear(in_features=32, out_features=16, bias=True)\n",
       "  (7): ReLU()\n",
       "  (8): Linear(in_features=16, out_features=8, bias=True)\n",
       "  (9): ReLU()\n",
       "  (10): Linear(in_features=8, out_features=4, bias=True)\n",
       "  (11): ReLU()\n",
       "  (12): Linear(in_features=4, out_features=1, bias=True)\n",
       ")"
      ]
     },
     "execution_count": 25,
     "metadata": {},
     "output_type": "execute_result"
    },
    {
     "data": {
      "text/plain": [
       "Sequential(\n",
       "  (0): Linear(in_features=275, out_features=128, bias=True)\n",
       "  (1): ReLU()\n",
       "  (2): Linear(in_features=128, out_features=64, bias=True)\n",
       "  (3): ReLU()\n",
       "  (4): Linear(in_features=64, out_features=32, bias=True)\n",
       "  (5): ReLU()\n",
       "  (6): Linear(in_features=32, out_features=16, bias=True)\n",
       "  (7): ReLU()\n",
       "  (8): Linear(in_features=16, out_features=8, bias=True)\n",
       "  (9): ReLU()\n",
       "  (10): Linear(in_features=8, out_features=4, bias=True)\n",
       "  (11): ReLU()\n",
       "  (12): Linear(in_features=4, out_features=1, bias=True)\n",
       ")"
      ]
     },
     "execution_count": 25,
     "metadata": {},
     "output_type": "execute_result"
    },
    {
     "data": {
      "text/plain": [
       "Sequential(\n",
       "  (0): Linear(in_features=275, out_features=128, bias=True)\n",
       "  (1): ReLU()\n",
       "  (2): Linear(in_features=128, out_features=64, bias=True)\n",
       "  (3): ReLU()\n",
       "  (4): Linear(in_features=64, out_features=32, bias=True)\n",
       "  (5): ReLU()\n",
       "  (6): Linear(in_features=32, out_features=16, bias=True)\n",
       "  (7): ReLU()\n",
       "  (8): Linear(in_features=16, out_features=8, bias=True)\n",
       "  (9): ReLU()\n",
       "  (10): Linear(in_features=8, out_features=4, bias=True)\n",
       "  (11): ReLU()\n",
       "  (12): Linear(in_features=4, out_features=1, bias=True)\n",
       ")"
      ]
     },
     "execution_count": 25,
     "metadata": {},
     "output_type": "execute_result"
    },
    {
     "data": {
      "text/plain": [
       "Sequential(\n",
       "  (0): Linear(in_features=275, out_features=128, bias=True)\n",
       "  (1): ReLU()\n",
       "  (2): Linear(in_features=128, out_features=64, bias=True)\n",
       "  (3): ReLU()\n",
       "  (4): Linear(in_features=64, out_features=32, bias=True)\n",
       "  (5): ReLU()\n",
       "  (6): Linear(in_features=32, out_features=16, bias=True)\n",
       "  (7): ReLU()\n",
       "  (8): Linear(in_features=16, out_features=8, bias=True)\n",
       "  (9): ReLU()\n",
       "  (10): Linear(in_features=8, out_features=4, bias=True)\n",
       "  (11): ReLU()\n",
       "  (12): Linear(in_features=4, out_features=1, bias=True)\n",
       ")"
      ]
     },
     "execution_count": 25,
     "metadata": {},
     "output_type": "execute_result"
    },
    {
     "data": {
      "text/plain": [
       "Sequential(\n",
       "  (0): Linear(in_features=275, out_features=128, bias=True)\n",
       "  (1): ReLU()\n",
       "  (2): Linear(in_features=128, out_features=64, bias=True)\n",
       "  (3): ReLU()\n",
       "  (4): Linear(in_features=64, out_features=32, bias=True)\n",
       "  (5): ReLU()\n",
       "  (6): Linear(in_features=32, out_features=16, bias=True)\n",
       "  (7): ReLU()\n",
       "  (8): Linear(in_features=16, out_features=8, bias=True)\n",
       "  (9): ReLU()\n",
       "  (10): Linear(in_features=8, out_features=4, bias=True)\n",
       "  (11): ReLU()\n",
       "  (12): Linear(in_features=4, out_features=1, bias=True)\n",
       ")"
      ]
     },
     "execution_count": 25,
     "metadata": {},
     "output_type": "execute_result"
    },
    {
     "data": {
      "text/plain": [
       "Sequential(\n",
       "  (0): Linear(in_features=275, out_features=128, bias=True)\n",
       "  (1): ReLU()\n",
       "  (2): Linear(in_features=128, out_features=64, bias=True)\n",
       "  (3): ReLU()\n",
       "  (4): Linear(in_features=64, out_features=32, bias=True)\n",
       "  (5): ReLU()\n",
       "  (6): Linear(in_features=32, out_features=16, bias=True)\n",
       "  (7): ReLU()\n",
       "  (8): Linear(in_features=16, out_features=8, bias=True)\n",
       "  (9): ReLU()\n",
       "  (10): Linear(in_features=8, out_features=4, bias=True)\n",
       "  (11): ReLU()\n",
       "  (12): Linear(in_features=4, out_features=1, bias=True)\n",
       ")"
      ]
     },
     "execution_count": 25,
     "metadata": {},
     "output_type": "execute_result"
    },
    {
     "data": {
      "text/plain": [
       "Sequential(\n",
       "  (0): Linear(in_features=275, out_features=128, bias=True)\n",
       "  (1): ReLU()\n",
       "  (2): Linear(in_features=128, out_features=64, bias=True)\n",
       "  (3): ReLU()\n",
       "  (4): Linear(in_features=64, out_features=32, bias=True)\n",
       "  (5): ReLU()\n",
       "  (6): Linear(in_features=32, out_features=16, bias=True)\n",
       "  (7): ReLU()\n",
       "  (8): Linear(in_features=16, out_features=8, bias=True)\n",
       "  (9): ReLU()\n",
       "  (10): Linear(in_features=8, out_features=4, bias=True)\n",
       "  (11): ReLU()\n",
       "  (12): Linear(in_features=4, out_features=1, bias=True)\n",
       ")"
      ]
     },
     "execution_count": 25,
     "metadata": {},
     "output_type": "execute_result"
    },
    {
     "data": {
      "text/plain": [
       "Sequential(\n",
       "  (0): Linear(in_features=275, out_features=128, bias=True)\n",
       "  (1): ReLU()\n",
       "  (2): Linear(in_features=128, out_features=64, bias=True)\n",
       "  (3): ReLU()\n",
       "  (4): Linear(in_features=64, out_features=32, bias=True)\n",
       "  (5): ReLU()\n",
       "  (6): Linear(in_features=32, out_features=16, bias=True)\n",
       "  (7): ReLU()\n",
       "  (8): Linear(in_features=16, out_features=8, bias=True)\n",
       "  (9): ReLU()\n",
       "  (10): Linear(in_features=8, out_features=4, bias=True)\n",
       "  (11): ReLU()\n",
       "  (12): Linear(in_features=4, out_features=1, bias=True)\n",
       ")"
      ]
     },
     "execution_count": 25,
     "metadata": {},
     "output_type": "execute_result"
    },
    {
     "data": {
      "text/plain": [
       "Sequential(\n",
       "  (0): Linear(in_features=275, out_features=128, bias=True)\n",
       "  (1): ReLU()\n",
       "  (2): Linear(in_features=128, out_features=64, bias=True)\n",
       "  (3): ReLU()\n",
       "  (4): Linear(in_features=64, out_features=32, bias=True)\n",
       "  (5): ReLU()\n",
       "  (6): Linear(in_features=32, out_features=16, bias=True)\n",
       "  (7): ReLU()\n",
       "  (8): Linear(in_features=16, out_features=8, bias=True)\n",
       "  (9): ReLU()\n",
       "  (10): Linear(in_features=8, out_features=4, bias=True)\n",
       "  (11): ReLU()\n",
       "  (12): Linear(in_features=4, out_features=1, bias=True)\n",
       ")"
      ]
     },
     "execution_count": 25,
     "metadata": {},
     "output_type": "execute_result"
    },
    {
     "data": {
      "text/plain": [
       "Sequential(\n",
       "  (0): Linear(in_features=275, out_features=128, bias=True)\n",
       "  (1): ReLU()\n",
       "  (2): Linear(in_features=128, out_features=64, bias=True)\n",
       "  (3): ReLU()\n",
       "  (4): Linear(in_features=64, out_features=32, bias=True)\n",
       "  (5): ReLU()\n",
       "  (6): Linear(in_features=32, out_features=16, bias=True)\n",
       "  (7): ReLU()\n",
       "  (8): Linear(in_features=16, out_features=8, bias=True)\n",
       "  (9): ReLU()\n",
       "  (10): Linear(in_features=8, out_features=4, bias=True)\n",
       "  (11): ReLU()\n",
       "  (12): Linear(in_features=4, out_features=1, bias=True)\n",
       ")"
      ]
     },
     "execution_count": 25,
     "metadata": {},
     "output_type": "execute_result"
    },
    {
     "data": {
      "text/plain": [
       "Sequential(\n",
       "  (0): Linear(in_features=275, out_features=128, bias=True)\n",
       "  (1): ReLU()\n",
       "  (2): Linear(in_features=128, out_features=64, bias=True)\n",
       "  (3): ReLU()\n",
       "  (4): Linear(in_features=64, out_features=32, bias=True)\n",
       "  (5): ReLU()\n",
       "  (6): Linear(in_features=32, out_features=16, bias=True)\n",
       "  (7): ReLU()\n",
       "  (8): Linear(in_features=16, out_features=8, bias=True)\n",
       "  (9): ReLU()\n",
       "  (10): Linear(in_features=8, out_features=4, bias=True)\n",
       "  (11): ReLU()\n",
       "  (12): Linear(in_features=4, out_features=1, bias=True)\n",
       ")"
      ]
     },
     "execution_count": 25,
     "metadata": {},
     "output_type": "execute_result"
    },
    {
     "data": {
      "text/plain": [
       "Sequential(\n",
       "  (0): Linear(in_features=275, out_features=128, bias=True)\n",
       "  (1): ReLU()\n",
       "  (2): Linear(in_features=128, out_features=64, bias=True)\n",
       "  (3): ReLU()\n",
       "  (4): Linear(in_features=64, out_features=32, bias=True)\n",
       "  (5): ReLU()\n",
       "  (6): Linear(in_features=32, out_features=16, bias=True)\n",
       "  (7): ReLU()\n",
       "  (8): Linear(in_features=16, out_features=8, bias=True)\n",
       "  (9): ReLU()\n",
       "  (10): Linear(in_features=8, out_features=4, bias=True)\n",
       "  (11): ReLU()\n",
       "  (12): Linear(in_features=4, out_features=1, bias=True)\n",
       ")"
      ]
     },
     "execution_count": 25,
     "metadata": {},
     "output_type": "execute_result"
    },
    {
     "data": {
      "text/plain": [
       "Sequential(\n",
       "  (0): Linear(in_features=275, out_features=128, bias=True)\n",
       "  (1): ReLU()\n",
       "  (2): Linear(in_features=128, out_features=64, bias=True)\n",
       "  (3): ReLU()\n",
       "  (4): Linear(in_features=64, out_features=32, bias=True)\n",
       "  (5): ReLU()\n",
       "  (6): Linear(in_features=32, out_features=16, bias=True)\n",
       "  (7): ReLU()\n",
       "  (8): Linear(in_features=16, out_features=8, bias=True)\n",
       "  (9): ReLU()\n",
       "  (10): Linear(in_features=8, out_features=4, bias=True)\n",
       "  (11): ReLU()\n",
       "  (12): Linear(in_features=4, out_features=1, bias=True)\n",
       ")"
      ]
     },
     "execution_count": 25,
     "metadata": {},
     "output_type": "execute_result"
    },
    {
     "data": {
      "text/plain": [
       "Sequential(\n",
       "  (0): Linear(in_features=275, out_features=128, bias=True)\n",
       "  (1): ReLU()\n",
       "  (2): Linear(in_features=128, out_features=64, bias=True)\n",
       "  (3): ReLU()\n",
       "  (4): Linear(in_features=64, out_features=32, bias=True)\n",
       "  (5): ReLU()\n",
       "  (6): Linear(in_features=32, out_features=16, bias=True)\n",
       "  (7): ReLU()\n",
       "  (8): Linear(in_features=16, out_features=8, bias=True)\n",
       "  (9): ReLU()\n",
       "  (10): Linear(in_features=8, out_features=4, bias=True)\n",
       "  (11): ReLU()\n",
       "  (12): Linear(in_features=4, out_features=1, bias=True)\n",
       ")"
      ]
     },
     "execution_count": 25,
     "metadata": {},
     "output_type": "execute_result"
    },
    {
     "data": {
      "text/plain": [
       "Sequential(\n",
       "  (0): Linear(in_features=275, out_features=128, bias=True)\n",
       "  (1): ReLU()\n",
       "  (2): Linear(in_features=128, out_features=64, bias=True)\n",
       "  (3): ReLU()\n",
       "  (4): Linear(in_features=64, out_features=32, bias=True)\n",
       "  (5): ReLU()\n",
       "  (6): Linear(in_features=32, out_features=16, bias=True)\n",
       "  (7): ReLU()\n",
       "  (8): Linear(in_features=16, out_features=8, bias=True)\n",
       "  (9): ReLU()\n",
       "  (10): Linear(in_features=8, out_features=4, bias=True)\n",
       "  (11): ReLU()\n",
       "  (12): Linear(in_features=4, out_features=1, bias=True)\n",
       ")"
      ]
     },
     "execution_count": 25,
     "metadata": {},
     "output_type": "execute_result"
    },
    {
     "data": {
      "text/plain": [
       "Sequential(\n",
       "  (0): Linear(in_features=275, out_features=128, bias=True)\n",
       "  (1): ReLU()\n",
       "  (2): Linear(in_features=128, out_features=64, bias=True)\n",
       "  (3): ReLU()\n",
       "  (4): Linear(in_features=64, out_features=32, bias=True)\n",
       "  (5): ReLU()\n",
       "  (6): Linear(in_features=32, out_features=16, bias=True)\n",
       "  (7): ReLU()\n",
       "  (8): Linear(in_features=16, out_features=8, bias=True)\n",
       "  (9): ReLU()\n",
       "  (10): Linear(in_features=8, out_features=4, bias=True)\n",
       "  (11): ReLU()\n",
       "  (12): Linear(in_features=4, out_features=1, bias=True)\n",
       ")"
      ]
     },
     "execution_count": 25,
     "metadata": {},
     "output_type": "execute_result"
    },
    {
     "data": {
      "text/plain": [
       "Sequential(\n",
       "  (0): Linear(in_features=275, out_features=128, bias=True)\n",
       "  (1): ReLU()\n",
       "  (2): Linear(in_features=128, out_features=64, bias=True)\n",
       "  (3): ReLU()\n",
       "  (4): Linear(in_features=64, out_features=32, bias=True)\n",
       "  (5): ReLU()\n",
       "  (6): Linear(in_features=32, out_features=16, bias=True)\n",
       "  (7): ReLU()\n",
       "  (8): Linear(in_features=16, out_features=8, bias=True)\n",
       "  (9): ReLU()\n",
       "  (10): Linear(in_features=8, out_features=4, bias=True)\n",
       "  (11): ReLU()\n",
       "  (12): Linear(in_features=4, out_features=1, bias=True)\n",
       ")"
      ]
     },
     "execution_count": 25,
     "metadata": {},
     "output_type": "execute_result"
    },
    {
     "data": {
      "text/plain": [
       "Sequential(\n",
       "  (0): Linear(in_features=275, out_features=128, bias=True)\n",
       "  (1): ReLU()\n",
       "  (2): Linear(in_features=128, out_features=64, bias=True)\n",
       "  (3): ReLU()\n",
       "  (4): Linear(in_features=64, out_features=32, bias=True)\n",
       "  (5): ReLU()\n",
       "  (6): Linear(in_features=32, out_features=16, bias=True)\n",
       "  (7): ReLU()\n",
       "  (8): Linear(in_features=16, out_features=8, bias=True)\n",
       "  (9): ReLU()\n",
       "  (10): Linear(in_features=8, out_features=4, bias=True)\n",
       "  (11): ReLU()\n",
       "  (12): Linear(in_features=4, out_features=1, bias=True)\n",
       ")"
      ]
     },
     "execution_count": 25,
     "metadata": {},
     "output_type": "execute_result"
    },
    {
     "data": {
      "text/plain": [
       "Sequential(\n",
       "  (0): Linear(in_features=275, out_features=128, bias=True)\n",
       "  (1): ReLU()\n",
       "  (2): Linear(in_features=128, out_features=64, bias=True)\n",
       "  (3): ReLU()\n",
       "  (4): Linear(in_features=64, out_features=32, bias=True)\n",
       "  (5): ReLU()\n",
       "  (6): Linear(in_features=32, out_features=16, bias=True)\n",
       "  (7): ReLU()\n",
       "  (8): Linear(in_features=16, out_features=8, bias=True)\n",
       "  (9): ReLU()\n",
       "  (10): Linear(in_features=8, out_features=4, bias=True)\n",
       "  (11): ReLU()\n",
       "  (12): Linear(in_features=4, out_features=1, bias=True)\n",
       ")"
      ]
     },
     "execution_count": 25,
     "metadata": {},
     "output_type": "execute_result"
    },
    {
     "data": {
      "text/plain": [
       "Sequential(\n",
       "  (0): Linear(in_features=275, out_features=128, bias=True)\n",
       "  (1): ReLU()\n",
       "  (2): Linear(in_features=128, out_features=64, bias=True)\n",
       "  (3): ReLU()\n",
       "  (4): Linear(in_features=64, out_features=32, bias=True)\n",
       "  (5): ReLU()\n",
       "  (6): Linear(in_features=32, out_features=16, bias=True)\n",
       "  (7): ReLU()\n",
       "  (8): Linear(in_features=16, out_features=8, bias=True)\n",
       "  (9): ReLU()\n",
       "  (10): Linear(in_features=8, out_features=4, bias=True)\n",
       "  (11): ReLU()\n",
       "  (12): Linear(in_features=4, out_features=1, bias=True)\n",
       ")"
      ]
     },
     "execution_count": 25,
     "metadata": {},
     "output_type": "execute_result"
    },
    {
     "data": {
      "text/plain": [
       "Sequential(\n",
       "  (0): Linear(in_features=275, out_features=128, bias=True)\n",
       "  (1): ReLU()\n",
       "  (2): Linear(in_features=128, out_features=64, bias=True)\n",
       "  (3): ReLU()\n",
       "  (4): Linear(in_features=64, out_features=32, bias=True)\n",
       "  (5): ReLU()\n",
       "  (6): Linear(in_features=32, out_features=16, bias=True)\n",
       "  (7): ReLU()\n",
       "  (8): Linear(in_features=16, out_features=8, bias=True)\n",
       "  (9): ReLU()\n",
       "  (10): Linear(in_features=8, out_features=4, bias=True)\n",
       "  (11): ReLU()\n",
       "  (12): Linear(in_features=4, out_features=1, bias=True)\n",
       ")"
      ]
     },
     "execution_count": 25,
     "metadata": {},
     "output_type": "execute_result"
    },
    {
     "data": {
      "text/plain": [
       "Sequential(\n",
       "  (0): Linear(in_features=275, out_features=128, bias=True)\n",
       "  (1): ReLU()\n",
       "  (2): Linear(in_features=128, out_features=64, bias=True)\n",
       "  (3): ReLU()\n",
       "  (4): Linear(in_features=64, out_features=32, bias=True)\n",
       "  (5): ReLU()\n",
       "  (6): Linear(in_features=32, out_features=16, bias=True)\n",
       "  (7): ReLU()\n",
       "  (8): Linear(in_features=16, out_features=8, bias=True)\n",
       "  (9): ReLU()\n",
       "  (10): Linear(in_features=8, out_features=4, bias=True)\n",
       "  (11): ReLU()\n",
       "  (12): Linear(in_features=4, out_features=1, bias=True)\n",
       ")"
      ]
     },
     "execution_count": 25,
     "metadata": {},
     "output_type": "execute_result"
    },
    {
     "data": {
      "text/plain": [
       "Sequential(\n",
       "  (0): Linear(in_features=275, out_features=128, bias=True)\n",
       "  (1): ReLU()\n",
       "  (2): Linear(in_features=128, out_features=64, bias=True)\n",
       "  (3): ReLU()\n",
       "  (4): Linear(in_features=64, out_features=32, bias=True)\n",
       "  (5): ReLU()\n",
       "  (6): Linear(in_features=32, out_features=16, bias=True)\n",
       "  (7): ReLU()\n",
       "  (8): Linear(in_features=16, out_features=8, bias=True)\n",
       "  (9): ReLU()\n",
       "  (10): Linear(in_features=8, out_features=4, bias=True)\n",
       "  (11): ReLU()\n",
       "  (12): Linear(in_features=4, out_features=1, bias=True)\n",
       ")"
      ]
     },
     "execution_count": 25,
     "metadata": {},
     "output_type": "execute_result"
    },
    {
     "data": {
      "text/plain": [
       "Sequential(\n",
       "  (0): Linear(in_features=275, out_features=128, bias=True)\n",
       "  (1): ReLU()\n",
       "  (2): Linear(in_features=128, out_features=64, bias=True)\n",
       "  (3): ReLU()\n",
       "  (4): Linear(in_features=64, out_features=32, bias=True)\n",
       "  (5): ReLU()\n",
       "  (6): Linear(in_features=32, out_features=16, bias=True)\n",
       "  (7): ReLU()\n",
       "  (8): Linear(in_features=16, out_features=8, bias=True)\n",
       "  (9): ReLU()\n",
       "  (10): Linear(in_features=8, out_features=4, bias=True)\n",
       "  (11): ReLU()\n",
       "  (12): Linear(in_features=4, out_features=1, bias=True)\n",
       ")"
      ]
     },
     "execution_count": 25,
     "metadata": {},
     "output_type": "execute_result"
    },
    {
     "data": {
      "text/plain": [
       "Sequential(\n",
       "  (0): Linear(in_features=275, out_features=128, bias=True)\n",
       "  (1): ReLU()\n",
       "  (2): Linear(in_features=128, out_features=64, bias=True)\n",
       "  (3): ReLU()\n",
       "  (4): Linear(in_features=64, out_features=32, bias=True)\n",
       "  (5): ReLU()\n",
       "  (6): Linear(in_features=32, out_features=16, bias=True)\n",
       "  (7): ReLU()\n",
       "  (8): Linear(in_features=16, out_features=8, bias=True)\n",
       "  (9): ReLU()\n",
       "  (10): Linear(in_features=8, out_features=4, bias=True)\n",
       "  (11): ReLU()\n",
       "  (12): Linear(in_features=4, out_features=1, bias=True)\n",
       ")"
      ]
     },
     "execution_count": 25,
     "metadata": {},
     "output_type": "execute_result"
    },
    {
     "data": {
      "text/plain": [
       "Sequential(\n",
       "  (0): Linear(in_features=275, out_features=128, bias=True)\n",
       "  (1): ReLU()\n",
       "  (2): Linear(in_features=128, out_features=64, bias=True)\n",
       "  (3): ReLU()\n",
       "  (4): Linear(in_features=64, out_features=32, bias=True)\n",
       "  (5): ReLU()\n",
       "  (6): Linear(in_features=32, out_features=16, bias=True)\n",
       "  (7): ReLU()\n",
       "  (8): Linear(in_features=16, out_features=8, bias=True)\n",
       "  (9): ReLU()\n",
       "  (10): Linear(in_features=8, out_features=4, bias=True)\n",
       "  (11): ReLU()\n",
       "  (12): Linear(in_features=4, out_features=1, bias=True)\n",
       ")"
      ]
     },
     "execution_count": 25,
     "metadata": {},
     "output_type": "execute_result"
    },
    {
     "data": {
      "text/plain": [
       "Sequential(\n",
       "  (0): Linear(in_features=275, out_features=128, bias=True)\n",
       "  (1): ReLU()\n",
       "  (2): Linear(in_features=128, out_features=64, bias=True)\n",
       "  (3): ReLU()\n",
       "  (4): Linear(in_features=64, out_features=32, bias=True)\n",
       "  (5): ReLU()\n",
       "  (6): Linear(in_features=32, out_features=16, bias=True)\n",
       "  (7): ReLU()\n",
       "  (8): Linear(in_features=16, out_features=8, bias=True)\n",
       "  (9): ReLU()\n",
       "  (10): Linear(in_features=8, out_features=4, bias=True)\n",
       "  (11): ReLU()\n",
       "  (12): Linear(in_features=4, out_features=1, bias=True)\n",
       ")"
      ]
     },
     "execution_count": 25,
     "metadata": {},
     "output_type": "execute_result"
    },
    {
     "data": {
      "text/plain": [
       "Sequential(\n",
       "  (0): Linear(in_features=275, out_features=128, bias=True)\n",
       "  (1): ReLU()\n",
       "  (2): Linear(in_features=128, out_features=64, bias=True)\n",
       "  (3): ReLU()\n",
       "  (4): Linear(in_features=64, out_features=32, bias=True)\n",
       "  (5): ReLU()\n",
       "  (6): Linear(in_features=32, out_features=16, bias=True)\n",
       "  (7): ReLU()\n",
       "  (8): Linear(in_features=16, out_features=8, bias=True)\n",
       "  (9): ReLU()\n",
       "  (10): Linear(in_features=8, out_features=4, bias=True)\n",
       "  (11): ReLU()\n",
       "  (12): Linear(in_features=4, out_features=1, bias=True)\n",
       ")"
      ]
     },
     "execution_count": 25,
     "metadata": {},
     "output_type": "execute_result"
    },
    {
     "data": {
      "text/plain": [
       "Sequential(\n",
       "  (0): Linear(in_features=275, out_features=128, bias=True)\n",
       "  (1): ReLU()\n",
       "  (2): Linear(in_features=128, out_features=64, bias=True)\n",
       "  (3): ReLU()\n",
       "  (4): Linear(in_features=64, out_features=32, bias=True)\n",
       "  (5): ReLU()\n",
       "  (6): Linear(in_features=32, out_features=16, bias=True)\n",
       "  (7): ReLU()\n",
       "  (8): Linear(in_features=16, out_features=8, bias=True)\n",
       "  (9): ReLU()\n",
       "  (10): Linear(in_features=8, out_features=4, bias=True)\n",
       "  (11): ReLU()\n",
       "  (12): Linear(in_features=4, out_features=1, bias=True)\n",
       ")"
      ]
     },
     "execution_count": 25,
     "metadata": {},
     "output_type": "execute_result"
    },
    {
     "data": {
      "text/plain": [
       "Sequential(\n",
       "  (0): Linear(in_features=275, out_features=128, bias=True)\n",
       "  (1): ReLU()\n",
       "  (2): Linear(in_features=128, out_features=64, bias=True)\n",
       "  (3): ReLU()\n",
       "  (4): Linear(in_features=64, out_features=32, bias=True)\n",
       "  (5): ReLU()\n",
       "  (6): Linear(in_features=32, out_features=16, bias=True)\n",
       "  (7): ReLU()\n",
       "  (8): Linear(in_features=16, out_features=8, bias=True)\n",
       "  (9): ReLU()\n",
       "  (10): Linear(in_features=8, out_features=4, bias=True)\n",
       "  (11): ReLU()\n",
       "  (12): Linear(in_features=4, out_features=1, bias=True)\n",
       ")"
      ]
     },
     "execution_count": 25,
     "metadata": {},
     "output_type": "execute_result"
    },
    {
     "data": {
      "text/plain": [
       "Sequential(\n",
       "  (0): Linear(in_features=275, out_features=128, bias=True)\n",
       "  (1): ReLU()\n",
       "  (2): Linear(in_features=128, out_features=64, bias=True)\n",
       "  (3): ReLU()\n",
       "  (4): Linear(in_features=64, out_features=32, bias=True)\n",
       "  (5): ReLU()\n",
       "  (6): Linear(in_features=32, out_features=16, bias=True)\n",
       "  (7): ReLU()\n",
       "  (8): Linear(in_features=16, out_features=8, bias=True)\n",
       "  (9): ReLU()\n",
       "  (10): Linear(in_features=8, out_features=4, bias=True)\n",
       "  (11): ReLU()\n",
       "  (12): Linear(in_features=4, out_features=1, bias=True)\n",
       ")"
      ]
     },
     "execution_count": 25,
     "metadata": {},
     "output_type": "execute_result"
    },
    {
     "data": {
      "text/plain": [
       "Sequential(\n",
       "  (0): Linear(in_features=275, out_features=128, bias=True)\n",
       "  (1): ReLU()\n",
       "  (2): Linear(in_features=128, out_features=64, bias=True)\n",
       "  (3): ReLU()\n",
       "  (4): Linear(in_features=64, out_features=32, bias=True)\n",
       "  (5): ReLU()\n",
       "  (6): Linear(in_features=32, out_features=16, bias=True)\n",
       "  (7): ReLU()\n",
       "  (8): Linear(in_features=16, out_features=8, bias=True)\n",
       "  (9): ReLU()\n",
       "  (10): Linear(in_features=8, out_features=4, bias=True)\n",
       "  (11): ReLU()\n",
       "  (12): Linear(in_features=4, out_features=1, bias=True)\n",
       ")"
      ]
     },
     "execution_count": 25,
     "metadata": {},
     "output_type": "execute_result"
    },
    {
     "data": {
      "text/plain": [
       "Sequential(\n",
       "  (0): Linear(in_features=275, out_features=128, bias=True)\n",
       "  (1): ReLU()\n",
       "  (2): Linear(in_features=128, out_features=64, bias=True)\n",
       "  (3): ReLU()\n",
       "  (4): Linear(in_features=64, out_features=32, bias=True)\n",
       "  (5): ReLU()\n",
       "  (6): Linear(in_features=32, out_features=16, bias=True)\n",
       "  (7): ReLU()\n",
       "  (8): Linear(in_features=16, out_features=8, bias=True)\n",
       "  (9): ReLU()\n",
       "  (10): Linear(in_features=8, out_features=4, bias=True)\n",
       "  (11): ReLU()\n",
       "  (12): Linear(in_features=4, out_features=1, bias=True)\n",
       ")"
      ]
     },
     "execution_count": 25,
     "metadata": {},
     "output_type": "execute_result"
    },
    {
     "data": {
      "text/plain": [
       "Sequential(\n",
       "  (0): Linear(in_features=275, out_features=128, bias=True)\n",
       "  (1): ReLU()\n",
       "  (2): Linear(in_features=128, out_features=64, bias=True)\n",
       "  (3): ReLU()\n",
       "  (4): Linear(in_features=64, out_features=32, bias=True)\n",
       "  (5): ReLU()\n",
       "  (6): Linear(in_features=32, out_features=16, bias=True)\n",
       "  (7): ReLU()\n",
       "  (8): Linear(in_features=16, out_features=8, bias=True)\n",
       "  (9): ReLU()\n",
       "  (10): Linear(in_features=8, out_features=4, bias=True)\n",
       "  (11): ReLU()\n",
       "  (12): Linear(in_features=4, out_features=1, bias=True)\n",
       ")"
      ]
     },
     "execution_count": 25,
     "metadata": {},
     "output_type": "execute_result"
    },
    {
     "data": {
      "text/plain": [
       "Sequential(\n",
       "  (0): Linear(in_features=275, out_features=128, bias=True)\n",
       "  (1): ReLU()\n",
       "  (2): Linear(in_features=128, out_features=64, bias=True)\n",
       "  (3): ReLU()\n",
       "  (4): Linear(in_features=64, out_features=32, bias=True)\n",
       "  (5): ReLU()\n",
       "  (6): Linear(in_features=32, out_features=16, bias=True)\n",
       "  (7): ReLU()\n",
       "  (8): Linear(in_features=16, out_features=8, bias=True)\n",
       "  (9): ReLU()\n",
       "  (10): Linear(in_features=8, out_features=4, bias=True)\n",
       "  (11): ReLU()\n",
       "  (12): Linear(in_features=4, out_features=1, bias=True)\n",
       ")"
      ]
     },
     "execution_count": 25,
     "metadata": {},
     "output_type": "execute_result"
    },
    {
     "data": {
      "text/plain": [
       "Sequential(\n",
       "  (0): Linear(in_features=275, out_features=128, bias=True)\n",
       "  (1): ReLU()\n",
       "  (2): Linear(in_features=128, out_features=64, bias=True)\n",
       "  (3): ReLU()\n",
       "  (4): Linear(in_features=64, out_features=32, bias=True)\n",
       "  (5): ReLU()\n",
       "  (6): Linear(in_features=32, out_features=16, bias=True)\n",
       "  (7): ReLU()\n",
       "  (8): Linear(in_features=16, out_features=8, bias=True)\n",
       "  (9): ReLU()\n",
       "  (10): Linear(in_features=8, out_features=4, bias=True)\n",
       "  (11): ReLU()\n",
       "  (12): Linear(in_features=4, out_features=1, bias=True)\n",
       ")"
      ]
     },
     "execution_count": 25,
     "metadata": {},
     "output_type": "execute_result"
    },
    {
     "data": {
      "text/plain": [
       "Sequential(\n",
       "  (0): Linear(in_features=275, out_features=128, bias=True)\n",
       "  (1): ReLU()\n",
       "  (2): Linear(in_features=128, out_features=64, bias=True)\n",
       "  (3): ReLU()\n",
       "  (4): Linear(in_features=64, out_features=32, bias=True)\n",
       "  (5): ReLU()\n",
       "  (6): Linear(in_features=32, out_features=16, bias=True)\n",
       "  (7): ReLU()\n",
       "  (8): Linear(in_features=16, out_features=8, bias=True)\n",
       "  (9): ReLU()\n",
       "  (10): Linear(in_features=8, out_features=4, bias=True)\n",
       "  (11): ReLU()\n",
       "  (12): Linear(in_features=4, out_features=1, bias=True)\n",
       ")"
      ]
     },
     "execution_count": 25,
     "metadata": {},
     "output_type": "execute_result"
    },
    {
     "data": {
      "text/plain": [
       "Sequential(\n",
       "  (0): Linear(in_features=275, out_features=128, bias=True)\n",
       "  (1): ReLU()\n",
       "  (2): Linear(in_features=128, out_features=64, bias=True)\n",
       "  (3): ReLU()\n",
       "  (4): Linear(in_features=64, out_features=32, bias=True)\n",
       "  (5): ReLU()\n",
       "  (6): Linear(in_features=32, out_features=16, bias=True)\n",
       "  (7): ReLU()\n",
       "  (8): Linear(in_features=16, out_features=8, bias=True)\n",
       "  (9): ReLU()\n",
       "  (10): Linear(in_features=8, out_features=4, bias=True)\n",
       "  (11): ReLU()\n",
       "  (12): Linear(in_features=4, out_features=1, bias=True)\n",
       ")"
      ]
     },
     "execution_count": 25,
     "metadata": {},
     "output_type": "execute_result"
    },
    {
     "data": {
      "text/plain": [
       "Sequential(\n",
       "  (0): Linear(in_features=275, out_features=128, bias=True)\n",
       "  (1): ReLU()\n",
       "  (2): Linear(in_features=128, out_features=64, bias=True)\n",
       "  (3): ReLU()\n",
       "  (4): Linear(in_features=64, out_features=32, bias=True)\n",
       "  (5): ReLU()\n",
       "  (6): Linear(in_features=32, out_features=16, bias=True)\n",
       "  (7): ReLU()\n",
       "  (8): Linear(in_features=16, out_features=8, bias=True)\n",
       "  (9): ReLU()\n",
       "  (10): Linear(in_features=8, out_features=4, bias=True)\n",
       "  (11): ReLU()\n",
       "  (12): Linear(in_features=4, out_features=1, bias=True)\n",
       ")"
      ]
     },
     "execution_count": 25,
     "metadata": {},
     "output_type": "execute_result"
    },
    {
     "data": {
      "text/plain": [
       "Sequential(\n",
       "  (0): Linear(in_features=275, out_features=128, bias=True)\n",
       "  (1): ReLU()\n",
       "  (2): Linear(in_features=128, out_features=64, bias=True)\n",
       "  (3): ReLU()\n",
       "  (4): Linear(in_features=64, out_features=32, bias=True)\n",
       "  (5): ReLU()\n",
       "  (6): Linear(in_features=32, out_features=16, bias=True)\n",
       "  (7): ReLU()\n",
       "  (8): Linear(in_features=16, out_features=8, bias=True)\n",
       "  (9): ReLU()\n",
       "  (10): Linear(in_features=8, out_features=4, bias=True)\n",
       "  (11): ReLU()\n",
       "  (12): Linear(in_features=4, out_features=1, bias=True)\n",
       ")"
      ]
     },
     "execution_count": 25,
     "metadata": {},
     "output_type": "execute_result"
    },
    {
     "data": {
      "text/plain": [
       "Sequential(\n",
       "  (0): Linear(in_features=275, out_features=128, bias=True)\n",
       "  (1): ReLU()\n",
       "  (2): Linear(in_features=128, out_features=64, bias=True)\n",
       "  (3): ReLU()\n",
       "  (4): Linear(in_features=64, out_features=32, bias=True)\n",
       "  (5): ReLU()\n",
       "  (6): Linear(in_features=32, out_features=16, bias=True)\n",
       "  (7): ReLU()\n",
       "  (8): Linear(in_features=16, out_features=8, bias=True)\n",
       "  (9): ReLU()\n",
       "  (10): Linear(in_features=8, out_features=4, bias=True)\n",
       "  (11): ReLU()\n",
       "  (12): Linear(in_features=4, out_features=1, bias=True)\n",
       ")"
      ]
     },
     "execution_count": 25,
     "metadata": {},
     "output_type": "execute_result"
    },
    {
     "data": {
      "text/plain": [
       "Sequential(\n",
       "  (0): Linear(in_features=275, out_features=128, bias=True)\n",
       "  (1): ReLU()\n",
       "  (2): Linear(in_features=128, out_features=64, bias=True)\n",
       "  (3): ReLU()\n",
       "  (4): Linear(in_features=64, out_features=32, bias=True)\n",
       "  (5): ReLU()\n",
       "  (6): Linear(in_features=32, out_features=16, bias=True)\n",
       "  (7): ReLU()\n",
       "  (8): Linear(in_features=16, out_features=8, bias=True)\n",
       "  (9): ReLU()\n",
       "  (10): Linear(in_features=8, out_features=4, bias=True)\n",
       "  (11): ReLU()\n",
       "  (12): Linear(in_features=4, out_features=1, bias=True)\n",
       ")"
      ]
     },
     "execution_count": 25,
     "metadata": {},
     "output_type": "execute_result"
    },
    {
     "data": {
      "text/plain": [
       "Sequential(\n",
       "  (0): Linear(in_features=275, out_features=128, bias=True)\n",
       "  (1): ReLU()\n",
       "  (2): Linear(in_features=128, out_features=64, bias=True)\n",
       "  (3): ReLU()\n",
       "  (4): Linear(in_features=64, out_features=32, bias=True)\n",
       "  (5): ReLU()\n",
       "  (6): Linear(in_features=32, out_features=16, bias=True)\n",
       "  (7): ReLU()\n",
       "  (8): Linear(in_features=16, out_features=8, bias=True)\n",
       "  (9): ReLU()\n",
       "  (10): Linear(in_features=8, out_features=4, bias=True)\n",
       "  (11): ReLU()\n",
       "  (12): Linear(in_features=4, out_features=1, bias=True)\n",
       ")"
      ]
     },
     "execution_count": 25,
     "metadata": {},
     "output_type": "execute_result"
    },
    {
     "data": {
      "text/plain": [
       "Sequential(\n",
       "  (0): Linear(in_features=275, out_features=128, bias=True)\n",
       "  (1): ReLU()\n",
       "  (2): Linear(in_features=128, out_features=64, bias=True)\n",
       "  (3): ReLU()\n",
       "  (4): Linear(in_features=64, out_features=32, bias=True)\n",
       "  (5): ReLU()\n",
       "  (6): Linear(in_features=32, out_features=16, bias=True)\n",
       "  (7): ReLU()\n",
       "  (8): Linear(in_features=16, out_features=8, bias=True)\n",
       "  (9): ReLU()\n",
       "  (10): Linear(in_features=8, out_features=4, bias=True)\n",
       "  (11): ReLU()\n",
       "  (12): Linear(in_features=4, out_features=1, bias=True)\n",
       ")"
      ]
     },
     "execution_count": 25,
     "metadata": {},
     "output_type": "execute_result"
    },
    {
     "data": {
      "text/plain": [
       "Sequential(\n",
       "  (0): Linear(in_features=275, out_features=128, bias=True)\n",
       "  (1): ReLU()\n",
       "  (2): Linear(in_features=128, out_features=64, bias=True)\n",
       "  (3): ReLU()\n",
       "  (4): Linear(in_features=64, out_features=32, bias=True)\n",
       "  (5): ReLU()\n",
       "  (6): Linear(in_features=32, out_features=16, bias=True)\n",
       "  (7): ReLU()\n",
       "  (8): Linear(in_features=16, out_features=8, bias=True)\n",
       "  (9): ReLU()\n",
       "  (10): Linear(in_features=8, out_features=4, bias=True)\n",
       "  (11): ReLU()\n",
       "  (12): Linear(in_features=4, out_features=1, bias=True)\n",
       ")"
      ]
     },
     "execution_count": 25,
     "metadata": {},
     "output_type": "execute_result"
    },
    {
     "data": {
      "text/plain": [
       "Sequential(\n",
       "  (0): Linear(in_features=275, out_features=128, bias=True)\n",
       "  (1): ReLU()\n",
       "  (2): Linear(in_features=128, out_features=64, bias=True)\n",
       "  (3): ReLU()\n",
       "  (4): Linear(in_features=64, out_features=32, bias=True)\n",
       "  (5): ReLU()\n",
       "  (6): Linear(in_features=32, out_features=16, bias=True)\n",
       "  (7): ReLU()\n",
       "  (8): Linear(in_features=16, out_features=8, bias=True)\n",
       "  (9): ReLU()\n",
       "  (10): Linear(in_features=8, out_features=4, bias=True)\n",
       "  (11): ReLU()\n",
       "  (12): Linear(in_features=4, out_features=1, bias=True)\n",
       ")"
      ]
     },
     "execution_count": 25,
     "metadata": {},
     "output_type": "execute_result"
    },
    {
     "data": {
      "text/plain": [
       "Sequential(\n",
       "  (0): Linear(in_features=275, out_features=128, bias=True)\n",
       "  (1): ReLU()\n",
       "  (2): Linear(in_features=128, out_features=64, bias=True)\n",
       "  (3): ReLU()\n",
       "  (4): Linear(in_features=64, out_features=32, bias=True)\n",
       "  (5): ReLU()\n",
       "  (6): Linear(in_features=32, out_features=16, bias=True)\n",
       "  (7): ReLU()\n",
       "  (8): Linear(in_features=16, out_features=8, bias=True)\n",
       "  (9): ReLU()\n",
       "  (10): Linear(in_features=8, out_features=4, bias=True)\n",
       "  (11): ReLU()\n",
       "  (12): Linear(in_features=4, out_features=1, bias=True)\n",
       ")"
      ]
     },
     "execution_count": 25,
     "metadata": {},
     "output_type": "execute_result"
    },
    {
     "data": {
      "text/plain": [
       "Sequential(\n",
       "  (0): Linear(in_features=275, out_features=128, bias=True)\n",
       "  (1): ReLU()\n",
       "  (2): Linear(in_features=128, out_features=64, bias=True)\n",
       "  (3): ReLU()\n",
       "  (4): Linear(in_features=64, out_features=32, bias=True)\n",
       "  (5): ReLU()\n",
       "  (6): Linear(in_features=32, out_features=16, bias=True)\n",
       "  (7): ReLU()\n",
       "  (8): Linear(in_features=16, out_features=8, bias=True)\n",
       "  (9): ReLU()\n",
       "  (10): Linear(in_features=8, out_features=4, bias=True)\n",
       "  (11): ReLU()\n",
       "  (12): Linear(in_features=4, out_features=1, bias=True)\n",
       ")"
      ]
     },
     "execution_count": 25,
     "metadata": {},
     "output_type": "execute_result"
    },
    {
     "data": {
      "text/plain": [
       "Sequential(\n",
       "  (0): Linear(in_features=275, out_features=128, bias=True)\n",
       "  (1): ReLU()\n",
       "  (2): Linear(in_features=128, out_features=64, bias=True)\n",
       "  (3): ReLU()\n",
       "  (4): Linear(in_features=64, out_features=32, bias=True)\n",
       "  (5): ReLU()\n",
       "  (6): Linear(in_features=32, out_features=16, bias=True)\n",
       "  (7): ReLU()\n",
       "  (8): Linear(in_features=16, out_features=8, bias=True)\n",
       "  (9): ReLU()\n",
       "  (10): Linear(in_features=8, out_features=4, bias=True)\n",
       "  (11): ReLU()\n",
       "  (12): Linear(in_features=4, out_features=1, bias=True)\n",
       ")"
      ]
     },
     "execution_count": 25,
     "metadata": {},
     "output_type": "execute_result"
    },
    {
     "data": {
      "text/plain": [
       "Sequential(\n",
       "  (0): Linear(in_features=275, out_features=128, bias=True)\n",
       "  (1): ReLU()\n",
       "  (2): Linear(in_features=128, out_features=64, bias=True)\n",
       "  (3): ReLU()\n",
       "  (4): Linear(in_features=64, out_features=32, bias=True)\n",
       "  (5): ReLU()\n",
       "  (6): Linear(in_features=32, out_features=16, bias=True)\n",
       "  (7): ReLU()\n",
       "  (8): Linear(in_features=16, out_features=8, bias=True)\n",
       "  (9): ReLU()\n",
       "  (10): Linear(in_features=8, out_features=4, bias=True)\n",
       "  (11): ReLU()\n",
       "  (12): Linear(in_features=4, out_features=1, bias=True)\n",
       ")"
      ]
     },
     "execution_count": 25,
     "metadata": {},
     "output_type": "execute_result"
    },
    {
     "data": {
      "text/plain": [
       "Sequential(\n",
       "  (0): Linear(in_features=275, out_features=128, bias=True)\n",
       "  (1): ReLU()\n",
       "  (2): Linear(in_features=128, out_features=64, bias=True)\n",
       "  (3): ReLU()\n",
       "  (4): Linear(in_features=64, out_features=32, bias=True)\n",
       "  (5): ReLU()\n",
       "  (6): Linear(in_features=32, out_features=16, bias=True)\n",
       "  (7): ReLU()\n",
       "  (8): Linear(in_features=16, out_features=8, bias=True)\n",
       "  (9): ReLU()\n",
       "  (10): Linear(in_features=8, out_features=4, bias=True)\n",
       "  (11): ReLU()\n",
       "  (12): Linear(in_features=4, out_features=1, bias=True)\n",
       ")"
      ]
     },
     "execution_count": 25,
     "metadata": {},
     "output_type": "execute_result"
    },
    {
     "data": {
      "text/plain": [
       "Sequential(\n",
       "  (0): Linear(in_features=275, out_features=128, bias=True)\n",
       "  (1): ReLU()\n",
       "  (2): Linear(in_features=128, out_features=64, bias=True)\n",
       "  (3): ReLU()\n",
       "  (4): Linear(in_features=64, out_features=32, bias=True)\n",
       "  (5): ReLU()\n",
       "  (6): Linear(in_features=32, out_features=16, bias=True)\n",
       "  (7): ReLU()\n",
       "  (8): Linear(in_features=16, out_features=8, bias=True)\n",
       "  (9): ReLU()\n",
       "  (10): Linear(in_features=8, out_features=4, bias=True)\n",
       "  (11): ReLU()\n",
       "  (12): Linear(in_features=4, out_features=1, bias=True)\n",
       ")"
      ]
     },
     "execution_count": 25,
     "metadata": {},
     "output_type": "execute_result"
    },
    {
     "data": {
      "text/plain": [
       "Sequential(\n",
       "  (0): Linear(in_features=275, out_features=128, bias=True)\n",
       "  (1): ReLU()\n",
       "  (2): Linear(in_features=128, out_features=64, bias=True)\n",
       "  (3): ReLU()\n",
       "  (4): Linear(in_features=64, out_features=32, bias=True)\n",
       "  (5): ReLU()\n",
       "  (6): Linear(in_features=32, out_features=16, bias=True)\n",
       "  (7): ReLU()\n",
       "  (8): Linear(in_features=16, out_features=8, bias=True)\n",
       "  (9): ReLU()\n",
       "  (10): Linear(in_features=8, out_features=4, bias=True)\n",
       "  (11): ReLU()\n",
       "  (12): Linear(in_features=4, out_features=1, bias=True)\n",
       ")"
      ]
     },
     "execution_count": 25,
     "metadata": {},
     "output_type": "execute_result"
    },
    {
     "data": {
      "text/plain": [
       "Sequential(\n",
       "  (0): Linear(in_features=275, out_features=128, bias=True)\n",
       "  (1): ReLU()\n",
       "  (2): Linear(in_features=128, out_features=64, bias=True)\n",
       "  (3): ReLU()\n",
       "  (4): Linear(in_features=64, out_features=32, bias=True)\n",
       "  (5): ReLU()\n",
       "  (6): Linear(in_features=32, out_features=16, bias=True)\n",
       "  (7): ReLU()\n",
       "  (8): Linear(in_features=16, out_features=8, bias=True)\n",
       "  (9): ReLU()\n",
       "  (10): Linear(in_features=8, out_features=4, bias=True)\n",
       "  (11): ReLU()\n",
       "  (12): Linear(in_features=4, out_features=1, bias=True)\n",
       ")"
      ]
     },
     "execution_count": 25,
     "metadata": {},
     "output_type": "execute_result"
    },
    {
     "data": {
      "text/plain": [
       "Sequential(\n",
       "  (0): Linear(in_features=275, out_features=128, bias=True)\n",
       "  (1): ReLU()\n",
       "  (2): Linear(in_features=128, out_features=64, bias=True)\n",
       "  (3): ReLU()\n",
       "  (4): Linear(in_features=64, out_features=32, bias=True)\n",
       "  (5): ReLU()\n",
       "  (6): Linear(in_features=32, out_features=16, bias=True)\n",
       "  (7): ReLU()\n",
       "  (8): Linear(in_features=16, out_features=8, bias=True)\n",
       "  (9): ReLU()\n",
       "  (10): Linear(in_features=8, out_features=4, bias=True)\n",
       "  (11): ReLU()\n",
       "  (12): Linear(in_features=4, out_features=1, bias=True)\n",
       ")"
      ]
     },
     "execution_count": 25,
     "metadata": {},
     "output_type": "execute_result"
    },
    {
     "data": {
      "text/plain": [
       "Sequential(\n",
       "  (0): Linear(in_features=275, out_features=128, bias=True)\n",
       "  (1): ReLU()\n",
       "  (2): Linear(in_features=128, out_features=64, bias=True)\n",
       "  (3): ReLU()\n",
       "  (4): Linear(in_features=64, out_features=32, bias=True)\n",
       "  (5): ReLU()\n",
       "  (6): Linear(in_features=32, out_features=16, bias=True)\n",
       "  (7): ReLU()\n",
       "  (8): Linear(in_features=16, out_features=8, bias=True)\n",
       "  (9): ReLU()\n",
       "  (10): Linear(in_features=8, out_features=4, bias=True)\n",
       "  (11): ReLU()\n",
       "  (12): Linear(in_features=4, out_features=1, bias=True)\n",
       ")"
      ]
     },
     "execution_count": 25,
     "metadata": {},
     "output_type": "execute_result"
    },
    {
     "data": {
      "text/plain": [
       "Sequential(\n",
       "  (0): Linear(in_features=275, out_features=128, bias=True)\n",
       "  (1): ReLU()\n",
       "  (2): Linear(in_features=128, out_features=64, bias=True)\n",
       "  (3): ReLU()\n",
       "  (4): Linear(in_features=64, out_features=32, bias=True)\n",
       "  (5): ReLU()\n",
       "  (6): Linear(in_features=32, out_features=16, bias=True)\n",
       "  (7): ReLU()\n",
       "  (8): Linear(in_features=16, out_features=8, bias=True)\n",
       "  (9): ReLU()\n",
       "  (10): Linear(in_features=8, out_features=4, bias=True)\n",
       "  (11): ReLU()\n",
       "  (12): Linear(in_features=4, out_features=1, bias=True)\n",
       ")"
      ]
     },
     "execution_count": 25,
     "metadata": {},
     "output_type": "execute_result"
    },
    {
     "data": {
      "text/plain": [
       "Sequential(\n",
       "  (0): Linear(in_features=275, out_features=128, bias=True)\n",
       "  (1): ReLU()\n",
       "  (2): Linear(in_features=128, out_features=64, bias=True)\n",
       "  (3): ReLU()\n",
       "  (4): Linear(in_features=64, out_features=32, bias=True)\n",
       "  (5): ReLU()\n",
       "  (6): Linear(in_features=32, out_features=16, bias=True)\n",
       "  (7): ReLU()\n",
       "  (8): Linear(in_features=16, out_features=8, bias=True)\n",
       "  (9): ReLU()\n",
       "  (10): Linear(in_features=8, out_features=4, bias=True)\n",
       "  (11): ReLU()\n",
       "  (12): Linear(in_features=4, out_features=1, bias=True)\n",
       ")"
      ]
     },
     "execution_count": 25,
     "metadata": {},
     "output_type": "execute_result"
    },
    {
     "data": {
      "text/plain": [
       "Sequential(\n",
       "  (0): Linear(in_features=275, out_features=128, bias=True)\n",
       "  (1): ReLU()\n",
       "  (2): Linear(in_features=128, out_features=64, bias=True)\n",
       "  (3): ReLU()\n",
       "  (4): Linear(in_features=64, out_features=32, bias=True)\n",
       "  (5): ReLU()\n",
       "  (6): Linear(in_features=32, out_features=16, bias=True)\n",
       "  (7): ReLU()\n",
       "  (8): Linear(in_features=16, out_features=8, bias=True)\n",
       "  (9): ReLU()\n",
       "  (10): Linear(in_features=8, out_features=4, bias=True)\n",
       "  (11): ReLU()\n",
       "  (12): Linear(in_features=4, out_features=1, bias=True)\n",
       ")"
      ]
     },
     "execution_count": 25,
     "metadata": {},
     "output_type": "execute_result"
    },
    {
     "data": {
      "text/plain": [
       "Sequential(\n",
       "  (0): Linear(in_features=275, out_features=128, bias=True)\n",
       "  (1): ReLU()\n",
       "  (2): Linear(in_features=128, out_features=64, bias=True)\n",
       "  (3): ReLU()\n",
       "  (4): Linear(in_features=64, out_features=32, bias=True)\n",
       "  (5): ReLU()\n",
       "  (6): Linear(in_features=32, out_features=16, bias=True)\n",
       "  (7): ReLU()\n",
       "  (8): Linear(in_features=16, out_features=8, bias=True)\n",
       "  (9): ReLU()\n",
       "  (10): Linear(in_features=8, out_features=4, bias=True)\n",
       "  (11): ReLU()\n",
       "  (12): Linear(in_features=4, out_features=1, bias=True)\n",
       ")"
      ]
     },
     "execution_count": 25,
     "metadata": {},
     "output_type": "execute_result"
    },
    {
     "data": {
      "text/plain": [
       "Sequential(\n",
       "  (0): Linear(in_features=275, out_features=128, bias=True)\n",
       "  (1): ReLU()\n",
       "  (2): Linear(in_features=128, out_features=64, bias=True)\n",
       "  (3): ReLU()\n",
       "  (4): Linear(in_features=64, out_features=32, bias=True)\n",
       "  (5): ReLU()\n",
       "  (6): Linear(in_features=32, out_features=16, bias=True)\n",
       "  (7): ReLU()\n",
       "  (8): Linear(in_features=16, out_features=8, bias=True)\n",
       "  (9): ReLU()\n",
       "  (10): Linear(in_features=8, out_features=4, bias=True)\n",
       "  (11): ReLU()\n",
       "  (12): Linear(in_features=4, out_features=1, bias=True)\n",
       ")"
      ]
     },
     "execution_count": 25,
     "metadata": {},
     "output_type": "execute_result"
    },
    {
     "data": {
      "text/plain": [
       "Sequential(\n",
       "  (0): Linear(in_features=275, out_features=128, bias=True)\n",
       "  (1): ReLU()\n",
       "  (2): Linear(in_features=128, out_features=64, bias=True)\n",
       "  (3): ReLU()\n",
       "  (4): Linear(in_features=64, out_features=32, bias=True)\n",
       "  (5): ReLU()\n",
       "  (6): Linear(in_features=32, out_features=16, bias=True)\n",
       "  (7): ReLU()\n",
       "  (8): Linear(in_features=16, out_features=8, bias=True)\n",
       "  (9): ReLU()\n",
       "  (10): Linear(in_features=8, out_features=4, bias=True)\n",
       "  (11): ReLU()\n",
       "  (12): Linear(in_features=4, out_features=1, bias=True)\n",
       ")"
      ]
     },
     "execution_count": 25,
     "metadata": {},
     "output_type": "execute_result"
    },
    {
     "data": {
      "text/plain": [
       "Sequential(\n",
       "  (0): Linear(in_features=275, out_features=128, bias=True)\n",
       "  (1): ReLU()\n",
       "  (2): Linear(in_features=128, out_features=64, bias=True)\n",
       "  (3): ReLU()\n",
       "  (4): Linear(in_features=64, out_features=32, bias=True)\n",
       "  (5): ReLU()\n",
       "  (6): Linear(in_features=32, out_features=16, bias=True)\n",
       "  (7): ReLU()\n",
       "  (8): Linear(in_features=16, out_features=8, bias=True)\n",
       "  (9): ReLU()\n",
       "  (10): Linear(in_features=8, out_features=4, bias=True)\n",
       "  (11): ReLU()\n",
       "  (12): Linear(in_features=4, out_features=1, bias=True)\n",
       ")"
      ]
     },
     "execution_count": 25,
     "metadata": {},
     "output_type": "execute_result"
    },
    {
     "data": {
      "text/plain": [
       "Sequential(\n",
       "  (0): Linear(in_features=275, out_features=128, bias=True)\n",
       "  (1): ReLU()\n",
       "  (2): Linear(in_features=128, out_features=64, bias=True)\n",
       "  (3): ReLU()\n",
       "  (4): Linear(in_features=64, out_features=32, bias=True)\n",
       "  (5): ReLU()\n",
       "  (6): Linear(in_features=32, out_features=16, bias=True)\n",
       "  (7): ReLU()\n",
       "  (8): Linear(in_features=16, out_features=8, bias=True)\n",
       "  (9): ReLU()\n",
       "  (10): Linear(in_features=8, out_features=4, bias=True)\n",
       "  (11): ReLU()\n",
       "  (12): Linear(in_features=4, out_features=1, bias=True)\n",
       ")"
      ]
     },
     "execution_count": 25,
     "metadata": {},
     "output_type": "execute_result"
    },
    {
     "data": {
      "text/plain": [
       "Sequential(\n",
       "  (0): Linear(in_features=275, out_features=128, bias=True)\n",
       "  (1): ReLU()\n",
       "  (2): Linear(in_features=128, out_features=64, bias=True)\n",
       "  (3): ReLU()\n",
       "  (4): Linear(in_features=64, out_features=32, bias=True)\n",
       "  (5): ReLU()\n",
       "  (6): Linear(in_features=32, out_features=16, bias=True)\n",
       "  (7): ReLU()\n",
       "  (8): Linear(in_features=16, out_features=8, bias=True)\n",
       "  (9): ReLU()\n",
       "  (10): Linear(in_features=8, out_features=4, bias=True)\n",
       "  (11): ReLU()\n",
       "  (12): Linear(in_features=4, out_features=1, bias=True)\n",
       ")"
      ]
     },
     "execution_count": 25,
     "metadata": {},
     "output_type": "execute_result"
    },
    {
     "data": {
      "text/plain": [
       "Sequential(\n",
       "  (0): Linear(in_features=275, out_features=128, bias=True)\n",
       "  (1): ReLU()\n",
       "  (2): Linear(in_features=128, out_features=64, bias=True)\n",
       "  (3): ReLU()\n",
       "  (4): Linear(in_features=64, out_features=32, bias=True)\n",
       "  (5): ReLU()\n",
       "  (6): Linear(in_features=32, out_features=16, bias=True)\n",
       "  (7): ReLU()\n",
       "  (8): Linear(in_features=16, out_features=8, bias=True)\n",
       "  (9): ReLU()\n",
       "  (10): Linear(in_features=8, out_features=4, bias=True)\n",
       "  (11): ReLU()\n",
       "  (12): Linear(in_features=4, out_features=1, bias=True)\n",
       ")"
      ]
     },
     "execution_count": 25,
     "metadata": {},
     "output_type": "execute_result"
    },
    {
     "data": {
      "text/plain": [
       "Sequential(\n",
       "  (0): Linear(in_features=275, out_features=128, bias=True)\n",
       "  (1): ReLU()\n",
       "  (2): Linear(in_features=128, out_features=64, bias=True)\n",
       "  (3): ReLU()\n",
       "  (4): Linear(in_features=64, out_features=32, bias=True)\n",
       "  (5): ReLU()\n",
       "  (6): Linear(in_features=32, out_features=16, bias=True)\n",
       "  (7): ReLU()\n",
       "  (8): Linear(in_features=16, out_features=8, bias=True)\n",
       "  (9): ReLU()\n",
       "  (10): Linear(in_features=8, out_features=4, bias=True)\n",
       "  (11): ReLU()\n",
       "  (12): Linear(in_features=4, out_features=1, bias=True)\n",
       ")"
      ]
     },
     "execution_count": 25,
     "metadata": {},
     "output_type": "execute_result"
    },
    {
     "data": {
      "text/plain": [
       "Sequential(\n",
       "  (0): Linear(in_features=275, out_features=128, bias=True)\n",
       "  (1): ReLU()\n",
       "  (2): Linear(in_features=128, out_features=64, bias=True)\n",
       "  (3): ReLU()\n",
       "  (4): Linear(in_features=64, out_features=32, bias=True)\n",
       "  (5): ReLU()\n",
       "  (6): Linear(in_features=32, out_features=16, bias=True)\n",
       "  (7): ReLU()\n",
       "  (8): Linear(in_features=16, out_features=8, bias=True)\n",
       "  (9): ReLU()\n",
       "  (10): Linear(in_features=8, out_features=4, bias=True)\n",
       "  (11): ReLU()\n",
       "  (12): Linear(in_features=4, out_features=1, bias=True)\n",
       ")"
      ]
     },
     "execution_count": 25,
     "metadata": {},
     "output_type": "execute_result"
    },
    {
     "data": {
      "text/plain": [
       "Sequential(\n",
       "  (0): Linear(in_features=275, out_features=128, bias=True)\n",
       "  (1): ReLU()\n",
       "  (2): Linear(in_features=128, out_features=64, bias=True)\n",
       "  (3): ReLU()\n",
       "  (4): Linear(in_features=64, out_features=32, bias=True)\n",
       "  (5): ReLU()\n",
       "  (6): Linear(in_features=32, out_features=16, bias=True)\n",
       "  (7): ReLU()\n",
       "  (8): Linear(in_features=16, out_features=8, bias=True)\n",
       "  (9): ReLU()\n",
       "  (10): Linear(in_features=8, out_features=4, bias=True)\n",
       "  (11): ReLU()\n",
       "  (12): Linear(in_features=4, out_features=1, bias=True)\n",
       ")"
      ]
     },
     "execution_count": 25,
     "metadata": {},
     "output_type": "execute_result"
    },
    {
     "data": {
      "text/plain": [
       "Sequential(\n",
       "  (0): Linear(in_features=275, out_features=128, bias=True)\n",
       "  (1): ReLU()\n",
       "  (2): Linear(in_features=128, out_features=64, bias=True)\n",
       "  (3): ReLU()\n",
       "  (4): Linear(in_features=64, out_features=32, bias=True)\n",
       "  (5): ReLU()\n",
       "  (6): Linear(in_features=32, out_features=16, bias=True)\n",
       "  (7): ReLU()\n",
       "  (8): Linear(in_features=16, out_features=8, bias=True)\n",
       "  (9): ReLU()\n",
       "  (10): Linear(in_features=8, out_features=4, bias=True)\n",
       "  (11): ReLU()\n",
       "  (12): Linear(in_features=4, out_features=1, bias=True)\n",
       ")"
      ]
     },
     "execution_count": 25,
     "metadata": {},
     "output_type": "execute_result"
    },
    {
     "data": {
      "text/plain": [
       "Sequential(\n",
       "  (0): Linear(in_features=275, out_features=128, bias=True)\n",
       "  (1): ReLU()\n",
       "  (2): Linear(in_features=128, out_features=64, bias=True)\n",
       "  (3): ReLU()\n",
       "  (4): Linear(in_features=64, out_features=32, bias=True)\n",
       "  (5): ReLU()\n",
       "  (6): Linear(in_features=32, out_features=16, bias=True)\n",
       "  (7): ReLU()\n",
       "  (8): Linear(in_features=16, out_features=8, bias=True)\n",
       "  (9): ReLU()\n",
       "  (10): Linear(in_features=8, out_features=4, bias=True)\n",
       "  (11): ReLU()\n",
       "  (12): Linear(in_features=4, out_features=1, bias=True)\n",
       ")"
      ]
     },
     "execution_count": 25,
     "metadata": {},
     "output_type": "execute_result"
    },
    {
     "data": {
      "text/plain": [
       "Sequential(\n",
       "  (0): Linear(in_features=275, out_features=128, bias=True)\n",
       "  (1): ReLU()\n",
       "  (2): Linear(in_features=128, out_features=64, bias=True)\n",
       "  (3): ReLU()\n",
       "  (4): Linear(in_features=64, out_features=32, bias=True)\n",
       "  (5): ReLU()\n",
       "  (6): Linear(in_features=32, out_features=16, bias=True)\n",
       "  (7): ReLU()\n",
       "  (8): Linear(in_features=16, out_features=8, bias=True)\n",
       "  (9): ReLU()\n",
       "  (10): Linear(in_features=8, out_features=4, bias=True)\n",
       "  (11): ReLU()\n",
       "  (12): Linear(in_features=4, out_features=1, bias=True)\n",
       ")"
      ]
     },
     "execution_count": 25,
     "metadata": {},
     "output_type": "execute_result"
    },
    {
     "data": {
      "text/plain": [
       "Sequential(\n",
       "  (0): Linear(in_features=275, out_features=128, bias=True)\n",
       "  (1): ReLU()\n",
       "  (2): Linear(in_features=128, out_features=64, bias=True)\n",
       "  (3): ReLU()\n",
       "  (4): Linear(in_features=64, out_features=32, bias=True)\n",
       "  (5): ReLU()\n",
       "  (6): Linear(in_features=32, out_features=16, bias=True)\n",
       "  (7): ReLU()\n",
       "  (8): Linear(in_features=16, out_features=8, bias=True)\n",
       "  (9): ReLU()\n",
       "  (10): Linear(in_features=8, out_features=4, bias=True)\n",
       "  (11): ReLU()\n",
       "  (12): Linear(in_features=4, out_features=1, bias=True)\n",
       ")"
      ]
     },
     "execution_count": 25,
     "metadata": {},
     "output_type": "execute_result"
    },
    {
     "data": {
      "text/plain": [
       "Sequential(\n",
       "  (0): Linear(in_features=275, out_features=128, bias=True)\n",
       "  (1): ReLU()\n",
       "  (2): Linear(in_features=128, out_features=64, bias=True)\n",
       "  (3): ReLU()\n",
       "  (4): Linear(in_features=64, out_features=32, bias=True)\n",
       "  (5): ReLU()\n",
       "  (6): Linear(in_features=32, out_features=16, bias=True)\n",
       "  (7): ReLU()\n",
       "  (8): Linear(in_features=16, out_features=8, bias=True)\n",
       "  (9): ReLU()\n",
       "  (10): Linear(in_features=8, out_features=4, bias=True)\n",
       "  (11): ReLU()\n",
       "  (12): Linear(in_features=4, out_features=1, bias=True)\n",
       ")"
      ]
     },
     "execution_count": 25,
     "metadata": {},
     "output_type": "execute_result"
    },
    {
     "data": {
      "text/plain": [
       "Sequential(\n",
       "  (0): Linear(in_features=275, out_features=128, bias=True)\n",
       "  (1): ReLU()\n",
       "  (2): Linear(in_features=128, out_features=64, bias=True)\n",
       "  (3): ReLU()\n",
       "  (4): Linear(in_features=64, out_features=32, bias=True)\n",
       "  (5): ReLU()\n",
       "  (6): Linear(in_features=32, out_features=16, bias=True)\n",
       "  (7): ReLU()\n",
       "  (8): Linear(in_features=16, out_features=8, bias=True)\n",
       "  (9): ReLU()\n",
       "  (10): Linear(in_features=8, out_features=4, bias=True)\n",
       "  (11): ReLU()\n",
       "  (12): Linear(in_features=4, out_features=1, bias=True)\n",
       ")"
      ]
     },
     "execution_count": 25,
     "metadata": {},
     "output_type": "execute_result"
    },
    {
     "data": {
      "text/plain": [
       "Sequential(\n",
       "  (0): Linear(in_features=275, out_features=128, bias=True)\n",
       "  (1): ReLU()\n",
       "  (2): Linear(in_features=128, out_features=64, bias=True)\n",
       "  (3): ReLU()\n",
       "  (4): Linear(in_features=64, out_features=32, bias=True)\n",
       "  (5): ReLU()\n",
       "  (6): Linear(in_features=32, out_features=16, bias=True)\n",
       "  (7): ReLU()\n",
       "  (8): Linear(in_features=16, out_features=8, bias=True)\n",
       "  (9): ReLU()\n",
       "  (10): Linear(in_features=8, out_features=4, bias=True)\n",
       "  (11): ReLU()\n",
       "  (12): Linear(in_features=4, out_features=1, bias=True)\n",
       ")"
      ]
     },
     "execution_count": 25,
     "metadata": {},
     "output_type": "execute_result"
    },
    {
     "data": {
      "text/plain": [
       "Sequential(\n",
       "  (0): Linear(in_features=275, out_features=128, bias=True)\n",
       "  (1): ReLU()\n",
       "  (2): Linear(in_features=128, out_features=64, bias=True)\n",
       "  (3): ReLU()\n",
       "  (4): Linear(in_features=64, out_features=32, bias=True)\n",
       "  (5): ReLU()\n",
       "  (6): Linear(in_features=32, out_features=16, bias=True)\n",
       "  (7): ReLU()\n",
       "  (8): Linear(in_features=16, out_features=8, bias=True)\n",
       "  (9): ReLU()\n",
       "  (10): Linear(in_features=8, out_features=4, bias=True)\n",
       "  (11): ReLU()\n",
       "  (12): Linear(in_features=4, out_features=1, bias=True)\n",
       ")"
      ]
     },
     "execution_count": 25,
     "metadata": {},
     "output_type": "execute_result"
    },
    {
     "data": {
      "text/plain": [
       "Sequential(\n",
       "  (0): Linear(in_features=275, out_features=128, bias=True)\n",
       "  (1): ReLU()\n",
       "  (2): Linear(in_features=128, out_features=64, bias=True)\n",
       "  (3): ReLU()\n",
       "  (4): Linear(in_features=64, out_features=32, bias=True)\n",
       "  (5): ReLU()\n",
       "  (6): Linear(in_features=32, out_features=16, bias=True)\n",
       "  (7): ReLU()\n",
       "  (8): Linear(in_features=16, out_features=8, bias=True)\n",
       "  (9): ReLU()\n",
       "  (10): Linear(in_features=8, out_features=4, bias=True)\n",
       "  (11): ReLU()\n",
       "  (12): Linear(in_features=4, out_features=1, bias=True)\n",
       ")"
      ]
     },
     "execution_count": 25,
     "metadata": {},
     "output_type": "execute_result"
    },
    {
     "data": {
      "text/plain": [
       "Sequential(\n",
       "  (0): Linear(in_features=275, out_features=128, bias=True)\n",
       "  (1): ReLU()\n",
       "  (2): Linear(in_features=128, out_features=64, bias=True)\n",
       "  (3): ReLU()\n",
       "  (4): Linear(in_features=64, out_features=32, bias=True)\n",
       "  (5): ReLU()\n",
       "  (6): Linear(in_features=32, out_features=16, bias=True)\n",
       "  (7): ReLU()\n",
       "  (8): Linear(in_features=16, out_features=8, bias=True)\n",
       "  (9): ReLU()\n",
       "  (10): Linear(in_features=8, out_features=4, bias=True)\n",
       "  (11): ReLU()\n",
       "  (12): Linear(in_features=4, out_features=1, bias=True)\n",
       ")"
      ]
     },
     "execution_count": 25,
     "metadata": {},
     "output_type": "execute_result"
    },
    {
     "data": {
      "text/plain": [
       "Sequential(\n",
       "  (0): Linear(in_features=275, out_features=128, bias=True)\n",
       "  (1): ReLU()\n",
       "  (2): Linear(in_features=128, out_features=64, bias=True)\n",
       "  (3): ReLU()\n",
       "  (4): Linear(in_features=64, out_features=32, bias=True)\n",
       "  (5): ReLU()\n",
       "  (6): Linear(in_features=32, out_features=16, bias=True)\n",
       "  (7): ReLU()\n",
       "  (8): Linear(in_features=16, out_features=8, bias=True)\n",
       "  (9): ReLU()\n",
       "  (10): Linear(in_features=8, out_features=4, bias=True)\n",
       "  (11): ReLU()\n",
       "  (12): Linear(in_features=4, out_features=1, bias=True)\n",
       ")"
      ]
     },
     "execution_count": 25,
     "metadata": {},
     "output_type": "execute_result"
    },
    {
     "data": {
      "text/plain": [
       "Sequential(\n",
       "  (0): Linear(in_features=275, out_features=128, bias=True)\n",
       "  (1): ReLU()\n",
       "  (2): Linear(in_features=128, out_features=64, bias=True)\n",
       "  (3): ReLU()\n",
       "  (4): Linear(in_features=64, out_features=32, bias=True)\n",
       "  (5): ReLU()\n",
       "  (6): Linear(in_features=32, out_features=16, bias=True)\n",
       "  (7): ReLU()\n",
       "  (8): Linear(in_features=16, out_features=8, bias=True)\n",
       "  (9): ReLU()\n",
       "  (10): Linear(in_features=8, out_features=4, bias=True)\n",
       "  (11): ReLU()\n",
       "  (12): Linear(in_features=4, out_features=1, bias=True)\n",
       ")"
      ]
     },
     "execution_count": 25,
     "metadata": {},
     "output_type": "execute_result"
    },
    {
     "data": {
      "text/plain": [
       "Sequential(\n",
       "  (0): Linear(in_features=275, out_features=128, bias=True)\n",
       "  (1): ReLU()\n",
       "  (2): Linear(in_features=128, out_features=64, bias=True)\n",
       "  (3): ReLU()\n",
       "  (4): Linear(in_features=64, out_features=32, bias=True)\n",
       "  (5): ReLU()\n",
       "  (6): Linear(in_features=32, out_features=16, bias=True)\n",
       "  (7): ReLU()\n",
       "  (8): Linear(in_features=16, out_features=8, bias=True)\n",
       "  (9): ReLU()\n",
       "  (10): Linear(in_features=8, out_features=4, bias=True)\n",
       "  (11): ReLU()\n",
       "  (12): Linear(in_features=4, out_features=1, bias=True)\n",
       ")"
      ]
     },
     "execution_count": 25,
     "metadata": {},
     "output_type": "execute_result"
    },
    {
     "data": {
      "text/plain": [
       "Sequential(\n",
       "  (0): Linear(in_features=275, out_features=128, bias=True)\n",
       "  (1): ReLU()\n",
       "  (2): Linear(in_features=128, out_features=64, bias=True)\n",
       "  (3): ReLU()\n",
       "  (4): Linear(in_features=64, out_features=32, bias=True)\n",
       "  (5): ReLU()\n",
       "  (6): Linear(in_features=32, out_features=16, bias=True)\n",
       "  (7): ReLU()\n",
       "  (8): Linear(in_features=16, out_features=8, bias=True)\n",
       "  (9): ReLU()\n",
       "  (10): Linear(in_features=8, out_features=4, bias=True)\n",
       "  (11): ReLU()\n",
       "  (12): Linear(in_features=4, out_features=1, bias=True)\n",
       ")"
      ]
     },
     "execution_count": 25,
     "metadata": {},
     "output_type": "execute_result"
    },
    {
     "data": {
      "text/plain": [
       "Sequential(\n",
       "  (0): Linear(in_features=275, out_features=128, bias=True)\n",
       "  (1): ReLU()\n",
       "  (2): Linear(in_features=128, out_features=64, bias=True)\n",
       "  (3): ReLU()\n",
       "  (4): Linear(in_features=64, out_features=32, bias=True)\n",
       "  (5): ReLU()\n",
       "  (6): Linear(in_features=32, out_features=16, bias=True)\n",
       "  (7): ReLU()\n",
       "  (8): Linear(in_features=16, out_features=8, bias=True)\n",
       "  (9): ReLU()\n",
       "  (10): Linear(in_features=8, out_features=4, bias=True)\n",
       "  (11): ReLU()\n",
       "  (12): Linear(in_features=4, out_features=1, bias=True)\n",
       ")"
      ]
     },
     "execution_count": 25,
     "metadata": {},
     "output_type": "execute_result"
    },
    {
     "data": {
      "text/plain": [
       "Sequential(\n",
       "  (0): Linear(in_features=275, out_features=128, bias=True)\n",
       "  (1): ReLU()\n",
       "  (2): Linear(in_features=128, out_features=64, bias=True)\n",
       "  (3): ReLU()\n",
       "  (4): Linear(in_features=64, out_features=32, bias=True)\n",
       "  (5): ReLU()\n",
       "  (6): Linear(in_features=32, out_features=16, bias=True)\n",
       "  (7): ReLU()\n",
       "  (8): Linear(in_features=16, out_features=8, bias=True)\n",
       "  (9): ReLU()\n",
       "  (10): Linear(in_features=8, out_features=4, bias=True)\n",
       "  (11): ReLU()\n",
       "  (12): Linear(in_features=4, out_features=1, bias=True)\n",
       ")"
      ]
     },
     "execution_count": 25,
     "metadata": {},
     "output_type": "execute_result"
    },
    {
     "data": {
      "text/plain": [
       "Sequential(\n",
       "  (0): Linear(in_features=275, out_features=128, bias=True)\n",
       "  (1): ReLU()\n",
       "  (2): Linear(in_features=128, out_features=64, bias=True)\n",
       "  (3): ReLU()\n",
       "  (4): Linear(in_features=64, out_features=32, bias=True)\n",
       "  (5): ReLU()\n",
       "  (6): Linear(in_features=32, out_features=16, bias=True)\n",
       "  (7): ReLU()\n",
       "  (8): Linear(in_features=16, out_features=8, bias=True)\n",
       "  (9): ReLU()\n",
       "  (10): Linear(in_features=8, out_features=4, bias=True)\n",
       "  (11): ReLU()\n",
       "  (12): Linear(in_features=4, out_features=1, bias=True)\n",
       ")"
      ]
     },
     "execution_count": 25,
     "metadata": {},
     "output_type": "execute_result"
    },
    {
     "data": {
      "text/plain": [
       "Sequential(\n",
       "  (0): Linear(in_features=275, out_features=128, bias=True)\n",
       "  (1): ReLU()\n",
       "  (2): Linear(in_features=128, out_features=64, bias=True)\n",
       "  (3): ReLU()\n",
       "  (4): Linear(in_features=64, out_features=32, bias=True)\n",
       "  (5): ReLU()\n",
       "  (6): Linear(in_features=32, out_features=16, bias=True)\n",
       "  (7): ReLU()\n",
       "  (8): Linear(in_features=16, out_features=8, bias=True)\n",
       "  (9): ReLU()\n",
       "  (10): Linear(in_features=8, out_features=4, bias=True)\n",
       "  (11): ReLU()\n",
       "  (12): Linear(in_features=4, out_features=1, bias=True)\n",
       ")"
      ]
     },
     "execution_count": 25,
     "metadata": {},
     "output_type": "execute_result"
    },
    {
     "data": {
      "text/plain": [
       "Sequential(\n",
       "  (0): Linear(in_features=275, out_features=128, bias=True)\n",
       "  (1): ReLU()\n",
       "  (2): Linear(in_features=128, out_features=64, bias=True)\n",
       "  (3): ReLU()\n",
       "  (4): Linear(in_features=64, out_features=32, bias=True)\n",
       "  (5): ReLU()\n",
       "  (6): Linear(in_features=32, out_features=16, bias=True)\n",
       "  (7): ReLU()\n",
       "  (8): Linear(in_features=16, out_features=8, bias=True)\n",
       "  (9): ReLU()\n",
       "  (10): Linear(in_features=8, out_features=4, bias=True)\n",
       "  (11): ReLU()\n",
       "  (12): Linear(in_features=4, out_features=1, bias=True)\n",
       ")"
      ]
     },
     "execution_count": 25,
     "metadata": {},
     "output_type": "execute_result"
    },
    {
     "data": {
      "text/plain": [
       "Sequential(\n",
       "  (0): Linear(in_features=275, out_features=128, bias=True)\n",
       "  (1): ReLU()\n",
       "  (2): Linear(in_features=128, out_features=64, bias=True)\n",
       "  (3): ReLU()\n",
       "  (4): Linear(in_features=64, out_features=32, bias=True)\n",
       "  (5): ReLU()\n",
       "  (6): Linear(in_features=32, out_features=16, bias=True)\n",
       "  (7): ReLU()\n",
       "  (8): Linear(in_features=16, out_features=8, bias=True)\n",
       "  (9): ReLU()\n",
       "  (10): Linear(in_features=8, out_features=4, bias=True)\n",
       "  (11): ReLU()\n",
       "  (12): Linear(in_features=4, out_features=1, bias=True)\n",
       ")"
      ]
     },
     "execution_count": 25,
     "metadata": {},
     "output_type": "execute_result"
    },
    {
     "data": {
      "text/plain": [
       "Sequential(\n",
       "  (0): Linear(in_features=275, out_features=128, bias=True)\n",
       "  (1): ReLU()\n",
       "  (2): Linear(in_features=128, out_features=64, bias=True)\n",
       "  (3): ReLU()\n",
       "  (4): Linear(in_features=64, out_features=32, bias=True)\n",
       "  (5): ReLU()\n",
       "  (6): Linear(in_features=32, out_features=16, bias=True)\n",
       "  (7): ReLU()\n",
       "  (8): Linear(in_features=16, out_features=8, bias=True)\n",
       "  (9): ReLU()\n",
       "  (10): Linear(in_features=8, out_features=4, bias=True)\n",
       "  (11): ReLU()\n",
       "  (12): Linear(in_features=4, out_features=1, bias=True)\n",
       ")"
      ]
     },
     "execution_count": 25,
     "metadata": {},
     "output_type": "execute_result"
    },
    {
     "data": {
      "text/plain": [
       "Sequential(\n",
       "  (0): Linear(in_features=275, out_features=128, bias=True)\n",
       "  (1): ReLU()\n",
       "  (2): Linear(in_features=128, out_features=64, bias=True)\n",
       "  (3): ReLU()\n",
       "  (4): Linear(in_features=64, out_features=32, bias=True)\n",
       "  (5): ReLU()\n",
       "  (6): Linear(in_features=32, out_features=16, bias=True)\n",
       "  (7): ReLU()\n",
       "  (8): Linear(in_features=16, out_features=8, bias=True)\n",
       "  (9): ReLU()\n",
       "  (10): Linear(in_features=8, out_features=4, bias=True)\n",
       "  (11): ReLU()\n",
       "  (12): Linear(in_features=4, out_features=1, bias=True)\n",
       ")"
      ]
     },
     "execution_count": 25,
     "metadata": {},
     "output_type": "execute_result"
    },
    {
     "data": {
      "text/plain": [
       "Sequential(\n",
       "  (0): Linear(in_features=275, out_features=128, bias=True)\n",
       "  (1): ReLU()\n",
       "  (2): Linear(in_features=128, out_features=64, bias=True)\n",
       "  (3): ReLU()\n",
       "  (4): Linear(in_features=64, out_features=32, bias=True)\n",
       "  (5): ReLU()\n",
       "  (6): Linear(in_features=32, out_features=16, bias=True)\n",
       "  (7): ReLU()\n",
       "  (8): Linear(in_features=16, out_features=8, bias=True)\n",
       "  (9): ReLU()\n",
       "  (10): Linear(in_features=8, out_features=4, bias=True)\n",
       "  (11): ReLU()\n",
       "  (12): Linear(in_features=4, out_features=1, bias=True)\n",
       ")"
      ]
     },
     "execution_count": 25,
     "metadata": {},
     "output_type": "execute_result"
    },
    {
     "data": {
      "text/plain": [
       "Sequential(\n",
       "  (0): Linear(in_features=275, out_features=128, bias=True)\n",
       "  (1): ReLU()\n",
       "  (2): Linear(in_features=128, out_features=64, bias=True)\n",
       "  (3): ReLU()\n",
       "  (4): Linear(in_features=64, out_features=32, bias=True)\n",
       "  (5): ReLU()\n",
       "  (6): Linear(in_features=32, out_features=16, bias=True)\n",
       "  (7): ReLU()\n",
       "  (8): Linear(in_features=16, out_features=8, bias=True)\n",
       "  (9): ReLU()\n",
       "  (10): Linear(in_features=8, out_features=4, bias=True)\n",
       "  (11): ReLU()\n",
       "  (12): Linear(in_features=4, out_features=1, bias=True)\n",
       ")"
      ]
     },
     "execution_count": 25,
     "metadata": {},
     "output_type": "execute_result"
    },
    {
     "data": {
      "text/plain": [
       "Sequential(\n",
       "  (0): Linear(in_features=275, out_features=128, bias=True)\n",
       "  (1): ReLU()\n",
       "  (2): Linear(in_features=128, out_features=64, bias=True)\n",
       "  (3): ReLU()\n",
       "  (4): Linear(in_features=64, out_features=32, bias=True)\n",
       "  (5): ReLU()\n",
       "  (6): Linear(in_features=32, out_features=16, bias=True)\n",
       "  (7): ReLU()\n",
       "  (8): Linear(in_features=16, out_features=8, bias=True)\n",
       "  (9): ReLU()\n",
       "  (10): Linear(in_features=8, out_features=4, bias=True)\n",
       "  (11): ReLU()\n",
       "  (12): Linear(in_features=4, out_features=1, bias=True)\n",
       ")"
      ]
     },
     "execution_count": 25,
     "metadata": {},
     "output_type": "execute_result"
    },
    {
     "data": {
      "text/plain": [
       "Sequential(\n",
       "  (0): Linear(in_features=275, out_features=128, bias=True)\n",
       "  (1): ReLU()\n",
       "  (2): Linear(in_features=128, out_features=64, bias=True)\n",
       "  (3): ReLU()\n",
       "  (4): Linear(in_features=64, out_features=32, bias=True)\n",
       "  (5): ReLU()\n",
       "  (6): Linear(in_features=32, out_features=16, bias=True)\n",
       "  (7): ReLU()\n",
       "  (8): Linear(in_features=16, out_features=8, bias=True)\n",
       "  (9): ReLU()\n",
       "  (10): Linear(in_features=8, out_features=4, bias=True)\n",
       "  (11): ReLU()\n",
       "  (12): Linear(in_features=4, out_features=1, bias=True)\n",
       ")"
      ]
     },
     "execution_count": 25,
     "metadata": {},
     "output_type": "execute_result"
    },
    {
     "data": {
      "text/plain": [
       "Sequential(\n",
       "  (0): Linear(in_features=275, out_features=128, bias=True)\n",
       "  (1): ReLU()\n",
       "  (2): Linear(in_features=128, out_features=64, bias=True)\n",
       "  (3): ReLU()\n",
       "  (4): Linear(in_features=64, out_features=32, bias=True)\n",
       "  (5): ReLU()\n",
       "  (6): Linear(in_features=32, out_features=16, bias=True)\n",
       "  (7): ReLU()\n",
       "  (8): Linear(in_features=16, out_features=8, bias=True)\n",
       "  (9): ReLU()\n",
       "  (10): Linear(in_features=8, out_features=4, bias=True)\n",
       "  (11): ReLU()\n",
       "  (12): Linear(in_features=4, out_features=1, bias=True)\n",
       ")"
      ]
     },
     "execution_count": 25,
     "metadata": {},
     "output_type": "execute_result"
    },
    {
     "data": {
      "text/plain": [
       "Sequential(\n",
       "  (0): Linear(in_features=275, out_features=128, bias=True)\n",
       "  (1): ReLU()\n",
       "  (2): Linear(in_features=128, out_features=64, bias=True)\n",
       "  (3): ReLU()\n",
       "  (4): Linear(in_features=64, out_features=32, bias=True)\n",
       "  (5): ReLU()\n",
       "  (6): Linear(in_features=32, out_features=16, bias=True)\n",
       "  (7): ReLU()\n",
       "  (8): Linear(in_features=16, out_features=8, bias=True)\n",
       "  (9): ReLU()\n",
       "  (10): Linear(in_features=8, out_features=4, bias=True)\n",
       "  (11): ReLU()\n",
       "  (12): Linear(in_features=4, out_features=1, bias=True)\n",
       ")"
      ]
     },
     "execution_count": 25,
     "metadata": {},
     "output_type": "execute_result"
    },
    {
     "data": {
      "text/plain": [
       "Sequential(\n",
       "  (0): Linear(in_features=275, out_features=128, bias=True)\n",
       "  (1): ReLU()\n",
       "  (2): Linear(in_features=128, out_features=64, bias=True)\n",
       "  (3): ReLU()\n",
       "  (4): Linear(in_features=64, out_features=32, bias=True)\n",
       "  (5): ReLU()\n",
       "  (6): Linear(in_features=32, out_features=16, bias=True)\n",
       "  (7): ReLU()\n",
       "  (8): Linear(in_features=16, out_features=8, bias=True)\n",
       "  (9): ReLU()\n",
       "  (10): Linear(in_features=8, out_features=4, bias=True)\n",
       "  (11): ReLU()\n",
       "  (12): Linear(in_features=4, out_features=1, bias=True)\n",
       ")"
      ]
     },
     "execution_count": 25,
     "metadata": {},
     "output_type": "execute_result"
    },
    {
     "data": {
      "text/plain": [
       "Sequential(\n",
       "  (0): Linear(in_features=275, out_features=128, bias=True)\n",
       "  (1): ReLU()\n",
       "  (2): Linear(in_features=128, out_features=64, bias=True)\n",
       "  (3): ReLU()\n",
       "  (4): Linear(in_features=64, out_features=32, bias=True)\n",
       "  (5): ReLU()\n",
       "  (6): Linear(in_features=32, out_features=16, bias=True)\n",
       "  (7): ReLU()\n",
       "  (8): Linear(in_features=16, out_features=8, bias=True)\n",
       "  (9): ReLU()\n",
       "  (10): Linear(in_features=8, out_features=4, bias=True)\n",
       "  (11): ReLU()\n",
       "  (12): Linear(in_features=4, out_features=1, bias=True)\n",
       ")"
      ]
     },
     "execution_count": 25,
     "metadata": {},
     "output_type": "execute_result"
    },
    {
     "data": {
      "text/plain": [
       "Sequential(\n",
       "  (0): Linear(in_features=275, out_features=128, bias=True)\n",
       "  (1): ReLU()\n",
       "  (2): Linear(in_features=128, out_features=64, bias=True)\n",
       "  (3): ReLU()\n",
       "  (4): Linear(in_features=64, out_features=32, bias=True)\n",
       "  (5): ReLU()\n",
       "  (6): Linear(in_features=32, out_features=16, bias=True)\n",
       "  (7): ReLU()\n",
       "  (8): Linear(in_features=16, out_features=8, bias=True)\n",
       "  (9): ReLU()\n",
       "  (10): Linear(in_features=8, out_features=4, bias=True)\n",
       "  (11): ReLU()\n",
       "  (12): Linear(in_features=4, out_features=1, bias=True)\n",
       ")"
      ]
     },
     "execution_count": 25,
     "metadata": {},
     "output_type": "execute_result"
    },
    {
     "data": {
      "text/plain": [
       "Sequential(\n",
       "  (0): Linear(in_features=275, out_features=128, bias=True)\n",
       "  (1): ReLU()\n",
       "  (2): Linear(in_features=128, out_features=64, bias=True)\n",
       "  (3): ReLU()\n",
       "  (4): Linear(in_features=64, out_features=32, bias=True)\n",
       "  (5): ReLU()\n",
       "  (6): Linear(in_features=32, out_features=16, bias=True)\n",
       "  (7): ReLU()\n",
       "  (8): Linear(in_features=16, out_features=8, bias=True)\n",
       "  (9): ReLU()\n",
       "  (10): Linear(in_features=8, out_features=4, bias=True)\n",
       "  (11): ReLU()\n",
       "  (12): Linear(in_features=4, out_features=1, bias=True)\n",
       ")"
      ]
     },
     "execution_count": 25,
     "metadata": {},
     "output_type": "execute_result"
    },
    {
     "data": {
      "text/plain": [
       "Sequential(\n",
       "  (0): Linear(in_features=275, out_features=128, bias=True)\n",
       "  (1): ReLU()\n",
       "  (2): Linear(in_features=128, out_features=64, bias=True)\n",
       "  (3): ReLU()\n",
       "  (4): Linear(in_features=64, out_features=32, bias=True)\n",
       "  (5): ReLU()\n",
       "  (6): Linear(in_features=32, out_features=16, bias=True)\n",
       "  (7): ReLU()\n",
       "  (8): Linear(in_features=16, out_features=8, bias=True)\n",
       "  (9): ReLU()\n",
       "  (10): Linear(in_features=8, out_features=4, bias=True)\n",
       "  (11): ReLU()\n",
       "  (12): Linear(in_features=4, out_features=1, bias=True)\n",
       ")"
      ]
     },
     "execution_count": 25,
     "metadata": {},
     "output_type": "execute_result"
    },
    {
     "data": {
      "text/plain": [
       "Sequential(\n",
       "  (0): Linear(in_features=275, out_features=128, bias=True)\n",
       "  (1): ReLU()\n",
       "  (2): Linear(in_features=128, out_features=64, bias=True)\n",
       "  (3): ReLU()\n",
       "  (4): Linear(in_features=64, out_features=32, bias=True)\n",
       "  (5): ReLU()\n",
       "  (6): Linear(in_features=32, out_features=16, bias=True)\n",
       "  (7): ReLU()\n",
       "  (8): Linear(in_features=16, out_features=8, bias=True)\n",
       "  (9): ReLU()\n",
       "  (10): Linear(in_features=8, out_features=4, bias=True)\n",
       "  (11): ReLU()\n",
       "  (12): Linear(in_features=4, out_features=1, bias=True)\n",
       ")"
      ]
     },
     "execution_count": 25,
     "metadata": {},
     "output_type": "execute_result"
    },
    {
     "data": {
      "text/plain": [
       "Sequential(\n",
       "  (0): Linear(in_features=275, out_features=128, bias=True)\n",
       "  (1): ReLU()\n",
       "  (2): Linear(in_features=128, out_features=64, bias=True)\n",
       "  (3): ReLU()\n",
       "  (4): Linear(in_features=64, out_features=32, bias=True)\n",
       "  (5): ReLU()\n",
       "  (6): Linear(in_features=32, out_features=16, bias=True)\n",
       "  (7): ReLU()\n",
       "  (8): Linear(in_features=16, out_features=8, bias=True)\n",
       "  (9): ReLU()\n",
       "  (10): Linear(in_features=8, out_features=4, bias=True)\n",
       "  (11): ReLU()\n",
       "  (12): Linear(in_features=4, out_features=1, bias=True)\n",
       ")"
      ]
     },
     "execution_count": 25,
     "metadata": {},
     "output_type": "execute_result"
    },
    {
     "data": {
      "text/plain": [
       "Sequential(\n",
       "  (0): Linear(in_features=275, out_features=128, bias=True)\n",
       "  (1): ReLU()\n",
       "  (2): Linear(in_features=128, out_features=64, bias=True)\n",
       "  (3): ReLU()\n",
       "  (4): Linear(in_features=64, out_features=32, bias=True)\n",
       "  (5): ReLU()\n",
       "  (6): Linear(in_features=32, out_features=16, bias=True)\n",
       "  (7): ReLU()\n",
       "  (8): Linear(in_features=16, out_features=8, bias=True)\n",
       "  (9): ReLU()\n",
       "  (10): Linear(in_features=8, out_features=4, bias=True)\n",
       "  (11): ReLU()\n",
       "  (12): Linear(in_features=4, out_features=1, bias=True)\n",
       ")"
      ]
     },
     "execution_count": 25,
     "metadata": {},
     "output_type": "execute_result"
    },
    {
     "data": {
      "text/plain": [
       "Sequential(\n",
       "  (0): Linear(in_features=275, out_features=128, bias=True)\n",
       "  (1): ReLU()\n",
       "  (2): Linear(in_features=128, out_features=64, bias=True)\n",
       "  (3): ReLU()\n",
       "  (4): Linear(in_features=64, out_features=32, bias=True)\n",
       "  (5): ReLU()\n",
       "  (6): Linear(in_features=32, out_features=16, bias=True)\n",
       "  (7): ReLU()\n",
       "  (8): Linear(in_features=16, out_features=8, bias=True)\n",
       "  (9): ReLU()\n",
       "  (10): Linear(in_features=8, out_features=4, bias=True)\n",
       "  (11): ReLU()\n",
       "  (12): Linear(in_features=4, out_features=1, bias=True)\n",
       ")"
      ]
     },
     "execution_count": 25,
     "metadata": {},
     "output_type": "execute_result"
    },
    {
     "data": {
      "text/plain": [
       "Sequential(\n",
       "  (0): Linear(in_features=275, out_features=128, bias=True)\n",
       "  (1): ReLU()\n",
       "  (2): Linear(in_features=128, out_features=64, bias=True)\n",
       "  (3): ReLU()\n",
       "  (4): Linear(in_features=64, out_features=32, bias=True)\n",
       "  (5): ReLU()\n",
       "  (6): Linear(in_features=32, out_features=16, bias=True)\n",
       "  (7): ReLU()\n",
       "  (8): Linear(in_features=16, out_features=8, bias=True)\n",
       "  (9): ReLU()\n",
       "  (10): Linear(in_features=8, out_features=4, bias=True)\n",
       "  (11): ReLU()\n",
       "  (12): Linear(in_features=4, out_features=1, bias=True)\n",
       ")"
      ]
     },
     "execution_count": 25,
     "metadata": {},
     "output_type": "execute_result"
    },
    {
     "data": {
      "text/plain": [
       "Sequential(\n",
       "  (0): Linear(in_features=275, out_features=128, bias=True)\n",
       "  (1): ReLU()\n",
       "  (2): Linear(in_features=128, out_features=64, bias=True)\n",
       "  (3): ReLU()\n",
       "  (4): Linear(in_features=64, out_features=32, bias=True)\n",
       "  (5): ReLU()\n",
       "  (6): Linear(in_features=32, out_features=16, bias=True)\n",
       "  (7): ReLU()\n",
       "  (8): Linear(in_features=16, out_features=8, bias=True)\n",
       "  (9): ReLU()\n",
       "  (10): Linear(in_features=8, out_features=4, bias=True)\n",
       "  (11): ReLU()\n",
       "  (12): Linear(in_features=4, out_features=1, bias=True)\n",
       ")"
      ]
     },
     "execution_count": 25,
     "metadata": {},
     "output_type": "execute_result"
    },
    {
     "data": {
      "text/plain": [
       "Sequential(\n",
       "  (0): Linear(in_features=275, out_features=128, bias=True)\n",
       "  (1): ReLU()\n",
       "  (2): Linear(in_features=128, out_features=64, bias=True)\n",
       "  (3): ReLU()\n",
       "  (4): Linear(in_features=64, out_features=32, bias=True)\n",
       "  (5): ReLU()\n",
       "  (6): Linear(in_features=32, out_features=16, bias=True)\n",
       "  (7): ReLU()\n",
       "  (8): Linear(in_features=16, out_features=8, bias=True)\n",
       "  (9): ReLU()\n",
       "  (10): Linear(in_features=8, out_features=4, bias=True)\n",
       "  (11): ReLU()\n",
       "  (12): Linear(in_features=4, out_features=1, bias=True)\n",
       ")"
      ]
     },
     "execution_count": 25,
     "metadata": {},
     "output_type": "execute_result"
    },
    {
     "data": {
      "text/plain": [
       "Sequential(\n",
       "  (0): Linear(in_features=275, out_features=128, bias=True)\n",
       "  (1): ReLU()\n",
       "  (2): Linear(in_features=128, out_features=64, bias=True)\n",
       "  (3): ReLU()\n",
       "  (4): Linear(in_features=64, out_features=32, bias=True)\n",
       "  (5): ReLU()\n",
       "  (6): Linear(in_features=32, out_features=16, bias=True)\n",
       "  (7): ReLU()\n",
       "  (8): Linear(in_features=16, out_features=8, bias=True)\n",
       "  (9): ReLU()\n",
       "  (10): Linear(in_features=8, out_features=4, bias=True)\n",
       "  (11): ReLU()\n",
       "  (12): Linear(in_features=4, out_features=1, bias=True)\n",
       ")"
      ]
     },
     "execution_count": 25,
     "metadata": {},
     "output_type": "execute_result"
    },
    {
     "data": {
      "text/plain": [
       "Sequential(\n",
       "  (0): Linear(in_features=275, out_features=128, bias=True)\n",
       "  (1): ReLU()\n",
       "  (2): Linear(in_features=128, out_features=64, bias=True)\n",
       "  (3): ReLU()\n",
       "  (4): Linear(in_features=64, out_features=32, bias=True)\n",
       "  (5): ReLU()\n",
       "  (6): Linear(in_features=32, out_features=16, bias=True)\n",
       "  (7): ReLU()\n",
       "  (8): Linear(in_features=16, out_features=8, bias=True)\n",
       "  (9): ReLU()\n",
       "  (10): Linear(in_features=8, out_features=4, bias=True)\n",
       "  (11): ReLU()\n",
       "  (12): Linear(in_features=4, out_features=1, bias=True)\n",
       ")"
      ]
     },
     "execution_count": 25,
     "metadata": {},
     "output_type": "execute_result"
    },
    {
     "data": {
      "text/plain": [
       "Sequential(\n",
       "  (0): Linear(in_features=275, out_features=128, bias=True)\n",
       "  (1): ReLU()\n",
       "  (2): Linear(in_features=128, out_features=64, bias=True)\n",
       "  (3): ReLU()\n",
       "  (4): Linear(in_features=64, out_features=32, bias=True)\n",
       "  (5): ReLU()\n",
       "  (6): Linear(in_features=32, out_features=16, bias=True)\n",
       "  (7): ReLU()\n",
       "  (8): Linear(in_features=16, out_features=8, bias=True)\n",
       "  (9): ReLU()\n",
       "  (10): Linear(in_features=8, out_features=4, bias=True)\n",
       "  (11): ReLU()\n",
       "  (12): Linear(in_features=4, out_features=1, bias=True)\n",
       ")"
      ]
     },
     "execution_count": 25,
     "metadata": {},
     "output_type": "execute_result"
    },
    {
     "data": {
      "text/plain": [
       "Sequential(\n",
       "  (0): Linear(in_features=275, out_features=128, bias=True)\n",
       "  (1): ReLU()\n",
       "  (2): Linear(in_features=128, out_features=64, bias=True)\n",
       "  (3): ReLU()\n",
       "  (4): Linear(in_features=64, out_features=32, bias=True)\n",
       "  (5): ReLU()\n",
       "  (6): Linear(in_features=32, out_features=16, bias=True)\n",
       "  (7): ReLU()\n",
       "  (8): Linear(in_features=16, out_features=8, bias=True)\n",
       "  (9): ReLU()\n",
       "  (10): Linear(in_features=8, out_features=4, bias=True)\n",
       "  (11): ReLU()\n",
       "  (12): Linear(in_features=4, out_features=1, bias=True)\n",
       ")"
      ]
     },
     "execution_count": 25,
     "metadata": {},
     "output_type": "execute_result"
    },
    {
     "data": {
      "text/plain": [
       "Sequential(\n",
       "  (0): Linear(in_features=275, out_features=128, bias=True)\n",
       "  (1): ReLU()\n",
       "  (2): Linear(in_features=128, out_features=64, bias=True)\n",
       "  (3): ReLU()\n",
       "  (4): Linear(in_features=64, out_features=32, bias=True)\n",
       "  (5): ReLU()\n",
       "  (6): Linear(in_features=32, out_features=16, bias=True)\n",
       "  (7): ReLU()\n",
       "  (8): Linear(in_features=16, out_features=8, bias=True)\n",
       "  (9): ReLU()\n",
       "  (10): Linear(in_features=8, out_features=4, bias=True)\n",
       "  (11): ReLU()\n",
       "  (12): Linear(in_features=4, out_features=1, bias=True)\n",
       ")"
      ]
     },
     "execution_count": 25,
     "metadata": {},
     "output_type": "execute_result"
    },
    {
     "data": {
      "text/plain": [
       "<All keys matched successfully>"
      ]
     },
     "execution_count": 25,
     "metadata": {},
     "output_type": "execute_result"
    },
    {
     "name": "stdout",
     "output_type": "stream",
     "text": [
      "MSE: 887678208.00\n",
      "RMSE: 29793.93\n"
     ]
    },
    {
     "data": {
      "text/plain": [
       "[<matplotlib.lines.Line2D at 0x22781a9adf0>]"
      ]
     },
     "execution_count": 25,
     "metadata": {},
     "output_type": "execute_result"
    },
    {
     "data": {
      "image/png": "[encoded data removed]",
      "text/plain": [
       "<Figure size 432x288 with 1 Axes>"
      ]
     },
     "metadata": {
      "needs_background": "light"
     },
     "output_type": "display_data"
    }
   ],
   "source": [
    "import copy\n",
    "\n",
    "import matplotlib.pyplot as plt\n",
    "import numpy as np\n",
    "import pandas as pd\n",
    "import torch\n",
    "import torch.nn as nn\n",
    "import torch.optim as optim\n",
    "import tqdm\n",
    "from sklearn.model_selection import train_test_split\n",
    "from sklearn.datasets import fetch_california_housing\n",
    "from sklearn.preprocessing import StandardScaler\n",
    "\n",
    "# Read data\n",
    "data = fetch_california_housing()\n",
    "X, y = data_train_final.to_numpy(), y_train.to_numpy()\n",
    "\n",
    "# train-test split for model evaluation\n",
    "X_train_raw, X_val_raw, y_train_raw, y_val = train_test_split(X, y, train_size=0.7, shuffle=True)\n",
    "\n",
    "# Convert to 2D PyTorch tensors\n",
    "X_train_raw = torch.tensor(X_train_raw, dtype=torch.float32)\n",
    "y_train_raw = torch.tensor(y_train_raw, dtype=torch.float32).reshape(-1, 1)\n",
    "X_val = torch.tensor(X_val_raw, dtype=torch.float32)\n",
    "y_val = torch.tensor(y_val, dtype=torch.float32).reshape(-1, 1)\n",
    "\n",
    "# Define the model\n",
    "model = nn.Sequential(\n",
    "    nn.Linear(275, 128),\n",
    "    nn.ReLU(),\n",
    "    nn.Linear(128, 64),\n",
    "    nn.ReLU(),\n",
    "    nn.Linear(64, 32),\n",
    "    nn.ReLU(),\n",
    "    nn.Linear(32, 16),\n",
    "    nn.ReLU(),\n",
    "    nn.Linear(16, 8),\n",
    "    nn.ReLU(),\n",
    "    nn.Linear(8, 4),\n",
    "    nn.ReLU(),\n",
    "    nn.Linear(4, 1),\n",
    ")\n",
    "\n",
    "# loss function and optimizer\n",
    "loss_fn = nn.MSELoss()  # mean square error\n",
    "optimizer = optim.Adam(model.parameters(), lr=0.0001)\n",
    "\n",
    "n_epochs = 500   # number of epochs to run\n",
    "batch_size = 16  # size of each batch\n",
    "batch_start = torch.arange(0, len(X_train_raw), batch_size)\n",
    "\n",
    "# Hold the best model\n",
    "best_mse = np.inf   # init to infinity\n",
    "best_weights = None\n",
    "history = []\n",
    "\n",
    "for epoch in range(n_epochs):\n",
    "    model.train()\n",
    "    with tqdm.tqdm(batch_start, unit=\"batch\", mininterval=0, disable=True) as bar:\n",
    "        bar.set_description(f\"Epoch {epoch}\")\n",
    "        for start in bar:\n",
    "            # take a batch\n",
    "            X_batch = X_train_raw[start:start+batch_size]\n",
    "            y_batch = y_train_raw[start:start+batch_size]\n",
    "            # forward pass\n",
    "            y_pred = model(X_batch)\n",
    "            loss = loss_fn(y_pred, y_batch)\n",
    "            # backward pass\n",
    "            optimizer.zero_grad()\n",
    "            loss.backward()\n",
    "            # update weights\n",
    "            optimizer.step()\n",
    "            # print progress\n",
    "            bar.set_postfix(mse=float(loss))\n",
    "    # evaluate accuracy at end of each epoch\n",
    "    model.eval()\n",
    "    y_pred = model(X_val)\n",
    "    mse = loss_fn(y_pred, y_val)\n",
    "    mse = float(mse)\n",
    "    history.append(mse)\n",
    "    if mse < best_mse:\n",
    "        best_mse = mse\n",
    "        best_weights = copy.deepcopy(model.state_dict())\n",
    "\n",
    "# restore model and return best accuracy\n",
    "model.load_state_dict(best_weights)\n",
    "print(\"MSE: %.2f\" % best_mse)\n",
    "print(\"RMSE: %.2f\" % np.sqrt(best_mse))\n",
    "plt.plot(history)\n",
    "plt.show()"
   ]
  },
  {
   "cell_type": "code",
   "execution_count": 35,
   "metadata": {},
   "outputs": [
    {
     "data": {
      "text/plain": [
       "Sequential(\n",
       "  (0): Linear(in_features=275, out_features=128, bias=True)\n",
       "  (1): ReLU()\n",
       "  (2): Linear(in_features=128, out_features=64, bias=True)\n",
       "  (3): ReLU()\n",
       "  (4): Linear(in_features=64, out_features=32, bias=True)\n",
       "  (5): ReLU()\n",
       "  (6): Linear(in_features=32, out_features=16, bias=True)\n",
       "  (7): ReLU()\n",
       "  (8): Linear(in_features=16, out_features=8, bias=True)\n",
       "  (9): ReLU()\n",
       "  (10): Linear(in_features=8, out_features=4, bias=True)\n",
       "  (11): ReLU()\n",
       "  (12): Linear(in_features=4, out_features=1, bias=True)\n",
       ")"
      ]
     },
     "execution_count": 35,
     "metadata": {},
     "output_type": "execute_result"
    },
    {
     "name": "stdout",
     "output_type": "stream",
     "text": [
      "[109568.0, 150057.0, 180064.0, 183374.0, 172817.0, 163295.0, 147980.0, 151147.0, 181906.0, 129083.0, 152355.0, 98843.0, 96028.0, 148489.0, 94674.0, 361982.0, 241192.0, 328062.0, 331572.0, 438021.0, 312460.0, 215456.0, 158639.0, 170688.0, 190230.0, 189098.0, 353908.0, 202998.0, 197137.0, 249446.0, 203199.0, 87390.0, 201336.0, 280991.0, 271575.0, 242824.0, 157485.0, 183373.0, 178389.0, 170881.0, 188077.0, 155131.0, 287451.0, 243219.0, 211830.0, 176721.0, 238101.0, 193072.0, 156606.0, 150375.0, 149815.0, 156406.0, 113444.0, 140572.0, 166460.0, 159102.0, 159477.0, 109076.0, 201240.0, 132788.0, 129778.0, 177184.0, 113253.0, 90318.0, 116441.0, 101921.0, 97228.0, 120788.0, 154545.0, 217775.0, 162519.0, 109216.0, 138462.0, 113540.0, 146605.0, 116358.0, 69311.0, 165681.0, 175433.0, 109884.0, 137134.0, 126999.0, 162980.0, 73662.0, 119846.0, 139056.0, 150394.0, 126245.0, 123891.0, 130519.0, 110968.0, 161040.0, 162619.0, 117460.0, 138475.0, 97262.0, 97631.0, 101103.0, 98241.0, 133444.0, 123471.0, 142296.0, 132257.0, 170269.0, 173485.0, 242782.0, 73887.0, 251971.0, 143869.0, 151373.0, 95262.0, 124036.0, 258939.0, 121880.0, 265195.0, 231498.0, 193365.0, 137460.0, 152048.0, 185147.0, 168949.0, 126250.0, 251311.0, 218916.0, 145258.0, 58397.0, 85949.0, 154135.0, 82009.0, 117134.0, 95659.0, 123380.0, 129965.0, 127523.0, 120309.0, 234922.0, 195367.0, 199500.0, 177772.0, 164215.0, 46870.0, 131128.0, 72145.0, 300449.0, 227662.0, 131894.0, 136946.0, 243825.0, 181193.0, 167556.0, 142615.0, 188160.0, 149372.0, 132851.0, 100748.0, 76234.0, 86162.0, 114892.0, 136627.0, 149019.0, 126818.0, 148686.0, 268359.0, 221019.0, 111052.0, 168287.0, 179338.0, 258217.0, 170048.0, 294215.0, 225015.0, 208852.0, 186562.0, 200472.0, 183918.0, 144672.0, 181952.0, 174858.0, 167648.0, 219374.0, 165553.0, 279505.0, 214962.0, 233509.0, 197563.0, 176374.0, 159834.0, 122135.0, 142200.0, 112788.0, 112651.0, 100219.0, 106290.0, 143321.0, 114387.0, 154325.0, 147549.0, 172077.0, 99936.0, 169876.0, 420178.0, 350134.0, 375271.0, 436116.0, 324145.0, 327106.0, 371655.0, 369509.0, 331246.0, 351796.0, 253647.0, 362308.0, 280625.0, 233767.0, 202723.0, 217082.0, 212018.0, 446143.0, 376701.0, 328438.0, 278022.0, 327194.0, 199252.0, 175039.0, 185501.0, 175786.0, 166874.0, 190919.0, 190453.0, 200886.0, 208286.0, 266811.0, 181399.0, 188148.0, 152882.0, 253956.0, 157285.0, 314732.0, 307364.0, 279975.0, 274488.0, 222637.0, 217345.0, 252718.0, 292603.0, 380127.0, 235081.0, 197960.0, 234325.0, 223446.0, 304324.0, 236260.0, 250800.0, 209076.0, 213914.0, 174936.0, 192114.0, 141468.0, 230599.0, 220467.0, 156385.0, 124641.0, 153616.0, 194283.0, 253684.0, 208093.0, 148830.0, 179477.0, 173231.0, 159574.0, 115189.0, 132128.0, 110744.0, 101257.0, 136577.0, 82709.0, 249762.0, 268124.0, 228365.0, 203381.0, 194050.0, 177314.0, 182390.0, 338127.0, 223754.0, 169636.0, 231768.0, 209556.0, 128290.0, 113744.0, 249889.0, 107728.0, 145433.0, 187467.0, 160478.0, 128209.0, 122846.0, 142973.0, 150709.0, 167340.0, 152131.0, 186551.0, 192469.0, 120683.0, 133565.0, 181341.0, 181181.0, 137492.0, 154545.0, 162908.0, 122995.0, 133125.0, 137498.0, 151972.0, 147422.0, 134978.0, 106610.0, 161481.0, 142756.0, 161846.0, 122374.0, 99914.0, 154366.0, 132577.0, 148822.0, 169868.0, 173374.0, 76389.0, 109589.0, 110062.0, 198507.0, 137369.0, 121548.0, 178777.0, 143984.0, 147421.0, 127372.0, 140257.0, 101487.0, 151427.0, 121580.0, 128286.0, 144278.0, 142816.0, 129728.0, 115405.0, 133668.0, 120627.0, 134391.0, 147490.0, 93773.0, 101983.0, 137312.0, 95374.0, 67109.0, 99698.0, 139671.0, 173246.0, 153783.0, 62967.0, 105961.0, 157582.0, 49640.0, 131710.0, 125459.0, 114227.0, 100365.0, 127822.0, 135065.0, 130145.0, 129356.0, 101623.0, 139308.0, 131854.0, 110681.0, 105355.0, 107848.0, 107539.0, 95405.0, 163486.0, 133367.0, 93236.0, 146749.0, 165276.0, 150394.0, 164092.0, 174102.0, 65073.0, 99203.0, 118864.0, 133663.0, 125055.0, 131804.0, 163091.0, 165461.0, 245723.0, 132655.0, 126592.0, 104728.0, 176516.0, 104513.0, 329622.0, 314871.0, 314874.0, 369675.0, 341296.0, 200097.0, 291867.0, 202826.0, 209051.0, 287080.0, 197239.0, 272998.0, 138582.0, 188042.0, 203149.0, 188598.0, 208211.0, 153761.0, 109550.0, 233077.0, 226344.0, 181763.0, 188284.0, 217359.0, 284429.0, 220288.0, 225553.0, 193205.0, 109549.0, 110037.0, 99309.0, 112508.0, 120500.0, 131363.0, 117741.0, 139376.0, 97317.0, 162684.0, 163211.0, 194746.0, 159590.0, 215769.0, 167723.0, 184397.0, 155452.0, 201112.0, 100038.0, 145295.0, 121049.0, 212469.0, 304018.0, 148207.0, 52872.0, 359999.0, 61905.0, 230841.0, 135686.0, 155899.0, 132972.0, 384850.0, 350526.0, 237803.0, 262718.0, 203905.0, 387478.0, 112258.0, 152540.0, 97600.0, 121626.0, 133507.0, 126671.0, 231064.0, 172040.0, 177252.0, 197462.0, 184229.0, 163634.0, 288916.0, 175990.0, 157216.0, 153841.0, 233260.0, 397631.0, 394068.0, 124445.0, 321653.0, 149370.0, 252535.0, 181400.0, 251303.0, 217880.0, 187500.0, 176274.0, 135615.0, 274935.0, 134647.0, 245226.0, 145623.0, 104946.0, 140212.0, 84403.0, 96821.0, 103907.0, 137934.0, 123495.0, 319969.0, 400885.0, 382336.0, 397244.0, 452516.0, 376119.0, 326488.0, 360710.0, 438247.0, 272435.0, 347837.0, 336038.0, 305422.0, 202849.0, 333845.0, 219136.0, 210549.0, 196762.0, 224227.0, 193335.0, 204911.0, 179485.0, 191128.0, 201929.0, 224450.0, 222755.0, 172283.0, 209851.0, 180968.0, 286994.0, 345943.0, 285503.0, 331044.0, 299247.0, 309960.0, 245523.0, 250965.0, 303153.0, 249503.0, 215334.0, 223877.0, 241675.0, 227915.0, 195974.0, 147693.0, 184192.0, 201348.0, 196582.0, 246612.0, 211761.0, 201947.0, 147670.0, 137490.0, 73947.0, 121275.0, 197723.0, 133240.0, 279215.0, 334876.0, 166038.0, 171802.0, 141291.0, 169899.0, 259522.0, 237969.0, 273518.0, 235297.0, 166504.0, 226031.0, 193561.0, 199865.0, 293648.0, 265832.0, 291939.0, 291608.0, 210297.0, 160735.0, 160502.0, 183187.0, 137163.0, 129198.0, 152981.0, 130014.0, 156648.0, 98000.0, 129909.0, 142843.0, 99220.0, 135283.0, 140378.0, 121356.0, 206050.0, 145632.0, 146667.0, 145341.0, 117963.0, 133677.0, 136465.0, 136619.0, 156915.0, 133090.0, 135441.0, 74657.0, 111360.0, 124240.0, 141785.0, 113106.0, 154207.0, 157098.0, 118231.0, 166739.0, 127893.0, 131122.0, 95627.0, 126092.0, 135534.0, 154908.0, 99420.0, 113921.0, 112579.0, 117610.0, 111854.0, 91647.0, 138497.0, 118250.0, 134347.0, 124900.0, 117607.0, 149906.0, 91418.0, 112429.0, 147192.0, 66079.0, 84076.0, 113302.0, 126634.0, 108496.0, 126344.0, 149243.0, 76859.0, 181070.0, 108828.0, 106149.0, 113517.0, 105441.0, 140474.0, 116420.0, 107488.0, 152079.0, 120596.0, 154725.0, 127803.0, 94082.0, 119083.0, 69419.0, 126166.0, 90122.0, 156691.0, 138973.0, 164353.0, 159426.0, 127444.0, 67703.0, 128468.0, 126567.0, 93026.0, 107608.0, 107368.0, 71927.0, 76089.0, 100571.0, 108726.0, 137770.0, 131168.0, 148429.0, 132421.0, 151302.0, 102765.0, 144580.0, 184695.0, 175616.0, 128898.0, 146758.0, 238230.0, 122737.0, 159276.0, 181279.0, 94570.0, 130199.0, 233816.0, 226128.0, 266923.0, 217019.0, 204873.0, 216720.0, 339327.0, 367172.0, 257030.0, 200192.0, 151301.0, 220656.0, 188740.0, 204641.0, 207452.0, 141708.0, 130958.0, 171889.0, 213014.0, 275950.0, 316151.0, 240216.0, 217496.0, 135787.0, 194974.0, 205281.0, 213715.0, 196982.0, 114705.0, 107239.0, 124875.0, 164423.0, 181122.0, 218835.0, 68577.0, 41731.0, 87041.0, 121382.0, 101019.0, 102367.0, 119116.0, 125231.0, 138255.0, 183187.0, 155346.0, 158916.0, 193713.0, 185446.0, 178010.0, 128793.0, 162660.0, 229197.0, 239848.0, 245132.0, 135046.0, 112030.0, 106530.0, 107613.0, 141859.0, 98469.0, 135187.0, 56081.0, 59311.0, 55087.0, 53723.0, 361960.0, 330788.0, 280335.0, 201308.0, 133623.0, 160565.0, 195260.0, 313390.0, 263391.0, 157146.0, 245038.0, 178188.0, 211153.0, 288187.0, 254650.0, 243174.0, 298038.0, 193487.0, 70393.0, 152551.0, 137197.0, 110966.0, 123457.0, 109387.0, 129052.0, 132121.0, 120098.0, 117608.0, 119772.0, 109374.0, 119772.0, 153432.0, 157304.0, 171754.0, 175526.0, 165453.0, 192190.0, 129367.0, 174170.0, 134935.0, 211291.0, 234332.0, 388265.0, 420119.0, 132447.0, 311783.0, 344904.0, 424952.0, 164839.0, 207658.0, 214997.0, 229171.0, 151902.0, 188139.0, 165991.0, 217530.0, 182979.0, 131868.0, 154227.0, 100615.0, 166895.0, 184277.0, 104879.0, 136563.0, 129608.0, 121462.0, 392127.0, 304508.0, 317584.0, 428418.0, 355413.0, 403590.0, 435289.0, 395556.0, 447908.0, 254745.0, 413118.0, 394964.0, 330820.0, 322297.0, 379768.0, 244013.0, 236620.0, 249102.0, 219813.0, 207834.0, 209406.0, 236314.0, 304969.0, 228964.0, 207363.0, 169136.0, 173449.0, 179208.0, 183594.0, 199614.0, 179532.0, 206217.0, 196290.0, 163568.0, 237830.0, 199608.0, 206314.0, 186161.0, 194381.0, 183216.0, 195628.0, 217726.0, 188933.0, 172679.0, 333083.0, 373336.0, 296337.0, 272264.0, 316306.0, 293314.0, 183687.0, 226137.0, 215642.0, 378227.0, 213454.0, 225054.0, 230802.0, 200650.0, 219133.0, 214101.0, 193733.0, 251960.0, 195769.0, 347406.0, 276721.0, 221567.0, 245230.0, 151208.0, 158417.0, 163425.0, 181706.0, 212798.0, 140336.0, 120186.0, 136204.0, 246191.0, 155299.0, 172674.0, 190969.0, 199986.0, 207158.0, 222787.0, 193514.0, 175498.0, 173961.0, 192367.0, 299470.0, 325413.0, 247462.0, 279783.0, 288052.0, 150652.0, 187606.0, 132893.0, 169065.0, 197003.0, 181902.0, 231785.0, 153888.0, 133036.0, 125297.0, 86754.0, 138934.0, 187573.0, 150063.0, 123883.0, 167977.0, 154917.0, 191160.0, 139130.0, 179438.0, 131441.0, 71443.0, 80236.0, 123504.0, 146603.0, 134642.0, 152353.0, 157367.0, 132897.0, 120679.0, 129975.0, 113903.0, 156988.0, 116922.0, 156279.0, 134216.0, 167911.0, 151694.0, 120712.0, 131979.0, 134669.0, 135671.0, 142391.0, 133053.0, 117887.0, 137834.0, 154050.0, 198049.0, 155491.0, 154790.0, 191978.0, 98990.0, 125607.0, 127115.0, 180756.0, 166561.0, 152513.0, 181194.0, 113679.0, 108198.0, 117882.0, 111021.0, 129581.0, 89196.0, 97334.0, 136146.0, 140051.0, 78908.0, 138594.0, 187301.0, 132370.0, 117834.0, 144481.0, 150214.0, 177841.0, 87051.0, 118864.0, 117675.0, 106812.0, 137677.0, 158583.0, 117018.0, 145614.0, 132799.0, 126814.0, 133448.0, 165740.0, 133207.0, 104880.0, 140709.0, 105729.0, 101866.0, 153700.0, 197430.0, 140906.0, 110330.0, 90208.0, 169343.0, 113968.0, 101269.0, 140526.0, 99575.0, 159493.0, 125456.0, 107073.0, 107691.0, 118890.0, 129420.0, 170837.0, 179414.0, 168793.0, 156018.0, 137586.0, 72741.0, 213430.0, 167030.0, 131173.0, 59646.0, 226221.0, 140227.0, 119202.0, 83295.0, 110997.0, 115936.0, 133619.0, 102238.0, 171746.0, 250172.0, 239355.0, 258738.0, 233569.0, 210516.0, 203498.0, 165257.0, 216041.0, 245174.0, 251226.0, 153719.0, 186358.0, 162832.0, 163185.0, 280084.0, 234777.0, 183664.0, 234031.0, 102221.0, 146797.0, 135729.0, 161817.0, 129984.0, 139108.0, 167785.0, 130606.0, 243082.0, 217704.0, 197314.0, 246248.0, 258102.0, 232002.0, 269811.0, 191250.0, 185327.0, 185896.0, 181492.0, 185559.0, 113329.0, 122305.0, 121630.0, 128437.0, 124423.0, 162024.0, 174018.0, 470610.0, 139880.0, 122100.0, 57628.0, 82479.0, 106879.0, 93137.0, 92638.0, 203799.0, 159574.0, 173532.0, 173298.0, 153600.0, 150740.0, 209738.0, 179915.0, 209384.0, 142103.0, 224644.0, 225711.0, 123647.0, 197507.0, 122114.0, 214424.0, 245248.0, 135415.0, 133930.0, 146358.0, 55880.0, 58335.0, 80097.0, 121837.0, 123944.0, 282236.0, 150575.0, 196386.0, 204145.0, 185183.0, 130655.0, 132340.0, 210303.0, 202746.0, 207673.0, 278204.0, 165599.0, 235543.0, 275181.0, 231410.0, 288832.0, 372146.0, 121992.0, 134072.0, 89099.0, 114295.0, 88698.0, 92361.0, 154771.0, 216198.0, 185479.0, 177244.0, 100492.0, 117474.0, 158066.0, 115192.0, 107991.0, 160987.0, 171018.0, 192755.0, 247467.0, 181884.0, 192651.0, 176818.0, 176208.0, 218298.0, 282713.0, 256321.0, 159657.0, 133243.0, 448806.0, 470824.0, 395066.0, 427057.0, 392316.0, 300033.0, 403435.0, 151247.0, 189021.0, 227284.0, 257666.0, 177430.0, 137089.0, 109590.0, 172094.0, 102427.0, 112162.0, 105816.0, 97419.0, 107004.0, 122941.0, 166211.0, 104295.0, 158046.0, 376874.0, 241187.0, 296071.0, 405513.0, 337874.0, 367532.0, 350082.0, 331224.0, 387696.0, 343488.0, 386500.0, 284394.0, 304482.0, 326580.0, 296026.0, 184915.0, 183142.0, 182823.0, 245395.0, 189291.0, 197210.0, 194959.0, 193500.0, 198703.0, 194483.0, 183889.0, 201012.0, 283599.0, 297317.0, 382888.0, 298264.0, 442439.0, 323991.0, 298028.0, 267764.0, 297672.0, 196071.0, 208700.0, 330584.0, 194803.0, 166064.0, 206603.0, 140200.0, 203735.0, 192256.0, 181158.0, 207346.0, 163834.0, 156946.0, 163115.0, 123619.0, 111555.0, 144933.0, 106541.0, 110713.0, 110392.0, 130984.0, 97550.0, 128831.0, 258416.0, 396191.0, 156961.0, 154485.0, 175211.0, 141336.0, 238247.0, 218137.0, 154771.0, 168849.0, 116919.0, 160232.0, 140704.0, 127806.0, 128695.0, 141945.0, 186150.0, 190509.0, 152647.0, 143642.0, 124320.0, 147589.0, 142396.0, 147395.0, 136440.0, 141479.0, 120421.0, 131985.0, 135335.0, 137388.0, 147422.0, 170341.0, 171791.0, 176525.0, 149941.0, 143559.0, 150079.0, 113650.0, 151264.0, 108427.0, 145620.0, 211739.0, 156985.0, 211384.0, 135825.0, 108692.0, 93507.0, 116138.0, 167630.0, 153866.0, 130574.0, 123512.0, 169739.0, 146820.0, 233888.0, 114731.0, 91862.0, 147998.0, 165540.0, 120188.0, 102265.0, 95212.0, 202007.0, 149149.0, 123269.0, 141410.0, 154471.0, 105443.0, 135192.0, 104958.0, 88588.0, 107792.0, 123431.0, 142368.0, 156706.0, 75032.0, 114593.0, 85779.0, 165077.0, 122939.0, 122008.0, 62127.0, 118357.0, 123138.0, 119222.0, 104008.0, 171727.0, 100848.0, 101621.0, 77806.0, 85777.0, 133469.0, 150825.0, 112851.0, 93766.0, 96397.0, 180053.0, 162984.0, 126074.0, 130958.0, 171329.0, 185646.0, 163730.0, 156207.0, 108665.0, 196178.0, 177628.0, 124591.0, 208354.0, 132484.0, 139988.0, 148739.0, 241196.0, 179144.0, 142486.0, 139785.0, 118008.0, 237936.0, 192017.0, 232092.0, 189151.0, 223406.0, 331662.0, 232106.0, 234996.0, 201950.0, 153069.0, 144339.0, 194711.0, 193420.0, 204107.0, 243726.0, 160859.0, 146705.0, 108571.0, 214071.0, 241678.0, 210149.0, 198539.0, 263728.0, 204639.0, 210714.0, 253133.0, 148255.0, 190888.0, 206171.0, 193517.0, 198515.0, 104163.0, 134006.0, 119138.0, 200266.0, 144262.0, 263319.0, 129759.0, 130453.0, 107666.0, 94566.0, 82403.0, 110220.0, 92028.0, 33209.0, 88027.0, 127627.0, 94235.0, 151987.0, 148657.0, 147396.0, 150342.0, 115250.0, 163381.0, 191461.0, 196841.0, 194383.0, 177947.0, 237265.0, 98207.0, 143941.0, 61420.0, 80572.0, 130502.0, 26269.0, 59165.0, 43821.0, 361698.0, 307551.0, 207186.0, 128137.0, 216486.0, 158374.0, 202024.0, 194333.0, 314964.0, 341438.0, 64457.0, 187079.0, 127598.0, 126664.0, 130442.0, 75807.0, 80896.0, 163374.0, 72560.0, 78585.0, 79147.0, 72483.0, 152198.0, 107621.0, 209052.0]\n"
     ]
    }
   ],
   "source": [
    "data_test_final_ = data_test_final.to_numpy()\n",
    "model.eval()\n",
    "res = []\n",
    "with torch.no_grad():\n",
    "    # Test out inference with 5 samples\n",
    "    for i in range(1459):\n",
    "        X_sample = data_test_final_[i: i+1]\n",
    "        X_sample = torch.tensor(X_sample, dtype=torch.float32)\n",
    "        y_pred = model(X_sample)\n",
    "        res.append(round(y_pred.numpy()[0][0]))\n",
    "\n",
    "print(res)"
   ]
  },
  {
   "cell_type": "code",
   "execution_count": null,
   "metadata": {},
   "outputs": [],
   "source": [
    "df_res = zip(list(np.arange(1461, 5000)), res)\n",
    "df = pd.DataFrame(df_res, columns=['Id', 'SalePrice'])\n",
    "df.to_csv('res.csv', index=None)"
   ]
  }
 ],
 "metadata": {
  "kernelspec": {
   "display_name": "base",
   "language": "python",
   "name": "python3"
  },
  "language_info": {
   "codemirror_mode": {
    "name": "ipython",
    "version": 3
   },
   "file_extension": ".py",
   "mimetype": "text/x-python",
   "name": "python",
   "nbconvert_exporter": "python",
   "pygments_lexer": "ipython3",
   "version": "3.8.3"
  },
  "orig_nbformat": 4
 },
 "nbformat": 4,
 "nbformat_minor": 2
}
